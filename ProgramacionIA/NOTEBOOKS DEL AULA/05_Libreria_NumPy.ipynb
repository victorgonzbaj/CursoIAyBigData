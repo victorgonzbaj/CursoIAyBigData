{
 "cells": [
  {
   "cell_type": "markdown",
   "metadata": {},
   "source": [
    "# <a id='toc1_'></a>[Libreria NUMPY - Paso a Paso](#toc0_)"
   ]
  },
  {
   "cell_type": "markdown",
   "metadata": {},
   "source": [
    "<img src=\"./img/logoNumpy.png\">"
   ]
  },
  {
   "cell_type": "markdown",
   "metadata": {},
   "source": [
    "NumPy es la biblioteca central para el cálculo científico en Python. El objeto central de la librería NumPy es el **array NumPy**.    \n",
    "El array NumPy es un objeto multidimensional de alto rendimiento, diseñado específicamente para realizar operaciones matemáticas, álgebra lineal y cálculos de probabilidad.    \n",
    "\n",
    "Usar un array NumPy es normalmente mucho más rápido y necesita menos código que usar una lista Python.    \n",
    "Una gran parte de la biblioteca NumPy esta desarrollada en código C. Esta es una de las razones por las que NumPy es tan rápido."
   ]
  },
  {
   "cell_type": "markdown",
   "metadata": {},
   "source": [
    "**Tabla de contenidos**<a id='toc0_'></a>    \n",
    "- [Libreria NUMPY - Paso a Paso](#toc1_)    \n",
    "    - [- Centrado en los \"ARRAYS\"](#toc1_1_1_)    \n",
    "    - [- Métodos básicos](#toc1_1_2_)    \n",
    "    - [- Array vs. List](#toc1_1_3_)    \n",
    "    - [- Producto escalar (Dot Product)](#toc1_1_4_)    \n",
    "    - [- Comparativa velocidad entre array y list](#toc1_1_5_)    \n",
    "    - [- Arrays multidimensionales](#toc1_1_6_)    \n",
    "    - [- Indexado y 'Slicing'](#toc1_1_7_)    \n",
    "    - [- Indexado booleano](#toc1_1_8_)    \n",
    "    - [- \"Reshaping\" - Cambiando el tamaño y la forma a nuestra array](#toc1_1_9_)    \n",
    "    - [- Concatenación y división de arrays](#toc1_1_10_)    \n",
    "    - [- Broadcasting](#toc1_1_11_)    \n",
    "    - [- Funciones y su aplicación sobre los ejes](#toc1_1_12_)    \n",
    "    - [- Tipos de datos](#toc1_1_13_)    \n",
    "    - [- Copiar](#toc1_1_14_)    \n",
    "    - [- Generación de matrices \"especiales\"](#toc1_1_15_)    \n",
    "    - [- Numeros aleatorios](#toc1_1_16_)    \n",
    "    - [- Algebra Lineal (Autovalores (Valores propios o Eigenvalues) / Sistemas lineales)](#toc1_1_17_)    \n",
    "    - [- Carga de ficheros con Numpy](#toc1_1_18_)    \n",
    "    - [- EJERCICIOS PROPUESTOS](#toc1_1_19_)\n",
    "\n",
    "<!-- vscode-jupyter-toc-config\n",
    "\tnumbering=false\n",
    "\tanchor=true\n",
    "\tflat=false\n",
    "\tminLevel=1\n",
    "\tmaxLevel=6\n",
    "\t/vscode-jupyter-toc-config -->\n",
    "<!-- THIS CELL WILL BE REPLACED ON TOC UPDATE. DO NOT WRITE YOUR TEXT IN THIS CELL -->"
   ]
  },
  {
   "cell_type": "code",
   "execution_count": 5,
   "metadata": {},
   "outputs": [],
   "source": [
    "import numpy as np"
   ]
  },
  {
   "cell_type": "code",
   "execution_count": 6,
   "metadata": {},
   "outputs": [
    {
     "data": {
      "text/plain": [
       "'2.0.2'"
      ]
     },
     "execution_count": 6,
     "metadata": {},
     "output_type": "execute_result"
    }
   ],
   "source": [
    "np.__version__"
   ]
  },
  {
   "cell_type": "markdown",
   "metadata": {},
   "source": [
    "### <a id='toc1_1_1_'></a>[- Centrado en los \"ARRAYS\"](#toc0_)"
   ]
  },
  {
   "cell_type": "code",
   "execution_count": 7,
   "metadata": {},
   "outputs": [
    {
     "name": "stdout",
     "output_type": "stream",
     "text": [
      "[1 2 3 4 5]\n",
      "(5,)\n",
      "int64\n",
      "1\n",
      "5\n",
      "8\n",
      "40\n"
     ]
    }
   ],
   "source": [
    "a = np.array([1,2,3,4,5])\n",
    "print(a) # [1 2 3 4 5]\n",
    "print(a.shape) # \"forma\" del array: (5,)\n",
    "print(a.dtype) # tipo de dato de los elementos: int32\n",
    "print(a.ndim) # número de dimensiones: 1\n",
    "print(a.size) # tamaño - número de elementos: 5\n",
    "print(a.itemsize) # tamaño - en bytes de cada elemento del array: 8\n",
    "print(a.nbytes) # tamaño - en bytes del array: 8 bytes * 5 elementos = 40 bytes"
   ]
  },
  {
   "cell_type": "code",
   "execution_count": 8,
   "metadata": {},
   "outputs": [
    {
     "name": "stdout",
     "output_type": "stream",
     "text": [
      "[ 2 71  0 19]\n",
      "1\n",
      "2\n",
      "(array([0, 1, 3]),)\n"
     ]
    }
   ],
   "source": [
    "a = np.array([2,71,0,19])\n",
    "print(a)\n",
    "print(a.argmax())    # índice del valor más alto\n",
    "print(a.argmin())    # índice del valor más bajo\n",
    "print(a.nonzero())   # retorna los índices de los elementos distintos a 0"
   ]
  },
  {
   "cell_type": "code",
   "execution_count": 9,
   "metadata": {},
   "outputs": [
    {
     "name": "stdout",
     "output_type": "stream",
     "text": [
      "[ 2  9 10 17]\n"
     ]
    }
   ],
   "source": [
    "# ordenar un array\n",
    "a = np.array([10,2,9,17])\n",
    "a.sort()\n",
    "print(a)"
   ]
  },
  {
   "cell_type": "markdown",
   "metadata": {},
   "source": [
    "### <a id='toc1_1_2_'></a>[- Métodos básicos](#toc0_)"
   ]
  },
  {
   "cell_type": "code",
   "execution_count": 10,
   "metadata": {},
   "outputs": [
    {
     "name": "stdout",
     "output_type": "stream",
     "text": [
      "1\n",
      "[5 2 3]\n",
      "[10  0  6]\n",
      "10\n"
     ]
    }
   ],
   "source": [
    "a = np.array([1,2,3])\n",
    "\n",
    "# acceso y cambio de elementos\n",
    "print(a[0]) # 1\n",
    "a[0] = 5\n",
    "print(a) # [5 2 3]\n",
    "\n",
    "# operaciones matemáticas elemento a elemento\n",
    "b = a * np.array([2,0,2])\n",
    "print(b) # [10  0  6]\n",
    "\n",
    "print(a.sum()) # 10"
   ]
  },
  {
   "cell_type": "markdown",
   "metadata": {},
   "source": [
    "### <a id='toc1_1_3_'></a>[- Array vs. List](#toc0_)"
   ]
  },
  {
   "cell_type": "code",
   "execution_count": 11,
   "metadata": {},
   "outputs": [
    {
     "name": "stdout",
     "output_type": "stream",
     "text": [
      "[1, 2, 3]\n",
      "[1 2 3]\n",
      "[1, 2, 3, 4, 5]\n",
      "[5 6 7]\n",
      "[5 6 7]\n",
      "[1, 2, 3, 4, 1, 2, 3, 4]\n",
      "[2 4 6]\n",
      "[1, 4, 9, 16]\n",
      "[1, 4, 9, 16]\n",
      "[1 4 9]\n",
      "[1.         1.41421356 1.73205081]\n",
      "[0.         0.69314718 1.09861229]\n"
     ]
    }
   ],
   "source": [
    "l = [1,2,3]\n",
    "a = np.array([1,2,3]) # crear array partiendo de una lista\n",
    "print(l) # [1, 2, 3]\n",
    "print(a) # [1 2 3]\n",
    "\n",
    "# añadir nuevos elementos\n",
    "l.append(4)\n",
    "#a.append(4) error: el tamaño de un array es fijo\n",
    "\n",
    "# se puede añadir elementos pero, básicamente, lo que hacemos es crear nuevos arrays\n",
    "l2 = l + [5]\n",
    "print(l2) # [1, 2, 3, 4, 5]\n",
    "\n",
    "a2 = a + np.array([4])\n",
    "print(a2) # esto se conoce como \"broadcasting\". Suma 4 a cada elemento\n",
    "# -> [5 6 7]\n",
    "\n",
    "# suma vectorial (esto es técnicamente más correcto que el broadcasting)\n",
    "a3 = a + np.array([4,4,4])\n",
    "print(a3) # [5 6 7]\n",
    "\n",
    "#a3 = a + np.array([4,5]) # error, no se pueden sumar vectores de tamaños distintos\n",
    "\n",
    "# multiplicación\n",
    "l2 = 2 * l # list l repetida 2 veces, similar a ejecutar l+l\n",
    "print(l2) \n",
    "# -> [1, 2, 3, 4, 1, 2, 3, 4]\n",
    "\n",
    "a3 = 2 * a # multiplicación por cada elemento\n",
    "print(a3) \n",
    "# -> [2 4 6]\n",
    "\n",
    "# modificar cada elemento de la lista\n",
    "l2 = []\n",
    "for i in l:\n",
    "    l2.append(i**2)\n",
    "print(l2) # [1, 4, 9, 16]\n",
    "\n",
    "# o usar 'list comprehension'\n",
    "l2 = [i**2 for i in l]\n",
    "print(l2) # [1, 4, 9, 16]\n",
    "\n",
    "a2 = a**2 # -> eleva al cuadrado cada elemento\n",
    "print(a2) # [1 4 9]\n",
    "\n",
    "# Nota: una función aplicada a una matriz suele operar elemento a elemento.\n",
    "a2 = np.sqrt(a) # np.exp(a), np.tanh(a)\n",
    "print(a2) # [1. 1.41421356 1.73205081]\n",
    "a2 = np.log(a)\n",
    "print(a2) # [0. 0.69314718 1.09861229]"
   ]
  },
  {
   "cell_type": "markdown",
   "metadata": {},
   "source": [
    "### <a id='toc1_1_4_'></a>[- Producto escalar (Dot Product)](#toc0_)"
   ]
  },
  {
   "cell_type": "code",
   "execution_count": 12,
   "metadata": {},
   "outputs": [
    {
     "name": "stdout",
     "output_type": "stream",
     "text": [
      "11\n",
      "11\n",
      "[3 8]\n",
      "11\n",
      "11\n",
      "11\n",
      "11\n"
     ]
    }
   ],
   "source": [
    "a = np.array([1,2])\n",
    "b = np.array([3,4])\n",
    "\n",
    "# suma de los productos de las entradas correspondientes \n",
    "# multiplicar cada uno de los elementos correspondientes y luego tomar la suma\n",
    "\n",
    "# Modo complejo de realizar para listas\n",
    "dot = 0\n",
    "for i in range(len(a)):\n",
    "    dot += a[i] * b[i]\n",
    "print(dot) # 11\n",
    "\n",
    "# Modo fácil (con NumPy):)\n",
    "dot = np.dot(a,b)\n",
    "print(dot) # 11\n",
    "\n",
    "# paso a paso, manualmente\n",
    "c = a * b\n",
    "print(c) # [3 8]\n",
    "d = np.sum(c)\n",
    "print(d) # 11\n",
    "\n",
    "\n",
    "dot = a.dot(b)\n",
    "print(dot) # 11\n",
    "dot = (a*b).sum()\n",
    "print(dot) # 11\n",
    "\n",
    "# en nuevas versiones\n",
    "dot = a @ b\n",
    "print(dot) # 11"
   ]
  },
  {
   "cell_type": "markdown",
   "metadata": {},
   "source": [
    "### <a id='toc1_1_5_'></a>[- Comparativa velocidad entre array y list](#toc0_)"
   ]
  },
  {
   "cell_type": "code",
   "execution_count": 13,
   "metadata": {},
   "outputs": [
    {
     "name": "stdout",
     "output_type": "stream",
     "text": [
      "Tiempo con lista: 0.06974719999925583\n",
      "Tiempo con array: 0.0012091000007785624\n",
      "Ratio 57.68522037411652\n"
     ]
    }
   ],
   "source": [
    "from timeit import default_timer as timer\n",
    "\n",
    "a = np.random.randn(1000)\n",
    "b = np.random.randn(1000)\n",
    "\n",
    "A = list(a)\n",
    "B = list(b)\n",
    "\n",
    "T = 1000\n",
    "\n",
    "def dot1():\n",
    "    dot = 0\n",
    "    for i in range(len(A)):\n",
    "        dot += A[i]*B[i]\n",
    "    return dot\n",
    "\n",
    "def dot2():\n",
    "    return np.dot(a,b)\n",
    "\n",
    "start = timer()\n",
    "for t in range(T):\n",
    "    dot1()\n",
    "end = timer()\n",
    "t1 = end-start\n",
    "\n",
    "start = timer()\n",
    "for t in range(T):\n",
    "    dot2()\n",
    "end = timer()\n",
    "t2 = end-start\n",
    "\n",
    "print('Tiempo con lista:', t1) \n",
    "print('Tiempo con array:', t2) \n",
    "print('Ratio', t1/t2)         # -> x veces más veloz"
   ]
  },
  {
   "cell_type": "markdown",
   "metadata": {},
   "source": [
    "### <a id='toc1_1_6_'></a>[- Arrays multidimensionales](#toc0_)"
   ]
  },
  {
   "cell_type": "code",
   "execution_count": 14,
   "metadata": {},
   "outputs": [
    {
     "name": "stdout",
     "output_type": "stream",
     "text": [
      "[[1 2]\n",
      " [3 4]]\n",
      "(2, 2)\n",
      "[1 2]\n",
      "1\n",
      "1\n",
      "[1 3]\n",
      "[1 2]\n",
      "[1 4]\n",
      "[[1 0]\n",
      " [0 4]]\n"
     ]
    }
   ],
   "source": [
    "\n",
    "# Existe una clase 'matrix' pero no es recomendable usarla\n",
    "a = np.array([[1,2], [3,4]])\n",
    "print(a)\n",
    "# [[1 2]\n",
    "#  [3 4]]\n",
    "\n",
    "print(a.shape) # (2, 2)\n",
    "\n",
    "# Acceso a elementos\n",
    "# Primero filas y luego columnas.\n",
    "print(a[0]) # [1 2]\n",
    "print(a[0][0]) # 1\n",
    "# o\n",
    "print(a[0,0]) # 1\n",
    "\n",
    "# slicing\n",
    "print(a[:,0]) # todas las filas de la columna 0: [1 3]\n",
    "print(a[0,:]) # todas las columnas de la fila 0: [1 2]\n",
    "\n",
    "# matriz traspuesta\n",
    "a.T\n",
    "\n",
    "# matriz multiplicación\n",
    "b = np.array([[3, 4], [5,6]])\n",
    "c = a.dot(b)\n",
    "\n",
    "d = a * b # multiplicación elemento a elemento\n",
    "\n",
    "# las dimensiones internas deben ser idénticas.\n",
    "b = np.array([[1,2,3], [4,5,6]])\n",
    "# c = a.dot(b.T) genera error\n",
    "\n",
    "# determinante\n",
    "c = np.linalg.det(a)\n",
    "\n",
    "# inversa\n",
    "c = np.linalg.inv(a)\n",
    "\n",
    "# diagonal\n",
    "c = np.diag(a)\n",
    "print(c) # [1 4]\n",
    "\n",
    "# diagonal en un vector devuelve la matriz diagonal (sobrecarga función)\n",
    "c = np.diag([1,4])\n",
    "print(c)\n",
    "# [[1 0]\n",
    "#  [0 4]]"
   ]
  },
  {
   "cell_type": "markdown",
   "metadata": {},
   "source": [
    "### <a id='toc1_1_7_'></a>[- Indexado y 'Slicing'](#toc0_)"
   ]
  },
  {
   "cell_type": "markdown",
   "metadata": {},
   "source": [
    "Slicing: De forma similar a las listas de Python, con los arrays de numpy se pueden realizar Slicing.\n",
    "Dado que los arrays pueden ser multidimensionales, debes especificar una rebanada para cada \n",
    "dimensión del array:"
   ]
  },
  {
   "cell_type": "code",
   "execution_count": 15,
   "metadata": {},
   "outputs": [
    {
     "name": "stdout",
     "output_type": "stream",
     "text": [
      "[[ 1  2  3  4]\n",
      " [ 5  6  7  8]\n",
      " [ 9 10 11 12]]\n",
      "2\n",
      "[1 2 3 4]\n",
      "[1 5 9]\n",
      "[[2 3]\n",
      " [6 7]]\n",
      "12\n"
     ]
    }
   ],
   "source": [
    "a = np.array([[1,2,3,4], [5,6,7,8], [9,10,11,12]])\n",
    "print(a)\n",
    "# [[ 1  2  3  4]\n",
    "#  [ 5  6  7  8]\n",
    "#  [ 9 10 11 12]]\n",
    "\n",
    "# Indexación array de enteros\n",
    "b = a[0,1]\n",
    "print(b) # 2\n",
    "\n",
    "# Slicing (Rebanado)\n",
    "row0 = a[0,:]\n",
    "print(row0) # [1 2 3 4]\n",
    "\n",
    "col0 = a[:, 0]\n",
    "print(col0) # [1 5 9]\n",
    "\n",
    "slice_a = a[0:2,1:3]\n",
    "print(slice_a)\n",
    "# [[2 3]\n",
    "#  [6 7]]\n",
    "\n",
    "# Arrancando slicing desde el final: -1, -2 etc...\n",
    "last = a[-1,-1]\n",
    "print(last) # 12"
   ]
  },
  {
   "cell_type": "markdown",
   "metadata": {},
   "source": [
    "### <a id='toc1_1_8_'></a>[- Indexado booleano](#toc0_)"
   ]
  },
  {
   "cell_type": "code",
   "execution_count": 49,
   "metadata": {},
   "outputs": [
    {
     "name": "stdout",
     "output_type": "stream",
     "text": [
      "[[1 2]\n",
      " [3 4]\n",
      " [5 6]]\n",
      "[[False False]\n",
      " [ True  True]\n",
      " [ True  True]]\n",
      "[3 4 5 6]\n",
      "[3 4 5 6]\n",
      "[[-1 -1]\n",
      " [ 3  4]\n",
      " [ 5  6]]\n",
      "[19 41 61]\n",
      "[0 2 4]\n",
      "[10 30 50]\n"
     ]
    }
   ],
   "source": [
    "# Indexación booleana:\n",
    "a = np.array([[1,2], [3, 4], [5, 6]])\n",
    "print(a)\n",
    "# [[1 2]\n",
    "#  [3 4]\n",
    "#  [5 6]]\n",
    "\n",
    "# mismo tamaño con True o False para la condición\n",
    "bool_idx = a > 2\n",
    "print(bool_idx)\n",
    "#  [[False False]\n",
    "#   [ True  True]\n",
    "#   [ True  True]]\n",
    "\n",
    "# nota: esta es una matriz de rango 1!\n",
    "print(a[bool_idx]) # [3 4 5 6]\n",
    "\n",
    "#  Podemos hacer todo lo anterior en una sola sentencia:\n",
    "print(a[a > 2]) # [3 4 5 6]\n",
    "\n",
    "# np.where(): mismo tamaño con valores modificados\n",
    "b = np.where(a>2, a, -1)\n",
    "print(b)\n",
    "# [[-1 -1]\n",
    "#  [ 3  4]\n",
    "#  [ 5  6]]\n",
    "\n",
    "# fancy indexing: access multiple indices at once\n",
    "# indexación \"vitaminada\": acceso a varios índices a la vez\n",
    "a = np.array([10,19,30,41,50,61])\n",
    "\n",
    "b = a[[1,3,5]]\n",
    "print(b) # [19 41 61]\n",
    "\n",
    "# considera los índices en los que la condición es True\n",
    "even = np.argwhere(a%2==0).flatten()\n",
    "print(even) # [0 2 4]\n",
    "\n",
    "a_even = a[even]\n",
    "print(a_even) # [10 30 50]"
   ]
  },
  {
   "cell_type": "markdown",
   "metadata": {},
   "source": [
    "### <a id='toc1_1_9_'></a>[- \"Reshaping\" - Cambiando el tamaño y la forma a nuestra array](#toc0_)"
   ]
  },
  {
   "cell_type": "code",
   "execution_count": 17,
   "metadata": {},
   "outputs": [
    {
     "name": "stdout",
     "output_type": "stream",
     "text": [
      "[1 2 3 4 5 6]\n",
      "[[1 2 3]\n",
      " [4 5 6]]\n",
      "[[1 2]\n",
      " [3 4]\n",
      " [5 6]]\n",
      "(6,)\n",
      "[[1 2 3 4 5 6]]\n",
      "(1, 6)\n",
      "[[1]\n",
      " [2]\n",
      " [3]\n",
      " [4]\n",
      " [5]\n",
      " [6]]\n",
      "(6, 1)\n"
     ]
    }
   ],
   "source": [
    "a = np.arange(1, 7)\n",
    "print(a) # [1 2 3 4 5 6]\n",
    "\n",
    "b = a.reshape((2, 3)) # error si la forma 'no encaja'\n",
    "print(b)\n",
    "# [[1 2 3]\n",
    "#  [4 5 6]]\n",
    "\n",
    "c = a.reshape((3, 2)) # 3 filas, 2 columnas\n",
    "print(c)\n",
    "# [[1 2]\n",
    "#  [3 4]\n",
    "#  [5 6]]\n",
    "\n",
    "# 'newaxis' se usa para crear un nuevo eje en los datos\n",
    "# necesario cuando el modelo requiere que los datos se reconfiguren de determinada forma\n",
    "print(a.shape) # (6,)\n",
    "\n",
    "d = a[np.newaxis, :]\n",
    "print(d) # [[1 2 3 4 5 6]]\n",
    "print(d.shape) # (1, 6)\n",
    "\n",
    "e = a[:, np.newaxis]\n",
    "print(e)\n",
    "# [[1]\n",
    "#  [2]\n",
    "#  [3]\n",
    "#  [4]\n",
    "#  [5]\n",
    "#  [6]]\n",
    "print(e.shape) # (6, 1)"
   ]
  },
  {
   "cell_type": "markdown",
   "metadata": {},
   "source": [
    "### <a id='toc1_1_10_'></a>[- Concatenación y división de arrays](#toc0_)"
   ]
  },
  {
   "cell_type": "code",
   "execution_count": 18,
   "metadata": {},
   "outputs": [
    {
     "name": "stdout",
     "output_type": "stream",
     "text": [
      "[1 2 3 4 5 6]\n",
      "[[1 2]\n",
      " [3 4]\n",
      " [5 6]]\n",
      "[[1 2 5]\n",
      " [3 4 6]]\n",
      "[1 2 3 4 5 6 7 8]\n",
      "[[1 2 5 6]\n",
      " [3 4 7 8]]\n",
      "[[1 2 3 4]\n",
      " [5 6 7 8]]\n",
      "[[1 2]\n",
      " [3 4]\n",
      " [5 6]\n",
      " [7 8]]\n"
     ]
    }
   ],
   "source": [
    "a = np.array([[1, 2], [3, 4]])\n",
    "\n",
    "b = np.array([[5, 6]])\n",
    "\n",
    "# combinado en 1d\n",
    "c = np.concatenate((a, b), axis=None)\n",
    "print(c) # [1 2 3 4 5 6]\n",
    "\n",
    "# añadir nueva fila\n",
    "d = np.concatenate((a, b), axis=0)\n",
    "print(d)\n",
    "# [[1 2]\n",
    "#  [3 4]\n",
    "#  [5 6]]\n",
    "\n",
    "# añadir nueva columna: se debe trasponer b!!\n",
    "e = np.concatenate((a, b.T), axis=1)\n",
    "print(e)\n",
    "# [[1 2 5]\n",
    "#  [3 4 6]]\n",
    "\n",
    "# hstack: Apilar matrices en secuencia horizontalmente (por columnas). necesita una tupla\n",
    "a = np.array([1,2,3,4])\n",
    "b = np.array([5,6,7,8])\n",
    "c = np.hstack((a,b))\n",
    "print(c) # [1 2 3 4 5 6 7 8]\n",
    "\n",
    "a = np.array([[1,2], [3,4]])\n",
    "b = np.array([[5,6], [7,8]])\n",
    "c = np.hstack((a,b))\n",
    "print(c)\n",
    "# [[1 2 5 6]\n",
    "#  [3 4 7 8]]\n",
    "\n",
    "# vstack: Apilar matrices en secuencia verticalmente (por filas). necesita una tupla\n",
    "a = np.array([1,2,3,4])\n",
    "b = np.array([5,6,7,8])\n",
    "c = np.vstack((a,b))\n",
    "print(c)\n",
    "# [[1 2 3 4]\n",
    "#  [5 6 7 8]]\n",
    "\n",
    "a = np.array([[1,2], [3,4]])\n",
    "b = np.array([[5,6], [7,8]])\n",
    "c = np.vstack((a,b))\n",
    "print(c)\n",
    "# [[1 2]\n",
    "#  [3 4]\n",
    "#  [5 6]\n",
    "#  [7 8]]"
   ]
  },
  {
   "cell_type": "code",
   "execution_count": 19,
   "metadata": {},
   "outputs": [
    {
     "name": "stdout",
     "output_type": "stream",
     "text": [
      "[[ 0  1  2  3]\n",
      " [ 4  5  6  7]\n",
      " [ 8  9 10 11]\n",
      " [12 13 14 15]]\n",
      "[array([[0, 1, 2, 3],\n",
      "       [4, 5, 6, 7]]), array([[ 8,  9, 10, 11],\n",
      "       [12, 13, 14, 15]])]\n",
      "[array([[0, 1, 2, 3],\n",
      "       [4, 5, 6, 7]]), array([[ 8,  9, 10, 11]]), array([[12, 13, 14, 15]])]\n"
     ]
    }
   ],
   "source": [
    "# dividir un array\n",
    "array = np.arange(16).reshape(4,4)\n",
    "print(array)\n",
    "print(np.array_split(array,2)) # divide array en 2 partes iguales\n",
    "print(np.array_split(array,3)) # divide array en 3 partes \"iguales\""
   ]
  },
  {
   "cell_type": "code",
   "execution_count": 20,
   "metadata": {},
   "outputs": [
    {
     "name": "stdout",
     "output_type": "stream",
     "text": [
      "[[ 0  1  2  3]\n",
      " [ 4  5  6  7]\n",
      " [ 8  9 10 11]\n",
      " [12 13 14 15]]\n",
      "[array([[ 0,  1,  2,  3],\n",
      "       [ 4,  5,  6,  7],\n",
      "       [ 8,  9, 10, 11]]), array([[12, 13, 14, 15]])]\n"
     ]
    }
   ],
   "source": [
    "# dividir un array\n",
    "array = np.arange(16).reshape(4,4)\n",
    "print(array)\n",
    "print(np.array_split(array,[3], axis = 0)) # divide array, por la fila 3"
   ]
  },
  {
   "cell_type": "code",
   "execution_count": 21,
   "metadata": {},
   "outputs": [
    {
     "name": "stdout",
     "output_type": "stream",
     "text": [
      "[[ 0  1  2  3  4  5  6  7]\n",
      " [ 8  9 10 11 12 13 14 15]\n",
      " [16 17 18 19 20 21 22 23]\n",
      " [24 25 26 27 28 29 30 31]\n",
      " [32 33 34 35 36 37 38 39]\n",
      " [40 41 42 43 44 45 46 47]\n",
      " [48 49 50 51 52 53 54 55]\n",
      " [56 57 58 59 60 61 62 63]]\n",
      "[array([[0, 1, 2, 3, 4, 5, 6, 7]]), array([[ 8,  9, 10, 11, 12, 13, 14, 15],\n",
      "       [16, 17, 18, 19, 20, 21, 22, 23]]), array([[24, 25, 26, 27, 28, 29, 30, 31],\n",
      "       [32, 33, 34, 35, 36, 37, 38, 39],\n",
      "       [40, 41, 42, 43, 44, 45, 46, 47],\n",
      "       [48, 49, 50, 51, 52, 53, 54, 55],\n",
      "       [56, 57, 58, 59, 60, 61, 62, 63]])]\n",
      "[array([[ 0],\n",
      "       [ 8],\n",
      "       [16],\n",
      "       [24],\n",
      "       [32],\n",
      "       [40],\n",
      "       [48],\n",
      "       [56]]), array([[ 1,  2],\n",
      "       [ 9, 10],\n",
      "       [17, 18],\n",
      "       [25, 26],\n",
      "       [33, 34],\n",
      "       [41, 42],\n",
      "       [49, 50],\n",
      "       [57, 58]]), array([[ 3,  4,  5,  6,  7],\n",
      "       [11, 12, 13, 14, 15],\n",
      "       [19, 20, 21, 22, 23],\n",
      "       [27, 28, 29, 30, 31],\n",
      "       [35, 36, 37, 38, 39],\n",
      "       [43, 44, 45, 46, 47],\n",
      "       [51, 52, 53, 54, 55],\n",
      "       [59, 60, 61, 62, 63]])]\n"
     ]
    }
   ],
   "source": [
    "array = np.arange(64).reshape(8,8)\n",
    "print(array)\n",
    "print(np.array_split(array, [1, 3], axis = 0))  # divide array por la fila 1 y 2\n",
    "\n",
    "print(np.array_split(array, [1, 3], axis = 1))  # divide array por la columna 1 y 2\n",
    "# # axis = n_dimensions - 1"
   ]
  },
  {
   "cell_type": "markdown",
   "metadata": {},
   "source": [
    "### <a id='toc1_1_11_'></a>[- Broadcasting](#toc0_)\n",
    "\n",
    "Es un poderoso mecanismo que permite a numpy trabajar con arrays de diferentes formas al realizar operaciones aritméticas. Frecuentemente tenemos un array más pequeño y un array más grande, y queremos usar el array más pequeño varias veces para realizar alguna operación en el array más grande."
   ]
  },
  {
   "cell_type": "code",
   "execution_count": 22,
   "metadata": {},
   "outputs": [
    {
     "name": "stdout",
     "output_type": "stream",
     "text": [
      "[[ 2  2  4]\n",
      " [ 5  5  7]\n",
      " [ 8  8 10]\n",
      " [11 11 13]]\n"
     ]
    }
   ],
   "source": [
    "x = np.array([[1,2,3], [4,5,6], [7,8,9], [10, 11, 12]])\n",
    "y = np.array([1, 0, 1])\n",
    "z = x + y  # Sumamos v a cada fila de x mediante Broadcasting\n",
    "print(z) \n",
    "# [[ 2  2  4]\n",
    "#  [ 5  5  7]\n",
    "#  [ 8  8 10]\n",
    "#  [11 11 13]]"
   ]
  },
  {
   "cell_type": "markdown",
   "metadata": {},
   "source": [
    "### <a id='toc1_1_12_'></a>[- Funciones y su aplicación sobre los ejes](#toc0_)"
   ]
  },
  {
   "cell_type": "code",
   "execution_count": 23,
   "metadata": {},
   "outputs": [
    {
     "name": "stdout",
     "output_type": "stream",
     "text": [
      "210\n",
      "210\n",
      "[24 26 28 30 32 34 36]\n",
      "[ 70 140]\n",
      "15.0\n",
      "15.0\n",
      "[12. 13. 14. 15. 16. 17. 18.]\n",
      "[10. 20.]\n"
     ]
    }
   ],
   "source": [
    "a = np.array([[7,8,9,10,11,12,13], [17,18,19,20,21,22,23]])\n",
    "\n",
    "print(a.sum())          # Por defecto (sin especificar)-> 210\n",
    "print(a.sum(axis=None)) # Suma global -> 210\n",
    "\n",
    "print(a.sum(axis=0)) # a través de filas --> 1 suma por cada columna \n",
    "# -> [24 26 28 30 32 34 36]\n",
    "\n",
    "print(a.sum(axis=1)) # a través de columnas --> 1 suma por cada fila\n",
    "# -> [ 70 140]\n",
    "\n",
    "\n",
    "print(a.mean())          # Por defecto (sin especificar)-> 15.0\n",
    "print(a.mean(axis=None)) # media total -> 15.0\n",
    "\n",
    "print(a.mean(axis=0)) # a través de filas -> 1 media por cada columna\n",
    "# -> [12. 13. 14. 15. 16. 17. 18.]\n",
    "\n",
    "print(a.mean(axis=1)) # a través de columnas -> 1 media por cada fila\n",
    "# -> [10. 20.]\n",
    "\n",
    "# más opciones estadísticas: std, var, min, max"
   ]
  },
  {
   "cell_type": "markdown",
   "metadata": {},
   "source": [
    "### <a id='toc1_1_13_'></a>[- Tipos de datos](#toc0_)"
   ]
  },
  {
   "cell_type": "code",
   "execution_count": 24,
   "metadata": {},
   "outputs": [
    {
     "name": "stdout",
     "output_type": "stream",
     "text": [
      "int64\n",
      "float64\n",
      "int64\n",
      "float32\n"
     ]
    }
   ],
   "source": [
    "# Dejando que Numpy elija el tipo\n",
    "x = np.array([1, 2])\n",
    "print(x.dtype) # int32\n",
    "\n",
    "# Dejando que Numpy elija el tipo\n",
    "x = np.array([1.0, 2.0])\n",
    "print(x.dtype) # float64\n",
    "\n",
    "# Forzando un tipo, especificando la cantidad de bits (precisión)\n",
    "x = np.array([1, 2], dtype=np.int64) # 8 bytes\n",
    "print(x.dtype) # int64\n",
    "\n",
    "x = np.array([1, 2], dtype=np.float32) # 4 bytes\n",
    "print(x.dtype) # float32"
   ]
  },
  {
   "cell_type": "markdown",
   "metadata": {},
   "source": [
    "### <a id='toc1_1_14_'></a>[- Copiar](#toc0_)"
   ]
  },
  {
   "cell_type": "code",
   "execution_count": 25,
   "metadata": {},
   "outputs": [
    {
     "name": "stdout",
     "output_type": "stream",
     "text": [
      "[42  2  3]\n",
      "[1 2 3]\n"
     ]
    }
   ],
   "source": [
    "a = np.array([1,2,3])\n",
    "b = a # only copies reference!\n",
    "b[0] = 42\n",
    "print(a) # [42 2 3]\n",
    "\n",
    "a = np.array([1,2,3])\n",
    "b = a.copy() # actual copy!\n",
    "b[0] = 42\n",
    "print(a) # [1 2 3]"
   ]
  },
  {
   "cell_type": "markdown",
   "metadata": {},
   "source": [
    "### <a id='toc1_1_15_'></a>[- Generación de matrices \"especiales\"](#toc0_)"
   ]
  },
  {
   "cell_type": "code",
   "execution_count": 26,
   "metadata": {},
   "outputs": [],
   "source": [
    "# ceros\n",
    "a = np.zeros((2,3)) # tamaño en tupla\n",
    "# [[0. 0. 0.]\n",
    "#  [0. 0. 0.]]\n",
    "\n",
    "# unos\n",
    "b = np.ones((2,3))\n",
    "# [[1. 1. 1.]\n",
    "#  [1. 1. 1.]]\n",
    "\n",
    "# valores concretos\n",
    "c = np.full((3,3),5.0)\n",
    "# [[5. 5. 5.]\n",
    "#  [5. 5. 5.]\n",
    "#  [5. 5. 5.]]\n",
    "\n",
    "# identidad\n",
    "d = np.eye(3) #3x3\n",
    "# [[1. 0. 0.]\n",
    "#  [0. 1. 0.]\n",
    "#  [0. 0. 1.]]\n",
    "\n",
    "# arange (intervalo)\n",
    "e = np.arange(10)\n",
    "# [0 1 2 3 4 5 6 7 8 9]\n",
    "\n",
    "# linspace (separacion proporcional de valores)\n",
    "f = np.linspace(0, 10, 5)\n",
    "# [ 0.  2.5  5.  7.5  10. ]"
   ]
  },
  {
   "cell_type": "markdown",
   "metadata": {},
   "source": [
    "### <a id='toc1_1_16_'></a>[- Numeros aleatorios](#toc0_)"
   ]
  },
  {
   "cell_type": "code",
   "execution_count": 27,
   "metadata": {},
   "outputs": [
    {
     "name": "stdout",
     "output_type": "stream",
     "text": [
      "0.009806371571407421 0.9978603080821715 0.9989295811428208\n",
      "0.20150267604198457\n",
      "[[3 6 3]\n",
      " [6 9 5]\n",
      " [5 4 3]]\n"
     ]
    }
   ],
   "source": [
    "a = np.random.random((3,2)) # distribución uniforme entre 0 y 1\n",
    "# [[0.06121857 0.10180167]\n",
    "#  [0.83321726 0.54906613]\n",
    "#  [0.94170273 0.19447411]]\n",
    "\n",
    "b = np.random.randn(3,2) # distribución normal/Gaussiana, media 0 and varianza unitaria \n",
    "# cada dimensión es un argumento!!\n",
    "# [[ 0.56759123 -0.65068333]\n",
    "#  [ 0.83445762 -0.36436185]\n",
    "#  [ 1.27150812 -0.32906051]]\n",
    "\n",
    "c = np.random.randn(10000)\n",
    "print(c.mean(), c.var(), c.std())\n",
    "# -0.0014 0.9933 0.9966\n",
    "\n",
    "d = np.random.randn(10, 3)\n",
    "print(d.mean()) # media global de todo el array: -0.1076827228882305\n",
    "\n",
    "# entero aleatorio, menor, mayor, tamaño. El mayor es exclusivo(no forma parte de la elección)\n",
    "e = np.random.randint(3,10,size=(3,3)) # si solo se pasa un parámetro, entonces desde 0-x\n",
    "print(e)\n",
    "# [[6 8 4]\n",
    "#  [3 6 3]\n",
    "#  [4 7 8]]\n",
    "\n",
    "# con entero entre 0 hasta entero exclusivo(no forma parte de la elección)\n",
    "f = np.random.choice(7, size=10)\n",
    "# [2 0 4 5 1 3 4 0 0 6]\n",
    "\n",
    "# con un array, construyendo valores aleatorios desde ese array\n",
    "g = np.random.choice([1,2,3,4], size=8)\n",
    "# [4 2 1 3 4 1 4 1]"
   ]
  },
  {
   "cell_type": "markdown",
   "metadata": {},
   "source": [
    "### <a id='toc1_1_17_'></a>[- Algebra Lineal (Autovalores (Valores propios o Eigenvalues) / Sistemas lineales)](#toc0_)"
   ]
  },
  {
   "cell_type": "markdown",
   "metadata": {},
   "source": [
    "Al hablar de vectores decimos que si tenemos un vector muy grande, con muchos componentes, existen unos algoritmos que nos permiten reducir la dimensionalidad, pero manteniendo cierta cantidad de información.\n",
    "\n",
    "Entre estos algoritmos se encuentra el PCA o \"principal components analysis\". Este algoritmo nos permite reducir la dimensionalidad de los vectores, manteniendo cierta cantidad de información.\n",
    "\n",
    "Internamente, este algoritmo usa autovalores y autovectores en ML para calcular. Lo que se intenta hacer aquí es maximizar la varianza cuando proyectamos los datos en nuevos componentes."
   ]
  },
  {
   "cell_type": "markdown",
   "metadata": {},
   "source": [
    "Más información sobre Autovalores y Autovectores: https://www.datacamp.com/es/tutorial/eigenvectors-eigenvalues\n"
   ]
  },
  {
   "cell_type": "code",
   "execution_count": 28,
   "metadata": {},
   "outputs": [
    {
     "name": "stdout",
     "output_type": "stream",
     "text": [
      "AUTOVALORES\n",
      "[-0.37228132  5.37228132]\n",
      "AUTOVECTORES\n",
      "[[-0.82456484 -0.41597356]\n",
      " [ 0.56576746 -0.90937671]]\n",
      "[-0.82456484  0.56576746]\n",
      "[-0.41597356 -0.90937671]\n",
      "VERIFICACION E-VECTOR * E-VALUE = A * E-VECTOR\n",
      "[ 0.30697009 -0.21062466] [ 0.30697009 -0.21062466]\n",
      "\n",
      "Comparación\n",
      "[ 0.30697009 -0.21062466]  ==  [ 0.30697009 -0.21062466]\n",
      "[ True False]\n",
      "Comparación con tolerancia\n",
      "True\n"
     ]
    }
   ],
   "source": [
    "# AUTOVALORES\n",
    "print(\"AUTOVALORES\")\n",
    "a = np.array([[1,2], [3,4]])\n",
    "eigenvalues, eigenvectors = np.linalg.eig(a)\n",
    "print(eigenvalues) # [5. -0.]\n",
    "\n",
    "# AUTOVECTORES\n",
    "print(\"AUTOVECTORES\")\n",
    "print(eigenvectors)\n",
    "\n",
    "print(eigenvectors[:,0]) # primer autovector\n",
    "print(eigenvectors[:,1]) # segundo autovector\n",
    "\n",
    "# VERIFICACION E-VECTOR * E-VALUE = A * E-VECTOR\n",
    "print(\"VERIFICACION E-VECTOR * E-VALUE = A * E-VECTOR\")\n",
    "d=eigenvectors[:,0] * eigenvalues[0]\n",
    "e=a @ eigenvectors[:,0] # @ es el operador de multiplicación de matrices\n",
    "print(d,e)\n",
    "print()\n",
    "# Parecen iguales, pero no lo son debido a la precisión de los cálculos en coma flotante\n",
    "print(\"Comparación\")\n",
    "print(d,\" == \",e) # [2.23606798 6.70820393] == [2.23606798 6.70820393]\n",
    "print(d==e) # [False False]\n",
    "\n",
    "# Comparación con tolerancia\n",
    "print(\"Comparación con tolerancia\")\n",
    "print(np.allclose(d,e)) # True\n"
   ]
  },
  {
   "cell_type": "code",
   "execution_count": 29,
   "metadata": {},
   "outputs": [
    {
     "name": "stdout",
     "output_type": "stream",
     "text": [
      "[1500.  700.]\n",
      "[1500.  700.]\n"
     ]
    }
   ],
   "source": [
    "# SOLUCIÓN DE SISTEMAS DE ECUACIONES LINEALES\n",
    "#     x1 + x2   = 2200\n",
    "# 1.5 x1 + 4 x2 = 5050\n",
    "# -> 2 ecuaciones y 2 incógnitas -> solución única\n",
    "A = np.array([[1, 1], [1.5, 4]]) # matriz de coeficientes\n",
    "b = np.array([2200,5050]) # vector de términos independientes\n",
    "\n",
    "# Ax = b <=> x = A-1 b\n",
    "\n",
    "# La inversa es lenta y menos precisa\n",
    "x = np.linalg.inv(A).dot(b) # no recomendado\n",
    "print(x) # [1500.  700.]\n",
    "\n",
    "# uso de 'solve' en lugar de 'inv'\n",
    "x = np.linalg.solve(A,b) # good\n",
    "print(x) # [1500.  700.]"
   ]
  },
  {
   "cell_type": "markdown",
   "metadata": {},
   "source": [
    "### <a id='toc1_1_18_'></a>[- Carga de ficheros con Numpy](#toc0_)"
   ]
  },
  {
   "cell_type": "markdown",
   "metadata": {},
   "source": [
    "Sintaxis: numpy.loadtxt('fname', delimiter=\",\", encoding=None, dtype=np.float32)\n",
    "\n",
    "\n",
    "Parámetros:\n",
    "\n",
    "\n",
    "- fname: El nombre del archivo desde el cual cargar datos.\n",
    "- delimiter (delimitador) (opcional): delimitador a tener en cuenta al crear una matriz de valores a partir de texto, el valor predeterminado es el espacio en blanco.\n",
    "- encoding (codificación) (opcional): codificación utilizada para decodificar el archivo de entrada.\n",
    "- dtype (opcional): tipo de datos de la matriz resultante"
   ]
  },
  {
   "cell_type": "markdown",
   "metadata": {},
   "source": [
    "Sintaxis: numpy.genfromtxt('fname',delimiter=\",\",missing_values=None, dtype=np.float32)\n",
    "\n",
    "\n",
    "Parámetros:\n",
    "\n",
    "\n",
    "- fname: El archivo desde el que se leerá\n",
    "- delimiter (delimitador) (opcional): delimitador a tener en cuenta al crear una matriz de valores a partir del texto, el valor predeterminado es cualquier espacio en blanco consecutivo que actúe como delimitador.\n",
    "- missing_values ​​(opcional): el conjunto de cadenas que se utilizarán en caso de que falte un valor.\n",
    "- dtype (opcional): tipo de datos de la matriz resultante"
   ]
  },
  {
   "cell_type": "code",
   "execution_count": 45,
   "metadata": {},
   "outputs": [
    {
     "ename": "SyntaxError",
     "evalue": "(unicode error) 'unicodeescape' codec can't decode bytes in position 39-40: malformed \\N character escape (4228577263.py, line 3)",
     "output_type": "error",
     "traceback": [
      "\u001b[1;36m  Cell \u001b[1;32mIn[45], line 3\u001b[1;36m\u001b[0m\n\u001b[1;33m    data = np.loadtxt('D:\\Clase\\CursoIAyBigData\\ProgramacionIA\\NOTEBOOKS DEL AULA\\datasets\\testFile.csv', delimiter=\",\",dtype=np.float32)\u001b[0m\n\u001b[1;37m                      ^\u001b[0m\n\u001b[1;31mSyntaxError\u001b[0m\u001b[1;31m:\u001b[0m (unicode error) 'unicodeescape' codec can't decode bytes in position 39-40: malformed \\N character escape\n"
     ]
    }
   ],
   "source": [
    "# 1) Carga de ficheros con np.loadtxt()\n",
    "# skiprows=1, ...\n",
    "data = np.loadtxt('D:\\Clase\\CursoIAyBigData\\ProgramacionIA\\NOTEBOOKS DEL AULA\\datasets\\testFile.csv', delimiter=\",\",dtype=np.float32)\n",
    "print(data.shape, data.dtype)\n",
    "\n",
    "# 2) Carga de ficheros con np.genfromtxt()\n",
    "# similar pero con más parámetros de configuración\n",
    "# skip_header=0, missing_values=\"---\", filling_values=0.0, ...\n",
    "data = np.genfromtxt('D:\\Clase\\CursoIAyBigData\\ProgramacionIA\\NOTEBOOKS DEL AULA\\datasets\\testFile.csv', delimiter=\",\", dtype=np.float32)\n",
    "print(data.shape)"
   ]
  },
  {
   "cell_type": "markdown",
   "metadata": {},
   "source": [
    "### <a id='toc1_1_19_'></a>[EJERCICIOS PROPUESTOS](#toc0_)\n",
    "- Ejercicios para practicar NumPy: https://github.com/rougier/numpy-100/blob/master/100_Numpy_exercises.ipynb\n",
    "- Con pistas: https://github.com/rougier/numpy-100/blob/master/100_Numpy_exercises_with_hints.md\n",
    "- Soluciones en: https://github.com/rougier/numpy-100/blob/master/100_Numpy_exercises_with_solutions.md"
   ]
  },
  {
   "cell_type": "markdown",
   "metadata": {},
   "source": [
    "- __No mires las soluciones desde el principio__. Intenta resolverlos por tu cuenta"
   ]
  },
  {
   "cell_type": "markdown",
   "metadata": {},
   "source": [
    "## <img src=\"img/by-nc.png\" width=\"200\">"
   ]
  }
 ],
 "metadata": {
  "kernelspec": {
   "display_name": ".venv",
   "language": "python",
   "name": "python3"
  },
  "language_info": {
   "codemirror_mode": {
    "name": "ipython",
    "version": 3
   },
   "file_extension": ".py",
   "mimetype": "text/x-python",
   "name": "python",
   "nbconvert_exporter": "python",
   "pygments_lexer": "ipython3",
   "version": "3.13.1"
  }
 },
 "nbformat": 4,
 "nbformat_minor": 2
}
