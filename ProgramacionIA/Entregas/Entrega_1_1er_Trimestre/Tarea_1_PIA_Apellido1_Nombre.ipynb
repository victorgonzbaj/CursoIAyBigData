{
 "nbformat": 4,
 "nbformat_minor": 0,
 "metadata": {
  "colab": {
   "name": "06-Examen_Apellido1_Nombre.ipynb",
   "provenance": [],
   "collapsed_sections": [],
   "authorship_tag": "ABX9TyMlBztaNlAmxbowl7GkH4Ru"
  },
  "kernelspec": {
   "name": "python3",
   "display_name": "Python 3"
  },
  "language_info": {
   "name": "python"
  }
 },
 "cells": [
  {
   "cell_type": "markdown",
   "metadata": {
    "id": "2HpKY32aha07"
   },
   "source": [
    "# TAREA 1 -PROGRAMACIÓN INTELIGENCIA ARTIFICIAL\n",
    "### Tarea evaluable"
   ]
  },
  {
   "cell_type": "markdown",
   "metadata": {
    "id": "EjWiBLZPaFQM"
   },
   "source": [
    "**Antes de empezar, cierra el archivo y renómbralo cambiando \"Apellido1\" por tu primer apellido y \"Nombre\" por tu nombre. Después vuelve a abrirlo y trabaja directamente sobre él.**    \n",
    "\n",
    "***NOMBRE:***"
   ]
  },
  {
   "cell_type": "markdown",
   "metadata": {
    "id": "dl2_sxL1rLqM"
   },
   "source": [
    "---\n",
    "## Previos"
   ]
  },
  {
   "cell_type": "markdown",
   "metadata": {
    "id": "nBzwPHmJrOVC"
   },
   "source": "Antes de empezar, importa todas las librerías que necesitas para trabajar:"
  },
  {
   "cell_type": "code",
   "metadata": {
    "id": "W2OKcUXnrSWx"
   },
   "source": [
    ""
   ],
   "execution_count": null,
   "outputs": []
  },
  {
   "cell_type": "markdown",
   "metadata": {
    "id": "jKx-RWxVrTvP"
   },
   "source": [
    "---\n",
    "## Ejercicio 1(0.5 ptos.)"
   ]
  },
  {
   "cell_type": "markdown",
   "metadata": {
    "id": "49hRG_zFrUTq"
   },
   "source": [
    "Genera una matriz (100 filas x 5 columnas) de números enteros aleatorios del 0 al 9 con NumPy. Muestra la siguiente información de la misma:\n",
    "\n",
    "*   Tamaño (cantidad de elementos en total)\n",
    "*   Forma\n",
    "*   Tipo (recuerda utilizar SOLO NumPy)\n",
    "*   Desviación estándar\n",
    "*   Media\n",
    "*   Mediana\n",
    "*   Todos los valores entre las filas 25 y 27 (ambas incluídas) y entre las columnas 1 y 3 (ambas incluídas)\n",
    "*   Matriz de correlación entre columnas"
   ]
  },
  {
   "cell_type": "code",
   "metadata": {
    "id": "qz-NqWPrrUiW"
   },
   "source": [
    ""
   ],
   "execution_count": null,
   "outputs": []
  },
  {
   "cell_type": "markdown",
   "metadata": {
    "id": "IHQyY4iorbDV"
   },
   "source": [
    "---\n",
    "## Ejercicio 2 (1 pto)"
   ]
  },
  {
   "cell_type": "markdown",
   "metadata": {
    "id": "znWcQDjLrb3M"
   },
   "source": "Partiendo del dataset **\"vg_sales.csv\"** y utilizando Pandas, muestra la forma de su dataframe, índice, número de filas, media por columnas, valores máximos y mínimos por columnas, mediana por columnas y la desviación típica por columnas:"
  },
  {
   "cell_type": "code",
   "metadata": {
    "id": "ra3tRJvHrcM7"
   },
   "source": [
    ""
   ],
   "execution_count": null,
   "outputs": []
  },
  {
   "cell_type": "markdown",
   "metadata": {
    "id": "35cd-RMurSpm"
   },
   "source": [
    "---\n",
    "## Ejercicio 3 (1 pto.)"
   ]
  },
  {
   "cell_type": "markdown",
   "metadata": {
    "id": "763Tb--BrTVD"
   },
   "source": [
    "Partiendo de la lista de listas \"data\" crea una matriz de NumPy.\n",
    "\n",
    "Muestra un gráfico de líneas teniendo en cuenta que la primera fila son los datos del eje X y la segunda fila son los datos del eje Y. Por último, el gráfico debe añadir lo siguiente:\n",
    "\n",
    "*   Deberá tener el título \"Gráfico de líneas\"\n",
    "*   En el eje X debe aparecer el rótulo \"Abscisas\"\n",
    "*   En el eje Y debe aparecer el rótulo \"Ordenadas\""
   ]
  },
  {
   "cell_type": "code",
   "metadata": {
    "id": "U9YRloyYrThA"
   },
   "source": [
    "data = [[0,1,2,3,4,5,6,7,8,9],[0,9,1,8,2,7,3,6,4,5]]"
   ],
   "execution_count": null,
   "outputs": []
  },
  {
   "cell_type": "markdown",
   "metadata": {
    "id": "sBjnAsUvrUzi"
   },
   "source": [
    "---\n",
    "## Ejercicio 4 (1.5 ptos.)"
   ]
  },
  {
   "cell_type": "markdown",
   "metadata": {
    "id": "lsJM0MOprVuF"
   },
   "source": [
    "Genera una matriz (50 filas x 2 columnas) de datos aleatorios entre 0 y 1 con NumPy. Muestra un gráfico de dispersión teniendo en cuenta que los datos de la primera columna serán los valores del eje X, mientras que los datos de la segunda columna serán los valores del eje Y."
   ]
  },
  {
   "cell_type": "code",
   "metadata": {
    "id": "DdQeRgJYrV-o"
   },
   "source": [
    ""
   ],
   "execution_count": null,
   "outputs": []
  },
  {
   "cell_type": "markdown",
   "metadata": {
    "id": "-M1t6ywGrWRs"
   },
   "source": [
    "---\n",
    "## Ejercicio 5 (2.5 ptos.)"
   ]
  },
  {
   "cell_type": "markdown",
   "metadata": {
    "id": "P_jL-6CfrXC9"
   },
   "source": [
    "Partimos del dataset **\"vg_sales.csv\"** importado anteriormente. Este dataset contiene una lista de videojuegos con más de 100.000 copias vendidas. En concreto tiene las siguientes columnas:\n",
    "\n",
    "*   **Rank** - Posición en el ranking de ventas\n",
    "*   **Name** - Nombre del videojuego\n",
    "*   **Platform** - Plataforma del videojuego (PC,PS4, etc.)\n",
    "*   **Year** - Año de publicación del videojuego\n",
    "*   **Genre** - Género del videojuego\n",
    "*   **Publisher** - Publicador\n",
    "*   **NA_Sales** - Ventas en Norte América (en millones)\n",
    "*   **EU_Sales** - Ventas en Europa (en millones)\n",
    "*   **JP_Sales** - Ventas en Japón (en millones)\n",
    "*   **Other_Sales** - Ventas en el resto del mundo (en millones)\n",
    "*   **Global_Sales** - Ventas totales en todo el mundo (en millones)\n",
    "\n",
    "Mostrar del contenido del dataset los siguientes apartados:\n",
    "\n",
    "*   Una descripción básica de su contenido\n",
    "*   Muestra los nombres de sus columnas\n",
    "*   Del primer elemento del dataset (primera fila), muestra un gráfico de barras comparando las ventas que ha obtenido en los siguientes campos:\n",
    "    *  NA_Sales\n",
    "    *  EU_Sales\n",
    "    *  JP_Sales\n",
    "    *  Other_Sales\n",
    "    *  Global_Sales\n",
    "\n",
    "Por último, como título del gráfico de barras muestra el nombre del videojuego al que pertenece (campo \"Name\")"
   ]
  },
  {
   "cell_type": "code",
   "metadata": {
    "id": "bpXGMds4rXTY"
   },
   "source": [
    ""
   ],
   "execution_count": null,
   "outputs": []
  },
  {
   "cell_type": "markdown",
   "metadata": {
    "id": "qmLjk4dfrXgx"
   },
   "source": [
    "---\n",
    "## Ejercicio 6 (1 pto.)"
   ]
  },
  {
   "cell_type": "markdown",
   "metadata": {
    "id": "PmnzqKBLrYUs"
   },
   "source": [
    "Partiendo del mismo dataset y juego de la primera fila del ejercicio anterior, Muestra los mismos datos que antes en la gráfica de barras (a excepción del campo \"Global_Sales\") solo que esta vez en un gráfico circular. Como título del gráfico vuelve a utilizar el nombre del videojuego. En cada porción del círculo muestra los porcentajes con el formato \"%1.1f%%\" (parámetro autopct):"
   ]
  },
  {
   "cell_type": "code",
   "metadata": {
    "id": "6v9l27LDrYmY"
   },
   "source": [
    ""
   ],
   "execution_count": null,
   "outputs": []
  },
  {
   "cell_type": "markdown",
   "metadata": {
    "id": "7f9-1mBxrcdz"
   },
   "source": [
    "---\n",
    "## Ejercicio 7 (2,5 ptos.)"
   ]
  },
  {
   "cell_type": "markdown",
   "metadata": {
    "id": "H43GzFuDrdTS"
   },
   "source": [
    "Partimos del dataset **\"IMDB_Movie_Data.csv\"** que contiene la siguiente información por columnas:\n",
    "\n",
    "*   **Rank**: Posición en el ranking\n",
    "*   **Title**: Título de la película\n",
    "*   **Genre**: Género o géneros separados por comas\n",
    "*   **Description**: Descripción corta\n",
    "*   **Director**: Nombre del director\n",
    "*   **Actors**: Actores separados por comas\n",
    "*   **Year**: Año de publicación\n",
    "*   **Runtime**: Duración (minutos)\n",
    "*   **Rating**: Media de la nota de los votos de los usuarios\n",
    "*   **Votes**: Número de votos\n",
    "*   **Revenue**: Ingresos producidos por la película (millones)\n",
    "*   **Metascrore**: Un promedio agregado de puntajes críticos. Los valores están entre 0 y 100. Las puntuaciones más altas representan críticas positivas.\n",
    "\n",
    "Analiza el dataset y resuelve las siguientes cuestiones:   \n",
    "1. Mejor taquilla y peor taquilla (Revenue (Millions)).\n",
    "2. Director con más películas y director con menos películas.\n",
    "3. Las diez películas más taquilleras.\n",
    "4. Lista de películas dirigidas por Christopher Nolan.\n",
    "5. Películas en las que interviene la actriz Anne Hathaway.\n",
    "6. Película más taquillera en la que ha intervenido Anne Hathaway.   \n",
    "\n",
    "**NOTA: Deja en el código con comentarios todo el trabajo que hagas sobre el dataset**"
   ]
  },
  {
   "cell_type": "code",
   "metadata": {
    "id": "r3AMpDmArdiq"
   },
   "source": [
    ""
   ],
   "execution_count": null,
   "outputs": []
  }
 ]
}
