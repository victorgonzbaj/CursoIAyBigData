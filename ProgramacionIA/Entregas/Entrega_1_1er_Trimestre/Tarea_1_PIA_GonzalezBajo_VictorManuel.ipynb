{
 "cells": [
  {
   "cell_type": "markdown",
   "metadata": {
    "id": "2HpKY32aha07"
   },
   "source": [
    "# TAREA 1 -PROGRAMACIÓN INTELIGENCIA ARTIFICIAL\n",
    "### Tarea evaluable"
   ]
  },
  {
   "cell_type": "markdown",
   "metadata": {
    "id": "EjWiBLZPaFQM"
   },
   "source": [
    "**Antes de empezar, cierra el archivo y renómbralo cambiando \"Apellido1\" por tu primer apellido y \"Nombre\" por tu nombre. Después vuelve a abrirlo y trabaja directamente sobre él.**    \n",
    "\n",
    "***NOMBRE:*** Victor Manuel Gonzalez Bajo"
   ]
  },
  {
   "cell_type": "markdown",
   "metadata": {
    "id": "dl2_sxL1rLqM"
   },
   "source": [
    "---\n",
    "## Previos"
   ]
  },
  {
   "cell_type": "markdown",
   "metadata": {
    "id": "nBzwPHmJrOVC"
   },
   "source": [
    "Antes de empezar, importa todas las librerías que necesitas para trabajar:"
   ]
  },
  {
   "cell_type": "code",
   "execution_count": 22,
   "metadata": {
    "id": "W2OKcUXnrSWx"
   },
   "outputs": [],
   "source": [
    "import numpy as np\n",
    "import pandas as pd\n",
    "import matplotlib.pyplot as plt\n"
   ]
  },
  {
   "cell_type": "markdown",
   "metadata": {
    "id": "jKx-RWxVrTvP"
   },
   "source": [
    "---\n",
    "## Ejercicio 1(0.5 ptos.)"
   ]
  },
  {
   "cell_type": "markdown",
   "metadata": {
    "id": "49hRG_zFrUTq"
   },
   "source": [
    "Genera una matriz (100 filas x 5 columnas) de números enteros aleatorios del 0 al 9 con NumPy. Muestra la siguiente información de la misma:\n",
    "\n",
    "*   Tamaño (cantidad de elementos en total)\n",
    "*   Forma\n",
    "*   Tipo (recuerda utilizar SOLO NumPy)\n",
    "*   Desviación estándar\n",
    "*   Media\n",
    "*   Mediana\n",
    "*   Todos los valores entre las filas 25 y 27 (ambas incluídas) y entre las columnas 1 y 3 (ambas incluídas)\n",
    "*   Matriz de correlación entre columnas"
   ]
  },
  {
   "cell_type": "code",
   "execution_count": 23,
   "metadata": {
    "id": "qz-NqWPrrUiW"
   },
   "outputs": [
    {
     "name": "stdout",
     "output_type": "stream",
     "text": [
      "[[6 1 5 2 9]\n",
      " [9 4 2 4 7]\n",
      " [1 0 2 3 9]\n",
      " [2 4 9 2 8]\n",
      " [2 7 8 4 4]\n",
      " [3 2 3 3 2]\n",
      " [7 9 1 4 0]\n",
      " [6 4 8 0 7]\n",
      " [6 8 7 5 6]\n",
      " [5 2 1 9 5]\n",
      " [3 4 3 8 1]\n",
      " [4 3 3 5 8]\n",
      " [9 1 1 9 3]\n",
      " [4 0 4 6 7]\n",
      " [3 5 0 0 1]\n",
      " [6 8 2 5 1]\n",
      " [7 0 7 4 7]\n",
      " [7 6 5 7 6]\n",
      " [4 2 3 5 3]\n",
      " [4 1 0 9 4]\n",
      " [8 8 3 5 5]\n",
      " [2 5 3 9 8]\n",
      " [0 5 8 0 0]\n",
      " [8 0 5 5 6]\n",
      " [1 2 8 6 2]\n",
      " [8 1 3 4 5]\n",
      " [1 3 1 7 4]\n",
      " [7 8 4 6 7]\n",
      " [2 9 1 5 3]\n",
      " [0 8 0 7 8]\n",
      " [6 0 3 4 2]\n",
      " [5 3 2 3 8]\n",
      " [8 4 3 8 2]\n",
      " [4 2 7 9 7]\n",
      " [2 4 8 4 1]\n",
      " [1 5 1 0 5]\n",
      " [5 6 4 9 2]\n",
      " [1 2 8 0 8]\n",
      " [5 4 8 7 5]\n",
      " [5 7 7 3 8]\n",
      " [6 9 8 2 9]\n",
      " [3 9 8 2 5]\n",
      " [7 5 8 5 2]\n",
      " [5 9 2 6 4]\n",
      " [9 7 9 8 8]\n",
      " [2 6 2 6 3]\n",
      " [7 0 2 6 7]\n",
      " [4 2 9 7 5]\n",
      " [4 5 1 8 1]\n",
      " [6 8 9 3 0]\n",
      " [2 1 7 0 3]\n",
      " [4 0 2 6 9]\n",
      " [6 7 5 5 7]\n",
      " [8 8 7 3 8]\n",
      " [8 7 1 0 2]\n",
      " [9 3 0 6 7]\n",
      " [9 5 1 3 7]\n",
      " [5 0 4 0 6]\n",
      " [3 4 1 1 8]\n",
      " [6 0 2 7 2]\n",
      " [8 7 0 7 1]\n",
      " [8 7 3 8 7]\n",
      " [6 6 5 4 2]\n",
      " [0 0 3 7 4]\n",
      " [3 1 3 5 2]\n",
      " [2 1 1 8 4]\n",
      " [8 2 1 9 8]\n",
      " [2 9 7 7 9]\n",
      " [3 9 1 9 2]\n",
      " [2 3 3 5 7]\n",
      " [4 5 4 7 1]\n",
      " [3 1 7 5 1]\n",
      " [1 2 2 6 2]\n",
      " [2 5 0 5 0]\n",
      " [5 2 4 1 1]\n",
      " [9 3 7 7 9]\n",
      " [1 7 4 5 2]\n",
      " [9 6 9 5 7]\n",
      " [5 8 7 1 4]\n",
      " [0 2 8 7 2]\n",
      " [2 1 5 9 0]\n",
      " [9 3 5 7 0]\n",
      " [5 6 9 5 7]\n",
      " [0 9 2 1 9]\n",
      " [2 8 7 7 5]\n",
      " [0 0 6 3 5]\n",
      " [2 2 6 9 5]\n",
      " [6 5 8 0 7]\n",
      " [2 9 6 8 9]\n",
      " [2 9 5 7 2]\n",
      " [1 3 0 6 6]\n",
      " [3 6 8 9 7]\n",
      " [8 0 5 9 3]\n",
      " [5 4 6 2 2]\n",
      " [6 3 7 8 3]\n",
      " [6 9 7 0 9]\n",
      " [4 0 1 2 8]\n",
      " [8 9 5 7 6]\n",
      " [8 9 2 9 6]\n",
      " [9 8 1 5 6]]\n"
     ]
    }
   ],
   "source": [
    "matriz_10x5 = np.random.randint(0, 10, size=(100, 5))\n",
    "print(matriz_10x5)"
   ]
  },
  {
   "cell_type": "code",
   "execution_count": 24,
   "metadata": {},
   "outputs": [
    {
     "name": "stdout",
     "output_type": "stream",
     "text": [
      "Tamaño (cantidad de elementos en total): 500\n",
      "Forma: (100, 5)\n",
      "Tipo: int32\n",
      "Desviación estándar: 2.8489605121868573\n",
      "Media: 4.632\n",
      "Mediana: 5.0\n",
      "Valores entre las filas 25 y 27 y columnas 1 y 3: [[1 3 4]\n",
      " [3 1 7]\n",
      " [8 4 6]]\n",
      "Matriz de correlación entre columnas:\n",
      "[[ 1.          0.1013313  -0.01962853  0.08807193  0.12353747]\n",
      " [ 0.1013313   1.          0.1024329  -0.04304614  0.0484341 ]\n",
      " [-0.01962853  0.1024329   1.         -0.16386007  0.12142373]\n",
      " [ 0.08807193 -0.04304614 -0.16386007  1.         -0.1078326 ]\n",
      " [ 0.12353747  0.0484341   0.12142373 -0.1078326   1.        ]]\n"
     ]
    }
   ],
   "source": [
    "print(\"Tamaño (cantidad de elementos en total):\", matriz_10x5.size)\n",
    "print(\"Forma:\", matriz_10x5.shape)\n",
    "print(\"Tipo:\", matriz_10x5.dtype)\n",
    "print(\"Desviación estándar:\", np.std(matriz_10x5))\n",
    "print(\"Media:\", np.mean(matriz_10x5))\n",
    "print(\"Mediana:\", np.median(matriz_10x5))\n",
    "print(\"Valores entre las filas 25 y 27 y columnas 1 y 3:\",matriz_10x5[25:28, 1:4])\n",
    "print(\"Matriz de correlación entre columnas:\")\n",
    "print(np.corrcoef(matriz_10x5, rowvar=False))\n"
   ]
  },
  {
   "cell_type": "markdown",
   "metadata": {
    "id": "IHQyY4iorbDV"
   },
   "source": [
    "---\n",
    "## Ejercicio 2 (1 pto)"
   ]
  },
  {
   "cell_type": "markdown",
   "metadata": {
    "id": "znWcQDjLrb3M"
   },
   "source": [
    "Partiendo del dataset **\"vg_sales.csv\"** y utilizando Pandas, muestra la forma de su dataframe, índice, número de filas, media por columnas, valores máximos y mínimos por columnas, mediana por columnas y la desviación típica por columnas:"
   ]
  },
  {
   "cell_type": "code",
   "execution_count": 25,
   "metadata": {
    "id": "ra3tRJvHrcM7"
   },
   "outputs": [
    {
     "data": {
      "text/html": [
       "<div>\n",
       "<style scoped>\n",
       "    .dataframe tbody tr th:only-of-type {\n",
       "        vertical-align: middle;\n",
       "    }\n",
       "\n",
       "    .dataframe tbody tr th {\n",
       "        vertical-align: top;\n",
       "    }\n",
       "\n",
       "    .dataframe thead th {\n",
       "        text-align: right;\n",
       "    }\n",
       "</style>\n",
       "<table border=\"1\" class=\"dataframe\">\n",
       "  <thead>\n",
       "    <tr style=\"text-align: right;\">\n",
       "      <th></th>\n",
       "      <th>Rank</th>\n",
       "      <th>Name</th>\n",
       "      <th>Platform</th>\n",
       "      <th>Year</th>\n",
       "      <th>Genre</th>\n",
       "      <th>Publisher</th>\n",
       "      <th>NA_Sales</th>\n",
       "      <th>EU_Sales</th>\n",
       "      <th>JP_Sales</th>\n",
       "      <th>Other_Sales</th>\n",
       "      <th>Global_Sales</th>\n",
       "    </tr>\n",
       "  </thead>\n",
       "  <tbody>\n",
       "    <tr>\n",
       "      <th>0</th>\n",
       "      <td>1</td>\n",
       "      <td>Wii Sports</td>\n",
       "      <td>Wii</td>\n",
       "      <td>2006.0</td>\n",
       "      <td>Sports</td>\n",
       "      <td>Nintendo</td>\n",
       "      <td>41.49</td>\n",
       "      <td>29.02</td>\n",
       "      <td>3.77</td>\n",
       "      <td>8.46</td>\n",
       "      <td>82.74</td>\n",
       "    </tr>\n",
       "    <tr>\n",
       "      <th>1</th>\n",
       "      <td>2</td>\n",
       "      <td>Super Mario Bros.</td>\n",
       "      <td>NES</td>\n",
       "      <td>1985.0</td>\n",
       "      <td>Platform</td>\n",
       "      <td>Nintendo</td>\n",
       "      <td>29.08</td>\n",
       "      <td>3.58</td>\n",
       "      <td>6.81</td>\n",
       "      <td>0.77</td>\n",
       "      <td>40.24</td>\n",
       "    </tr>\n",
       "    <tr>\n",
       "      <th>2</th>\n",
       "      <td>3</td>\n",
       "      <td>Mario Kart Wii</td>\n",
       "      <td>Wii</td>\n",
       "      <td>2008.0</td>\n",
       "      <td>Racing</td>\n",
       "      <td>Nintendo</td>\n",
       "      <td>15.85</td>\n",
       "      <td>12.88</td>\n",
       "      <td>3.79</td>\n",
       "      <td>3.31</td>\n",
       "      <td>35.82</td>\n",
       "    </tr>\n",
       "    <tr>\n",
       "      <th>3</th>\n",
       "      <td>4</td>\n",
       "      <td>Wii Sports Resort</td>\n",
       "      <td>Wii</td>\n",
       "      <td>2009.0</td>\n",
       "      <td>Sports</td>\n",
       "      <td>Nintendo</td>\n",
       "      <td>15.75</td>\n",
       "      <td>11.01</td>\n",
       "      <td>3.28</td>\n",
       "      <td>2.96</td>\n",
       "      <td>33.00</td>\n",
       "    </tr>\n",
       "    <tr>\n",
       "      <th>4</th>\n",
       "      <td>5</td>\n",
       "      <td>Pokemon Red/Pokemon Blue</td>\n",
       "      <td>GB</td>\n",
       "      <td>1996.0</td>\n",
       "      <td>Role-Playing</td>\n",
       "      <td>Nintendo</td>\n",
       "      <td>11.27</td>\n",
       "      <td>8.89</td>\n",
       "      <td>10.22</td>\n",
       "      <td>1.00</td>\n",
       "      <td>31.37</td>\n",
       "    </tr>\n",
       "  </tbody>\n",
       "</table>\n",
       "</div>"
      ],
      "text/plain": [
       "   Rank                      Name Platform    Year         Genre Publisher  \\\n",
       "0     1                Wii Sports      Wii  2006.0        Sports  Nintendo   \n",
       "1     2         Super Mario Bros.      NES  1985.0      Platform  Nintendo   \n",
       "2     3            Mario Kart Wii      Wii  2008.0        Racing  Nintendo   \n",
       "3     4         Wii Sports Resort      Wii  2009.0        Sports  Nintendo   \n",
       "4     5  Pokemon Red/Pokemon Blue       GB  1996.0  Role-Playing  Nintendo   \n",
       "\n",
       "   NA_Sales  EU_Sales  JP_Sales  Other_Sales  Global_Sales  \n",
       "0     41.49     29.02      3.77         8.46         82.74  \n",
       "1     29.08      3.58      6.81         0.77         40.24  \n",
       "2     15.85     12.88      3.79         3.31         35.82  \n",
       "3     15.75     11.01      3.28         2.96         33.00  \n",
       "4     11.27      8.89     10.22         1.00         31.37  "
      ]
     },
     "execution_count": 25,
     "metadata": {},
     "output_type": "execute_result"
    }
   ],
   "source": [
    "df_vgSales = pd.read_csv(\"vg_sales.csv\")\n",
    "df_vgSales.head()"
   ]
  },
  {
   "cell_type": "code",
   "execution_count": 26,
   "metadata": {},
   "outputs": [
    {
     "name": "stdout",
     "output_type": "stream",
     "text": [
      "Forma del DataFrame (filas, columnas): (16598, 11)\n",
      "Índice del DataFrame: RangeIndex(start=0, stop=16598, step=1)\n",
      "Número de filas: 16598\n",
      "Media por columnas:\n",
      "Rank            8300.605254\n",
      "Year            2006.406443\n",
      "NA_Sales           0.264667\n",
      "EU_Sales           0.146652\n",
      "JP_Sales           0.077782\n",
      "Other_Sales        0.048063\n",
      "Global_Sales       0.537441\n",
      "dtype: float64\n"
     ]
    }
   ],
   "source": [
    "print(\"Forma del DataFrame (filas, columnas):\", df_vgSales.shape)\n",
    "\n",
    "print(\"Índice del DataFrame:\", df_vgSales.index)\n",
    "\n",
    "print(\"Número de filas:\", len(df_vgSales))\n",
    "\n",
    "print(\"Media por columnas:\")\n",
    "print(df_vgSales.mean(numeric_only=True))"
   ]
  },
  {
   "cell_type": "code",
   "execution_count": 27,
   "metadata": {},
   "outputs": [
    {
     "name": "stdout",
     "output_type": "stream",
     "text": [
      "Valores máximos por columnas:\n",
      "Rank            16600.00\n",
      "Year             2020.00\n",
      "NA_Sales           41.49\n",
      "EU_Sales           29.02\n",
      "JP_Sales           10.22\n",
      "Other_Sales        10.57\n",
      "Global_Sales       82.74\n",
      "dtype: float64\n",
      "Valores mínimos por columnas:\n",
      "Rank               1.00\n",
      "Year            1980.00\n",
      "NA_Sales           0.00\n",
      "EU_Sales           0.00\n",
      "JP_Sales           0.00\n",
      "Other_Sales        0.00\n",
      "Global_Sales       0.01\n",
      "dtype: float64\n"
     ]
    }
   ],
   "source": [
    "print(\"Valores máximos por columnas:\")\n",
    "print(df_vgSales.max(numeric_only=True))\n",
    "\n",
    "print(\"Valores mínimos por columnas:\")\n",
    "print(df_vgSales.min(numeric_only=True))"
   ]
  },
  {
   "cell_type": "code",
   "execution_count": 28,
   "metadata": {},
   "outputs": [
    {
     "name": "stdout",
     "output_type": "stream",
     "text": [
      "\n",
      "Mediana por columnas:\n",
      "Rank            8300.50\n",
      "Year            2007.00\n",
      "NA_Sales           0.08\n",
      "EU_Sales           0.02\n",
      "JP_Sales           0.00\n",
      "Other_Sales        0.01\n",
      "Global_Sales       0.17\n",
      "dtype: float64\n",
      "\n",
      "Desviación típica por columnas:\n",
      "Rank            4791.853933\n",
      "Year               5.828981\n",
      "NA_Sales           0.816683\n",
      "EU_Sales           0.505351\n",
      "JP_Sales           0.309291\n",
      "Other_Sales        0.188588\n",
      "Global_Sales       1.555028\n",
      "dtype: float64\n"
     ]
    }
   ],
   "source": [
    "print(\"\\nMediana por columnas:\")\n",
    "print(df_vgSales.median(numeric_only=True))\n",
    "\n",
    "\n",
    "print(\"\\nDesviación típica por columnas:\")\n",
    "print(df_vgSales.std(numeric_only=True))"
   ]
  },
  {
   "cell_type": "markdown",
   "metadata": {
    "id": "35cd-RMurSpm"
   },
   "source": [
    "---\n",
    "## Ejercicio 3 (1 pto.)"
   ]
  },
  {
   "cell_type": "markdown",
   "metadata": {
    "id": "763Tb--BrTVD"
   },
   "source": [
    "Partiendo de la lista de listas \"data\" crea una matriz de NumPy.\n",
    "\n",
    "Muestra un gráfico de líneas teniendo en cuenta que la primera fila son los datos del eje X y la segunda fila son los datos del eje Y. Por último, el gráfico debe añadir lo siguiente:\n",
    "\n",
    "*   Deberá tener el título \"Gráfico de líneas\"\n",
    "*   En el eje X debe aparecer el rótulo \"Abscisas\"\n",
    "*   En el eje Y debe aparecer el rótulo \"Ordenadas\""
   ]
  },
  {
   "cell_type": "code",
   "execution_count": 29,
   "metadata": {
    "id": "U9YRloyYrThA"
   },
   "outputs": [],
   "source": [
    "data = [[0,1,2,3,4,5,6,7,8,9],[0,9,1,8,2,7,3,6,4,5]]"
   ]
  },
  {
   "cell_type": "code",
   "execution_count": 30,
   "metadata": {},
   "outputs": [
    {
     "name": "stdout",
     "output_type": "stream",
     "text": [
      "[[0 1 2 3 4 5 6 7 8 9]\n",
      " [0 9 1 8 2 7 3 6 4 5]]\n"
     ]
    }
   ],
   "source": [
    "#Crear la matriz\n",
    "matriz_data = np.array(data)\n",
    "print(matriz_data)"
   ]
  },
  {
   "cell_type": "code",
   "execution_count": 31,
   "metadata": {},
   "outputs": [],
   "source": [
    "#Sacar valores eje x y eje y\n",
    "x = matriz_data[0, :]\n",
    "y = matriz_data[1, :]"
   ]
  },
  {
   "cell_type": "code",
   "execution_count": 32,
   "metadata": {},
   "outputs": [
    {
     "data": {
      "image/png": "[encoded data removed]",
      "text/plain": [
       "<Figure size 640x480 with 1 Axes>"
      ]
     },
     "metadata": {},
     "output_type": "display_data"
    }
   ],
   "source": [
    "#Crear el Grafico\n",
    "plt.plot(x, y, marker='o')\n",
    "\n",
    "plt.title(\"Gráfico de líneas\")\n",
    "plt.xlabel(\"Abscisas\")\n",
    "plt.ylabel(\"Ordenadas\")\n",
    "\n",
    "plt.show()"
   ]
  },
  {
   "cell_type": "markdown",
   "metadata": {
    "id": "sBjnAsUvrUzi"
   },
   "source": [
    "---\n",
    "## Ejercicio 4 (1.5 ptos.)"
   ]
  },
  {
   "cell_type": "markdown",
   "metadata": {
    "id": "lsJM0MOprVuF"
   },
   "source": [
    "Genera una matriz (50 filas x 2 columnas) de datos aleatorios entre 0 y 1 con NumPy. Muestra un gráfico de dispersión teniendo en cuenta que los datos de la primera columna serán los valores del eje X, mientras que los datos de la segunda columna serán los valores del eje Y."
   ]
  },
  {
   "cell_type": "code",
   "execution_count": 33,
   "metadata": {
    "id": "DdQeRgJYrV-o"
   },
   "outputs": [
    {
     "name": "stdout",
     "output_type": "stream",
     "text": [
      "[[0.2215803  0.98790361]\n",
      " [0.79912796 0.85331142]\n",
      " [0.00736342 0.55509078]\n",
      " [0.73517518 0.69324458]\n",
      " [0.41772355 0.40519127]\n",
      " [0.82277815 0.1629105 ]\n",
      " [0.43552579 0.11256778]\n",
      " [0.72651409 0.08965998]\n",
      " [0.99221067 0.26026899]\n",
      " [0.95523246 0.89524346]\n",
      " [0.31419793 0.02812174]\n",
      " [0.18465338 0.57604628]\n",
      " [0.80407185 0.74378222]\n",
      " [0.8571401  0.73929112]\n",
      " [0.68661879 0.46298727]\n",
      " [0.8966353  0.52283976]\n",
      " [0.32542705 0.65126727]\n",
      " [0.20801283 0.87421954]\n",
      " [0.50796441 0.05090035]\n",
      " [0.25489447 0.27538697]\n",
      " [0.56912451 0.71227863]\n",
      " [0.83676584 0.41144189]\n",
      " [0.09780117 0.85613422]\n",
      " [0.41795848 0.56291346]\n",
      " [0.09950934 0.93984642]\n",
      " [0.04015624 0.27523651]\n",
      " [0.90003842 0.00598178]\n",
      " [0.57672217 0.38074841]\n",
      " [0.85100105 0.12636999]\n",
      " [0.12743092 0.01013455]\n",
      " [0.89236904 0.00340984]\n",
      " [0.62777454 0.90138551]\n",
      " [0.88257543 0.79723598]\n",
      " [0.78286124 0.47102634]\n",
      " [0.61600097 0.54714122]\n",
      " [0.66541669 0.68898977]\n",
      " [0.5095959  0.04365255]\n",
      " [0.51950321 0.34362939]\n",
      " [0.16796799 0.19315099]\n",
      " [0.10737089 0.15052846]\n",
      " [0.64899729 0.79511749]\n",
      " [0.33763411 0.09653572]\n",
      " [0.01005578 0.8530088 ]\n",
      " [0.92151331 0.56040666]\n",
      " [0.08332006 0.98097997]\n",
      " [0.54533629 0.14374215]\n",
      " [0.93720096 0.98411722]\n",
      " [0.07355498 0.94798195]\n",
      " [0.79587818 0.06207174]\n",
      " [0.06517295 0.71991523]]\n"
     ]
    }
   ],
   "source": [
    "#Crear la matriz\n",
    "matriz_50x2 = np.random.rand(50, 2)\n",
    "print(matriz_50x2)"
   ]
  },
  {
   "cell_type": "code",
   "execution_count": 34,
   "metadata": {},
   "outputs": [],
   "source": [
    "#Sacar valores eje x y eje y\n",
    "x = matriz_50x2[:, 0]\n",
    "y = matriz_50x2[:, 1]"
   ]
  },
  {
   "cell_type": "code",
   "execution_count": 35,
   "metadata": {},
   "outputs": [
    {
     "data": {
      "image/png": "[encoded data removed]",
      "text/plain": [
       "<Figure size 640x480 with 1 Axes>"
      ]
     },
     "metadata": {},
     "output_type": "display_data"
    }
   ],
   "source": [
    "#Crear el Grafico\n",
    "plt.scatter(x, y)\n",
    "\n",
    "plt.title(\"Gráfico de dispersión\")\n",
    "plt.xlabel(\"Eje X\")\n",
    "plt.ylabel(\"Eje Y\")\n",
    "\n",
    "plt.show()"
   ]
  },
  {
   "cell_type": "markdown",
   "metadata": {
    "id": "-M1t6ywGrWRs"
   },
   "source": [
    "---\n",
    "## Ejercicio 5 (2.5 ptos.)"
   ]
  },
  {
   "cell_type": "markdown",
   "metadata": {
    "id": "P_jL-6CfrXC9"
   },
   "source": [
    "Partimos del dataset **\"vg_sales.csv\"** importado anteriormente. Este dataset contiene una lista de videojuegos con más de 100.000 copias vendidas. En concreto tiene las siguientes columnas:\n",
    "\n",
    "*   **Rank** - Posición en el ranking de ventas\n",
    "*   **Name** - Nombre del videojuego\n",
    "*   **Platform** - Plataforma del videojuego (PC,PS4, etc.)\n",
    "*   **Year** - Año de publicación del videojuego\n",
    "*   **Genre** - Género del videojuego\n",
    "*   **Publisher** - Publicador\n",
    "*   **NA_Sales** - Ventas en Norte América (en millones)\n",
    "*   **EU_Sales** - Ventas en Europa (en millones)\n",
    "*   **JP_Sales** - Ventas en Japón (en millones)\n",
    "*   **Other_Sales** - Ventas en el resto del mundo (en millones)\n",
    "*   **Global_Sales** - Ventas totales en todo el mundo (en millones)\n",
    "\n",
    "Mostrar del contenido del dataset los siguientes apartados:\n",
    "\n",
    "*   Una descripción básica de su contenido\n",
    "*   Muestra los nombres de sus columnas\n",
    "*   Del primer elemento del dataset (primera fila), muestra un gráfico de barras comparando las ventas que ha obtenido en los siguientes campos:\n",
    "    *  NA_Sales\n",
    "    *  EU_Sales\n",
    "    *  JP_Sales\n",
    "    *  Other_Sales\n",
    "    *  Global_Sales\n",
    "\n",
    "Por último, como título del gráfico de barras muestra el nombre del videojuego al que pertenece (campo \"Name\")"
   ]
  },
  {
   "cell_type": "code",
   "execution_count": 52,
   "metadata": {
    "id": "bpXGMds4rXTY"
   },
   "outputs": [
    {
     "data": {
      "text/html": [
       "<div>\n",
       "<style scoped>\n",
       "    .dataframe tbody tr th:only-of-type {\n",
       "        vertical-align: middle;\n",
       "    }\n",
       "\n",
       "    .dataframe tbody tr th {\n",
       "        vertical-align: top;\n",
       "    }\n",
       "\n",
       "    .dataframe thead th {\n",
       "        text-align: right;\n",
       "    }\n",
       "</style>\n",
       "<table border=\"1\" class=\"dataframe\">\n",
       "  <thead>\n",
       "    <tr style=\"text-align: right;\">\n",
       "      <th></th>\n",
       "      <th>Rank</th>\n",
       "      <th>Name</th>\n",
       "      <th>Platform</th>\n",
       "      <th>Year</th>\n",
       "      <th>Genre</th>\n",
       "      <th>Publisher</th>\n",
       "      <th>NA_Sales</th>\n",
       "      <th>EU_Sales</th>\n",
       "      <th>JP_Sales</th>\n",
       "      <th>Other_Sales</th>\n",
       "      <th>Global_Sales</th>\n",
       "    </tr>\n",
       "  </thead>\n",
       "  <tbody>\n",
       "    <tr>\n",
       "      <th>0</th>\n",
       "      <td>1</td>\n",
       "      <td>Wii Sports</td>\n",
       "      <td>Wii</td>\n",
       "      <td>2006.0</td>\n",
       "      <td>Sports</td>\n",
       "      <td>Nintendo</td>\n",
       "      <td>41.49</td>\n",
       "      <td>29.02</td>\n",
       "      <td>3.77</td>\n",
       "      <td>8.46</td>\n",
       "      <td>82.74</td>\n",
       "    </tr>\n",
       "    <tr>\n",
       "      <th>1</th>\n",
       "      <td>2</td>\n",
       "      <td>Super Mario Bros.</td>\n",
       "      <td>NES</td>\n",
       "      <td>1985.0</td>\n",
       "      <td>Platform</td>\n",
       "      <td>Nintendo</td>\n",
       "      <td>29.08</td>\n",
       "      <td>3.58</td>\n",
       "      <td>6.81</td>\n",
       "      <td>0.77</td>\n",
       "      <td>40.24</td>\n",
       "    </tr>\n",
       "    <tr>\n",
       "      <th>2</th>\n",
       "      <td>3</td>\n",
       "      <td>Mario Kart Wii</td>\n",
       "      <td>Wii</td>\n",
       "      <td>2008.0</td>\n",
       "      <td>Racing</td>\n",
       "      <td>Nintendo</td>\n",
       "      <td>15.85</td>\n",
       "      <td>12.88</td>\n",
       "      <td>3.79</td>\n",
       "      <td>3.31</td>\n",
       "      <td>35.82</td>\n",
       "    </tr>\n",
       "    <tr>\n",
       "      <th>3</th>\n",
       "      <td>4</td>\n",
       "      <td>Wii Sports Resort</td>\n",
       "      <td>Wii</td>\n",
       "      <td>2009.0</td>\n",
       "      <td>Sports</td>\n",
       "      <td>Nintendo</td>\n",
       "      <td>15.75</td>\n",
       "      <td>11.01</td>\n",
       "      <td>3.28</td>\n",
       "      <td>2.96</td>\n",
       "      <td>33.00</td>\n",
       "    </tr>\n",
       "    <tr>\n",
       "      <th>4</th>\n",
       "      <td>5</td>\n",
       "      <td>Pokemon Red/Pokemon Blue</td>\n",
       "      <td>GB</td>\n",
       "      <td>1996.0</td>\n",
       "      <td>Role-Playing</td>\n",
       "      <td>Nintendo</td>\n",
       "      <td>11.27</td>\n",
       "      <td>8.89</td>\n",
       "      <td>10.22</td>\n",
       "      <td>1.00</td>\n",
       "      <td>31.37</td>\n",
       "    </tr>\n",
       "  </tbody>\n",
       "</table>\n",
       "</div>"
      ],
      "text/plain": [
       "   Rank                      Name Platform    Year         Genre Publisher  \\\n",
       "0     1                Wii Sports      Wii  2006.0        Sports  Nintendo   \n",
       "1     2         Super Mario Bros.      NES  1985.0      Platform  Nintendo   \n",
       "2     3            Mario Kart Wii      Wii  2008.0        Racing  Nintendo   \n",
       "3     4         Wii Sports Resort      Wii  2009.0        Sports  Nintendo   \n",
       "4     5  Pokemon Red/Pokemon Blue       GB  1996.0  Role-Playing  Nintendo   \n",
       "\n",
       "   NA_Sales  EU_Sales  JP_Sales  Other_Sales  Global_Sales  \n",
       "0     41.49     29.02      3.77         8.46         82.74  \n",
       "1     29.08      3.58      6.81         0.77         40.24  \n",
       "2     15.85     12.88      3.79         3.31         35.82  \n",
       "3     15.75     11.01      3.28         2.96         33.00  \n",
       "4     11.27      8.89     10.22         1.00         31.37  "
      ]
     },
     "execution_count": 52,
     "metadata": {},
     "output_type": "execute_result"
    }
   ],
   "source": [
    "df_vgSales.head()\n"
   ]
  },
  {
   "cell_type": "code",
   "execution_count": 43,
   "metadata": {},
   "outputs": [
    {
     "name": "stdout",
     "output_type": "stream",
     "text": [
      "Descripción básica del dataset:\n",
      "               Rank          Year      NA_Sales      EU_Sales      JP_Sales  \\\n",
      "count  16598.000000  16327.000000  16598.000000  16598.000000  16598.000000   \n",
      "mean    8300.605254   2006.406443      0.264667      0.146652      0.077782   \n",
      "std     4791.853933      5.828981      0.816683      0.505351      0.309291   \n",
      "min        1.000000   1980.000000      0.000000      0.000000      0.000000   \n",
      "25%     4151.250000   2003.000000      0.000000      0.000000      0.000000   \n",
      "50%     8300.500000   2007.000000      0.080000      0.020000      0.000000   \n",
      "75%    12449.750000   2010.000000      0.240000      0.110000      0.040000   \n",
      "max    16600.000000   2020.000000     41.490000     29.020000     10.220000   \n",
      "\n",
      "        Other_Sales  Global_Sales  \n",
      "count  16598.000000  16598.000000  \n",
      "mean       0.048063      0.537441  \n",
      "std        0.188588      1.555028  \n",
      "min        0.000000      0.010000  \n",
      "25%        0.000000      0.060000  \n",
      "50%        0.010000      0.170000  \n",
      "75%        0.040000      0.470000  \n",
      "max       10.570000     82.740000  \n",
      "\n",
      "Nombres de las columnas:\n",
      "Index(['Rank', 'Name', 'Platform', 'Year', 'Genre', 'Publisher', 'NA_Sales',\n",
      "       'EU_Sales', 'JP_Sales', 'Other_Sales', 'Global_Sales'],\n",
      "      dtype='object')\n"
     ]
    }
   ],
   "source": [
    "print(\"Descripción básica del dataset:\")\n",
    "print(df_vgSales.describe())\n",
    "\n",
    "print(\"\")\n",
    "print(\"Nombres de las columnas:\")\n",
    "print(df_vgSales.columns)"
   ]
  },
  {
   "cell_type": "code",
   "execution_count": 51,
   "metadata": {},
   "outputs": [
    {
     "data": {
      "image/png": "[encoded data removed]",
      "text/plain": [
       "<Figure size 640x480 with 1 Axes>"
      ]
     },
     "metadata": {},
     "output_type": "display_data"
    }
   ],
   "source": [
    "primer_elemento = df_vgSales.iloc[0]\n",
    "\n",
    "ventas = primer_elemento[['NA_Sales', 'EU_Sales', 'JP_Sales', 'Other_Sales', 'Global_Sales']]\n",
    "\n",
    "# Crear el gráfico de barras\n",
    "plt.bar(ventas.index, ventas.values)\n",
    "\n",
    "plt.title(f\"Ventas del videojuego: {primer_elemento['Name']}\")\n",
    "plt.xlabel(\"Región de ventas\")\n",
    "plt.ylabel(\"Ventas (en millones)\")\n",
    "\n",
    "plt.show()"
   ]
  },
  {
   "cell_type": "markdown",
   "metadata": {
    "id": "qmLjk4dfrXgx"
   },
   "source": [
    "---\n",
    "## Ejercicio 6 (1 pto.)"
   ]
  },
  {
   "cell_type": "markdown",
   "metadata": {
    "id": "PmnzqKBLrYUs"
   },
   "source": [
    "Partiendo del mismo dataset y juego de la primera fila del ejercicio anterior, Muestra los mismos datos que antes en la gráfica de barras (a excepción del campo \"Global_Sales\") solo que esta vez en un gráfico circular. Como título del gráfico vuelve a utilizar el nombre del videojuego. En cada porción del círculo muestra los porcentajes con el formato \"%1.1f%%\" (parámetro autopct):"
   ]
  },
  {
   "cell_type": "code",
   "execution_count": 54,
   "metadata": {
    "id": "6v9l27LDrYmY"
   },
   "outputs": [
    {
     "data": {
      "image/png": "[encoded data removed]",
      "text/plain": [
       "<Figure size 640x480 with 1 Axes>"
      ]
     },
     "metadata": {},
     "output_type": "display_data"
    }
   ],
   "source": [
    "ventas = primer_elemento[['NA_Sales', 'EU_Sales', 'JP_Sales', 'Other_Sales']]\n",
    "\n",
    "# Crear el gráfico circular\n",
    "plt.pie(ventas.values, labels=ventas.index, autopct='%1.1f%%')\n",
    "\n",
    "plt.title(f\"Distribución de ventas del videojuego: {primer_elemento['Name']}\")\n",
    "\n",
    "plt.show()"
   ]
  },
  {
   "cell_type": "markdown",
   "metadata": {
    "id": "7f9-1mBxrcdz"
   },
   "source": [
    "---\n",
    "## Ejercicio 7 (2,5 ptos.)"
   ]
  },
  {
   "cell_type": "markdown",
   "metadata": {
    "id": "H43GzFuDrdTS"
   },
   "source": [
    "Partimos del dataset **\"IMDB_Movie_Data.csv\"** que contiene la siguiente información por columnas:\n",
    "\n",
    "*   **Rank**: Posición en el ranking\n",
    "*   **Title**: Título de la película\n",
    "*   **Genre**: Género o géneros separados por comas\n",
    "*   **Description**: Descripción corta\n",
    "*   **Director**: Nombre del director\n",
    "*   **Actors**: Actores separados por comas\n",
    "*   **Year**: Año de publicación\n",
    "*   **Runtime**: Duración (minutos)\n",
    "*   **Rating**: Media de la nota de los votos de los usuarios\n",
    "*   **Votes**: Número de votos\n",
    "*   **Revenue**: Ingresos producidos por la película (millones)\n",
    "*   **Metascrore**: Un promedio agregado de puntajes críticos. Los valores están entre 0 y 100. Las puntuaciones más altas representan críticas positivas.\n",
    "\n",
    "Analiza el dataset y resuelve las siguientes cuestiones:   \n",
    "1. Mejor taquilla y peor taquilla (Revenue (Millions)).\n",
    "2. Director con más películas y director con menos películas.\n",
    "3. Las diez películas más taquilleras.\n",
    "4. Lista de películas dirigidas por Christopher Nolan.\n",
    "5. Películas en las que interviene la actriz Anne Hathaway.\n",
    "6. Película más taquillera en la que ha intervenido Anne Hathaway.   \n",
    "\n",
    "**NOTA: Deja en el código con comentarios todo el trabajo que hagas sobre el dataset**"
   ]
  },
  {
   "cell_type": "code",
   "execution_count": 55,
   "metadata": {},
   "outputs": [
    {
     "data": {
      "text/html": [
       "<div>\n",
       "<style scoped>\n",
       "    .dataframe tbody tr th:only-of-type {\n",
       "        vertical-align: middle;\n",
       "    }\n",
       "\n",
       "    .dataframe tbody tr th {\n",
       "        vertical-align: top;\n",
       "    }\n",
       "\n",
       "    .dataframe thead th {\n",
       "        text-align: right;\n",
       "    }\n",
       "</style>\n",
       "<table border=\"1\" class=\"dataframe\">\n",
       "  <thead>\n",
       "    <tr style=\"text-align: right;\">\n",
       "      <th></th>\n",
       "      <th>Rank</th>\n",
       "      <th>Title</th>\n",
       "      <th>Genre</th>\n",
       "      <th>Description</th>\n",
       "      <th>Director</th>\n",
       "      <th>Actors</th>\n",
       "      <th>Year</th>\n",
       "      <th>Runtime (Minutes)</th>\n",
       "      <th>Rating</th>\n",
       "      <th>Votes</th>\n",
       "      <th>Revenue (Millions)</th>\n",
       "      <th>Metascore</th>\n",
       "    </tr>\n",
       "  </thead>\n",
       "  <tbody>\n",
       "    <tr>\n",
       "      <th>0</th>\n",
       "      <td>1</td>\n",
       "      <td>Guardians of the Galaxy</td>\n",
       "      <td>Action,Adventure,Sci-Fi</td>\n",
       "      <td>A group of intergalactic criminals are forced ...</td>\n",
       "      <td>James Gunn</td>\n",
       "      <td>Chris Pratt, Vin Diesel, Bradley Cooper, Zoe S...</td>\n",
       "      <td>2014</td>\n",
       "      <td>121</td>\n",
       "      <td>8.1</td>\n",
       "      <td>757074</td>\n",
       "      <td>333.13</td>\n",
       "      <td>76.0</td>\n",
       "    </tr>\n",
       "    <tr>\n",
       "      <th>1</th>\n",
       "      <td>2</td>\n",
       "      <td>Prometheus</td>\n",
       "      <td>Adventure,Mystery,Sci-Fi</td>\n",
       "      <td>Following clues to the origin of mankind, a te...</td>\n",
       "      <td>Ridley Scott</td>\n",
       "      <td>Noomi Rapace, Logan Marshall-Green, Michael Fa...</td>\n",
       "      <td>2012</td>\n",
       "      <td>124</td>\n",
       "      <td>7.0</td>\n",
       "      <td>485820</td>\n",
       "      <td>126.46</td>\n",
       "      <td>65.0</td>\n",
       "    </tr>\n",
       "    <tr>\n",
       "      <th>2</th>\n",
       "      <td>3</td>\n",
       "      <td>Split</td>\n",
       "      <td>Horror,Thriller</td>\n",
       "      <td>Three girls are kidnapped by a man with a diag...</td>\n",
       "      <td>M. Night Shyamalan</td>\n",
       "      <td>James McAvoy, Anya Taylor-Joy, Haley Lu Richar...</td>\n",
       "      <td>2016</td>\n",
       "      <td>117</td>\n",
       "      <td>7.3</td>\n",
       "      <td>157606</td>\n",
       "      <td>138.12</td>\n",
       "      <td>62.0</td>\n",
       "    </tr>\n",
       "    <tr>\n",
       "      <th>3</th>\n",
       "      <td>4</td>\n",
       "      <td>Sing</td>\n",
       "      <td>Animation,Comedy,Family</td>\n",
       "      <td>In a city of humanoid animals, a hustling thea...</td>\n",
       "      <td>Christophe Lourdelet</td>\n",
       "      <td>Matthew McConaughey,Reese Witherspoon, Seth Ma...</td>\n",
       "      <td>2016</td>\n",
       "      <td>108</td>\n",
       "      <td>7.2</td>\n",
       "      <td>60545</td>\n",
       "      <td>270.32</td>\n",
       "      <td>59.0</td>\n",
       "    </tr>\n",
       "    <tr>\n",
       "      <th>4</th>\n",
       "      <td>5</td>\n",
       "      <td>Suicide Squad</td>\n",
       "      <td>Action,Adventure,Fantasy</td>\n",
       "      <td>A secret government agency recruits some of th...</td>\n",
       "      <td>David Ayer</td>\n",
       "      <td>Will Smith, Jared Leto, Margot Robbie, Viola D...</td>\n",
       "      <td>2016</td>\n",
       "      <td>123</td>\n",
       "      <td>6.2</td>\n",
       "      <td>393727</td>\n",
       "      <td>325.02</td>\n",
       "      <td>40.0</td>\n",
       "    </tr>\n",
       "  </tbody>\n",
       "</table>\n",
       "</div>"
      ],
      "text/plain": [
       "   Rank                    Title                     Genre  \\\n",
       "0     1  Guardians of the Galaxy   Action,Adventure,Sci-Fi   \n",
       "1     2               Prometheus  Adventure,Mystery,Sci-Fi   \n",
       "2     3                    Split           Horror,Thriller   \n",
       "3     4                     Sing   Animation,Comedy,Family   \n",
       "4     5            Suicide Squad  Action,Adventure,Fantasy   \n",
       "\n",
       "                                         Description              Director  \\\n",
       "0  A group of intergalactic criminals are forced ...            James Gunn   \n",
       "1  Following clues to the origin of mankind, a te...          Ridley Scott   \n",
       "2  Three girls are kidnapped by a man with a diag...    M. Night Shyamalan   \n",
       "3  In a city of humanoid animals, a hustling thea...  Christophe Lourdelet   \n",
       "4  A secret government agency recruits some of th...            David Ayer   \n",
       "\n",
       "                                              Actors  Year  Runtime (Minutes)  \\\n",
       "0  Chris Pratt, Vin Diesel, Bradley Cooper, Zoe S...  2014                121   \n",
       "1  Noomi Rapace, Logan Marshall-Green, Michael Fa...  2012                124   \n",
       "2  James McAvoy, Anya Taylor-Joy, Haley Lu Richar...  2016                117   \n",
       "3  Matthew McConaughey,Reese Witherspoon, Seth Ma...  2016                108   \n",
       "4  Will Smith, Jared Leto, Margot Robbie, Viola D...  2016                123   \n",
       "\n",
       "   Rating   Votes  Revenue (Millions)  Metascore  \n",
       "0     8.1  757074              333.13       76.0  \n",
       "1     7.0  485820              126.46       65.0  \n",
       "2     7.3  157606              138.12       62.0  \n",
       "3     7.2   60545              270.32       59.0  \n",
       "4     6.2  393727              325.02       40.0  "
      ]
     },
     "execution_count": 55,
     "metadata": {},
     "output_type": "execute_result"
    }
   ],
   "source": [
    "# Cargar del dataset y mostramos primeros registros\n",
    "df_movies = pd.read_csv(\"IMDB_Movie_Data.csv\")\n",
    "df_movies.head()"
   ]
  },
  {
   "cell_type": "code",
   "execution_count": null,
   "metadata": {},
   "outputs": [
    {
     "name": "stdout",
     "output_type": "stream",
     "text": [
      "Película con la mejor taquilla:\n",
      "Title                 Star Wars: Episode VII - The Force Awakens\n",
      "Revenue (Millions)                                        936.63\n",
      "Name: 50, dtype: object\n",
      "\n",
      "Película con la peor taquilla:\n",
      "Title                 A Kind of Murder\n",
      "Revenue (Millions)                 0.0\n",
      "Name: 231, dtype: object\n"
     ]
    }
   ],
   "source": [
    "# 1. Mejor taquilla y peor taquilla (Revenue (Millions))\n",
    "\n",
    "# Eliminar filas con valores nulos en la columna \"Revenue (Millions)\"\n",
    "df_revenue = df_movies.dropna(subset=['Revenue (Millions)'])\n",
    "\n",
    "#Película con mejor taquilla\n",
    "mejor_taquilla = df_revenue.loc[df_revenue['Revenue (Millions)'].idxmax()]\n",
    "print(\"Película con la mejor taquilla:\")\n",
    "print(mejor_taquilla[['Title', 'Revenue (Millions)']])\n",
    "\n",
    "#Película con peor taquilla\n",
    "peor_taquilla = df_revenue.loc[df_revenue['Revenue (Millions)'].idxmin()]\n",
    "print(\"\\nPelícula con la peor taquilla:\")\n",
    "print(peor_taquilla[['Title', 'Revenue (Millions)']])"
   ]
  },
  {
   "cell_type": "code",
   "execution_count": 61,
   "metadata": {},
   "outputs": [
    {
     "name": "stdout",
     "output_type": "stream",
     "text": [
      "\n",
      "Director con más películas: Ridley Scott (8 películas)\n",
      "Director con menos películas: David Twohy (1 película)\n"
     ]
    }
   ],
   "source": [
    "# 2. Director con más películas y director con menos películas\n",
    "\n",
    "# Contar el número de películas por director\n",
    "director_counts = df_movies['Director'].value_counts()\n",
    "\n",
    "# Director con más películas\n",
    "director_mas_peliculas = director_counts.idxmax()\n",
    "print(f\"\\nDirector con más películas: {director_mas_peliculas} ({director_counts.max()} películas)\")\n",
    "\n",
    "# Director con menos películas\n",
    "director_menos_peliculas = director_counts.idxmin()\n",
    "print(f\"Director con menos películas: {director_menos_peliculas} ({director_counts.min()} película)\")"
   ]
  },
  {
   "cell_type": "code",
   "execution_count": null,
   "metadata": {},
   "outputs": [
    {
     "name": "stdout",
     "output_type": "stream",
     "text": [
      "\n",
      "Las diez películas más taquilleras:\n",
      "                                          Title  Revenue (Millions)\n",
      "50   Star Wars: Episode VII - The Force Awakens              936.63\n",
      "87                                       Avatar              760.51\n",
      "85                               Jurassic World              652.18\n",
      "76                                 The Avengers              623.28\n",
      "54                              The Dark Knight              533.32\n",
      "12                                    Rogue One              532.17\n",
      "119                                Finding Dory              486.29\n",
      "94                      Avengers: Age of Ultron              458.99\n",
      "124                       The Dark Knight Rises              448.13\n",
      "578             The Hunger Games: Catching Fire              424.65\n"
     ]
    }
   ],
   "source": [
    "# 3. Las diez películas más taquilleras\n",
    "\n",
    "# Ordenar el DataFrame por \"Revenue (Millions)\" de forma descendente y seleccionar las 10 primeras\n",
    "top_10_taquilleras = df_revenue.sort_values(by='Revenue (Millions)', ascending=False).head(10)\n",
    "print(\"\\nLas diez películas más taquilleras:\")\n",
    "print(top_10_taquilleras[['Title', 'Revenue (Millions)']])"
   ]
  },
  {
   "cell_type": "code",
   "execution_count": null,
   "metadata": {},
   "outputs": [
    {
     "name": "stdout",
     "output_type": "stream",
     "text": [
      "\n",
      "Películas dirigidas por Christopher Nolan:\n",
      "                     Title  Year\n",
      "36            Interstellar  2014\n",
      "54         The Dark Knight  2008\n",
      "64            The Prestige  2006\n",
      "80               Inception  2010\n",
      "124  The Dark Knight Rises  2012\n"
     ]
    }
   ],
   "source": [
    "# 4. Lista de películas dirigidas por Christopher Nolan\n",
    "\n",
    "# Buscar en la columna \"Director\" las películas que contienen \"Christopher Nolan\"\n",
    "nolan_movies = df_movies[df_movies['Director'] == 'Christopher Nolan']\n",
    "print(\"\\nPelículas dirigidas por Christopher Nolan:\")\n",
    "print(nolan_movies[['Title', 'Year']])"
   ]
  },
  {
   "cell_type": "code",
   "execution_count": null,
   "metadata": {},
   "outputs": [
    {
     "name": "stdout",
     "output_type": "stream",
     "text": [
      "\n",
      "Películas en las que interviene Anne Hathaway:\n",
      "                               Title  Year\n",
      "14                          Colossal  2016\n",
      "36                      Interstellar  2014\n",
      "124            The Dark Knight Rises  2012\n",
      "245                   Les Misérables  2012\n",
      "297            The Devil Wears Prada  2006\n",
      "306  Alice Through the Looking Glass  2016\n",
      "547              Alice in Wonderland  2010\n",
      "572                       The Intern  2015\n",
      "630               Love & Other Drugs  2010\n",
      "873                          One Day  2011\n",
      "883                              Rio  2011\n",
      "899                       Bride Wars  2009\n"
     ]
    }
   ],
   "source": [
    "# 5. Películas en las que interviene la actriz Anne Hathaway\n",
    "\n",
    "# Buscar en la columna \"Actors\" las películas que contienen \"Anne Hathaway\"\n",
    "anne_hathaway_movies = df_movies[df_movies['Actors'].str.contains('Anne Hathaway', na=False)]\n",
    "print(\"\\nPelículas en las que interviene Anne Hathaway:\")\n",
    "print(anne_hathaway_movies[['Title', 'Year']])"
   ]
  },
  {
   "cell_type": "code",
   "execution_count": 65,
   "metadata": {},
   "outputs": [
    {
     "name": "stdout",
     "output_type": "stream",
     "text": [
      "\n",
      "Película más taquillera de Anne Hathaway:\n",
      "Title                 The Dark Knight Rises\n",
      "Revenue (Millions)                   448.13\n",
      "Name: 124, dtype: object\n"
     ]
    }
   ],
   "source": [
    "# 6. Película más taquillera en la que ha intervenido Anne Hathaway\n",
    "\n",
    "# Filtrar las películas de Anne Hathaway y encontrar la más taquillera\n",
    "anne_hathaway_taquillera = anne_hathaway_movies.loc[anne_hathaway_movies['Revenue (Millions)'].idxmax()]\n",
    "print(\"\\nPelícula más taquillera de Anne Hathaway:\")\n",
    "print(anne_hathaway_taquillera[['Title', 'Revenue (Millions)']])"
   ]
  }
 ],
 "metadata": {
  "colab": {
   "authorship_tag": "ABX9TyMlBztaNlAmxbowl7GkH4Ru",
   "collapsed_sections": [],
   "name": "06-Examen_Apellido1_Nombre.ipynb",
   "provenance": []
  },
  "kernelspec": {
   "display_name": ".venv",
   "language": "python",
   "name": "python3"
  },
  "language_info": {
   "codemirror_mode": {
    "name": "ipython",
    "version": 3
   },
   "file_extension": ".py",
   "mimetype": "text/x-python",
   "name": "python",
   "nbconvert_exporter": "python",
   "pygments_lexer": "ipython3",
   "version": "3.11.0"
  }
 },
 "nbformat": 4,
 "nbformat_minor": 0
}
