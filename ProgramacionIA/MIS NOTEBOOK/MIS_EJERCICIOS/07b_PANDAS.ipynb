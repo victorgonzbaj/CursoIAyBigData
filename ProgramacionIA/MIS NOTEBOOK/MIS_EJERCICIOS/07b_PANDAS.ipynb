{
 "cells": [
  {
   "cell_type": "code",
   "execution_count": 17,
   "metadata": {},
   "outputs": [],
   "source": [
    "import warnings\n",
    "warnings.filterwarnings(\"ignore\")\n",
    "\n",
    "import pandas as pd\n",
    "import numpy as np"
   ]
  },
  {
   "cell_type": "markdown",
   "metadata": {},
   "source": [
    "# Craccion del Dataframe"
   ]
  },
  {
   "cell_type": "code",
   "execution_count": 3,
   "metadata": {},
   "outputs": [],
   "source": [
    "df = pd.DataFrame(data={\"Pais\":['Mexico','Argentina','Espana','Colombia'],\n",
    "                        \"Poblacion\":[127212000, 45167000, 47099000, 48922000],\n",
    "                        \"Capital\":['CDMX','Buenos Aires','Madrid','Bogota']})"
   ]
  },
  {
   "cell_type": "code",
   "execution_count": 4,
   "metadata": {},
   "outputs": [
    {
     "name": "stdout",
     "output_type": "stream",
     "text": [
      "(4, 3)\n",
      "=================\n",
      "Pais         object\n",
      "Poblacion     int64\n",
      "Capital      object\n",
      "dtype: object\n",
      "=================\n",
      "          Poblacion\n",
      "count  4.000000e+00\n",
      "mean   6.710000e+07\n",
      "std    4.010398e+07\n",
      "min    4.516700e+07\n",
      "25%    4.661600e+07\n",
      "50%    4.801050e+07\n",
      "75%    6.849450e+07\n",
      "max    1.272120e+08\n"
     ]
    }
   ],
   "source": [
    "print(df.shape)\n",
    "print(\"=================\")\n",
    "print(df.dtypes)\n",
    "print(\"=================\")\n",
    "print(df.describe())"
   ]
  },
  {
   "cell_type": "markdown",
   "metadata": {},
   "source": [
    "# Lectura fichero CSV"
   ]
  },
  {
   "cell_type": "code",
   "execution_count": 5,
   "metadata": {},
   "outputs": [
    {
     "name": "stdout",
     "output_type": "stream",
     "text": [
      "   col1  col2  col3\n",
      "0     1     2     3\n",
      "1     3     4     5\n",
      "2     5     6     7\n"
     ]
    }
   ],
   "source": [
    "df_test = pd.read_csv('test2.csv')\n",
    "print(df_test.head())"
   ]
  },
  {
   "cell_type": "markdown",
   "metadata": {},
   "source": [
    "# FILTRADO DE DATOS\n"
   ]
  },
  {
   "cell_type": "code",
   "execution_count": 9,
   "metadata": {},
   "outputs": [
    {
     "name": "stdout",
     "output_type": "stream",
     "text": [
      "       Pais  Poblacion Capital\n",
      "0    Mexico  127212000    CDMX\n",
      "3  Colombia   48922000  Bogota\n"
     ]
    }
   ],
   "source": [
    "print(df[df['Poblacion'] > 47099000])"
   ]
  },
  {
   "cell_type": "code",
   "execution_count": 10,
   "metadata": {},
   "outputs": [
    {
     "name": "stdout",
     "output_type": "stream",
     "text": [
      "Argentina\n"
     ]
    }
   ],
   "source": [
    "print(df.loc[1,'Pais'])"
   ]
  },
  {
   "cell_type": "code",
   "execution_count": 11,
   "metadata": {},
   "outputs": [
    {
     "name": "stdout",
     "output_type": "stream",
     "text": [
      "Pais            Argentina\n",
      "Poblacion        45167000\n",
      "Capital      Buenos Aires\n",
      "Name: 1, dtype: object\n"
     ]
    }
   ],
   "source": [
    "print(df.loc[1])"
   ]
  },
  {
   "cell_type": "code",
   "execution_count": 13,
   "metadata": {},
   "outputs": [
    {
     "name": "stdout",
     "output_type": "stream",
     "text": [
      "Pais            Argentina\n",
      "Poblacion        45167000\n",
      "Capital      Buenos Aires\n",
      "Name: 1, dtype: object\n"
     ]
    }
   ],
   "source": [
    "print(df.iloc[1,:])"
   ]
  },
  {
   "cell_type": "code",
   "execution_count": 15,
   "metadata": {},
   "outputs": [
    {
     "name": "stdout",
     "output_type": "stream",
     "text": [
      "Pais\n",
      "Argentina     45167000.0\n",
      "Colombia      48922000.0\n",
      "Espana        47099000.0\n",
      "Mexico       127212000.0\n",
      "Name: Poblacion, dtype: float64\n"
     ]
    }
   ],
   "source": [
    "print(df.groupby('Pais')['Poblacion'].mean())"
   ]
  },
  {
   "cell_type": "code",
   "execution_count": 16,
   "metadata": {},
   "outputs": [
    {
     "name": "stdout",
     "output_type": "stream",
     "text": [
      "    Pais  Poblacion  Capital\n",
      "0  False      False    False\n",
      "1  False      False    False\n",
      "2  False      False    False\n",
      "3  False      False    False\n",
      "Pais         0\n",
      "Poblacion    0\n",
      "Capital      0\n",
      "dtype: int64\n"
     ]
    }
   ],
   "source": [
    "print(df.isnull())\n",
    "print(df.isnull().sum())"
   ]
  },
  {
   "cell_type": "code",
   "execution_count": 18,
   "metadata": {},
   "outputs": [
    {
     "name": "stdout",
     "output_type": "stream",
     "text": [
      "        Pais    Poblacion       Capital\n",
      "0     Mexico  127212000.0          CDMX\n",
      "1  Argentina          NaN  Buenos Aires\n",
      "2     Espana   47099000.0        Madrid\n",
      "3   Colombia   48922000.0        Bogota\n"
     ]
    }
   ],
   "source": [
    "valor_perdido = df.loc[1,'Poblacion']\n",
    "df.loc[1,'Poblacion'] = np.nan\n",
    "print(df)"
   ]
  },
  {
   "cell_type": "code",
   "execution_count": 20,
   "metadata": {},
   "outputs": [
    {
     "name": "stdout",
     "output_type": "stream",
     "text": [
      "        Pais    Poblacion       Capital\n",
      "0     Mexico  127212000.0          CDMX\n",
      "1  Argentina          NaN  Buenos Aires\n",
      "2     Espana   47099000.0        Madrid\n",
      "3   Colombia   48922000.0        Bogota\n"
     ]
    }
   ],
   "source": [
    "df.fillna(df['Poblacion'].mean(), inplace=False)"
   ]
  },
  {
   "cell_type": "code",
   "execution_count": 21,
   "metadata": {},
   "outputs": [
    {
     "name": "stdout",
     "output_type": "stream",
     "text": [
      "        Pais    Poblacion       Capital\n",
      "0     Mexico  127212000.0          CDMX\n",
      "1  Argentina          NaN  Buenos Aires\n",
      "2     Espana   47099000.0        Madrid\n",
      "3   Colombia   48922000.0        Bogota\n"
     ]
    }
   ],
   "source": [
    "print(df)"
   ]
  },
  {
   "cell_type": "code",
   "execution_count": 35,
   "metadata": {},
   "outputs": [
    {
     "name": "stdout",
     "output_type": "stream",
     "text": [
      "       Pais    Poblacion Capital\n",
      "0      Peru  127212000.0    CDMX\n",
      "2    Espana   47099000.0  Madrid\n",
      "3  Colombia   48922000.0  Bogota\n",
      "==================================\n",
      "       Pais    Poblacion Capital\n",
      "0      Peru  127212000.0    CDMX\n",
      "2    Espana   47099000.0  Madrid\n",
      "3  Colombia   48922000.0  Bogota\n"
     ]
    }
   ],
   "source": [
    "df_new = df.fillna(df['Poblacion'].mean(), inplace=False)\n",
    "print(df_new)\n",
    "print(\"==================================\")\n",
    "df['Poblacion'].fillna(df['Poblacion'].mean(), inplace=True)# inplace=True modifica el DataFrame original, en el caso de que sea False, se crea una copia del DataFrame\n",
    "print(df)\n",
    "\n",
    "\n"
   ]
  },
  {
   "cell_type": "code",
   "execution_count": 26,
   "metadata": {},
   "outputs": [
    {
     "name": "stdout",
     "output_type": "stream",
     "text": [
      "       Pais    Poblacion Capital\n",
      "0    Mexico  127212000.0    CDMX\n",
      "2    Espana   47099000.0  Madrid\n",
      "3  Colombia   48922000.0  Bogota\n"
     ]
    }
   ],
   "source": [
    "df.loc[1,'Poblacion'] = np.nan\n",
    "df.dropna(inplace=True)\n",
    "print(df)"
   ]
  },
  {
   "cell_type": "code",
   "execution_count": 27,
   "metadata": {},
   "outputs": [
    {
     "name": "stdout",
     "output_type": "stream",
     "text": [
      "       Pais    Poblacion Capital\n",
      "0            127212000.0    CDMX\n",
      "2    Espana   47099000.0  Madrid\n",
      "3  Colombia   48922000.0  Bogota\n"
     ]
    }
   ],
   "source": [
    "df.loc[0, 'Pais'] = ''\n",
    "print(df)"
   ]
  },
  {
   "cell_type": "code",
   "execution_count": 28,
   "metadata": {},
   "outputs": [
    {
     "name": "stdout",
     "output_type": "stream",
     "text": [
      "       Pais    Poblacion Capital\n",
      "0      Peru  127212000.0    CDMX\n",
      "2    Espana   47099000.0  Madrid\n",
      "3  Colombia   48922000.0  Bogota\n"
     ]
    }
   ],
   "source": [
    "df.loc[df['Pais'] == '', 'Pais'] = 'Peru'\n",
    "print(df)"
   ]
  },
  {
   "cell_type": "code",
   "execution_count": 33,
   "metadata": {},
   "outputs": [
    {
     "name": "stdout",
     "output_type": "stream",
     "text": [
      "   ID      Pais\n",
      "0   1    Mexico\n",
      "1   2    España\n",
      "2   3  Colombia\n",
      "   ID    Poblacion\n",
      "0   1  127212000.0\n",
      "1   2   47099000.0\n",
      "2   3   48922000.0\n"
     ]
    }
   ],
   "source": [
    "df1 = pd.DataFrame({'ID': [1, 2, 3], 'Pais': ['Mexico', 'España', 'Colombia']})\n",
    "df2 = pd.DataFrame({'ID': [1, 2, 3], 'Poblacion': [127212000.0, 47099000.0, 48922000.0]})\n",
    "print(df1)\n",
    "print(df2)"
   ]
  },
  {
   "cell_type": "code",
   "execution_count": 34,
   "metadata": {},
   "outputs": [
    {
     "name": "stdout",
     "output_type": "stream",
     "text": [
      "   ID      Pais    Poblacion\n",
      "0   1    Mexico  127212000.0\n",
      "1   2    España   47099000.0\n",
      "2   3  Colombia   48922000.0\n"
     ]
    }
   ],
   "source": [
    "df_merged = pd.merge(df1, df2, on='ID', how='inner') \n",
    "print(df_merged)"
   ]
  }
 ],
 "metadata": {
  "kernelspec": {
   "display_name": ".venv",
   "language": "python",
   "name": "python3"
  },
  "language_info": {
   "codemirror_mode": {
    "name": "ipython",
    "version": 3
   },
   "file_extension": ".py",
   "mimetype": "text/x-python",
   "name": "python",
   "nbconvert_exporter": "python",
   "pygments_lexer": "ipython3",
   "version": "3.11.9"
  }
 },
 "nbformat": 4,
 "nbformat_minor": 2
}
