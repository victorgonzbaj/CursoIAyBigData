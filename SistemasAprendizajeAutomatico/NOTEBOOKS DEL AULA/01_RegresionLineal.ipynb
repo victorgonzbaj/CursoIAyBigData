{
 "cells": [
  {
   "attachments": {
    "3d615d41-8c08-402f-820a-65836d9d3d06.png": {
     "image/png": "[encoded data removed]"
    }
   },
   "cell_type": "markdown",
   "id": "a8f7a16d-fe80-4512-bd3d-783c4322124d",
   "metadata": {},
   "source": [
    "<img alt=\"logo\" height=\"100\" src=\"img/logo.jpeg\" width=\"100\"/>   \n",
    "\n",
    "# REGRESIÓN LINEAL #\n",
    "### Definición ###\n",
    "Hay diferentes tipos de regresión lineal, y la más sencilla y práctica para aprender machine learning es la **regresión lineal simple**. Esta consta de una variable independiente y otra variable dependiente, pudiendo existir una relación entre ambas variables que hará que, a medida que aumenta el valor de una la otra lo haga proporcionalmente.  \n",
    "\n",
    "En estadística, la **regresión lineal simple** (o el ajuste lineal) es un modelo matemático utilizado para encontrar la relación de dependencia entre una variable dependiente (y) y otra independiente (X). En el caso de la regresión lineal múltiple buscaría la relación entre una variable dependiente y 'm' variables independientes.   \n",
    "\n",
    "\n",
    " <img width=\"460\" height=\"300\" src=\"img/linealregresion.png\" >   \n"
   ]
  },
  {
   "cell_type": "markdown",
   "id": "37ed6440-9d7f-4470-8e09-9b18c0067b9f",
   "metadata": {},
   "source": [
    "### Desarrollo de un modelo de regresión lineal en Python ###\n",
    "\n",
    "Se va a ir generando el código de la regresión lineal simple paso a paso para una mejor compresión "
   ]
  },
  {
   "cell_type": "markdown",
   "id": "67920682-80b7-4ef8-a64a-f178b54b9032",
   "metadata": {},
   "source": [
    "### PASO 1 - GENERACIÓN DEL DATAFRAME (PANDAS) CON LOS DATOS A ANALIZAR ###"
   ]
  },
  {
   "cell_type": "code",
   "execution_count": 19,
   "id": "c6744c1a-23e8-4329-b474-2b8f9ec465b3",
   "metadata": {
    "ExecuteTime": {
     "end_time": "2024-01-11T15:20:54.724950600Z",
     "start_time": "2024-01-11T15:20:54.444092900Z"
    }
   },
   "outputs": [],
   "source": [
    "import pandas as pd\n",
    "from sklearn.linear_model import LinearRegression\n",
    "from sklearn.model_selection import train_test_split\n",
    "from sklearn.metrics import mean_squared_error\n",
    "\n",
    "# ------------------------------------\n",
    "# Crear dataframe con los datos de facturación de clientes\n",
    "data = {'customer_id': [1, 2, 3, 4, 5],\n",
    "        'billing_amount': [100, 200, 150, 300, 250],\n",
    "        'sales': [2, 4, 3, 6, 5]\n",
    "}\n",
    "clients = pd.DataFrame(data)"
   ]
  },
  {
   "cell_type": "markdown",
   "id": "c043292f-23f6-4879-b589-d6310722261b",
   "metadata": {},
   "source": [
    "### PASO 2 - ANÁLISIS INICIAL DEL CONTENIDO DEL DATAFRAME ###"
   ]
  },
  {
   "cell_type": "markdown",
   "id": "1be77148-483b-41ee-ae4e-98374b17f3b5",
   "metadata": {},
   "source": [
    "Se muestran, a modo de comprobación,  los datos almacenados en el dataframe"
   ]
  },
  {
   "cell_type": "code",
   "execution_count": 20,
   "id": "eb756643-8727-4c8b-b2ab-38f2772fbcbf",
   "metadata": {
    "ExecuteTime": {
     "end_time": "2024-01-11T15:20:54.745789600Z",
     "start_time": "2024-01-11T15:20:54.730098Z"
    }
   },
   "outputs": [
    {
     "name": "stdout",
     "output_type": "stream",
     "text": [
      "   customer_id  billing_amount  sales\n",
      "0            1             100      2\n",
      "1            2             200      4\n",
      "2            3             150      3\n",
      "3            4             300      6\n",
      "4            5             250      5\n"
     ]
    }
   ],
   "source": [
    "print(clients)"
   ]
  },
  {
   "cell_type": "markdown",
   "id": "1a0d1572-f8c2-4c64-a5c0-9afcaf420463",
   "metadata": {},
   "source": [
    "Se comprueban los tipos de datos contenidos en el conjunto de datos y las dimensiones dataframe"
   ]
  },
  {
   "cell_type": "code",
   "execution_count": 21,
   "id": "fc794b97-4b59-484a-b2e7-d3faed3d3904",
   "metadata": {
    "ExecuteTime": {
     "end_time": "2024-01-11T15:20:54.804101100Z",
     "start_time": "2024-01-11T15:20:54.747833300Z"
    }
   },
   "outputs": [
    {
     "name": "stdout",
     "output_type": "stream",
     "text": [
      "<class 'pandas.core.frame.DataFrame'>\n",
      "RangeIndex: 5 entries, 0 to 4\n",
      "Data columns (total 3 columns):\n",
      " #   Column          Non-Null Count  Dtype\n",
      "---  ------          --------------  -----\n",
      " 0   customer_id     5 non-null      int64\n",
      " 1   billing_amount  5 non-null      int64\n",
      " 2   sales           5 non-null      int64\n",
      "dtypes: int64(3)\n",
      "memory usage: 252.0 bytes\n",
      "None\n"
     ]
    }
   ],
   "source": [
    "print(clients.info())"
   ]
  },
  {
   "cell_type": "markdown",
   "id": "0eaf36d7-5fe0-41a6-b4c8-d0dd33433c25",
   "metadata": {},
   "source": [
    "Se muestra la información sobre las dimensiones del dataframe"
   ]
  },
  {
   "cell_type": "code",
   "execution_count": 22,
   "id": "f2a47925-bcff-4a92-b076-094317365604",
   "metadata": {
    "ExecuteTime": {
     "end_time": "2024-01-11T15:20:54.864825100Z",
     "start_time": "2024-01-11T15:20:54.798944300Z"
    }
   },
   "outputs": [
    {
     "name": "stdout",
     "output_type": "stream",
     "text": [
      "(5, 3)\n"
     ]
    }
   ],
   "source": [
    "print(clients.shape)"
   ]
  },
  {
   "cell_type": "markdown",
   "id": "0b6cc7bd-bd85-4b5d-bb2d-62d489c08445",
   "metadata": {},
   "source": [
    "### PASO 3 - PARTICIONADO DE DATOS PARA GENERAR CONJUNTOS TRAIN Y TEST ###"
   ]
  },
  {
   "cell_type": "code",
   "execution_count": 23,
   "id": "12558c19-789d-4923-9992-369d1074949e",
   "metadata": {
    "ExecuteTime": {
     "end_time": "2024-01-11T15:20:54.918552200Z",
     "start_time": "2024-01-11T15:20:54.855450100Z"
    }
   },
   "outputs": [],
   "source": [
    "X_train, X_test, y_train, y_test = train_test_split(clients['billing_amount'], clients['sales'], random_state=20)"
   ]
  },
  {
   "cell_type": "markdown",
   "id": "5f71ac79-9825-49e7-9d17-51975afde4c4",
   "metadata": {},
   "source": [
    "Con esta línea de código indicamos que se cree, genere y divida los datos de cliente en varios conjuntos de datos de entrenamiento y prueba:  \n",
    "\n",
    "- Datos de entrada: 'customer_id'.\n",
    "- Variable dependiente: 'billing_amount', importe de facturación del cliente.\n",
    "- random_state: se genera una semilla aleatoria para dividir los datos de forma consistente cada vez que ejecutamos el código.\n",
    "- X_train: datos de entrada del conjunto de entrenamiento. Información que se usa para entrenar el modelo.\n",
    "- X_test: datos de entrada del conjunto de prueba. Información que se usa para testear el rendimiento del modelo ya entrenado.\n",
    "- y_train: datos de salida del conjjunto de entrenamiento. Información objetivo que se usa para entrenar el modelo.\n",
    "- y_test: datos de salida del conjunto de prueba. Información objetivo que se usa para testear el rendimiento del modelo ya entrenado.\n",
    "  \n",
    "Realizar esta partición es crucial para evaluar el rendimiento del modelo entrenado."
   ]
  },
  {
   "cell_type": "markdown",
   "source": [
    "### Creación del Modelo de regresión lineal simple ###"
   ],
   "metadata": {
    "collapsed": false
   },
   "id": "528400ff3a0836ba"
  },
  {
   "cell_type": "code",
   "outputs": [],
   "source": [
    "lr = LinearRegression().fit(X_train.values.reshape(-1, 1), y_train)"
   ],
   "metadata": {
    "collapsed": false,
    "ExecuteTime": {
     "end_time": "2024-01-11T15:20:54.972277300Z",
     "start_time": "2024-01-11T15:20:54.916495800Z"
    }
   },
   "id": "b130bffa7bdf0a50",
   "execution_count": 24
  },
  {
   "cell_type": "markdown",
   "source": [
    "#### Predicción ###\n",
    "Usamos el conjunto de test para realizar la predicción usando el modelo entrenado."
   ],
   "metadata": {
    "collapsed": false
   },
   "id": "b7cfc5fe2da282d6"
  },
  {
   "cell_type": "code",
   "outputs": [],
   "source": [
    "y_pred = lr.predict(X_test.values.reshape(-1, 1))"
   ],
   "metadata": {
    "collapsed": false,
    "ExecuteTime": {
     "end_time": "2024-01-11T15:20:55.023879400Z",
     "start_time": "2024-01-11T15:20:54.971279900Z"
    }
   },
   "id": "df5e43ae6dd71c5d",
   "execution_count": 25
  },
  {
   "cell_type": "markdown",
   "source": [
    "NOTA: X_test contiene los datos de entrada del conjunto de prueba. Con el \"reshape(-1,1)\" o con \".values.reshape(-1, 1)\" se pretende redimensionar la matriz a las dimensiones que requiere el modelo LinearRegression() de SciKit-Learn. Según el conjunto de datos utilizado, es posible añadir directamente la variable o puede que sea necesario redimensionarla usando **reshape** o **values.reshape**."
   ],
   "metadata": {
    "collapsed": false
   },
   "id": "dbdd2429fce082ad"
  },
  {
   "cell_type": "markdown",
   "source": [
    "#### Visualización de coeficientes mínimos cuadrados W1 y W0 ####"
   ],
   "metadata": {
    "collapsed": false
   },
   "id": "e8e87ba14a289a5f"
  },
  {
   "cell_type": "code",
   "outputs": [
    {
     "name": "stdout",
     "output_type": "stream",
     "text": [
      "Coeficiente w1: [0.02]\n",
      "Coeficiente w0: 4.440892098500626e-16\n"
     ]
    }
   ],
   "source": [
    "print(\"Coeficiente w1:\", lr.coef_)\n",
    "print(\"Coeficiente w0:\", lr.intercept_)"
   ],
   "metadata": {
    "collapsed": false,
    "ExecuteTime": {
     "end_time": "2024-01-11T15:20:55.081777100Z",
     "start_time": "2024-01-11T15:20:55.024935900Z"
    }
   },
   "id": "75e21084686f3d2e",
   "execution_count": 26
  },
  {
   "cell_type": "markdown",
   "source": [
    "#### Error cuadrático medio ####\n",
    "El **error cuadrático medio (ECM o RMSE)** mide la diferencia al cuadrado entre el valor real y el valor predicho en el total de predicciones del modelo de Machine Learning utilizado, mostrando las diferencias más elevadas.  \n",
    "En estadística, el error cuadrático medio es un estimador que mide el promedio de errores al cuadrado, es decir, la diferencia entre el estimador y lo que se estima. Es un parámetro perfecto para medir la cantidad de error entre dos conjuntos de datos. Una explicación sencilla es decir que compara el valor predicho con el valor conocido, dando como resultado un coeficiente de error."
   ],
   "metadata": {
    "collapsed": false
   },
   "id": "42bd83e67a45d760"
  },
  {
   "cell_type": "code",
   "outputs": [
    {
     "name": "stdout",
     "output_type": "stream",
     "text": [
      "0.0\n"
     ]
    }
   ],
   "source": [
    "print(mean_squared_error(y_test, y_pred))"
   ],
   "metadata": {
    "collapsed": false,
    "ExecuteTime": {
     "end_time": "2024-01-11T15:20:55.146943900Z",
     "start_time": "2024-01-11T15:20:55.084926300Z"
    }
   },
   "id": "bd3d9210f6612c2d",
   "execution_count": 27
  },
  {
   "cell_type": "markdown",
   "source": [
    "Por tanto, un valor bajo de RMSE supone un muy buen ajuste del modelo."
   ],
   "metadata": {
    "collapsed": false
   },
   "id": "3d24684bc5b031a7"
  },
  {
   "cell_type": "markdown",
   "source": [
    "#### Coeficientes de determinación ####  \n",
    "\n",
    "El coeficiente de determinación de entrenamiento y de pruebas debe ser parecido. Cuando encontramos que ambos valores tienen una diferencia grande suele significar que el modelo está mal ajustado. El coeficiente de determinación (R2) (R al cuadrado) se utiliza en estadística para cuantificar cómo de cerca están los puntos en la recta de regresión."
   ],
   "metadata": {
    "collapsed": false
   },
   "id": "4fe0e2bee1401f62"
  },
  {
   "cell_type": "code",
   "outputs": [
    {
     "name": "stdout",
     "output_type": "stream",
     "text": [
      "Valor del coeficiente de determinación del conjunto de entrenamiento: 1.0\n",
      "Valor del coeficiente de determinación del conjunto de prueba: 1.0\n"
     ]
    }
   ],
   "source": [
    "print(\"Valor del coeficiente de determinación del conjunto de entrenamiento:\", round (lr.score(X_train.values.reshape(-1, 1), y_train), 3))\n",
    "print(\"Valor del coeficiente de determinación del conjunto de prueba:\", round (lr.score(X_test.values.reshape(-1, 1), y_test), 3))"
   ],
   "metadata": {
    "collapsed": false,
    "ExecuteTime": {
     "end_time": "2024-01-11T15:20:55.209780400Z",
     "start_time": "2024-01-11T15:20:55.146943900Z"
    }
   },
   "id": "cd1d5f7a7f04bf4a",
   "execution_count": 28
  },
  {
   "cell_type": "markdown",
   "source": [
    "#### Ploteado de la gráfica de regresión lineal simple ####"
   ],
   "metadata": {
    "collapsed": false
   },
   "id": "c6882d3f61a6f288"
  },
  {
   "cell_type": "code",
   "outputs": [
    {
     "data": {
      "text/plain": "<Figure size 500x500 with 1 Axes>",
      "image/png": "[encoded data removed]"
     },
     "metadata": {},
     "output_type": "display_data"
    }
   ],
   "source": [
    "import seaborn as sns\n",
    "import matplotlib.pyplot as plt\n",
    "\n",
    "# Crear un gráfico de regresión lineal usando seaborn\n",
    "sns.lmplot(x='sales', y='billing_amount', data=clients)\n",
    "# Mostrar gráfico\n",
    "plt.show()"
   ],
   "metadata": {
    "collapsed": false,
    "ExecuteTime": {
     "end_time": "2024-01-11T15:20:55.535493200Z",
     "start_time": "2024-01-11T15:20:55.211828Z"
    }
   },
   "id": "d5d69ff64895f4e7",
   "execution_count": 29
  },
  {
   "cell_type": "markdown",
   "source": [
    "#### Ploteado de la gráfica de relación entre variables del conjunto de datos ####"
   ],
   "metadata": {
    "collapsed": false
   },
   "id": "c07677bf13ce1049"
  },
  {
   "cell_type": "code",
   "outputs": [
    {
     "name": "stderr",
     "output_type": "stream",
     "text": [
      "E:\\Users\\Jordi\\anaconda3\\envs\\ceiadb\\Lib\\site-packages\\seaborn\\_oldcore.py:1119: FutureWarning: use_inf_as_na option is deprecated and will be removed in a future version. Convert inf values to NaN before operating instead.\n",
      "  with pd.option_context('mode.use_inf_as_na', True):\n",
      "E:\\Users\\Jordi\\anaconda3\\envs\\ceiadb\\Lib\\site-packages\\seaborn\\_oldcore.py:1119: FutureWarning: use_inf_as_na option is deprecated and will be removed in a future version. Convert inf values to NaN before operating instead.\n",
      "  with pd.option_context('mode.use_inf_as_na', True):\n",
      "E:\\Users\\Jordi\\anaconda3\\envs\\ceiadb\\Lib\\site-packages\\seaborn\\_oldcore.py:1119: FutureWarning: use_inf_as_na option is deprecated and will be removed in a future version. Convert inf values to NaN before operating instead.\n",
      "  with pd.option_context('mode.use_inf_as_na', True):\n"
     ]
    },
    {
     "data": {
      "text/plain": "<Figure size 750x750 with 12 Axes>",
      "image/png": "[encoded data removed]"
     },
     "metadata": {},
     "output_type": "display_data"
    }
   ],
   "source": [
    "# Gráfico de relación entre variables del conjunto de datos.\n",
    "sns.pairplot(clients, height=2.5)\n",
    "plt.tight_layout()\n",
    "plt.show()"
   ],
   "metadata": {
    "collapsed": false,
    "ExecuteTime": {
     "end_time": "2024-01-11T15:20:57.156919200Z",
     "start_time": "2024-01-11T15:20:55.532478500Z"
    }
   },
   "id": "6eb75626f4896ad9",
   "execution_count": 30
  },
  {
   "cell_type": "markdown",
   "source": [
    "#### Ploteado de la gráfica de datos de entrenamiento ####"
   ],
   "metadata": {
    "collapsed": false
   },
   "id": "95b82507365c4594"
  },
  {
   "cell_type": "code",
   "outputs": [
    {
     "data": {
      "text/plain": "<Figure size 640x480 with 1 Axes>",
      "image/png": "[encoded data removed]"
     },
     "metadata": {},
     "output_type": "display_data"
    }
   ],
   "source": [
    "# Graficando los datos de entrenamiento\n",
    "plt.scatter(X_train, y_train, color='blue')\n",
    "\n",
    "# Grafica de la regresión lineal con datos de la predicción\n",
    "plt.plot(X_test, y_pred, color='red')\n",
    "plt.title('Regresión Lineal Simple')\n",
    "plt.xlabel('Importe de facturación')\n",
    "plt.ylabel('Ventas')\n",
    "plt.show()"
   ],
   "metadata": {
    "collapsed": false,
    "ExecuteTime": {
     "end_time": "2024-01-11T15:20:57.304382400Z",
     "start_time": "2024-01-11T15:20:57.162154800Z"
    }
   },
   "id": "a823e39e9c10603c",
   "execution_count": 31
  },
  {
   "cell_type": "markdown",
   "source": [
    "Con esto ya tenemos creada una regresión lineal simple con Python.\n",
    "\n",
    "Esta última gráfica, muestra los puntos de los datos de entrenamiento en color azul y la línea de regresión lineal en rojo.\n",
    "La línea de regresión lineal representa el modelo que se ha entrenado para hacer predicciones.\n",
    "\n",
    "La interpretación de la gráfica indica que, a medida que el número de ventas se incrementa, el importe de facturación también aumenta. Esto se ve reflejado en la pendiente positiva de la línea de regresión. Sin embargo, esta es una interpretación basada en una sola variable, si se utilizaran más variables se podría tener una interpretación más precisa y completa."
   ],
   "metadata": {
    "collapsed": false
   },
   "id": "23493ada1346e203"
  },
  {
   "cell_type": "code",
   "outputs": [],
   "source": [],
   "metadata": {
    "collapsed": false,
    "ExecuteTime": {
     "end_time": "2024-01-11T15:20:57.310608700Z",
     "start_time": "2024-01-11T15:20:57.306623900Z"
    }
   },
   "id": "a79e4dfe5c2a370e",
   "execution_count": 31
  }
 ],
 "metadata": {
  "kernelspec": {
   "display_name": "Python 3 (ipykernel)",
   "language": "python",
   "name": "python3"
  },
  "language_info": {
   "codemirror_mode": {
    "name": "ipython",
    "version": 3
   },
   "file_extension": ".py",
   "mimetype": "text/x-python",
   "name": "python",
   "nbconvert_exporter": "python",
   "pygments_lexer": "ipython3",
   "version": "3.11.5"
  }
 },
 "nbformat": 4,
 "nbformat_minor": 5
}
