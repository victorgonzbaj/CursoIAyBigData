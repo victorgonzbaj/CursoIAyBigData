{
 "cells": [
  {
   "cell_type": "markdown",
   "id": "7f32657edf5581e2",
   "metadata": {
    "collapsed": false
   },
   "source": [
    "# Aprendizaje no supervisado - ALGORITMO DE CLUSTERING DBSCAN"
   ]
  },
  {
   "cell_type": "markdown",
   "id": "15160791844f54f9",
   "metadata": {
    "collapsed": false
   },
   "source": [
    "Carga de librerías "
   ]
  },
  {
   "cell_type": "code",
   "execution_count": 3,
   "id": "initial_id",
   "metadata": {
    "ExecuteTime": {
     "end_time": "2024-03-13T19:12:10.009826Z",
     "start_time": "2024-03-13T19:12:08.635650Z"
    },
    "collapsed": true
   },
   "outputs": [],
   "source": [
    "import numpy as np\n",
    "import pandas as pd\n",
    "import matplotlib.pyplot as plt\n",
    "from sklearn.cluster import DBSCAN\n",
    "from sklearn.neighbors import NearestNeighbors\n",
    "from kneebow.rotor import Rotor\n",
    "import warnings\n",
    "warnings.filterwarnings(\"ignore\")"
   ]
  },
  {
   "cell_type": "markdown",
   "id": "9cbfebff05635c78",
   "metadata": {
    "collapsed": false
   },
   "source": [
    "Carga del Dataset"
   ]
  },
  {
   "cell_type": "code",
   "execution_count": 4,
   "id": "dacdb6106e64cc6e",
   "metadata": {
    "ExecuteTime": {
     "end_time": "2024-03-13T19:13:00.817834Z",
     "start_time": "2024-03-13T19:13:00.693135Z"
    },
    "collapsed": false
   },
   "outputs": [],
   "source": [
    "df = pd.read_csv(\"./datasets/Mall_Customers.csv\")"
   ]
  },
  {
   "cell_type": "code",
   "execution_count": 5,
   "id": "e08f6fe31199a6c2",
   "metadata": {
    "ExecuteTime": {
     "end_time": "2024-03-13T19:14:46.059281Z",
     "start_time": "2024-03-13T19:14:46.050571Z"
    },
    "collapsed": false
   },
   "outputs": [],
   "source": [
    "# Extracción de las columnas correspondientes a ingresos anuales y puntuación de gastos\n",
    "df = df.iloc[:,[3,4]].values"
   ]
  },
  {
   "cell_type": "code",
   "execution_count": 15,
   "id": "b8cd1cb0",
   "metadata": {},
   "outputs": [
    {
     "data": {
      "text/plain": [
       "array([[ 15,  39],\n",
       "       [ 15,  81],\n",
       "       [ 16,   6],\n",
       "       [ 16,  77],\n",
       "       [ 17,  40],\n",
       "       [ 17,  76],\n",
       "       [ 18,   6],\n",
       "       [ 18,  94],\n",
       "       [ 19,   3],\n",
       "       [ 19,  72],\n",
       "       [ 19,  14],\n",
       "       [ 19,  99],\n",
       "       [ 20,  15],\n",
       "       [ 20,  77],\n",
       "       [ 20,  13],\n",
       "       [ 20,  79],\n",
       "       [ 21,  35],\n",
       "       [ 21,  66],\n",
       "       [ 23,  29],\n",
       "       [ 23,  98],\n",
       "       [ 24,  35],\n",
       "       [ 24,  73],\n",
       "       [ 25,   5],\n",
       "       [ 25,  73],\n",
       "       [ 28,  14],\n",
       "       [ 28,  82],\n",
       "       [ 28,  32],\n",
       "       [ 28,  61],\n",
       "       [ 29,  31],\n",
       "       [ 29,  87],\n",
       "       [ 30,   4],\n",
       "       [ 30,  73],\n",
       "       [ 33,   4],\n",
       "       [ 33,  92],\n",
       "       [ 33,  14],\n",
       "       [ 33,  81],\n",
       "       [ 34,  17],\n",
       "       [ 34,  73],\n",
       "       [ 37,  26],\n",
       "       [ 37,  75],\n",
       "       [ 38,  35],\n",
       "       [ 38,  92],\n",
       "       [ 39,  36],\n",
       "       [ 39,  61],\n",
       "       [ 39,  28],\n",
       "       [ 39,  65],\n",
       "       [ 40,  55],\n",
       "       [ 40,  47],\n",
       "       [ 40,  42],\n",
       "       [ 40,  42],\n",
       "       [ 42,  52],\n",
       "       [ 42,  60],\n",
       "       [ 43,  54],\n",
       "       [ 43,  60],\n",
       "       [ 43,  45],\n",
       "       [ 43,  41],\n",
       "       [ 44,  50],\n",
       "       [ 44,  46],\n",
       "       [ 46,  51],\n",
       "       [ 46,  46],\n",
       "       [ 46,  56],\n",
       "       [ 46,  55],\n",
       "       [ 47,  52],\n",
       "       [ 47,  59],\n",
       "       [ 48,  51],\n",
       "       [ 48,  59],\n",
       "       [ 48,  50],\n",
       "       [ 48,  48],\n",
       "       [ 48,  59],\n",
       "       [ 48,  47],\n",
       "       [ 49,  55],\n",
       "       [ 49,  42],\n",
       "       [ 50,  49],\n",
       "       [ 50,  56],\n",
       "       [ 54,  47],\n",
       "       [ 54,  54],\n",
       "       [ 54,  53],\n",
       "       [ 54,  48],\n",
       "       [ 54,  52],\n",
       "       [ 54,  42],\n",
       "       [ 54,  51],\n",
       "       [ 54,  55],\n",
       "       [ 54,  41],\n",
       "       [ 54,  44],\n",
       "       [ 54,  57],\n",
       "       [ 54,  46],\n",
       "       [ 57,  58],\n",
       "       [ 57,  55],\n",
       "       [ 58,  60],\n",
       "       [ 58,  46],\n",
       "       [ 59,  55],\n",
       "       [ 59,  41],\n",
       "       [ 60,  49],\n",
       "       [ 60,  40],\n",
       "       [ 60,  42],\n",
       "       [ 60,  52],\n",
       "       [ 60,  47],\n",
       "       [ 60,  50],\n",
       "       [ 61,  42],\n",
       "       [ 61,  49],\n",
       "       [ 62,  41],\n",
       "       [ 62,  48],\n",
       "       [ 62,  59],\n",
       "       [ 62,  55],\n",
       "       [ 62,  56],\n",
       "       [ 62,  42],\n",
       "       [ 63,  50],\n",
       "       [ 63,  46],\n",
       "       [ 63,  43],\n",
       "       [ 63,  48],\n",
       "       [ 63,  52],\n",
       "       [ 63,  54],\n",
       "       [ 64,  42],\n",
       "       [ 64,  46],\n",
       "       [ 65,  48],\n",
       "       [ 65,  50],\n",
       "       [ 65,  43],\n",
       "       [ 65,  59],\n",
       "       [ 67,  43],\n",
       "       [ 67,  57],\n",
       "       [ 67,  56],\n",
       "       [ 67,  40],\n",
       "       [ 69,  58],\n",
       "       [ 69,  91],\n",
       "       [ 70,  29],\n",
       "       [ 70,  77],\n",
       "       [ 71,  35],\n",
       "       [ 71,  95],\n",
       "       [ 71,  11],\n",
       "       [ 71,  75],\n",
       "       [ 71,   9],\n",
       "       [ 71,  75],\n",
       "       [ 72,  34],\n",
       "       [ 72,  71],\n",
       "       [ 73,   5],\n",
       "       [ 73,  88],\n",
       "       [ 73,   7],\n",
       "       [ 73,  73],\n",
       "       [ 74,  10],\n",
       "       [ 74,  72],\n",
       "       [ 75,   5],\n",
       "       [ 75,  93],\n",
       "       [ 76,  40],\n",
       "       [ 76,  87],\n",
       "       [ 77,  12],\n",
       "       [ 77,  97],\n",
       "       [ 77,  36],\n",
       "       [ 77,  74],\n",
       "       [ 78,  22],\n",
       "       [ 78,  90],\n",
       "       [ 78,  17],\n",
       "       [ 78,  88],\n",
       "       [ 78,  20],\n",
       "       [ 78,  76],\n",
       "       [ 78,  16],\n",
       "       [ 78,  89],\n",
       "       [ 78,   1],\n",
       "       [ 78,  78],\n",
       "       [ 78,   1],\n",
       "       [ 78,  73],\n",
       "       [ 79,  35],\n",
       "       [ 79,  83],\n",
       "       [ 81,   5],\n",
       "       [ 81,  93],\n",
       "       [ 85,  26],\n",
       "       [ 85,  75],\n",
       "       [ 86,  20],\n",
       "       [ 86,  95],\n",
       "       [ 87,  27],\n",
       "       [ 87,  63],\n",
       "       [ 87,  13],\n",
       "       [ 87,  75],\n",
       "       [ 87,  10],\n",
       "       [ 87,  92],\n",
       "       [ 88,  13],\n",
       "       [ 88,  86],\n",
       "       [ 88,  15],\n",
       "       [ 88,  69],\n",
       "       [ 93,  14],\n",
       "       [ 93,  90],\n",
       "       [ 97,  32],\n",
       "       [ 97,  86],\n",
       "       [ 98,  15],\n",
       "       [ 98,  88],\n",
       "       [ 99,  39],\n",
       "       [ 99,  97],\n",
       "       [101,  24],\n",
       "       [101,  68],\n",
       "       [103,  17],\n",
       "       [103,  85],\n",
       "       [103,  23],\n",
       "       [103,  69],\n",
       "       [113,   8],\n",
       "       [113,  91],\n",
       "       [120,  16],\n",
       "       [120,  79],\n",
       "       [126,  28],\n",
       "       [126,  74],\n",
       "       [137,  18],\n",
       "       [137,  83]])"
      ]
     },
     "execution_count": 15,
     "metadata": {},
     "output_type": "execute_result"
    }
   ],
   "source": [
    "df"
   ]
  },
  {
   "cell_type": "markdown",
   "id": "efeabe626049e053",
   "metadata": {
    "collapsed": false
   },
   "source": [
    "Ahora mostramos una gráfica que visualice el conjunto de datos"
   ]
  },
  {
   "cell_type": "code",
   "execution_count": 6,
   "id": "59ba07a9651c3620",
   "metadata": {
    "ExecuteTime": {
     "end_time": "2024-03-13T19:16:04.036142Z",
     "start_time": "2024-03-13T19:16:03.769906Z"
    },
    "collapsed": false
   },
   "outputs": [
    {
     "data": {
      "text/plain": [
       "<matplotlib.collections.PathCollection at 0x2c6b196d5d0>"
      ]
     },
     "execution_count": 6,
     "metadata": {},
     "output_type": "execute_result"
    },
    {
     "data": {
      "image/png": "[encoded data removed]",
      "text/plain": [
       "<Figure size 640x480 with 1 Axes>"
      ]
     },
     "metadata": {},
     "output_type": "display_data"
    }
   ],
   "source": [
    "plt.scatter(df[:,0], df[:,1], s=10, c= \"blue\")"
   ]
  },
  {
   "cell_type": "markdown",
   "id": "8ff16ad7958cfccd",
   "metadata": {
    "collapsed": false
   },
   "source": [
    "En la siguiente función se calcula la distancia *k* para determinar el valor de *epsilon*"
   ]
  },
  {
   "cell_type": "code",
   "execution_count": 7,
   "id": "748e298b969645bc",
   "metadata": {
    "ExecuteTime": {
     "end_time": "2024-03-13T19:17:40.180415Z",
     "start_time": "2024-03-13T19:17:40.173809Z"
    },
    "collapsed": false
   },
   "outputs": [],
   "source": [
    "def calculate_kn_distance(X, neigh=2):\n",
    "    neigh = NearestNeighbors(n_neighbors=neigh)\n",
    "    nbrs = neigh.fit(X)\n",
    "    distances, indices = nbrs.kneighbors(X)\n",
    "    return distances[:,1:].reshape(-1)"
   ]
  },
  {
   "cell_type": "markdown",
   "id": "11fde2f9e0b8264a",
   "metadata": {
    "collapsed": false
   },
   "source": [
    "A continuación, en esta otra función, se obtiene el valor exacto de *epsilon* usando *kneebow*. Esta librería nos permite encontrar el **codo** de una curva rotando la misma y tomando el valor mínimo."
   ]
  },
  {
   "cell_type": "code",
   "execution_count": 8,
   "id": "4a8b9e5b6a771f3",
   "metadata": {
    "ExecuteTime": {
     "end_time": "2024-03-13T19:19:42.247719Z",
     "start_time": "2024-03-13T19:19:42.241793Z"
    },
    "collapsed": false
   },
   "outputs": [],
   "source": [
    "def get_eps(X, neigh=2):\n",
    "    eps_dist = np.sort(calculate_kn_distance(X, neigh=neigh))\n",
    "    rotor = Rotor()\n",
    "    curve_xy = np.concatenate([np.arange(eps_dist.shape[0]).reshape(-1, 1), eps_dist.reshape(-1, 1)],1)\n",
    "    rotor.fit_rotate(curve_xy)\n",
    "    rotor.plot_elbow()\n",
    "    e_idx = rotor.get_elbow_index()\n",
    "    return curve_xy[e_idx]"
   ]
  },
  {
   "cell_type": "code",
   "execution_count": 9,
   "id": "4fb91721d69d465a",
   "metadata": {
    "ExecuteTime": {
     "end_time": "2024-03-13T19:21:56.550334Z",
     "start_time": "2024-03-13T19:21:56.438113Z"
    },
    "collapsed": false
   },
   "outputs": [
    {
     "data": {
      "image/png": "[encoded data removed]",
      "text/plain": [
       "<Figure size 640x480 with 1 Axes>"
      ]
     },
     "metadata": {},
     "output_type": "display_data"
    },
    {
     "name": "stdout",
     "output_type": "stream",
     "text": [
      "5.385164807134504\n"
     ]
    }
   ],
   "source": [
    "idx, eps = get_eps(df)  # Llamada a las funciones\n",
    "plt.show()              # Ploteado \n",
    "print(eps)              # Valor exacto de  EPSILON\n"
   ]
  },
  {
   "cell_type": "markdown",
   "id": "2b9a63925077d945",
   "metadata": {
    "collapsed": false
   },
   "source": [
    "Ejecución del DBSCAN pasándo como parámetros el valor hallado para EPSILON y un número estimado de puntos mínimos para considerar un clúster (min_samples) = 5"
   ]
  },
  {
   "cell_type": "code",
   "execution_count": 10,
   "id": "ce7e3d68",
   "metadata": {
    "ExecuteTime": {
     "end_time": "2024-03-13T19:24:12.257129Z",
     "start_time": "2024-03-13T19:24:12.251170Z"
    }
   },
   "outputs": [],
   "source": [
    "clusters = DBSCAN(eps=5, min_samples=5).fit(df)"
   ]
  },
  {
   "cell_type": "markdown",
   "id": "fc48dc48bc8e7bdc",
   "metadata": {
    "collapsed": false
   },
   "source": [
    "Etiquetado de cada punto de datos en un clúster, desde -1 (ruido) hasta 4 (último clúster visitado)"
   ]
  },
  {
   "cell_type": "code",
   "execution_count": 11,
   "id": "682443bfe9087df7",
   "metadata": {
    "ExecuteTime": {
     "end_time": "2024-03-13T19:25:26.575169Z",
     "start_time": "2024-03-13T19:25:26.571999Z"
    },
    "collapsed": false
   },
   "outputs": [],
   "source": [
    "labels = clusters.labels_"
   ]
  },
  {
   "cell_type": "markdown",
   "id": "336f1abe467fc4fb",
   "metadata": {
    "collapsed": false
   },
   "source": [
    "Ploteado de la gráfica añadiendo distintos colores para cada etiqueta"
   ]
  },
  {
   "cell_type": "code",
   "execution_count": 12,
   "id": "30d75b1f",
   "metadata": {
    "ExecuteTime": {
     "end_time": "2024-03-13T19:27:04.610085Z",
     "start_time": "2024-03-13T19:27:04.478386Z"
    }
   },
   "outputs": [
    {
     "data": {
      "image/png": "[encoded data removed]",
      "text/plain": [
       "<Figure size 640x480 with 1 Axes>"
      ]
     },
     "metadata": {},
     "output_type": "display_data"
    }
   ],
   "source": [
    "plt.scatter(df[labels == -1, 0 ], df[labels == -1, 1], s = 10, c = 'green' )\n",
    "plt.scatter(df[labels == 0, 0 ], df[labels == 0, 1], s = 10, c = 'blue' )\n",
    "plt.scatter(df[labels == 1, 0 ], df[labels == 1, 1], s = 10, c = 'magenta' )\n",
    "plt.scatter(df[labels == 2, 0 ], df[labels == 2, 1], s = 10, c = 'yellow' )\n",
    "plt.scatter(df[labels == 3, 0 ], df[labels == 3, 1], s = 10, c = 'red' )\n",
    "plt.scatter(df[labels == 4, 0 ], df[labels == 4, 1], s = 10, c = 'orange' )\n",
    "plt.show()"
   ]
  },
  {
   "cell_type": "markdown",
   "id": "30deae86904f21ab",
   "metadata": {
    "collapsed": false
   },
   "source": [
    "En conclusión, el algoritmo DBSCAN es un método versátil y eficaz para la agrupación de datos en una variedad de aplicaciones. Particularmente es adecuado para manipular datos con formas irregulares y densidades variables, y es capaz de identificar puntos de ruido y valores atípicos en la información. \n",
    "\n",
    "Sin embargo, como cualquier otro algoritmo de agrupación, DBSCAN tiene ciertas limitaciones y supuestos que deben ser tomados en cuenta a la hora de aplicarlo en datos del mundo real. Por ejemplo, supone que las agrupaciones son regiones densas separadas por zonas de menor densidad, y no funciona correctamente con datos que tienen niveles de densidad muy diferentes o puntos de ruido que se encuentran distribuidos a través de toda la información.  \n",
    " \n",
    "Además, se requiere especial cuidado a la hora de seleccionar los parámetros, tales como el tamaño del radio hasta donde admite vecinos y el número mínimo de puntos requeridos para formar un grupo, los cuales pueden afectar los resultados de las agrupaciones."
   ]
  },
  {
   "cell_type": "code",
   "execution_count": null,
   "id": "ea910cfa1d0c5aff",
   "metadata": {
    "collapsed": false
   },
   "outputs": [],
   "source": []
  }
 ],
 "metadata": {
  "kernelspec": {
   "display_name": ".venv",
   "language": "python",
   "name": "python3"
  },
  "language_info": {
   "codemirror_mode": {
    "name": "ipython",
    "version": 3
   },
   "file_extension": ".py",
   "mimetype": "text/x-python",
   "name": "python",
   "nbconvert_exporter": "python",
   "pygments_lexer": "ipython3",
   "version": "3.11.9"
  }
 },
 "nbformat": 4,
 "nbformat_minor": 5
}
