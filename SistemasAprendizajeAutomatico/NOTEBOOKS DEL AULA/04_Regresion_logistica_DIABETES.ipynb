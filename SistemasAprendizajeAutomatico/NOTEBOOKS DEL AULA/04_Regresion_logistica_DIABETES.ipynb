{
 "cells": [
  {
   "cell_type": "markdown",
   "metadata": {},
   "source": [
    "## <a id='toc1_1_'></a>[Regresión Logística - Predicción de diabetes](#toc0_)"
   ]
  },
  {
   "cell_type": "markdown",
   "metadata": {},
   "source": [
    "A continuación, se va a predecir la diabetes con un clasificador de regresión logística.\n",
    "\n",
    "En primer lugar, cargamos el conjunto de datos necesario sobre la diabetes de los indios Pima (pima-indians-diabetes.csv) utilizando la función de lectura CSV de pandas.    \n",
    "\n",
    "El conjunto de datos está accesible desde **datasets/pima-indians-diabetes.csv**.   "
   ]
  },
  {
   "cell_type": "markdown",
   "metadata": {},
   "source": [
    "**Tabla de contenidos**<a id='toc0_'></a>    \n",
    "- [Regresión Logística - Predicción de diabetes](#toc1_1_)    \n",
    "  - [Carga de datos](#toc1_2_)    \n",
    "  - [Seleccionar característica](#toc1_3_)    \n",
    "  - [Dividir los datos](#toc1_4_)    \n",
    "  - [Construcción, entrenamiento y predicción de modelos](#toc1_5_)    \n",
    "  - [Evaluación del modelo mediante la matriz de confusión](#toc1_6_)    \n",
    "  - [Visualización de la matriz de confusión mediante un mapa de calor (HEATMAP)](#toc1_7_)    \n",
    "  - [Métricas de evaluación de la matriz de confusión](#toc1_8_)    \n",
    "  - [Curva ROC](#toc1_9_)    \n",
    "  - [Notas finales sobre el algoritmo de Regresión Logística.](#toc1_10_)    \n",
    "\n",
    "<!-- vscode-jupyter-toc-config\n",
    "\tnumbering=false\n",
    "\tanchor=true\n",
    "\tflat=false\n",
    "\tminLevel=1\n",
    "\tmaxLevel=6\n",
    "\t/vscode-jupyter-toc-config -->\n",
    "<!-- THIS CELL WILL BE REPLACED ON TOC UPDATE. DO NOT WRITE YOUR TEXT IN THIS CELL -->"
   ]
  },
  {
   "cell_type": "markdown",
   "metadata": {},
   "source": [
    "## <a id='toc1_2_'></a>[Carga de datos](#toc0_)"
   ]
  },
  {
   "cell_type": "code",
   "execution_count": 1,
   "metadata": {},
   "outputs": [],
   "source": [
    "#importamos pandas\n",
    "import pandas as pd\n",
    "import warnings\n",
    "warnings.filterwarnings(\"ignore\") #ignoramos los warnings\n",
    "col_names = ['pregnant', 'glucose', 'bp', 'skin', 'insulin', 'bmi', 'pedigree', 'age', 'label']\n",
    "#cargamos  dataset\n",
    "pima = pd.read_csv(\"datasets/pima-indians-diabetes.csv\", header=None, names=col_names)\n"
   ]
  },
  {
   "cell_type": "code",
   "execution_count": null,
   "metadata": {},
   "outputs": [
    {
     "data": {
      "text/html": [
       "<div>\n",
       "<style scoped>\n",
       "    .dataframe tbody tr th:only-of-type {\n",
       "        vertical-align: middle;\n",
       "    }\n",
       "\n",
       "    .dataframe tbody tr th {\n",
       "        vertical-align: top;\n",
       "    }\n",
       "\n",
       "    .dataframe thead th {\n",
       "        text-align: right;\n",
       "    }\n",
       "</style>\n",
       "<table border=\"1\" class=\"dataframe\">\n",
       "  <thead>\n",
       "    <tr style=\"text-align: right;\">\n",
       "      <th></th>\n",
       "      <th>pregnant</th>\n",
       "      <th>glucose</th>\n",
       "      <th>bp</th>\n",
       "      <th>skin</th>\n",
       "      <th>insulin</th>\n",
       "      <th>bmi</th>\n",
       "      <th>pedigree</th>\n",
       "      <th>age</th>\n",
       "      <th>label</th>\n",
       "    </tr>\n",
       "  </thead>\n",
       "  <tbody>\n",
       "    <tr>\n",
       "      <th>0</th>\n",
       "      <td>6</td>\n",
       "      <td>148</td>\n",
       "      <td>72</td>\n",
       "      <td>35</td>\n",
       "      <td>0</td>\n",
       "      <td>33.6</td>\n",
       "      <td>0.627</td>\n",
       "      <td>50</td>\n",
       "      <td>1</td>\n",
       "    </tr>\n",
       "    <tr>\n",
       "      <th>1</th>\n",
       "      <td>1</td>\n",
       "      <td>85</td>\n",
       "      <td>66</td>\n",
       "      <td>29</td>\n",
       "      <td>0</td>\n",
       "      <td>26.6</td>\n",
       "      <td>0.351</td>\n",
       "      <td>31</td>\n",
       "      <td>0</td>\n",
       "    </tr>\n",
       "    <tr>\n",
       "      <th>2</th>\n",
       "      <td>8</td>\n",
       "      <td>183</td>\n",
       "      <td>64</td>\n",
       "      <td>0</td>\n",
       "      <td>0</td>\n",
       "      <td>23.3</td>\n",
       "      <td>0.672</td>\n",
       "      <td>32</td>\n",
       "      <td>1</td>\n",
       "    </tr>\n",
       "    <tr>\n",
       "      <th>3</th>\n",
       "      <td>1</td>\n",
       "      <td>89</td>\n",
       "      <td>66</td>\n",
       "      <td>23</td>\n",
       "      <td>94</td>\n",
       "      <td>28.1</td>\n",
       "      <td>0.167</td>\n",
       "      <td>21</td>\n",
       "      <td>0</td>\n",
       "    </tr>\n",
       "    <tr>\n",
       "      <th>4</th>\n",
       "      <td>0</td>\n",
       "      <td>137</td>\n",
       "      <td>40</td>\n",
       "      <td>35</td>\n",
       "      <td>168</td>\n",
       "      <td>43.1</td>\n",
       "      <td>2.288</td>\n",
       "      <td>33</td>\n",
       "      <td>1</td>\n",
       "    </tr>\n",
       "  </tbody>\n",
       "</table>\n",
       "</div>"
      ],
      "text/plain": [
       "   pregnant  glucose  bp  skin  insulin   bmi  pedigree  age  label\n",
       "0         6      148  72    35        0  33.6     0.627   50      1\n",
       "1         1       85  66    29        0  26.6     0.351   31      0\n",
       "2         8      183  64     0        0  23.3     0.672   32      1\n",
       "3         1       89  66    23       94  28.1     0.167   21      0\n",
       "4         0      137  40    35      168  43.1     2.288   33      1"
      ]
     },
     "execution_count": 2,
     "metadata": {},
     "output_type": "execute_result"
    }
   ],
   "source": [
    "pima.head()"
   ]
  },
  {
   "cell_type": "markdown",
   "metadata": {},
   "source": [
    "## <a id='toc1_3_'></a>[Seleccionar característica](#toc0_)\n",
    "\n",
    "Dividimos las columnas dadas en dos tipos de variables: dependiente (o variable objetivo) e independiente (o variables características)."
   ]
  },
  {
   "cell_type": "code",
   "execution_count": null,
   "metadata": {},
   "outputs": [],
   "source": [
    "#split dataset (características y variable objetivo)\n",
    "feature_cols = ['pregnant', 'insulin', 'bmi', 'age','glucose','bp','pedigree']\n",
    "X = pima[feature_cols] # características\n",
    "y = pima.label # objetivo"
   ]
  },
  {
   "cell_type": "markdown",
   "metadata": {},
   "source": [
    "## <a id='toc1_4_'></a>[Dividir los datos](#toc0_)\n",
    "\n",
    "Dividimos el dataset en un conjunto de entrenamiento y un conjunto de prueba."
   ]
  },
  {
   "cell_type": "code",
   "execution_count": null,
   "metadata": {},
   "outputs": [],
   "source": [
    "# split en train y test 75% - 25%\n",
    "from sklearn.model_selection import train_test_split\n",
    "\n",
    "X_train, X_test, y_train, y_test = train_test_split(X, y, test_size=0.25, random_state=16)"
   ]
  },
  {
   "cell_type": "markdown",
   "metadata": {},
   "source": [
    "## <a id='toc1_5_'></a>[Construcción, entrenamiento y predicción de modelos](#toc0_)\n",
    "\n",
    "1. Importamos el módulo Regresión logística.\n",
    "2. Se crea un objeto clasificador de Regresión logística utilizando la función LogisticRegression() (con random_state fijado para repetir experimentos sin variación ).   \n",
    "3. A continuación, entrenamos el modelo con fit() y finalmente, se lleva a cabo la predicción en el conjunto de prueba mediante predict(). "
   ]
  },
  {
   "cell_type": "code",
   "execution_count": null,
   "metadata": {},
   "outputs": [],
   "source": [
    "# importamos el modelo\n",
    "from sklearn.linear_model import LogisticRegression\n",
    "\n",
    "# instanciamos el modelo (usando los parámetros por defecto)\n",
    "logreg = LogisticRegression(random_state=16)\n",
    "\n",
    "# entrenamos el modelo\n",
    "logreg.fit(X_train, y_train)\n",
    "\n",
    "# hacemos predicciones sobre el conjunto de test\n",
    "y_pred = logreg.predict(X_test)"
   ]
  },
  {
   "cell_type": "markdown",
   "metadata": {},
   "source": [
    "## <a id='toc1_6_'></a>[Evaluación del modelo mediante la matriz de confusión](#toc0_)\n",
    "\n",
    "Una matriz de confusión es una tabla que se utiliza para evaluar el rendimiento de un modelo de clasificación.       \n",
    "La información de una matriz de confusión es el número de predicciones correctas e incorrectas sumadas por clases."
   ]
  },
  {
   "cell_type": "code",
   "execution_count": 6,
   "metadata": {},
   "outputs": [
    {
     "data": {
      "text/plain": [
       "array([[115,  10],\n",
       "       [ 25,  42]])"
      ]
     },
     "execution_count": 6,
     "metadata": {},
     "output_type": "execute_result"
    }
   ],
   "source": [
    "# importamos la clase de métricas\n",
    "from sklearn import metrics\n",
    "\n",
    "cnf_matrix = metrics.confusion_matrix(y_test, y_pred)\n",
    "cnf_matrix"
   ]
  },
  {
   "cell_type": "markdown",
   "metadata": {},
   "source": [
    "Aquí puedes ver la matriz de confusión en forma de array.   \n",
    "La dimensión de esta matriz es 2*2 porque este modelo es de clasificación binaria.   \n",
    "Tienes dos clases 0 y 1.   \n",
    "Los valores diagonales representan predicciones exactas, mientras que los elementos no diagonales son predicciones inexactas.   \n",
    "En la salida, 115 y 42 son predicciones reales, y 25 y 10 son predicciones incorrectas. (Ojo, puede variar en función de la versión de la librería por temas de precisión)"
   ]
  },
  {
   "cell_type": "markdown",
   "metadata": {},
   "source": [
    "## <a id='toc1_7_'></a>[Visualización de la matriz de confusión mediante un mapa de calor (HEATMAP)](#toc0_)\n",
    "\n",
    "Vamos a visualizar los resultados del modelo en forma de matriz de confusión utilizando matplotlib y seaborn.\n",
    "\n",
    "A continuación se visualiza la matriz de confusión utilizando Heatmap."
   ]
  },
  {
   "cell_type": "code",
   "execution_count": null,
   "metadata": {},
   "outputs": [
    {
     "data": {
      "text/plain": [
       "Text(0.5, 427.9555555555555, 'Predicted label')"
      ]
     },
     "execution_count": 8,
     "metadata": {},
     "output_type": "execute_result"
    },
    {
     "data": {
      "image/png": "[encoded data removed]",
      "text/plain": [
       "<Figure size 640x480 with 2 Axes>"
      ]
     },
     "metadata": {},
     "output_type": "display_data"
    }
   ],
   "source": [
    "\n",
    "# importamos los módulos necesarios\n",
    "import numpy as np\n",
    "import matplotlib.pyplot as plt\n",
    "import seaborn as sns\n",
    "\n",
    "class_names=[0,1] # nombre de las clases\n",
    "fig, ax = plt.subplots()\n",
    "tick_marks = np.arange(len(class_names))\n",
    "plt.xticks(tick_marks, class_names)\n",
    "plt.yticks(tick_marks, class_names)\n",
    "\n",
    "# creamos el heatmap\n",
    "sns.heatmap(pd.DataFrame(cnf_matrix), annot=True, cmap=\"YlGnBu\" ,fmt='g')\n",
    "ax.xaxis.set_label_position(\"top\")\n",
    "plt.tight_layout()\n",
    "plt.title('Confusion matrix', y=1.1)\n",
    "plt.ylabel('Actual label')\n",
    "plt.xlabel('Predicted label')\n"
   ]
  },
  {
   "cell_type": "markdown",
   "metadata": {},
   "source": [
    "## <a id='toc1_8_'></a>[Métricas de evaluación de la matriz de confusión](#toc0_)\n",
    "\n",
    "Vamos a evaluar el modelo utilizando *classification_report* para ver la exactitud, la precisión y la recuperación/sensibilidad/recall."
   ]
  },
  {
   "cell_type": "code",
   "execution_count": 9,
   "metadata": {},
   "outputs": [
    {
     "name": "stdout",
     "output_type": "stream",
     "text": [
      "                  precision    recall  f1-score   support\n",
      "\n",
      "without diabetes       0.82      0.92      0.87       125\n",
      "   with diabetes       0.81      0.63      0.71        67\n",
      "\n",
      "        accuracy                           0.82       192\n",
      "       macro avg       0.81      0.77      0.79       192\n",
      "    weighted avg       0.82      0.82      0.81       192\n",
      "\n"
     ]
    }
   ],
   "source": [
    "from sklearn.metrics import classification_report\n",
    "target_names = ['without diabetes', 'with diabetes']\n",
    "print(classification_report(y_test, y_pred, target_names=target_names))"
   ]
  },
  {
   "cell_type": "markdown",
   "metadata": {},
   "source": [
    "Se ha obtenido un índice de clasificación del 82 %, lo que se considera una buena precisión.\n",
    "\n",
    "- Precisión: La precisión consiste en ser preciso, es decir, lo exacto que es el modelo. En otras palabras, se puede decir, cuando un modelo hace una predicción, con qué frecuencia acierta. En este caso de predicción, cuando el modelo de Regresión Logística predijo que los pacientes iban a padecer diabetes, ese 81 % de las veces, mientras que para el caso de aquellos que no la padecerán acierta el 82 % de las ocasiones.\n",
    "\n",
    "- Sensibilidad/Recall: Si hay pacientes que tienen diabetes en el conjunto de pruebas y tu modelo de regresión logística puede identificarla el 63 % de las veces.\n",
    "- Exactitud/Accuracy: 82 %. Recordamos que es la proporción de todas las clasificaciones correctas, ya sean positivas o negativas."
   ]
  },
  {
   "cell_type": "markdown",
   "metadata": {},
   "source": [
    "## <a id='toc1_9_'></a>[Curva ROC](#toc0_)\n",
    "\n",
    "Introducimos una nueva métrica, denominada curva ROC (característica operativa del receptor), que es un gráfico que muestra la tasa de verdaderos positivos frente a la tasa de falsos positivos.    \n",
    "Nos ofrece el compromiso entre sensibilidad y especificidad.\n",
    "\n",
    "***La especificidad («Specificity»)***   \n",
    "También conocida como la Tasa de Verdaderos Negativos, (“true negative rate”) o TN. Se trata de los casos negativos que el algoritmo ha clasificado correctamente.  Expresa cuan bien puede el modelo detectar esa clase.\n",
    "Se calcula:  **VN/(VN+FP)**"
   ]
  },
  {
   "cell_type": "code",
   "execution_count": 19,
   "metadata": {},
   "outputs": [
    {
     "name": "stdout",
     "output_type": "stream",
     "text": [
      "Especificidad:  92.0 %\n"
     ]
    }
   ],
   "source": [
    "from sklearn.metrics import recall_score\n",
    "# specificity\n",
    "# specificity = TN / (TN + FP) \n",
    "# La especificidad se calcula como el recall de la clase 0\n",
    "\n",
    "especificidad = recall_score(y_test, y_pred, pos_label=0) * 100\n",
    "print(\"Especificidad: \", especificidad, \"%\")"
   ]
  },
  {
   "cell_type": "code",
   "execution_count": 20,
   "metadata": {},
   "outputs": [
    {
     "data": {
      "image/png": "[encoded data removed]",
      "text/plain": [
       "<Figure size 640x480 with 1 Axes>"
      ]
     },
     "metadata": {},
     "output_type": "display_data"
    }
   ],
   "source": [
    "# Curva ROC\n",
    "y_pred_proba = logreg.predict_proba(X_test)[::,1]\n",
    "fpr, tpr, _ = metrics.roc_curve(y_test,  y_pred_proba)\n",
    "auc = metrics.roc_auc_score(y_test, y_pred_proba)\n",
    "plt.plot(fpr,tpr,label=\"data 1, auc=\"+str(auc))\n",
    "plt.legend(loc=4)\n",
    "plt.show()"
   ]
  },
  {
   "cell_type": "markdown",
   "metadata": {},
   "source": [
    "La puntuación AUC del modelo es de 0,88.   \n",
    "La puntuación AUC 1 representa un clasificador perfecto, y desde 0,5 hacia 0 representa un clasificador que no funciona adecuadamente."
   ]
  },
  {
   "cell_type": "markdown",
   "metadata": {},
   "source": [
    "## <a id='toc1_10_'></a>[Notas finales sobre el algoritmo de Regresión Logística.](#toc0_)\n",
    "\n",
    "- Ventajas\n",
    "  - No requiere una gran potencia de cálculo-\n",
    "  - Es fácil de aplicar\n",
    "  - Es fácilmente interpretable \n",
    "  - No requiere escalado de funciones. \n",
    "\n",
    "- Desventajas\n",
    " - La regresión logística no es capaz de manejar un gran número de características/variables categóricas. \n",
    " - Es vulnerable al sobreajuste. \n",
    " - No se puede resolver un problema no lineal con la regresión logística. \n",
    " - La regresión logística no funcionará bien con variables independientes que no estén correlacionadas con la variable objetivo y sean muy similares o estén correlacionadas entre sí."
   ]
  }
 ],
 "metadata": {
  "kernelspec": {
   "display_name": "Python 3",
   "language": "python",
   "name": "python3"
  },
  "language_info": {
   "codemirror_mode": {
    "name": "ipython",
    "version": 3
   },
   "file_extension": ".py",
   "mimetype": "text/x-python",
   "name": "python",
   "nbconvert_exporter": "python",
   "pygments_lexer": "ipython3",
   "version": "3.11.11"
  }
 },
 "nbformat": 4,
 "nbformat_minor": 2
}
