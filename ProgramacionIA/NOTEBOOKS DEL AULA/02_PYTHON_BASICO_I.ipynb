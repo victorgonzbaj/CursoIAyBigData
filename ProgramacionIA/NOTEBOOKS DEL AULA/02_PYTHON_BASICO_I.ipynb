{
 "cells": [
  {
   "cell_type": "markdown",
   "metadata": {
    "slideshow": {
     "slide_type": "slide"
    }
   },
   "source": [
    "<img src=\"img/logo.jpeg\" width=\"100\">\n",
    "\n",
    "## PYTHON INTRO\n",
    "\n",
    "![logo](img/python_logo.png)\n",
    "\n",
    "*Jordi Pozo*\n",
    "*I.E.S. Ribera de Castilla*\n",
    "- email - jpozoc@educa.jcyl.es"
   ]
  },
  {
   "cell_type": "code",
   "execution_count": null,
   "metadata": {
    "slideshow": {
     "slide_type": "slide"
    }
   },
   "outputs": [],
   "source": [
    "print(\"Hola mundo\")"
   ]
  },
  {
   "cell_type": "markdown",
   "metadata": {
    "slideshow": {
     "slide_type": "fragment"
    }
   },
   "source": [
    "# Introducción a Python (Hola Mundo)\n",
    "### Principales características\n",
    "* lenguaje de alto nivel\n",
    "* Interpretado, no compilado. Más flexible y portable\n",
    "* Soporte de diversos paradigmas: imperativo, orientado a objetos, funcional orientada a aspectos\n",
    "* Sistema de tipos dinámico y gestión automática de memoria\n",
    "* Énfasis en la legibilidad\n",
    "* Uso de identación para delimitar bloques de código\n",
    "* Gran librería con módulos para múltiples tarea\n",
    "* Fuertemente tipado\n",
    "* Multiplataforma\n"
   ]
  },
  {
   "cell_type": "markdown",
   "metadata": {
    "slideshow": {
     "slide_type": "subslide"
    }
   },
   "source": [
    "> El tipado de los datos es algo importante y a tener en cuenta cuando se está desarrollando un programa. Suele ser recurrente para logs, operaciones aritméticas, etc...\n",
    "Para IoT es interesante que pueda estar disponible en cualquier plataforma o distribución. Rapsian..."
   ]
  },
  {
   "cell_type": "markdown",
   "metadata": {
    "slideshow": {
     "slide_type": "fragment"
    }
   },
   "source": [
    "> ¿Por qué Python? A parte de estas características añadir la filosofía que hay detrás. Las capacidades en cuanto a encontrar librerías espcíficas. Destacar la legibilidad y simpleza."
   ]
  },
  {
   "cell_type": "markdown",
   "metadata": {
    "slideshow": {
     "slide_type": "fragment"
    }
   },
   "source": [
    "> No es recomendable para usos en los que el rendimiento es crítico"
   ]
  },
  {
   "cell_type": "markdown",
   "metadata": {
    "slideshow": {
     "slide_type": "slide"
    }
   },
   "source": [
    "# ¿Por qué Python?\n",
    "\n",
    "* Ofrece un repertorio de librerías estables y maduras\n",
    "* Fácil integración con herramientas y otros lenguajes\n",
    "* Versátil en la tipología de programación\n",
    "* ¡Es multiplataforma! Perfecto para entorno IoT\n",
    "* Compilable para mejorar ejecución\n",
    "* Trabajo en memoria con gran cantidad de datos\n",
    "* Comunidad muy participativa y mucha documentación\n",
    "\n",
    "[Stack Overflow Developer Survey Results 2020](https://insights.stackoverflow.com/survey/2020/)\n",
    "\n",
    "[IEEE, The Top Programming Languages 2020](https://spectrum.ieee.org/static/interactive-the-top-programming-languages-2020)"
   ]
  },
  {
   "cell_type": "markdown",
   "metadata": {
    "slideshow": {
     "slide_type": "slide"
    }
   },
   "source": [
    "# Versión de Python\n",
    "\n",
    "### 2.x ó 3.x\n",
    "\n",
    "#### > Python 3.x\n",
    "\n",
    "Para ejecutar código de Python2 en Python 3.x -> pip install -U future\n"
   ]
  },
  {
   "cell_type": "markdown",
   "metadata": {
    "slideshow": {
     "slide_type": "slide"
    }
   },
   "source": [
    "# Tratamiento de datos\n",
    "\n",
    "* linear algebra\n",
    "* statistical modeling\n",
    "* visualization\n",
    "* computational linguistics\n",
    "* graph analysis \n",
    "* machine learning\n",
    "* business intelligence\n",
    "* data storage and retrieval"
   ]
  },
  {
   "cell_type": "markdown",
   "metadata": {
    "slideshow": {
     "slide_type": "slide"
    }
   },
   "source": [
    "# Antes de empezar\n",
    "### Se puede utilizar diferentes formas para ejecutar código:\n",
    "* Línea de comandos o terminal, Shell de python o interactivo, python/ipython\n",
    "* IDE -> Eclipse, Pycharm, Sublime, Nano, VSCode, Atom, Spyder, ...\n",
    "* Google Colab, Azure Notebooks, Jupyter"
   ]
  },
  {
   "cell_type": "markdown",
   "metadata": {
    "slideshow": {
     "slide_type": "slide"
    }
   },
   "source": [
    "## Filosofía Python"
   ]
  },
  {
   "cell_type": "code",
   "execution_count": 1,
   "metadata": {
    "slideshow": {
     "slide_type": "fragment"
    },
    "ExecuteTime": {
     "end_time": "2023-10-20T11:49:49.639859Z",
     "start_time": "2023-10-20T11:49:49.629369Z"
    }
   },
   "outputs": [
    {
     "name": "stdout",
     "output_type": "stream",
     "text": [
      "The Zen of Python, by Tim Peters\n",
      "\n",
      "Beautiful is better than ugly.\n",
      "Explicit is better than implicit.\n",
      "Simple is better than complex.\n",
      "Complex is better than complicated.\n",
      "Flat is better than nested.\n",
      "Sparse is better than dense.\n",
      "Readability counts.\n",
      "Special cases aren't special enough to break the rules.\n",
      "Although practicality beats purity.\n",
      "Errors should never pass silently.\n",
      "Unless explicitly silenced.\n",
      "In the face of ambiguity, refuse the temptation to guess.\n",
      "There should be one-- and preferably only one --obvious way to do it.\n",
      "Although that way may not be obvious at first unless you're Dutch.\n",
      "Now is better than never.\n",
      "Although never is often better than *right* now.\n",
      "If the implementation is hard to explain, it's a bad idea.\n",
      "If the implementation is easy to explain, it may be a good idea.\n",
      "Namespaces are one honking great idea -- let's do more of those!\n"
     ]
    }
   ],
   "source": [
    "import this"
   ]
  },
  {
   "cell_type": "markdown",
   "metadata": {
    "slideshow": {
     "slide_type": "slide"
    }
   },
   "source": [
    "## Documentación - PEP (Python Enhacement Proposals)\n",
    "\n",
    "[Python Enhancement Proposals](https://www.python.org/dev/peps/)\n",
    "\n",
    "[Style guide for python code](https://www.python.org/dev/peps/pep-0008/)\n",
    "\n",
    "* Identation\n",
    "\n",
    "## Instalación de librerías\n",
    "\n",
    "* pip (built-in >Python3.4)"
   ]
  },
  {
   "cell_type": "code",
   "execution_count": 2,
   "metadata": {
    "slideshow": {
     "slide_type": "slide"
    },
    "ExecuteTime": {
     "end_time": "2023-10-20T11:49:49.713075Z",
     "start_time": "2023-10-20T11:49:49.677235Z"
    }
   },
   "outputs": [
    {
     "name": "stdout",
     "output_type": "stream",
     "text": [
      "Siempre podremos 'pp' poner los comentarios en forma de salida, pero para ver resultados\n",
      "Siempre podremos \"pp\" poner los comentarios en forma de salida, pero para ver resultados\n"
     ]
    }
   ],
   "source": [
    "# Preguntar de forma interactiva\n",
    "print?\n",
    "\n",
    "print\n",
    "\n",
    "# Usar shift + tab para hint con ayuda\n",
    "\n",
    "# Comentar una linea\n",
    "\n",
    "\"\"\" \n",
    "Se puede comentar un texto\n",
    "más grande para hacer descripciones detalladas con más de una línea\n",
    "\"\"\"\n",
    "\n",
    "print(\"Siempre podremos 'pp' poner los comentarios en forma de salida, pero para ver resultados\")\n",
    "print('Siempre podremos \"pp\" poner los comentarios en forma de salida, pero para ver resultados')\n",
    "\n",
    "centro = 'IES RIBERA DE CASTILLA'"
   ]
  },
  {
   "cell_type": "markdown",
   "metadata": {
    "slideshow": {
     "slide_type": "slide"
    }
   },
   "source": [
    "### REPL\n",
    "Sistema interactivo para comunicarse con el ordenador en un leguaje, Python. Se debe cumplir:\n",
    "* Read. El ordenador pueda leer unidades como entrada\n",
    "* Evaluate. El código pueda ser procesado\n",
    "* Print. Los resultados puedan verse\n",
    "* Loop. Continuar con la conversación"
   ]
  },
  {
   "cell_type": "markdown",
   "metadata": {
    "slideshow": {
     "slide_type": "slide"
    }
   },
   "source": [
    "# Referencias\n",
    "\n",
    "González Duque, R. Python para todos. Licencia Creative Commons.\n",
    "\n",
    "Boschetti, A. y Massaron, L (2016). Python Data Science Essentials, Second edition. Birminghan - Munbai: Packt\n",
    "\n",
    "Python Software Foundation. 2. Built-in Functions — Python 3.6.7 documentation. Recuperado el 16 noviembre 2018 de \n",
    "https://docs.python.org/3.6/library/functions.html\n",
    "\n",
    "Tutorialspoint, Python Tutorial. Recuperado el 16 noviembre 2018 de https://www.tutorialspoint.com/python/\n",
    "\n",
    "Kenneth Reitz (2018), Code Style — The Hitchhiker's Guide to Python. Recuperado el 16 noviembre 2018 de https://docs.python-guide.org/writing/style/\n",
    "\n",
    "Frank Hofmann (2018), Introduction to the Python Coding Style. Recuperado el 16 noviembre 2018 de https://stackabuse.com/introduction-to-the-python-coding-style/\n",
    "\n",
    "Design At Large: Fernando Perez: The Architecture of Jupyter. Perez, Fernando (2017).  https://www.youtube.com/watch?v=dENc0gwzySc&t=131s YouTube.\n"
   ]
  },
  {
   "cell_type": "markdown",
   "source": [
    "## <img src=\"img/by-nc.png\" width=\"200\">"
   ],
   "metadata": {
    "collapsed": false
   }
  }
 ],
 "metadata": {
  "celltoolbar": "Slideshow",
  "kernelspec": {
   "display_name": "Python 3",
   "language": "python",
   "name": "python3"
  },
  "language_info": {
   "codemirror_mode": {
    "name": "ipython",
    "version": 3
   },
   "file_extension": ".py",
   "mimetype": "text/x-python",
   "name": "python",
   "nbconvert_exporter": "python",
   "pygments_lexer": "ipython3",
   "version": "3.8.8"
  },
  "metadata": {
   "interpreter": {
    "hash": "f35a06f707b9576dd6b3ef079e74b1f578cbc33a28427aac1052a70586e6d412"
   }
  }
 },
 "nbformat": 4,
 "nbformat_minor": 4
}
