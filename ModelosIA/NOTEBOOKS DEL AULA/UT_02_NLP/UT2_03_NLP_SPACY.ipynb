{
 "cells": [
  {
   "cell_type": "markdown",
   "metadata": {},
   "source": [
    "# NLP con librería SPACY\n",
    "\n",
    "Al igual que NLTK, spaCy es una librería de procesamiento de lenguaje natural (PLN) para Python de código abierto.    \n",
    "**spaCy** ofrece a los usuarios un conjunto de herramientas y modelos para realizar diversas tareas relacionadas con el procesamiento y análisis de texto.    \n",
    "Las principales características de **spaCy** son:   \n",
    "\n",
    "1. **Tokenización**: puede dividir texto en unidades más pequeñas llamadas “tokens”, que pueden ser palabras o partes de palabras.\n",
    "2. **Etiquetado gramatical**: contiene modelos entrenados que pueden etiquetar cada token en un texto con información gramatical, como partes del discurso y etiquetas sintácticas.\n",
    "3. **Reconocimiento de entidades nombradas**: permite identificar y clasificar entidades nombradas en un texto, como nombres de personas, organizaciones, lugares, fechas, cantidades, entre otros.\n",
    "4. **Análisis sintáctico**: facilita la realización de análisis sintáctico de las oraciones para capturar la estructura gramatical y las dependencias entre las palabras.\n",
    "5. **Lematización**: reduce las palabras a su forma base (lemas), lo que ayuda a normalizar el texto y simplificar el análisis.\n",
    "6. **Modelos pre-entrenados**: proporciona modelos pre-entrenados para varios idiomas que pueden utilizarse para realizar tareas de PLN sin la necesidad de entrenar un modelo desde cero. Estos modelos incluyen información gramatical, reconocimiento de entidades y análisis sintáctico.\n",
    "7. **Eficiencia y velocidad**: es una librería rápida y eficiente, lo que la hace adecuada para el procesamiento de grandes volúmenes de texto."
   ]
  },
  {
   "cell_type": "markdown",
   "metadata": {},
   "source": [
    "## Análisis de sentimientos en español con spaCy.\n",
    "\n",
    "Los pasos para realizar análisis de sentimiento en español con spaCy son los mismos que se realizan con NLTK en inglés.    \n",
    "Obviamente, las funciones que se deben usar son diferentes. En concreto, los pasos que se deben seguir son:   \n",
    "\n",
    "- preprocesamiento de datos, \n",
    "- extracción de características, \n",
    "- entrenamiento del modelo y \n",
    "- clasificación de nuevos textos."
   ]
  },
  {
   "cell_type": "markdown",
   "metadata": {},
   "source": [
    "### 1. Preprocesamiento de datos   \n",
    "\n",
    "El procesamiento de datos en spaCy es ligeramente más sencillo en spaCy que en NLTK.    \n",
    "En este caso concreto, se deben importar los modelos entrenados que se han descargado antes y usarlos para obtener los tokens ya tematizados y en minúsculas.    \n",
    "Este proceso se realiza en el siguiente código:"
   ]
  },
  {
   "cell_type": "code",
   "execution_count": 2,
   "metadata": {},
   "outputs": [
    {
     "data": {
      "text/plain": [
       "'encantar contenido blog inteligencia artificial artículo fantástico'"
      ]
     },
     "execution_count": 2,
     "metadata": {},
     "output_type": "execute_result"
    }
   ],
   "source": [
    "import spacy\n",
    "\n",
    "text = \"Me encanta el contenido del blog de Inteligencia Artificial, los artículos son fantásticos.\"\n",
    "\n",
    "nlp = spacy.load('es_core_news_sm')\n",
    "doc = nlp(text)\n",
    "\n",
    "# Eliminación de palabras irrelevantes (stopwords) y signos de puntuación\n",
    "tokens = [token.lemma_.lower() for token in doc if not token.is_stop and not token.is_punct]\n",
    "\n",
    "# Reconstrucción del texto preprocesado\n",
    "preprocessed_text = ' '.join(tokens)\n",
    "preprocessed_text"
   ]
  },
  {
   "cell_type": "markdown",
   "metadata": {},
   "source": [
    "En este bloque de código se cargan los modelos mediante la función ```spacy.load()``` (si se ha descargado otro se deberá reemplazar el nombre en el parámetro de la función por el que se desee usar).    \n",
    "Al modelo importado se le puede pasar la cadena de texto para obtener los tokens (```nlp(text)```).    \n",
    "Posteriormente se filtran aquellos que no son ni stopwords ni elementos de puntuación (```not token.is_stop and not token.is_punct```) para, en el mismo paso, ***lematizar*** y convertir en minúsculas (```token.lemma_.lower()```). El resultado es el listado de tokens procesados.\n",
    "\n",
    "Se puede observar como la herramienta usa como token el **infinitivo del verbo** en lugar de su versión conjugada (encantar en lugar de encanta). También **los términos en plural aparecen en singular** (artículo en lugar de artículos). Todo esto facilita el análisis de los textos."
   ]
  },
  {
   "cell_type": "markdown",
   "metadata": {},
   "source": [
    "### 2. Extracción de características\n",
    "\n",
    "En spaCy, la extracción de características también se puede hacer de una forma sencilla. Para ello, se debe iterar sobre los tokens y crear una lista con el conteo de términos.   \n",
    "\n",
    "Una posible opción para hacer esto es la que se muestra en el siguiente código de ejemplo:\n"
   ]
  },
  {
   "cell_type": "code",
   "execution_count": 3,
   "metadata": {},
   "outputs": [
    {
     "data": {
      "text/plain": [
       "{'encantar': 1,\n",
       " 'contenido': 1,\n",
       " 'blog': 1,\n",
       " 'inteligencia': 1,\n",
       " 'artificial': 1,\n",
       " 'artículo': 1,\n",
       " 'fantástico': 1}"
      ]
     },
     "execution_count": 3,
     "metadata": {},
     "output_type": "execute_result"
    }
   ],
   "source": [
    "features = {}\n",
    "doc = nlp(preprocessed_text)\n",
    "\n",
    "for token in doc:\n",
    "    if not token.is_stop and not token.is_punct:\n",
    "        if token.lemma_.lower() in features:\n",
    "            features[token.lemma_.lower()] += 1\n",
    "        else:\n",
    "            features[token.lemma_.lower()] = 1\n",
    "            \n",
    "features"
   ]
  },
  {
   "cell_type": "markdown",
   "metadata": {},
   "source": [
    "Esto genera un diccionario donde la palabra es la clave y el valor es el número de ocurrencias de esta en el texto."
   ]
  },
  {
   "cell_type": "markdown",
   "metadata": {},
   "source": [
    "### 3. Conjunto de datos de entrenamiento y factorización de los datos.   \n",
    "\n",
    "Antes de llevar a cabo un análisis de sentimientos en español con spaCy, es necesario disponer de un conjunto de datos para el entrenamiento. Para ello se recurre a una traducción de un conjunto de datos definido por nosotros y que realizamos en el bloque de código siguiente:"
   ]
  },
  {
   "cell_type": "code",
   "execution_count": 5,
   "metadata": {},
   "outputs": [],
   "source": [
    "training_data = [\n",
    "    (\"Me encanta el contenido del blog de Inteligencia Artificial, los artículos son fantásticos.\", \"positivo\"),\n",
    "    (\"El código no funciona, me ha dado un error al ejecutarlo.\", \"negativo\"),\n",
    "    (\"Me encanta este producto.\", \"positivo\"),\n",
    "    (\"Esta película fue terrible.\", \"negativo\"),\n",
    "    (\"El clima está agradable hoy.\", \"positivo\"),\n",
    "    (\"Me siento triste por las noticias.\", \"negativo\"),\n",
    "    (\"Es solo un libro promedio.\", \"neutral\")\n",
    "]"
   ]
  },
  {
   "cell_type": "markdown",
   "metadata": {},
   "source": [
    "También se puede optar por crear funciones con las que se factorizan los pasos vistos en los apartados anteriores, de forma que el código final sea más modular.   \n",
    "\n",
    "Por ejemplo:  "
   ]
  },
  {
   "cell_type": "code",
   "execution_count": 6,
   "metadata": {},
   "outputs": [],
   "source": [
    "import spacy\n",
    "\n",
    "def preprocess_text(text):\n",
    "    \"\"\"\n",
    "    Realiza el preprocesamiento básico de un texto en idioma español utilizando spaCy.\n",
    "\n",
    "    Args:\n",
    "        text (str): El texto a ser preprocesado.\n",
    "\n",
    "    Returns:\n",
    "        str: El texto preprocesado.\n",
    "    \"\"\"\n",
    "    nlp = spacy.load('es_core_news_sm')\n",
    "    doc = nlp(text)\n",
    "\n",
    "    # Eliminación de palabras irrelevantes (stopwords) y signos de puntuación\n",
    "    tokens = [token.lemma_.lower() for token in doc if not token.is_stop and not token.is_punct]\n",
    "\n",
    "    # Reconstrucción del texto preprocesado\n",
    "    preprocessed_text = ' '.join(tokens)\n",
    "\n",
    "    return preprocessed_text\n",
    "\n",
    "\n",
    "def extract_features(text):\n",
    "    \"\"\"\n",
    "    Extrae las características del texto utilizando spaCy y devuelve un diccionario de características.\n",
    "\n",
    "    Args:\n",
    "        text (str): El texto del cual extraer características.\n",
    "\n",
    "    Returns:\n",
    "        dict: Un diccionario que representa las características extraídas del texto.\n",
    "    \"\"\"\n",
    "    features = {}\n",
    "    doc = nlp(text)\n",
    "    for token in doc:\n",
    "        if not token.is_stop and not token.is_punct:\n",
    "            if token.lemma_.lower() in features:\n",
    "                features[token.lemma_.lower()] += 1\n",
    "            else:\n",
    "                features[token.lemma_.lower()] = 1\n",
    "    return features"
   ]
  },
  {
   "cell_type": "markdown",
   "metadata": {},
   "source": [
    "### 4. Entrenamiento del modelo\n",
    "Para el análisis de sentimientos, uno de los modelos/algoritmos que mejor funciona es **Naive Bayes**. A diferencia de NLTK, spaCy no cuenta con una implementación propia, pero se puede optar por la de que se dispone en Scikit-learn.    \n",
    "Por tanto, para entrenar el modelo solamente sería necesario preprocesar los datos, extraer las características y crear un conjunto de entrenamiento para el **modelo MultinomialNB() (Multinomial Naive Bayes)**.    \n",
    "\n",
    "Los pasos que a implementar son:"
   ]
  },
  {
   "cell_type": "code",
   "execution_count": 7,
   "metadata": {},
   "outputs": [],
   "source": [
    "from sklearn.feature_extraction import DictVectorizer\n",
    "from sklearn.naive_bayes import MultinomialNB\n",
    "\n",
    "# Preprocesamiento de los datos de entrenamiento\n",
    "preprocessed_training_data = [(preprocess_text(text), label) for text, label in training_data]\n",
    "\n",
    "# Extracción de características de los datos de entrenamiento\n",
    "training_features = [extract_features(text) for text, _ in preprocessed_training_data]\n",
    "vectorizer = DictVectorizer(sparse=False)\n",
    "X_train = vectorizer.fit_transform(training_features)\n",
    "\n",
    "# Etiquetas de los datos de entrenamiento\n",
    "y_train = [label for _, label in preprocessed_training_data]\n",
    "\n",
    "# Entrenamiento del clasificador Naive Bayes\n",
    "classifier = MultinomialNB()\n",
    "_ = classifier.fit(X_train, y_train)"
   ]
  },
  {
   "cell_type": "markdown",
   "metadata": {},
   "source": [
    "### 5. Clasificación de nuevos textos\n",
    "\n",
    "Una vez entrenado el modelo, este se puede usar para predecir el sentimiento de nuevos textos.    \n",
    "Simplemente se repiten con los nuevos textos las transformaciones realizadas sobre el conjunto de entrenamiento y el resultado se le pasa al modelo."
   ]
  },
  {
   "cell_type": "code",
   "execution_count": 8,
   "metadata": {},
   "outputs": [
    {
     "name": "stdout",
     "output_type": "stream",
     "text": [
      "Sentimiento: positivo\n"
     ]
    }
   ],
   "source": [
    "# Nuevo texto para clasificar\n",
    "new_text = \"Me encantó mucho del concierto.\"\n",
    "\n",
    "# Preprocesamiento del nuevo texto\n",
    "preprocessed_text = preprocess_text(new_text)\n",
    "\n",
    "# Extracción de características del nuevo texto\n",
    "features = extract_features(preprocessed_text)\n",
    "X_test = vectorizer.transform([features])\n",
    "\n",
    "# Clasificación del nuevo texto\n",
    "sentiment = classifier.predict(X_test)\n",
    "print(\"Sentimiento:\", sentiment[0])"
   ]
  },
  {
   "cell_type": "markdown",
   "metadata": {},
   "source": [
    "## Conclusiones.   \n",
    "\n",
    "\n",
    "**spaCy** es una librería alternativa a **NLTK** con la que también se puede realizar análisis de sentimientos. Contando con la ventaja de que también se puede hacer en español y otros idiomas gracias a los modelos pre-entrenados que se pueden descargar.    \n",
    "Esto también simplifica el trabajo con la librería. Por eso, en el caso de querer realizar análisis de sentimientos en español, spaCy es una de las opciones que siempre se debe tener en cuenta."
   ]
  }
 ],
 "metadata": {
  "kernelspec": {
   "display_name": "Python 3",
   "language": "python",
   "name": "python3"
  },
  "language_info": {
   "codemirror_mode": {
    "name": "ipython",
    "version": 3
   },
   "file_extension": ".py",
   "mimetype": "text/x-python",
   "name": "python",
   "nbconvert_exporter": "python",
   "pygments_lexer": "ipython3",
   "version": "3.11.11"
  }
 },
 "nbformat": 4,
 "nbformat_minor": 2
}
