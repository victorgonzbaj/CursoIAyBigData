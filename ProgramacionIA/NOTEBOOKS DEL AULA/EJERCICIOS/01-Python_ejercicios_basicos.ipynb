{
 "cells": [
  {
   "cell_type": "markdown",
   "metadata": {
    "id": "rJARCvoR1PJd"
   },
   "source": [
    "En esta primera tanda de ejercicios trabajaremos los conocimientos básicos de python para afianzarlos y que trabajéis con el lenguaje con cierta soltura."
   ]
  },
  {
   "cell_type": "markdown",
   "metadata": {
    "id": "lJ19ASh02ew7"
   },
   "source": [
    "---\n",
    "# Variables"
   ]
  },
  {
   "cell_type": "markdown",
   "metadata": {
    "id": "xr_1b_qo2lPj"
   },
   "source": [
    "### Ejercicio 1\n"
   ]
  },
  {
   "cell_type": "markdown",
   "metadata": {
    "id": "YZAna3pe4ul1"
   },
   "source": [
    "Define una variable llamada \"x\". Asignale el valor 5 y muestrala por pantalla:"
   ]
  },
  {
   "cell_type": "code",
   "execution_count": 1,
   "metadata": {
    "id": "tgQ9FM7J2lzg"
   },
   "outputs": [
    {
     "name": "stdout",
     "output_type": "stream",
     "text": [
      "5\n"
     ]
    }
   ],
   "source": [
    "x = 5\n",
    "print(x)"
   ]
  },
  {
   "cell_type": "markdown",
   "metadata": {
    "id": "OCpHLklW4vyT"
   },
   "source": [
    "### Ejercicio 2"
   ]
  },
  {
   "cell_type": "markdown",
   "metadata": {
    "id": "Bm5WURXM4OfZ"
   },
   "source": [
    "Define una variable llamada \"name\". Pide al usuario que introduzca su nombre y asígnalo a la variable. Por último, muestra el contenido de la variable por pantalla:"
   ]
  },
  {
   "cell_type": "code",
   "execution_count": 2,
   "metadata": {
    "id": "AAnimlzu4as8"
   },
   "outputs": [
    {
     "name": "stdout",
     "output_type": "stream",
     "text": [
      "Introduce tu nombre\n",
      "Victor\n"
     ]
    }
   ],
   "source": [
    "print(\"Introduce tu nombre\")\n",
    "#name = input()\n",
    "name = \"Victor\"\n",
    "print(name)\n",
    "\n"
   ]
  },
  {
   "cell_type": "markdown",
   "metadata": {
    "id": "gQyc0-FU4yob"
   },
   "source": [
    "### Ejercicio 3"
   ]
  },
  {
   "cell_type": "markdown",
   "metadata": {
    "id": "aCsvw7PM4bag"
   },
   "source": [
    "Define una variable llamada \"data\". Asignale el valor 10 y muestra el tipo de la variable por pantalla:"
   ]
  },
  {
   "cell_type": "code",
   "execution_count": 3,
   "metadata": {
    "id": "XH862Qm_4qvB"
   },
   "outputs": [
    {
     "name": "stdout",
     "output_type": "stream",
     "text": [
      "<class 'int'>\n"
     ]
    }
   ],
   "source": [
    "data = 10\n",
    "print(type(data))"
   ]
  },
  {
   "cell_type": "markdown",
   "metadata": {
    "id": "82At72Uh4rPi"
   },
   "source": [
    "### Ejercicio 4"
   ]
  },
  {
   "cell_type": "markdown",
   "metadata": {
    "id": "X3kOo-fX41qx"
   },
   "source": [
    "Define una variable llamada \"data\". Asignale el valor 10 y luego cambia su tipo a \"string\" manteniendo su contenido (transforma el 10 numérico a texto). Muestra el tipo de la variable tras la modificación:"
   ]
  },
  {
   "cell_type": "code",
   "execution_count": 4,
   "metadata": {
    "id": "GiRRTgO05GmC"
   },
   "outputs": [
    {
     "name": "stdout",
     "output_type": "stream",
     "text": [
      "10\n",
      "<class 'str'>\n"
     ]
    }
   ],
   "source": [
    "data = 10\n",
    "data = str(data)\n",
    "print(data)\n",
    "print(type(data))\n"
   ]
  },
  {
   "cell_type": "markdown",
   "metadata": {
    "id": "ftRBEuma5HGX"
   },
   "source": [
    "### Ejercicio 5"
   ]
  },
  {
   "cell_type": "markdown",
   "metadata": {
    "id": "JROYP9sk5JIF"
   },
   "source": [
    "Partiendo de que estamos en el año 2021, pide al usuario su año de nacimiento y calcula su edad (solo con el año). Muestra su edad por pantalla:"
   ]
  },
  {
   "cell_type": "code",
   "execution_count": 5,
   "metadata": {
    "id": "t3J9onfr5TCd"
   },
   "outputs": [
    {
     "name": "stdout",
     "output_type": "stream",
     "text": [
      "Tienes 24 años\n"
     ]
    }
   ],
   "source": [
    "#year = input()\n",
    "year = 2001\n",
    "year_calc=2025-year\n",
    "print(\"Tienes \" + str(year_calc) +\" años\")\n"
   ]
  },
  {
   "cell_type": "markdown",
   "metadata": {
    "id": "2hS7unzA5Tge"
   },
   "source": [
    "### Ejercicio 6"
   ]
  },
  {
   "cell_type": "markdown",
   "metadata": {
    "id": "V0Vvv7Mp5Uu6"
   },
   "source": [
    "Pide al usuario dos números y muestra por pantalla el resultado de la suma de los mismos:"
   ]
  },
  {
   "cell_type": "code",
   "execution_count": 6,
   "metadata": {
    "id": "ObEaeHcp5cqw"
   },
   "outputs": [
    {
     "name": "stdout",
     "output_type": "stream",
     "text": [
      "3\n"
     ]
    }
   ],
   "source": [
    "#num1 = input()\n",
    "#num2 = input()\n",
    "num1 = 1\n",
    "num2 = 2\n",
    "sum = num1 + num2\n",
    "print(sum)"
   ]
  },
  {
   "cell_type": "markdown",
   "metadata": {
    "id": "H8TxHadG5c4I"
   },
   "source": [
    "### Ejercicio 7"
   ]
  },
  {
   "cell_type": "markdown",
   "metadata": {
    "id": "4x0CmyJt5eSF"
   },
   "source": [
    "Pide al usuario dos números, calcula la media de los mismos y muestrala por pantalla:"
   ]
  },
  {
   "cell_type": "code",
   "execution_count": 7,
   "metadata": {
    "id": "J0oT42KZ5jjU"
   },
   "outputs": [
    {
     "name": "stdout",
     "output_type": "stream",
     "text": [
      "3\n"
     ]
    }
   ],
   "source": [
    "#num1 = input()\n",
    "#num2 = input()\n",
    "num1 = 1\n",
    "num2 = 2\n",
    "media = (num1 + num2) / 2 \n",
    "print(sum)"
   ]
  },
  {
   "cell_type": "markdown",
   "metadata": {
    "id": "vDx3w1mI5jwc"
   },
   "source": [
    "### Ejercicio 8"
   ]
  },
  {
   "cell_type": "markdown",
   "metadata": {
    "id": "IisTHG4a5l3G"
   },
   "source": [
    "Pide al usuario su nombre por un lado y luego su apellido. Concatenalos en una sola variable y muestra el resultado por pantalla:"
   ]
  },
  {
   "cell_type": "code",
   "execution_count": 8,
   "metadata": {
    "id": "1z_retHA5scO"
   },
   "outputs": [
    {
     "name": "stdout",
     "output_type": "stream",
     "text": [
      "Victor Gonzalez\n"
     ]
    }
   ],
   "source": [
    "#name = input()\n",
    "#surname = input()\n",
    "name = \"Victor\"\n",
    "surname = \"Gonzalez\"\n",
    "full_name = name + \" \" + surname\n",
    "print(full_name)"
   ]
  },
  {
   "cell_type": "markdown",
   "metadata": {
    "id": "js5e9wHm2mKk"
   },
   "source": [
    "---\n",
    "# Colecciones de datos"
   ]
  },
  {
   "cell_type": "markdown",
   "metadata": {
    "id": "WiVrgDh22qEU"
   },
   "source": [
    "## Listas"
   ]
  },
  {
   "cell_type": "markdown",
   "metadata": {
    "id": "Y_wONBLS2u6s"
   },
   "source": [
    "### Ejercicio 9"
   ]
  },
  {
   "cell_type": "markdown",
   "metadata": {
    "id": "4a28Gykv6F3-"
   },
   "source": [
    "Define una lista de 5 elementos con los nombres de distintos colores. Muestrala por pantalla:"
   ]
  },
  {
   "cell_type": "code",
   "execution_count": 9,
   "metadata": {
    "id": "YQNTPyrS2qRK"
   },
   "outputs": [
    {
     "name": "stdout",
     "output_type": "stream",
     "text": [
      "['azul', 'rojo', 'verde', 'blanco', 'morado']\n"
     ]
    }
   ],
   "source": [
    "color_list = [\"azul\",\"rojo\",\"verde\",\"blanco\",\"morado\"]\n",
    "print(color_list)"
   ]
  },
  {
   "cell_type": "markdown",
   "metadata": {
    "id": "wJkMrisc6Ruz"
   },
   "source": [
    "### Ejercicio 10"
   ]
  },
  {
   "cell_type": "markdown",
   "metadata": {
    "id": "N7bXlWMF6S74"
   },
   "source": [
    "Pide al usuario 3 numeros y añadelos a una lista. Muestra el contenido de la lista por pantalla:"
   ]
  },
  {
   "cell_type": "code",
   "execution_count": 10,
   "metadata": {
    "id": "8QdB_C4u6g7o"
   },
   "outputs": [
    {
     "name": "stdout",
     "output_type": "stream",
     "text": [
      "[1, 2, 3]\n"
     ]
    }
   ],
   "source": [
    "#num1 = input()\n",
    "#num2 = input()\n",
    "#num3 = input()\n",
    "num1 = 1\n",
    "num2 = 2\n",
    "num3 = 3\n",
    "\n",
    "num_list = []\n",
    "\n",
    "num_list.append(num1)\n",
    "num_list.append(num2)\n",
    "num_list.append(num3)\n",
    "\n",
    "print(num_list)\n"
   ]
  },
  {
   "cell_type": "markdown",
   "metadata": {
    "id": "NFHaQWd66hMZ"
   },
   "source": [
    "### Ejercicio 11"
   ]
  },
  {
   "cell_type": "markdown",
   "metadata": {
    "id": "6OV3MuJu6iXe"
   },
   "source": [
    "Crea una lista de 10 numeros cualesquiera y muestrala por pantalla. Pide al usuario que introduzca uno de ellos y eliminalo de la lista (supongamos que el usuario siempre introducirá un número válido). Muestra la lista resultante por pantalla:"
   ]
  },
  {
   "cell_type": "code",
   "execution_count": 11,
   "metadata": {
    "id": "m_5lQLx96wLg"
   },
   "outputs": [
    {
     "name": "stdout",
     "output_type": "stream",
     "text": [
      "[1, 2, 3, 4, 5, 6, 7, 8, 9, 10]\n",
      "[1, 2, 3, 5, 6, 7, 8, 9, 10]\n"
     ]
    }
   ],
   "source": [
    "num_list= list(range(1,11))\n",
    "print(num_list)\n",
    "\n",
    "#num = input()\n",
    "num = 4\n",
    "num_list.remove(num)\n",
    "print(num_list)"
   ]
  },
  {
   "cell_type": "markdown",
   "metadata": {
    "id": "Bun0ONkM7BZG"
   },
   "source": [
    "### Ejercicio 12"
   ]
  },
  {
   "cell_type": "markdown",
   "metadata": {
    "id": "rGbk7qWB7C6r"
   },
   "source": [
    "Crea una lista con las estaciones del año. Pide al usuario que mencione la posición de una de ellas y elimínala de la lista. Muestra la lista resultante por pantalla:"
   ]
  },
  {
   "cell_type": "code",
   "execution_count": 12,
   "metadata": {
    "id": "tRwJ5fpq7LyS"
   },
   "outputs": [
    {
     "name": "stdout",
     "output_type": "stream",
     "text": [
      "['invierno', 'primavera', 'otoño']\n"
     ]
    }
   ],
   "source": [
    "seasons_list = [\"invierno\",\"primavera\",\"verano\",\"otoño\"]\n",
    "                \n",
    "#num = input()\n",
    "num = 3\n",
    "seasons_list.remove(seasons_list[num-1])\n",
    "print(seasons_list)\n"
   ]
  },
  {
   "cell_type": "markdown",
   "metadata": {
    "id": "oXzjEBvy7MFr"
   },
   "source": [
    "### Ejercicio 13"
   ]
  },
  {
   "cell_type": "markdown",
   "metadata": {
    "id": "CzZuVYz57QzQ"
   },
   "source": [
    "Crea una lista de al menos 5 elementos. Pide al usuario que introduzca cualquier valor por teclado y añádelo como un nuevo elemento al final. Muestra la lista resultante por pantalla:"
   ]
  },
  {
   "cell_type": "code",
   "execution_count": 13,
   "metadata": {
    "id": "QtP1ro3_7bFN"
   },
   "outputs": [
    {
     "name": "stdout",
     "output_type": "stream",
     "text": [
      "['azul', 'rojo', 'verde', 'blanco', 'morado']\n",
      "['azul', 'rojo', 'verde', 'blanco', 'morado', 'negro']\n"
     ]
    }
   ],
   "source": [
    "color_list = [\"azul\",\"rojo\",\"verde\",\"blanco\",\"morado\"]\n",
    "print(color_list)\n",
    "\n",
    "#color = input()\n",
    "color = \"negro\"\n",
    "color_list.append(color)\n",
    "\n",
    "print(color_list)\n"
   ]
  },
  {
   "cell_type": "markdown",
   "metadata": {
    "id": "5SZaf2Xq2vz1"
   },
   "source": [
    "## Tuplas"
   ]
  },
  {
   "cell_type": "markdown",
   "metadata": {
    "id": "bZ5dGuBy231y"
   },
   "source": [
    "### Ejercicio 14"
   ]
  },
  {
   "cell_type": "markdown",
   "metadata": {
    "id": "Zrdp-f277gMr"
   },
   "source": [
    "Crea una tupla con los siguientes valores: \"Hola\", 34, 18.43, \"Azul\". Muestra su contenido por pantalla:"
   ]
  },
  {
   "cell_type": "code",
   "execution_count": 14,
   "metadata": {
    "id": "2WQVZAjy2zxP"
   },
   "outputs": [
    {
     "name": "stdout",
     "output_type": "stream",
     "text": [
      "('Hola', 34, 18.43, 'Azul')\n"
     ]
    }
   ],
   "source": [
    "random_tuple = (\"Hola\", 34, 18.43, \"Azul\")\n",
    "print(random_tuple)"
   ]
  },
  {
   "cell_type": "markdown",
   "metadata": {
    "id": "PECgbd-Q7vX6"
   },
   "source": [
    "### Ejercicio 15"
   ]
  },
  {
   "cell_type": "markdown",
   "metadata": {
    "id": "u1hLFjP17xDu"
   },
   "source": [
    "Crea una tupla con al menos 3 valores. Elimina uno cualquiera de ellos y muestra la tupla resultante por pantalla:"
   ]
  },
  {
   "cell_type": "code",
   "execution_count": 15,
   "metadata": {
    "id": "PRn6w09i75PZ"
   },
   "outputs": [
    {
     "name": "stdout",
     "output_type": "stream",
     "text": [
      "Una tupla en inmutable no se puede elimiar un elemento de ella\n"
     ]
    }
   ],
   "source": [
    "print(\"Una tupla en inmutable no se puede elimiar un elemento de ella\")\n"
   ]
  },
  {
   "cell_type": "markdown",
   "metadata": {
    "id": "psRuGUUQ20Lh"
   },
   "source": [
    "## Sets"
   ]
  },
  {
   "cell_type": "markdown",
   "metadata": {
    "id": "nW9pamHi221J"
   },
   "source": [
    "### Ejercicio 16"
   ]
  },
  {
   "cell_type": "markdown",
   "metadata": {
    "id": "YQXw-tsA79sS"
   },
   "source": [
    "Crea un set con los siguientes datos: \"azul\", \"rojo\", 32, 45.42, \"veinte\". Muestralo por pantalla:"
   ]
  },
  {
   "cell_type": "code",
   "execution_count": 16,
   "metadata": {
    "id": "7nP9B1gm23KR"
   },
   "outputs": [
    {
     "name": "stdout",
     "output_type": "stream",
     "text": [
      "{32, 'veinte', 45.42, 'azul', 'rojo'}\n"
     ]
    }
   ],
   "source": [
    "random_set = {\"azul\", \"rojo\", 32, 45.42, \"veinte\"}\n",
    "print(random_set)"
   ]
  },
  {
   "cell_type": "markdown",
   "metadata": {
    "id": "mHKpXmMX8xaF"
   },
   "source": [
    "### Ejercicio 17"
   ]
  },
  {
   "cell_type": "markdown",
   "metadata": {
    "id": "5njs137u8y1m"
   },
   "source": [
    "Crea un set con al menos 5 datos de tu elección. Pide al usuario otro dato cualquiera y añádelo al set:"
   ]
  },
  {
   "cell_type": "code",
   "execution_count": 17,
   "metadata": {
    "id": "cuQDlYv09GZA"
   },
   "outputs": [
    {
     "name": "stdout",
     "output_type": "stream",
     "text": [
      "{32, 'veinte', 45.42, 'azul', 'rojo'}\n",
      "{32, 'veinte', 'negro', 45.42, 'azul', 'rojo'}\n"
     ]
    }
   ],
   "source": [
    "random_set = {\"azul\", \"rojo\", 32, 45.42, \"veinte\"}\n",
    "print(random_set)\n",
    "\n",
    "#color = input()\n",
    "color = \"negro\"\n",
    "random_set.add(color)\n",
    "\n",
    "print(random_set)\n"
   ]
  },
  {
   "cell_type": "markdown",
   "metadata": {
    "id": "qaJJajlj9HRC"
   },
   "source": [
    "### Ejercicio 18"
   ]
  },
  {
   "cell_type": "markdown",
   "metadata": {
    "id": "jNwNlwgs9IUj"
   },
   "source": [
    "Crea un set con al menos 3 elementos y muestralo por pantalla. Pide al usuario que introduzca uno de los tres elementos por teclado. Añadelo al set y muestra su contenido por pantalla:"
   ]
  },
  {
   "cell_type": "code",
   "execution_count": 18,
   "metadata": {
    "id": "PWoKda8D9TZD"
   },
   "outputs": [
    {
     "name": "stdout",
     "output_type": "stream",
     "text": [
      "{32, 'veinte', 45.42, 'azul', 'rojo'}\n",
      "{32, 'veinte', 45.42, 'azul', 'rojo'}\n"
     ]
    }
   ],
   "source": [
    "random_set = {\"azul\", \"rojo\", 32, 45.42, \"veinte\"}\n",
    "print(random_set)\n",
    "\n",
    "#color = input()\n",
    "color = \"azul\"\n",
    "random_set.add(color)\n",
    "\n",
    "print(random_set)\n"
   ]
  },
  {
   "cell_type": "markdown",
   "metadata": {
    "id": "DyFhK_3n2409"
   },
   "source": [
    "## Diccionarios"
   ]
  },
  {
   "cell_type": "markdown",
   "metadata": {
    "id": "7VbNEyNs26Dv"
   },
   "source": [
    "### Ejercicio 19"
   ]
  },
  {
   "cell_type": "markdown",
   "metadata": {
    "id": "hHTPN30Q9iRv"
   },
   "source": [
    "Crea un diccionario con los siguientes elementos:\n",
    "*   Nombre: Mikel\n",
    "*   Edad: 42\n",
    "*   Oficio: Profesor\n",
    "\n",
    "Muestra el contenido del diccionario por pantalla:"
   ]
  },
  {
   "cell_type": "code",
   "execution_count": 19,
   "metadata": {
    "id": "pkytlMfM26V2"
   },
   "outputs": [
    {
     "name": "stdout",
     "output_type": "stream",
     "text": [
      "{'Nombre': 'Mikel', 'Edad': 42, 'Oficio': 'Profesor'}\n"
     ]
    }
   ],
   "source": [
    "data_dict = {\n",
    "    \"Nombre\" : \"Mikel\",\n",
    "    \"Edad\" : 42,\n",
    "    \"Oficio\" : \"Profesor\"\n",
    "}\n",
    "print(data_dict)"
   ]
  },
  {
   "cell_type": "markdown",
   "metadata": {
    "id": "5L4khJzl93Ec"
   },
   "source": [
    "### Ejercicio 20"
   ]
  },
  {
   "cell_type": "markdown",
   "metadata": {
    "id": "qLWVwPh894NE"
   },
   "source": [
    "Añade la siguiente información al diccionario creado anteriormente:\n",
    "*   Coche: Ferrari\n",
    "\n",
    "Muestra el contenido del diccionario por pantalla:"
   ]
  },
  {
   "cell_type": "code",
   "execution_count": 20,
   "metadata": {
    "id": "VjnnfS9F-ck4"
   },
   "outputs": [
    {
     "name": "stdout",
     "output_type": "stream",
     "text": [
      "{'Nombre': 'Mikel', 'Edad': 42, 'Oficio': 'Profesor'}\n",
      "{'Nombre': 'Mikel', 'Edad': 42, 'Oficio': 'Profesor', 'coche': 'Ferrari'}\n"
     ]
    }
   ],
   "source": [
    "data_dict = {\n",
    "    \"Nombre\" : \"Mikel\",\n",
    "    \"Edad\" : 42,\n",
    "    \"Oficio\" : \"Profesor\"\n",
    "}\n",
    "print(data_dict)\n",
    "\n",
    "data_dict[\"coche\"] = \"Ferrari\"\n",
    "print(data_dict)"
   ]
  },
  {
   "cell_type": "markdown",
   "metadata": {
    "id": "EjXCVVG4-dCM"
   },
   "source": [
    "Elimina la información referente a la edad del diccionario creado anteriormente y muestra su contenido por pantalla:"
   ]
  },
  {
   "cell_type": "code",
   "execution_count": 21,
   "metadata": {
    "id": "ZWsbHTdA-ySU"
   },
   "outputs": [
    {
     "name": "stdout",
     "output_type": "stream",
     "text": [
      "{'Nombre': 'Mikel', 'Edad': 42, 'Oficio': 'Profesor', 'coche': 'Ferrari'}\n",
      "{'Nombre': 'Mikel', 'Oficio': 'Profesor', 'coche': 'Ferrari'}\n"
     ]
    }
   ],
   "source": [
    "\n",
    "print(data_dict)\n",
    "\n",
    "del data_dict[\"Edad\"]\n",
    "print(data_dict)"
   ]
  },
  {
   "cell_type": "markdown",
   "metadata": {
    "id": "KoSKD-_i-y5s"
   },
   "source": [
    "### Ejercicio 21"
   ]
  },
  {
   "cell_type": "markdown",
   "metadata": {
    "id": "kbWwVQrq-0QX"
   },
   "source": [
    "Modifica el coche introducido anteriormente por un \"Dacia\" y muestralo por pantalla:"
   ]
  },
  {
   "cell_type": "code",
   "execution_count": 23,
   "metadata": {
    "id": "-wwdaGTa_GaU"
   },
   "outputs": [
    {
     "name": "stdout",
     "output_type": "stream",
     "text": [
      "{'Nombre': 'Mikel', 'Oficio': 'Profesor', 'coche': 'Dacia'}\n"
     ]
    }
   ],
   "source": [
    "data_dict[\"coche\"] = \"Dacia\"\n",
    "print(data_dict)"
   ]
  },
  {
   "cell_type": "markdown",
   "metadata": {
    "id": "CSKhiKP9_HDz"
   },
   "source": [
    "### Ejercicio 22"
   ]
  },
  {
   "cell_type": "markdown",
   "metadata": {
    "id": "RNMRPfz2_IMH"
   },
   "source": [
    "Muestra por pantalla por un lado las claves del diccionario creado y por otro los valores del mismo:"
   ]
  },
  {
   "cell_type": "code",
   "execution_count": null,
   "metadata": {
    "id": "yBxDKOue_QnH"
   },
   "outputs": [],
   "source": []
  },
  {
   "cell_type": "markdown",
   "metadata": {
    "id": "ttJWYXKp26ya"
   },
   "source": [
    "---\n",
    "# Estructuras de control"
   ]
  },
  {
   "cell_type": "markdown",
   "metadata": {
    "id": "pT8SEt2G2_fM"
   },
   "source": [
    "## If .. else"
   ]
  },
  {
   "cell_type": "markdown",
   "metadata": {
    "id": "y5qmNJ5B3B7q"
   },
   "source": [
    "### Ejercicio 23"
   ]
  },
  {
   "cell_type": "markdown",
   "metadata": {
    "id": "3r5qMEJQEOQK"
   },
   "source": [
    "Pide al usuario un número de entrada. En caso de ser mayor que 10 muestra el mensaje \"Es mayor que 10!\":"
   ]
  },
  {
   "cell_type": "code",
   "execution_count": null,
   "metadata": {
    "id": "JpAuxDGC3CQA"
   },
   "outputs": [],
   "source": []
  },
  {
   "cell_type": "markdown",
   "metadata": {
    "id": "SPmS9QHaJnGA"
   },
   "source": [
    "### Ejercicio 24"
   ]
  },
  {
   "cell_type": "markdown",
   "metadata": {
    "id": "vFJXByGrHldZ"
   },
   "source": [
    "Pide al usuario un texto de entrada. Comprueba su longitud e indica si es mayor o menor de 20 caracteres. En caso de contar con 20 caracteres muestra el mensaje \"PERFECT!\":"
   ]
  },
  {
   "cell_type": "code",
   "execution_count": null,
   "metadata": {
    "id": "P1eucwQGH66K"
   },
   "outputs": [],
   "source": []
  },
  {
   "cell_type": "markdown",
   "metadata": {
    "id": "oZPAxDC5JqFn"
   },
   "source": [
    "### Ejercicio 25"
   ]
  },
  {
   "cell_type": "markdown",
   "metadata": {
    "id": "0_mT-nPpH7Yb"
   },
   "source": [
    "Pide al usuario un número de entrada. Primero comprueba que sea un número, en caso de ser un texto muestra el mensaje \"Esto no es un número\". Si es un número, comprueba si es mayor o menor que 10 e indícalo por pantalla:"
   ]
  },
  {
   "cell_type": "code",
   "execution_count": null,
   "metadata": {
    "id": "1nThVqaEIGqg"
   },
   "outputs": [],
   "source": []
  },
  {
   "cell_type": "markdown",
   "metadata": {
    "id": "R0cE_A5tJrZK"
   },
   "source": [
    "### Ejercicio 26"
   ]
  },
  {
   "cell_type": "markdown",
   "metadata": {
    "id": "Omg2m_QvIOZ_"
   },
   "source": [
    "Pide al usuario un número e indica en cual de los siguientes intérvalos cae:\n",
    "*   x < 0\n",
    "*   0 <= x <= 10\n",
    "*   10 < x"
   ]
  },
  {
   "cell_type": "code",
   "execution_count": null,
   "metadata": {
    "id": "4mOybtnwIfUz"
   },
   "outputs": [],
   "source": []
  },
  {
   "cell_type": "markdown",
   "metadata": {
    "id": "NZXiMWie3EMY"
   },
   "source": [
    "## while"
   ]
  },
  {
   "cell_type": "markdown",
   "metadata": {
    "id": "0cpVqBkDJtID"
   },
   "source": [
    "### Ejercicio 27"
   ]
  },
  {
   "cell_type": "markdown",
   "metadata": {
    "id": "KIuuex8F3HSW"
   },
   "source": [
    "Pide al usuario que introduzca números y muestralos por pantalla hasta que introduzca un 0:"
   ]
  },
  {
   "cell_type": "code",
   "execution_count": null,
   "metadata": {
    "id": "o5hbakNGIwga"
   },
   "outputs": [],
   "source": []
  },
  {
   "cell_type": "markdown",
   "metadata": {
    "id": "3eyOan8nJuav"
   },
   "source": [
    "### Ejercicio 28"
   ]
  },
  {
   "cell_type": "markdown",
   "metadata": {
    "id": "Z40hI6GbIxMz"
   },
   "source": [
    "Pide al usuario que introduzca números hasta que la suma de todos ellos supere el número 100:"
   ]
  },
  {
   "cell_type": "code",
   "execution_count": null,
   "metadata": {
    "id": "GsWv8_jP3Hpd"
   },
   "outputs": [],
   "source": []
  },
  {
   "cell_type": "markdown",
   "metadata": {
    "id": "ZtVw6LIeJwHq"
   },
   "source": [
    "### Ejercicio 29"
   ]
  },
  {
   "cell_type": "markdown",
   "metadata": {
    "id": "OzhmWAWUI30L"
   },
   "source": [
    "Pide al usuario que introduzca números hasta que introduzca un 0. En caso de que la suma de los números introducidos supere el valor 100 sal del bucle de manera forzada:"
   ]
  },
  {
   "cell_type": "code",
   "execution_count": null,
   "metadata": {
    "id": "Rxb8AFU4JEEe"
   },
   "outputs": [],
   "source": []
  },
  {
   "cell_type": "markdown",
   "metadata": {
    "id": "kbde3j5XJxnG"
   },
   "source": [
    "### Ejercicio 30"
   ]
  },
  {
   "cell_type": "markdown",
   "metadata": {
    "id": "0y1cLTp8JEj0"
   },
   "source": [
    "Pide al usuario que introduzca números cada vez mayores en cada iteración. Si introduce un número igual o menor que el anterior termina el bucle. Además, el usuario siempre tendrá la opción de forzar el final del bucle mediante el valor 0. En caso de haber terminado el bucle correctamente (sin ser forzado), muestra el mensaje \"END\":"
   ]
  },
  {
   "cell_type": "code",
   "execution_count": null,
   "metadata": {
    "id": "zZamBG0LJgPU"
   },
   "outputs": [],
   "source": []
  },
  {
   "cell_type": "markdown",
   "metadata": {
    "id": "NXBztsTS3H-n"
   },
   "source": [
    "## for"
   ]
  },
  {
   "cell_type": "markdown",
   "metadata": {
    "id": "pWRwCYQEJztb"
   },
   "source": [
    "### Ejercicio 31"
   ]
  },
  {
   "cell_type": "markdown",
   "metadata": {
    "id": "ryt_v4h_3K9C"
   },
   "source": [
    "Muestra por pantalla todos los números del 1 al 10:"
   ]
  },
  {
   "cell_type": "code",
   "execution_count": null,
   "metadata": {
    "id": "eZDxNRHR3LSe"
   },
   "outputs": [],
   "source": []
  },
  {
   "cell_type": "markdown",
   "metadata": {
    "id": "QlHTctAeJ8yB"
   },
   "source": [
    "### Ejercicio 32"
   ]
  },
  {
   "cell_type": "markdown",
   "metadata": {
    "id": "wQ9SFaOnJ9_g"
   },
   "source": [
    "Muestra por pantalla la siguiente estructura numérica:\n",
    "\n",
    "*   12345\n",
    "*   12345\n",
    "*   12345\n",
    "*   12345\n",
    "*   12345"
   ]
  },
  {
   "cell_type": "code",
   "execution_count": null,
   "metadata": {
    "id": "VKyghblCKEfJ"
   },
   "outputs": [],
   "source": []
  },
  {
   "cell_type": "markdown",
   "metadata": {
    "id": "aNbjP694KExa"
   },
   "source": [
    "### Ejercicio 33"
   ]
  },
  {
   "cell_type": "markdown",
   "metadata": {
    "id": "eiiufAt0KFkz"
   },
   "source": [
    "Muestra por pantalla la siguiente estructura numérica:\n",
    "*   1\n",
    "*   12\n",
    "*   123\n",
    "*   1234\n",
    "*   12345"
   ]
  },
  {
   "cell_type": "code",
   "execution_count": null,
   "metadata": {
    "id": "oaqe7pC6KKyN"
   },
   "outputs": [],
   "source": []
  },
  {
   "cell_type": "markdown",
   "metadata": {
    "id": "ADeKfeevKLNn"
   },
   "source": [
    "### Ejercicio 34"
   ]
  },
  {
   "cell_type": "markdown",
   "metadata": {
    "id": "UrG5xMmjKMDK"
   },
   "source": [
    "Muestra por pantalla la siguiente estructura numérica:\n",
    "*   5\n",
    "*   54\n",
    "*   5432\n",
    "*   54321"
   ]
  },
  {
   "cell_type": "code",
   "execution_count": null,
   "metadata": {
    "id": "lazIcmCVKTZl"
   },
   "outputs": [],
   "source": []
  },
  {
   "cell_type": "markdown",
   "metadata": {
    "id": "x6MOHliMKiu9"
   },
   "source": [
    "### Ejercicio 35"
   ]
  },
  {
   "cell_type": "markdown",
   "metadata": {
    "id": "DEXpNY1tKknm"
   },
   "source": [
    "Recorre todos los elementos del diccionario \"cars\" y muestra aquellos que su clave empiece por la letra \"S\" o que el coche empiece por la letra \"M\". El bucle termina de manera forzada si encuentra algún coche que empiece por la letra \"C\":"
   ]
  },
  {
   "cell_type": "code",
   "execution_count": 22,
   "metadata": {
    "id": "21W9HDipK_NF"
   },
   "outputs": [],
   "source": [
    "cars = {\n",
    "    \"Ford\": \"Fiesta\",\n",
    "    \"BMW\": \"M3\",\n",
    "    \"Seat\": \"Ibiza\",\n",
    "    \"Citroen\": \"C3\",\n",
    "    \"Nissan\": \"Micra\"\n",
    "}"
   ]
  },
  {
   "cell_type": "markdown",
   "metadata": {
    "id": "prLAhO0C3aCd"
   },
   "source": [
    "---\n",
    "# Funciones"
   ]
  },
  {
   "cell_type": "markdown",
   "metadata": {
    "id": "1GDIiryw3cXm"
   },
   "source": [
    "### Ejercicio 36"
   ]
  },
  {
   "cell_type": "markdown",
   "metadata": {
    "id": "Lfw6Edw-OKVg"
   },
   "source": [
    "Define una función que acepte un texto de entrada y devuelva la cantidad de vocales que contiene:"
   ]
  },
  {
   "cell_type": "code",
   "execution_count": null,
   "metadata": {
    "id": "AzScrsN33cll"
   },
   "outputs": [],
   "source": []
  },
  {
   "cell_type": "markdown",
   "metadata": {
    "id": "dipy029zObp6"
   },
   "source": [
    "### Ejercicio 37"
   ]
  },
  {
   "cell_type": "markdown",
   "metadata": {
    "id": "IOjdcJKIOcq0"
   },
   "source": [
    "Define una función que acepte una lista como parámetro y muestre por pantalla la cantidad de vocales contenidas en los textos incluidos en la lista:"
   ]
  },
  {
   "cell_type": "code",
   "execution_count": null,
   "metadata": {
    "id": "O4T-lkm2PXrl"
   },
   "outputs": [],
   "source": []
  },
  {
   "cell_type": "markdown",
   "metadata": {
    "id": "jjLNiD5gPw_k"
   },
   "source": [
    "### Ejercicio 38"
   ]
  },
  {
   "cell_type": "markdown",
   "metadata": {
    "id": "HnxroRbqPZ49"
   },
   "source": [
    "Define una función que acepte un diccionario como entrada y muestre todos sus contenidos por pantalla:"
   ]
  },
  {
   "cell_type": "code",
   "execution_count": null,
   "metadata": {
    "id": "Y2LKzjROPebS"
   },
   "outputs": [],
   "source": []
  },
  {
   "cell_type": "markdown",
   "metadata": {
    "id": "quNOUOafPzHq"
   },
   "source": [
    "### Ejercicio 39"
   ]
  },
  {
   "cell_type": "markdown",
   "metadata": {
    "id": "tZawmSiFPhvW"
   },
   "source": [
    "Define una función que acepte dos parámetros numéricos pero que cada uno de ellos tenga un valor predefinido en caso de no ser recibido. Dicha función devolverá la suma de los dos parámetros recibidos:"
   ]
  },
  {
   "cell_type": "code",
   "execution_count": null,
   "metadata": {
    "id": "4cJC1eESPvfF"
   },
   "outputs": [],
   "source": []
  },
  {
   "cell_type": "markdown",
   "metadata": {
    "id": "w6V51OuK3gdA"
   },
   "source": [
    "---\n",
    "# Programación Orientada a Objetos"
   ]
  },
  {
   "cell_type": "markdown",
   "metadata": {
    "id": "jjrn-cEdRQPE"
   },
   "source": [
    "### Ejercicio 40"
   ]
  },
  {
   "cell_type": "markdown",
   "metadata": {
    "id": "iuPSKdHm3jLa"
   },
   "source": [
    "Define una clase \"forma\" que cuente con los atributos \"longitud_lados\" (una lista con la medida numérica de sus lados) y \"nombre\". Además, define que en el constructor se tengan que pasar estos valores.\n",
    "Después define una clase \"triangulo_rectángulo\" que extienda de la clase \"forma\" y que defina la función \"area\" que calcule su área:"
   ]
  },
  {
   "cell_type": "code",
   "execution_count": null,
   "metadata": {
    "id": "usoPSahh3jbB"
   },
   "outputs": [],
   "source": []
  }
 ],
 "metadata": {
  "colab": {
   "authorship_tag": "ABX9TyOMsM+p9WyCyMR2o2y43Tci",
   "name": "01-Python_ejercicios_basicos.ipynb",
   "provenance": []
  },
  "kernelspec": {
   "display_name": ".venv",
   "language": "python",
   "name": "python3"
  },
  "language_info": {
   "codemirror_mode": {
    "name": "ipython",
    "version": 3
   },
   "file_extension": ".py",
   "mimetype": "text/x-python",
   "name": "python",
   "nbconvert_exporter": "python",
   "pygments_lexer": "ipython3",
   "version": "3.13.1"
  }
 },
 "nbformat": 4,
 "nbformat_minor": 0
}
