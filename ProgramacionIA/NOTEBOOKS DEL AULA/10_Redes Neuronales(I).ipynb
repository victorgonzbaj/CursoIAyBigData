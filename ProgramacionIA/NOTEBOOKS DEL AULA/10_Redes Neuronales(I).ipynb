{
 "cells": [
  {
   "cell_type": "markdown",
   "id": "1b26517b009c98dd",
   "metadata": {
    "collapsed": false
   },
   "source": [
    "## PRIMERA RED NEURONAL\n",
    "\n",
    "Emulación de una puerta XOR"
   ]
  },
  {
   "cell_type": "markdown",
   "id": "39165677a049238d",
   "metadata": {
    "collapsed": false
   },
   "source": [
    "Importamos librerías necesarias"
   ]
  },
  {
   "cell_type": "code",
   "execution_count": 1,
   "id": "initial_id",
   "metadata": {
    "ExecuteTime": {
     "end_time": "2024-03-22T16:23:10.190413Z",
     "start_time": "2024-03-22T16:23:05.752679Z"
    },
    "collapsed": true
   },
   "outputs": [
    {
     "name": "stderr",
     "output_type": "stream",
     "text": [
      "2025-02-17 17:16:02.920979: I external/local_xla/xla/tsl/cuda/cudart_stub.cc:32] Could not find cuda drivers on your machine, GPU will not be used.\n",
      "2025-02-17 17:16:02.925389: I external/local_xla/xla/tsl/cuda/cudart_stub.cc:32] Could not find cuda drivers on your machine, GPU will not be used.\n",
      "2025-02-17 17:16:02.939269: E external/local_xla/xla/stream_executor/cuda/cuda_fft.cc:477] Unable to register cuFFT factory: Attempting to register factory for plugin cuFFT when one has already been registered\n",
      "WARNING: All log messages before absl::InitializeLog() is called are written to STDERR\n",
      "E0000 00:00:1739812562.968313   13680 cuda_dnn.cc:8310] Unable to register cuDNN factory: Attempting to register factory for plugin cuDNN when one has already been registered\n",
      "E0000 00:00:1739812562.974966   13680 cuda_blas.cc:1418] Unable to register cuBLAS factory: Attempting to register factory for plugin cuBLAS when one has already been registered\n",
      "2025-02-17 17:16:03.001763: I tensorflow/core/platform/cpu_feature_guard.cc:210] This TensorFlow binary is optimized to use available CPU instructions in performance-critical operations.\n",
      "To enable the following instructions: AVX2 FMA, in other operations, rebuild TensorFlow with the appropriate compiler flags.\n"
     ]
    }
   ],
   "source": [
    "import keras\n",
    "from keras.layers import Dense\n",
    "import numpy as np\n"
   ]
  },
  {
   "cell_type": "markdown",
   "id": "f3eafce4c0785625",
   "metadata": {
    "collapsed": false
   },
   "source": [
    "Arquitectura del modelo de RN para puerta XOR"
   ]
  },
  {
   "cell_type": "code",
   "execution_count": 2,
   "id": "55381cdc3ad6fc65",
   "metadata": {
    "ExecuteTime": {
     "end_time": "2024-03-22T16:23:13.905097Z",
     "start_time": "2024-03-22T16:23:13.844724Z"
    },
    "collapsed": false
   },
   "outputs": [
    {
     "name": "stderr",
     "output_type": "stream",
     "text": [
      "2025-02-17 17:16:11.015240: E external/local_xla/xla/stream_executor/cuda/cuda_driver.cc:152] failed call to cuInit: INTERNAL: CUDA error: Failed call to cuInit: UNKNOWN ERROR (303)\n"
     ]
    }
   ],
   "source": [
    "model = keras.Sequential([\n",
    "    keras.layers.Input(shape=(2,)),\n",
    "    keras.layers.Dense(units=16,activation='relu'),\n",
    "    keras.layers.Dense(units=1,activation='sigmoid')\n",
    "])"
   ]
  },
  {
   "cell_type": "markdown",
   "id": "872d6a981d3f88ec",
   "metadata": {
    "collapsed": false
   },
   "source": [
    "Compilación del modelo"
   ]
  },
  {
   "cell_type": "code",
   "execution_count": 3,
   "id": "9131628e0f0470b3",
   "metadata": {
    "ExecuteTime": {
     "end_time": "2024-03-22T16:23:15.478492Z",
     "start_time": "2024-03-22T16:23:15.464129Z"
    },
    "collapsed": false
   },
   "outputs": [],
   "source": [
    "model.compile(loss='mean_squared_error',\n",
    "              optimizer='adam',\n",
    "              metrics=['binary_accuracy'])"
   ]
  },
  {
   "cell_type": "markdown",
   "id": "141e9428bfa215cb",
   "metadata": {
    "collapsed": false
   },
   "source": [
    "Preparación de los datos"
   ]
  },
  {
   "cell_type": "code",
   "execution_count": 4,
   "id": "f92ddf9aec25afda",
   "metadata": {
    "ExecuteTime": {
     "end_time": "2024-03-22T16:23:16.965420Z",
     "start_time": "2024-03-22T16:23:16.960620Z"
    },
    "collapsed": false
   },
   "outputs": [],
   "source": [
    "training_data = np.array ([[0,0],[0,1],[1,0],[1,1]], dtype=\"float32\")\n",
    "target_data = np.array([[0],[1],[1],[0]],dtype=\"float32\")"
   ]
  },
  {
   "cell_type": "markdown",
   "id": "52be87fb41e0533c",
   "metadata": {
    "collapsed": false
   },
   "source": [
    "Entrenamiento del modelo"
   ]
  },
  {
   "cell_type": "code",
   "execution_count": 5,
   "id": "73b8bff9864d1004",
   "metadata": {
    "ExecuteTime": {
     "end_time": "2024-03-22T16:23:23.162605Z",
     "start_time": "2024-03-22T16:23:19.358603Z"
    },
    "collapsed": false
   },
   "outputs": [
    {
     "name": "stdout",
     "output_type": "stream",
     "text": [
      "Epoch 1/100\n",
      "\u001b[1m1/1\u001b[0m \u001b[32m━━━━━━━━━━━━━━━━━━━━\u001b[0m\u001b[37m\u001b[0m \u001b[1m1s\u001b[0m 1s/step - binary_accuracy: 0.5000 - loss: 0.2399\n",
      "Epoch 2/100\n",
      "\u001b[1m1/1\u001b[0m \u001b[32m━━━━━━━━━━━━━━━━━━━━\u001b[0m\u001b[37m\u001b[0m \u001b[1m0s\u001b[0m 50ms/step - binary_accuracy: 0.2500 - loss: 0.2393\n",
      "Epoch 3/100\n",
      "\u001b[1m1/1\u001b[0m \u001b[32m━━━━━━━━━━━━━━━━━━━━\u001b[0m\u001b[37m\u001b[0m \u001b[1m0s\u001b[0m 50ms/step - binary_accuracy: 0.2500 - loss: 0.2388\n",
      "Epoch 4/100\n",
      "\u001b[1m1/1\u001b[0m \u001b[32m━━━━━━━━━━━━━━━━━━━━\u001b[0m\u001b[37m\u001b[0m \u001b[1m0s\u001b[0m 50ms/step - binary_accuracy: 0.2500 - loss: 0.2383\n",
      "Epoch 5/100\n",
      "\u001b[1m1/1\u001b[0m \u001b[32m━━━━━━━━━━━━━━━━━━━━\u001b[0m\u001b[37m\u001b[0m \u001b[1m0s\u001b[0m 50ms/step - binary_accuracy: 0.2500 - loss: 0.2378\n",
      "Epoch 6/100\n",
      "\u001b[1m1/1\u001b[0m \u001b[32m━━━━━━━━━━━━━━━━━━━━\u001b[0m\u001b[37m\u001b[0m \u001b[1m0s\u001b[0m 52ms/step - binary_accuracy: 0.2500 - loss: 0.2373\n",
      "Epoch 7/100\n",
      "\u001b[1m1/1\u001b[0m \u001b[32m━━━━━━━━━━━━━━━━━━━━\u001b[0m\u001b[37m\u001b[0m \u001b[1m0s\u001b[0m 51ms/step - binary_accuracy: 0.2500 - loss: 0.2368\n",
      "Epoch 8/100\n",
      "\u001b[1m1/1\u001b[0m \u001b[32m━━━━━━━━━━━━━━━━━━━━\u001b[0m\u001b[37m\u001b[0m \u001b[1m0s\u001b[0m 52ms/step - binary_accuracy: 0.5000 - loss: 0.2364\n",
      "Epoch 9/100\n",
      "\u001b[1m1/1\u001b[0m \u001b[32m━━━━━━━━━━━━━━━━━━━━\u001b[0m\u001b[37m\u001b[0m \u001b[1m0s\u001b[0m 50ms/step - binary_accuracy: 0.5000 - loss: 0.2359\n",
      "Epoch 10/100\n",
      "\u001b[1m1/1\u001b[0m \u001b[32m━━━━━━━━━━━━━━━━━━━━\u001b[0m\u001b[37m\u001b[0m \u001b[1m0s\u001b[0m 53ms/step - binary_accuracy: 0.5000 - loss: 0.2355\n",
      "Epoch 11/100\n",
      "\u001b[1m1/1\u001b[0m \u001b[32m━━━━━━━━━━━━━━━━━━━━\u001b[0m\u001b[37m\u001b[0m \u001b[1m0s\u001b[0m 52ms/step - binary_accuracy: 0.5000 - loss: 0.2350\n",
      "Epoch 12/100\n",
      "\u001b[1m1/1\u001b[0m \u001b[32m━━━━━━━━━━━━━━━━━━━━\u001b[0m\u001b[37m\u001b[0m \u001b[1m0s\u001b[0m 52ms/step - binary_accuracy: 0.5000 - loss: 0.2346\n",
      "Epoch 13/100\n",
      "\u001b[1m1/1\u001b[0m \u001b[32m━━━━━━━━━━━━━━━━━━━━\u001b[0m\u001b[37m\u001b[0m \u001b[1m0s\u001b[0m 51ms/step - binary_accuracy: 0.5000 - loss: 0.2342\n",
      "Epoch 14/100\n",
      "\u001b[1m1/1\u001b[0m \u001b[32m━━━━━━━━━━━━━━━━━━━━\u001b[0m\u001b[37m\u001b[0m \u001b[1m0s\u001b[0m 50ms/step - binary_accuracy: 0.5000 - loss: 0.2338\n",
      "Epoch 15/100\n",
      "\u001b[1m1/1\u001b[0m \u001b[32m━━━━━━━━━━━━━━━━━━━━\u001b[0m\u001b[37m\u001b[0m \u001b[1m0s\u001b[0m 52ms/step - binary_accuracy: 0.5000 - loss: 0.2334\n",
      "Epoch 16/100\n",
      "\u001b[1m1/1\u001b[0m \u001b[32m━━━━━━━━━━━━━━━━━━━━\u001b[0m\u001b[37m\u001b[0m \u001b[1m0s\u001b[0m 51ms/step - binary_accuracy: 0.5000 - loss: 0.2331\n",
      "Epoch 17/100\n",
      "\u001b[1m1/1\u001b[0m \u001b[32m━━━━━━━━━━━━━━━━━━━━\u001b[0m\u001b[37m\u001b[0m \u001b[1m0s\u001b[0m 54ms/step - binary_accuracy: 0.5000 - loss: 0.2327\n",
      "Epoch 18/100\n",
      "\u001b[1m1/1\u001b[0m \u001b[32m━━━━━━━━━━━━━━━━━━━━\u001b[0m\u001b[37m\u001b[0m \u001b[1m0s\u001b[0m 50ms/step - binary_accuracy: 0.5000 - loss: 0.2324\n",
      "Epoch 19/100\n",
      "\u001b[1m1/1\u001b[0m \u001b[32m━━━━━━━━━━━━━━━━━━━━\u001b[0m\u001b[37m\u001b[0m \u001b[1m0s\u001b[0m 46ms/step - binary_accuracy: 0.5000 - loss: 0.2320\n",
      "Epoch 20/100\n",
      "\u001b[1m1/1\u001b[0m \u001b[32m━━━━━━━━━━━━━━━━━━━━\u001b[0m\u001b[37m\u001b[0m \u001b[1m0s\u001b[0m 36ms/step - binary_accuracy: 0.5000 - loss: 0.2317\n",
      "Epoch 21/100\n",
      "\u001b[1m1/1\u001b[0m \u001b[32m━━━━━━━━━━━━━━━━━━━━\u001b[0m\u001b[37m\u001b[0m \u001b[1m0s\u001b[0m 49ms/step - binary_accuracy: 0.5000 - loss: 0.2314\n",
      "Epoch 22/100\n",
      "\u001b[1m1/1\u001b[0m \u001b[32m━━━━━━━━━━━━━━━━━━━━\u001b[0m\u001b[37m\u001b[0m \u001b[1m0s\u001b[0m 52ms/step - binary_accuracy: 0.5000 - loss: 0.2311\n",
      "Epoch 23/100\n",
      "\u001b[1m1/1\u001b[0m \u001b[32m━━━━━━━━━━━━━━━━━━━━\u001b[0m\u001b[37m\u001b[0m \u001b[1m0s\u001b[0m 51ms/step - binary_accuracy: 0.5000 - loss: 0.2308\n",
      "Epoch 24/100\n",
      "\u001b[1m1/1\u001b[0m \u001b[32m━━━━━━━━━━━━━━━━━━━━\u001b[0m\u001b[37m\u001b[0m \u001b[1m0s\u001b[0m 50ms/step - binary_accuracy: 0.5000 - loss: 0.2305\n",
      "Epoch 25/100\n",
      "\u001b[1m1/1\u001b[0m \u001b[32m━━━━━━━━━━━━━━━━━━━━\u001b[0m\u001b[37m\u001b[0m \u001b[1m0s\u001b[0m 49ms/step - binary_accuracy: 0.5000 - loss: 0.2302\n",
      "Epoch 26/100\n",
      "\u001b[1m1/1\u001b[0m \u001b[32m━━━━━━━━━━━━━━━━━━━━\u001b[0m\u001b[37m\u001b[0m \u001b[1m0s\u001b[0m 53ms/step - binary_accuracy: 0.5000 - loss: 0.2299\n",
      "Epoch 27/100\n",
      "\u001b[1m1/1\u001b[0m \u001b[32m━━━━━━━━━━━━━━━━━━━━\u001b[0m\u001b[37m\u001b[0m \u001b[1m0s\u001b[0m 81ms/step - binary_accuracy: 0.5000 - loss: 0.2296\n",
      "Epoch 28/100\n",
      "\u001b[1m1/1\u001b[0m \u001b[32m━━━━━━━━━━━━━━━━━━━━\u001b[0m\u001b[37m\u001b[0m \u001b[1m0s\u001b[0m 53ms/step - binary_accuracy: 0.5000 - loss: 0.2294\n",
      "Epoch 29/100\n",
      "\u001b[1m1/1\u001b[0m \u001b[32m━━━━━━━━━━━━━━━━━━━━\u001b[0m\u001b[37m\u001b[0m \u001b[1m0s\u001b[0m 52ms/step - binary_accuracy: 0.5000 - loss: 0.2291\n",
      "Epoch 30/100\n",
      "\u001b[1m1/1\u001b[0m \u001b[32m━━━━━━━━━━━━━━━━━━━━\u001b[0m\u001b[37m\u001b[0m \u001b[1m0s\u001b[0m 50ms/step - binary_accuracy: 0.7500 - loss: 0.2289\n",
      "Epoch 31/100\n",
      "\u001b[1m1/1\u001b[0m \u001b[32m━━━━━━━━━━━━━━━━━━━━\u001b[0m\u001b[37m\u001b[0m \u001b[1m0s\u001b[0m 52ms/step - binary_accuracy: 0.7500 - loss: 0.2286\n",
      "Epoch 32/100\n",
      "\u001b[1m1/1\u001b[0m \u001b[32m━━━━━━━━━━━━━━━━━━━━\u001b[0m\u001b[37m\u001b[0m \u001b[1m0s\u001b[0m 49ms/step - binary_accuracy: 0.7500 - loss: 0.2284\n",
      "Epoch 33/100\n",
      "\u001b[1m1/1\u001b[0m \u001b[32m━━━━━━━━━━━━━━━━━━━━\u001b[0m\u001b[37m\u001b[0m \u001b[1m0s\u001b[0m 61ms/step - binary_accuracy: 0.7500 - loss: 0.2281\n",
      "Epoch 34/100\n",
      "\u001b[1m1/1\u001b[0m \u001b[32m━━━━━━━━━━━━━━━━━━━━\u001b[0m\u001b[37m\u001b[0m \u001b[1m0s\u001b[0m 52ms/step - binary_accuracy: 0.7500 - loss: 0.2279\n",
      "Epoch 35/100\n",
      "\u001b[1m1/1\u001b[0m \u001b[32m━━━━━━━━━━━━━━━━━━━━\u001b[0m\u001b[37m\u001b[0m \u001b[1m0s\u001b[0m 51ms/step - binary_accuracy: 0.7500 - loss: 0.2277\n",
      "Epoch 36/100\n",
      "\u001b[1m1/1\u001b[0m \u001b[32m━━━━━━━━━━━━━━━━━━━━\u001b[0m\u001b[37m\u001b[0m \u001b[1m0s\u001b[0m 50ms/step - binary_accuracy: 0.7500 - loss: 0.2275\n",
      "Epoch 37/100\n",
      "\u001b[1m1/1\u001b[0m \u001b[32m━━━━━━━━━━━━━━━━━━━━\u001b[0m\u001b[37m\u001b[0m \u001b[1m0s\u001b[0m 51ms/step - binary_accuracy: 0.7500 - loss: 0.2273\n",
      "Epoch 38/100\n",
      "\u001b[1m1/1\u001b[0m \u001b[32m━━━━━━━━━━━━━━━━━━━━\u001b[0m\u001b[37m\u001b[0m \u001b[1m0s\u001b[0m 50ms/step - binary_accuracy: 0.7500 - loss: 0.2271\n",
      "Epoch 39/100\n",
      "\u001b[1m1/1\u001b[0m \u001b[32m━━━━━━━━━━━━━━━━━━━━\u001b[0m\u001b[37m\u001b[0m \u001b[1m0s\u001b[0m 78ms/step - binary_accuracy: 0.7500 - loss: 0.2269\n",
      "Epoch 40/100\n",
      "\u001b[1m1/1\u001b[0m \u001b[32m━━━━━━━━━━━━━━━━━━━━\u001b[0m\u001b[37m\u001b[0m \u001b[1m0s\u001b[0m 50ms/step - binary_accuracy: 0.7500 - loss: 0.2267\n",
      "Epoch 41/100\n",
      "\u001b[1m1/1\u001b[0m \u001b[32m━━━━━━━━━━━━━━━━━━━━\u001b[0m\u001b[37m\u001b[0m \u001b[1m0s\u001b[0m 52ms/step - binary_accuracy: 0.7500 - loss: 0.2265\n",
      "Epoch 42/100\n",
      "\u001b[1m1/1\u001b[0m \u001b[32m━━━━━━━━━━━━━━━━━━━━\u001b[0m\u001b[37m\u001b[0m \u001b[1m0s\u001b[0m 50ms/step - binary_accuracy: 0.7500 - loss: 0.2263\n",
      "Epoch 43/100\n",
      "\u001b[1m1/1\u001b[0m \u001b[32m━━━━━━━━━━━━━━━━━━━━\u001b[0m\u001b[37m\u001b[0m \u001b[1m0s\u001b[0m 51ms/step - binary_accuracy: 0.7500 - loss: 0.2262\n",
      "Epoch 44/100\n",
      "\u001b[1m1/1\u001b[0m \u001b[32m━━━━━━━━━━━━━━━━━━━━\u001b[0m\u001b[37m\u001b[0m \u001b[1m0s\u001b[0m 49ms/step - binary_accuracy: 0.7500 - loss: 0.2260\n",
      "Epoch 45/100\n",
      "\u001b[1m1/1\u001b[0m \u001b[32m━━━━━━━━━━━━━━━━━━━━\u001b[0m\u001b[37m\u001b[0m \u001b[1m0s\u001b[0m 62ms/step - binary_accuracy: 0.7500 - loss: 0.2258\n",
      "Epoch 46/100\n",
      "\u001b[1m1/1\u001b[0m \u001b[32m━━━━━━━━━━━━━━━━━━━━\u001b[0m\u001b[37m\u001b[0m \u001b[1m0s\u001b[0m 58ms/step - binary_accuracy: 0.7500 - loss: 0.2256\n",
      "Epoch 47/100\n",
      "\u001b[1m1/1\u001b[0m \u001b[32m━━━━━━━━━━━━━━━━━━━━\u001b[0m\u001b[37m\u001b[0m \u001b[1m0s\u001b[0m 48ms/step - binary_accuracy: 0.7500 - loss: 0.2254\n",
      "Epoch 48/100\n",
      "\u001b[1m1/1\u001b[0m \u001b[32m━━━━━━━━━━━━━━━━━━━━\u001b[0m\u001b[37m\u001b[0m \u001b[1m0s\u001b[0m 60ms/step - binary_accuracy: 0.7500 - loss: 0.2252\n",
      "Epoch 49/100\n",
      "\u001b[1m1/1\u001b[0m \u001b[32m━━━━━━━━━━━━━━━━━━━━\u001b[0m\u001b[37m\u001b[0m \u001b[1m0s\u001b[0m 55ms/step - binary_accuracy: 0.7500 - loss: 0.2250\n",
      "Epoch 50/100\n",
      "\u001b[1m1/1\u001b[0m \u001b[32m━━━━━━━━━━━━━━━━━━━━\u001b[0m\u001b[37m\u001b[0m \u001b[1m0s\u001b[0m 52ms/step - binary_accuracy: 0.7500 - loss: 0.2249\n",
      "Epoch 51/100\n",
      "\u001b[1m1/1\u001b[0m \u001b[32m━━━━━━━━━━━━━━━━━━━━\u001b[0m\u001b[37m\u001b[0m \u001b[1m0s\u001b[0m 52ms/step - binary_accuracy: 0.7500 - loss: 0.2247\n",
      "Epoch 52/100\n",
      "\u001b[1m1/1\u001b[0m \u001b[32m━━━━━━━━━━━━━━━━━━━━\u001b[0m\u001b[37m\u001b[0m \u001b[1m0s\u001b[0m 50ms/step - binary_accuracy: 0.7500 - loss: 0.2245\n",
      "Epoch 53/100\n",
      "\u001b[1m1/1\u001b[0m \u001b[32m━━━━━━━━━━━━━━━━━━━━\u001b[0m\u001b[37m\u001b[0m \u001b[1m0s\u001b[0m 52ms/step - binary_accuracy: 0.7500 - loss: 0.2243\n",
      "Epoch 54/100\n",
      "\u001b[1m1/1\u001b[0m \u001b[32m━━━━━━━━━━━━━━━━━━━━\u001b[0m\u001b[37m\u001b[0m \u001b[1m0s\u001b[0m 51ms/step - binary_accuracy: 0.7500 - loss: 0.2241\n",
      "Epoch 55/100\n",
      "\u001b[1m1/1\u001b[0m \u001b[32m━━━━━━━━━━━━━━━━━━━━\u001b[0m\u001b[37m\u001b[0m \u001b[1m0s\u001b[0m 50ms/step - binary_accuracy: 0.7500 - loss: 0.2239\n",
      "Epoch 56/100\n",
      "\u001b[1m1/1\u001b[0m \u001b[32m━━━━━━━━━━━━━━━━━━━━\u001b[0m\u001b[37m\u001b[0m \u001b[1m0s\u001b[0m 50ms/step - binary_accuracy: 0.7500 - loss: 0.2237\n",
      "Epoch 57/100\n",
      "\u001b[1m1/1\u001b[0m \u001b[32m━━━━━━━━━━━━━━━━━━━━\u001b[0m\u001b[37m\u001b[0m \u001b[1m0s\u001b[0m 51ms/step - binary_accuracy: 0.7500 - loss: 0.2235\n",
      "Epoch 58/100\n",
      "\u001b[1m1/1\u001b[0m \u001b[32m━━━━━━━━━━━━━━━━━━━━\u001b[0m\u001b[37m\u001b[0m \u001b[1m0s\u001b[0m 50ms/step - binary_accuracy: 0.7500 - loss: 0.2233\n",
      "Epoch 59/100\n",
      "\u001b[1m1/1\u001b[0m \u001b[32m━━━━━━━━━━━━━━━━━━━━\u001b[0m\u001b[37m\u001b[0m \u001b[1m0s\u001b[0m 51ms/step - binary_accuracy: 0.7500 - loss: 0.2232\n",
      "Epoch 60/100\n",
      "\u001b[1m1/1\u001b[0m \u001b[32m━━━━━━━━━━━━━━━━━━━━\u001b[0m\u001b[37m\u001b[0m \u001b[1m0s\u001b[0m 75ms/step - binary_accuracy: 0.7500 - loss: 0.2230\n",
      "Epoch 61/100\n",
      "\u001b[1m1/1\u001b[0m \u001b[32m━━━━━━━━━━━━━━━━━━━━\u001b[0m\u001b[37m\u001b[0m \u001b[1m0s\u001b[0m 52ms/step - binary_accuracy: 0.7500 - loss: 0.2228\n",
      "Epoch 62/100\n",
      "\u001b[1m1/1\u001b[0m \u001b[32m━━━━━━━━━━━━━━━━━━━━\u001b[0m\u001b[37m\u001b[0m \u001b[1m0s\u001b[0m 51ms/step - binary_accuracy: 0.7500 - loss: 0.2226\n",
      "Epoch 63/100\n",
      "\u001b[1m1/1\u001b[0m \u001b[32m━━━━━━━━━━━━━━━━━━━━\u001b[0m\u001b[37m\u001b[0m \u001b[1m0s\u001b[0m 54ms/step - binary_accuracy: 0.7500 - loss: 0.2224\n",
      "Epoch 64/100\n",
      "\u001b[1m1/1\u001b[0m \u001b[32m━━━━━━━━━━━━━━━━━━━━\u001b[0m\u001b[37m\u001b[0m \u001b[1m0s\u001b[0m 61ms/step - binary_accuracy: 0.7500 - loss: 0.2222\n",
      "Epoch 65/100\n",
      "\u001b[1m1/1\u001b[0m \u001b[32m━━━━━━━━━━━━━━━━━━━━\u001b[0m\u001b[37m\u001b[0m \u001b[1m0s\u001b[0m 52ms/step - binary_accuracy: 0.7500 - loss: 0.2220\n",
      "Epoch 66/100\n",
      "\u001b[1m1/1\u001b[0m \u001b[32m━━━━━━━━━━━━━━━━━━━━\u001b[0m\u001b[37m\u001b[0m \u001b[1m0s\u001b[0m 52ms/step - binary_accuracy: 0.7500 - loss: 0.2218\n",
      "Epoch 67/100\n",
      "\u001b[1m1/1\u001b[0m \u001b[32m━━━━━━━━━━━━━━━━━━━━\u001b[0m\u001b[37m\u001b[0m \u001b[1m0s\u001b[0m 55ms/step - binary_accuracy: 0.7500 - loss: 0.2216\n",
      "Epoch 68/100\n",
      "\u001b[1m1/1\u001b[0m \u001b[32m━━━━━━━━━━━━━━━━━━━━\u001b[0m\u001b[37m\u001b[0m \u001b[1m0s\u001b[0m 51ms/step - binary_accuracy: 0.7500 - loss: 0.2214\n",
      "Epoch 69/100\n",
      "\u001b[1m1/1\u001b[0m \u001b[32m━━━━━━━━━━━━━━━━━━━━\u001b[0m\u001b[37m\u001b[0m \u001b[1m0s\u001b[0m 53ms/step - binary_accuracy: 0.7500 - loss: 0.2212\n",
      "Epoch 70/100\n",
      "\u001b[1m1/1\u001b[0m \u001b[32m━━━━━━━━━━━━━━━━━━━━\u001b[0m\u001b[37m\u001b[0m \u001b[1m0s\u001b[0m 51ms/step - binary_accuracy: 0.7500 - loss: 0.2210\n",
      "Epoch 71/100\n",
      "\u001b[1m1/1\u001b[0m \u001b[32m━━━━━━━━━━━━━━━━━━━━\u001b[0m\u001b[37m\u001b[0m \u001b[1m0s\u001b[0m 52ms/step - binary_accuracy: 0.7500 - loss: 0.2208\n",
      "Epoch 72/100\n",
      "\u001b[1m1/1\u001b[0m \u001b[32m━━━━━━━━━━━━━━━━━━━━\u001b[0m\u001b[37m\u001b[0m \u001b[1m0s\u001b[0m 51ms/step - binary_accuracy: 0.7500 - loss: 0.2206\n",
      "Epoch 73/100\n",
      "\u001b[1m1/1\u001b[0m \u001b[32m━━━━━━━━━━━━━━━━━━━━\u001b[0m\u001b[37m\u001b[0m \u001b[1m0s\u001b[0m 52ms/step - binary_accuracy: 0.7500 - loss: 0.2204\n",
      "Epoch 74/100\n",
      "\u001b[1m1/1\u001b[0m \u001b[32m━━━━━━━━━━━━━━━━━━━━\u001b[0m\u001b[37m\u001b[0m \u001b[1m0s\u001b[0m 52ms/step - binary_accuracy: 0.7500 - loss: 0.2202\n",
      "Epoch 75/100\n",
      "\u001b[1m1/1\u001b[0m \u001b[32m━━━━━━━━━━━━━━━━━━━━\u001b[0m\u001b[37m\u001b[0m \u001b[1m0s\u001b[0m 52ms/step - binary_accuracy: 0.7500 - loss: 0.2200\n",
      "Epoch 76/100\n",
      "\u001b[1m1/1\u001b[0m \u001b[32m━━━━━━━━━━━━━━━━━━━━\u001b[0m\u001b[37m\u001b[0m \u001b[1m0s\u001b[0m 51ms/step - binary_accuracy: 0.7500 - loss: 0.2198\n",
      "Epoch 77/100\n",
      "\u001b[1m1/1\u001b[0m \u001b[32m━━━━━━━━━━━━━━━━━━━━\u001b[0m\u001b[37m\u001b[0m \u001b[1m0s\u001b[0m 52ms/step - binary_accuracy: 0.7500 - loss: 0.2196\n",
      "Epoch 78/100\n",
      "\u001b[1m1/1\u001b[0m \u001b[32m━━━━━━━━━━━━━━━━━━━━\u001b[0m\u001b[37m\u001b[0m \u001b[1m0s\u001b[0m 51ms/step - binary_accuracy: 0.7500 - loss: 0.2194\n",
      "Epoch 79/100\n",
      "\u001b[1m1/1\u001b[0m \u001b[32m━━━━━━━━━━━━━━━━━━━━\u001b[0m\u001b[37m\u001b[0m \u001b[1m0s\u001b[0m 52ms/step - binary_accuracy: 0.7500 - loss: 0.2192\n",
      "Epoch 80/100\n",
      "\u001b[1m1/1\u001b[0m \u001b[32m━━━━━━━━━━━━━━━━━━━━\u001b[0m\u001b[37m\u001b[0m \u001b[1m0s\u001b[0m 51ms/step - binary_accuracy: 0.7500 - loss: 0.2190\n",
      "Epoch 81/100\n",
      "\u001b[1m1/1\u001b[0m \u001b[32m━━━━━━━━━━━━━━━━━━━━\u001b[0m\u001b[37m\u001b[0m \u001b[1m0s\u001b[0m 52ms/step - binary_accuracy: 0.7500 - loss: 0.2188\n",
      "Epoch 82/100\n",
      "\u001b[1m1/1\u001b[0m \u001b[32m━━━━━━━━━━━━━━━━━━━━\u001b[0m\u001b[37m\u001b[0m \u001b[1m0s\u001b[0m 52ms/step - binary_accuracy: 0.7500 - loss: 0.2186\n",
      "Epoch 83/100\n",
      "\u001b[1m1/1\u001b[0m \u001b[32m━━━━━━━━━━━━━━━━━━━━\u001b[0m\u001b[37m\u001b[0m \u001b[1m0s\u001b[0m 123ms/step - binary_accuracy: 0.7500 - loss: 0.2184\n",
      "Epoch 84/100\n",
      "\u001b[1m1/1\u001b[0m \u001b[32m━━━━━━━━━━━━━━━━━━━━\u001b[0m\u001b[37m\u001b[0m \u001b[1m0s\u001b[0m 97ms/step - binary_accuracy: 0.7500 - loss: 0.2182\n",
      "Epoch 85/100\n",
      "\u001b[1m1/1\u001b[0m \u001b[32m━━━━━━━━━━━━━━━━━━━━\u001b[0m\u001b[37m\u001b[0m \u001b[1m0s\u001b[0m 51ms/step - binary_accuracy: 0.7500 - loss: 0.2180\n",
      "Epoch 86/100\n",
      "\u001b[1m1/1\u001b[0m \u001b[32m━━━━━━━━━━━━━━━━━━━━\u001b[0m\u001b[37m\u001b[0m \u001b[1m0s\u001b[0m 52ms/step - binary_accuracy: 0.7500 - loss: 0.2177\n",
      "Epoch 87/100\n",
      "\u001b[1m1/1\u001b[0m \u001b[32m━━━━━━━━━━━━━━━━━━━━\u001b[0m\u001b[37m\u001b[0m \u001b[1m0s\u001b[0m 50ms/step - binary_accuracy: 0.7500 - loss: 0.2175\n",
      "Epoch 88/100\n",
      "\u001b[1m1/1\u001b[0m \u001b[32m━━━━━━━━━━━━━━━━━━━━\u001b[0m\u001b[37m\u001b[0m \u001b[1m0s\u001b[0m 52ms/step - binary_accuracy: 0.7500 - loss: 0.2173\n",
      "Epoch 89/100\n",
      "\u001b[1m1/1\u001b[0m \u001b[32m━━━━━━━━━━━━━━━━━━━━\u001b[0m\u001b[37m\u001b[0m \u001b[1m0s\u001b[0m 53ms/step - binary_accuracy: 0.7500 - loss: 0.2171\n",
      "Epoch 90/100\n",
      "\u001b[1m1/1\u001b[0m \u001b[32m━━━━━━━━━━━━━━━━━━━━\u001b[0m\u001b[37m\u001b[0m \u001b[1m0s\u001b[0m 51ms/step - binary_accuracy: 0.7500 - loss: 0.2169\n",
      "Epoch 91/100\n",
      "\u001b[1m1/1\u001b[0m \u001b[32m━━━━━━━━━━━━━━━━━━━━\u001b[0m\u001b[37m\u001b[0m \u001b[1m0s\u001b[0m 51ms/step - binary_accuracy: 1.0000 - loss: 0.2167\n",
      "Epoch 92/100\n",
      "\u001b[1m1/1\u001b[0m \u001b[32m━━━━━━━━━━━━━━━━━━━━\u001b[0m\u001b[37m\u001b[0m \u001b[1m0s\u001b[0m 52ms/step - binary_accuracy: 1.0000 - loss: 0.2165\n",
      "Epoch 93/100\n",
      "\u001b[1m1/1\u001b[0m \u001b[32m━━━━━━━━━━━━━━━━━━━━\u001b[0m\u001b[37m\u001b[0m \u001b[1m0s\u001b[0m 51ms/step - binary_accuracy: 1.0000 - loss: 0.2163\n",
      "Epoch 94/100\n",
      "\u001b[1m1/1\u001b[0m \u001b[32m━━━━━━━━━━━━━━━━━━━━\u001b[0m\u001b[37m\u001b[0m \u001b[1m0s\u001b[0m 64ms/step - binary_accuracy: 1.0000 - loss: 0.2161\n",
      "Epoch 95/100\n",
      "\u001b[1m1/1\u001b[0m \u001b[32m━━━━━━━━━━━━━━━━━━━━\u001b[0m\u001b[37m\u001b[0m \u001b[1m0s\u001b[0m 51ms/step - binary_accuracy: 1.0000 - loss: 0.2159\n",
      "Epoch 96/100\n",
      "\u001b[1m1/1\u001b[0m \u001b[32m━━━━━━━━━━━━━━━━━━━━\u001b[0m\u001b[37m\u001b[0m \u001b[1m0s\u001b[0m 53ms/step - binary_accuracy: 1.0000 - loss: 0.2156\n",
      "Epoch 97/100\n",
      "\u001b[1m1/1\u001b[0m \u001b[32m━━━━━━━━━━━━━━━━━━━━\u001b[0m\u001b[37m\u001b[0m \u001b[1m0s\u001b[0m 51ms/step - binary_accuracy: 1.0000 - loss: 0.2154\n",
      "Epoch 98/100\n",
      "\u001b[1m1/1\u001b[0m \u001b[32m━━━━━━━━━━━━━━━━━━━━\u001b[0m\u001b[37m\u001b[0m \u001b[1m0s\u001b[0m 55ms/step - binary_accuracy: 1.0000 - loss: 0.2152\n",
      "Epoch 99/100\n",
      "\u001b[1m1/1\u001b[0m \u001b[32m━━━━━━━━━━━━━━━━━━━━\u001b[0m\u001b[37m\u001b[0m \u001b[1m0s\u001b[0m 55ms/step - binary_accuracy: 1.0000 - loss: 0.2150\n",
      "Epoch 100/100\n",
      "\u001b[1m1/1\u001b[0m \u001b[32m━━━━━━━━━━━━━━━━━━━━\u001b[0m\u001b[37m\u001b[0m \u001b[1m0s\u001b[0m 52ms/step - binary_accuracy: 1.0000 - loss: 0.2148\n"
     ]
    },
    {
     "data": {
      "text/plain": [
       "<keras.src.callbacks.history.History at 0x7f3d78d34f10>"
      ]
     },
     "execution_count": 5,
     "metadata": {},
     "output_type": "execute_result"
    }
   ],
   "source": [
    "model.fit(training_data,target_data,epochs=100)"
   ]
  },
  {
   "cell_type": "markdown",
   "id": "6f63e2371728bd33",
   "metadata": {
    "collapsed": false
   },
   "source": [
    "Evaluación del modelo"
   ]
  },
  {
   "cell_type": "code",
   "execution_count": 6,
   "id": "6d5b02ca3c8dcfef",
   "metadata": {
    "ExecuteTime": {
     "end_time": "2024-03-22T16:23:29.451450Z",
     "start_time": "2024-03-22T16:23:29.305435Z"
    },
    "collapsed": false
   },
   "outputs": [
    {
     "name": "stdout",
     "output_type": "stream",
     "text": [
      "\u001b[1m1/1\u001b[0m \u001b[32m━━━━━━━━━━━━━━━━━━━━\u001b[0m\u001b[37m\u001b[0m \u001b[1m0s\u001b[0m 165ms/step - binary_accuracy: 1.0000 - loss: 0.2146\n",
      "\n",
      "compile_metrics: 100.00%\n"
     ]
    }
   ],
   "source": [
    "scores = model.evaluate(training_data, target_data)\n",
    "print(\"\\n%s: %.2f%%\" % (model.metrics_names[1], scores[1]*100))"
   ]
  },
  {
   "cell_type": "markdown",
   "id": "69ca4f258f06805d",
   "metadata": {
    "collapsed": false
   },
   "source": [
    "Predicción"
   ]
  },
  {
   "cell_type": "code",
   "execution_count": 7,
   "id": "7d8d823592d2a57d",
   "metadata": {
    "ExecuteTime": {
     "end_time": "2024-03-22T16:23:34.165492Z",
     "start_time": "2024-03-22T16:23:34.075648Z"
    },
    "collapsed": false
   },
   "outputs": [
    {
     "name": "stdout",
     "output_type": "stream",
     "text": [
      "\u001b[1m1/1\u001b[0m \u001b[32m━━━━━━━━━━━━━━━━━━━━\u001b[0m\u001b[37m\u001b[0m \u001b[1m0s\u001b[0m 107ms/step\n",
      "[[0.]\n",
      " [1.]\n",
      " [1.]\n",
      " [0.]]\n"
     ]
    }
   ],
   "source": [
    "print (model.predict(training_data).round())"
   ]
  },
  {
   "cell_type": "markdown",
   "id": "83b9a3a874706b4b",
   "metadata": {
    "collapsed": false
   },
   "source": [
    "## RED NEURONAL PARA CLASIFICACIÓN DE DÍGITOS (Dataset MNIST)"
   ]
  },
  {
   "cell_type": "markdown",
   "id": "e9c393095ef967fb",
   "metadata": {
    "collapsed": false
   },
   "source": [
    "Carga del dataset"
   ]
  },
  {
   "cell_type": "code",
   "execution_count": 8,
   "id": "b0e426d1ecede122",
   "metadata": {
    "ExecuteTime": {
     "end_time": "2024-03-22T16:23:37.912321Z",
     "start_time": "2024-03-22T16:23:37.549414Z"
    },
    "collapsed": false
   },
   "outputs": [],
   "source": [
    "(X_train, y_train) , (X_test, y_test) = keras.datasets.mnist.load_data()"
   ]
  },
  {
   "cell_type": "code",
   "execution_count": 9,
   "id": "947235bd20ff2f72",
   "metadata": {
    "ExecuteTime": {
     "end_time": "2024-03-22T16:23:40.231296Z",
     "start_time": "2024-03-22T16:23:40.225837Z"
    },
    "collapsed": false
   },
   "outputs": [
    {
     "name": "stdout",
     "output_type": "stream",
     "text": [
      "(60000, 28, 28)\n"
     ]
    }
   ],
   "source": [
    "print(X_train.shape)"
   ]
  },
  {
   "cell_type": "code",
   "execution_count": 10,
   "id": "8da5d22caacd0b4",
   "metadata": {
    "ExecuteTime": {
     "end_time": "2024-03-22T16:23:41.347699Z",
     "start_time": "2024-03-22T16:23:41.342713Z"
    },
    "collapsed": false
   },
   "outputs": [
    {
     "name": "stdout",
     "output_type": "stream",
     "text": [
      "(10000, 28, 28)\n"
     ]
    }
   ],
   "source": [
    "print(X_test.shape)"
   ]
  },
  {
   "cell_type": "markdown",
   "id": "4ca6687d7cdf8772",
   "metadata": {
    "collapsed": false
   },
   "source": [
    "Cada muestra de entrenamiento y test son arrays de 28x28 cada uno, pero como la Red Neuronal necesita valores de 1 dimensión, se pasan a vectores:"
   ]
  },
  {
   "cell_type": "code",
   "execution_count": 11,
   "id": "ab80d84741ab0597",
   "metadata": {
    "ExecuteTime": {
     "end_time": "2024-03-22T16:23:43.313953Z",
     "start_time": "2024-03-22T16:23:43.310Z"
    },
    "collapsed": false
   },
   "outputs": [],
   "source": [
    "X_train_lista = X_train.reshape(len(X_train),28*28)\n",
    "X_test_lista = X_test.reshape(len(X_test),28*28)"
   ]
  },
  {
   "cell_type": "code",
   "execution_count": 12,
   "id": "5715a1327520916e",
   "metadata": {
    "ExecuteTime": {
     "end_time": "2024-03-22T16:23:44.217816Z",
     "start_time": "2024-03-22T16:23:44.213636Z"
    },
    "collapsed": false
   },
   "outputs": [
    {
     "name": "stdout",
     "output_type": "stream",
     "text": [
      "(60000, 784)\n"
     ]
    }
   ],
   "source": [
    "print(X_train_lista.shape)"
   ]
  },
  {
   "cell_type": "code",
   "execution_count": 13,
   "id": "e481a1df423d08c3",
   "metadata": {
    "ExecuteTime": {
     "end_time": "2024-03-22T16:23:44.989233Z",
     "start_time": "2024-03-22T16:23:44.985564Z"
    },
    "collapsed": false
   },
   "outputs": [
    {
     "name": "stdout",
     "output_type": "stream",
     "text": [
      "(10000, 784)\n"
     ]
    }
   ],
   "source": [
    "print(X_test_lista.shape)"
   ]
  },
  {
   "cell_type": "markdown",
   "id": "106631eaf14c85a9",
   "metadata": {
    "collapsed": false
   },
   "source": [
    "Ahora se puede generar una red neuronal con solamente una capa de salida de 10 nodos y la entrada de 784 nodos. Sería de la siguiente manera:"
   ]
  },
  {
   "cell_type": "code",
   "execution_count": 15,
   "id": "ee151d0ef1955a4c",
   "metadata": {
    "ExecuteTime": {
     "end_time": "2024-03-22T16:24:18.828429Z",
     "start_time": "2024-03-22T16:24:18.816316Z"
    },
    "collapsed": false
   },
   "outputs": [],
   "source": [
    "model = keras.Sequential([\n",
    "    keras.layers.Input(shape=(784,)),\n",
    "    keras.layers.Dense(10, activation='sigmoid')\n",
    "])"
   ]
  },
  {
   "cell_type": "markdown",
   "id": "9556d8f9c9470d5a",
   "metadata": {
    "collapsed": false
   },
   "source": [
    "En la celda anterior vemos como es la arquitectura de nuestra Red Neuronal:  \n",
    "\n",
    "- La capa **Input** indica cuántas entradas tiene la red neuronal. \n",
    "- **Dense** nos indica que los nodos están todos conectados (es una red “densa”) y la función de activación es *sigmoide*\n",
    "- El siguiente paso es establecer los parámetros de la red y entrenarla.\n",
    "    - El primero de estos argumentos es la *función de pérdida* (loss) que usaremos para evaluar el grado de error entre las salidas calculadas y las salidas deseadas de los datos de entrenamiento.\n",
    "    - Por otro lado, especificamos un *optimizador* que es la forma en que tenemos que especificar el algoritmo de optimización que permite a la red neuronal en Keras calcular el peso de los parámetros de los datos de entrada y la función de pérdida definida.\n",
    "- Y finalmente debemos indicar la métrica que usaremos para monitorear el proceso de aprendizaje (y prueba) de nuestra red neuronal.\n",
    "  \n",
    "En este ejemplo solo consideraremos la precisión (fracción de imágenes que están clasificadas correctamente)."
   ]
  },
  {
   "cell_type": "markdown",
   "id": "6521118aa59c9930",
   "metadata": {
    "collapsed": false
   },
   "source": [
    "Pasamos a compilar el modelo:"
   ]
  },
  {
   "cell_type": "code",
   "execution_count": 16,
   "id": "fc344d28fc90b687",
   "metadata": {
    "ExecuteTime": {
     "end_time": "2024-03-22T16:24:24.580297Z",
     "start_time": "2024-03-22T16:24:24.574316Z"
    },
    "collapsed": false
   },
   "outputs": [],
   "source": [
    "model.compile(\n",
    "    optimizer='adam',\n",
    "    loss='sparse_categorical_crossentropy',\n",
    "    metrics=['accuracy']\n",
    ")"
   ]
  },
  {
   "cell_type": "markdown",
   "id": "63515dcd73d96b3e",
   "metadata": {
    "collapsed": false
   },
   "source": [
    "Una vez que nuestro modelo ha sido definido y el método de aprendizaje configurado, está listo para ser entrenado.  \n",
    "Para esto podemos entrenar o “ajustar” el modelo a los datos de entrenamiento disponibles invocando el método **fit()** del modelo"
   ]
  },
  {
   "cell_type": "code",
   "execution_count": 17,
   "id": "1e711f1a70aeff28",
   "metadata": {
    "ExecuteTime": {
     "end_time": "2024-03-22T16:24:36.502789Z",
     "start_time": "2024-03-22T16:24:27.095942Z"
    },
    "collapsed": false
   },
   "outputs": [
    {
     "name": "stdout",
     "output_type": "stream",
     "text": [
      "Epoch 1/5\n",
      "\u001b[1m1875/1875\u001b[0m \u001b[32m━━━━━━━━━━━━━━━━━━━━\u001b[0m\u001b[37m\u001b[0m \u001b[1m2s\u001b[0m 936us/step - accuracy: 0.7735 - loss: 17.2823\n",
      "Epoch 2/5\n",
      "\u001b[1m1875/1875\u001b[0m \u001b[32m━━━━━━━━━━━━━━━━━━━━\u001b[0m\u001b[37m\u001b[0m \u001b[1m2s\u001b[0m 950us/step - accuracy: 0.8821 - loss: 5.9188\n",
      "Epoch 3/5\n",
      "\u001b[1m1875/1875\u001b[0m \u001b[32m━━━━━━━━━━━━━━━━━━━━\u001b[0m\u001b[37m\u001b[0m \u001b[1m2s\u001b[0m 961us/step - accuracy: 0.8806 - loss: 5.7135\n",
      "Epoch 4/5\n",
      "\u001b[1m1875/1875\u001b[0m \u001b[32m━━━━━━━━━━━━━━━━━━━━\u001b[0m\u001b[37m\u001b[0m \u001b[1m2s\u001b[0m 953us/step - accuracy: 0.8827 - loss: 5.5689\n",
      "Epoch 5/5\n",
      "\u001b[1m1875/1875\u001b[0m \u001b[32m━━━━━━━━━━━━━━━━━━━━\u001b[0m\u001b[37m\u001b[0m \u001b[1m2s\u001b[0m 938us/step - accuracy: 0.8901 - loss: 5.1051\n"
     ]
    },
    {
     "data": {
      "text/plain": [
       "<keras.src.callbacks.history.History at 0x261a6e9dad0>"
      ]
     },
     "execution_count": 17,
     "metadata": {},
     "output_type": "execute_result"
    }
   ],
   "source": [
    "model.fit(X_train_lista,y_train,epochs=5)"
   ]
  },
  {
   "cell_type": "markdown",
   "id": "1e8d056e49812594",
   "metadata": {
    "collapsed": false
   },
   "source": [
    "Con *epochs* indicamos el número de veces que utilizaremos todos los datos en el proceso de entrenamiento/aprendizaje."
   ]
  },
  {
   "cell_type": "markdown",
   "id": "6896bf10d057465c",
   "metadata": {
    "collapsed": false
   },
   "source": [
    "### Evaluación del modelo\n",
    "En este punto, la red neuronal en Keras se ha entrenado y su comportamiento con los nuevos datos de prueba ahora se puede evaluar utilizando el método de *evaluate()*.  \n",
    "Este método devuelve dos valores:"
   ]
  },
  {
   "cell_type": "code",
   "execution_count": 18,
   "id": "85dce15cb0a8ff28",
   "metadata": {
    "ExecuteTime": {
     "end_time": "2024-03-22T16:24:46.968292Z",
     "start_time": "2024-03-22T16:24:46.557029Z"
    },
    "collapsed": false
   },
   "outputs": [
    {
     "name": "stdout",
     "output_type": "stream",
     "text": [
      "\u001b[1m313/313\u001b[0m \u001b[32m━━━━━━━━━━━━━━━━━━━━\u001b[0m\u001b[37m\u001b[0m \u001b[1m0s\u001b[0m 856us/step - accuracy: 0.8816 - loss: 6.0157\n"
     ]
    }
   ],
   "source": [
    "test_loss, test_acc = model.evaluate(X_test_lista, y_test)"
   ]
  },
  {
   "cell_type": "markdown",
   "id": "9ea371f20a1d5dfd",
   "metadata": {
    "collapsed": false
   },
   "source": [
    "Estos valores indican qué tan bien o mal se comporta nuestro modelo con los nuevos datos que nunca ha visto.  \n",
    "Estos datos han sido almacenados en *X_test_lista* y *y_test* cuando hemos realizado *mnist.load_data()* y los pasamos al método como argumentos.  \n",
    "La salida del evaluate nos indica la *pérdida(loss)* y la *exactitud(accuracy)*.  \n",
    "\n",
    "Aplicado a datos que el modelo nunca había visto antes, clasifica el 88% de ellos correctamente."
   ]
  },
  {
   "cell_type": "markdown",
   "id": "9f1b497caa44639",
   "metadata": {
    "collapsed": false
   },
   "source": [
    "### Mejora del modelo\n",
    "\n",
    "El modelo de red neuronal se puede mejorar añadiendo una capa intermedia de neuronas, de esta manera:"
   ]
  },
  {
   "cell_type": "code",
   "execution_count": 20,
   "id": "2b7e4678d7f6a527",
   "metadata": {
    "ExecuteTime": {
     "end_time": "2024-03-22T16:25:16.256296Z",
     "start_time": "2024-03-22T16:25:16.235327Z"
    },
    "collapsed": false
   },
   "outputs": [],
   "source": [
    "model = keras.Sequential([\n",
    "    keras.layers.Input(shape=(784,)),\n",
    "    keras.layers.Dense(100, activation='relu'),\n",
    "    keras.layers.Dense(10, activation='sigmoid')\n",
    "])"
   ]
  },
  {
   "cell_type": "code",
   "execution_count": 21,
   "id": "d13e0944a9792997",
   "metadata": {
    "ExecuteTime": {
     "end_time": "2024-03-22T16:25:18.693681Z",
     "start_time": "2024-03-22T16:25:18.686662Z"
    },
    "collapsed": false
   },
   "outputs": [],
   "source": [
    "model.compile(\n",
    "    optimizer='adam',\n",
    "    loss='sparse_categorical_crossentropy',\n",
    "    metrics=['accuracy']\n",
    ")"
   ]
  },
  {
   "cell_type": "code",
   "execution_count": 22,
   "id": "928677c83eaa2944",
   "metadata": {
    "ExecuteTime": {
     "end_time": "2024-03-22T16:25:37.513464Z",
     "start_time": "2024-03-22T16:25:20.352061Z"
    },
    "collapsed": false
   },
   "outputs": [
    {
     "name": "stdout",
     "output_type": "stream",
     "text": [
      "Epoch 1/5\n",
      "\u001b[1m1875/1875\u001b[0m \u001b[32m━━━━━━━━━━━━━━━━━━━━\u001b[0m\u001b[37m\u001b[0m \u001b[1m4s\u001b[0m 2ms/step - accuracy: 0.7580 - loss: 6.8936\n",
      "Epoch 2/5\n",
      "\u001b[1m1875/1875\u001b[0m \u001b[32m━━━━━━━━━━━━━━━━━━━━\u001b[0m\u001b[37m\u001b[0m \u001b[1m3s\u001b[0m 2ms/step - accuracy: 0.8818 - loss: 0.4865\n",
      "Epoch 3/5\n",
      "\u001b[1m1875/1875\u001b[0m \u001b[32m━━━━━━━━━━━━━━━━━━━━\u001b[0m\u001b[37m\u001b[0m \u001b[1m3s\u001b[0m 2ms/step - accuracy: 0.9197 - loss: 0.3132\n",
      "Epoch 4/5\n",
      "\u001b[1m1875/1875\u001b[0m \u001b[32m━━━━━━━━━━━━━━━━━━━━\u001b[0m\u001b[37m\u001b[0m \u001b[1m3s\u001b[0m 2ms/step - accuracy: 0.9298 - loss: 0.2751\n",
      "Epoch 5/5\n",
      "\u001b[1m1875/1875\u001b[0m \u001b[32m━━━━━━━━━━━━━━━━━━━━\u001b[0m\u001b[37m\u001b[0m \u001b[1m3s\u001b[0m 2ms/step - accuracy: 0.9408 - loss: 0.2242\n"
     ]
    },
    {
     "data": {
      "text/plain": [
       "<keras.src.callbacks.history.History at 0x261af921f50>"
      ]
     },
     "execution_count": 22,
     "metadata": {},
     "output_type": "execute_result"
    }
   ],
   "source": [
    "model.fit(X_train_lista, y_train, epochs=5)"
   ]
  },
  {
   "cell_type": "code",
   "execution_count": 23,
   "id": "cfe3ccc140a96f9c",
   "metadata": {
    "ExecuteTime": {
     "end_time": "2024-03-22T16:25:40.605663Z",
     "start_time": "2024-03-22T16:25:40.058181Z"
    },
    "collapsed": false
   },
   "outputs": [
    {
     "name": "stdout",
     "output_type": "stream",
     "text": [
      "\u001b[1m313/313\u001b[0m \u001b[32m━━━━━━━━━━━━━━━━━━━━\u001b[0m\u001b[37m\u001b[0m \u001b[1m1s\u001b[0m 1ms/step - accuracy: 0.9292 - loss: 0.3009\n"
     ]
    },
    {
     "data": {
      "text/plain": [
       "[0.25829678773880005, 0.9381999969482422]"
      ]
     },
     "execution_count": 23,
     "metadata": {},
     "output_type": "execute_result"
    }
   ],
   "source": [
    "model.evaluate(X_test_lista, y_test)"
   ]
  },
  {
   "cell_type": "markdown",
   "id": "dfb3af961acf3187",
   "metadata": {
    "collapsed": false
   },
   "source": [
    "Vemos como, efectivamente, añadiendo una nueva hidden layer obtenemos una mejora de casi 4 puntos en el accuracy."
   ]
  },
  {
   "cell_type": "code",
   "execution_count": null,
   "id": "f6b571b2325ccd36",
   "metadata": {
    "collapsed": false
   },
   "outputs": [],
   "source": []
  }
 ],
 "metadata": {
  "kernelspec": {
   "display_name": "Python 3",
   "language": "python",
   "name": "python3"
  },
  "language_info": {
   "codemirror_mode": {
    "name": "ipython",
    "version": 3
   },
   "file_extension": ".py",
   "mimetype": "text/x-python",
   "name": "python",
   "nbconvert_exporter": "python",
   "pygments_lexer": "ipython3",
   "version": "3.11.11"
  }
 },
 "nbformat": 4,
 "nbformat_minor": 5
}
