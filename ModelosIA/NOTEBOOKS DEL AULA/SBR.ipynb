{
 "cells": [
  {
   "cell_type": "markdown",
   "metadata": {},
   "source": [
    "# SISTEMA BASADO EN REGLAS"
   ]
  },
  {
   "cell_type": "markdown",
   "metadata": {},
   "source": [
    "El sistema que hemos definido a continuación sigue este esquema de elementos:\n",
    "- **Reglas**: Se definen condiciones (regla_principiante, regla_intermedio, regla_avanzado) que verifican si el nivel físico de una persona cumple ciertos criterios.\n",
    "- **Acciones**: Cada regla tiene asociada una acción que imprime una recomendación de ejercicios adecuada.\n",
    "- **Hechos**: Representan los datos que alimentan el sistema (en este caso, el nivel físico de la persona).\n",
    "- **Motor de inferencia**: Evalúa cada regla con los hechos proporcionados y ejecuta las acciones correspondientes."
   ]
  },
  {
   "cell_type": "markdown",
   "metadata": {},
   "source": [
    "## Definición del SBR"
   ]
  },
  {
   "cell_type": "markdown",
   "metadata": {},
   "source": [
    "Clase **SistemaBasadoEnReglas**  \n",
    "\n",
    "Esta clase encapsula toda la lógica del sistema basado en reglas. Contiene los métodos y estructuras necesarios para definir las reglas, almacenar los hechos y ejecutar el sistema. Los componentes principales de esta clase son:\n",
    "\n",
    "- ***Atributos***\n",
    "    - self.reglas: Es una lista que almacena las reglas del sistema. Cada regla es una tupla que contiene:\n",
    "        - Una función de condición (condicion): Evalúa si una regla es aplicable dado el conjunto actual de hechos.\n",
    "        - Una función de acción (accion): Define lo que se debe hacer si la condición es verdadera.\n",
    "    - self.hechos: Es un diccionario que actúa como la base de conocimiento del sistema. Contiene los datos relevantes (o hechos) que se utilizarán para evaluar las condiciones.\n",
    "- ***Métodos***\n",
    "    - agregar_regla(condicion, accion): Permite agregar una regla al sistema. Una regla es simplemente un par (condicion, accion). Esto permite que el sistema sea extensible y que se añadan más reglas según sea necesario.\n",
    "    - establecer_hecho(clave, valor): Agrega o actualiza un hecho en la base de conocimiento. Los hechos son entradas del sistema, representadas como pares clave-valor (por ejemplo, \"nivel_fisico\": \"intermedio\").\n",
    "    - ejecutar(): Es el motor de inferencia. Itera sobre todas las reglas y evalúa la función de condición para cada una. Si la condición devuelve True, ejecuta la acción asociada."
   ]
  },
  {
   "cell_type": "code",
   "execution_count": 1,
   "metadata": {},
   "outputs": [],
   "source": [
    "class SistemaBasadoEnReglas:\n",
    "    def __init__(self):\n",
    "        self.reglas = []\n",
    "        self.hechos = {}\n",
    "\n",
    "    def agregar_regla(self, condicion, accion):\n",
    "        \"\"\"Agrega una regla al sistema.\"\"\"\n",
    "        self.reglas.append((condicion, accion))\n",
    "\n",
    "    def establecer_hecho(self, clave, valor):\n",
    "        \"\"\"Establece o actualiza un hecho en la base de conocimiento.\"\"\"\n",
    "        self.hechos[clave] = valor\n",
    "\n",
    "    def ejecutar(self):\n",
    "        \"\"\"MOTOR DE INFERENCIA: Ejecuta las reglas del sistema.\"\"\"\n",
    "        for condicion, accion in self.reglas:\n",
    "            if condicion(self.hechos):\n",
    "                accion(self.hechos)"
   ]
  },
  {
   "cell_type": "markdown",
   "metadata": {},
   "source": [
    "Definición de las reglas  \n",
    "\n",
    "Las reglas son funciones que reciben como parámetro el diccionario de hechos (hechos) y devuelven un valor booleano.  \n",
    "Cada regla representa una condición que debe cumplirse para que se ejecute una acción. "
   ]
  },
  {
   "cell_type": "code",
   "execution_count": 2,
   "metadata": {},
   "outputs": [],
   "source": [
    "# Reglas del sistema\n",
    "def regla_principiante(hechos):\n",
    "    return hechos.get(\"nivel_fisico\") == \"principiante\"\n",
    "\n",
    "def regla_intermedio(hechos):\n",
    "    return hechos.get(\"nivel_fisico\") == \"intermedio\"\n",
    "\n",
    "def regla_avanzado(hechos):\n",
    "    return hechos.get(\"nivel_fisico\") == \"avanzado\""
   ]
  },
  {
   "cell_type": "markdown",
   "metadata": {},
   "source": [
    "Definición de las acciones  \n",
    "\n",
    "Las acciones son funciones que también reciben como parámetro el diccionario de hechos, aunque en este caso no lo utilizan directamente.   \n",
    "Las acciones realizan alguna operación cuando se cumplen las condiciones asociadas a una regla.   \n",
    "En este ejemplo, cada acción imprime una recomendación."
   ]
  },
  {
   "cell_type": "markdown",
   "metadata": {},
   "source": [
    "Las acciones se pueden personalizar para realizar tareas más complejas, como registrar datos, enviar notificaciones, o modificar otros hechos en el sistema."
   ]
  },
  {
   "cell_type": "code",
   "execution_count": 3,
   "metadata": {},
   "outputs": [],
   "source": [
    "# Acciones asociadas a las reglas\n",
    "def accion_principiante(hechos):\n",
    "    print(\"Recomendación: Realizar caminatas ligeras y ejercicios de bajo impacto 3 veces por semana.\")\n",
    "\n",
    "def accion_intermedio(hechos):\n",
    "    print(\"Recomendación: Incorporar entrenamiento de fuerza moderado y sesiones de cardio 4 veces por semana.\")\n",
    "\n",
    "def accion_avanzado(hechos):\n",
    "    print(\"Recomendación: Entrenamiento intensivo con sesiones de fuerza y resistencia 5 o más veces por semana.\")\n"
   ]
  },
  {
   "cell_type": "markdown",
   "metadata": {},
   "source": [
    "## Construcción del sistema\n",
    "En esta sección, se crea una instancia de la clase SistemaBasadoEnReglas y se configura con reglas y hechos. \n",
    "Los pasos son:"
   ]
  },
  {
   "cell_type": "markdown",
   "metadata": {},
   "source": [
    "### 1.- Crear instancia del SBR"
   ]
  },
  {
   "cell_type": "code",
   "execution_count": 4,
   "metadata": {},
   "outputs": [],
   "source": [
    "# Crear el sistema basado en reglas\n",
    "sistema = SistemaBasadoEnReglas()"
   ]
  },
  {
   "cell_type": "markdown",
   "metadata": {},
   "source": [
    "### 2.- Agregar las reglas  \n",
    " Las reglas se agregan llamando a *agregar_regla()*, que toma como argumentos una función de condición y una función de acción:"
   ]
  },
  {
   "cell_type": "code",
   "execution_count": 5,
   "metadata": {},
   "outputs": [],
   "source": [
    "# Agregar reglas al sistema\n",
    "sistema.agregar_regla(regla_principiante, accion_principiante)\n",
    "sistema.agregar_regla(regla_intermedio, accion_intermedio)\n",
    "sistema.agregar_regla(regla_avanzado, accion_avanzado)"
   ]
  },
  {
   "cell_type": "markdown",
   "metadata": {},
   "source": [
    "### 3.- Establecer los hechos  \n",
    " Los hechos representan las entradas que el sistema utilizará para evaluar las reglas. En este caso, el hecho establece que el nivel físico es **\"intermedio\"**."
   ]
  },
  {
   "cell_type": "code",
   "execution_count": 6,
   "metadata": {},
   "outputs": [],
   "source": [
    "# Establecer hechos (entrada del usuario)\n",
    "sistema.establecer_hecho(\"nivel_fisico\", \"intermedio\")"
   ]
  },
  {
   "cell_type": "markdown",
   "metadata": {},
   "source": [
    "### 4.- Ejecutar el sistema  \n",
    " Finalmente, el motor de inferencia evalúa las reglas con los hechos proporcionados, recorriendo todas las reglas y verifica si las condiciones son verdaderas, ejecutando las acciones correspondientes."
   ]
  },
  {
   "cell_type": "code",
   "execution_count": 7,
   "metadata": {},
   "outputs": [
    {
     "name": "stdout",
     "output_type": "stream",
     "text": [
      "Recomendación: Incorporar entrenamiento de fuerza moderado y sesiones de cardio 4 veces por semana.\n"
     ]
    }
   ],
   "source": [
    "# Ejecutar el sistema\n",
    "sistema.ejecutar()"
   ]
  },
  {
   "cell_type": "markdown",
   "metadata": {},
   "source": [
    "Cuando se ejecuta el sistema con el hecho \"nivel_fisico\": \"intermedio\", el sistema evalúa las reglas y encuentra que la condición para regla_intermedio es verdadera. Por lo tanto, se ejecuta la acción asociada."
   ]
  },
  {
   "cell_type": "markdown",
   "metadata": {},
   "source": [
    "Con este sencillo diseño disponemos de un SBR con determinado nivel de extensibilidad, permitiendo entre otros:\n",
    "\n",
    "- Agregar nuevas reglas sin modificar las existentes.\n",
    "- Cambiar las acciones o agregar acciones más complejas.\n",
    "- Manejar otros dominios simplemente modificando los hechos y reglas, sin necesidad de reescribir el motor de inferencia."
   ]
  },
  {
   "cell_type": "markdown",
   "metadata": {},
   "source": [
    "### Propuesta de ejercicio  \n",
    "\n",
    "Amplia este SBR añadiendo más reglas y acciones. Adáptalo a un dominio de tu elección, estableciendo acciones y reglas que consideres."
   ]
  },
  {
   "cell_type": "markdown",
   "metadata": {},
   "source": []
  }
 ],
 "metadata": {
  "kernelspec": {
   "display_name": "Python 3",
   "language": "python",
   "name": "python3"
  },
  "language_info": {
   "codemirror_mode": {
    "name": "ipython",
    "version": 3
   },
   "file_extension": ".py",
   "mimetype": "text/x-python",
   "name": "python",
   "nbconvert_exporter": "python",
   "pygments_lexer": "ipython3",
   "version": "3.11.11"
  }
 },
 "nbformat": 4,
 "nbformat_minor": 2
}
