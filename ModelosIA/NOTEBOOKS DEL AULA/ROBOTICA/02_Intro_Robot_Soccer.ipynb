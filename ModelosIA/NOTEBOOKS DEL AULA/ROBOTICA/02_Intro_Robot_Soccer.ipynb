{
 "cells": [
  {
   "cell_type": "markdown",
   "metadata": {},
   "source": [
    "# ROBOT-SOCCER\n",
    "\n",
    "**robot_soccer_python** es un entorno 2D de simulación de fútbol robot para python.   \n",
    "Este proyecto se ha creado para estudiar la IA aplicada a la robótica. Con este proyecto, sólo es necesario programar el cerebro del robot.    \n",
    "\n",
    "\n",
    "Veamos a continuación cómo instalar y utilizar este proyecto de código abierto.   \n",
    "\n",
    "\n",
    "Instalación de librerías con pip:   \n",
    "***pip install robot_soccer_python***"
   ]
  },
  {
   "cell_type": "markdown",
   "metadata": {},
   "source": [
    "## Uso\n",
    "Para utilizarlo es necesario explicar las clases y métodos que se necesitan.\n",
    "\n",
    "### Pose\n",
    "Esta clase se utiliza para escribir una posición en el entorno. Para importar se debe que escribir:\n",
    "```\n",
    "from robot_soccer_python.agents Pose\n",
    "```"
   ]
  },
  {
   "cell_type": "markdown",
   "metadata": {},
   "source": [
    "Y tienes que pasar la posición x, y y rotación en el plano xy para esta clase, como ```Pose(x,y,rotation)```, recuerda, la rotación es cero cuando el robot gira al sentido positivo del eje x y π en el sentido negativo."
   ]
  },
  {
   "cell_type": "markdown",
   "metadata": {},
   "source": [
    "### Jugador\n",
    "Esta clase se utiliza para obtener y establecer toda la información sobre los robots. Para importar esta clase e inicializar un jugador tienes que hacer\n",
    "```\n",
    "from robot_soccer_python.agents import Jugador\n",
    "player = Player(Pose(3, 3, 0), 2, 2, 0.2)\n",
    "```\n",
    "El primer argumento es la posición inicial del jugador, el segundo es la velocidad lineal máxima que alcanzará este jugador, el tercero es la velocidad angular máxima y el último parámetro es el radio del robot (porque los robots son círculos y se puede cambiar el tamaño).\n"
   ]
  },
  {
   "cell_type": "markdown",
   "metadata": {},
   "source": [
    "### Simulación 2D\n",
    "Esta clase es la más importante que necesitarás. En esta clase configurarás los parámetros de la simulación, como la lista de jugadores y obtendrás la información sobre los sensores de los robots. Para configurar la simulación, tienes que hacer:\n",
    "```\n",
    "from robot_soccer_python.simulation2D import simulation2D\n",
    "simulation = simulation2D([\n",
    "    Jugador(Pose(3, 3, 0), 2, 2, 0.2),\n",
    "    Jugador(Pose(6, 3, 0), 2, 2, 0.2)],\n",
    "    shockable=True,\n",
    "    full_vision=False)\n",
    "```\n",
    "El primer argumento es la lista de jugadores, el segundo es si quieres que los robots puedan chocar entre ellos (Como el principio de exclusión de Pauli «dos cuerpos no pueden ocupar el mismo espacio») o si no quieres este principio físico.    \n",
    "El último argumento es si quieres que los robots vean todo en el entorno, o si sólo verán el campo y los jugadores en su campo de visión.    \n",
    "\n",
    "Para obtener la información sobre los sensores de todos los jugadores, tienes que hacer:\n",
    "```\n",
    "simulation.get_sensors()\n",
    "```"
   ]
  },
  {
   "cell_type": "markdown",
   "metadata": {},
   "source": [
    "### init_simulation\n",
    "Para pasar las tramas de la simulación basta con llamar a esta clase. Como se demuestra a continuación:\n",
    "```\n",
    "from robot_soccer_python.simulation2D import init_simulation\n",
    "init_simulation(simulación)\n",
    "```"
   ]
  },
  {
   "cell_type": "markdown",
   "metadata": {},
   "source": [
    "## EJEMPLO"
   ]
  },
  {
   "cell_type": "code",
   "execution_count": 1,
   "metadata": {},
   "outputs": [
    {
     "name": "stdout",
     "output_type": "stream",
     "text": [
      "pygame 2.6.1 (SDL 2.28.4, Python 3.11.11)\n",
      "Hello from the pygame community. https://www.pygame.org/contribute.html\n"
     ]
    },
    {
     "name": "stderr",
     "output_type": "stream",
     "text": [
      "/usr/local/lib/python3.11/site-packages/pygame/sysfont.py:221: UserWarning: 'fc-list' is missing, system fonts cannot be loaded on your platform\n",
      "  warnings.warn(\n"
     ]
    },
    {
     "ename": "KeyboardInterrupt",
     "evalue": "",
     "output_type": "error",
     "traceback": [
      "\u001b[0;31m---------------------------------------------------------------------------\u001b[0m",
      "\u001b[0;31mKeyboardInterrupt\u001b[0m                         Traceback (most recent call last)",
      "Cell \u001b[0;32mIn[1], line 26\u001b[0m\n\u001b[1;32m     24\u001b[0m     \u001b[38;5;28;01mif\u001b[39;00m time\u001b[38;5;241m.\u001b[39mtime() \u001b[38;5;241m-\u001b[39m now2 \u001b[38;5;241m>\u001b[39m \u001b[38;5;241m5\u001b[39m:\n\u001b[1;32m     25\u001b[0m         now2 \u001b[38;5;241m=\u001b[39m time\u001b[38;5;241m.\u001b[39mtime()\n\u001b[0;32m---> 26\u001b[0m \u001b[43minit_simulation\u001b[49m\u001b[43m(\u001b[49m\u001b[43msimulation\u001b[49m\u001b[43m)\u001b[49m\n\u001b[1;32m     27\u001b[0m player_sensors \u001b[38;5;241m=\u001b[39m simulation\u001b[38;5;241m.\u001b[39mget_sensors()\n",
      "File \u001b[0;32m/usr/local/lib/python3.11/site-packages/robot_soccer_python/simulation2D.py:47\u001b[0m, in \u001b[0;36minit_simulation\u001b[0;34m(simulation)\u001b[0m\n\u001b[1;32m     45\u001b[0m environment \u001b[38;5;241m=\u001b[39m Environment(window)\n\u001b[1;32m     46\u001b[0m \u001b[38;5;28;01mwhile\u001b[39;00m (datetime\u001b[38;5;241m.\u001b[39mdatetime\u001b[38;5;241m.\u001b[39mnow() \u001b[38;5;241m-\u001b[39m now)\u001b[38;5;241m.\u001b[39mseconds \u001b[38;5;241m<\u001b[39m \u001b[38;5;241m1\u001b[39m:\n\u001b[0;32m---> 47\u001b[0m     \u001b[43mclock\u001b[49m\u001b[38;5;241;43m.\u001b[39;49m\u001b[43mtick\u001b[49m\u001b[43m(\u001b[49m\u001b[43mFREQUENCY\u001b[49m\u001b[43m)\u001b[49m\n\u001b[1;32m     49\u001b[0m     \u001b[38;5;28;01mfor\u001b[39;00m event \u001b[38;5;129;01min\u001b[39;00m pygame\u001b[38;5;241m.\u001b[39mevent\u001b[38;5;241m.\u001b[39mget():\n\u001b[1;32m     50\u001b[0m         \u001b[38;5;28;01mif\u001b[39;00m event\u001b[38;5;241m.\u001b[39mtype \u001b[38;5;241m==\u001b[39m pygame\u001b[38;5;241m.\u001b[39mQUIT:\n",
      "\u001b[0;31mKeyboardInterrupt\u001b[0m: "
     ]
    }
   ],
   "source": [
    "from robot_soccer_python.simulation2D import simulation2D, init_simulation\n",
    "from robot_soccer_python.agents import Player, Pose\n",
    "import time\n",
    "\n",
    "simulation = simulation2D(\n",
    "    [Player(Pose(3, 3, 0), 2, 2, 0.2),\n",
    "    Player(Pose(6, 3, 0), 2, 2, 0.2)],\n",
    "    shockable=True,\n",
    "    full_vision=False)\n",
    "\n",
    "now = time.time()\n",
    "now2 = time.time()\n",
    "command1 = (0, 0)\n",
    "command2 = (0, 0)\n",
    "while True:\n",
    "    if time.time() - now > 2:\n",
    "        command1 = (1 + command1[0], 1 + command1[1])\n",
    "        command2 = (1 + command2[0], - 1 + command2[1])\n",
    "        now = time.time()\n",
    "    if time.time() - now2 < 3:\n",
    "        simulation.set_commands([command1, command2])\n",
    "    else:\n",
    "        simulation.set_commands([command2, command1])\n",
    "        if time.time() - now2 > 5:\n",
    "            now2 = time.time()\n",
    "    init_simulation(simulation)\n",
    "    player_sensors = simulation.get_sensors()"
   ]
  },
  {
   "cell_type": "markdown",
   "metadata": {},
   "source": []
  }
 ],
 "metadata": {
  "kernelspec": {
   "display_name": "Python 3",
   "language": "python",
   "name": "python3"
  },
  "language_info": {
   "codemirror_mode": {
    "name": "ipython",
    "version": 3
   },
   "file_extension": ".py",
   "mimetype": "text/x-python",
   "name": "python",
   "nbconvert_exporter": "python",
   "pygments_lexer": "ipython3",
   "version": "3.11.11"
  }
 },
 "nbformat": 4,
 "nbformat_minor": 2
}
