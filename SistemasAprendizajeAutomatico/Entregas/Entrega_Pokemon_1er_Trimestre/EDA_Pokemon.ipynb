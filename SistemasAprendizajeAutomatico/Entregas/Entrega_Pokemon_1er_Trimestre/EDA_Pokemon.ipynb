{
 "cells": [
  {
   "cell_type": "markdown",
   "metadata": {},
   "source": [
    "# EDA - POKEMON"
   ]
  },
  {
   "cell_type": "markdown",
   "metadata": {},
   "source": [
    "## Carga del dataset y analisis incial"
   ]
  },
  {
   "cell_type": "markdown",
   "metadata": {},
   "source": [
    "- **pokedex_number**: Posicion que ocupa en la pokedex (nula importancia)\n",
    "\n",
    "- **name**: Nombre del pokemon (nula importancia)\n",
    "\n",
    "- **attack**: Influye en el daño causado por movimientos físicos los que usan el ataque físico(muy importante)\n",
    "\n",
    "- **defense**: Reduce el daño recibido de movimientos físicos (muy importante).\n",
    "- **height_m**: ALtura media del pokemon en metros (importancia nula).\n",
    "\n",
    "- **hp**: Puntos de vida, determina cuánta vida tiene un Pokémon(muy importante).\n",
    "\n",
    "- **percentage_male**: porcentaje de que salga el pokemon con genero masculino (importancia nula, excepto raras ocasiones, por ejemplo la habilidad \"rivalidad\").\n",
    "\n",
    "- **sp_attack**: ataque especial, determina el poder de los movimientos especiales (muy importante).\n",
    "\n",
    "- **sp_defense**: defensa especial, reduce el daño recibido de movimientos especiales (muy importante).\n",
    "\n",
    "- **speed**: Velocidad, Define qué Pokémon ataca primero en un combate (muy importane).\n",
    "\n",
    "- **type**: Tipo del pokemon (importancia baja-media, ya que hay tipos de pokemon mas \"competitivos\" pero no es directamente mejor por ser de x tipo).\n",
    "\n",
    "- **weight_kg**: Peso medio del pokemon (importancia nula, excepto raras ocasiones, por ejemplo el movimiento \"patada baja\").\n",
    "\n",
    "- **generation**: Generacion a la que pertenece el pokemon (importancia nula).\n",
    "\n",
    "- **is_legendary**: Si el pokemon es legendario (importancia, media-alta ya que de media poseen mejores atributos y posiblemente mejores movimeintos).\n"
   ]
  },
  {
   "cell_type": "code",
   "execution_count": 29,
   "metadata": {},
   "outputs": [
    {
     "data": {
      "text/html": [
       "<div>\n",
       "<style scoped>\n",
       "    .dataframe tbody tr th:only-of-type {\n",
       "        vertical-align: middle;\n",
       "    }\n",
       "\n",
       "    .dataframe tbody tr th {\n",
       "        vertical-align: top;\n",
       "    }\n",
       "\n",
       "    .dataframe thead th {\n",
       "        text-align: right;\n",
       "    }\n",
       "</style>\n",
       "<table border=\"1\" class=\"dataframe\">\n",
       "  <thead>\n",
       "    <tr style=\"text-align: right;\">\n",
       "      <th></th>\n",
       "      <th>pokedex_number</th>\n",
       "      <th>name</th>\n",
       "      <th>attack</th>\n",
       "      <th>defense</th>\n",
       "      <th>height_m</th>\n",
       "      <th>hp</th>\n",
       "      <th>percentage_male</th>\n",
       "      <th>sp_attack</th>\n",
       "      <th>sp_defense</th>\n",
       "      <th>speed</th>\n",
       "      <th>type</th>\n",
       "      <th>weight_kg</th>\n",
       "      <th>generation</th>\n",
       "      <th>is_legendary</th>\n",
       "    </tr>\n",
       "  </thead>\n",
       "  <tbody>\n",
       "    <tr>\n",
       "      <th>0</th>\n",
       "      <td>1</td>\n",
       "      <td>Bulbasaur</td>\n",
       "      <td>49</td>\n",
       "      <td>49</td>\n",
       "      <td>0.7</td>\n",
       "      <td>45</td>\n",
       "      <td>88.1</td>\n",
       "      <td>65</td>\n",
       "      <td>65</td>\n",
       "      <td>45</td>\n",
       "      <td>grass</td>\n",
       "      <td>6.9</td>\n",
       "      <td>1</td>\n",
       "      <td>0</td>\n",
       "    </tr>\n",
       "    <tr>\n",
       "      <th>1</th>\n",
       "      <td>2</td>\n",
       "      <td>Ivysaur</td>\n",
       "      <td>62</td>\n",
       "      <td>63</td>\n",
       "      <td>1.0</td>\n",
       "      <td>60</td>\n",
       "      <td>88.1</td>\n",
       "      <td>80</td>\n",
       "      <td>80</td>\n",
       "      <td>60</td>\n",
       "      <td>grass</td>\n",
       "      <td>13.0</td>\n",
       "      <td>1</td>\n",
       "      <td>0</td>\n",
       "    </tr>\n",
       "    <tr>\n",
       "      <th>2</th>\n",
       "      <td>3</td>\n",
       "      <td>Venusaur</td>\n",
       "      <td>100</td>\n",
       "      <td>123</td>\n",
       "      <td>2.0</td>\n",
       "      <td>80</td>\n",
       "      <td>88.1</td>\n",
       "      <td>122</td>\n",
       "      <td>120</td>\n",
       "      <td>80</td>\n",
       "      <td>grass</td>\n",
       "      <td>100.0</td>\n",
       "      <td>1</td>\n",
       "      <td>0</td>\n",
       "    </tr>\n",
       "    <tr>\n",
       "      <th>3</th>\n",
       "      <td>4</td>\n",
       "      <td>Charmander</td>\n",
       "      <td>52</td>\n",
       "      <td>43</td>\n",
       "      <td>0.6</td>\n",
       "      <td>39</td>\n",
       "      <td>88.1</td>\n",
       "      <td>60</td>\n",
       "      <td>50</td>\n",
       "      <td>65</td>\n",
       "      <td>fire</td>\n",
       "      <td>8.5</td>\n",
       "      <td>1</td>\n",
       "      <td>0</td>\n",
       "    </tr>\n",
       "    <tr>\n",
       "      <th>4</th>\n",
       "      <td>5</td>\n",
       "      <td>Charmeleon</td>\n",
       "      <td>64</td>\n",
       "      <td>58</td>\n",
       "      <td>1.1</td>\n",
       "      <td>58</td>\n",
       "      <td>88.1</td>\n",
       "      <td>80</td>\n",
       "      <td>65</td>\n",
       "      <td>80</td>\n",
       "      <td>fire</td>\n",
       "      <td>19.0</td>\n",
       "      <td>1</td>\n",
       "      <td>0</td>\n",
       "    </tr>\n",
       "  </tbody>\n",
       "</table>\n",
       "</div>"
      ],
      "text/plain": [
       "   pokedex_number        name  attack  defense  height_m  hp  percentage_male  \\\n",
       "0               1   Bulbasaur      49       49       0.7  45             88.1   \n",
       "1               2     Ivysaur      62       63       1.0  60             88.1   \n",
       "2               3    Venusaur     100      123       2.0  80             88.1   \n",
       "3               4  Charmander      52       43       0.6  39             88.1   \n",
       "4               5  Charmeleon      64       58       1.1  58             88.1   \n",
       "\n",
       "   sp_attack  sp_defense  speed   type  weight_kg  generation  is_legendary  \n",
       "0         65          65     45  grass        6.9           1             0  \n",
       "1         80          80     60  grass       13.0           1             0  \n",
       "2        122         120     80  grass      100.0           1             0  \n",
       "3         60          50     65   fire        8.5           1             0  \n",
       "4         80          65     80   fire       19.0           1             0  "
      ]
     },
     "execution_count": 29,
     "metadata": {},
     "output_type": "execute_result"
    }
   ],
   "source": [
    "#importamos pandas\n",
    "import pandas as pd\n",
    "import warnings\n",
    "from sklearn.preprocessing import StandardScaler\n",
    "warnings.filterwarnings(\"ignore\") #ignoramos los warnings\n",
    "\n",
    "\n",
    "#cargamos  dataset\n",
    "col_names_pokemon = [\"pokedex_number\",\"name\",\"attack\",\"defense\",\"height_m\",\"hp\",\"percentage_male\",\"sp_attack\",\"sp_defense\",\"speed\",\"type\",\"weight_kg\",\"generation\",\"is_legendary\"]\n",
    "pokemon=  pd.read_csv(\"datasets/pokedex.csv\", header=0, names=col_names_pokemon)\n",
    "\n",
    "#mostramos primeros registros\n",
    "pokemon.head()"
   ]
  },
  {
   "cell_type": "code",
   "execution_count": null,
   "metadata": {},
   "outputs": [
    {
     "name": "stdout",
     "output_type": "stream",
     "text": [
      "<class 'pandas.core.frame.DataFrame'>\n",
      "RangeIndex: 801 entries, 0 to 800\n",
      "Data columns (total 14 columns):\n",
      " #   Column           Non-Null Count  Dtype  \n",
      "---  ------           --------------  -----  \n",
      " 0   pokedex_number   801 non-null    int64  \n",
      " 1   name             801 non-null    object \n",
      " 2   attack           801 non-null    int64  \n",
      " 3   defense          801 non-null    int64  \n",
      " 4   height_m         801 non-null    float64\n",
      " 5   hp               801 non-null    int64  \n",
      " 6   percentage_male  801 non-null    float64\n",
      " 7   sp_attack        801 non-null    int64  \n",
      " 8   sp_defense       801 non-null    int64  \n",
      " 9   speed            801 non-null    int64  \n",
      " 10  type             801 non-null    object \n",
      " 11  weight_kg        801 non-null    float64\n",
      " 12  generation       801 non-null    int64  \n",
      " 13  is_legendary     801 non-null    int64  \n",
      "dtypes: float64(3), int64(9), object(2)\n",
      "memory usage: 87.7+ KB\n"
     ]
    }
   ],
   "source": [
    "#Mostramos infrmacion basica del dataset\n",
    "pokemon.info()"
   ]
  },
  {
   "cell_type": "code",
   "execution_count": null,
   "metadata": {},
   "outputs": [
    {
     "data": {
      "text/html": [
       "<div>\n",
       "<style scoped>\n",
       "    .dataframe tbody tr th:only-of-type {\n",
       "        vertical-align: middle;\n",
       "    }\n",
       "\n",
       "    .dataframe tbody tr th {\n",
       "        vertical-align: top;\n",
       "    }\n",
       "\n",
       "    .dataframe thead th {\n",
       "        text-align: right;\n",
       "    }\n",
       "</style>\n",
       "<table border=\"1\" class=\"dataframe\">\n",
       "  <thead>\n",
       "    <tr style=\"text-align: right;\">\n",
       "      <th></th>\n",
       "      <th>pokedex_number</th>\n",
       "      <th>attack</th>\n",
       "      <th>defense</th>\n",
       "      <th>height_m</th>\n",
       "      <th>hp</th>\n",
       "      <th>percentage_male</th>\n",
       "      <th>sp_attack</th>\n",
       "      <th>sp_defense</th>\n",
       "      <th>speed</th>\n",
       "      <th>weight_kg</th>\n",
       "      <th>generation</th>\n",
       "      <th>is_legendary</th>\n",
       "    </tr>\n",
       "  </thead>\n",
       "  <tbody>\n",
       "    <tr>\n",
       "      <th>count</th>\n",
       "      <td>801.000000</td>\n",
       "      <td>801.000000</td>\n",
       "      <td>801.000000</td>\n",
       "      <td>801.000000</td>\n",
       "      <td>801.000000</td>\n",
       "      <td>801.000000</td>\n",
       "      <td>801.000000</td>\n",
       "      <td>801.000000</td>\n",
       "      <td>801.000000</td>\n",
       "      <td>801.000000</td>\n",
       "      <td>801.000000</td>\n",
       "      <td>801.000000</td>\n",
       "    </tr>\n",
       "    <tr>\n",
       "      <th>mean</th>\n",
       "      <td>401.000000</td>\n",
       "      <td>77.857678</td>\n",
       "      <td>73.008739</td>\n",
       "      <td>1.163892</td>\n",
       "      <td>68.958801</td>\n",
       "      <td>48.285268</td>\n",
       "      <td>71.305868</td>\n",
       "      <td>70.911361</td>\n",
       "      <td>66.334582</td>\n",
       "      <td>61.378105</td>\n",
       "      <td>3.690387</td>\n",
       "      <td>0.087391</td>\n",
       "    </tr>\n",
       "    <tr>\n",
       "      <th>std</th>\n",
       "      <td>231.373075</td>\n",
       "      <td>32.158820</td>\n",
       "      <td>30.769159</td>\n",
       "      <td>1.066737</td>\n",
       "      <td>26.576015</td>\n",
       "      <td>26.443910</td>\n",
       "      <td>32.353826</td>\n",
       "      <td>27.942501</td>\n",
       "      <td>28.907662</td>\n",
       "      <td>107.979179</td>\n",
       "      <td>1.930420</td>\n",
       "      <td>0.282583</td>\n",
       "    </tr>\n",
       "    <tr>\n",
       "      <th>min</th>\n",
       "      <td>1.000000</td>\n",
       "      <td>5.000000</td>\n",
       "      <td>5.000000</td>\n",
       "      <td>0.100000</td>\n",
       "      <td>1.000000</td>\n",
       "      <td>-1.000000</td>\n",
       "      <td>10.000000</td>\n",
       "      <td>20.000000</td>\n",
       "      <td>5.000000</td>\n",
       "      <td>0.100000</td>\n",
       "      <td>1.000000</td>\n",
       "      <td>0.000000</td>\n",
       "    </tr>\n",
       "    <tr>\n",
       "      <th>25%</th>\n",
       "      <td>201.000000</td>\n",
       "      <td>55.000000</td>\n",
       "      <td>50.000000</td>\n",
       "      <td>0.600000</td>\n",
       "      <td>50.000000</td>\n",
       "      <td>50.000000</td>\n",
       "      <td>45.000000</td>\n",
       "      <td>50.000000</td>\n",
       "      <td>45.000000</td>\n",
       "      <td>9.300000</td>\n",
       "      <td>2.000000</td>\n",
       "      <td>0.000000</td>\n",
       "    </tr>\n",
       "    <tr>\n",
       "      <th>50%</th>\n",
       "      <td>401.000000</td>\n",
       "      <td>75.000000</td>\n",
       "      <td>70.000000</td>\n",
       "      <td>1.000000</td>\n",
       "      <td>65.000000</td>\n",
       "      <td>50.000000</td>\n",
       "      <td>65.000000</td>\n",
       "      <td>66.000000</td>\n",
       "      <td>65.000000</td>\n",
       "      <td>28.500000</td>\n",
       "      <td>4.000000</td>\n",
       "      <td>0.000000</td>\n",
       "    </tr>\n",
       "    <tr>\n",
       "      <th>75%</th>\n",
       "      <td>601.000000</td>\n",
       "      <td>100.000000</td>\n",
       "      <td>90.000000</td>\n",
       "      <td>1.500000</td>\n",
       "      <td>80.000000</td>\n",
       "      <td>50.000000</td>\n",
       "      <td>91.000000</td>\n",
       "      <td>90.000000</td>\n",
       "      <td>85.000000</td>\n",
       "      <td>61.500000</td>\n",
       "      <td>5.000000</td>\n",
       "      <td>0.000000</td>\n",
       "    </tr>\n",
       "    <tr>\n",
       "      <th>max</th>\n",
       "      <td>801.000000</td>\n",
       "      <td>185.000000</td>\n",
       "      <td>230.000000</td>\n",
       "      <td>14.500000</td>\n",
       "      <td>255.000000</td>\n",
       "      <td>100.000000</td>\n",
       "      <td>194.000000</td>\n",
       "      <td>230.000000</td>\n",
       "      <td>180.000000</td>\n",
       "      <td>999.900000</td>\n",
       "      <td>7.000000</td>\n",
       "      <td>1.000000</td>\n",
       "    </tr>\n",
       "  </tbody>\n",
       "</table>\n",
       "</div>"
      ],
      "text/plain": [
       "       pokedex_number      attack     defense    height_m          hp  \\\n",
       "count      801.000000  801.000000  801.000000  801.000000  801.000000   \n",
       "mean       401.000000   77.857678   73.008739    1.163892   68.958801   \n",
       "std        231.373075   32.158820   30.769159    1.066737   26.576015   \n",
       "min          1.000000    5.000000    5.000000    0.100000    1.000000   \n",
       "25%        201.000000   55.000000   50.000000    0.600000   50.000000   \n",
       "50%        401.000000   75.000000   70.000000    1.000000   65.000000   \n",
       "75%        601.000000  100.000000   90.000000    1.500000   80.000000   \n",
       "max        801.000000  185.000000  230.000000   14.500000  255.000000   \n",
       "\n",
       "       percentage_male   sp_attack  sp_defense       speed   weight_kg  \\\n",
       "count       801.000000  801.000000  801.000000  801.000000  801.000000   \n",
       "mean         48.285268   71.305868   70.911361   66.334582   61.378105   \n",
       "std          26.443910   32.353826   27.942501   28.907662  107.979179   \n",
       "min          -1.000000   10.000000   20.000000    5.000000    0.100000   \n",
       "25%          50.000000   45.000000   50.000000   45.000000    9.300000   \n",
       "50%          50.000000   65.000000   66.000000   65.000000   28.500000   \n",
       "75%          50.000000   91.000000   90.000000   85.000000   61.500000   \n",
       "max         100.000000  194.000000  230.000000  180.000000  999.900000   \n",
       "\n",
       "       generation  is_legendary  \n",
       "count  801.000000    801.000000  \n",
       "mean     3.690387      0.087391  \n",
       "std      1.930420      0.282583  \n",
       "min      1.000000      0.000000  \n",
       "25%      2.000000      0.000000  \n",
       "50%      4.000000      0.000000  \n",
       "75%      5.000000      0.000000  \n",
       "max      7.000000      1.000000  "
      ]
     },
     "metadata": {},
     "output_type": "display_data"
    }
   ],
   "source": [
    "pokemon.describe()"
   ]
  },
  {
   "cell_type": "markdown",
   "metadata": {},
   "source": [
    "## Estrategia a seguir con los valores nulos"
   ]
  },
  {
   "cell_type": "markdown",
   "metadata": {},
   "source": [
    "Como podemos observar hay algunas columnas con algunos registros con valores nulos:\n",
    "\n",
    "- height_m\n",
    "- percentage_male\n",
    "- weight_kg\n",
    "\n",
    "A continucacion las enumero:\n"
   ]
  },
  {
   "cell_type": "code",
   "execution_count": 40,
   "metadata": {},
   "outputs": [
    {
     "name": "stdout",
     "output_type": "stream",
     "text": [
      "Empty DataFrame\n",
      "Columns: [pokedex_number, name, attack, defense, height_m, hp, percentage_male, sp_attack, sp_defense, speed, type, weight_kg, generation, is_legendary]\n",
      "Index: []\n"
     ]
    }
   ],
   "source": [
    "#Enumerar registros con valores nulos de la columna height_m\n",
    "print(pokemon[pokemon['height_m'].isnull()])"
   ]
  },
  {
   "cell_type": "code",
   "execution_count": 41,
   "metadata": {},
   "outputs": [
    {
     "name": "stdout",
     "output_type": "stream",
     "text": [
      "Empty DataFrame\n",
      "Columns: [pokedex_number, name, attack, defense, height_m, hp, percentage_male, sp_attack, sp_defense, speed, type, weight_kg, generation, is_legendary]\n",
      "Index: []\n"
     ]
    }
   ],
   "source": [
    "#Enumerar registros con valores nulos de la columna percentage_male\n",
    "print(pokemon[pokemon['percentage_male'].isnull()])"
   ]
  },
  {
   "cell_type": "code",
   "execution_count": 42,
   "metadata": {},
   "outputs": [
    {
     "name": "stdout",
     "output_type": "stream",
     "text": [
      "Empty DataFrame\n",
      "Columns: [pokedex_number, name, attack, defense, height_m, hp, percentage_male, sp_attack, sp_defense, speed, type, weight_kg, generation, is_legendary]\n",
      "Index: []\n"
     ]
    }
   ],
   "source": [
    "#Enumerar registros con valores nulos de la columna weight_kg\n",
    "print(pokemon[pokemon['weight_kg'].isnull()])"
   ]
  },
  {
   "cell_type": "code",
   "execution_count": 43,
   "metadata": {},
   "outputs": [
    {
     "data": {
      "text/plain": [
       "True"
      ]
     },
     "execution_count": 43,
     "metadata": {},
     "output_type": "execute_result"
    }
   ],
   "source": [
    "#Por curiosidad revise si los pokemon que tienen valores nulos en las columnas peso \n",
    "# y altura son los mismos ya que vi a simple vista alguna concidencia\n",
    "pokemon[pokemon['weight_kg'].isnull()].equals(pokemon[pokemon['height_m'].isnull()])\n",
    "#Resulta que si que son los mismos"
   ]
  },
  {
   "cell_type": "code",
   "execution_count": 44,
   "metadata": {},
   "outputs": [
    {
     "name": "stdout",
     "output_type": "stream",
     "text": [
      "[]\n"
     ]
    }
   ],
   "source": [
    "pokemon_with_null = pokemon[pokemon['percentage_male'].isnull()]['name'].tolist()\n",
    "print(pokemon_with_null)"
   ]
  },
  {
   "cell_type": "markdown",
   "metadata": {},
   "source": [
    "Con \"height_m\" y \"weight_kg\" como son valores cuya importancia es nula o nula exceptuando casos muy concretos he decidido rellenarlos con la media del resto de registros.\n",
    "\n",
    "\n",
    "En cambio con \"porcentage_male\", tras investigar he llegado a la resolucion de que todos los pokemon cuyo valor es nulo en porcentage_male\" no tienen genero, por lo que aquellos registros que sean nulos pondre -1 ya que esta columna no es nada importante y no la utilizare para realizar el aprendizaje automatico."
   ]
  },
  {
   "cell_type": "code",
   "execution_count": null,
   "metadata": {},
   "outputs": [],
   "source": [
    "## Rellenar height_m y weight_kg con la media de los Pokémon que sí tienen datos\n",
    "pokemon['height_m'].fillna(pokemon['height_m'].mean(), inplace=True)\n",
    "pokemon['weight_kg'].fillna(pokemon['weight_kg'].mean(), inplace=True)\n",
    "\n",
    "# Rellenar percentage_male con -1\n",
    "pokemon['percentage_male'].fillna(-1, inplace=True)"
   ]
  },
  {
   "cell_type": "markdown",
   "metadata": {},
   "source": [
    "## Transformacion de valores"
   ]
  },
  {
   "cell_type": "markdown",
   "metadata": {},
   "source": [
    "He decidido normalizar los valores de las caracteristicas base (Ataque, Defensa, Ataque especial, defensa especial, velocidad, y Puntos de Salud)"
   ]
  }
 ],
 "metadata": {
  "kernelspec": {
   "display_name": ".venv",
   "language": "python",
   "name": "python3"
  },
  "language_info": {
   "codemirror_mode": {
    "name": "ipython",
    "version": 3
   },
   "file_extension": ".py",
   "mimetype": "text/x-python",
   "name": "python",
   "nbconvert_exporter": "python",
   "pygments_lexer": "ipython3",
   "version": "3.13.1"
  }
 },
 "nbformat": 4,
 "nbformat_minor": 2
}
