{
 "cells": [
  {
   "cell_type": "markdown",
   "metadata": {
    "slideshow": {
     "slide_type": "slide"
    }
   },
   "source": [
    "<img src=\"img/logo.jpeg\" width=\"100\">\n",
    "\n",
    "## FUNDAMENTOS DE PROGRAMACIÓN EN PYTHON (I)\n",
    "\n",
    "![logo](img/python_logo.png)\n",
    "\n",
    "*Jordi Pozo*"
   ]
  },
  {
   "cell_type": "markdown",
   "metadata": {
    "slideshow": {
     "slide_type": "slide"
    }
   },
   "source": [
    "# Sumario\n",
    "\n",
    "[KeyWords](https://docs.python.org/3/reference/lexical_analysis.html#keywords)\n",
    "\n",
    "[Python built-ins](https://docs.python.org/3/library/functions.html)\n",
    "\n",
    "- Comentarios\n",
    "- Variables\n",
    "- Condicionales\n",
    "- Loops\n",
    "- Colecciones (Secuencias)"
   ]
  },
  {
   "cell_type": "markdown",
   "metadata": {
    "slideshow": {
     "slide_type": "slide"
    }
   },
   "source": [
    "# Comentarios\n",
    "- Cualquier caracter tras '#' es ignorado por el intérprete\n",
    "- Ayuda a explicar el código"
   ]
  },
  {
   "cell_type": "code",
   "execution_count": null,
   "metadata": {
    "slideshow": {
     "slide_type": "fragment"
    }
   },
   "outputs": [],
   "source": [
    "# limpiar cadena de texto\n",
    "text = ' lEonardo '\n",
    "text = text.strip() # eliminar espacios en blanco\n",
    "text = text.title() # capitalizar primera letra\n",
    "print(text)"
   ]
  },
  {
   "cell_type": "markdown",
   "metadata": {
    "slideshow": {
     "slide_type": "slide"
    }
   },
   "source": [
    "# Valores (Literales)\n",
    "## Simples\n",
    "- Enteros\n",
    "- Decimales o punto flotante\n",
    "- Booleano\n",
    "\n",
    "## Compuestos\n",
    "* Inmutables\n",
    "* Mutables\n",
    "\n",
    "# Variables\n",
    "- Referencias a valores"
   ]
  },
  {
   "cell_type": "markdown",
   "metadata": {
    "slideshow": {
     "slide_type": "slide"
    }
   },
   "source": [
    "## Valores (Literales)"
   ]
  },
  {
   "cell_type": "code",
   "execution_count": null,
   "metadata": {
    "scrolled": true,
    "slideshow": {
     "slide_type": "fragment"
    }
   },
   "outputs": [],
   "source": [
    "print(4)            # entero\n",
    "print(4.0)          # coma flotante\n",
    "print(\"Hola MUNDO!\")  # string\n",
    "print(4,400)        # tupla\n",
    "5,5,6               # tupla"
   ]
  },
  {
   "cell_type": "markdown",
   "metadata": {
    "slideshow": {
     "slide_type": "slide"
    }
   },
   "source": [
    "## Variables\n",
    "- Referencias a valores\n",
    "- La sentencia de asignación es concatenando nombre, \"=\" y el valor"
   ]
  },
  {
   "cell_type": "code",
   "execution_count": null,
   "metadata": {},
   "outputs": [],
   "source": [
    "# asignación de variables\n",
    "a = 1\n",
    "print(a)"
   ]
  },
  {
   "cell_type": "code",
   "execution_count": null,
   "metadata": {
    "slideshow": {
     "slide_type": "fragment"
    }
   },
   "outputs": [],
   "source": [
    "# asignación de variables\n",
    "a = 1                 # entero\n",
    "b = 4.0               # coma flotante\n",
    "c = \"RIBERA\"             # string\n",
    "d = 10 + 1j           # numero complejo\n",
    "e = True  #False      # boolean\n",
    "f = None              # None"
   ]
  },
  {
   "cell_type": "markdown",
   "metadata": {
    "slideshow": {
     "slide_type": "subslide"
    }
   },
   "source": [
    "### Las variables también pueden ser visualizadas con print()"
   ]
  },
  {
   "cell_type": "code",
   "execution_count": null,
   "metadata": {},
   "outputs": [],
   "source": [
    "# tipo de dato de la variable\n",
    "\n",
    "c = 'acelga'\n",
    "print(type(c))\n",
    "\n",
    "c = 5\n",
    "print(type(c))"
   ]
  },
  {
   "cell_type": "code",
   "execution_count": null,
   "metadata": {
    "slideshow": {
     "slide_type": "fragment"
    }
   },
   "outputs": [],
   "source": [
    "print(a)\n",
    "print(type(a))\n",
    "\n",
    "print(b)\n",
    "print(type(b))\n",
    "\n",
    "print(c)\n",
    "print(type(c))\n",
    "\n",
    "print(d)\n",
    "print(type(d))\n",
    "\n",
    "print(e)\n",
    "print(type(e))\n",
    "\n",
    "print(f)\n",
    "print(type(f))"
   ]
  },
  {
   "cell_type": "markdown",
   "metadata": {
    "slideshow": {
     "slide_type": "slide"
    }
   },
   "source": [
    "### Operaciones con variables"
   ]
  },
  {
   "cell_type": "code",
   "execution_count": null,
   "metadata": {},
   "outputs": [],
   "source": [
    "j = 400\n",
    "k = 500\n",
    "print(j + k)"
   ]
  },
  {
   "cell_type": "code",
   "execution_count": null,
   "metadata": {},
   "outputs": [],
   "source": [
    "l = j + k\n",
    "print(l)"
   ]
  },
  {
   "cell_type": "code",
   "execution_count": null,
   "metadata": {},
   "outputs": [],
   "source": [
    "# identificador de variable\n",
    "print(id(j))\n",
    "print(id(k))\n",
    "print(id(l))"
   ]
  },
  {
   "cell_type": "code",
   "execution_count": null,
   "metadata": {},
   "outputs": [],
   "source": [
    "# identificador de variable con mismo id (referencia)\n",
    "a = -6\n",
    "b = -6\n",
    "\n",
    "print(id(a))\n",
    "print(id(b))\n",
    "print(id(2400))"
   ]
  },
  {
   "cell_type": "code",
   "execution_count": null,
   "metadata": {
    "slideshow": {
     "slide_type": "fragment"
    }
   },
   "outputs": [],
   "source": [
    "# cuidado asignar valores a built-in functions\n",
    "print(type(str))\n",
    "print(str(23))\n",
    "# str = 5                   # built-in reasignado\n",
    "# print(type(str))\n",
    "# print(str(23))"
   ]
  },
  {
   "cell_type": "markdown",
   "metadata": {
    "slideshow": {
     "slide_type": "slide"
    }
   },
   "source": [
    "### Nombrar variables y palabras reservadas\n",
    "- No se puede poner números delante del nombre de las variables\n",
    "- Evitar o no usar CamelCase (convención)\n",
    "- El lenguaje diferencia entre mayúsculas y minúsculas\n",
    "- Descriptivos y verbosos, explícitos\n",
    "- Uso de \"_\" para separar palabras, snake_case\n",
    "- Hay palabras o métodos reservados -> Built-ins\n",
    "- variables \"privadas\": \"__invisible\"\n",
    "- Asignación mútiple"
   ]
  },
  {
   "cell_type": "code",
   "execution_count": null,
   "metadata": {
    "slideshow": {
     "slide_type": "fragment"
    }
   },
   "outputs": [],
   "source": [
    "# asignacion multiple\n",
    "x, y, z = 39, 0.3, 0.4\n",
    "print(x, y, z)\n",
    "\n",
    "punto = x, y, 7, \"RIBERA\"   # formar tupla\n",
    "print(punto)\n",
    "print(type(punto))"
   ]
  },
  {
   "cell_type": "code",
   "execution_count": null,
   "metadata": {
    "slideshow": {
     "slide_type": "fragment"
    }
   },
   "outputs": [],
   "source": [
    "2n = 3"
   ]
  },
  {
   "cell_type": "code",
   "execution_count": null,
   "metadata": {},
   "outputs": [],
   "source": [
    "# intercambio de valores\n",
    "a = 1\n",
    "b = 2\n",
    "a, b = b, a\n",
    "print(str(a) + ' - ' + str(b))"
   ]
  },
  {
   "cell_type": "markdown",
   "metadata": {
    "slideshow": {
     "slide_type": "subslide"
    }
   },
   "source": [
    "## Tipos básicos\n",
    "- Numérico\n",
    " - int (10,12,-100), float (1.1, 9.8, -0.121)\n",
    "- string ('cadena', 'hola')\n",
    "- byte (0,1...)\n",
    "- bool (True, False)\n",
    "- Valor nulo (None)"
   ]
  },
  {
   "cell_type": "code",
   "execution_count": null,
   "metadata": {
    "slideshow": {
     "slide_type": "subslide"
    }
   },
   "outputs": [],
   "source": [
    "# asignar un valor a una variable con '='\n",
    "age = \"34\"\n",
    "\n",
    "print(type(age))"
   ]
  },
  {
   "cell_type": "code",
   "execution_count": null,
   "metadata": {},
   "outputs": [],
   "source": [
    "# tipo dinámico\n",
    "age = 34 # legal en Python\n",
    "\n",
    "print(type(age))"
   ]
  },
  {
   "cell_type": "code",
   "execution_count": null,
   "metadata": {},
   "outputs": [],
   "source": [
    "# conversiones/casting\n",
    "a = 1\n",
    "b = 2\n",
    "# print('Concatenando números: ' + a)\n",
    "print('Concatenando números: ' + str(a) + ' y ' + str(b))\n",
    "print(f\"Valor de a = {a} y de b = {b}\")"
   ]
  },
  {
   "cell_type": "code",
   "execution_count": null,
   "metadata": {
    "scrolled": true,
    "slideshow": {
     "slide_type": "fragment"
    }
   },
   "outputs": [],
   "source": [
    "raw_data = '34-21-2'\n",
    "processed_data = raw_data.split('-')     # lista con numeros\n",
    "first_number = int(processed_data[0]) # first_number es de tipo int, con valor 34\n",
    "\n",
    "print(processed_data)\n",
    "print(first_number)\n",
    "print(processed_data[0] + processed_data[1])\n",
    "print(int(processed_data[0]) + int(processed_data[1]))"
   ]
  },
  {
   "cell_type": "markdown",
   "metadata": {
    "slideshow": {
     "slide_type": "subslide"
    }
   },
   "source": [
    "## Operaciones\n",
    "[Python3 precedencia en operaciones](https://docs.python.org/3/reference/expressions.html#operator-precedence)\n",
    "\n",
    "- Combinación de valores, variables y operadores\n",
    "- Operadores y operandos"
   ]
  },
  {
   "cell_type": "markdown",
   "metadata": {
    "slideshow": {
     "slide_type": "subslide"
    }
   },
   "source": [
    "### Operadores Aritméticos\n",
    "| Operador | Desc |\n",
    "|:---------|:-----|\n",
    "| a + b    | Suma |\n",
    "| a - b    | Resta |\n",
    "| a / b    | División |\n",
    "| a // b   | División Entera |\n",
    "| a % b    | Modulo / Resto |\n",
    "| a * b    | Multiplicacion |\n",
    "| a ** b   | Exponencial |"
   ]
  },
  {
   "cell_type": "code",
   "execution_count": null,
   "metadata": {
    "scrolled": true,
    "slideshow": {
     "slide_type": "fragment"
    }
   },
   "outputs": [],
   "source": [
    "x = 8.2\n",
    "y = 3.1\n",
    "\n",
    "print('x + y = ', x + y)\n",
    "print('x - y = ', x - y)\n",
    "print('x * y = ', x * y)\n",
    "print('x / y = ', x / y)\n",
    "print('x // y = ', x // y)\n",
    "print('x % y = ', x % y)\n",
    "print('x ** y = ', x ** y)"
   ]
  },
  {
   "cell_type": "markdown",
   "metadata": {
    "slideshow": {
     "slide_type": "subslide"
    }
   },
   "source": [
    "### Operadores de Comparación\n",
    "\n",
    "| Operador | Desc |\n",
    "|:---------|:-----|\n",
    "| a > b    | Mayor |\n",
    "| a < b    | Menor |\n",
    "| a == b    | Igualdad |\n",
    "| a != b   | Desigualdad |\n",
    "| a >= b    | Mayor o Igual |\n",
    "| a <= b    | Menor o Igual |"
   ]
  },
  {
   "cell_type": "code",
   "execution_count": null,
   "metadata": {
    "slideshow": {
     "slide_type": "fragment"
    }
   },
   "outputs": [],
   "source": [
    "x = 10\n",
    "y = 12\n",
    "\n",
    "print('x > y  es ', x > y)\n",
    "print('x < y  es ', x < y)\n",
    "print('x == y es ', x == y)\n",
    "print('x != y es ', x != y)\n",
    "print('x >= y es ', x >= y)\n",
    "print('x <= y es ', x <= y)"
   ]
  },
  {
   "cell_type": "markdown",
   "metadata": {
    "slideshow": {
     "slide_type": "subslide"
    }
   },
   "source": [
    "### Operadores Lógicos\n",
    "\n",
    "\n",
    "| Operador | Desc |\n",
    "|:---------|:-----|\n",
    "| a and b  | True si ambos son True |\n",
    "| a or b   | True si alguno de los dos es True |\n",
    "| not a    | Negación |"
   ]
  },
  {
   "cell_type": "code",
   "execution_count": null,
   "metadata": {
    "slideshow": {
     "slide_type": "fragment"
    }
   },
   "outputs": [],
   "source": [
    "x = True\n",
    "y = False\n",
    "\n",
    "print('x and y es ', x and y)\n",
    "print('x or y  es', x or y)\n",
    "print('not x   es', not x)"
   ]
  },
  {
   "cell_type": "markdown",
   "metadata": {
    "slideshow": {
     "slide_type": "subslide"
    }
   },
   "source": [
    "### Operadores Bitwise / Binarios\n",
    "\n",
    "| Operador | Desc |\n",
    "|:---------|:-----|\n",
    "| a & b  | And binario |\n",
    "| a \\| b   | Or binario |\n",
    "| a ^ b   | Xor binario |\n",
    "| ~ a    | Not binario |\n",
    "| a >> b   | Desplazamiento binario a derecha |\n",
    "| a << b   | Desplazamiento binario a izquierda |"
   ]
  },
  {
   "cell_type": "code",
   "execution_count": null,
   "metadata": {
    "scrolled": true,
    "slideshow": {
     "slide_type": "fragment"
    }
   },
   "outputs": [],
   "source": [
    "x = 58 # decimal\n",
    "y = 0x3A # hexadecimal\n",
    "z = 0b00111010 # binario\n",
    "w = 0o72 # octal\n",
    "\n",
    "print(x == y == z == w)\n",
    "\n",
    "x = 0b01100110\n",
    "y = 0b00110011\n",
    "print(\"Not x = \" + bin(~x))\n",
    "print(\"x and y = \" + bin(x & y))\n",
    "print(\"x or y = \" + bin(x | y))\n",
    "print(\"x xor y = \" + bin(x ^ y))\n",
    "print(\"x << 2 = \" + bin(x << 2))\n",
    "print(\"x >> 2 = \" + bin(x >> 2))"
   ]
  },
  {
   "cell_type": "markdown",
   "metadata": {
    "slideshow": {
     "slide_type": "subslide"
    }
   },
   "source": [
    "### Operadores de Asignación\n",
    "\n",
    "| Operador | Desc |\n",
    "|:---------|:-----|\n",
    "| =   | Asignación |\n",
    "| +=  | Suma y asignación |\n",
    "| -=  | Resta y asignación|\n",
    "| *=  | Multiplicación y asignación |\n",
    "| /=  | División y asignación |\n",
    "| %=  | Módulo y asignación |\n",
    "| //= | División entera y asignación |\n",
    "| **= | Exponencial y asignación |\n",
    "| &=  | And y asignación |\n",
    "| \\|=  | Or y asignación |\n",
    "| ^=  | Xor y asignación |\n",
    "| >>= | Despl. Derecha y asignación |\n",
    "| <<= | DEspl. Izquierda y asignación |"
   ]
  },
  {
   "cell_type": "code",
   "execution_count": null,
   "metadata": {
    "slideshow": {
     "slide_type": "fragment"
    }
   },
   "outputs": [],
   "source": [
    "a = 5\n",
    "a += 3   # a = a + 3, no existe a++\n",
    "a += 1\n",
    "print(a)\n",
    "\n",
    "b = 6\n",
    "b -= 2\n",
    "print(b)"
   ]
  },
  {
   "cell_type": "markdown",
   "metadata": {
    "slideshow": {
     "slide_type": "subslide"
    }
   },
   "source": [
    "### Operadores de Identidad\n",
    "\n",
    "| Operador | Desc |\n",
    "|:---------|:-----|\n",
    "| a is b  | True si ambos operadores son una referencia al mismo objeto |\n",
    "| a is not b | True si ambos operadores son una referencia a distintos objetos |"
   ]
  },
  {
   "cell_type": "code",
   "execution_count": null,
   "metadata": {
    "slideshow": {
     "slide_type": "fragment"
    }
   },
   "outputs": [],
   "source": [
    "a = 4000\n",
    "b = a\n",
    "print(a is b)\n",
    "print(a is not c)"
   ]
  },
  {
   "cell_type": "markdown",
   "metadata": {
    "slideshow": {
     "slide_type": "subslide"
    }
   },
   "source": [
    "### Operadores de Pertenencia\n",
    "\n",
    "| Operador | Desc |\n",
    "|:---------|:-----|\n",
    "| a in b  | True si a se encuentra en la secuencia b |\n",
    "| a not in b | True si a no se encuentra en la secuencia b |"
   ]
  },
  {
   "cell_type": "code",
   "execution_count": null,
   "metadata": {
    "slideshow": {
     "slide_type": "fragment"
    }
   },
   "outputs": [],
   "source": [
    "x = 'Hola Mundo'\n",
    "y = {1:'a',2:'b'}\n",
    "\n",
    "print('H' in x)\n",
    "print('hola' not in x)\n",
    "print(1 in y)\n",
    "print('a' in y)"
   ]
  },
  {
   "cell_type": "markdown",
   "metadata": {
    "slideshow": {
     "slide_type": "slide"
    }
   },
   "source": [
    "# En Python todo son objetos\n",
    "\n",
    "- Cada objeto tiene:\n",
    " - Identidad - Nunca cambia una vez creado, es como la dirección de memoria. Operador **is** compara identidad, función **id()** devuelve identidad.\n",
    " - Tipo - Posibles valores y operaciones. Función **type()** devuelve el tipo. No cambia.\n",
    " - Valor - Mutables e inmutables.\n",
    "- Contenedores, tupla, list, dictionary.\n",
    "- Tipos mutables - list, dictionary, set y clases definidas por el usuario\n",
    "- Tipos inmutables - int, float, decimal, bool, string, tuple y range"
   ]
  },
  {
   "cell_type": "code",
   "execution_count": null,
   "metadata": {
    "slideshow": {
     "slide_type": "fragment"
    }
   },
   "outputs": [],
   "source": [
    "list_numbers = [1, 2, 3] #list, mutable\n",
    "tuple_numbers = (10, 20, 30) #tupla, inmutable una vez definida\n",
    "\n",
    "print(list_numbers[0])\n",
    "print(tuple_numbers[0])\n",
    "\n",
    "list_numbers[0] = 100\n",
    "# tuple_numbers[0] = 100 \n",
    "\n",
    "print(list_numbers)\n",
    "print(tuple_numbers)"
   ]
  },
  {
   "cell_type": "code",
   "execution_count": null,
   "metadata": {
    "slideshow": {
     "slide_type": "fragment"
    }
   },
   "outputs": [],
   "source": [
    "list_numbers = [1, 2, 3] #list, mutable\n",
    "tuple_numbers = (10, 20, 30) #tupla, inmutable una vez definida\n",
    "\n",
    "print('id of list = ' + str(id(list_numbers)) + '  id of tuple = ' + str(id(tuple_numbers)))\n",
    "\n",
    "list_numbers += [4, 5, 6]  #expand\n",
    "tuple_numbers += (40, 50, 60)\n",
    "\n",
    "print(list_numbers)\n",
    "print(tuple_numbers)\n",
    "\n",
    "print('id of list = ' + str(id(list_numbers)) + '  id of tuple = ' + str(id(tuple_numbers)))"
   ]
  },
  {
   "cell_type": "code",
   "execution_count": null,
   "metadata": {
    "slideshow": {
     "slide_type": "fragment"
    }
   },
   "outputs": [],
   "source": [
    "list_numbers = [1, 2, 3] # mutable\n",
    "list_numbers2 = list_numbers  #referencia\n",
    "print('id of list = ' + str(id(list_numbers)) + '  id of list 2 = ' + str(id(list_numbers2)))\n",
    "\n",
    "list_numbers.append(4)\n",
    "print(list_numbers)\n",
    "print(list_numbers2)\n",
    "print('id of list = ' + str(id(list_numbers)) + '  id of list 2 = ' + str(id(list_numbers2)))"
   ]
  },
  {
   "cell_type": "code",
   "execution_count": null,
   "metadata": {
    "slideshow": {
     "slide_type": "fragment"
    }
   },
   "outputs": [],
   "source": [
    "text = \"Hola\" # inmutable\n",
    "# text2 = text  # referencia\n",
    "print('id of text = ' + str(id(text)) + '  id of text 2 = ' + str(id(text2)))\n",
    "\n",
    "text += \" y Adios\"\n",
    "print(text)\n",
    "# print(text2)\n",
    "print('id of text = ' + str(id(text)) + '  id of text 2 = ' + str(id(text2)))"
   ]
  },
  {
   "cell_type": "code",
   "execution_count": null,
   "metadata": {
    "scrolled": true,
    "slideshow": {
     "slide_type": "fragment"
    }
   },
   "outputs": [],
   "source": [
    "teams = [\"Team A\", \"Team B\", \"Team C\"] #mutable\n",
    "player = (23, teams) #inmutable\n",
    "print(type(player))\n",
    "print(player)\n",
    "print(id(player))\n",
    "\n",
    "teams[2] = \"Team J\"\n",
    "print(player)\n",
    "print(id(player))"
   ]
  },
  {
   "cell_type": "markdown",
   "metadata": {
    "slideshow": {
     "slide_type": "slide"
    }
   },
   "source": [
    "# Condicionales\n",
    "- Controlar el flujo del programa"
   ]
  },
  {
   "cell_type": "code",
   "execution_count": 1,
   "metadata": {
    "slideshow": {
     "slide_type": "fragment"
    },
    "ExecuteTime": {
     "end_time": "2024-01-16T11:16:17.501567200Z",
     "start_time": "2024-01-16T11:16:17.424601900Z"
    }
   },
   "outputs": [
    {
     "name": "stdout",
     "output_type": "stream",
     "text": [
      "True\n",
      "Valor positivo\n"
     ]
    }
   ],
   "source": [
    "val = 1\n",
    "print(val>0)\n",
    "if val > 0:\n",
    "    print('Valor positivo')\n",
    "else:\n",
    "    print('Valor negativo')"
   ]
  },
  {
   "cell_type": "code",
   "execution_count": 2,
   "metadata": {
    "slideshow": {
     "slide_type": "fragment"
    },
    "ExecuteTime": {
     "end_time": "2024-01-16T11:16:28.770451100Z",
     "start_time": "2024-01-16T11:16:28.635187400Z"
    }
   },
   "outputs": [
    {
     "name": "stdout",
     "output_type": "stream",
     "text": [
      "Valor negativo\n",
      "Valor muy negativo\n"
     ]
    }
   ],
   "source": [
    "val = -50\n",
    "if val > 0:\n",
    "    print('Valor positivo')\n",
    "elif val == 0:\n",
    "    print('Valor nulo')\n",
    "else:\n",
    "    print('Valor negativo')\n",
    "    if val < -10:\n",
    "        print('Valor muy negativo')"
   ]
  },
  {
   "cell_type": "code",
   "execution_count": 3,
   "metadata": {
    "slideshow": {
     "slide_type": "fragment"
    },
    "ExecuteTime": {
     "end_time": "2024-01-16T11:16:42.791069500Z",
     "start_time": "2024-01-16T11:16:42.673089300Z"
    }
   },
   "outputs": [
    {
     "name": "stdout",
     "output_type": "stream",
     "text": [
      "True\n"
     ]
    }
   ],
   "source": [
    "if True:\n",
    "    print('True')\n",
    "else:\n",
    "    print('False')"
   ]
  },
  {
   "cell_type": "markdown",
   "metadata": {
    "slideshow": {
     "slide_type": "subslide"
    }
   },
   "source": [
    "- Indentación para estructurar el código\n",
    "- ':' importante"
   ]
  },
  {
   "cell_type": "code",
   "execution_count": 5,
   "metadata": {
    "slideshow": {
     "slide_type": "fragment"
    },
    "ExecuteTime": {
     "end_time": "2024-01-16T11:20:56.562671100Z",
     "start_time": "2024-01-16T11:20:56.350914900Z"
    }
   },
   "outputs": [
    {
     "name": "stdout",
     "output_type": "stream",
     "text": [
      "3\n"
     ]
    }
   ],
   "source": [
    "val = -3\n",
    "# operador ternario (forma breve if-else)\n",
    "# sintaxis--> condition_if_true if condition else condition_if_false\n",
    "\n",
    "resultado = val if val >= 0 else -val  # si val es mayor o igual que 0 entonces se mostrará el valor de val, sino se le cambiará el signo\n",
    "print(resultado)"
   ]
  },
  {
   "cell_type": "markdown",
   "metadata": {
    "slideshow": {
     "slide_type": "subslide"
    }
   },
   "source": [
    "## Concatenación de comparaciones\n",
    "- Se pueden concatenar comparaciones en una misma expresión\n",
    " - 'and': true si ambos son true\n",
    " - 'or': true si al menos uno es true\n",
    " - 'not': niega una expresión (true si era false, false si era true)\n",
    "- 'elif' para comparar tras un 'if'"
   ]
  },
  {
   "cell_type": "code",
   "execution_count": 6,
   "metadata": {
    "slideshow": {
     "slide_type": "fragment"
    },
    "ExecuteTime": {
     "end_time": "2024-01-16T11:27:22.586412800Z",
     "start_time": "2024-01-16T11:27:22.338085400Z"
    }
   },
   "outputs": [
    {
     "name": "stdout",
     "output_type": "stream",
     "text": [
      "Meh\n"
     ]
    }
   ],
   "source": [
    "genre = 'Action'\n",
    "release_date = 2010\n",
    "\n",
    "if genre == 'Comedy' or genre == 'Drama':\n",
    "    print('Good movie!')\n",
    "elif release_date < 1930 and release_date < 1978:\n",
    "    print('Old and bad!')\n",
    "else:\n",
    "    print('Meh')"
   ]
  },
  {
   "cell_type": "markdown",
   "metadata": {
    "slideshow": {
     "slide_type": "subslide"
    }
   },
   "source": [
    "## Comparando variables (== vs is)\n",
    "- '==' compara si el valor de las variables es el mismo\n",
    "- 'is' compara si los objetos en las variables son iguales (referencia)"
   ]
  },
  {
   "cell_type": "code",
   "execution_count": 9,
   "metadata": {
    "ExecuteTime": {
     "end_time": "2024-01-16T11:41:20.605794400Z",
     "start_time": "2024-01-16T11:41:20.461286500Z"
    }
   },
   "outputs": [
    {
     "name": "stdout",
     "output_type": "stream",
     "text": [
      "True\n",
      "True\n",
      "140736067113768\n",
      "140736067113768\n",
      "False\n",
      "False\n",
      "True\n",
      "True\n"
     ]
    }
   ],
   "source": [
    "a = 1\n",
    "b = 1\n",
    "\n",
    "print(a is b) # comprobar si se trata del mismo objeto (referencia - apuntan al mismo objeto)\n",
    "print(a == b) # comprobar si se trata del mismo valor\n",
    "\n",
    "print(id(a))\n",
    "print(id(b))\n",
    "\n",
    "b = 2\n",
    "\n",
    "print(a is b)\n",
    "print(a == b)\n",
    "\n",
    "c = 2\n",
    "\n",
    "print(b is c)\n",
    "print(b == c)"
   ]
  },
  {
   "cell_type": "code",
   "execution_count": 12,
   "metadata": {
    "slideshow": {
     "slide_type": "fragment"
    },
    "ExecuteTime": {
     "end_time": "2024-01-16T11:49:07.694770200Z",
     "start_time": "2024-01-16T11:49:07.566703800Z"
    }
   },
   "outputs": [
    {
     "name": "stdout",
     "output_type": "stream",
     "text": [
      "False\n",
      "True\n",
      "True\n",
      "id a = 2134226896448 id b = 2134226896384 id c = 2134226896448\n",
      "False\n",
      "True\n",
      "id d: 2134226928768 id e: 2134226895424\n"
     ]
    }
   ],
   "source": [
    "a = [1, 2, 3]  # lista mutable - creamos un objeto\n",
    "b = [1, 2, 3]  # creamos un nuevo objeto, distinto del anterior\n",
    "c = a # c \"apunta\" a a. Tienen la misma referencia\n",
    "print(a is b) # comparando la referencia en las variables\n",
    "print(a == b) # comparando el valor en las variables \n",
    "print(a is c)\n",
    "\n",
    "print('id a = ' + str(id(a)) + ' id b = ' + str(id(b)) + ' id c = ' + str(id(c)))\n",
    "\n",
    "d = []\n",
    "e = []\n",
    "print(d is e) # no son el mismo objeto. Se reservan espacios de memoria distintos\n",
    "print(d == e) # ambas están vacías. Si que tiene los mismos valores\n",
    "print('id d: ' + str(id(d)) + ' id e: ' + str(id(e)))"
   ]
  },
  {
   "cell_type": "markdown",
   "metadata": {
    "slideshow": {
     "slide_type": "subslide"
    }
   },
   "source": [
    "- 0 = False\n",
    "- not 0 = True"
   ]
  },
  {
   "cell_type": "code",
   "execution_count": 15,
   "metadata": {
    "slideshow": {
     "slide_type": "fragment"
    },
    "ExecuteTime": {
     "end_time": "2024-01-16T11:54:42.812376Z",
     "start_time": "2024-01-16T11:54:42.652649800Z"
    }
   },
   "outputs": [
    {
     "name": "stdout",
     "output_type": "stream",
     "text": [
      "a == true\n",
      "b == 0 == false\n",
      "empty\n",
      "[]\n"
     ]
    }
   ],
   "source": [
    "a = -10 # no es 0\n",
    "b = 0\n",
    "if a: # es distinto a 0\n",
    "    print(\"a == true\")\n",
    "if not b: # b es = 0 ---> False. Entonces, si hacemos 'not b' --> True \n",
    "    print(\"b == 0 == false\")\n",
    "    \n",
    "c = []   # c = None\n",
    "if c:\n",
    "    print(\"full\")\n",
    "else:\n",
    "    print(\"empty\")\n",
    "    print(c)"
   ]
  },
  {
   "cell_type": "markdown",
   "metadata": {
    "slideshow": {
     "slide_type": "slide"
    }
   },
   "source": [
    "# Loops\n",
    "- Vertebran el código\n",
    "- Repeticiones de fragmentos de código\n",
    "- Dos tipos: 'while' y 'for' "
   ]
  },
  {
   "cell_type": "markdown",
   "metadata": {
    "slideshow": {
     "slide_type": "subslide"
    }
   },
   "source": [
    "## for loops\n",
    "- Ideales para iterar código sobre una colección de elementos"
   ]
  },
  {
   "cell_type": "code",
   "execution_count": 17,
   "metadata": {
    "scrolled": true,
    "slideshow": {
     "slide_type": "fragment"
    },
    "ExecuteTime": {
     "end_time": "2024-01-16T11:55:29.199029400Z",
     "start_time": "2024-01-16T11:55:29.045173Z"
    }
   },
   "outputs": [
    {
     "name": "stdout",
     "output_type": "stream",
     "text": [
      "23\n",
      "The purge\n",
      "Saw IV\n",
      "Batman Begins\n"
     ]
    }
   ],
   "source": [
    "movies = [23,'The purge','Saw IV','Batman Begins']   \n",
    "for movie in movies:\n",
    "    print(movie)"
   ]
  },
  {
   "cell_type": "code",
   "execution_count": 18,
   "metadata": {
    "ExecuteTime": {
     "end_time": "2024-01-16T11:55:40.066226600Z",
     "start_time": "2024-01-16T11:55:40.005133500Z"
    }
   },
   "outputs": [
    {
     "name": "stdout",
     "output_type": "stream",
     "text": [
      "23\n",
      "The purge\n",
      "True\n"
     ]
    }
   ],
   "source": [
    "movies = [23, 'The purge', True] # numero, string, booleano\n",
    "for movie in movies:\n",
    "    print(movie)"
   ]
  },
  {
   "cell_type": "code",
   "execution_count": 27,
   "metadata": {
    "slideshow": {
     "slide_type": "fragment"
    },
    "ExecuteTime": {
     "end_time": "2024-01-16T12:03:46.273441100Z",
     "start_time": "2024-01-16T12:03:46.152713800Z"
    }
   },
   "outputs": [
    {
     "name": "stdout",
     "output_type": "stream",
     "text": [
      "44\n",
      "20\n",
      "6\n",
      "[44, 6]\n"
     ]
    }
   ],
   "source": [
    "# print(elemento)\n",
    "lista = [44, 20, 6]\n",
    "for elemento in lista:\n",
    "    print(elemento)\n",
    "# borrar elemento de la lista\n",
    "del lista[1]\n",
    "    \n",
    "print(lista)"
   ]
  },
  {
   "cell_type": "code",
   "execution_count": 28,
   "metadata": {
    "ExecuteTime": {
     "end_time": "2024-01-16T12:04:15.019645500Z",
     "start_time": "2024-01-16T12:04:14.921992300Z"
    }
   },
   "outputs": [
    {
     "data": {
      "text/plain": "range(0, 10)"
     },
     "execution_count": 28,
     "metadata": {},
     "output_type": "execute_result"
    }
   ],
   "source": [
    "range(10)  # rango"
   ]
  },
  {
   "cell_type": "code",
   "outputs": [
    {
     "data": {
      "text/plain": "[0, 1, 2, 3, 4, 5, 6, 7, 8, 9]"
     },
     "execution_count": 30,
     "metadata": {},
     "output_type": "execute_result"
    }
   ],
   "source": [
    "list(range(10))"
   ],
   "metadata": {
    "collapsed": false,
    "ExecuteTime": {
     "end_time": "2024-01-16T12:04:44.571385500Z",
     "start_time": "2024-01-16T12:04:44.501429100Z"
    }
   },
   "execution_count": 30
  },
  {
   "cell_type": "code",
   "execution_count": 29,
   "metadata": {
    "ExecuteTime": {
     "end_time": "2024-01-16T12:04:19.606079900Z",
     "start_time": "2024-01-16T12:04:19.555870900Z"
    }
   },
   "outputs": [
    {
     "data": {
      "text/plain": "[0, 1, 2, 3, 4, 5, 6, 7, 8, 9]"
     },
     "execution_count": 29,
     "metadata": {},
     "output_type": "execute_result"
    }
   ],
   "source": [
    "list(range(0, 10))"
   ]
  },
  {
   "cell_type": "code",
   "execution_count": 32,
   "metadata": {
    "slideshow": {
     "slide_type": "fragment"
    },
    "ExecuteTime": {
     "end_time": "2024-01-16T12:06:40.034271400Z",
     "start_time": "2024-01-16T12:06:39.918562500Z"
    }
   },
   "outputs": [
    {
     "name": "stdout",
     "output_type": "stream",
     "text": [
      "[0, 1, 2, 3, 4, 5, 6, 7, 8, 9]\n",
      "[2, 3, 4, 5, 6, 7, 8, 9]\n",
      "[2, 4, 6, 8]\n",
      "[10, 8, 6, 4]\n"
     ]
    }
   ],
   "source": [
    "print(list(range(10)))\n",
    "print(list(range(2, 10))) # desde el 2 hasta el 9\n",
    "print(list(range(2, 10, 2))) # desde el 2 hasta el 9, cogiendo solo los pares\n",
    "print(list(range(10, 2, -2))) # desde el 10 hasta el 3, cogiendo los pares \"hacia atrás\""
   ]
  },
  {
   "cell_type": "code",
   "execution_count": 33,
   "metadata": {
    "scrolled": true,
    "slideshow": {
     "slide_type": "fragment"
    },
    "ExecuteTime": {
     "end_time": "2024-01-16T12:06:48.570542900Z",
     "start_time": "2024-01-16T12:06:48.504106Z"
    }
   },
   "outputs": [
    {
     "name": "stdout",
     "output_type": "stream",
     "text": [
      "0\n",
      "1\n",
      "4\n",
      "9\n",
      "16\n",
      "25\n",
      "36\n",
      "49\n",
      "64\n",
      "81\n"
     ]
    }
   ],
   "source": [
    "#iterar un número fijo de veces\n",
    "for i in range(10):  # de [0 a 9]. Estamos creando un rango/secuencia de valores que funciona \"como una lista!\n",
    "    print(pow(i,2))"
   ]
  },
  {
   "cell_type": "code",
   "outputs": [
    {
     "name": "stdout",
     "output_type": "stream",
     "text": [
      "25\n",
      "16\n",
      "9\n",
      "4\n",
      "1\n"
     ]
    }
   ],
   "source": [
    "for i in range (5, 0, -1): # cuenta atrás\n",
    "    print(pow(i,2)) #5,4,3,2,1"
   ],
   "metadata": {
    "collapsed": false,
    "ExecuteTime": {
     "end_time": "2024-01-16T12:11:29.124288400Z",
     "start_time": "2024-01-16T12:11:29.034506900Z"
    }
   },
   "execution_count": 35
  },
  {
   "cell_type": "markdown",
   "metadata": {
    "slideshow": {
     "slide_type": "subslide"
    }
   },
   "source": [
    "## while loop\n",
    "- repetir el código hasta que se deje cumplir una expresión "
   ]
  },
  {
   "cell_type": "code",
   "execution_count": 36,
   "metadata": {
    "ExecuteTime": {
     "end_time": "2024-01-16T12:12:24.764529600Z",
     "start_time": "2024-01-16T12:12:24.680997100Z"
    }
   },
   "outputs": [
    {
     "name": "stdout",
     "output_type": "stream",
     "text": [
      "1984\n",
      "2000\n",
      "2013\n"
     ]
    }
   ],
   "source": [
    "index = 0\n",
    "release_dates = [1984,2000,2013,2018,2007,1983,1945,1999,2011,2017,1976]\n",
    "while index < 3:\n",
    "    print(release_dates[index])\n",
    "    index += 1  #index = index + 1    "
   ]
  },
  {
   "cell_type": "code",
   "execution_count": 37,
   "metadata": {
    "slideshow": {
     "slide_type": "fragment"
    },
    "ExecuteTime": {
     "end_time": "2024-01-16T12:12:38.226461700Z",
     "start_time": "2024-01-16T12:12:38.182586Z"
    }
   },
   "outputs": [
    {
     "name": "stdout",
     "output_type": "stream",
     "text": [
      "1984\n",
      "2000\n",
      "1983\n",
      "3\n",
      "6\n"
     ]
    }
   ],
   "source": [
    "counter = 0\n",
    "index = 0\n",
    "release_dates = [1984,2000,2013,2018,2007,1983,1945,1999,2011,2017,1976]\n",
    "while counter < 3 and index < len(release_dates):\n",
    "    if release_dates[index] < 2001:\n",
    "        print(release_dates[index])\n",
    "        counter += 1\n",
    "    index += 1\n",
    "\n",
    "print(counter)\n",
    "print(index)"
   ]
  },
  {
   "cell_type": "code",
   "execution_count": null,
   "metadata": {
    "slideshow": {
     "slide_type": "fragment"
    }
   },
   "outputs": [],
   "source": [
    "#bucle infinito\n",
    "i = 0\n",
    "while i < 10:\n",
    "    print(i)\n",
    "# falta incrementar \"i\""
   ]
  },
  {
   "cell_type": "markdown",
   "metadata": {
    "slideshow": {
     "slide_type": "subslide"
    }
   },
   "source": [
    "- Forzar la salida del loop (válido para 'for' y 'while')"
   ]
  },
  {
   "cell_type": "code",
   "execution_count": 38,
   "metadata": {
    "ExecuteTime": {
     "end_time": "2024-01-16T12:16:50.763092Z",
     "start_time": "2024-01-16T12:16:50.681928300Z"
    }
   },
   "outputs": [
    {
     "name": "stdout",
     "output_type": "stream",
     "text": [
      "4.9\n",
      "2.5\n",
      "1.7\n",
      "4.2\n",
      "Found\n"
     ]
    }
   ],
   "source": [
    "movie_ratings = [4.9,2.5,1.7,4.2,3.8,3.3,2.9]\n",
    "for rating in movie_ratings:\n",
    "    print(rating)\n",
    "    if rating == 4.2:\n",
    "        print(\"Found\")\n",
    "        break"
   ]
  },
  {
   "cell_type": "code",
   "execution_count": 40,
   "metadata": {
    "slideshow": {
     "slide_type": "fragment"
    },
    "ExecuteTime": {
     "end_time": "2024-01-16T12:18:28.359338900Z",
     "start_time": "2024-01-16T12:18:28.252327700Z"
    }
   },
   "outputs": [
    {
     "name": "stdout",
     "output_type": "stream",
     "text": [
      "4.9\n",
      "4.2\n",
      "Indice: 7 Longitud: 7\n"
     ]
    }
   ],
   "source": [
    "index = 0\n",
    "movie_ratings = [4.9,2.5,1.7,4.2,3.8,3.3,2.9]\n",
    "while True:\n",
    "    if movie_ratings[index] > 4:\n",
    "        print(movie_ratings[index])\n",
    "    index += 1\n",
    "    if index >= len(movie_ratings):\n",
    "        print(\"Indice: \" + str(index) + \" Longitud: \" + str(len(movie_ratings)))\n",
    "        break # break fuerza la salida del loop"
   ]
  },
  {
   "cell_type": "markdown",
   "metadata": {
    "slideshow": {
     "slide_type": "subslide"
    }
   },
   "source": [
    "- 'continue' para saltar una iteración (pero continuar en el loop)"
   ]
  },
  {
   "cell_type": "code",
   "execution_count": 41,
   "metadata": {
    "slideshow": {
     "slide_type": "fragment"
    },
    "ExecuteTime": {
     "end_time": "2024-01-16T12:19:02.516908200Z",
     "start_time": "2024-01-16T12:19:02.445957Z"
    }
   },
   "outputs": [
    {
     "name": "stdout",
     "output_type": "stream",
     "text": [
      "1\n",
      "3\n",
      "5\n",
      "7\n",
      "9\n"
     ]
    }
   ],
   "source": [
    "for i in range(10):\n",
    "    if i % 2 == 0:\n",
    "        continue # salta a la siguiente iteración\n",
    "    print(i)"
   ]
  },
  {
   "cell_type": "markdown",
   "metadata": {},
   "source": [
    "- 'else' se ejecuta al final si no ha habido ningún 'break'"
   ]
  },
  {
   "cell_type": "code",
   "execution_count": 46,
   "metadata": {
    "ExecuteTime": {
     "end_time": "2024-01-16T12:26:25.275631700Z",
     "start_time": "2024-01-16T12:26:25.163871900Z"
    }
   },
   "outputs": [
    {
     "name": "stdout",
     "output_type": "stream",
     "text": [
      "0\n",
      "1\n",
      "2\n",
      "3\n",
      "4\n",
      "5\n",
      "6\n",
      "7\n",
      "Finally finished!\n"
     ]
    }
   ],
   "source": [
    "for x in range(8):\n",
    "    print(x)\n",
    "#    if x > 6:\n",
    "#        break\n",
    "else:\n",
    "    print(\"Finally finished!\")"
   ]
  },
  {
   "cell_type": "code",
   "execution_count": 47,
   "metadata": {
    "ExecuteTime": {
     "end_time": "2024-01-16T12:26:36.804437400Z",
     "start_time": "2024-01-16T12:26:36.749906600Z"
    }
   },
   "outputs": [
    {
     "name": "stdout",
     "output_type": "stream",
     "text": [
      "not found\n"
     ]
    }
   ],
   "source": [
    "list = [10,20,30,40]\n",
    "element_to_find = 25\n",
    "\n",
    "# for-else\n",
    "for element in list:\n",
    "    if element == element_to_find:\n",
    "        print(\"found\")\n",
    "        break\n",
    "else:\n",
    "    print(\"not found\")\n",
    "    \n",
    "    \n",
    "# with flag\n",
    "# found = False\n",
    "# for element in list:\n",
    "#     if element == element_to_find:\n",
    "#         found = True\n",
    "#         print(\"found\")\n",
    "#         break\n",
    "        \n",
    "# if not found:\n",
    "#     print(\"not found\")\n",
    "    "
   ]
  },
  {
   "cell_type": "markdown",
   "metadata": {
    "slideshow": {
     "slide_type": "slide"
    }
   },
   "source": [
    "# Colecciones\n",
    "- Grupos de elementos en un mismo objeto\n",
    "- Colecciones en Python\n",
    " - Tuplas\n",
    " - Listas\n",
    " - Diccionarios\n",
    " - Sets (conjuntos)\n",
    " - Secuencias"
   ]
  },
  {
   "cell_type": "markdown",
   "metadata": {
    "slideshow": {
     "slide_type": "subslide"
    }
   },
   "source": [
    "## Tuplas\n",
    "- Lista de elementos inmutable\n",
    "- Acceso a través de __[index]__\n",
    "- Índices empiezan van de 0 a n-1\n",
    "- Con ( )\n",
    "- Tipos de datos heterogeneos"
   ]
  },
  {
   "cell_type": "code",
   "execution_count": 48,
   "metadata": {
    "slideshow": {
     "slide_type": "fragment"
    },
    "ExecuteTime": {
     "end_time": "2024-01-16T12:42:14.745360800Z",
     "start_time": "2024-01-16T12:42:14.686492700Z"
    }
   },
   "outputs": [
    {
     "name": "stdout",
     "output_type": "stream",
     "text": [
      "Foo\n",
      "4\n",
      "('Foo', 34, 5.0, 34)\n"
     ]
    }
   ],
   "source": [
    "# crear una tupla\n",
    "tuple1 = ('Foo',34,5.0,34)\n",
    "print(tuple1[0])   # acceso al elemento con índice 0\n",
    "print(len(tuple1)) # elementos en la tupla\n",
    "print(tuple1)      # todos los elementos"
   ]
  },
  {
   "cell_type": "code",
   "execution_count": 50,
   "metadata": {
    "slideshow": {
     "slide_type": "fragment"
    },
    "ExecuteTime": {
     "end_time": "2024-01-16T12:43:18.688489600Z",
     "start_time": "2024-01-16T12:43:18.537374100Z"
    }
   },
   "outputs": [
    {
     "name": "stdout",
     "output_type": "stream",
     "text": [
      "Foo\n",
      "34\n",
      "----\n",
      "34\n",
      "Foo\n"
     ]
    }
   ],
   "source": [
    "tuple1 = ('Foo',34,5.0,34)\n",
    "\n",
    "print(tuple1[0]) # 1er elemento\n",
    "print(tuple1[len(tuple1)-1]) #ultimo elemento\n",
    "\n",
    "print(\"----\")\n",
    "\n",
    "print(tuple1[-1]) # negativos de atras hacia delante\n",
    "print(tuple1[-len(tuple1)]) # primer elemento"
   ]
  },
  {
   "cell_type": "code",
   "execution_count": 66,
   "metadata": {
    "ExecuteTime": {
     "end_time": "2024-01-16T12:53:53.329194800Z",
     "start_time": "2024-01-16T12:53:53.238218300Z"
    }
   },
   "outputs": [
    {
     "name": "stdout",
     "output_type": "stream",
     "text": [
      "Foo\n",
      "(30, 'Foo', 40, 0.1)\n",
      "4\n"
     ]
    }
   ],
   "source": [
    "# empaquetar\n",
    "# Si a una variable se le asigna una secuencia de valores separados por comas, el valor de esa variable será la tupla formada por todos los valores asignados. \n",
    "# A esta operación se la denomina empaquetado de tuplas.\n",
    "tuple1 = 30, \"Foo\", 40, 0.1\n",
    "print(tuple1[1])\n",
    "print(tuple1)\n",
    "print(len(tuple1))\n"
   ]
  },
  {
   "cell_type": "code",
   "execution_count": 56,
   "metadata": {
    "slideshow": {
     "slide_type": "fragment"
    },
    "ExecuteTime": {
     "end_time": "2024-01-16T12:47:51.417211600Z",
     "start_time": "2024-01-16T12:47:51.279435800Z"
    }
   },
   "outputs": [],
   "source": [
    "# Ayuda de la función. tuple es un built in \n",
    "tuple?"
   ]
  },
  {
   "cell_type": "code",
   "execution_count": 59,
   "metadata": {
    "ExecuteTime": {
     "end_time": "2024-01-16T12:49:21.347991Z",
     "start_time": "2024-01-16T12:49:21.247305600Z"
    }
   },
   "outputs": [
    {
     "name": "stdout",
     "output_type": "stream",
     "text": [
      "[4, 5, 6]\n",
      "<class 'list'>\n",
      "<class 'int'>\n"
     ]
    }
   ],
   "source": [
    "x, *y = 3, 4, 5, 6 # asignamos el primer valor a 'x' y el resto lo transformamos en una lista 'y'\n",
    "print(y)\n",
    "print(type(y))\n",
    "print(type(x))"
   ]
  },
  {
   "cell_type": "markdown",
   "metadata": {
    "slideshow": {
     "slide_type": "subslide"
    }
   },
   "source": [
    "### Funciones útiles con tuplas"
   ]
  },
  {
   "cell_type": "code",
   "execution_count": 60,
   "metadata": {
    "slideshow": {
     "slide_type": "fragment"
    },
    "ExecuteTime": {
     "end_time": "2024-01-16T12:49:26.537045300Z",
     "start_time": "2024-01-16T12:49:26.481949900Z"
    }
   },
   "outputs": [
    {
     "name": "stdout",
     "output_type": "stream",
     "text": [
      "2\n"
     ]
    }
   ],
   "source": [
    "# Contar elementos presentes\n",
    "tuple1 = ('Foo',34,5.0,34)\n",
    "print(tuple1.count(34))"
   ]
  },
  {
   "cell_type": "code",
   "execution_count": 61,
   "metadata": {
    "slideshow": {
     "slide_type": "fragment"
    },
    "ExecuteTime": {
     "end_time": "2024-01-16T12:49:30.219153800Z",
     "start_time": "2024-01-16T12:49:30.159731900Z"
    }
   },
   "outputs": [
    {
     "name": "stdout",
     "output_type": "stream",
     "text": [
      "1\n",
      "34\n"
     ]
    }
   ],
   "source": [
    "# Encontrar el índice de un elemento\n",
    "tuple1 = ('Foo',34,5.0,34)\n",
    "indice = tuple1.index(34)\n",
    "print(indice)\n",
    "print(tuple1[indice])"
   ]
  },
  {
   "cell_type": "code",
   "execution_count": 62,
   "metadata": {
    "slideshow": {
     "slide_type": "fragment"
    },
    "ExecuteTime": {
     "end_time": "2024-01-16T12:49:49.488283Z",
     "start_time": "2024-01-16T12:49:49.439966700Z"
    }
   },
   "outputs": [
    {
     "ename": "ValueError",
     "evalue": "tuple.index(x): x not in tuple",
     "output_type": "error",
     "traceback": [
      "\u001B[1;31m---------------------------------------------------------------------------\u001B[0m",
      "\u001B[1;31mValueError\u001B[0m                                Traceback (most recent call last)",
      "Cell \u001B[1;32mIn[62], line 3\u001B[0m\n\u001B[0;32m      1\u001B[0m \u001B[38;5;66;03m# si el elemento no existe, error\u001B[39;00m\n\u001B[0;32m      2\u001B[0m tuple1 \u001B[38;5;241m=\u001B[39m (\u001B[38;5;124m'\u001B[39m\u001B[38;5;124mFoo\u001B[39m\u001B[38;5;124m'\u001B[39m,\u001B[38;5;241m34\u001B[39m,\u001B[38;5;241m5.0\u001B[39m,\u001B[38;5;241m34\u001B[39m)\n\u001B[1;32m----> 3\u001B[0m \u001B[38;5;28mprint\u001B[39m(tuple1\u001B[38;5;241m.\u001B[39mindex(\u001B[38;5;241m10\u001B[39m))\n",
      "\u001B[1;31mValueError\u001B[0m: tuple.index(x): x not in tuple"
     ]
    }
   ],
   "source": [
    "# si el elemento no existe, error\n",
    "tuple1 = ('Foo',34,5.0,34)\n",
    "print(tuple1.index(10))"
   ]
  },
  {
   "cell_type": "code",
   "execution_count": 64,
   "metadata": {
    "slideshow": {
     "slide_type": "fragment"
    },
    "ExecuteTime": {
     "end_time": "2024-01-16T12:50:38.384080300Z",
     "start_time": "2024-01-16T12:50:38.278360800Z"
    }
   },
   "outputs": [
    {
     "name": "stdout",
     "output_type": "stream",
     "text": [
      "2\n"
     ]
    }
   ],
   "source": [
    "# comprobar si existe antes\n",
    "tuple1 = ('Foo',34,5.0,34)\n",
    "\n",
    "# elemento = 35\n",
    "elemento = 5.0\n",
    "if elemento in tuple1:\n",
    "    print(tuple1.index(elemento))\n",
    "else:\n",
    "    print(str(elemento) + ' not found')"
   ]
  },
  {
   "cell_type": "code",
   "execution_count": 67,
   "metadata": {
    "slideshow": {
     "slide_type": "subslide"
    },
    "ExecuteTime": {
     "end_time": "2024-01-16T12:55:12.933831300Z",
     "start_time": "2024-01-16T12:55:12.881963700Z"
    }
   },
   "outputs": [
    {
     "name": "stdout",
     "output_type": "stream",
     "text": [
      "Foo\n",
      "340\n",
      "[34, 5.0]\n",
      "('Foo', 34, 5.0, 340)\n"
     ]
    }
   ],
   "source": [
    "# desempaquetar una tupla\n",
    "# Si se tiene una tupla de longitud k, se puede asignar la tupla a k variables distintas y en cada variable quedará una de las componentes de la tupla. \n",
    "# A esta operación se la denomina desempaquetado de tuplas.\n",
    "tuple1 = ('Foo',34,5.0,340)\n",
    "a,*_, b = tuple1 # a,b,c - a,b,c,d - a,b,_,_\n",
    "print(a)\n",
    "print(b)\n",
    "print(_)\n",
    "print(tuple1)\n",
    "del _"
   ]
  },
  {
   "cell_type": "code",
   "execution_count": 68,
   "metadata": {
    "slideshow": {
     "slide_type": "fragment"
    },
    "ExecuteTime": {
     "end_time": "2024-01-16T12:57:00.007336200Z",
     "start_time": "2024-01-16T12:56:59.953220600Z"
    }
   },
   "outputs": [
    {
     "name": "stdout",
     "output_type": "stream",
     "text": [
      "Foo\n",
      "[34, 5.0, 45]\n"
     ]
    }
   ],
   "source": [
    "# desempaquetado parcial\n",
    "tuple1 = ('Foo',34,5.0, 45)\n",
    "a, *resto = tuple1\n",
    "print(a) # primer elemento\n",
    "print(resto) # lista con el resto"
   ]
  },
  {
   "cell_type": "code",
   "execution_count": 71,
   "metadata": {
    "ExecuteTime": {
     "end_time": "2024-01-16T12:59:35.481681400Z",
     "start_time": "2024-01-16T12:59:35.281960900Z"
    }
   },
   "outputs": [
    {
     "name": "stdout",
     "output_type": "stream",
     "text": [
      "Foo\n",
      "[34, 5.0, 45]\n",
      "<class 'list'>\n"
     ]
    },
    {
     "ename": "NameError",
     "evalue": "name '_' is not defined",
     "output_type": "error",
     "traceback": [
      "\u001B[1;31m---------------------------------------------------------------------------\u001B[0m",
      "\u001B[1;31mNameError\u001B[0m                                 Traceback (most recent call last)",
      "Cell \u001B[1;32mIn[71], line 9\u001B[0m\n\u001B[0;32m      7\u001B[0m \u001B[38;5;28mprint\u001B[39m(\u001B[38;5;28mtype\u001B[39m(_))\n\u001B[0;32m      8\u001B[0m \u001B[38;5;28;01mdel\u001B[39;00m _\n\u001B[1;32m----> 9\u001B[0m \u001B[38;5;28mprint\u001B[39m(_)\n",
      "\u001B[1;31mNameError\u001B[0m: name '_' is not defined"
     ]
    }
   ],
   "source": [
    "# desempaquetado parcial\n",
    "tuple1 = ('Foo',34,5.0,45)\n",
    "a, *_ = tuple1    # ignora el resto (Realmente se crea una lista 'identificada' por un '_', que luego podemos eliminar\n",
    "print(a) # primer elemento\n",
    "\n",
    "print(_)\n",
    "print(type(_))\n",
    "del _\n",
    "print(_)"
   ]
  },
  {
   "cell_type": "markdown",
   "metadata": {
    "slideshow": {
     "slide_type": "subslide"
    }
   },
   "source": [
    "## Listas\n",
    "- Similar a tuplas, pero con elementos mutables\n",
    "- Índices empiezan van de 0 a n-1\n",
    "- Con [ ]\n",
    "- Tipos de datos heterogeneos"
   ]
  },
  {
   "cell_type": "code",
   "execution_count": 79,
   "metadata": {
    "slideshow": {
     "slide_type": "fragment"
    },
    "ExecuteTime": {
     "end_time": "2024-01-16T13:08:50.550556500Z",
     "start_time": "2024-01-16T13:08:50.478112100Z"
    }
   },
   "outputs": [
    {
     "name": "stdout",
     "output_type": "stream",
     "text": [
      "Pan\n",
      "3\n",
      "['Manolo']\n",
      "['Hola', 'mundo']\n",
      "Huevos\n",
      "Pan\n",
      "Leche\n"
     ]
    }
   ],
   "source": [
    "# crear una lista\n",
    "compra = ['Huevos','Pan','Leche']\n",
    "# nombre = list('Manolo')  ## en versiones anteriores a python 3.4\n",
    "nombre =['Manolo']\n",
    "palabras = 'Hola mundo'.split() # Hacemos un split de la cadena y creamos la lista\n",
    "# ids = list(range(0,100,20)) # cast a list (versiones anteriores a python 3.4\n",
    "\n",
    "print(compra[1]) # acceso al segundo elemento\n",
    "print(len(compra)) # elementos en la lista\n",
    "print(nombre)\n",
    "print(palabras)\n",
    "# print(ids)\n",
    "\n",
    "# iterar sobre los elementos\n",
    "for element in compra:\n",
    "    print(element)"
   ]
  },
  {
   "cell_type": "markdown",
   "metadata": {
    "slideshow": {
     "slide_type": "subslide"
    }
   },
   "source": [
    "### Funciones útiles con listas\n",
    "- Además de 'count' y 'index'\n",
    "- __lista.<tab\\>__ para listado completo"
   ]
  },
  {
   "cell_type": "code",
   "execution_count": 80,
   "metadata": {
    "slideshow": {
     "slide_type": "fragment"
    },
    "ExecuteTime": {
     "end_time": "2024-01-16T13:09:10.931542500Z",
     "start_time": "2024-01-16T13:09:10.878343300Z"
    }
   },
   "outputs": [
    {
     "name": "stdout",
     "output_type": "stream",
     "text": [
      "<class 'list'>\n"
     ]
    }
   ],
   "source": [
    "compra = ['Huevos','Pan','Leche']\n",
    "print(type(compra))\n",
    "# compra."
   ]
  },
  {
   "cell_type": "code",
   "outputs": [
    {
     "name": "stdout",
     "output_type": "stream",
     "text": [
      "['Huevos', 'Pan', 'Leche', 'Carne', 'Carne', 'Carne']\n"
     ]
    }
   ],
   "source": [
    "compra = ['Huevos','Pan','Leche']\n",
    "\n",
    "# añadir un elemento\n",
    "\n",
    "compra.append('Carne')\n",
    "compra.append('Carne')\n",
    "compra.append('Carne')\n",
    "if not 'Carne' in compra:\n",
    "    compra.append('Carne')\n",
    "print(compra)\n"
   ],
   "metadata": {
    "collapsed": false,
    "ExecuteTime": {
     "end_time": "2024-01-16T13:10:26.079851400Z",
     "start_time": "2024-01-16T13:10:26.023091700Z"
    }
   },
   "execution_count": 82
  },
  {
   "cell_type": "code",
   "outputs": [
    {
     "name": "stdout",
     "output_type": "stream",
     "text": [
      "['Huevos', 'Fruta', 'Pan', 'Leche', 'Carne', 'Carne', 'Carne']\n"
     ]
    }
   ],
   "source": [
    "# insertar elemento\n",
    "compra.insert(1,'Fruta') # añadir en posición\n",
    "print(compra)"
   ],
   "metadata": {
    "collapsed": false,
    "ExecuteTime": {
     "end_time": "2024-01-16T13:10:42.199930600Z",
     "start_time": "2024-01-16T13:10:42.052981400Z"
    }
   },
   "execution_count": 83
  },
  {
   "cell_type": "code",
   "outputs": [
    {
     "name": "stdout",
     "output_type": "stream",
     "text": [
      "['Huevos', 'Fruta', 'Pan', 'Leche', 'Carne', 'Carne', 'Carne', 'Pera', 'Manzana', 'Naranja']\n"
     ]
    }
   ],
   "source": [
    "# concatenar listas\n",
    "fruta = ['Pera','Manzana','Naranja']\n",
    "total = compra + fruta # crea nueva lista con elementos de ambas\n",
    "print(total)"
   ],
   "metadata": {
    "collapsed": false,
    "ExecuteTime": {
     "end_time": "2024-01-16T13:11:02.583731200Z",
     "start_time": "2024-01-16T13:11:02.511013100Z"
    }
   },
   "execution_count": 84
  },
  {
   "cell_type": "code",
   "outputs": [
    {
     "name": "stdout",
     "output_type": "stream",
     "text": [
      "['Huevos', 'Fruta', 'Pan', 'Leche', 'Carne', 'Carne', 'Carne', 'Pera', 'Manzana', 'Naranja']\n"
     ]
    }
   ],
   "source": [
    "compra.extend(fruta) # añade elementos (sin crear nueva lista)\n",
    "print(compra)"
   ],
   "metadata": {
    "collapsed": false,
    "ExecuteTime": {
     "end_time": "2024-01-16T13:11:20.534994900Z",
     "start_time": "2024-01-16T13:11:20.449346800Z"
    }
   },
   "execution_count": 85
  },
  {
   "cell_type": "code",
   "outputs": [
    {
     "name": "stdout",
     "output_type": "stream",
     "text": [
      "['Huevos', 'Fruta', 'Pan', 'Leche', 'Carne', 'Carne', 'Pera', 'Manzana', 'Naranja']\n"
     ]
    }
   ],
   "source": [
    "# eliminar un elemento\n",
    "compra.remove('Carne')\n",
    "print(compra)"
   ],
   "metadata": {
    "collapsed": false,
    "ExecuteTime": {
     "end_time": "2024-01-16T13:11:36.938570Z",
     "start_time": "2024-01-16T13:11:36.849688900Z"
    }
   },
   "execution_count": 86
  },
  {
   "cell_type": "code",
   "outputs": [
    {
     "name": "stdout",
     "output_type": "stream",
     "text": [
      "Huevos\n",
      "['Fruta', 'Pan', 'Leche', 'Carne', 'Carne', 'Pera', 'Manzana', 'Naranja']\n"
     ]
    }
   ],
   "source": [
    "elemento = compra.pop(0) # elimina el elemento en posición 0 y lo devuelve\n",
    "print(elemento)\n",
    "print(compra)"
   ],
   "metadata": {
    "collapsed": false,
    "ExecuteTime": {
     "end_time": "2024-01-16T13:12:02.237904600Z",
     "start_time": "2024-01-16T13:12:02.165153500Z"
    }
   },
   "execution_count": 87
  },
  {
   "cell_type": "code",
   "outputs": [
    {
     "name": "stdout",
     "output_type": "stream",
     "text": [
      "['Fruta', 'Pan', 'Leche', 'Carne', 'Carne', 'Pera', 'Manzana', 'Naranja']\n",
      "id compra = 2134242094784 id compra2 = 2134242109184\n"
     ]
    }
   ],
   "source": [
    "compra2 = compra.copy() # copia la lista en un NUEVO objeto\n",
    "print(compra2)\n",
    "print('id compra = ' + str(id(compra)) + ' id compra2 = ' + str(id(compra2)))"
   ],
   "metadata": {
    "collapsed": false,
    "ExecuteTime": {
     "end_time": "2024-01-16T13:12:29.074425500Z",
     "start_time": "2024-01-16T13:12:28.990745300Z"
    }
   },
   "execution_count": 88
  },
  {
   "cell_type": "code",
   "execution_count": 90,
   "metadata": {
    "slideshow": {
     "slide_type": "fragment"
    },
    "ExecuteTime": {
     "end_time": "2024-01-16T13:15:22.922638900Z",
     "start_time": "2024-01-16T13:15:22.820750500Z"
    }
   },
   "outputs": [
    {
     "name": "stdout",
     "output_type": "stream",
     "text": [
      "['Pera', 'Manzana', 'Naranja', 'Pera', 'Manzana', 'Naranja', 'Pera', 'Manzana', 'Naranja']\n"
     ]
    }
   ],
   "source": [
    "fruta2 = fruta * 3 # genera una nueva lista que contiene la lista 'fruta' 3 veces (el número de veces por la que se multiplica)\n",
    "print(fruta2)"
   ]
  },
  {
   "cell_type": "code",
   "execution_count": 92,
   "metadata": {
    "slideshow": {
     "slide_type": "fragment"
    },
    "ExecuteTime": {
     "end_time": "2024-01-16T13:16:11.938835700Z",
     "start_time": "2024-01-16T13:16:11.782992500Z"
    }
   },
   "outputs": [
    {
     "name": "stdout",
     "output_type": "stream",
     "text": [
      "['Pan', 'Leche', 'Huevos']\n"
     ]
    }
   ],
   "source": [
    "compra = ['Huevos','Pan','Leche']\n",
    "# ordenar una lista\n",
    "# compra.sort()\n",
    "# print(compra)\n",
    "\n",
    "compra.sort(reverse=True) # ordena la lista y la invierte\n",
    "print(compra)"
   ]
  },
  {
   "cell_type": "markdown",
   "metadata": {
    "slideshow": {
     "slide_type": "subslide"
    }
   },
   "source": [
    "- Cuando se usa 'sort', los tipos de elementos deben ser comparables entre sí"
   ]
  },
  {
   "cell_type": "code",
   "execution_count": 93,
   "metadata": {
    "slideshow": {
     "slide_type": "fragment"
    },
    "ExecuteTime": {
     "end_time": "2024-01-16T13:16:21.118268200Z",
     "start_time": "2024-01-16T13:16:21.050357500Z"
    }
   },
   "outputs": [
    {
     "ename": "TypeError",
     "evalue": "'<' not supported between instances of 'int' and 'str'",
     "output_type": "error",
     "traceback": [
      "\u001B[1;31m---------------------------------------------------------------------------\u001B[0m",
      "\u001B[1;31mTypeError\u001B[0m                                 Traceback (most recent call last)",
      "Cell \u001B[1;32mIn[93], line 2\u001B[0m\n\u001B[0;32m      1\u001B[0m users \u001B[38;5;241m=\u001B[39m [\u001B[38;5;124m'\u001B[39m\u001B[38;5;124mcarlos\u001B[39m\u001B[38;5;124m'\u001B[39m,\u001B[38;5;241m12321\u001B[39m]\n\u001B[1;32m----> 2\u001B[0m users\u001B[38;5;241m.\u001B[39msort()\n",
      "\u001B[1;31mTypeError\u001B[0m: '<' not supported between instances of 'int' and 'str'"
     ]
    }
   ],
   "source": [
    "users = ['carlos',12321]\n",
    "users.sort() #error! no se puede comparar int y str"
   ]
  },
  {
   "cell_type": "markdown",
   "metadata": {
    "slideshow": {
     "slide_type": "subslide"
    }
   },
   "source": [
    "### Pertenencia"
   ]
  },
  {
   "cell_type": "code",
   "execution_count": 94,
   "metadata": {
    "slideshow": {
     "slide_type": "fragment"
    },
    "ExecuteTime": {
     "end_time": "2024-01-16T13:16:25.986504700Z",
     "start_time": "2024-01-16T13:16:25.918884100Z"
    }
   },
   "outputs": [
    {
     "name": "stdout",
     "output_type": "stream",
     "text": [
      "True\n",
      "False\n",
      "Tenemos Perales\n"
     ]
    }
   ],
   "source": [
    "fruta = ['Pera','Manzana','Naranja']\n",
    "print('Naranja' in fruta)\n",
    "print('Mandarina' in fruta)\n",
    "\n",
    "if 'Pera' in fruta:\n",
    "    print('Tenemos Perales')"
   ]
  },
  {
   "cell_type": "code",
   "execution_count": null,
   "metadata": {},
   "outputs": [],
   "source": [
    "lista = [[2,2,2, 3], [1,2,2]]\n",
    "lista.sort()\n",
    "print(lista)"
   ]
  },
  {
   "cell_type": "markdown",
   "metadata": {
    "slideshow": {
     "slide_type": "subslide"
    }
   },
   "source": [
    "### Alias/Referencias en las listas\n",
    "- Son mutables y las asignaciones a un objeto alteran el primero\n",
    "- Pasar listas a funciones puede suponer un riesgo\n",
    "- Clonar o copiar listas\n"
   ]
  },
  {
   "cell_type": "code",
   "execution_count": null,
   "metadata": {
    "slideshow": {
     "slide_type": "fragment"
    }
   },
   "outputs": [],
   "source": [
    "lista = [2, 4, 16, 32]\n",
    "ref = lista\n",
    "print(lista)\n",
    "ref[2] = 64\n",
    "print(ref)\n",
    "print(lista)"
   ]
  },
  {
   "cell_type": "code",
   "execution_count": null,
   "metadata": {
    "slideshow": {
     "slide_type": "fragment"
    }
   },
   "outputs": [],
   "source": [
    "lista = [2, 4, 16, 32]\n",
    "# copia = lista[:] \n",
    "copia = lista.copy()\n",
    "print(lista)\n",
    "copia[2] = 64\n",
    "print(lista)\n",
    "print(copia)"
   ]
  },
  {
   "cell_type": "code",
   "execution_count": null,
   "metadata": {
    "scrolled": true,
    "slideshow": {
     "slide_type": "fragment"
    }
   },
   "outputs": [],
   "source": [
    "# evitar que listas anidadas se copien por referencia\n",
    "import copy\n",
    "lista = [2, 4, 16, 32, [34, 10]]\n",
    "# copia = lista.copy()\n",
    "copia = copy.deepcopy(lista)\n",
    "copia[0] = 454\n",
    "copia[4][0] = 64\n",
    "print(lista)\n",
    "print(copia)"
   ]
  },
  {
   "cell_type": "markdown",
   "metadata": {
    "slideshow": {
     "slide_type": "subslide"
    }
   },
   "source": [
    "### Slicing\n",
    "- Literalmente \"cortar\" una lista\n",
    "- Devuelve una copia de una parte de la lista\n",
    "- Especificada con índices\n",
    "- Forma general: __lista[inicio:fin:paso]__"
   ]
  },
  {
   "cell_type": "code",
   "execution_count": null,
   "metadata": {
    "slideshow": {
     "slide_type": "fragment"
    }
   },
   "outputs": [],
   "source": [
    "lista_completa = list(range(0,6,1)) # lista [0,1,2,3,4,5]\n",
    "print(lista_completa)\n",
    "\n",
    "slice1 = lista_completa[:] # lista [0,1,2,3,4,5]\n",
    "print(slice1)\n",
    "\n",
    "print(id(lista_completa))\n",
    "print(id(slice1))\n",
    "\n",
    "slice2 = lista_completa[1:3] # lista [1,2]\n",
    "print(slice2)\n",
    "\n",
    "slice3 = lista_completa[0:-1] # lista [0,1,2,3,4]\n",
    "print(slice3)\n",
    "\n",
    "slice4 = lista_completa[::2] # lista [0,2,4]\n",
    "print(slice4)"
   ]
  },
  {
   "cell_type": "markdown",
   "metadata": {
    "slideshow": {
     "slide_type": "subslide"
    }
   },
   "source": [
    "![slicing](img/clase02a_slicing.JPG)\n",
    "- formas de obtener 'py' de una lista formada por ['p','y','t','h','o','n']"
   ]
  },
  {
   "cell_type": "code",
   "execution_count": null,
   "metadata": {
    "slideshow": {
     "slide_type": "fragment"
    }
   },
   "outputs": [],
   "source": [
    "# obteniendo 'py'\n",
    "python = list(\"python\")\n",
    "# python = ['p','y','t','h','o','n']\n",
    "print(python[0:2])\n",
    "print(python[:2])\n",
    "print(python[-6:-4])\n",
    "print(python[:-4])"
   ]
  },
  {
   "cell_type": "markdown",
   "metadata": {
    "slideshow": {
     "slide_type": "slide"
    }
   },
   "source": [
    "# List comprehension\n",
    "- Una forma sucinta de generar listas o colecciones\n",
    "- Pythonic\n",
    "- https://python-course.eu/python3_list_comprehension.php"
   ]
  },
  {
   "cell_type": "code",
   "execution_count": null,
   "metadata": {
    "slideshow": {
     "slide_type": "fragment"
    }
   },
   "outputs": [],
   "source": [
    "# crear una lista transformando valores de otra con for loops\n",
    "final_values = []\n",
    "\n",
    "for x in range(-4,5):\n",
    "    final_values.append(x**2)\n",
    "    \n",
    "print(final_values)"
   ]
  },
  {
   "cell_type": "code",
   "execution_count": null,
   "metadata": {
    "slideshow": {
     "slide_type": "fragment"
    }
   },
   "outputs": [],
   "source": [
    "# con list comprehension\n",
    "final_values = [x**2 for x in range(-4,5)]\n",
    "print(final_values)"
   ]
  },
  {
   "cell_type": "markdown",
   "metadata": {
    "slideshow": {
     "slide_type": "subslide"
    }
   },
   "source": [
    "### Forma general\n",
    "[<expresión1> if <condición\\> else <expresión2> for value in <colección\\>]\n",
    "- __Expresión1 / expresión2__: cada uno de los elementos que conformará la lista\n",
    "- __Condición__: escoge entre expresión1 y expresión2\n",
    "- __for__ loop: generador de la secuencia"
   ]
  },
  {
   "cell_type": "code",
   "execution_count": null,
   "metadata": {
    "slideshow": {
     "slide_type": "fragment"
    }
   },
   "outputs": [],
   "source": [
    "list1 = [x**2 if x > 0 else x/2 for x in range(-4,5)]\n",
    "print(list1)"
   ]
  },
  {
   "cell_type": "code",
   "execution_count": null,
   "metadata": {
    "slideshow": {
     "slide_type": "fragment"
    }
   },
   "outputs": [],
   "source": [
    "# similar para diccionarios y sets, pero con {}\n",
    "items = ['Banana','Pear','Olives']\n",
    "price = [1.1,1.4,2.4]\n",
    "shopping = {k:v for k,v in zip(items,price)}\n",
    "print(shopping)"
   ]
  },
  {
   "cell_type": "code",
   "execution_count": null,
   "metadata": {},
   "outputs": [],
   "source": [
    "items = ['Banana','Pear','Olives']\n",
    "price = [1.1,1.4,2.4]\n",
    "for k in zip(items, price):\n",
    "    print(type(k))"
   ]
  },
  {
   "cell_type": "markdown",
   "metadata": {
    "slideshow": {
     "slide_type": "subslide"
    }
   },
   "source": [
    "## Secuencias\n",
    "- Formalmente, objetos iterables no materializados\n",
    "- No son listas. 'list()' para materializarla \n",
    "- 'range' es un ejemplo"
   ]
  },
  {
   "cell_type": "code",
   "execution_count": null,
   "metadata": {
    "slideshow": {
     "slide_type": "fragment"
    }
   },
   "outputs": [],
   "source": [
    "# enumerate para iterar una colección (índice y valor)\n",
    "for index, value in enumerate([10, 20, 30]):\n",
    "    print('Index = ' + str(index) + '. Value = ' + str(value))\n",
    "    \n",
    "for index, value in [(0,10), (1,20), (2,30)]:\n",
    "    print('Index = ' + str(index) + '. Value = ' + str(value))    "
   ]
  },
  {
   "cell_type": "code",
   "execution_count": null,
   "metadata": {
    "slideshow": {
     "slide_type": "fragment"
    }
   },
   "outputs": [],
   "source": [
    "# enumerate para iterar una colección (índice y valor)\n",
    "for index, value in enumerate(range(0,10,2)):\n",
    "    print('Index = ' + str(index) + '. Value = ' + str(value))\n",
    "    \n",
    "for value in enumerate(range(0,10,2)):\n",
    "    print(value) "
   ]
  },
  {
   "cell_type": "code",
   "execution_count": null,
   "metadata": {
    "slideshow": {
     "slide_type": "fragment"
    }
   },
   "outputs": [],
   "source": [
    "# zip para unir, elemento a elemento, dos colecciones, retornando lista de tuplas\n",
    "# útil para iterar dos listas al mismo tiempo\n",
    "nombres = ['Manolo','Pepe','Luis']\n",
    "edades = [31,34,34]\n",
    "for nombre,edad in zip(nombres,edades):\n",
    "    print('Nombre: ' + nombre + ', edad: ' + str(edad))"
   ]
  },
  {
   "cell_type": "code",
   "execution_count": null,
   "metadata": {
    "scrolled": true,
    "slideshow": {
     "slide_type": "fragment"
    }
   },
   "outputs": [],
   "source": [
    "nombres = ['Manolo','Pepe','Luis']\n",
    "edades = [31,34,34]\n",
    "jugadores = zip(nombres,edades)   # genera secuencia\n",
    "print(list(jugadores))\n",
    "print(type(jugadores))"
   ]
  },
  {
   "cell_type": "code",
   "execution_count": null,
   "metadata": {
    "slideshow": {
     "slide_type": "fragment"
    }
   },
   "outputs": [],
   "source": [
    "# listas de diferentes longitudes\n",
    "nombres = ['Manolo','Pepe','Luis']\n",
    "edades = [31,34,34,44,33]\n",
    "jugadores = zip(nombres,edades)\n",
    "print(list(jugadores))"
   ]
  },
  {
   "cell_type": "code",
   "execution_count": null,
   "metadata": {
    "scrolled": true,
    "slideshow": {
     "slide_type": "fragment"
    }
   },
   "outputs": [],
   "source": [
    "# unzip \n",
    "nombres = ['Manolo','Pepe','Luis']\n",
    "edades = [31,34,34]\n",
    "jugadores = zip(nombres,edades)\n",
    "# print(list(jugadores))\n",
    "ns, es = zip(*jugadores)\n",
    "print(list(ns))\n",
    "print(es)"
   ]
  },
  {
   "cell_type": "code",
   "execution_count": null,
   "metadata": {
    "slideshow": {
     "slide_type": "fragment"
    }
   },
   "outputs": [],
   "source": [
    "nombres = ['Manolo','Pepe','Luis']\n",
    "edades = [31,34,34]\n",
    "dd = [23,34,45]\n",
    "jugadores_z = zip(nombres,edades, dd)\n",
    "\n",
    "jugadores_uz = zip(*jugadores_z)\n",
    "print(list(jugadores_uz))"
   ]
  },
  {
   "cell_type": "markdown",
   "metadata": {
    "slideshow": {
     "slide_type": "slide"
    }
   },
   "source": [
    "# Ejercicios\n",
    "\n",
    "- Resolver errores\n",
    "- Crear funcionalidad\n",
    "- NO Comentar resultados en el foro"
   ]
  },
  {
   "cell_type": "markdown",
   "metadata": {
    "slideshow": {
     "slide_type": "subslide"
    }
   },
   "source": [
    "## Identificar y resolver errores"
   ]
  },
  {
   "cell_type": "code",
   "execution_count": null,
   "metadata": {
    "slideshow": {
     "slide_type": "fragment"
    }
   },
   "outputs": [],
   "source": [
    "variable1 = 0\n",
    "print(variable)"
   ]
  },
  {
   "cell_type": "code",
   "execution_count": null,
   "metadata": {
    "slideshow": {
     "slide_type": "fragment"
    }
   },
   "outputs": [],
   "source": [
    "var_a = 5\n",
    "var_b = 10\n",
    "print('Mis números son: ' + var_a + var_b)"
   ]
  },
  {
   "cell_type": "code",
   "execution_count": null,
   "metadata": {
    "slideshow": {
     "slide_type": "fragment"
    }
   },
   "outputs": [],
   "source": [
    "threshold = 5\n",
    "values = list(range(10))\n",
    "for v in values:\n",
    "    if v > threshold print(v)"
   ]
  },
  {
   "cell_type": "code",
   "execution_count": null,
   "metadata": {
    "slideshow": {
     "slide_type": "fragment"
    }
   },
   "outputs": [],
   "source": [
    "for i : range(5) {\n",
    "    print(i)\n",
    "}"
   ]
  },
  {
   "cell_type": "code",
   "execution_count": null,
   "metadata": {
    "slideshow": {
     "slide_type": "fragment"
    }
   },
   "outputs": [],
   "source": [
    "counter = 0\n",
    "while counter < 10:\n",
    "print(counter)\n",
    "counter += 1"
   ]
  },
  {
   "cell_type": "code",
   "execution_count": null,
   "metadata": {
    "slideshow": {
     "slide_type": "fragment"
    }
   },
   "outputs": [],
   "source": [
    "tuple1 = (345123,876587,'Yes')\n",
    "tuple1[0] = 1"
   ]
  },
  {
   "cell_type": "code",
   "execution_count": null,
   "metadata": {
    "slideshow": {
     "slide_type": "fragment"
    }
   },
   "outputs": [],
   "source": [
    "tuple = (1,2,3)\n",
    "tuple.index[1]"
   ]
  },
  {
   "cell_type": "code",
   "execution_count": null,
   "metadata": {
    "slideshow": {
     "slide_type": "fragment"
    }
   },
   "outputs": [],
   "source": [
    "cities = ['Barcelona','Valencia','Madrid','Zaragoza']\n",
    "teams.add('Sevilla')"
   ]
  },
  {
   "cell_type": "code",
   "execution_count": null,
   "metadata": {
    "slideshow": {
     "slide_type": "fragment"
    }
   },
   "outputs": [],
   "source": [
    "cities = ['Barcelona','Valencia','Madrid','Zaragoza']\n",
    "# mostrar las tres primeras ciudades\n",
    "teams[;2]"
   ]
  },
  {
   "cell_type": "code",
   "execution_count": null,
   "metadata": {
    "slideshow": {
     "slide_type": "fragment"
    }
   },
   "outputs": [],
   "source": [
    "for i and v in enumerate(range(-10,5)):\n",
    "    print(v)"
   ]
  },
  {
   "cell_type": "code",
   "execution_count": null,
   "metadata": {
    "slideshow": {
     "slide_type": "fragment"
    }
   },
   "outputs": [],
   "source": [
    "nombres = ['Manolo','Pepe','Luis']\n",
    "edades = [31,34,34]\n",
    "jugadores = zip(nombres,edades)\n",
    "print(jugadores[0])"
   ]
  },
  {
   "cell_type": "markdown",
   "metadata": {
    "slideshow": {
     "slide_type": "subslide"
    }
   },
   "source": [
    "## Crear funcionalidad"
   ]
  },
  {
   "cell_type": "code",
   "execution_count": null,
   "metadata": {
    "slideshow": {
     "slide_type": "fragment"
    }
   },
   "outputs": [],
   "source": [
    "# Crear una lista de 10 elementos (tipo string), iterar sobre ellos\n",
    "# en cada iteración, imprimir el índice del elemento y el elemento en sí"
   ]
  },
  {
   "cell_type": "code",
   "execution_count": null,
   "metadata": {
    "slideshow": {
     "slide_type": "fragment"
    }
   },
   "outputs": [],
   "source": [
    "# Imprimir todos los números naturales (enteros positivos) menores de 100"
   ]
  },
  {
   "cell_type": "code",
   "execution_count": null,
   "metadata": {
    "slideshow": {
     "slide_type": "fragment"
    }
   },
   "outputs": [],
   "source": [
    "# Imprimir todos los números naturales (enteros positivos) menores de 100\n",
    "# sustituyendo el número por Fizz cuando el número sea múltiplo de 3, por Buzz cuando sea múltiplo de 5\n",
    "# y por FizzBuzz cuando sea múltiplo de 3 y 5 a la vez"
   ]
  },
  {
   "cell_type": "code",
   "execution_count": null,
   "metadata": {
    "slideshow": {
     "slide_type": "fragment"
    }
   },
   "outputs": [],
   "source": [
    "# Partiendo de una lista de strings, imprimir todos los elementos con más de 3 carácteres\n",
    "# pista: se puede usar la función len() con strings"
   ]
  },
  {
   "cell_type": "code",
   "execution_count": null,
   "metadata": {
    "slideshow": {
     "slide_type": "fragment"
    }
   },
   "outputs": [],
   "source": [
    "# Separa la siguiente lista de tuples en dos, de forma que todos los números estén en una y las string en otra\n",
    "data = [(1,'banana'),(2,'pear'),(3,'sweet potato'),(4,'melon')]"
   ]
  },
  {
   "cell_type": "code",
   "execution_count": null,
   "metadata": {
    "slideshow": {
     "slide_type": "fragment"
    },
    "tags": []
   },
   "outputs": [],
   "source": [
    "# Crear una lista con pares de valores de forma que n es el máximo de números\n",
    "# en la que cuando un valor crece el otro valor del par decrece.\n",
    "# El primer par tiene que ser [0, n] ... hasta [n, 0]"
   ]
  },
  {
   "cell_type": "markdown",
   "source": [
    "## <img src=\"img/by-nc.png\" width=\"200\">"
   ],
   "metadata": {
    "collapsed": false
   }
  }
 ],
 "metadata": {
  "celltoolbar": "Slideshow",
  "kernelspec": {
   "display_name": "Python 3",
   "language": "python",
   "name": "python3"
  },
  "language_info": {
   "codemirror_mode": {
    "name": "ipython",
    "version": 3
   },
   "file_extension": ".py",
   "mimetype": "text/x-python",
   "name": "python",
   "nbconvert_exporter": "python",
   "pygments_lexer": "ipython3",
   "version": "3.8.8"
  }
 },
 "nbformat": 4,
 "nbformat_minor": 4
}
