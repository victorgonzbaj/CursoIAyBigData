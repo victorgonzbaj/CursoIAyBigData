{
 "cells": [
  {
   "cell_type": "markdown",
   "id": "a8f7a16d-fe80-4512-bd3d-783c4322124d",
   "metadata": {},
   "source": [
    "<img alt=\"logo\" height=\"100\" src=\"img/logo.jpeg\" width=\"100\"/>   \n",
    "\n",
    "# REGRESIÓN LINEAL #\n",
    "### Definición ###\n",
    "Hay diferentes tipos de regresión lineal, y la más sencilla y práctica para aprender machine learning es la **regresión lineal simple**. Esta consta de una variable independiente y otra variable dependiente, pudiendo existir una relación entre ambas variables que hará que, a medida que aumenta el valor de una la otra lo haga proporcionalmente.  \n",
    "\n",
    "En estadística, la **regresión lineal simple** (o el ajuste lineal) es un modelo matemático utilizado para encontrar la relación de dependencia entre una variable dependiente (y) y otra independiente (X). En el caso de la regresión lineal múltiple buscaría la relación entre una variable dependiente y 'm' variables independientes.   \n",
    "\n",
    "\n",
    " <img width=\"460\" height=\"300\" src=\"img/linealregresion.png\" >   \n"
   ]
  },
  {
   "cell_type": "markdown",
   "id": "37ed6440-9d7f-4470-8e09-9b18c0067b9f",
   "metadata": {},
   "source": [
    "### Desarrollo de un modelo de regresión lineal en Python ###\n",
    "\n",
    "Se va a ir generando el código de la regresión lineal simple paso a paso para una mejor compresión "
   ]
  },
  {
   "cell_type": "markdown",
   "id": "67920682-80b7-4ef8-a64a-f178b54b9032",
   "metadata": {},
   "source": [
    "### PASO 1 - GENERACIÓN DEL DATAFRAME (PANDAS) CON LOS DATOS A ANALIZAR ###"
   ]
  },
  {
   "cell_type": "code",
   "execution_count": 1,
   "id": "c6744c1a-23e8-4329-b474-2b8f9ec465b3",
   "metadata": {
    "ExecuteTime": {
     "end_time": "2024-01-11T15:20:54.724950600Z",
     "start_time": "2024-01-11T15:20:54.444092900Z"
    }
   },
   "outputs": [],
   "source": [
    "import pandas as pd\n",
    "from sklearn.linear_model import LinearRegression\n",
    "from sklearn.model_selection import train_test_split\n",
    "from sklearn.metrics import mean_squared_error\n",
    "\n",
    "# ------------------------------------\n",
    "# Crear dataframe con los datos de facturación de clientes\n",
    "data = {'customer_id': [1, 2, 3, 4, 5],\n",
    "        'billing_amount': [100, 200, 150, 300, 250],\n",
    "        'sales': [2, 4, 3, 6, 5]\n",
    "}\n",
    "clients = pd.DataFrame(data)"
   ]
  },
  {
   "cell_type": "markdown",
   "id": "c043292f-23f6-4879-b589-d6310722261b",
   "metadata": {},
   "source": [
    "### PASO 2 - ANÁLISIS INICIAL DEL CONTENIDO DEL DATAFRAME ###"
   ]
  },
  {
   "cell_type": "markdown",
   "id": "1be77148-483b-41ee-ae4e-98374b17f3b5",
   "metadata": {},
   "source": [
    "Se muestran, a modo de comprobación,  los datos almacenados en el dataframe"
   ]
  },
  {
   "cell_type": "code",
   "execution_count": 2,
   "id": "eb756643-8727-4c8b-b2ab-38f2772fbcbf",
   "metadata": {
    "ExecuteTime": {
     "end_time": "2024-01-11T15:20:54.745789600Z",
     "start_time": "2024-01-11T15:20:54.730098Z"
    }
   },
   "outputs": [
    {
     "name": "stdout",
     "output_type": "stream",
     "text": [
      "   customer_id  billing_amount  sales\n",
      "0            1             100      2\n",
      "1            2             200      4\n",
      "2            3             150      3\n",
      "3            4             300      6\n",
      "4            5             250      5\n"
     ]
    }
   ],
   "source": [
    "print(clients)"
   ]
  },
  {
   "cell_type": "markdown",
   "id": "1a0d1572-f8c2-4c64-a5c0-9afcaf420463",
   "metadata": {},
   "source": [
    "Se comprueban los tipos de datos contenidos en el conjunto de datos y las dimensiones dataframe"
   ]
  },
  {
   "cell_type": "code",
   "execution_count": 3,
   "id": "fc794b97-4b59-484a-b2e7-d3faed3d3904",
   "metadata": {
    "ExecuteTime": {
     "end_time": "2024-01-11T15:20:54.804101100Z",
     "start_time": "2024-01-11T15:20:54.747833300Z"
    }
   },
   "outputs": [
    {
     "name": "stdout",
     "output_type": "stream",
     "text": [
      "<class 'pandas.core.frame.DataFrame'>\n",
      "RangeIndex: 5 entries, 0 to 4\n",
      "Data columns (total 3 columns):\n",
      " #   Column          Non-Null Count  Dtype\n",
      "---  ------          --------------  -----\n",
      " 0   customer_id     5 non-null      int64\n",
      " 1   billing_amount  5 non-null      int64\n",
      " 2   sales           5 non-null      int64\n",
      "dtypes: int64(3)\n",
      "memory usage: 252.0 bytes\n",
      "None\n"
     ]
    }
   ],
   "source": [
    "print(clients.info())"
   ]
  },
  {
   "cell_type": "markdown",
   "id": "0eaf36d7-5fe0-41a6-b4c8-d0dd33433c25",
   "metadata": {},
   "source": [
    "Se muestra la información sobre las dimensiones del dataframe"
   ]
  },
  {
   "cell_type": "code",
   "execution_count": 4,
   "id": "f2a47925-bcff-4a92-b076-094317365604",
   "metadata": {
    "ExecuteTime": {
     "end_time": "2024-01-11T15:20:54.864825100Z",
     "start_time": "2024-01-11T15:20:54.798944300Z"
    }
   },
   "outputs": [
    {
     "name": "stdout",
     "output_type": "stream",
     "text": [
      "(5, 3)\n"
     ]
    }
   ],
   "source": [
    "print(clients.shape)"
   ]
  },
  {
   "cell_type": "markdown",
   "id": "0b6cc7bd-bd85-4b5d-bb2d-62d489c08445",
   "metadata": {},
   "source": [
    "### PASO 3 - PARTICIONADO DE DATOS PARA GENERAR CONJUNTOS TRAIN Y TEST ###"
   ]
  },
  {
   "cell_type": "code",
   "execution_count": 5,
   "id": "12558c19-789d-4923-9992-369d1074949e",
   "metadata": {
    "ExecuteTime": {
     "end_time": "2024-01-11T15:20:54.918552200Z",
     "start_time": "2024-01-11T15:20:54.855450100Z"
    }
   },
   "outputs": [],
   "source": [
    "X_train, X_test, y_train, y_test = train_test_split(clients['billing_amount'], clients['sales'], random_state=20)"
   ]
  },
  {
   "cell_type": "markdown",
   "id": "5f71ac79-9825-49e7-9d17-51975afde4c4",
   "metadata": {},
   "source": [
    "Con esta línea de código indicamos que se cree, genere y divida los datos de cliente en varios conjuntos de datos de entrenamiento y prueba:  \n",
    "\n",
    "- Datos de entrada: 'customer_id'.\n",
    "- Variable dependiente: 'billing_amount', importe de facturación del cliente.\n",
    "- random_state: se genera una semilla aleatoria para dividir los datos de forma consistente cada vez que ejecutamos el código.\n",
    "- X_train: datos de entrada del conjunto de entrenamiento. Información que se usa para entrenar el modelo.\n",
    "- X_test: datos de entrada del conjunto de prueba. Información que se usa para testear el rendimiento del modelo ya entrenado.\n",
    "- y_train: datos de salida del conjjunto de entrenamiento. Información objetivo que se usa para entrenar el modelo.\n",
    "- y_test: datos de salida del conjunto de prueba. Información objetivo que se usa para testear el rendimiento del modelo ya entrenado.\n",
    "  \n",
    "Realizar esta partición es crucial para evaluar el rendimiento del modelo entrenado."
   ]
  },
  {
   "cell_type": "markdown",
   "id": "528400ff3a0836ba",
   "metadata": {
    "collapsed": false
   },
   "source": [
    "### Creación del Modelo de regresión lineal simple ###"
   ]
  },
  {
   "cell_type": "code",
   "execution_count": 6,
   "id": "b130bffa7bdf0a50",
   "metadata": {
    "ExecuteTime": {
     "end_time": "2024-01-11T15:20:54.972277300Z",
     "start_time": "2024-01-11T15:20:54.916495800Z"
    },
    "collapsed": false
   },
   "outputs": [],
   "source": [
    "lr = LinearRegression().fit(X_train.values.reshape(-1, 1), y_train)"
   ]
  },
  {
   "cell_type": "markdown",
   "id": "b7cfc5fe2da282d6",
   "metadata": {
    "collapsed": false
   },
   "source": [
    "#### Predicción ###\n",
    "Usamos el conjunto de test para realizar la predicción usando el modelo entrenado."
   ]
  },
  {
   "cell_type": "code",
   "execution_count": 7,
   "id": "df5e43ae6dd71c5d",
   "metadata": {
    "ExecuteTime": {
     "end_time": "2024-01-11T15:20:55.023879400Z",
     "start_time": "2024-01-11T15:20:54.971279900Z"
    },
    "collapsed": false
   },
   "outputs": [],
   "source": [
    "y_pred = lr.predict(X_test.values.reshape(-1, 1))"
   ]
  },
  {
   "cell_type": "markdown",
   "id": "dbdd2429fce082ad",
   "metadata": {
    "collapsed": false
   },
   "source": [
    "NOTA: X_test contiene los datos de entrada del conjunto de prueba. Con el \"reshape(-1,1)\" o con \".values.reshape(-1, 1)\" se pretende redimensionar la matriz a las dimensiones que requiere el modelo LinearRegression() de SciKit-Learn. Según el conjunto de datos utilizado, es posible añadir directamente la variable o puede que sea necesario redimensionarla usando **reshape** o **values.reshape**."
   ]
  },
  {
   "cell_type": "markdown",
   "id": "e8e87ba14a289a5f",
   "metadata": {
    "collapsed": false
   },
   "source": [
    "#### Visualización de coeficientes mínimos cuadrados W1 y W0 ####"
   ]
  },
  {
   "cell_type": "code",
   "execution_count": 8,
   "id": "75e21084686f3d2e",
   "metadata": {
    "ExecuteTime": {
     "end_time": "2024-01-11T15:20:55.081777100Z",
     "start_time": "2024-01-11T15:20:55.024935900Z"
    },
    "collapsed": false
   },
   "outputs": [
    {
     "name": "stdout",
     "output_type": "stream",
     "text": [
      "Coeficiente w1: [0.02]\n",
      "Coeficiente w0: 4.440892098500626e-16\n"
     ]
    }
   ],
   "source": [
    "print(\"Coeficiente w1:\", lr.coef_)\n",
    "print(\"Coeficiente w0:\", lr.intercept_)"
   ]
  },
  {
   "cell_type": "markdown",
   "id": "42bd83e67a45d760",
   "metadata": {
    "collapsed": false
   },
   "source": [
    "#### Error cuadrático medio ####\n",
    "El **error cuadrático medio (ECM o RMSE)** mide la diferencia al cuadrado entre el valor real y el valor predicho en el total de predicciones del modelo de Machine Learning utilizado, mostrando las diferencias más elevadas.  \n",
    "En estadística, el error cuadrático medio es un estimador que mide el promedio de errores al cuadrado, es decir, la diferencia entre el estimador y lo que se estima. Es un parámetro perfecto para medir la cantidad de error entre dos conjuntos de datos. Una explicación sencilla es decir que compara el valor predicho con el valor conocido, dando como resultado un coeficiente de error."
   ]
  },
  {
   "cell_type": "code",
   "execution_count": 9,
   "id": "bd3d9210f6612c2d",
   "metadata": {
    "ExecuteTime": {
     "end_time": "2024-01-11T15:20:55.146943900Z",
     "start_time": "2024-01-11T15:20:55.084926300Z"
    },
    "collapsed": false
   },
   "outputs": [
    {
     "name": "stdout",
     "output_type": "stream",
     "text": [
      "0.0\n"
     ]
    }
   ],
   "source": [
    "print(mean_squared_error(y_test, y_pred))"
   ]
  },
  {
   "cell_type": "markdown",
   "id": "3d24684bc5b031a7",
   "metadata": {
    "collapsed": false
   },
   "source": [
    "Por tanto, un valor bajo de RMSE supone un muy buen ajuste del modelo."
   ]
  },
  {
   "cell_type": "markdown",
   "id": "4fe0e2bee1401f62",
   "metadata": {
    "collapsed": false
   },
   "source": [
    "#### Coeficientes de determinación ####  \n",
    "\n",
    "El coeficiente de determinación de entrenamiento y de pruebas debe ser parecido. Cuando encontramos que ambos valores tienen una diferencia grande suele significar que el modelo está mal ajustado. El coeficiente de determinación (R2) (R al cuadrado) se utiliza en estadística para cuantificar cómo de cerca están los puntos en la recta de regresión."
   ]
  },
  {
   "cell_type": "code",
   "execution_count": 10,
   "id": "cd1d5f7a7f04bf4a",
   "metadata": {
    "ExecuteTime": {
     "end_time": "2024-01-11T15:20:55.209780400Z",
     "start_time": "2024-01-11T15:20:55.146943900Z"
    },
    "collapsed": false
   },
   "outputs": [
    {
     "name": "stdout",
     "output_type": "stream",
     "text": [
      "Valor del coeficiente de determinación del conjunto de entrenamiento: 1.0\n",
      "Valor del coeficiente de determinación del conjunto de prueba: 1.0\n"
     ]
    }
   ],
   "source": [
    "print(\"Valor del coeficiente de determinación del conjunto de entrenamiento:\", round (lr.score(X_train.values.reshape(-1, 1), y_train), 3))\n",
    "print(\"Valor del coeficiente de determinación del conjunto de prueba:\", round (lr.score(X_test.values.reshape(-1, 1), y_test), 3))"
   ]
  },
  {
   "cell_type": "markdown",
   "id": "c6882d3f61a6f288",
   "metadata": {
    "collapsed": false
   },
   "source": [
    "#### Ploteado de la gráfica de regresión lineal simple ####"
   ]
  },
  {
   "cell_type": "code",
   "execution_count": 13,
   "id": "d5d69ff64895f4e7",
   "metadata": {
    "ExecuteTime": {
     "end_time": "2024-01-11T15:20:55.535493200Z",
     "start_time": "2024-01-11T15:20:55.211828Z"
    },
    "collapsed": false
   },
   "outputs": [
    {
     "data": {
      "image/png": "[encoded data removed]",
      "text/plain": [
       "<Figure size 500x500 with 1 Axes>"
      ]
     },
     "metadata": {},
     "output_type": "display_data"
    }
   ],
   "source": [
    "import seaborn as sns\n",
    "import matplotlib.pyplot as plt\n",
    "\n",
    "# Crear un gráfico de regresión lineal usando seaborn\n",
    "sns.lmplot(x='sales', y='billing_amount', data=clients)\n",
    "# Mostrar gráfico\n",
    "plt.show()"
   ]
  },
  {
   "cell_type": "markdown",
   "id": "c07677bf13ce1049",
   "metadata": {
    "collapsed": false
   },
   "source": [
    "#### Ploteado de la gráfica de relación entre variables del conjunto de datos ####"
   ]
  },
  {
   "cell_type": "code",
   "execution_count": 14,
   "id": "6eb75626f4896ad9",
   "metadata": {
    "ExecuteTime": {
     "end_time": "2024-01-11T15:20:57.156919200Z",
     "start_time": "2024-01-11T15:20:55.532478500Z"
    },
    "collapsed": false
   },
   "outputs": [
    {
     "data": {
      "image/png": "[encoded data removed]",
      "text/plain": [
       "<Figure size 750x750 with 12 Axes>"
      ]
     },
     "metadata": {},
     "output_type": "display_data"
    }
   ],
   "source": [
    "# Gráfico de relación entre variables del conjunto de datos.\n",
    "sns.pairplot(clients, height=2.5)\n",
    "plt.tight_layout()\n",
    "plt.show()"
   ]
  },
  {
   "cell_type": "markdown",
   "id": "95b82507365c4594",
   "metadata": {
    "collapsed": false
   },
   "source": [
    "#### Ploteado de la gráfica de datos de entrenamiento ####"
   ]
  },
  {
   "cell_type": "code",
   "execution_count": 15,
   "id": "a823e39e9c10603c",
   "metadata": {
    "ExecuteTime": {
     "end_time": "2024-01-11T15:20:57.304382400Z",
     "start_time": "2024-01-11T15:20:57.162154800Z"
    },
    "collapsed": false
   },
   "outputs": [
    {
     "data": {
      "image/png": "[encoded data removed]",
      "text/plain": [
       "<Figure size 640x480 with 1 Axes>"
      ]
     },
     "metadata": {},
     "output_type": "display_data"
    }
   ],
   "source": [
    "# Graficando los datos de entrenamiento\n",
    "plt.scatter(X_train, y_train, color='blue')\n",
    "\n",
    "# Grafica de la regresión lineal con datos de la predicción\n",
    "plt.plot(X_test, y_pred, color='red')\n",
    "plt.title('Regresión Lineal Simple')\n",
    "plt.xlabel('Importe de facturación')\n",
    "plt.ylabel('Ventas')\n",
    "plt.show()"
   ]
  },
  {
   "cell_type": "markdown",
   "id": "23493ada1346e203",
   "metadata": {
    "collapsed": false
   },
   "source": [
    "Con esto ya tenemos creada una regresión lineal simple con Python.\n",
    "\n",
    "Esta última gráfica, muestra los puntos de los datos de entrenamiento en color azul y la línea de regresión lineal en rojo.\n",
    "La línea de regresión lineal representa el modelo que se ha entrenado para hacer predicciones.\n",
    "\n",
    "La interpretación de la gráfica indica que, a medida que el número de ventas se incrementa, el importe de facturación también aumenta. Esto se ve reflejado en la pendiente positiva de la línea de regresión. Sin embargo, esta es una interpretación basada en una sola variable, si se utilizaran más variables se podría tener una interpretación más precisa y completa."
   ]
  },
  {
   "cell_type": "markdown",
   "id": "7ead4105",
   "metadata": {},
   "source": []
  },
  {
   "cell_type": "markdown",
   "id": "a79e4dfe5c2a370e",
   "metadata": {
    "ExecuteTime": {
     "end_time": "2024-01-11T15:20:57.310608700Z",
     "start_time": "2024-01-11T15:20:57.306623900Z"
    },
    "collapsed": false
   },
   "source": [
    "## REGRESIÓN LINEAL (Ejemplo 2)"
   ]
  },
  {
   "cell_type": "markdown",
   "id": "ec4e4ef4",
   "metadata": {},
   "source": [
    "#### Importamos librerías."
   ]
  },
  {
   "cell_type": "code",
   "execution_count": 16,
   "id": "67bf73c2",
   "metadata": {},
   "outputs": [],
   "source": [
    "# Importamos las librerías necesarias\n",
    "import numpy as np\n",
    "import pandas as pd\n",
    "from sklearn.linear_model import LinearRegression\n",
    "from sklearn.model_selection import train_test_split\n",
    "from sklearn.metrics import mean_squared_error, r2_score\n",
    "import matplotlib.pyplot as plt"
   ]
  },
  {
   "cell_type": "markdown",
   "id": "47bb2538",
   "metadata": {},
   "source": [
    "### 1. Generación del dataset simulado\n",
    "Queremos predecir el precio de una vivienda (target) a partir de dos variables:\n",
    " - Tamaño en metros cuadrados (X1)\n",
    " - Número de habitaciones (X2)"
   ]
  },
  {
   "cell_type": "code",
   "execution_count": 17,
   "id": "ec7a7c79",
   "metadata": {},
   "outputs": [],
   "source": [
    "\n",
    "np.random.seed(42)  # para reproducibilidad\n",
    "\n",
    "# Generamos 200 muestras\n",
    "n_samples = 200\n",
    "X1 = np.random.normal(loc=100, scale=20, size=n_samples)  # Tamaño en m²\n",
    "X2 = np.random.randint(1, 6, size=n_samples)  # Entre 1 y 5 habitaciones"
   ]
  },
  {
   "cell_type": "markdown",
   "id": "0ed1c320",
   "metadata": {},
   "source": [
    "Definimos una relación lineal con cierto ruido.  \n",
    "Coeficientes: 2000 €/m² y 10000 €/habitación, y un intercepto de 50000 €"
   ]
  },
  {
   "cell_type": "code",
   "execution_count": 18,
   "id": "b6f6a390",
   "metadata": {},
   "outputs": [],
   "source": [
    "error = np.random.normal(loc=0, scale=10000, size=n_samples)  # ruido aleatorio\n",
    "y = 2000 * X1 + 10000 * X2 + 50000 + error"
   ]
  },
  {
   "cell_type": "markdown",
   "id": "0cc813da",
   "metadata": {},
   "source": [
    "Combinamos las variables predictoras en un DataFrame"
   ]
  },
  {
   "cell_type": "code",
   "execution_count": 19,
   "id": "cca2528c",
   "metadata": {},
   "outputs": [],
   "source": [
    "data = pd.DataFrame({\n",
    "    'Tamaño_m2': X1,\n",
    "    'Num_Habitaciones': X2,\n",
    "    'Precio': y\n",
    "})"
   ]
  },
  {
   "cell_type": "markdown",
   "id": "fd0f5d51",
   "metadata": {},
   "source": [
    "### 2. División del dataset en entrenamiento y test"
   ]
  },
  {
   "cell_type": "code",
   "execution_count": 20,
   "id": "76800a50",
   "metadata": {},
   "outputs": [],
   "source": [
    "X = data[['Tamaño_m2', 'Num_Habitaciones']]\n",
    "y = data['Precio']\n",
    "X_train, X_test, y_train, y_test = train_test_split(X, y, test_size=0.3, random_state=42)"
   ]
  },
  {
   "cell_type": "markdown",
   "id": "7e5e43a6",
   "metadata": {},
   "source": [
    "\n",
    "### 3. Creación y entrenamiento del modelo de regresión lineal multivariable"
   ]
  },
  {
   "cell_type": "code",
   "execution_count": 21,
   "id": "92eb3cc7",
   "metadata": {},
   "outputs": [
    {
     "data": {
      "text/html": [
       "<style>#sk-container-id-1 {\n",
       "  /* Definition of color scheme common for light and dark mode */\n",
       "  --sklearn-color-text: #000;\n",
       "  --sklearn-color-text-muted: #666;\n",
       "  --sklearn-color-line: gray;\n",
       "  /* Definition of color scheme for unfitted estimators */\n",
       "  --sklearn-color-unfitted-level-0: #fff5e6;\n",
       "  --sklearn-color-unfitted-level-1: #f6e4d2;\n",
       "  --sklearn-color-unfitted-level-2: #ffe0b3;\n",
       "  --sklearn-color-unfitted-level-3: chocolate;\n",
       "  /* Definition of color scheme for fitted estimators */\n",
       "  --sklearn-color-fitted-level-0: #f0f8ff;\n",
       "  --sklearn-color-fitted-level-1: #d4ebff;\n",
       "  --sklearn-color-fitted-level-2: #b3dbfd;\n",
       "  --sklearn-color-fitted-level-3: cornflowerblue;\n",
       "\n",
       "  /* Specific color for light theme */\n",
       "  --sklearn-color-text-on-default-background: var(--sg-text-color, var(--theme-code-foreground, var(--jp-content-font-color1, black)));\n",
       "  --sklearn-color-background: var(--sg-background-color, var(--theme-background, var(--jp-layout-color0, white)));\n",
       "  --sklearn-color-border-box: var(--sg-text-color, var(--theme-code-foreground, var(--jp-content-font-color1, black)));\n",
       "  --sklearn-color-icon: #696969;\n",
       "\n",
       "  @media (prefers-color-scheme: dark) {\n",
       "    /* Redefinition of color scheme for dark theme */\n",
       "    --sklearn-color-text-on-default-background: var(--sg-text-color, var(--theme-code-foreground, var(--jp-content-font-color1, white)));\n",
       "    --sklearn-color-background: var(--sg-background-color, var(--theme-background, var(--jp-layout-color0, #111)));\n",
       "    --sklearn-color-border-box: var(--sg-text-color, var(--theme-code-foreground, var(--jp-content-font-color1, white)));\n",
       "    --sklearn-color-icon: #878787;\n",
       "  }\n",
       "}\n",
       "\n",
       "#sk-container-id-1 {\n",
       "  color: var(--sklearn-color-text);\n",
       "}\n",
       "\n",
       "#sk-container-id-1 pre {\n",
       "  padding: 0;\n",
       "}\n",
       "\n",
       "#sk-container-id-1 input.sk-hidden--visually {\n",
       "  border: 0;\n",
       "  clip: rect(1px 1px 1px 1px);\n",
       "  clip: rect(1px, 1px, 1px, 1px);\n",
       "  height: 1px;\n",
       "  margin: -1px;\n",
       "  overflow: hidden;\n",
       "  padding: 0;\n",
       "  position: absolute;\n",
       "  width: 1px;\n",
       "}\n",
       "\n",
       "#sk-container-id-1 div.sk-dashed-wrapped {\n",
       "  border: 1px dashed var(--sklearn-color-line);\n",
       "  margin: 0 0.4em 0.5em 0.4em;\n",
       "  box-sizing: border-box;\n",
       "  padding-bottom: 0.4em;\n",
       "  background-color: var(--sklearn-color-background);\n",
       "}\n",
       "\n",
       "#sk-container-id-1 div.sk-container {\n",
       "  /* jupyter's `normalize.less` sets `[hidden] { display: none; }`\n",
       "     but bootstrap.min.css set `[hidden] { display: none !important; }`\n",
       "     so we also need the `!important` here to be able to override the\n",
       "     default hidden behavior on the sphinx rendered scikit-learn.org.\n",
       "     See: https://github.com/scikit-learn/scikit-learn/issues/21755 */\n",
       "  display: inline-block !important;\n",
       "  position: relative;\n",
       "}\n",
       "\n",
       "#sk-container-id-1 div.sk-text-repr-fallback {\n",
       "  display: none;\n",
       "}\n",
       "\n",
       "div.sk-parallel-item,\n",
       "div.sk-serial,\n",
       "div.sk-item {\n",
       "  /* draw centered vertical line to link estimators */\n",
       "  background-image: linear-gradient(var(--sklearn-color-text-on-default-background), var(--sklearn-color-text-on-default-background));\n",
       "  background-size: 2px 100%;\n",
       "  background-repeat: no-repeat;\n",
       "  background-position: center center;\n",
       "}\n",
       "\n",
       "/* Parallel-specific style estimator block */\n",
       "\n",
       "#sk-container-id-1 div.sk-parallel-item::after {\n",
       "  content: \"\";\n",
       "  width: 100%;\n",
       "  border-bottom: 2px solid var(--sklearn-color-text-on-default-background);\n",
       "  flex-grow: 1;\n",
       "}\n",
       "\n",
       "#sk-container-id-1 div.sk-parallel {\n",
       "  display: flex;\n",
       "  align-items: stretch;\n",
       "  justify-content: center;\n",
       "  background-color: var(--sklearn-color-background);\n",
       "  position: relative;\n",
       "}\n",
       "\n",
       "#sk-container-id-1 div.sk-parallel-item {\n",
       "  display: flex;\n",
       "  flex-direction: column;\n",
       "}\n",
       "\n",
       "#sk-container-id-1 div.sk-parallel-item:first-child::after {\n",
       "  align-self: flex-end;\n",
       "  width: 50%;\n",
       "}\n",
       "\n",
       "#sk-container-id-1 div.sk-parallel-item:last-child::after {\n",
       "  align-self: flex-start;\n",
       "  width: 50%;\n",
       "}\n",
       "\n",
       "#sk-container-id-1 div.sk-parallel-item:only-child::after {\n",
       "  width: 0;\n",
       "}\n",
       "\n",
       "/* Serial-specific style estimator block */\n",
       "\n",
       "#sk-container-id-1 div.sk-serial {\n",
       "  display: flex;\n",
       "  flex-direction: column;\n",
       "  align-items: center;\n",
       "  background-color: var(--sklearn-color-background);\n",
       "  padding-right: 1em;\n",
       "  padding-left: 1em;\n",
       "}\n",
       "\n",
       "\n",
       "/* Toggleable style: style used for estimator/Pipeline/ColumnTransformer box that is\n",
       "clickable and can be expanded/collapsed.\n",
       "- Pipeline and ColumnTransformer use this feature and define the default style\n",
       "- Estimators will overwrite some part of the style using the `sk-estimator` class\n",
       "*/\n",
       "\n",
       "/* Pipeline and ColumnTransformer style (default) */\n",
       "\n",
       "#sk-container-id-1 div.sk-toggleable {\n",
       "  /* Default theme specific background. It is overwritten whether we have a\n",
       "  specific estimator or a Pipeline/ColumnTransformer */\n",
       "  background-color: var(--sklearn-color-background);\n",
       "}\n",
       "\n",
       "/* Toggleable label */\n",
       "#sk-container-id-1 label.sk-toggleable__label {\n",
       "  cursor: pointer;\n",
       "  display: flex;\n",
       "  width: 100%;\n",
       "  margin-bottom: 0;\n",
       "  padding: 0.5em;\n",
       "  box-sizing: border-box;\n",
       "  text-align: center;\n",
       "  align-items: start;\n",
       "  justify-content: space-between;\n",
       "  gap: 0.5em;\n",
       "}\n",
       "\n",
       "#sk-container-id-1 label.sk-toggleable__label .caption {\n",
       "  font-size: 0.6rem;\n",
       "  font-weight: lighter;\n",
       "  color: var(--sklearn-color-text-muted);\n",
       "}\n",
       "\n",
       "#sk-container-id-1 label.sk-toggleable__label-arrow:before {\n",
       "  /* Arrow on the left of the label */\n",
       "  content: \"▸\";\n",
       "  float: left;\n",
       "  margin-right: 0.25em;\n",
       "  color: var(--sklearn-color-icon);\n",
       "}\n",
       "\n",
       "#sk-container-id-1 label.sk-toggleable__label-arrow:hover:before {\n",
       "  color: var(--sklearn-color-text);\n",
       "}\n",
       "\n",
       "/* Toggleable content - dropdown */\n",
       "\n",
       "#sk-container-id-1 div.sk-toggleable__content {\n",
       "  max-height: 0;\n",
       "  max-width: 0;\n",
       "  overflow: hidden;\n",
       "  text-align: left;\n",
       "  /* unfitted */\n",
       "  background-color: var(--sklearn-color-unfitted-level-0);\n",
       "}\n",
       "\n",
       "#sk-container-id-1 div.sk-toggleable__content.fitted {\n",
       "  /* fitted */\n",
       "  background-color: var(--sklearn-color-fitted-level-0);\n",
       "}\n",
       "\n",
       "#sk-container-id-1 div.sk-toggleable__content pre {\n",
       "  margin: 0.2em;\n",
       "  border-radius: 0.25em;\n",
       "  color: var(--sklearn-color-text);\n",
       "  /* unfitted */\n",
       "  background-color: var(--sklearn-color-unfitted-level-0);\n",
       "}\n",
       "\n",
       "#sk-container-id-1 div.sk-toggleable__content.fitted pre {\n",
       "  /* unfitted */\n",
       "  background-color: var(--sklearn-color-fitted-level-0);\n",
       "}\n",
       "\n",
       "#sk-container-id-1 input.sk-toggleable__control:checked~div.sk-toggleable__content {\n",
       "  /* Expand drop-down */\n",
       "  max-height: 200px;\n",
       "  max-width: 100%;\n",
       "  overflow: auto;\n",
       "}\n",
       "\n",
       "#sk-container-id-1 input.sk-toggleable__control:checked~label.sk-toggleable__label-arrow:before {\n",
       "  content: \"▾\";\n",
       "}\n",
       "\n",
       "/* Pipeline/ColumnTransformer-specific style */\n",
       "\n",
       "#sk-container-id-1 div.sk-label input.sk-toggleable__control:checked~label.sk-toggleable__label {\n",
       "  color: var(--sklearn-color-text);\n",
       "  background-color: var(--sklearn-color-unfitted-level-2);\n",
       "}\n",
       "\n",
       "#sk-container-id-1 div.sk-label.fitted input.sk-toggleable__control:checked~label.sk-toggleable__label {\n",
       "  background-color: var(--sklearn-color-fitted-level-2);\n",
       "}\n",
       "\n",
       "/* Estimator-specific style */\n",
       "\n",
       "/* Colorize estimator box */\n",
       "#sk-container-id-1 div.sk-estimator input.sk-toggleable__control:checked~label.sk-toggleable__label {\n",
       "  /* unfitted */\n",
       "  background-color: var(--sklearn-color-unfitted-level-2);\n",
       "}\n",
       "\n",
       "#sk-container-id-1 div.sk-estimator.fitted input.sk-toggleable__control:checked~label.sk-toggleable__label {\n",
       "  /* fitted */\n",
       "  background-color: var(--sklearn-color-fitted-level-2);\n",
       "}\n",
       "\n",
       "#sk-container-id-1 div.sk-label label.sk-toggleable__label,\n",
       "#sk-container-id-1 div.sk-label label {\n",
       "  /* The background is the default theme color */\n",
       "  color: var(--sklearn-color-text-on-default-background);\n",
       "}\n",
       "\n",
       "/* On hover, darken the color of the background */\n",
       "#sk-container-id-1 div.sk-label:hover label.sk-toggleable__label {\n",
       "  color: var(--sklearn-color-text);\n",
       "  background-color: var(--sklearn-color-unfitted-level-2);\n",
       "}\n",
       "\n",
       "/* Label box, darken color on hover, fitted */\n",
       "#sk-container-id-1 div.sk-label.fitted:hover label.sk-toggleable__label.fitted {\n",
       "  color: var(--sklearn-color-text);\n",
       "  background-color: var(--sklearn-color-fitted-level-2);\n",
       "}\n",
       "\n",
       "/* Estimator label */\n",
       "\n",
       "#sk-container-id-1 div.sk-label label {\n",
       "  font-family: monospace;\n",
       "  font-weight: bold;\n",
       "  display: inline-block;\n",
       "  line-height: 1.2em;\n",
       "}\n",
       "\n",
       "#sk-container-id-1 div.sk-label-container {\n",
       "  text-align: center;\n",
       "}\n",
       "\n",
       "/* Estimator-specific */\n",
       "#sk-container-id-1 div.sk-estimator {\n",
       "  font-family: monospace;\n",
       "  border: 1px dotted var(--sklearn-color-border-box);\n",
       "  border-radius: 0.25em;\n",
       "  box-sizing: border-box;\n",
       "  margin-bottom: 0.5em;\n",
       "  /* unfitted */\n",
       "  background-color: var(--sklearn-color-unfitted-level-0);\n",
       "}\n",
       "\n",
       "#sk-container-id-1 div.sk-estimator.fitted {\n",
       "  /* fitted */\n",
       "  background-color: var(--sklearn-color-fitted-level-0);\n",
       "}\n",
       "\n",
       "/* on hover */\n",
       "#sk-container-id-1 div.sk-estimator:hover {\n",
       "  /* unfitted */\n",
       "  background-color: var(--sklearn-color-unfitted-level-2);\n",
       "}\n",
       "\n",
       "#sk-container-id-1 div.sk-estimator.fitted:hover {\n",
       "  /* fitted */\n",
       "  background-color: var(--sklearn-color-fitted-level-2);\n",
       "}\n",
       "\n",
       "/* Specification for estimator info (e.g. \"i\" and \"?\") */\n",
       "\n",
       "/* Common style for \"i\" and \"?\" */\n",
       "\n",
       ".sk-estimator-doc-link,\n",
       "a:link.sk-estimator-doc-link,\n",
       "a:visited.sk-estimator-doc-link {\n",
       "  float: right;\n",
       "  font-size: smaller;\n",
       "  line-height: 1em;\n",
       "  font-family: monospace;\n",
       "  background-color: var(--sklearn-color-background);\n",
       "  border-radius: 1em;\n",
       "  height: 1em;\n",
       "  width: 1em;\n",
       "  text-decoration: none !important;\n",
       "  margin-left: 0.5em;\n",
       "  text-align: center;\n",
       "  /* unfitted */\n",
       "  border: var(--sklearn-color-unfitted-level-1) 1pt solid;\n",
       "  color: var(--sklearn-color-unfitted-level-1);\n",
       "}\n",
       "\n",
       ".sk-estimator-doc-link.fitted,\n",
       "a:link.sk-estimator-doc-link.fitted,\n",
       "a:visited.sk-estimator-doc-link.fitted {\n",
       "  /* fitted */\n",
       "  border: var(--sklearn-color-fitted-level-1) 1pt solid;\n",
       "  color: var(--sklearn-color-fitted-level-1);\n",
       "}\n",
       "\n",
       "/* On hover */\n",
       "div.sk-estimator:hover .sk-estimator-doc-link:hover,\n",
       ".sk-estimator-doc-link:hover,\n",
       "div.sk-label-container:hover .sk-estimator-doc-link:hover,\n",
       ".sk-estimator-doc-link:hover {\n",
       "  /* unfitted */\n",
       "  background-color: var(--sklearn-color-unfitted-level-3);\n",
       "  color: var(--sklearn-color-background);\n",
       "  text-decoration: none;\n",
       "}\n",
       "\n",
       "div.sk-estimator.fitted:hover .sk-estimator-doc-link.fitted:hover,\n",
       ".sk-estimator-doc-link.fitted:hover,\n",
       "div.sk-label-container:hover .sk-estimator-doc-link.fitted:hover,\n",
       ".sk-estimator-doc-link.fitted:hover {\n",
       "  /* fitted */\n",
       "  background-color: var(--sklearn-color-fitted-level-3);\n",
       "  color: var(--sklearn-color-background);\n",
       "  text-decoration: none;\n",
       "}\n",
       "\n",
       "/* Span, style for the box shown on hovering the info icon */\n",
       ".sk-estimator-doc-link span {\n",
       "  display: none;\n",
       "  z-index: 9999;\n",
       "  position: relative;\n",
       "  font-weight: normal;\n",
       "  right: .2ex;\n",
       "  padding: .5ex;\n",
       "  margin: .5ex;\n",
       "  width: min-content;\n",
       "  min-width: 20ex;\n",
       "  max-width: 50ex;\n",
       "  color: var(--sklearn-color-text);\n",
       "  box-shadow: 2pt 2pt 4pt #999;\n",
       "  /* unfitted */\n",
       "  background: var(--sklearn-color-unfitted-level-0);\n",
       "  border: .5pt solid var(--sklearn-color-unfitted-level-3);\n",
       "}\n",
       "\n",
       ".sk-estimator-doc-link.fitted span {\n",
       "  /* fitted */\n",
       "  background: var(--sklearn-color-fitted-level-0);\n",
       "  border: var(--sklearn-color-fitted-level-3);\n",
       "}\n",
       "\n",
       ".sk-estimator-doc-link:hover span {\n",
       "  display: block;\n",
       "}\n",
       "\n",
       "/* \"?\"-specific style due to the `<a>` HTML tag */\n",
       "\n",
       "#sk-container-id-1 a.estimator_doc_link {\n",
       "  float: right;\n",
       "  font-size: 1rem;\n",
       "  line-height: 1em;\n",
       "  font-family: monospace;\n",
       "  background-color: var(--sklearn-color-background);\n",
       "  border-radius: 1rem;\n",
       "  height: 1rem;\n",
       "  width: 1rem;\n",
       "  text-decoration: none;\n",
       "  /* unfitted */\n",
       "  color: var(--sklearn-color-unfitted-level-1);\n",
       "  border: var(--sklearn-color-unfitted-level-1) 1pt solid;\n",
       "}\n",
       "\n",
       "#sk-container-id-1 a.estimator_doc_link.fitted {\n",
       "  /* fitted */\n",
       "  border: var(--sklearn-color-fitted-level-1) 1pt solid;\n",
       "  color: var(--sklearn-color-fitted-level-1);\n",
       "}\n",
       "\n",
       "/* On hover */\n",
       "#sk-container-id-1 a.estimator_doc_link:hover {\n",
       "  /* unfitted */\n",
       "  background-color: var(--sklearn-color-unfitted-level-3);\n",
       "  color: var(--sklearn-color-background);\n",
       "  text-decoration: none;\n",
       "}\n",
       "\n",
       "#sk-container-id-1 a.estimator_doc_link.fitted:hover {\n",
       "  /* fitted */\n",
       "  background-color: var(--sklearn-color-fitted-level-3);\n",
       "}\n",
       "</style><div id=\"sk-container-id-1\" class=\"sk-top-container\"><div class=\"sk-text-repr-fallback\"><pre>LinearRegression()</pre><b>In a Jupyter environment, please rerun this cell to show the HTML representation or trust the notebook. <br />On GitHub, the HTML representation is unable to render, please try loading this page with nbviewer.org.</b></div><div class=\"sk-container\" hidden><div class=\"sk-item\"><div class=\"sk-estimator fitted sk-toggleable\"><input class=\"sk-toggleable__control sk-hidden--visually\" id=\"sk-estimator-id-1\" type=\"checkbox\" checked><label for=\"sk-estimator-id-1\" class=\"sk-toggleable__label fitted sk-toggleable__label-arrow\"><div><div>LinearRegression</div></div><div><a class=\"sk-estimator-doc-link fitted\" rel=\"noreferrer\" target=\"_blank\" href=\"https://scikit-learn.org/1.6/modules/generated/sklearn.linear_model.LinearRegression.html\">?<span>Documentation for LinearRegression</span></a><span class=\"sk-estimator-doc-link fitted\">i<span>Fitted</span></span></div></label><div class=\"sk-toggleable__content fitted\"><pre>LinearRegression()</pre></div> </div></div></div></div>"
      ],
      "text/plain": [
       "LinearRegression()"
      ]
     },
     "execution_count": 21,
     "metadata": {},
     "output_type": "execute_result"
    }
   ],
   "source": [
    "modelo = LinearRegression()\n",
    "modelo.fit(X_train, y_train)"
   ]
  },
  {
   "cell_type": "markdown",
   "id": "bea4e435",
   "metadata": {},
   "source": [
    "Imprimimos los coeficientes y el intercepto obtenidos"
   ]
  },
  {
   "cell_type": "code",
   "execution_count": 22,
   "id": "ac47a107",
   "metadata": {},
   "outputs": [
    {
     "name": "stdout",
     "output_type": "stream",
     "text": [
      "Intercepto (b₀): 57937.81951953229\n",
      "Coeficientes (b₁, b₂): [1934.71153978 9749.68263101]\n"
     ]
    }
   ],
   "source": [
    "\n",
    "print(\"Intercepto (b₀):\", modelo.intercept_)\n",
    "print(\"Coeficientes (b₁, b₂):\", modelo.coef_)"
   ]
  },
  {
   "cell_type": "markdown",
   "id": "11128126",
   "metadata": {},
   "source": [
    "### 4. Evaluación del modelo con el conjunto de test"
   ]
  },
  {
   "cell_type": "code",
   "execution_count": 23,
   "id": "2c2af99b",
   "metadata": {},
   "outputs": [
    {
     "name": "stdout",
     "output_type": "stream",
     "text": [
      "\n",
      "Evaluación del modelo:\n",
      "Error Cuadrático Medio (MSE): 91368642.96252188\n",
      "Coeficiente de determinación (R²): 0.9423903718304878\n"
     ]
    }
   ],
   "source": [
    "\n",
    "y_pred = modelo.predict(X_test)\n",
    "mse = mean_squared_error(y_test, y_pred)\n",
    "r2 = r2_score(y_test, y_pred)\n",
    "\n",
    "print(\"\\nEvaluación del modelo:\")\n",
    "print(\"Error Cuadrático Medio (MSE):\", mse)\n",
    "print(\"Coeficiente de determinación (R²):\", r2)"
   ]
  },
  {
   "cell_type": "markdown",
   "id": "f2fe57fa",
   "metadata": {},
   "source": [
    "### 5. Realización de una predicción sobre datos ficticios\n",
    "Supongamos una vivienda de 120 m² y 3 habitaciones"
   ]
  },
  {
   "cell_type": "code",
   "execution_count": 24,
   "id": "3aee15b5",
   "metadata": {},
   "outputs": [
    {
     "name": "stdout",
     "output_type": "stream",
     "text": [
      "\n",
      "Predicción para una vivienda de 120 m² y 3 habitaciones: 319352.252185602\n"
     ]
    },
    {
     "name": "stderr",
     "output_type": "stream",
     "text": [
      "/usr/local/lib/python3.11/site-packages/sklearn/utils/validation.py:2739: UserWarning: X does not have valid feature names, but LinearRegression was fitted with feature names\n",
      "  warnings.warn(\n"
     ]
    }
   ],
   "source": [
    "nuevos_datos = np.array([[120, 3]])\n",
    "prediccion = modelo.predict(nuevos_datos)\n",
    "print(\"\\nPredicción para una vivienda de 120 m² y 3 habitaciones:\", prediccion[0])"
   ]
  },
  {
   "cell_type": "markdown",
   "id": "93344043",
   "metadata": {},
   "source": [
    "### 6. Visualización \n",
    "Aunque la regresión es multivariable y la visualización completa es compleja,\n",
    "graficaremos la relación real vs. predicha en el conjunto de test."
   ]
  },
  {
   "cell_type": "code",
   "execution_count": 25,
   "id": "096bf20f",
   "metadata": {},
   "outputs": [
    {
     "data": {
      "image/png": "[encoded data removed]",
      "text/plain": [
       "<Figure size 640x480 with 1 Axes>"
      ]
     },
     "metadata": {},
     "output_type": "display_data"
    }
   ],
   "source": [
    "plt.scatter(y_test, y_pred, color='blue', alpha=0.6)\n",
    "plt.plot([y_test.min(), y_test.max()], [y_test.min(), y_test.max()], color='red', linewidth=2)\n",
    "plt.xlabel('Valores reales')\n",
    "plt.ylabel('Valores predichos')\n",
    "plt.title('Regresión Lineal Multivariable: Valores reales vs Predichos')\n",
    "plt.show()"
   ]
  },
  {
   "cell_type": "markdown",
   "id": "05980104",
   "metadata": {},
   "source": [
    "## NOTA ACLARATORIA\n",
    "\n",
    "### ¿Qué es el intercepto?\n",
    "\n",
    "El **intercepto** es el valor de la variable objetivo (la que queremos predecir) cuando todas las variables independientes (o predictoras) son iguales a cero. Es decir, es el \"punto de partida\" del modelo.\n",
    "\n",
    "En la fórmula de una regresión lineal, normalmente se expresa de la siguiente manera:\n",
    "\n",
    "\\[\n",
    "y = b_0 + b_1 x_1 + b_2 x_2 + \\cdots + b_n x_n\n",
    "\\]\n",
    "\n",
    "donde:\n",
    "- **\\(y\\)** es la variable que queremos predecir.\n",
    "- **\\(b_0\\)** es el intercepto.\n",
    "- **\\(b_1, b_2, \\dots, b_n\\)** son los coeficientes o pendientes correspondientes a cada variable independiente \\(x_1, x_2, \\dots, x_n\\).\n",
    "\n",
    "Por lo tanto, cuando \\(x_1 = 0, x_2 = 0, \\dots, x_n = 0\\), la ecuación se reduce a:\n",
    "\n",
    "\\[\n",
    "y = b_0\n",
    "\\]\n",
    "\n",
    "En este contexto, **\\(b_0\\)** indica el valor base o el punto en el que se sitúa la gráfica de la relación cuando no hay influencia de los demás factores.\n",
    "\n",
    "---\n",
    "\n",
    "En resumen, el intercepto es un parámetro clave que ayuda a situar la línea de regresión en el eje de la variable a predecir."
   ]
  },
  {
   "cell_type": "markdown",
   "id": "d4104928",
   "metadata": {},
   "source": []
  }
 ],
 "metadata": {
  "kernelspec": {
   "display_name": "Python 3",
   "language": "python",
   "name": "python3"
  },
  "language_info": {
   "codemirror_mode": {
    "name": "ipython",
    "version": 3
   },
   "file_extension": ".py",
   "mimetype": "text/x-python",
   "name": "python",
   "nbconvert_exporter": "python",
   "pygments_lexer": "ipython3",
   "version": "3.11.11"
  }
 },
 "nbformat": 4,
 "nbformat_minor": 5
}
