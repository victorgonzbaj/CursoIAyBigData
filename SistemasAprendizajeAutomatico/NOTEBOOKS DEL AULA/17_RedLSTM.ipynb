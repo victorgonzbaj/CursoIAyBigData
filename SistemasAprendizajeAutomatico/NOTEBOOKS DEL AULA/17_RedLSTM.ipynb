{
 "cells": [
  {
   "cell_type": "markdown",
   "source": [
    "## RED LSTM (LONG SHORT-TERM MEMORY - Memoria a Corto y Largo Plazo) \n",
    "\n",
    "Este código crea un modelo LSTM que aprende a predecir el siguiente carácter en un texto dado basado en los cinco caracteres anteriores. Después de entrenar el modelo, genera texto automáticamente comenzando desde una secuencia inicial aleatoria.\n",
    "\n",
    "Este ejercicio permite demostrar cómo un LSTM puede aprender dependencias en datos secuenciales como el texto. Se usa un texto corto como ejemplo y se prepara el código para predecir el siguiente carácter dado una secuencia de caracteres anteriores."
   ],
   "metadata": {
    "collapsed": false
   },
   "id": "186430ca1b2c066b"
  },
  {
   "cell_type": "code",
   "execution_count": 1,
   "id": "initial_id",
   "metadata": {
    "collapsed": true,
    "ExecuteTime": {
     "end_time": "2024-05-17T10:52:04.450537Z",
     "start_time": "2024-05-17T10:51:59.528938Z"
    }
   },
   "outputs": [
    {
     "name": "stderr",
     "output_type": "stream",
     "text": [
      "2024-05-17 12:52:01.598697: I tensorflow/core/platform/cpu_feature_guard.cc:210] This TensorFlow binary is optimized to use available CPU instructions in performance-critical operations.\n",
      "To enable the following instructions: AVX2 FMA, in other operations, rebuild TensorFlow with the appropriate compiler flags.\n"
     ]
    }
   ],
   "source": [
    "import warnings\n",
    "import numpy as np\n",
    "import tensorflow as tf\n",
    "from tensorflow.keras import Sequential\n",
    "from tensorflow.keras.layers import LSTM, Dense\n"
   ]
  },
  {
   "cell_type": "markdown",
   "source": [
    "Desactivamos warnings"
   ],
   "metadata": {
    "collapsed": false
   },
   "id": "921f9c484d16fa98"
  },
  {
   "cell_type": "code",
   "outputs": [],
   "source": [
    "warnings.filterwarnings(\"ignore\")"
   ],
   "metadata": {
    "collapsed": false,
    "ExecuteTime": {
     "end_time": "2024-05-17T10:52:18.308689Z",
     "start_time": "2024-05-17T10:52:18.305215Z"
    }
   },
   "id": "51691c3fad23a893",
   "execution_count": 2
  },
  {
   "cell_type": "markdown",
   "source": [
    "### Definición del conjunto de datos\n",
    "\n",
    "Para que un modelo de aprendizaje automático pueda procesar texto, primero debemos convertir los caracteres en una forma que el modelo pueda entender, es decir, números.   \n",
    "En este caso, tomamos la frase y generamos directamente el conjunto de caracteres que la forman y la convertimos a un conjunto de números enteros."
   ],
   "metadata": {
    "collapsed": false
   },
   "id": "21008b44ba716947"
  },
  {
   "cell_type": "code",
   "outputs": [],
   "source": [
    "# Texto de ejemplo\n",
    "text = \"fractured world tested the hope of a young president\"\n",
    "# Convertir caracteres a enteros\n",
    "chars = sorted(list(set(text)))\n",
    "char_to_int = dict((c, i) for i, c in enumerate(chars))"
   ],
   "metadata": {
    "collapsed": false,
    "ExecuteTime": {
     "end_time": "2024-05-17T10:52:20.343599Z",
     "start_time": "2024-05-17T10:52:20.340122Z"
    }
   },
   "id": "ddc4222fbd981a18",
   "execution_count": 3
  },
  {
   "cell_type": "markdown",
   "source": [
    "### Preparación de datos para ser usados por la red LSTM\n",
    "\n",
    "Un modelo LSTM necesita conocer no solo el estado actual (por ejemplo, un carácter en el texto), sino también algunos estados anteriores para hacer una predicción efectiva. Esto es lo que le permite aprender y entender el contexto o la secuencia en los datos.\n",
    "\n",
    "En este caso, se define una longitud de secuencia de 5 (seq_length). De esta forma, se va a utilizar secuencias de 5 caracteres para predecir el siguiente carácter.   \n",
    "   \n",
    "Creamos todas las posibles subsecuencias de 5 caracteres del texto y el carácter siguiente a cada subsecuencia será el **carácter objetivo** que el modelo intentará predecir."
   ],
   "metadata": {
    "collapsed": false
   },
   "id": "b7dea2c5d58b5777"
  },
  {
   "cell_type": "code",
   "outputs": [],
   "source": [
    "# Preparar los datos para el LSTM\n",
    "seq_length = 5\n",
    "dataX = []\n",
    "dataY = []\n",
    "for i in range(0, len(text) - seq_length, 1):\n",
    "    seq_in = text[i:i + seq_length]\n",
    "    seq_out = text[i + seq_length]\n",
    "    dataX.append([char_to_int[char] for char in seq_in])\n",
    "    dataY.append(char_to_int[seq_out])"
   ],
   "metadata": {
    "collapsed": false,
    "ExecuteTime": {
     "end_time": "2024-05-17T10:52:23.574700Z",
     "start_time": "2024-05-17T10:52:23.569956Z"
    }
   },
   "id": "ccb894f256bd6ad7",
   "execution_count": 4
  },
  {
   "cell_type": "markdown",
   "source": [
    "### Reformateo de los Datos de Entrada para el LSTM\n",
    "Los modelos LSTM en TensorFlow esperan una entrada con la forma [muestras, pasos de tiempo, características]:\n",
    "\n",
    "- **Muestras**: Número total de secuencias de ejemplo.\n",
    "- **Pasos de tiempo**: Número de unidades de tiempo en la secuencia; en este caso, es la longitud de la secuencia de caracteres (5).\n",
    "- **Características**: Número de características en cada paso de tiempo; en este ejemplo, es 1 porque tenemos un carácter por paso de tiempo.\n",
    "\n",
    "Además, se normalizan los valores de entrada dividiendo por el número total de caracteres únicos para ayudar al modelo a converger más rápido durante el entrenamiento."
   ],
   "metadata": {
    "collapsed": false
   },
   "id": "1ff88cce8ad853bd"
  },
  {
   "cell_type": "code",
   "outputs": [],
   "source": [
    "n_patterns = len(dataX)\n",
    "X = np.reshape(dataX, (n_patterns, seq_length, 1))\n",
    "X = X / float(len(chars))"
   ],
   "metadata": {
    "collapsed": false,
    "ExecuteTime": {
     "end_time": "2024-05-17T10:52:26.015208Z",
     "start_time": "2024-05-17T10:52:26.010836Z"
    }
   },
   "id": "d601a15d098b68f2",
   "execution_count": 5
  },
  {
   "cell_type": "markdown",
   "source": [
    "### Codificación One-Hot para la Salida\n",
    "\n",
    "La salida se codifica como un vector one-hot, lo que significa que cada carácter posible se representa como un vector binario con un solo bit activo (1) y todos los demás inactivos (0). Esto es necesario para la clasificación, donde cada entrada puede ser clasificada como uno de los caracteres posibles."
   ],
   "metadata": {
    "collapsed": false
   },
   "id": "ecb8d3e27cdfb7bf"
  },
  {
   "cell_type": "code",
   "outputs": [],
   "source": [
    "y = tf.keras.utils.to_categorical(dataY)"
   ],
   "metadata": {
    "collapsed": false,
    "ExecuteTime": {
     "end_time": "2024-05-17T10:52:28.653453Z",
     "start_time": "2024-05-17T10:52:28.648800Z"
    }
   },
   "id": "266b2365bc3ee2e9",
   "execution_count": 6
  },
  {
   "cell_type": "markdown",
   "source": [
    "### Definición de la arquitectura del modelo de red LSTM\n",
    "\n",
    "Definición y compilación del modelo de red LSTM"
   ],
   "metadata": {
    "collapsed": false
   },
   "id": "2c60ad859c288c7c"
  },
  {
   "cell_type": "code",
   "outputs": [],
   "source": [
    "# Definir el modelo LSTM\n",
    "model = Sequential([\n",
    "    LSTM(128, input_shape=(X.shape[1], X.shape[2]), return_sequences=True),\n",
    "    LSTM(128),\n",
    "    Dense(y.shape[1], activation='softmax')\n",
    "])\n",
    "\n",
    "# Compilar el modelo\n",
    "model.compile(loss='categorical_crossentropy', optimizer='adam')"
   ],
   "metadata": {
    "collapsed": false,
    "ExecuteTime": {
     "end_time": "2024-05-17T10:52:31.692245Z",
     "start_time": "2024-05-17T10:52:31.604920Z"
    }
   },
   "id": "83405f80cacca107",
   "execution_count": 7
  },
  {
   "cell_type": "markdown",
   "source": [
    "### Entrenamiento"
   ],
   "metadata": {
    "collapsed": false
   },
   "id": "c4e17104bc2cf523"
  },
  {
   "cell_type": "code",
   "outputs": [
    {
     "name": "stdout",
     "output_type": "stream",
     "text": [
      "Epoch 1/100\n",
      "47/47 - 2s - 47ms/step - loss: 2.9293\n",
      "Epoch 2/100\n",
      "47/47 - 0s - 4ms/step - loss: 2.7467\n",
      "Epoch 3/100\n",
      "47/47 - 0s - 3ms/step - loss: 2.6892\n",
      "Epoch 4/100\n",
      "47/47 - 0s - 3ms/step - loss: 2.7016\n",
      "Epoch 5/100\n",
      "47/47 - 0s - 3ms/step - loss: 2.6677\n",
      "Epoch 6/100\n",
      "47/47 - 0s - 4ms/step - loss: 2.6679\n",
      "Epoch 7/100\n",
      "47/47 - 0s - 3ms/step - loss: 2.6618\n",
      "Epoch 8/100\n",
      "47/47 - 0s - 3ms/step - loss: 2.6552\n",
      "Epoch 9/100\n",
      "47/47 - 0s - 3ms/step - loss: 2.6549\n",
      "Epoch 10/100\n",
      "47/47 - 0s - 4ms/step - loss: 2.6321\n",
      "Epoch 11/100\n",
      "47/47 - 0s - 3ms/step - loss: 2.6140\n",
      "Epoch 12/100\n",
      "47/47 - 0s - 3ms/step - loss: 2.5960\n",
      "Epoch 13/100\n",
      "47/47 - 0s - 3ms/step - loss: 2.5452\n",
      "Epoch 14/100\n",
      "47/47 - 0s - 3ms/step - loss: 2.5537\n",
      "Epoch 15/100\n",
      "47/47 - 0s - 3ms/step - loss: 2.4774\n",
      "Epoch 16/100\n",
      "47/47 - 0s - 3ms/step - loss: 2.4263\n",
      "Epoch 17/100\n",
      "47/47 - 0s - 3ms/step - loss: 2.3271\n",
      "Epoch 18/100\n",
      "47/47 - 0s - 4ms/step - loss: 2.2894\n",
      "Epoch 19/100\n",
      "47/47 - 0s - 3ms/step - loss: 2.2285\n",
      "Epoch 20/100\n",
      "47/47 - 0s - 3ms/step - loss: 2.1986\n",
      "Epoch 21/100\n",
      "47/47 - 0s - 3ms/step - loss: 2.1346\n",
      "Epoch 22/100\n",
      "47/47 - 0s - 3ms/step - loss: 2.0773\n",
      "Epoch 23/100\n",
      "47/47 - 0s - 3ms/step - loss: 2.0458\n",
      "Epoch 24/100\n",
      "47/47 - 0s - 3ms/step - loss: 1.9520\n",
      "Epoch 25/100\n",
      "47/47 - 0s - 3ms/step - loss: 1.9606\n",
      "Epoch 26/100\n",
      "47/47 - 0s - 3ms/step - loss: 1.8690\n",
      "Epoch 27/100\n",
      "47/47 - 0s - 3ms/step - loss: 1.8775\n",
      "Epoch 28/100\n",
      "47/47 - 0s - 3ms/step - loss: 1.7590\n",
      "Epoch 29/100\n",
      "47/47 - 0s - 3ms/step - loss: 1.6809\n",
      "Epoch 30/100\n",
      "47/47 - 0s - 4ms/step - loss: 1.8142\n",
      "Epoch 31/100\n",
      "47/47 - 0s - 3ms/step - loss: 1.6050\n",
      "Epoch 32/100\n",
      "47/47 - 0s - 3ms/step - loss: 1.5649\n",
      "Epoch 33/100\n",
      "47/47 - 0s - 3ms/step - loss: 1.4647\n",
      "Epoch 34/100\n",
      "47/47 - 0s - 3ms/step - loss: 1.3508\n",
      "Epoch 35/100\n",
      "47/47 - 0s - 3ms/step - loss: 1.3917\n",
      "Epoch 36/100\n",
      "47/47 - 0s - 3ms/step - loss: 1.3181\n",
      "Epoch 37/100\n",
      "47/47 - 0s - 3ms/step - loss: 1.2163\n",
      "Epoch 38/100\n",
      "47/47 - 0s - 3ms/step - loss: 1.1322\n",
      "Epoch 39/100\n",
      "47/47 - 0s - 3ms/step - loss: 0.9986\n",
      "Epoch 40/100\n",
      "47/47 - 0s - 3ms/step - loss: 1.0229\n",
      "Epoch 41/100\n",
      "47/47 - 0s - 3ms/step - loss: 0.9565\n",
      "Epoch 42/100\n",
      "47/47 - 0s - 3ms/step - loss: 0.9256\n",
      "Epoch 43/100\n",
      "47/47 - 0s - 3ms/step - loss: 0.8792\n",
      "Epoch 44/100\n",
      "47/47 - 0s - 3ms/step - loss: 0.9380\n",
      "Epoch 45/100\n",
      "47/47 - 0s - 3ms/step - loss: 0.7368\n",
      "Epoch 46/100\n",
      "47/47 - 0s - 3ms/step - loss: 0.7325\n",
      "Epoch 47/100\n",
      "47/47 - 0s - 3ms/step - loss: 0.6836\n",
      "Epoch 48/100\n",
      "47/47 - 0s - 3ms/step - loss: 0.6204\n",
      "Epoch 49/100\n",
      "47/47 - 0s - 3ms/step - loss: 0.5761\n",
      "Epoch 50/100\n",
      "47/47 - 0s - 3ms/step - loss: 0.6384\n",
      "Epoch 51/100\n",
      "47/47 - 0s - 4ms/step - loss: 0.5580\n",
      "Epoch 52/100\n",
      "47/47 - 0s - 3ms/step - loss: 0.5589\n",
      "Epoch 53/100\n",
      "47/47 - 0s - 3ms/step - loss: 0.4860\n",
      "Epoch 54/100\n",
      "47/47 - 0s - 3ms/step - loss: 0.4213\n",
      "Epoch 55/100\n",
      "47/47 - 0s - 3ms/step - loss: 0.4671\n",
      "Epoch 56/100\n",
      "47/47 - 0s - 3ms/step - loss: 0.3835\n",
      "Epoch 57/100\n",
      "47/47 - 0s - 3ms/step - loss: 0.4091\n",
      "Epoch 58/100\n",
      "47/47 - 0s - 3ms/step - loss: 0.3693\n",
      "Epoch 59/100\n",
      "47/47 - 0s - 3ms/step - loss: 0.3273\n",
      "Epoch 60/100\n",
      "47/47 - 0s - 3ms/step - loss: 0.2792\n",
      "Epoch 61/100\n",
      "47/47 - 0s - 3ms/step - loss: 0.3594\n",
      "Epoch 62/100\n",
      "47/47 - 0s - 3ms/step - loss: 0.5322\n",
      "Epoch 63/100\n",
      "47/47 - 0s - 3ms/step - loss: 0.2976\n",
      "Epoch 64/100\n",
      "47/47 - 0s - 3ms/step - loss: 0.4985\n",
      "Epoch 65/100\n",
      "47/47 - 0s - 3ms/step - loss: 0.3249\n",
      "Epoch 66/100\n",
      "47/47 - 0s - 3ms/step - loss: 0.2409\n",
      "Epoch 67/100\n",
      "47/47 - 0s - 3ms/step - loss: 0.2372\n",
      "Epoch 68/100\n",
      "47/47 - 0s - 3ms/step - loss: 0.2476\n",
      "Epoch 69/100\n",
      "47/47 - 0s - 3ms/step - loss: 0.2387\n",
      "Epoch 70/100\n",
      "47/47 - 0s - 3ms/step - loss: 0.2188\n",
      "Epoch 71/100\n",
      "47/47 - 0s - 4ms/step - loss: 0.1835\n",
      "Epoch 72/100\n",
      "47/47 - 0s - 3ms/step - loss: 0.2527\n",
      "Epoch 73/100\n",
      "47/47 - 0s - 3ms/step - loss: 0.2109\n",
      "Epoch 74/100\n",
      "47/47 - 0s - 3ms/step - loss: 0.1849\n",
      "Epoch 75/100\n",
      "47/47 - 0s - 3ms/step - loss: 0.2304\n",
      "Epoch 76/100\n",
      "47/47 - 0s - 3ms/step - loss: 0.2005\n",
      "Epoch 77/100\n",
      "47/47 - 0s - 3ms/step - loss: 0.1600\n",
      "Epoch 78/100\n",
      "47/47 - 0s - 3ms/step - loss: 0.2662\n",
      "Epoch 79/100\n",
      "47/47 - 0s - 3ms/step - loss: 0.3618\n",
      "Epoch 80/100\n",
      "47/47 - 0s - 3ms/step - loss: 0.3353\n",
      "Epoch 81/100\n",
      "47/47 - 0s - 3ms/step - loss: 0.3993\n",
      "Epoch 82/100\n",
      "47/47 - 0s - 3ms/step - loss: 0.2826\n",
      "Epoch 83/100\n",
      "47/47 - 0s - 3ms/step - loss: 0.2703\n",
      "Epoch 84/100\n",
      "47/47 - 0s - 3ms/step - loss: 0.2527\n",
      "Epoch 85/100\n",
      "47/47 - 0s - 3ms/step - loss: 0.1996\n",
      "Epoch 86/100\n",
      "47/47 - 0s - 3ms/step - loss: 0.1801\n",
      "Epoch 87/100\n",
      "47/47 - 0s - 3ms/step - loss: 0.1251\n",
      "Epoch 88/100\n",
      "47/47 - 0s - 3ms/step - loss: 0.1037\n",
      "Epoch 89/100\n",
      "47/47 - 0s - 3ms/step - loss: 0.1129\n",
      "Epoch 90/100\n",
      "47/47 - 0s - 5ms/step - loss: 0.1453\n",
      "Epoch 91/100\n",
      "47/47 - 0s - 6ms/step - loss: 0.1261\n",
      "Epoch 92/100\n",
      "47/47 - 0s - 3ms/step - loss: 0.2029\n",
      "Epoch 93/100\n",
      "47/47 - 0s - 3ms/step - loss: 0.2009\n",
      "Epoch 94/100\n",
      "47/47 - 0s - 3ms/step - loss: 0.1167\n",
      "Epoch 95/100\n",
      "47/47 - 0s - 3ms/step - loss: 0.1352\n",
      "Epoch 96/100\n",
      "47/47 - 0s - 3ms/step - loss: 0.1408\n",
      "Epoch 97/100\n",
      "47/47 - 0s - 3ms/step - loss: 0.2322\n",
      "Epoch 98/100\n",
      "47/47 - 0s - 3ms/step - loss: 0.4764\n",
      "Epoch 99/100\n",
      "47/47 - 0s - 3ms/step - loss: 0.3451\n",
      "Epoch 100/100\n",
      "47/47 - 0s - 3ms/step - loss: 0.3023\n"
     ]
    },
    {
     "data": {
      "text/plain": "<keras.src.callbacks.history.History at 0x126dabf50>"
     },
     "execution_count": 8,
     "metadata": {},
     "output_type": "execute_result"
    }
   ],
   "source": [
    "# Entrenar el modelo\n",
    "model.fit(X, y, epochs=100, batch_size=1, verbose=2)\n"
   ],
   "metadata": {
    "collapsed": false,
    "ExecuteTime": {
     "end_time": "2024-05-17T10:52:54.080916Z",
     "start_time": "2024-05-17T10:52:35.899724Z"
    }
   },
   "id": "45bff0dc7f75435",
   "execution_count": 8
  },
  {
   "cell_type": "markdown",
   "source": [
    "### Pruebas y predicción\n",
    "\n",
    "Primero, el código selecciona una secuencia inicial aleatoria del conjunto de datos de entrenamiento. Esta secuencia servirá como \"semilla\" para iniciar el proceso de generación de texto.    \n",
    "La idea es proporcionar al modelo un contexto inicial basado en el cual él puede comenzar a generar el siguiente carácter.   \n",
    "\n",
    "- **start** es un índice aleatorio que determina el punto de partida en el conjunto de datos.\n",
    "- **pattern** es la secuencia de caracteres (en forma de índices numéricos) extraída de *dataX* usando el índice *start*.\n",
    "\n",
    "A continuación, se imprime esta secuencia convertida de nuevo a caracteres para visualizar la semilla con la que se inicia la generación."
   ],
   "metadata": {
    "collapsed": false
   },
   "id": "634a77049d4c5273"
  },
  {
   "cell_type": "code",
   "outputs": [
    {
     "name": "stdout",
     "output_type": "stream",
     "text": [
      "Seed:\n",
      "\"  hope \"\n"
     ]
    }
   ],
   "source": [
    "# Demostrar la generación de texto\n",
    "start = np.random.randint(0, len(dataX)-1)\n",
    "pattern = dataX[start]\n",
    "print(\"Seed:\")\n",
    "print(\"\\\"\", ''.join([chars[value] for value in pattern]), \"\\\"\")"
   ],
   "metadata": {
    "collapsed": false,
    "ExecuteTime": {
     "end_time": "2024-05-17T10:53:00.357810Z",
     "start_time": "2024-05-17T10:53:00.353697Z"
    }
   },
   "id": "5591db5e262d45e6",
   "execution_count": 9
  },
  {
   "cell_type": "markdown",
   "source": [
    "#### Generación de caracteres\n",
    "\n",
    "El código arranca un bucle donde, en cada iteración, se intenta predecir el siguiente carácter basado en la secuencia actual (**pattern**).   \n",
    "\n",
    "Seguidamente se actualiza la secuencia moviéndola un paso hacia adelante, incluyendo el nuevo carácter predicho al final y descartando el primer carácter para mantener la longitud constante.   \n",
    "\n",
    "- **x** reformatea la secuencia *pattern* para que tenga el formato adecuado para el modelo: [1, longitud de la secuencia, 1], y la normaliza dividiendo por el número de caracteres únicos.\n",
    "- **prediction** es el vector de salida del modelo, donde cada elemento representa la probabilidad de que un carácter sea el siguiente en la secuencia.\n",
    "- **index** es el índice del carácter con la mayor probabilidad en prediction.\n",
    "- **result** es el carácter correspondiente al índice index, que se añade a la secuencia generada y se imprime.\n",
    "- La secuencia **pattern** se actualiza añadiendo el índice del carácter predicho al final y eliminando el primer elemento para mantener el tamaño.   \n",
    "\n",
    "Este bucle permite visualizar cómo el modelo, basándose en una semilla inicial y su \"memoria\" de lo aprendido durante el entrenamiento, puede generar texto que sigue alguna forma de estructura gramatical y léxica, dependiendo de la complejidad del texto original y la duración del entrenamiento."
   ],
   "metadata": {
    "collapsed": false
   },
   "id": "91a3fc63ca3c5310"
  },
  {
   "cell_type": "code",
   "outputs": [
    {
     "name": "stdout",
     "output_type": "stream",
     "text": [
      " of a young presidentesidentesidentesidentesidente\n",
      "Done.\n"
     ]
    }
   ],
   "source": [
    "# Generar caracteres\n",
    "for i in range(50):\n",
    "    x = np.reshape(pattern, (1, len(pattern), 1))\n",
    "    x = x / float(len(chars))\n",
    "    prediction = model.predict(x, verbose=0)\n",
    "    index = np.argmax(prediction)\n",
    "    result = chars[index]\n",
    "    seq_in = [chars[value] for value in pattern]\n",
    "    print(result, end='')\n",
    "    pattern.append(index)\n",
    "    pattern = pattern[1:len(pattern)]\n",
    "print(\"\\nDone.\")"
   ],
   "metadata": {
    "collapsed": false,
    "ExecuteTime": {
     "end_time": "2024-05-17T10:53:06.529781Z",
     "start_time": "2024-05-17T10:53:03.668833Z"
    }
   },
   "id": "f56c223aeab072a4",
   "execution_count": 10
  },
  {
   "cell_type": "code",
   "outputs": [],
   "source": [],
   "metadata": {
    "collapsed": false
   },
   "id": "82626bdca93a7bdf"
  }
 ],
 "metadata": {
  "kernelspec": {
   "display_name": "Python 3",
   "language": "python",
   "name": "python3"
  },
  "language_info": {
   "codemirror_mode": {
    "name": "ipython",
    "version": 2
   },
   "file_extension": ".py",
   "mimetype": "text/x-python",
   "name": "python",
   "nbconvert_exporter": "python",
   "pygments_lexer": "ipython2",
   "version": "2.7.6"
  }
 },
 "nbformat": 4,
 "nbformat_minor": 5
}
