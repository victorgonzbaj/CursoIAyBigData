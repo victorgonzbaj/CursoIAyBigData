{
 "cells": [
  {
   "cell_type": "markdown",
   "metadata": {
    "slideshow": {
     "slide_type": "slide"
    }
   },
   "source": [
    "## Estructuras de datos. Librería Pandas (II)\n",
    "\n",
    "![logo](img/logo.jpeg)\n"
   ]
  },
  {
   "cell_type": "markdown",
   "metadata": {
    "slideshow": {
     "slide_type": "slide"
    }
   },
   "source": [
    "# Operaciones en pandas\n",
    "- Búsqueda\n",
    "- Ordenar\n",
    "- Operaciones matemáticas entre objetos\n",
    "- apply(lambda)\n",
    "- Estadística descriptiva\n",
    "- Ejemplo fuel efficiency"
   ]
  },
  {
   "cell_type": "markdown",
   "metadata": {
    "slideshow": {
     "slide_type": "subslide"
    }
   },
   "source": [
    "#### Búsqueda"
   ]
  },
  {
   "cell_type": "code",
   "execution_count": 1,
   "metadata": {
    "ExecuteTime": {
     "end_time": "2024-03-08T10:33:26.094023Z",
     "start_time": "2024-03-08T10:33:25.020806Z"
    }
   },
   "outputs": [],
   "source": [
    "import pandas as pd\n",
    "import numpy as np"
   ]
  },
  {
   "cell_type": "code",
   "outputs": [],
   "source": [
    "import warnings\n",
    "warnings.filterwarnings(\"ignore\")"
   ],
   "metadata": {
    "collapsed": false,
    "ExecuteTime": {
     "end_time": "2024-03-08T11:36:29.629435Z",
     "start_time": "2024-03-08T11:36:29.626080Z"
    }
   },
   "execution_count": 51
  },
  {
   "cell_type": "code",
   "execution_count": 2,
   "metadata": {
    "slideshow": {
     "slide_type": "fragment"
    },
    "ExecuteTime": {
     "end_time": "2024-03-08T10:34:38.058599Z",
     "start_time": "2024-03-08T10:34:37.692590Z"
    }
   },
   "outputs": [
    {
     "data": {
      "text/plain": "   A  B  C\n0  1  0  2\n1  0  1  0",
      "text/html": "<div>\n<style scoped>\n    .dataframe tbody tr th:only-of-type {\n        vertical-align: middle;\n    }\n\n    .dataframe tbody tr th {\n        vertical-align: top;\n    }\n\n    .dataframe thead th {\n        text-align: right;\n    }\n</style>\n<table border=\"1\" class=\"dataframe\">\n  <thead>\n    <tr style=\"text-align: right;\">\n      <th></th>\n      <th>A</th>\n      <th>B</th>\n      <th>C</th>\n    </tr>\n  </thead>\n  <tbody>\n    <tr>\n      <th>0</th>\n      <td>1</td>\n      <td>0</td>\n      <td>2</td>\n    </tr>\n    <tr>\n      <th>1</th>\n      <td>0</td>\n      <td>1</td>\n      <td>0</td>\n    </tr>\n  </tbody>\n</table>\n</div>"
     },
     "metadata": {},
     "output_type": "display_data"
    }
   ],
   "source": [
    "rand_matrix = np.random.randint(6,size=(2,3))\n",
    "frame = pd.DataFrame(rand_matrix , columns=list('ABC'))\n",
    "display(frame)"
   ]
  },
  {
   "cell_type": "code",
   "execution_count": 3,
   "metadata": {
    "slideshow": {
     "slide_type": "fragment"
    },
    "ExecuteTime": {
     "end_time": "2024-03-08T10:34:39.305568Z",
     "start_time": "2024-03-08T10:34:39.301115Z"
    }
   },
   "outputs": [
    {
     "data": {
      "text/plain": "True"
     },
     "execution_count": 3,
     "metadata": {},
     "output_type": "execute_result"
    }
   ],
   "source": [
    "# buscando columnas (DataFrame como dic, busca en claves)\n",
    "'A' in frame"
   ]
  },
  {
   "cell_type": "code",
   "execution_count": 4,
   "metadata": {
    "slideshow": {
     "slide_type": "fragment"
    },
    "ExecuteTime": {
     "end_time": "2024-03-08T10:34:40.324713Z",
     "start_time": "2024-03-08T10:34:40.312936Z"
    }
   },
   "outputs": [
    {
     "data": {
      "text/plain": "       A      B      C\n0  False  False   True\n1  False  False  False",
      "text/html": "<div>\n<style scoped>\n    .dataframe tbody tr th:only-of-type {\n        vertical-align: middle;\n    }\n\n    .dataframe tbody tr th {\n        vertical-align: top;\n    }\n\n    .dataframe thead th {\n        text-align: right;\n    }\n</style>\n<table border=\"1\" class=\"dataframe\">\n  <thead>\n    <tr style=\"text-align: right;\">\n      <th></th>\n      <th>A</th>\n      <th>B</th>\n      <th>C</th>\n    </tr>\n  </thead>\n  <tbody>\n    <tr>\n      <th>0</th>\n      <td>False</td>\n      <td>False</td>\n      <td>True</td>\n    </tr>\n    <tr>\n      <th>1</th>\n      <td>False</td>\n      <td>False</td>\n      <td>False</td>\n    </tr>\n  </tbody>\n</table>\n</div>"
     },
     "metadata": {},
     "output_type": "display_data"
    }
   ],
   "source": [
    "# buscando valores\n",
    "display(frame.isin([3,2])) # --> mask de respuesta (valores que son 3 o 2)"
   ]
  },
  {
   "cell_type": "code",
   "execution_count": 5,
   "metadata": {
    "slideshow": {
     "slide_type": "subslide"
    },
    "ExecuteTime": {
     "end_time": "2024-03-08T10:34:41.751679Z",
     "start_time": "2024-03-08T10:34:41.739912Z"
    }
   },
   "outputs": [
    {
     "name": "stdout",
     "output_type": "stream",
     "text": [
      "0\n"
     ]
    },
    {
     "data": {
      "text/plain": "       A      B      C\n0  False  False  False\n1  False  False  False",
      "text/html": "<div>\n<style scoped>\n    .dataframe tbody tr th:only-of-type {\n        vertical-align: middle;\n    }\n\n    .dataframe tbody tr th {\n        vertical-align: top;\n    }\n\n    .dataframe thead th {\n        text-align: right;\n    }\n</style>\n<table border=\"1\" class=\"dataframe\">\n  <thead>\n    <tr style=\"text-align: right;\">\n      <th></th>\n      <th>A</th>\n      <th>B</th>\n      <th>C</th>\n    </tr>\n  </thead>\n  <tbody>\n    <tr>\n      <th>0</th>\n      <td>False</td>\n      <td>False</td>\n      <td>False</td>\n    </tr>\n    <tr>\n      <th>1</th>\n      <td>False</td>\n      <td>False</td>\n      <td>False</td>\n    </tr>\n  </tbody>\n</table>\n</div>"
     },
     "metadata": {},
     "output_type": "display_data"
    },
    {
     "data": {
      "text/plain": "numpy.ndarray"
     },
     "execution_count": 5,
     "metadata": {},
     "output_type": "execute_result"
    }
   ],
   "source": [
    "# Contar el número de ocurrencias\n",
    "print(frame.isin([4]).values.sum())\n",
    "display(frame.isin([4])) #devuelve una mask con valores true si el elemento es 4\n",
    "type(frame.isin([4]).values) # pandas es una capa alrededor de numpy"
   ]
  },
  {
   "cell_type": "code",
   "execution_count": 6,
   "metadata": {
    "slideshow": {
     "slide_type": "fragment"
    },
    "ExecuteTime": {
     "end_time": "2024-03-08T10:34:42.942660Z",
     "start_time": "2024-03-08T10:34:42.933778Z"
    }
   },
   "outputs": [
    {
     "name": "stdout",
     "output_type": "stream",
     "text": [
      "0\n"
     ]
    },
    {
     "data": {
      "text/plain": "       A      B      C\n0  False  False  False\n1  False  False  False",
      "text/html": "<div>\n<style scoped>\n    .dataframe tbody tr th:only-of-type {\n        vertical-align: middle;\n    }\n\n    .dataframe tbody tr th {\n        vertical-align: top;\n    }\n\n    .dataframe thead th {\n        text-align: right;\n    }\n</style>\n<table border=\"1\" class=\"dataframe\">\n  <thead>\n    <tr style=\"text-align: right;\">\n      <th></th>\n      <th>A</th>\n      <th>B</th>\n      <th>C</th>\n    </tr>\n  </thead>\n  <tbody>\n    <tr>\n      <th>0</th>\n      <td>False</td>\n      <td>False</td>\n      <td>False</td>\n    </tr>\n    <tr>\n      <th>1</th>\n      <td>False</td>\n      <td>False</td>\n      <td>False</td>\n    </tr>\n  </tbody>\n</table>\n</div>"
     },
     "metadata": {},
     "output_type": "display_data"
    }
   ],
   "source": [
    "# Cuántos valores son >= 4\n",
    "mask = frame >= 4\n",
    "print(mask.values.sum())\n",
    "display(mask)"
   ]
  },
  {
   "cell_type": "markdown",
   "metadata": {
    "slideshow": {
     "slide_type": "subslide"
    }
   },
   "source": [
    "#### Ordenación"
   ]
  },
  {
   "cell_type": "code",
   "execution_count": 8,
   "metadata": {
    "slideshow": {
     "slide_type": "fragment"
    },
    "ExecuteTime": {
     "end_time": "2024-03-08T10:35:07.714439Z",
     "start_time": "2024-03-08T10:35:07.704234Z"
    }
   },
   "outputs": [
    {
     "data": {
      "text/plain": "    D   A   C   B\n2  19   5  19  15\n3  17  10  19   4\n1   6  14  10  16\n0  19  10   5   5\n4   1  13  12   5",
      "text/html": "<div>\n<style scoped>\n    .dataframe tbody tr th:only-of-type {\n        vertical-align: middle;\n    }\n\n    .dataframe tbody tr th {\n        vertical-align: top;\n    }\n\n    .dataframe thead th {\n        text-align: right;\n    }\n</style>\n<table border=\"1\" class=\"dataframe\">\n  <thead>\n    <tr style=\"text-align: right;\">\n      <th></th>\n      <th>D</th>\n      <th>A</th>\n      <th>C</th>\n      <th>B</th>\n    </tr>\n  </thead>\n  <tbody>\n    <tr>\n      <th>2</th>\n      <td>19</td>\n      <td>5</td>\n      <td>19</td>\n      <td>15</td>\n    </tr>\n    <tr>\n      <th>3</th>\n      <td>17</td>\n      <td>10</td>\n      <td>19</td>\n      <td>4</td>\n    </tr>\n    <tr>\n      <th>1</th>\n      <td>6</td>\n      <td>14</td>\n      <td>10</td>\n      <td>16</td>\n    </tr>\n    <tr>\n      <th>0</th>\n      <td>19</td>\n      <td>10</td>\n      <td>5</td>\n      <td>5</td>\n    </tr>\n    <tr>\n      <th>4</th>\n      <td>1</td>\n      <td>13</td>\n      <td>12</td>\n      <td>5</td>\n    </tr>\n  </tbody>\n</table>\n</div>"
     },
     "metadata": {},
     "output_type": "display_data"
    }
   ],
   "source": [
    "from random import shuffle\n",
    "\n",
    "rand_matrix = np.random.randint(20,size=(5,4))\n",
    "\n",
    "indices = list(range(5))\n",
    "shuffle(indices) # mezcla indices\n",
    "\n",
    "frame = pd.DataFrame(rand_matrix , columns=list('DACB'),index=indices)\n",
    "display(frame)"
   ]
  },
  {
   "cell_type": "code",
   "execution_count": 9,
   "metadata": {
    "slideshow": {
     "slide_type": "subslide"
    },
    "ExecuteTime": {
     "end_time": "2024-03-08T10:35:12.290443Z",
     "start_time": "2024-03-08T10:35:12.131143Z"
    }
   },
   "outputs": [
    {
     "data": {
      "text/plain": "    D   A   C   B\n4   1  13  12   5\n3  17  10  19   4\n2  19   5  19  15\n1   6  14  10  16\n0  19  10   5   5",
      "text/html": "<div>\n<style scoped>\n    .dataframe tbody tr th:only-of-type {\n        vertical-align: middle;\n    }\n\n    .dataframe tbody tr th {\n        vertical-align: top;\n    }\n\n    .dataframe thead th {\n        text-align: right;\n    }\n</style>\n<table border=\"1\" class=\"dataframe\">\n  <thead>\n    <tr style=\"text-align: right;\">\n      <th></th>\n      <th>D</th>\n      <th>A</th>\n      <th>C</th>\n      <th>B</th>\n    </tr>\n  </thead>\n  <tbody>\n    <tr>\n      <th>4</th>\n      <td>1</td>\n      <td>13</td>\n      <td>12</td>\n      <td>5</td>\n    </tr>\n    <tr>\n      <th>3</th>\n      <td>17</td>\n      <td>10</td>\n      <td>19</td>\n      <td>4</td>\n    </tr>\n    <tr>\n      <th>2</th>\n      <td>19</td>\n      <td>5</td>\n      <td>19</td>\n      <td>15</td>\n    </tr>\n    <tr>\n      <th>1</th>\n      <td>6</td>\n      <td>14</td>\n      <td>10</td>\n      <td>16</td>\n    </tr>\n    <tr>\n      <th>0</th>\n      <td>19</td>\n      <td>10</td>\n      <td>5</td>\n      <td>5</td>\n    </tr>\n  </tbody>\n</table>\n</div>"
     },
     "metadata": {},
     "output_type": "display_data"
    }
   ],
   "source": [
    "# ordenar por índice\n",
    "display(frame.sort_index(ascending=False))"
   ]
  },
  {
   "cell_type": "code",
   "execution_count": 10,
   "metadata": {
    "slideshow": {
     "slide_type": "fragment"
    },
    "ExecuteTime": {
     "end_time": "2024-03-08T10:35:15.293482Z",
     "start_time": "2024-03-08T10:35:15.278431Z"
    }
   },
   "outputs": [
    {
     "data": {
      "text/plain": "    A   B   C   D\n2   5  15  19  19\n3  10   4  19  17\n1  14  16  10   6\n0  10   5   5  19\n4  13   5  12   1",
      "text/html": "<div>\n<style scoped>\n    .dataframe tbody tr th:only-of-type {\n        vertical-align: middle;\n    }\n\n    .dataframe tbody tr th {\n        vertical-align: top;\n    }\n\n    .dataframe thead th {\n        text-align: right;\n    }\n</style>\n<table border=\"1\" class=\"dataframe\">\n  <thead>\n    <tr style=\"text-align: right;\">\n      <th></th>\n      <th>A</th>\n      <th>B</th>\n      <th>C</th>\n      <th>D</th>\n    </tr>\n  </thead>\n  <tbody>\n    <tr>\n      <th>2</th>\n      <td>5</td>\n      <td>15</td>\n      <td>19</td>\n      <td>19</td>\n    </tr>\n    <tr>\n      <th>3</th>\n      <td>10</td>\n      <td>4</td>\n      <td>19</td>\n      <td>17</td>\n    </tr>\n    <tr>\n      <th>1</th>\n      <td>14</td>\n      <td>16</td>\n      <td>10</td>\n      <td>6</td>\n    </tr>\n    <tr>\n      <th>0</th>\n      <td>10</td>\n      <td>5</td>\n      <td>5</td>\n      <td>19</td>\n    </tr>\n    <tr>\n      <th>4</th>\n      <td>13</td>\n      <td>5</td>\n      <td>12</td>\n      <td>1</td>\n    </tr>\n  </tbody>\n</table>\n</div>"
     },
     "metadata": {},
     "output_type": "display_data"
    }
   ],
   "source": [
    "#ordenar por columna\n",
    "display(frame.sort_index(axis=1, ascending=True))"
   ]
  },
  {
   "cell_type": "code",
   "execution_count": 11,
   "metadata": {
    "slideshow": {
     "slide_type": "subslide"
    },
    "ExecuteTime": {
     "end_time": "2024-03-08T11:08:43.229802Z",
     "start_time": "2024-03-08T11:08:43.213078Z"
    }
   },
   "outputs": [
    {
     "data": {
      "text/plain": "    D   A   C   B\n1   6  14  10  16\n4   1  13  12   5\n3  17  10  19   4\n0  19  10   5   5\n2  19   5  19  15",
      "text/html": "<div>\n<style scoped>\n    .dataframe tbody tr th:only-of-type {\n        vertical-align: middle;\n    }\n\n    .dataframe tbody tr th {\n        vertical-align: top;\n    }\n\n    .dataframe thead th {\n        text-align: right;\n    }\n</style>\n<table border=\"1\" class=\"dataframe\">\n  <thead>\n    <tr style=\"text-align: right;\">\n      <th></th>\n      <th>D</th>\n      <th>A</th>\n      <th>C</th>\n      <th>B</th>\n    </tr>\n  </thead>\n  <tbody>\n    <tr>\n      <th>1</th>\n      <td>6</td>\n      <td>14</td>\n      <td>10</td>\n      <td>16</td>\n    </tr>\n    <tr>\n      <th>4</th>\n      <td>1</td>\n      <td>13</td>\n      <td>12</td>\n      <td>5</td>\n    </tr>\n    <tr>\n      <th>3</th>\n      <td>17</td>\n      <td>10</td>\n      <td>19</td>\n      <td>4</td>\n    </tr>\n    <tr>\n      <th>0</th>\n      <td>19</td>\n      <td>10</td>\n      <td>5</td>\n      <td>5</td>\n    </tr>\n    <tr>\n      <th>2</th>\n      <td>19</td>\n      <td>5</td>\n      <td>19</td>\n      <td>15</td>\n    </tr>\n  </tbody>\n</table>\n</div>"
     },
     "metadata": {},
     "output_type": "display_data"
    }
   ],
   "source": [
    "# ordenar filas por valor en columna\n",
    "display(frame.sort_values(by='A', ascending=False))"
   ]
  },
  {
   "cell_type": "code",
   "execution_count": 12,
   "metadata": {
    "ExecuteTime": {
     "end_time": "2024-03-08T11:08:52.802748Z",
     "start_time": "2024-03-08T11:08:52.789421Z"
    }
   },
   "outputs": [
    {
     "data": {
      "text/plain": "    D   A   C   B\n2  19   5  19  15\n3  17  10  19   4\n1   6  14  10  16\n0  19  10   5   5\n4   1  13  12   5",
      "text/html": "<div>\n<style scoped>\n    .dataframe tbody tr th:only-of-type {\n        vertical-align: middle;\n    }\n\n    .dataframe tbody tr th {\n        vertical-align: top;\n    }\n\n    .dataframe thead th {\n        text-align: right;\n    }\n</style>\n<table border=\"1\" class=\"dataframe\">\n  <thead>\n    <tr style=\"text-align: right;\">\n      <th></th>\n      <th>D</th>\n      <th>A</th>\n      <th>C</th>\n      <th>B</th>\n    </tr>\n  </thead>\n  <tbody>\n    <tr>\n      <th>2</th>\n      <td>19</td>\n      <td>5</td>\n      <td>19</td>\n      <td>15</td>\n    </tr>\n    <tr>\n      <th>3</th>\n      <td>17</td>\n      <td>10</td>\n      <td>19</td>\n      <td>4</td>\n    </tr>\n    <tr>\n      <th>1</th>\n      <td>6</td>\n      <td>14</td>\n      <td>10</td>\n      <td>16</td>\n    </tr>\n    <tr>\n      <th>0</th>\n      <td>19</td>\n      <td>10</td>\n      <td>5</td>\n      <td>5</td>\n    </tr>\n    <tr>\n      <th>4</th>\n      <td>1</td>\n      <td>13</td>\n      <td>12</td>\n      <td>5</td>\n    </tr>\n  </tbody>\n</table>\n</div>"
     },
     "metadata": {},
     "output_type": "display_data"
    }
   ],
   "source": [
    "# ordenar columnas por valor en fila\n",
    "display(frame.sort_values(by=0, axis=1, ascending=False))"
   ]
  },
  {
   "cell_type": "code",
   "execution_count": 13,
   "metadata": {
    "ExecuteTime": {
     "end_time": "2024-03-08T11:08:55.600532Z",
     "start_time": "2024-03-08T11:08:55.592003Z"
    }
   },
   "outputs": [
    {
     "data": {
      "text/plain": "    D   A   C   B\n1   6  14  10  16\n4   1  13  12   5\n3  17  10  19   4\n0  19  10   5   5\n2  19   5  19  15",
      "text/html": "<div>\n<style scoped>\n    .dataframe tbody tr th:only-of-type {\n        vertical-align: middle;\n    }\n\n    .dataframe tbody tr th {\n        vertical-align: top;\n    }\n\n    .dataframe thead th {\n        text-align: right;\n    }\n</style>\n<table border=\"1\" class=\"dataframe\">\n  <thead>\n    <tr style=\"text-align: right;\">\n      <th></th>\n      <th>D</th>\n      <th>A</th>\n      <th>C</th>\n      <th>B</th>\n    </tr>\n  </thead>\n  <tbody>\n    <tr>\n      <th>1</th>\n      <td>6</td>\n      <td>14</td>\n      <td>10</td>\n      <td>16</td>\n    </tr>\n    <tr>\n      <th>4</th>\n      <td>1</td>\n      <td>13</td>\n      <td>12</td>\n      <td>5</td>\n    </tr>\n    <tr>\n      <th>3</th>\n      <td>17</td>\n      <td>10</td>\n      <td>19</td>\n      <td>4</td>\n    </tr>\n    <tr>\n      <th>0</th>\n      <td>19</td>\n      <td>10</td>\n      <td>5</td>\n      <td>5</td>\n    </tr>\n    <tr>\n      <th>2</th>\n      <td>19</td>\n      <td>5</td>\n      <td>19</td>\n      <td>15</td>\n    </tr>\n  </tbody>\n</table>\n</div>"
     },
     "metadata": {},
     "output_type": "display_data"
    }
   ],
   "source": [
    "# ordenar por valor en columna y guardar cambios\n",
    "frame.sort_values(by='A', ascending=False, inplace=True)\n",
    "display(frame)"
   ]
  },
  {
   "cell_type": "markdown",
   "metadata": {
    "slideshow": {
     "slide_type": "subslide"
    }
   },
   "source": [
    "#### Ranking\n",
    "- Construir un ranking de valores"
   ]
  },
  {
   "cell_type": "code",
   "execution_count": 14,
   "metadata": {
    "slideshow": {
     "slide_type": "fragment"
    },
    "ExecuteTime": {
     "end_time": "2024-03-08T11:09:10.286835Z",
     "start_time": "2024-03-08T11:09:10.025356Z"
    }
   },
   "outputs": [
    {
     "data": {
      "text/plain": "     D    A    C    B\n1  2.0  5.0  2.0  5.0\n4  1.0  4.0  3.0  2.5\n3  3.0  2.5  4.5  1.0\n0  4.5  2.5  1.0  2.5\n2  4.5  1.0  4.5  4.0",
      "text/html": "<div>\n<style scoped>\n    .dataframe tbody tr th:only-of-type {\n        vertical-align: middle;\n    }\n\n    .dataframe tbody tr th {\n        vertical-align: top;\n    }\n\n    .dataframe thead th {\n        text-align: right;\n    }\n</style>\n<table border=\"1\" class=\"dataframe\">\n  <thead>\n    <tr style=\"text-align: right;\">\n      <th></th>\n      <th>D</th>\n      <th>A</th>\n      <th>C</th>\n      <th>B</th>\n    </tr>\n  </thead>\n  <tbody>\n    <tr>\n      <th>1</th>\n      <td>2.0</td>\n      <td>5.0</td>\n      <td>2.0</td>\n      <td>5.0</td>\n    </tr>\n    <tr>\n      <th>4</th>\n      <td>1.0</td>\n      <td>4.0</td>\n      <td>3.0</td>\n      <td>2.5</td>\n    </tr>\n    <tr>\n      <th>3</th>\n      <td>3.0</td>\n      <td>2.5</td>\n      <td>4.5</td>\n      <td>1.0</td>\n    </tr>\n    <tr>\n      <th>0</th>\n      <td>4.5</td>\n      <td>2.5</td>\n      <td>1.0</td>\n      <td>2.5</td>\n    </tr>\n    <tr>\n      <th>2</th>\n      <td>4.5</td>\n      <td>1.0</td>\n      <td>4.5</td>\n      <td>4.0</td>\n    </tr>\n  </tbody>\n</table>\n</div>"
     },
     "metadata": {},
     "output_type": "display_data"
    }
   ],
   "source": [
    "display(frame.rank(method='average'))"
   ]
  },
  {
   "cell_type": "code",
   "execution_count": 15,
   "metadata": {
    "scrolled": true,
    "slideshow": {
     "slide_type": "subslide"
    },
    "ExecuteTime": {
     "end_time": "2024-03-08T11:09:14.517023Z",
     "start_time": "2024-03-08T11:09:14.510361Z"
    }
   },
   "outputs": [
    {
     "name": "stdout",
     "output_type": "stream",
     "text": [
      "19\n",
      "19\n",
      "12\n",
      "10\n",
      "5\n"
     ]
    }
   ],
   "source": [
    "# Imprimir, uno a uno, los valores de la columna 'C' de mayor a menor\n",
    "for x in frame.sort_values(by='C', ascending=False)['C'].values:\n",
    "    print(x)"
   ]
  },
  {
   "cell_type": "markdown",
   "metadata": {
    "slideshow": {
     "slide_type": "slide"
    }
   },
   "source": [
    "# Operaciones"
   ]
  },
  {
   "cell_type": "markdown",
   "metadata": {
    "slideshow": {
     "slide_type": "fragment"
    }
   },
   "source": [
    "Operaciones matemáticas entre objetos"
   ]
  },
  {
   "cell_type": "code",
   "execution_count": 16,
   "metadata": {
    "slideshow": {
     "slide_type": "fragment"
    },
    "ExecuteTime": {
     "end_time": "2024-03-08T11:09:22.131714Z",
     "start_time": "2024-03-08T11:09:22.120214Z"
    }
   },
   "outputs": [
    {
     "data": {
      "text/plain": "    0   1   2   3\n0  46  67  82  41\n1  13  89  19  69\n2  33  35  32  15\n3  85  82  54  79",
      "text/html": "<div>\n<style scoped>\n    .dataframe tbody tr th:only-of-type {\n        vertical-align: middle;\n    }\n\n    .dataframe tbody tr th {\n        vertical-align: top;\n    }\n\n    .dataframe thead th {\n        text-align: right;\n    }\n</style>\n<table border=\"1\" class=\"dataframe\">\n  <thead>\n    <tr style=\"text-align: right;\">\n      <th></th>\n      <th>0</th>\n      <th>1</th>\n      <th>2</th>\n      <th>3</th>\n    </tr>\n  </thead>\n  <tbody>\n    <tr>\n      <th>0</th>\n      <td>46</td>\n      <td>67</td>\n      <td>82</td>\n      <td>41</td>\n    </tr>\n    <tr>\n      <th>1</th>\n      <td>13</td>\n      <td>89</td>\n      <td>19</td>\n      <td>69</td>\n    </tr>\n    <tr>\n      <th>2</th>\n      <td>33</td>\n      <td>35</td>\n      <td>32</td>\n      <td>15</td>\n    </tr>\n    <tr>\n      <th>3</th>\n      <td>85</td>\n      <td>82</td>\n      <td>54</td>\n      <td>79</td>\n    </tr>\n  </tbody>\n</table>\n</div>"
     },
     "metadata": {},
     "output_type": "display_data"
    },
    {
     "data": {
      "text/plain": "    0   1   2   3\n0  21  17  67  11\n1  64  60  28   7\n2   9  34  26  86\n3  21  47  53  20",
      "text/html": "<div>\n<style scoped>\n    .dataframe tbody tr th:only-of-type {\n        vertical-align: middle;\n    }\n\n    .dataframe tbody tr th {\n        vertical-align: top;\n    }\n\n    .dataframe thead th {\n        text-align: right;\n    }\n</style>\n<table border=\"1\" class=\"dataframe\">\n  <thead>\n    <tr style=\"text-align: right;\">\n      <th></th>\n      <th>0</th>\n      <th>1</th>\n      <th>2</th>\n      <th>3</th>\n    </tr>\n  </thead>\n  <tbody>\n    <tr>\n      <th>0</th>\n      <td>21</td>\n      <td>17</td>\n      <td>67</td>\n      <td>11</td>\n    </tr>\n    <tr>\n      <th>1</th>\n      <td>64</td>\n      <td>60</td>\n      <td>28</td>\n      <td>7</td>\n    </tr>\n    <tr>\n      <th>2</th>\n      <td>9</td>\n      <td>34</td>\n      <td>26</td>\n      <td>86</td>\n    </tr>\n    <tr>\n      <th>3</th>\n      <td>21</td>\n      <td>47</td>\n      <td>53</td>\n      <td>20</td>\n    </tr>\n  </tbody>\n</table>\n</div>"
     },
     "metadata": {},
     "output_type": "display_data"
    }
   ],
   "source": [
    "matrixA = np.random.randint(100,size=(4,4))\n",
    "matrixB = np.random.randint(100,size=(4,4))\n",
    "frameA = pd.DataFrame(matrixA)\n",
    "frameB = pd.DataFrame(matrixB)\n",
    "display(frameA)\n",
    "display(frameB)"
   ]
  },
  {
   "cell_type": "code",
   "execution_count": 17,
   "metadata": {
    "slideshow": {
     "slide_type": "fragment"
    },
    "ExecuteTime": {
     "end_time": "2024-03-08T11:09:35.111803Z",
     "start_time": "2024-03-08T11:09:35.099448Z"
    }
   },
   "outputs": [
    {
     "data": {
      "text/plain": "      0     1     2     3\n0  True  True  True  True\n1  True  True  True  True\n2  True  True  True  True\n3  True  True  True  True",
      "text/html": "<div>\n<style scoped>\n    .dataframe tbody tr th:only-of-type {\n        vertical-align: middle;\n    }\n\n    .dataframe tbody tr th {\n        vertical-align: top;\n    }\n\n    .dataframe thead th {\n        text-align: right;\n    }\n</style>\n<table border=\"1\" class=\"dataframe\">\n  <thead>\n    <tr style=\"text-align: right;\">\n      <th></th>\n      <th>0</th>\n      <th>1</th>\n      <th>2</th>\n      <th>3</th>\n    </tr>\n  </thead>\n  <tbody>\n    <tr>\n      <th>0</th>\n      <td>True</td>\n      <td>True</td>\n      <td>True</td>\n      <td>True</td>\n    </tr>\n    <tr>\n      <th>1</th>\n      <td>True</td>\n      <td>True</td>\n      <td>True</td>\n      <td>True</td>\n    </tr>\n    <tr>\n      <th>2</th>\n      <td>True</td>\n      <td>True</td>\n      <td>True</td>\n      <td>True</td>\n    </tr>\n    <tr>\n      <th>3</th>\n      <td>True</td>\n      <td>True</td>\n      <td>True</td>\n      <td>True</td>\n    </tr>\n  </tbody>\n</table>\n</div>"
     },
     "metadata": {},
     "output_type": "display_data"
    },
    {
     "data": {
      "text/plain": "     0    1    2    3\n0   67   84  149   52\n1   77  149   47   76\n2   42   69   58  101\n3  106  129  107   99",
      "text/html": "<div>\n<style scoped>\n    .dataframe tbody tr th:only-of-type {\n        vertical-align: middle;\n    }\n\n    .dataframe tbody tr th {\n        vertical-align: top;\n    }\n\n    .dataframe thead th {\n        text-align: right;\n    }\n</style>\n<table border=\"1\" class=\"dataframe\">\n  <thead>\n    <tr style=\"text-align: right;\">\n      <th></th>\n      <th>0</th>\n      <th>1</th>\n      <th>2</th>\n      <th>3</th>\n    </tr>\n  </thead>\n  <tbody>\n    <tr>\n      <th>0</th>\n      <td>67</td>\n      <td>84</td>\n      <td>149</td>\n      <td>52</td>\n    </tr>\n    <tr>\n      <th>1</th>\n      <td>77</td>\n      <td>149</td>\n      <td>47</td>\n      <td>76</td>\n    </tr>\n    <tr>\n      <th>2</th>\n      <td>42</td>\n      <td>69</td>\n      <td>58</td>\n      <td>101</td>\n    </tr>\n    <tr>\n      <th>3</th>\n      <td>106</td>\n      <td>129</td>\n      <td>107</td>\n      <td>99</td>\n    </tr>\n  </tbody>\n</table>\n</div>"
     },
     "metadata": {},
     "output_type": "display_data"
    }
   ],
   "source": [
    "# a través de métodos u operadores\n",
    "display(frameA + frameB == frameA.add(frameB))\n",
    "display(frameA + frameB)"
   ]
  },
  {
   "cell_type": "code",
   "execution_count": 18,
   "metadata": {
    "slideshow": {
     "slide_type": "fragment"
    },
    "ExecuteTime": {
     "end_time": "2024-03-08T11:09:44.680657Z",
     "start_time": "2024-03-08T11:09:44.665813Z"
    }
   },
   "outputs": [
    {
     "data": {
      "text/plain": "      0     1     2     3\n0  True  True  True  True\n1  True  True  True  True\n2  True  True  True  True\n3  True  True  True  True",
      "text/html": "<div>\n<style scoped>\n    .dataframe tbody tr th:only-of-type {\n        vertical-align: middle;\n    }\n\n    .dataframe tbody tr th {\n        vertical-align: top;\n    }\n\n    .dataframe thead th {\n        text-align: right;\n    }\n</style>\n<table border=\"1\" class=\"dataframe\">\n  <thead>\n    <tr style=\"text-align: right;\">\n      <th></th>\n      <th>0</th>\n      <th>1</th>\n      <th>2</th>\n      <th>3</th>\n    </tr>\n  </thead>\n  <tbody>\n    <tr>\n      <th>0</th>\n      <td>True</td>\n      <td>True</td>\n      <td>True</td>\n      <td>True</td>\n    </tr>\n    <tr>\n      <th>1</th>\n      <td>True</td>\n      <td>True</td>\n      <td>True</td>\n      <td>True</td>\n    </tr>\n    <tr>\n      <th>2</th>\n      <td>True</td>\n      <td>True</td>\n      <td>True</td>\n      <td>True</td>\n    </tr>\n    <tr>\n      <th>3</th>\n      <td>True</td>\n      <td>True</td>\n      <td>True</td>\n      <td>True</td>\n    </tr>\n  </tbody>\n</table>\n</div>"
     },
     "metadata": {},
     "output_type": "display_data"
    },
    {
     "data": {
      "text/plain": "    0   1   2   3\n0 -25 -50 -15 -30\n1  51 -29   9 -62\n2 -24  -1  -6  71\n3 -64 -35  -1 -59",
      "text/html": "<div>\n<style scoped>\n    .dataframe tbody tr th:only-of-type {\n        vertical-align: middle;\n    }\n\n    .dataframe tbody tr th {\n        vertical-align: top;\n    }\n\n    .dataframe thead th {\n        text-align: right;\n    }\n</style>\n<table border=\"1\" class=\"dataframe\">\n  <thead>\n    <tr style=\"text-align: right;\">\n      <th></th>\n      <th>0</th>\n      <th>1</th>\n      <th>2</th>\n      <th>3</th>\n    </tr>\n  </thead>\n  <tbody>\n    <tr>\n      <th>0</th>\n      <td>-25</td>\n      <td>-50</td>\n      <td>-15</td>\n      <td>-30</td>\n    </tr>\n    <tr>\n      <th>1</th>\n      <td>51</td>\n      <td>-29</td>\n      <td>9</td>\n      <td>-62</td>\n    </tr>\n    <tr>\n      <th>2</th>\n      <td>-24</td>\n      <td>-1</td>\n      <td>-6</td>\n      <td>71</td>\n    </tr>\n    <tr>\n      <th>3</th>\n      <td>-64</td>\n      <td>-35</td>\n      <td>-1</td>\n      <td>-59</td>\n    </tr>\n  </tbody>\n</table>\n</div>"
     },
     "metadata": {},
     "output_type": "display_data"
    }
   ],
   "source": [
    "display(frameB - frameA == frameB.sub(frameA))\n",
    "display(frameB - frameA)"
   ]
  },
  {
   "cell_type": "code",
   "execution_count": 19,
   "metadata": {
    "slideshow": {
     "slide_type": "subslide"
    },
    "ExecuteTime": {
     "end_time": "2024-03-08T11:09:47.049748Z",
     "start_time": "2024-03-08T11:09:46.965736Z"
    }
   },
   "outputs": [
    {
     "data": {
      "text/plain": "    0   1   2   3\n0  46  67  82  41\n1  13  89  19  69\n2  33  35  32  15\n3  85  82  54  79",
      "text/html": "<div>\n<style scoped>\n    .dataframe tbody tr th:only-of-type {\n        vertical-align: middle;\n    }\n\n    .dataframe tbody tr th {\n        vertical-align: top;\n    }\n\n    .dataframe thead th {\n        text-align: right;\n    }\n</style>\n<table border=\"1\" class=\"dataframe\">\n  <thead>\n    <tr style=\"text-align: right;\">\n      <th></th>\n      <th>0</th>\n      <th>1</th>\n      <th>2</th>\n      <th>3</th>\n    </tr>\n  </thead>\n  <tbody>\n    <tr>\n      <th>0</th>\n      <td>46</td>\n      <td>67</td>\n      <td>82</td>\n      <td>41</td>\n    </tr>\n    <tr>\n      <th>1</th>\n      <td>13</td>\n      <td>89</td>\n      <td>19</td>\n      <td>69</td>\n    </tr>\n    <tr>\n      <th>2</th>\n      <td>33</td>\n      <td>35</td>\n      <td>32</td>\n      <td>15</td>\n    </tr>\n    <tr>\n      <th>3</th>\n      <td>85</td>\n      <td>82</td>\n      <td>54</td>\n      <td>79</td>\n    </tr>\n  </tbody>\n</table>\n</div>"
     },
     "metadata": {},
     "output_type": "display_data"
    },
    {
     "data": {
      "text/plain": "    0   1   2\n0  42  35   3\n1   1  42  29\n2  98  66   3",
      "text/html": "<div>\n<style scoped>\n    .dataframe tbody tr th:only-of-type {\n        vertical-align: middle;\n    }\n\n    .dataframe tbody tr th {\n        vertical-align: top;\n    }\n\n    .dataframe thead th {\n        text-align: right;\n    }\n</style>\n<table border=\"1\" class=\"dataframe\">\n  <thead>\n    <tr style=\"text-align: right;\">\n      <th></th>\n      <th>0</th>\n      <th>1</th>\n      <th>2</th>\n    </tr>\n  </thead>\n  <tbody>\n    <tr>\n      <th>0</th>\n      <td>42</td>\n      <td>35</td>\n      <td>3</td>\n    </tr>\n    <tr>\n      <th>1</th>\n      <td>1</td>\n      <td>42</td>\n      <td>29</td>\n    </tr>\n    <tr>\n      <th>2</th>\n      <td>98</td>\n      <td>66</td>\n      <td>3</td>\n    </tr>\n  </tbody>\n</table>\n</div>"
     },
     "metadata": {},
     "output_type": "display_data"
    },
    {
     "data": {
      "text/plain": "       0      1     2   3\n0   88.0  102.0  85.0 NaN\n1   14.0  131.0  48.0 NaN\n2  131.0  101.0  35.0 NaN\n3    NaN    NaN   NaN NaN",
      "text/html": "<div>\n<style scoped>\n    .dataframe tbody tr th:only-of-type {\n        vertical-align: middle;\n    }\n\n    .dataframe tbody tr th {\n        vertical-align: top;\n    }\n\n    .dataframe thead th {\n        text-align: right;\n    }\n</style>\n<table border=\"1\" class=\"dataframe\">\n  <thead>\n    <tr style=\"text-align: right;\">\n      <th></th>\n      <th>0</th>\n      <th>1</th>\n      <th>2</th>\n      <th>3</th>\n    </tr>\n  </thead>\n  <tbody>\n    <tr>\n      <th>0</th>\n      <td>88.0</td>\n      <td>102.0</td>\n      <td>85.0</td>\n      <td>NaN</td>\n    </tr>\n    <tr>\n      <th>1</th>\n      <td>14.0</td>\n      <td>131.0</td>\n      <td>48.0</td>\n      <td>NaN</td>\n    </tr>\n    <tr>\n      <th>2</th>\n      <td>131.0</td>\n      <td>101.0</td>\n      <td>35.0</td>\n      <td>NaN</td>\n    </tr>\n    <tr>\n      <th>3</th>\n      <td>NaN</td>\n      <td>NaN</td>\n      <td>NaN</td>\n      <td>NaN</td>\n    </tr>\n  </tbody>\n</table>\n</div>"
     },
     "metadata": {},
     "output_type": "display_data"
    }
   ],
   "source": [
    "# si los frames no son iguales, valor por defecto NaN\n",
    "frameC = pd.DataFrame(np.random.randint(100,size=(3,3)))\n",
    "display(frameA)\n",
    "display(frameC)\n",
    "display(frameA + frameC)"
   ]
  },
  {
   "cell_type": "code",
   "execution_count": 20,
   "metadata": {
    "slideshow": {
     "slide_type": "fragment"
    },
    "ExecuteTime": {
     "end_time": "2024-03-08T11:09:55.488442Z",
     "start_time": "2024-03-08T11:09:55.476426Z"
    }
   },
   "outputs": [
    {
     "data": {
      "text/plain": "      0     1     2     3\n0   4.0  32.0  79.0  41.0\n1  12.0  47.0 -10.0  69.0\n2 -65.0 -31.0  29.0  15.0\n3  85.0  82.0  54.0  79.0",
      "text/html": "<div>\n<style scoped>\n    .dataframe tbody tr th:only-of-type {\n        vertical-align: middle;\n    }\n\n    .dataframe tbody tr th {\n        vertical-align: top;\n    }\n\n    .dataframe thead th {\n        text-align: right;\n    }\n</style>\n<table border=\"1\" class=\"dataframe\">\n  <thead>\n    <tr style=\"text-align: right;\">\n      <th></th>\n      <th>0</th>\n      <th>1</th>\n      <th>2</th>\n      <th>3</th>\n    </tr>\n  </thead>\n  <tbody>\n    <tr>\n      <th>0</th>\n      <td>4.0</td>\n      <td>32.0</td>\n      <td>79.0</td>\n      <td>41.0</td>\n    </tr>\n    <tr>\n      <th>1</th>\n      <td>12.0</td>\n      <td>47.0</td>\n      <td>-10.0</td>\n      <td>69.0</td>\n    </tr>\n    <tr>\n      <th>2</th>\n      <td>-65.0</td>\n      <td>-31.0</td>\n      <td>29.0</td>\n      <td>15.0</td>\n    </tr>\n    <tr>\n      <th>3</th>\n      <td>85.0</td>\n      <td>82.0</td>\n      <td>54.0</td>\n      <td>79.0</td>\n    </tr>\n  </tbody>\n</table>\n</div>"
     },
     "metadata": {},
     "output_type": "display_data"
    }
   ],
   "source": [
    "# se puede especificar el valor por defecto con el argumento fill_value\n",
    "display(frameA.sub(frameC,fill_value=0))"
   ]
  },
  {
   "cell_type": "markdown",
   "metadata": {
    "slideshow": {
     "slide_type": "subslide"
    }
   },
   "source": [
    "Operadores aritméticos solo válidos en elementos aceptables"
   ]
  },
  {
   "cell_type": "code",
   "execution_count": 21,
   "metadata": {
    "scrolled": true,
    "slideshow": {
     "slide_type": "fragment"
    },
    "tags": [],
    "ExecuteTime": {
     "end_time": "2024-03-08T11:10:02.410219Z",
     "start_time": "2024-03-08T11:09:59.650573Z"
    }
   },
   "outputs": [
    {
     "data": {
      "text/plain": "   0  1\n0  a  d\n1  b  f",
      "text/html": "<div>\n<style scoped>\n    .dataframe tbody tr th:only-of-type {\n        vertical-align: middle;\n    }\n\n    .dataframe tbody tr th {\n        vertical-align: top;\n    }\n\n    .dataframe thead th {\n        text-align: right;\n    }\n</style>\n<table border=\"1\" class=\"dataframe\">\n  <thead>\n    <tr style=\"text-align: right;\">\n      <th></th>\n      <th>0</th>\n      <th>1</th>\n    </tr>\n  </thead>\n  <tbody>\n    <tr>\n      <th>0</th>\n      <td>a</td>\n      <td>d</td>\n    </tr>\n    <tr>\n      <th>1</th>\n      <td>b</td>\n      <td>f</td>\n    </tr>\n  </tbody>\n</table>\n</div>"
     },
     "metadata": {},
     "output_type": "display_data"
    },
    {
     "ename": "TypeError",
     "evalue": "unsupported operand type(s) for -: 'int' and 'str'",
     "output_type": "error",
     "traceback": [
      "\u001B[1;31m---------------------------------------------------------------------------\u001B[0m",
      "\u001B[1;31mTypeError\u001B[0m                                 Traceback (most recent call last)",
      "File \u001B[1;32mE:\\Users\\Jordi\\anaconda3\\envs\\ceiadb\\Lib\\site-packages\\pandas\\core\\ops\\array_ops.py:220\u001B[0m, in \u001B[0;36m_na_arithmetic_op\u001B[1;34m(left, right, op, is_cmp)\u001B[0m\n\u001B[0;32m    219\u001B[0m \u001B[38;5;28;01mtry\u001B[39;00m:\n\u001B[1;32m--> 220\u001B[0m     result \u001B[38;5;241m=\u001B[39m func(left, right)\n\u001B[0;32m    221\u001B[0m \u001B[38;5;28;01mexcept\u001B[39;00m \u001B[38;5;167;01mTypeError\u001B[39;00m:\n",
      "File \u001B[1;32mE:\\Users\\Jordi\\anaconda3\\envs\\ceiadb\\Lib\\site-packages\\pandas\\core\\computation\\expressions.py:242\u001B[0m, in \u001B[0;36mevaluate\u001B[1;34m(op, a, b, use_numexpr)\u001B[0m\n\u001B[0;32m    240\u001B[0m     \u001B[38;5;28;01mif\u001B[39;00m use_numexpr:\n\u001B[0;32m    241\u001B[0m         \u001B[38;5;66;03m# error: \"None\" not callable\u001B[39;00m\n\u001B[1;32m--> 242\u001B[0m         \u001B[38;5;28;01mreturn\u001B[39;00m _evaluate(op, op_str, a, b)  \u001B[38;5;66;03m# type: ignore[misc]\u001B[39;00m\n\u001B[0;32m    243\u001B[0m \u001B[38;5;28;01mreturn\u001B[39;00m _evaluate_standard(op, op_str, a, b)\n",
      "File \u001B[1;32mE:\\Users\\Jordi\\anaconda3\\envs\\ceiadb\\Lib\\site-packages\\pandas\\core\\computation\\expressions.py:131\u001B[0m, in \u001B[0;36m_evaluate_numexpr\u001B[1;34m(op, op_str, a, b)\u001B[0m\n\u001B[0;32m    130\u001B[0m \u001B[38;5;28;01mif\u001B[39;00m result \u001B[38;5;129;01mis\u001B[39;00m \u001B[38;5;28;01mNone\u001B[39;00m:\n\u001B[1;32m--> 131\u001B[0m     result \u001B[38;5;241m=\u001B[39m _evaluate_standard(op, op_str, a, b)\n\u001B[0;32m    133\u001B[0m \u001B[38;5;28;01mreturn\u001B[39;00m result\n",
      "File \u001B[1;32mE:\\Users\\Jordi\\anaconda3\\envs\\ceiadb\\Lib\\site-packages\\pandas\\core\\computation\\expressions.py:73\u001B[0m, in \u001B[0;36m_evaluate_standard\u001B[1;34m(op, op_str, a, b)\u001B[0m\n\u001B[0;32m     72\u001B[0m     _store_test_result(\u001B[38;5;28;01mFalse\u001B[39;00m)\n\u001B[1;32m---> 73\u001B[0m \u001B[38;5;28;01mreturn\u001B[39;00m op(a, b)\n",
      "\u001B[1;31mTypeError\u001B[0m: unsupported operand type(s) for -: 'int' and 'str'",
      "\nDuring handling of the above exception, another exception occurred:\n",
      "\u001B[1;31mTypeError\u001B[0m                                 Traceback (most recent call last)",
      "Cell \u001B[1;32mIn[21], line 3\u001B[0m\n\u001B[0;32m      1\u001B[0m frameD \u001B[38;5;241m=\u001B[39m pd\u001B[38;5;241m.\u001B[39mDataFrame({\u001B[38;5;241m0\u001B[39m: [\u001B[38;5;124m'\u001B[39m\u001B[38;5;124ma\u001B[39m\u001B[38;5;124m'\u001B[39m,\u001B[38;5;124m'\u001B[39m\u001B[38;5;124mb\u001B[39m\u001B[38;5;124m'\u001B[39m],\u001B[38;5;241m1\u001B[39m:[\u001B[38;5;124m'\u001B[39m\u001B[38;5;124md\u001B[39m\u001B[38;5;124m'\u001B[39m,\u001B[38;5;124m'\u001B[39m\u001B[38;5;124mf\u001B[39m\u001B[38;5;124m'\u001B[39m]})\n\u001B[0;32m      2\u001B[0m display(frameD)\n\u001B[1;32m----> 3\u001B[0m frameA \u001B[38;5;241m-\u001B[39m frameD\n",
      "File \u001B[1;32mE:\\Users\\Jordi\\anaconda3\\envs\\ceiadb\\Lib\\site-packages\\pandas\\core\\ops\\common.py:76\u001B[0m, in \u001B[0;36m_unpack_zerodim_and_defer.<locals>.new_method\u001B[1;34m(self, other)\u001B[0m\n\u001B[0;32m     72\u001B[0m             \u001B[38;5;28;01mreturn\u001B[39;00m \u001B[38;5;28mNotImplemented\u001B[39m\n\u001B[0;32m     74\u001B[0m other \u001B[38;5;241m=\u001B[39m item_from_zerodim(other)\n\u001B[1;32m---> 76\u001B[0m \u001B[38;5;28;01mreturn\u001B[39;00m method(\u001B[38;5;28mself\u001B[39m, other)\n",
      "File \u001B[1;32mE:\\Users\\Jordi\\anaconda3\\envs\\ceiadb\\Lib\\site-packages\\pandas\\core\\arraylike.py:194\u001B[0m, in \u001B[0;36mOpsMixin.__sub__\u001B[1;34m(self, other)\u001B[0m\n\u001B[0;32m    192\u001B[0m \u001B[38;5;129m@unpack_zerodim_and_defer\u001B[39m(\u001B[38;5;124m\"\u001B[39m\u001B[38;5;124m__sub__\u001B[39m\u001B[38;5;124m\"\u001B[39m)\n\u001B[0;32m    193\u001B[0m \u001B[38;5;28;01mdef\u001B[39;00m \u001B[38;5;21m__sub__\u001B[39m(\u001B[38;5;28mself\u001B[39m, other):\n\u001B[1;32m--> 194\u001B[0m     \u001B[38;5;28;01mreturn\u001B[39;00m \u001B[38;5;28mself\u001B[39m\u001B[38;5;241m.\u001B[39m_arith_method(other, operator\u001B[38;5;241m.\u001B[39msub)\n",
      "File \u001B[1;32mE:\\Users\\Jordi\\anaconda3\\envs\\ceiadb\\Lib\\site-packages\\pandas\\core\\frame.py:7636\u001B[0m, in \u001B[0;36mDataFrame._arith_method\u001B[1;34m(self, other, op)\u001B[0m\n\u001B[0;32m   7634\u001B[0m \u001B[38;5;28;01mdef\u001B[39;00m \u001B[38;5;21m_arith_method\u001B[39m(\u001B[38;5;28mself\u001B[39m, other, op):\n\u001B[0;32m   7635\u001B[0m     \u001B[38;5;28;01mif\u001B[39;00m \u001B[38;5;28mself\u001B[39m\u001B[38;5;241m.\u001B[39m_should_reindex_frame_op(other, op, \u001B[38;5;241m1\u001B[39m, \u001B[38;5;28;01mNone\u001B[39;00m, \u001B[38;5;28;01mNone\u001B[39;00m):\n\u001B[1;32m-> 7636\u001B[0m         \u001B[38;5;28;01mreturn\u001B[39;00m \u001B[38;5;28mself\u001B[39m\u001B[38;5;241m.\u001B[39m_arith_method_with_reindex(other, op)\n\u001B[0;32m   7638\u001B[0m     axis: Literal[\u001B[38;5;241m1\u001B[39m] \u001B[38;5;241m=\u001B[39m \u001B[38;5;241m1\u001B[39m  \u001B[38;5;66;03m# only relevant for Series other case\u001B[39;00m\n\u001B[0;32m   7639\u001B[0m     other \u001B[38;5;241m=\u001B[39m ops\u001B[38;5;241m.\u001B[39mmaybe_prepare_scalar_for_op(other, (\u001B[38;5;28mself\u001B[39m\u001B[38;5;241m.\u001B[39mshape[axis],))\n",
      "File \u001B[1;32mE:\\Users\\Jordi\\anaconda3\\envs\\ceiadb\\Lib\\site-packages\\pandas\\core\\frame.py:7768\u001B[0m, in \u001B[0;36mDataFrame._arith_method_with_reindex\u001B[1;34m(self, right, op)\u001B[0m\n\u001B[0;32m   7766\u001B[0m new_left \u001B[38;5;241m=\u001B[39m left\u001B[38;5;241m.\u001B[39miloc[:, lcols]\n\u001B[0;32m   7767\u001B[0m new_right \u001B[38;5;241m=\u001B[39m right\u001B[38;5;241m.\u001B[39miloc[:, rcols]\n\u001B[1;32m-> 7768\u001B[0m result \u001B[38;5;241m=\u001B[39m op(new_left, new_right)\n\u001B[0;32m   7770\u001B[0m \u001B[38;5;66;03m# Do the join on the columns instead of using left._align_for_op\u001B[39;00m\n\u001B[0;32m   7771\u001B[0m \u001B[38;5;66;03m#  to avoid constructing two potentially large/sparse DataFrames\u001B[39;00m\n\u001B[0;32m   7772\u001B[0m join_columns, _, _ \u001B[38;5;241m=\u001B[39m left\u001B[38;5;241m.\u001B[39mcolumns\u001B[38;5;241m.\u001B[39mjoin(\n\u001B[0;32m   7773\u001B[0m     right\u001B[38;5;241m.\u001B[39mcolumns, how\u001B[38;5;241m=\u001B[39m\u001B[38;5;124m\"\u001B[39m\u001B[38;5;124mouter\u001B[39m\u001B[38;5;124m\"\u001B[39m, level\u001B[38;5;241m=\u001B[39m\u001B[38;5;28;01mNone\u001B[39;00m, return_indexers\u001B[38;5;241m=\u001B[39m\u001B[38;5;28;01mTrue\u001B[39;00m\n\u001B[0;32m   7774\u001B[0m )\n",
      "File \u001B[1;32mE:\\Users\\Jordi\\anaconda3\\envs\\ceiadb\\Lib\\site-packages\\pandas\\core\\ops\\common.py:76\u001B[0m, in \u001B[0;36m_unpack_zerodim_and_defer.<locals>.new_method\u001B[1;34m(self, other)\u001B[0m\n\u001B[0;32m     72\u001B[0m             \u001B[38;5;28;01mreturn\u001B[39;00m \u001B[38;5;28mNotImplemented\u001B[39m\n\u001B[0;32m     74\u001B[0m other \u001B[38;5;241m=\u001B[39m item_from_zerodim(other)\n\u001B[1;32m---> 76\u001B[0m \u001B[38;5;28;01mreturn\u001B[39;00m method(\u001B[38;5;28mself\u001B[39m, other)\n",
      "File \u001B[1;32mE:\\Users\\Jordi\\anaconda3\\envs\\ceiadb\\Lib\\site-packages\\pandas\\core\\arraylike.py:194\u001B[0m, in \u001B[0;36mOpsMixin.__sub__\u001B[1;34m(self, other)\u001B[0m\n\u001B[0;32m    192\u001B[0m \u001B[38;5;129m@unpack_zerodim_and_defer\u001B[39m(\u001B[38;5;124m\"\u001B[39m\u001B[38;5;124m__sub__\u001B[39m\u001B[38;5;124m\"\u001B[39m)\n\u001B[0;32m    193\u001B[0m \u001B[38;5;28;01mdef\u001B[39;00m \u001B[38;5;21m__sub__\u001B[39m(\u001B[38;5;28mself\u001B[39m, other):\n\u001B[1;32m--> 194\u001B[0m     \u001B[38;5;28;01mreturn\u001B[39;00m \u001B[38;5;28mself\u001B[39m\u001B[38;5;241m.\u001B[39m_arith_method(other, operator\u001B[38;5;241m.\u001B[39msub)\n",
      "File \u001B[1;32mE:\\Users\\Jordi\\anaconda3\\envs\\ceiadb\\Lib\\site-packages\\pandas\\core\\frame.py:7644\u001B[0m, in \u001B[0;36mDataFrame._arith_method\u001B[1;34m(self, other, op)\u001B[0m\n\u001B[0;32m   7641\u001B[0m \u001B[38;5;28mself\u001B[39m, other \u001B[38;5;241m=\u001B[39m \u001B[38;5;28mself\u001B[39m\u001B[38;5;241m.\u001B[39m_align_for_op(other, axis, flex\u001B[38;5;241m=\u001B[39m\u001B[38;5;28;01mTrue\u001B[39;00m, level\u001B[38;5;241m=\u001B[39m\u001B[38;5;28;01mNone\u001B[39;00m)\n\u001B[0;32m   7643\u001B[0m \u001B[38;5;28;01mwith\u001B[39;00m np\u001B[38;5;241m.\u001B[39merrstate(\u001B[38;5;28mall\u001B[39m\u001B[38;5;241m=\u001B[39m\u001B[38;5;124m\"\u001B[39m\u001B[38;5;124mignore\u001B[39m\u001B[38;5;124m\"\u001B[39m):\n\u001B[1;32m-> 7644\u001B[0m     new_data \u001B[38;5;241m=\u001B[39m \u001B[38;5;28mself\u001B[39m\u001B[38;5;241m.\u001B[39m_dispatch_frame_op(other, op, axis\u001B[38;5;241m=\u001B[39maxis)\n\u001B[0;32m   7645\u001B[0m \u001B[38;5;28;01mreturn\u001B[39;00m \u001B[38;5;28mself\u001B[39m\u001B[38;5;241m.\u001B[39m_construct_result(new_data)\n",
      "File \u001B[1;32mE:\\Users\\Jordi\\anaconda3\\envs\\ceiadb\\Lib\\site-packages\\pandas\\core\\frame.py:7687\u001B[0m, in \u001B[0;36mDataFrame._dispatch_frame_op\u001B[1;34m(self, right, func, axis)\u001B[0m\n\u001B[0;32m   7681\u001B[0m     \u001B[38;5;28;01massert\u001B[39;00m \u001B[38;5;28mself\u001B[39m\u001B[38;5;241m.\u001B[39mcolumns\u001B[38;5;241m.\u001B[39mequals(right\u001B[38;5;241m.\u001B[39mcolumns)\n\u001B[0;32m   7682\u001B[0m     \u001B[38;5;66;03m# TODO: The previous assertion `assert right._indexed_same(self)`\u001B[39;00m\n\u001B[0;32m   7683\u001B[0m     \u001B[38;5;66;03m#  fails in cases with empty columns reached via\u001B[39;00m\n\u001B[0;32m   7684\u001B[0m     \u001B[38;5;66;03m#  _frame_arith_method_with_reindex\u001B[39;00m\n\u001B[0;32m   7685\u001B[0m \n\u001B[0;32m   7686\u001B[0m     \u001B[38;5;66;03m# TODO operate_blockwise expects a manager of the same type\u001B[39;00m\n\u001B[1;32m-> 7687\u001B[0m     bm \u001B[38;5;241m=\u001B[39m \u001B[38;5;28mself\u001B[39m\u001B[38;5;241m.\u001B[39m_mgr\u001B[38;5;241m.\u001B[39moperate_blockwise(\n\u001B[0;32m   7688\u001B[0m         \u001B[38;5;66;03m# error: Argument 1 to \"operate_blockwise\" of \"ArrayManager\" has\u001B[39;00m\n\u001B[0;32m   7689\u001B[0m         \u001B[38;5;66;03m# incompatible type \"Union[ArrayManager, BlockManager]\"; expected\u001B[39;00m\n\u001B[0;32m   7690\u001B[0m         \u001B[38;5;66;03m# \"ArrayManager\"\u001B[39;00m\n\u001B[0;32m   7691\u001B[0m         \u001B[38;5;66;03m# error: Argument 1 to \"operate_blockwise\" of \"BlockManager\" has\u001B[39;00m\n\u001B[0;32m   7692\u001B[0m         \u001B[38;5;66;03m# incompatible type \"Union[ArrayManager, BlockManager]\"; expected\u001B[39;00m\n\u001B[0;32m   7693\u001B[0m         \u001B[38;5;66;03m# \"BlockManager\"\u001B[39;00m\n\u001B[0;32m   7694\u001B[0m         right\u001B[38;5;241m.\u001B[39m_mgr,  \u001B[38;5;66;03m# type: ignore[arg-type]\u001B[39;00m\n\u001B[0;32m   7695\u001B[0m         array_op,\n\u001B[0;32m   7696\u001B[0m     )\n\u001B[0;32m   7697\u001B[0m     \u001B[38;5;28;01mreturn\u001B[39;00m \u001B[38;5;28mself\u001B[39m\u001B[38;5;241m.\u001B[39m_constructor_from_mgr(bm, axes\u001B[38;5;241m=\u001B[39mbm\u001B[38;5;241m.\u001B[39maxes)\n\u001B[0;32m   7699\u001B[0m \u001B[38;5;28;01melif\u001B[39;00m \u001B[38;5;28misinstance\u001B[39m(right, Series) \u001B[38;5;129;01mand\u001B[39;00m axis \u001B[38;5;241m==\u001B[39m \u001B[38;5;241m1\u001B[39m:\n\u001B[0;32m   7700\u001B[0m     \u001B[38;5;66;03m# axis=1 means we want to operate row-by-row\u001B[39;00m\n",
      "File \u001B[1;32mE:\\Users\\Jordi\\anaconda3\\envs\\ceiadb\\Lib\\site-packages\\pandas\\core\\internals\\managers.py:1470\u001B[0m, in \u001B[0;36mBlockManager.operate_blockwise\u001B[1;34m(self, other, array_op)\u001B[0m\n\u001B[0;32m   1466\u001B[0m \u001B[38;5;28;01mdef\u001B[39;00m \u001B[38;5;21moperate_blockwise\u001B[39m(\u001B[38;5;28mself\u001B[39m, other: BlockManager, array_op) \u001B[38;5;241m-\u001B[39m\u001B[38;5;241m>\u001B[39m BlockManager:\n\u001B[0;32m   1467\u001B[0m \u001B[38;5;250m    \u001B[39m\u001B[38;5;124;03m\"\"\"\u001B[39;00m\n\u001B[0;32m   1468\u001B[0m \u001B[38;5;124;03m    Apply array_op blockwise with another (aligned) BlockManager.\u001B[39;00m\n\u001B[0;32m   1469\u001B[0m \u001B[38;5;124;03m    \"\"\"\u001B[39;00m\n\u001B[1;32m-> 1470\u001B[0m     \u001B[38;5;28;01mreturn\u001B[39;00m operate_blockwise(\u001B[38;5;28mself\u001B[39m, other, array_op)\n",
      "File \u001B[1;32mE:\\Users\\Jordi\\anaconda3\\envs\\ceiadb\\Lib\\site-packages\\pandas\\core\\internals\\ops.py:65\u001B[0m, in \u001B[0;36moperate_blockwise\u001B[1;34m(left, right, array_op)\u001B[0m\n\u001B[0;32m     63\u001B[0m res_blks: \u001B[38;5;28mlist\u001B[39m[Block] \u001B[38;5;241m=\u001B[39m []\n\u001B[0;32m     64\u001B[0m \u001B[38;5;28;01mfor\u001B[39;00m lvals, rvals, locs, left_ea, right_ea, rblk \u001B[38;5;129;01min\u001B[39;00m _iter_block_pairs(left, right):\n\u001B[1;32m---> 65\u001B[0m     res_values \u001B[38;5;241m=\u001B[39m array_op(lvals, rvals)\n\u001B[0;32m     66\u001B[0m     \u001B[38;5;28;01mif\u001B[39;00m (\n\u001B[0;32m     67\u001B[0m         left_ea\n\u001B[0;32m     68\u001B[0m         \u001B[38;5;129;01mand\u001B[39;00m \u001B[38;5;129;01mnot\u001B[39;00m right_ea\n\u001B[0;32m     69\u001B[0m         \u001B[38;5;129;01mand\u001B[39;00m \u001B[38;5;28mhasattr\u001B[39m(res_values, \u001B[38;5;124m\"\u001B[39m\u001B[38;5;124mreshape\u001B[39m\u001B[38;5;124m\"\u001B[39m)\n\u001B[0;32m     70\u001B[0m         \u001B[38;5;129;01mand\u001B[39;00m \u001B[38;5;129;01mnot\u001B[39;00m is_1d_only_ea_dtype(res_values\u001B[38;5;241m.\u001B[39mdtype)\n\u001B[0;32m     71\u001B[0m     ):\n\u001B[0;32m     72\u001B[0m         res_values \u001B[38;5;241m=\u001B[39m res_values\u001B[38;5;241m.\u001B[39mreshape(\u001B[38;5;241m1\u001B[39m, \u001B[38;5;241m-\u001B[39m\u001B[38;5;241m1\u001B[39m)\n",
      "File \u001B[1;32mE:\\Users\\Jordi\\anaconda3\\envs\\ceiadb\\Lib\\site-packages\\pandas\\core\\ops\\array_ops.py:285\u001B[0m, in \u001B[0;36marithmetic_op\u001B[1;34m(left, right, op)\u001B[0m\n\u001B[0;32m    281\u001B[0m     _bool_arith_check(op, left, right)  \u001B[38;5;66;03m# type: ignore[arg-type]\u001B[39;00m\n\u001B[0;32m    283\u001B[0m     \u001B[38;5;66;03m# error: Argument 1 to \"_na_arithmetic_op\" has incompatible type\u001B[39;00m\n\u001B[0;32m    284\u001B[0m     \u001B[38;5;66;03m# \"Union[ExtensionArray, ndarray[Any, Any]]\"; expected \"ndarray[Any, Any]\"\u001B[39;00m\n\u001B[1;32m--> 285\u001B[0m     res_values \u001B[38;5;241m=\u001B[39m _na_arithmetic_op(left, right, op)  \u001B[38;5;66;03m# type: ignore[arg-type]\u001B[39;00m\n\u001B[0;32m    287\u001B[0m \u001B[38;5;28;01mreturn\u001B[39;00m res_values\n",
      "File \u001B[1;32mE:\\Users\\Jordi\\anaconda3\\envs\\ceiadb\\Lib\\site-packages\\pandas\\core\\ops\\array_ops.py:229\u001B[0m, in \u001B[0;36m_na_arithmetic_op\u001B[1;34m(left, right, op, is_cmp)\u001B[0m\n\u001B[0;32m    221\u001B[0m \u001B[38;5;28;01mexcept\u001B[39;00m \u001B[38;5;167;01mTypeError\u001B[39;00m:\n\u001B[0;32m    222\u001B[0m     \u001B[38;5;28;01mif\u001B[39;00m \u001B[38;5;129;01mnot\u001B[39;00m is_cmp \u001B[38;5;129;01mand\u001B[39;00m (\n\u001B[0;32m    223\u001B[0m         left\u001B[38;5;241m.\u001B[39mdtype \u001B[38;5;241m==\u001B[39m \u001B[38;5;28mobject\u001B[39m \u001B[38;5;129;01mor\u001B[39;00m \u001B[38;5;28mgetattr\u001B[39m(right, \u001B[38;5;124m\"\u001B[39m\u001B[38;5;124mdtype\u001B[39m\u001B[38;5;124m\"\u001B[39m, \u001B[38;5;28;01mNone\u001B[39;00m) \u001B[38;5;241m==\u001B[39m \u001B[38;5;28mobject\u001B[39m\n\u001B[0;32m    224\u001B[0m     ):\n\u001B[1;32m   (...)\u001B[0m\n\u001B[0;32m    227\u001B[0m         \u001B[38;5;66;03m# Don't do this for comparisons, as that will handle complex numbers\u001B[39;00m\n\u001B[0;32m    228\u001B[0m         \u001B[38;5;66;03m#  incorrectly, see GH#32047\u001B[39;00m\n\u001B[1;32m--> 229\u001B[0m         result \u001B[38;5;241m=\u001B[39m _masked_arith_op(left, right, op)\n\u001B[0;32m    230\u001B[0m     \u001B[38;5;28;01melse\u001B[39;00m:\n\u001B[0;32m    231\u001B[0m         \u001B[38;5;28;01mraise\u001B[39;00m\n",
      "File \u001B[1;32mE:\\Users\\Jordi\\anaconda3\\envs\\ceiadb\\Lib\\site-packages\\pandas\\core\\ops\\array_ops.py:165\u001B[0m, in \u001B[0;36m_masked_arith_op\u001B[1;34m(x, y, op)\u001B[0m\n\u001B[0;32m    163\u001B[0m     \u001B[38;5;66;03m# See GH#5284, GH#5035, GH#19448 for historical reference\u001B[39;00m\n\u001B[0;32m    164\u001B[0m     \u001B[38;5;28;01mif\u001B[39;00m mask\u001B[38;5;241m.\u001B[39many():\n\u001B[1;32m--> 165\u001B[0m         result[mask] \u001B[38;5;241m=\u001B[39m op(xrav[mask], yrav[mask])\n\u001B[0;32m    167\u001B[0m \u001B[38;5;28;01melse\u001B[39;00m:\n\u001B[0;32m    168\u001B[0m     \u001B[38;5;28;01mif\u001B[39;00m \u001B[38;5;129;01mnot\u001B[39;00m is_scalar(y):\n",
      "\u001B[1;31mTypeError\u001B[0m: unsupported operand type(s) for -: 'int' and 'str'"
     ]
    }
   ],
   "source": [
    "frameD = pd.DataFrame({0: ['a','b'],1:['d','f']})\n",
    "display(frameD)\n",
    "frameA - frameD"
   ]
  },
  {
   "cell_type": "markdown",
   "metadata": {
    "slideshow": {
     "slide_type": "subslide"
    }
   },
   "source": [
    "Operaciones entre Series y DataFrames"
   ]
  },
  {
   "cell_type": "code",
   "execution_count": 22,
   "metadata": {
    "slideshow": {
     "slide_type": "fragment"
    },
    "ExecuteTime": {
     "end_time": "2024-03-08T11:10:32.700122Z",
     "start_time": "2024-03-08T11:10:32.665597Z"
    }
   },
   "outputs": [
    {
     "data": {
      "text/plain": "   A  B  C  D\n0  0  2  1  3\n1  3  1  6  1\n2  5  5  0  1",
      "text/html": "<div>\n<style scoped>\n    .dataframe tbody tr th:only-of-type {\n        vertical-align: middle;\n    }\n\n    .dataframe tbody tr th {\n        vertical-align: top;\n    }\n\n    .dataframe thead th {\n        text-align: right;\n    }\n</style>\n<table border=\"1\" class=\"dataframe\">\n  <thead>\n    <tr style=\"text-align: right;\">\n      <th></th>\n      <th>A</th>\n      <th>B</th>\n      <th>C</th>\n      <th>D</th>\n    </tr>\n  </thead>\n  <tbody>\n    <tr>\n      <th>0</th>\n      <td>0</td>\n      <td>2</td>\n      <td>1</td>\n      <td>3</td>\n    </tr>\n    <tr>\n      <th>1</th>\n      <td>3</td>\n      <td>1</td>\n      <td>6</td>\n      <td>1</td>\n    </tr>\n    <tr>\n      <th>2</th>\n      <td>5</td>\n      <td>5</td>\n      <td>0</td>\n      <td>1</td>\n    </tr>\n  </tbody>\n</table>\n</div>"
     },
     "metadata": {},
     "output_type": "display_data"
    },
    {
     "data": {
      "text/plain": "pandas.core.series.Series"
     },
     "metadata": {},
     "output_type": "display_data"
    },
    {
     "data": {
      "text/plain": "   A  B  C  D\n0  0  0  0  0\n1  3 -1  5 -2\n2  5  3 -1 -2",
      "text/html": "<div>\n<style scoped>\n    .dataframe tbody tr th:only-of-type {\n        vertical-align: middle;\n    }\n\n    .dataframe tbody tr th {\n        vertical-align: top;\n    }\n\n    .dataframe thead th {\n        text-align: right;\n    }\n</style>\n<table border=\"1\" class=\"dataframe\">\n  <thead>\n    <tr style=\"text-align: right;\">\n      <th></th>\n      <th>A</th>\n      <th>B</th>\n      <th>C</th>\n      <th>D</th>\n    </tr>\n  </thead>\n  <tbody>\n    <tr>\n      <th>0</th>\n      <td>0</td>\n      <td>0</td>\n      <td>0</td>\n      <td>0</td>\n    </tr>\n    <tr>\n      <th>1</th>\n      <td>3</td>\n      <td>-1</td>\n      <td>5</td>\n      <td>-2</td>\n    </tr>\n    <tr>\n      <th>2</th>\n      <td>5</td>\n      <td>3</td>\n      <td>-1</td>\n      <td>-2</td>\n    </tr>\n  </tbody>\n</table>\n</div>"
     },
     "metadata": {},
     "output_type": "display_data"
    },
    {
     "data": {
      "text/plain": "   A  B  C  D\n0  0  2  1  3\n1  0 -2  3 -2\n2  0  0 -5 -4",
      "text/html": "<div>\n<style scoped>\n    .dataframe tbody tr th:only-of-type {\n        vertical-align: middle;\n    }\n\n    .dataframe tbody tr th {\n        vertical-align: top;\n    }\n\n    .dataframe thead th {\n        text-align: right;\n    }\n</style>\n<table border=\"1\" class=\"dataframe\">\n  <thead>\n    <tr style=\"text-align: right;\">\n      <th></th>\n      <th>A</th>\n      <th>B</th>\n      <th>C</th>\n      <th>D</th>\n    </tr>\n  </thead>\n  <tbody>\n    <tr>\n      <th>0</th>\n      <td>0</td>\n      <td>2</td>\n      <td>1</td>\n      <td>3</td>\n    </tr>\n    <tr>\n      <th>1</th>\n      <td>0</td>\n      <td>-2</td>\n      <td>3</td>\n      <td>-2</td>\n    </tr>\n    <tr>\n      <th>2</th>\n      <td>0</td>\n      <td>0</td>\n      <td>-5</td>\n      <td>-4</td>\n    </tr>\n  </tbody>\n</table>\n</div>"
     },
     "metadata": {},
     "output_type": "display_data"
    }
   ],
   "source": [
    "rand_matrix = np.random.randint(10, size=(3, 4))\n",
    "df = pd.DataFrame(rand_matrix , columns=list('ABCD'))\n",
    "display(df)\n",
    "display(type(df.iloc[0]))\n",
    "# uso común, averiguar la diferencia entre una fila y el resto\n",
    "display(df - df.iloc[0])\n",
    "# # Por columnas cómo se restaría\n",
    "display(df.sub(df['A'], axis=0))"
   ]
  },
  {
   "cell_type": "markdown",
   "metadata": {
    "slideshow": {
     "slide_type": "subslide"
    }
   },
   "source": [
    "pandas se basa en NumPy, np operadores binarios y unarios son aceptables \n",
    "\n",
    "| Tipo | Operación | Descripción |\n",
    "|:---------|:-----|:-----|\n",
    "| Unario | *abs* | Valor absoluto de cada elemento |\n",
    "| | *sqrt* | Raíz cuadrada de cada elemento |\n",
    "| | *exp* | e^x, siendo x cad elemento |\n",
    "| | *log, log10, log2* | Logaritmos en distintas bases de cada elemento |\n",
    "| | *sign* | Retorna el signo de cada elemento (-1 para negativo, 0 o 1 para positivo) |\n",
    "| | *ceil* | Redondea cada elemento por arriba |\n",
    "| | *floor* | Redondea cada elemento por abajo |\n",
    "| | *isnan* | Retorna si cada elemento es Nan |\n",
    "| | *cos, sin, tan* | Operaciones trigonométricas en cada elemento |\n",
    "| | *arccos, arcsin, arctan* | Inversas de operaciones trigonométricas en cada elemento |\n",
    "| Binario | *add* | Suma de dos arrays |\n",
    "| | *substract* | Resta de dos arrays |\n",
    "| | *multiply* | Multiplicación de dos arrays |\n",
    "| | *divide* | División de dos arrays |\n",
    "| | *maximum, minimum* | Retorna el valor máximo/mínimo de cada pareja de elementos |\n",
    "| | *equal, not_equal* | Retorna la comparación (igual o no igual) de cada pareja de elementos |\n",
    "| | *greater, greater_equal, less, less_equal* | Retorna la comparación (>, >=, <, <= respectivamente) de cada pareja de elementos |"
   ]
  },
  {
   "cell_type": "markdown",
   "metadata": {
    "slideshow": {
     "slide_type": "subslide"
    }
   },
   "source": [
    "Aplicación de funciones a medida con lambda"
   ]
  },
  {
   "cell_type": "code",
   "execution_count": 23,
   "metadata": {
    "slideshow": {
     "slide_type": "fragment"
    },
    "ExecuteTime": {
     "end_time": "2024-03-08T11:10:52.227262Z",
     "start_time": "2024-03-08T11:10:52.199048Z"
    }
   },
   "outputs": [
    {
     "data": {
      "text/plain": "   A  B  C  D\n0  9  3  1  8\n1  9  2  9  0\n2  5  5  9  9",
      "text/html": "<div>\n<style scoped>\n    .dataframe tbody tr th:only-of-type {\n        vertical-align: middle;\n    }\n\n    .dataframe tbody tr th {\n        vertical-align: top;\n    }\n\n    .dataframe thead th {\n        text-align: right;\n    }\n</style>\n<table border=\"1\" class=\"dataframe\">\n  <thead>\n    <tr style=\"text-align: right;\">\n      <th></th>\n      <th>A</th>\n      <th>B</th>\n      <th>C</th>\n      <th>D</th>\n    </tr>\n  </thead>\n  <tbody>\n    <tr>\n      <th>0</th>\n      <td>9</td>\n      <td>3</td>\n      <td>1</td>\n      <td>8</td>\n    </tr>\n    <tr>\n      <th>1</th>\n      <td>9</td>\n      <td>2</td>\n      <td>9</td>\n      <td>0</td>\n    </tr>\n    <tr>\n      <th>2</th>\n      <td>5</td>\n      <td>5</td>\n      <td>9</td>\n      <td>9</td>\n    </tr>\n  </tbody>\n</table>\n</div>"
     },
     "metadata": {},
     "output_type": "display_data"
    },
    {
     "name": "stdout",
     "output_type": "stream",
     "text": [
      "A    4\n",
      "B    3\n",
      "C    8\n",
      "D    9\n",
      "dtype: int64\n"
     ]
    }
   ],
   "source": [
    "rand_matrix = np.random.randint(10, size=(3, 4))\n",
    "frame = pd.DataFrame(rand_matrix , columns=list('ABCD'))\n",
    "display(frame)\n",
    "print(frame.apply(lambda x : x.max() - x.min())) # diferencia por columna"
   ]
  },
  {
   "cell_type": "code",
   "execution_count": 24,
   "metadata": {
    "slideshow": {
     "slide_type": "fragment"
    },
    "ExecuteTime": {
     "end_time": "2024-03-08T11:10:59.528168Z",
     "start_time": "2024-03-08T11:10:59.519092Z"
    }
   },
   "outputs": [
    {
     "data": {
      "text/plain": "   A  B  C  D\n0  9  8  0  7\n1  7  4  7  3\n2  5  0  9  6",
      "text/html": "<div>\n<style scoped>\n    .dataframe tbody tr th:only-of-type {\n        vertical-align: middle;\n    }\n\n    .dataframe tbody tr th {\n        vertical-align: top;\n    }\n\n    .dataframe thead th {\n        text-align: right;\n    }\n</style>\n<table border=\"1\" class=\"dataframe\">\n  <thead>\n    <tr style=\"text-align: right;\">\n      <th></th>\n      <th>A</th>\n      <th>B</th>\n      <th>C</th>\n      <th>D</th>\n    </tr>\n  </thead>\n  <tbody>\n    <tr>\n      <th>0</th>\n      <td>9</td>\n      <td>8</td>\n      <td>0</td>\n      <td>7</td>\n    </tr>\n    <tr>\n      <th>1</th>\n      <td>7</td>\n      <td>4</td>\n      <td>7</td>\n      <td>3</td>\n    </tr>\n    <tr>\n      <th>2</th>\n      <td>5</td>\n      <td>0</td>\n      <td>9</td>\n      <td>6</td>\n    </tr>\n  </tbody>\n</table>\n</div>"
     },
     "metadata": {},
     "output_type": "display_data"
    },
    {
     "name": "stdout",
     "output_type": "stream",
     "text": [
      "0    9\n",
      "1    4\n",
      "2    9\n",
      "dtype: int64\n"
     ]
    }
   ],
   "source": [
    "# diferencia entre min y max por fila (no columna)\n",
    "rand_matrix = np.random.randint(10, size=(3, 4))\n",
    "frame = pd.DataFrame(rand_matrix , columns=list('ABCD'))\n",
    "display(frame)\n",
    "print(frame.apply(lambda x : x.max() - x.min(), axis = 1)) # diferencia por fila"
   ]
  },
  {
   "cell_type": "markdown",
   "metadata": {
    "slideshow": {
     "slide_type": "slide"
    }
   },
   "source": [
    "# Estadística descriptiva\n",
    "- Análisis preliminar de los datos\n",
    "- Para Series y DataFrame"
   ]
  },
  {
   "cell_type": "code",
   "execution_count": 25,
   "metadata": {
    "slideshow": {
     "slide_type": "fragment"
    },
    "ExecuteTime": {
     "end_time": "2024-03-08T11:11:13.637754Z",
     "start_time": "2024-03-08T11:11:13.360684Z"
    }
   },
   "outputs": [
    {
     "data": {
      "text/plain": "   nombre  edad  puntos genero\n0  Marisa    34      98      F\n1   Laura    34      12      F\n2  Manuel    11      98      M\n3  Carlos    30      40      M",
      "text/html": "<div>\n<style scoped>\n    .dataframe tbody tr th:only-of-type {\n        vertical-align: middle;\n    }\n\n    .dataframe tbody tr th {\n        vertical-align: top;\n    }\n\n    .dataframe thead th {\n        text-align: right;\n    }\n</style>\n<table border=\"1\" class=\"dataframe\">\n  <thead>\n    <tr style=\"text-align: right;\">\n      <th></th>\n      <th>nombre</th>\n      <th>edad</th>\n      <th>puntos</th>\n      <th>genero</th>\n    </tr>\n  </thead>\n  <tbody>\n    <tr>\n      <th>0</th>\n      <td>Marisa</td>\n      <td>34</td>\n      <td>98</td>\n      <td>F</td>\n    </tr>\n    <tr>\n      <th>1</th>\n      <td>Laura</td>\n      <td>34</td>\n      <td>12</td>\n      <td>F</td>\n    </tr>\n    <tr>\n      <th>2</th>\n      <td>Manuel</td>\n      <td>11</td>\n      <td>98</td>\n      <td>M</td>\n    </tr>\n    <tr>\n      <th>3</th>\n      <td>Carlos</td>\n      <td>30</td>\n      <td>40</td>\n      <td>M</td>\n    </tr>\n  </tbody>\n</table>\n</div>"
     },
     "metadata": {},
     "output_type": "display_data"
    },
    {
     "data": {
      "text/plain": "        nombre       edad     puntos genero\ncount        4   4.000000   4.000000      4\nunique       4        NaN        NaN      2\ntop     Marisa        NaN        NaN      F\nfreq         1        NaN        NaN      2\nmean       NaN  27.250000  62.000000    NaN\nstd        NaN  10.996211  43.112257    NaN\nmin        NaN  11.000000  12.000000    NaN\n25%        NaN  25.250000  33.000000    NaN\n50%        NaN  32.000000  69.000000    NaN\n75%        NaN  34.000000  98.000000    NaN\nmax        NaN  34.000000  98.000000    NaN",
      "text/html": "<div>\n<style scoped>\n    .dataframe tbody tr th:only-of-type {\n        vertical-align: middle;\n    }\n\n    .dataframe tbody tr th {\n        vertical-align: top;\n    }\n\n    .dataframe thead th {\n        text-align: right;\n    }\n</style>\n<table border=\"1\" class=\"dataframe\">\n  <thead>\n    <tr style=\"text-align: right;\">\n      <th></th>\n      <th>nombre</th>\n      <th>edad</th>\n      <th>puntos</th>\n      <th>genero</th>\n    </tr>\n  </thead>\n  <tbody>\n    <tr>\n      <th>count</th>\n      <td>4</td>\n      <td>4.000000</td>\n      <td>4.000000</td>\n      <td>4</td>\n    </tr>\n    <tr>\n      <th>unique</th>\n      <td>4</td>\n      <td>NaN</td>\n      <td>NaN</td>\n      <td>2</td>\n    </tr>\n    <tr>\n      <th>top</th>\n      <td>Marisa</td>\n      <td>NaN</td>\n      <td>NaN</td>\n      <td>F</td>\n    </tr>\n    <tr>\n      <th>freq</th>\n      <td>1</td>\n      <td>NaN</td>\n      <td>NaN</td>\n      <td>2</td>\n    </tr>\n    <tr>\n      <th>mean</th>\n      <td>NaN</td>\n      <td>27.250000</td>\n      <td>62.000000</td>\n      <td>NaN</td>\n    </tr>\n    <tr>\n      <th>std</th>\n      <td>NaN</td>\n      <td>10.996211</td>\n      <td>43.112257</td>\n      <td>NaN</td>\n    </tr>\n    <tr>\n      <th>min</th>\n      <td>NaN</td>\n      <td>11.000000</td>\n      <td>12.000000</td>\n      <td>NaN</td>\n    </tr>\n    <tr>\n      <th>25%</th>\n      <td>NaN</td>\n      <td>25.250000</td>\n      <td>33.000000</td>\n      <td>NaN</td>\n    </tr>\n    <tr>\n      <th>50%</th>\n      <td>NaN</td>\n      <td>32.000000</td>\n      <td>69.000000</td>\n      <td>NaN</td>\n    </tr>\n    <tr>\n      <th>75%</th>\n      <td>NaN</td>\n      <td>34.000000</td>\n      <td>98.000000</td>\n      <td>NaN</td>\n    </tr>\n    <tr>\n      <th>max</th>\n      <td>NaN</td>\n      <td>34.000000</td>\n      <td>98.000000</td>\n      <td>NaN</td>\n    </tr>\n  </tbody>\n</table>\n</div>"
     },
     "metadata": {},
     "output_type": "display_data"
    }
   ],
   "source": [
    "diccionario = { \"nombre\" : [\"Marisa\",\"Laura\",\"Manuel\", \"Carlos\"], \"edad\" : [34,34,11, 30], \n",
    "               \"puntos\" : [98,12,98,40], \"genero\": [\"F\", \"F\", \"M\", \"M\"] }\n",
    "frame = pd.DataFrame(diccionario)\n",
    "display(frame)\n",
    "display(frame.describe(include='all')) # datos generales de elementos"
   ]
  },
  {
   "cell_type": "code",
   "execution_count": 26,
   "metadata": {
    "ExecuteTime": {
     "end_time": "2024-03-08T11:11:29.007336Z",
     "start_time": "2024-03-08T11:11:29.003169Z"
    }
   },
   "outputs": [
    {
     "name": "stdout",
     "output_type": "stream",
     "text": [
      "<class 'pandas.core.series.Series'>\n"
     ]
    }
   ],
   "source": [
    "print(type(frame['edad']))"
   ]
  },
  {
   "cell_type": "code",
   "execution_count": 27,
   "metadata": {
    "slideshow": {
     "slide_type": "subslide"
    },
    "ExecuteTime": {
     "end_time": "2024-03-08T11:11:31.271237Z",
     "start_time": "2024-03-08T11:11:31.265265Z"
    }
   },
   "outputs": [
    {
     "data": {
      "text/plain": "nombre    MarisaLauraManuelCarlos\nedad                          109\npuntos                        248\ngenero                       FFMM\ndtype: object"
     },
     "execution_count": 27,
     "metadata": {},
     "output_type": "execute_result"
    }
   ],
   "source": [
    "# operadores básicos\n",
    "frame.sum()"
   ]
  },
  {
   "cell_type": "code",
   "execution_count": 34,
   "metadata": {
    "slideshow": {
     "slide_type": "fragment"
    },
    "ExecuteTime": {
     "end_time": "2024-03-08T11:13:46.826367Z",
     "start_time": "2024-03-08T11:13:46.818877Z"
    }
   },
   "outputs": [
    {
     "data": {
      "text/plain": "edad      27.25\npuntos    62.00\ndtype: float64"
     },
     "execution_count": 34,
     "metadata": {},
     "output_type": "execute_result"
    }
   ],
   "source": [
    "frame.drop(['nombre','genero'],axis=1).mean() #Eliminamos las columnas con contenido \"incompatible\" con la media"
   ]
  },
  {
   "cell_type": "code",
   "execution_count": 35,
   "metadata": {
    "slideshow": {
     "slide_type": "fragment"
    },
    "ExecuteTime": {
     "end_time": "2024-03-08T11:15:20.771335Z",
     "start_time": "2024-03-08T11:15:20.762226Z"
    }
   },
   "outputs": [
    {
     "data": {
      "text/plain": "                    nombre  edad  puntos genero\n0                   Marisa    34      98      F\n1              MarisaLaura    68     110     FF\n2        MarisaLauraManuel    79     208    FFM\n3  MarisaLauraManuelCarlos   109     248   FFMM",
      "text/html": "<div>\n<style scoped>\n    .dataframe tbody tr th:only-of-type {\n        vertical-align: middle;\n    }\n\n    .dataframe tbody tr th {\n        vertical-align: top;\n    }\n\n    .dataframe thead th {\n        text-align: right;\n    }\n</style>\n<table border=\"1\" class=\"dataframe\">\n  <thead>\n    <tr style=\"text-align: right;\">\n      <th></th>\n      <th>nombre</th>\n      <th>edad</th>\n      <th>puntos</th>\n      <th>genero</th>\n    </tr>\n  </thead>\n  <tbody>\n    <tr>\n      <th>0</th>\n      <td>Marisa</td>\n      <td>34</td>\n      <td>98</td>\n      <td>F</td>\n    </tr>\n    <tr>\n      <th>1</th>\n      <td>MarisaLaura</td>\n      <td>68</td>\n      <td>110</td>\n      <td>FF</td>\n    </tr>\n    <tr>\n      <th>2</th>\n      <td>MarisaLauraManuel</td>\n      <td>79</td>\n      <td>208</td>\n      <td>FFM</td>\n    </tr>\n    <tr>\n      <th>3</th>\n      <td>MarisaLauraManuelCarlos</td>\n      <td>109</td>\n      <td>248</td>\n      <td>FFMM</td>\n    </tr>\n  </tbody>\n</table>\n</div>"
     },
     "execution_count": 35,
     "metadata": {},
     "output_type": "execute_result"
    }
   ],
   "source": [
    "frame.cumsum() #suma acumulativa"
   ]
  },
  {
   "cell_type": "code",
   "execution_count": 36,
   "metadata": {
    "scrolled": true,
    "slideshow": {
     "slide_type": "subslide"
    },
    "ExecuteTime": {
     "end_time": "2024-03-08T11:15:23.608846Z",
     "start_time": "2024-03-08T11:15:23.602278Z"
    }
   },
   "outputs": [
    {
     "data": {
      "text/plain": "nombre    4\nedad      4\npuntos    4\ngenero    4\ndtype: int64"
     },
     "execution_count": 36,
     "metadata": {},
     "output_type": "execute_result"
    }
   ],
   "source": [
    "frame.count()"
   ]
  },
  {
   "cell_type": "code",
   "execution_count": 37,
   "metadata": {
    "slideshow": {
     "slide_type": "fragment"
    },
    "ExecuteTime": {
     "end_time": "2024-03-08T11:15:28.147099Z",
     "start_time": "2024-03-08T11:15:28.140539Z"
    }
   },
   "outputs": [
    {
     "data": {
      "text/plain": "10.996211468804457"
     },
     "execution_count": 37,
     "metadata": {},
     "output_type": "execute_result"
    }
   ],
   "source": [
    "frame['edad'].std()"
   ]
  },
  {
   "cell_type": "code",
   "execution_count": 38,
   "metadata": {
    "slideshow": {
     "slide_type": "fragment"
    },
    "ExecuteTime": {
     "end_time": "2024-03-08T11:15:38.090424Z",
     "start_time": "2024-03-08T11:15:38.083424Z"
    }
   },
   "outputs": [
    {
     "data": {
      "text/plain": "0"
     },
     "execution_count": 38,
     "metadata": {},
     "output_type": "execute_result"
    }
   ],
   "source": [
    "frame['edad'].idxmax() # índice del elemento con valor máximo para la edad"
   ]
  },
  {
   "cell_type": "code",
   "execution_count": 40,
   "metadata": {
    "slideshow": {
     "slide_type": "fragment"
    },
    "ExecuteTime": {
     "end_time": "2024-03-08T11:16:43.122831Z",
     "start_time": "2024-03-08T11:16:43.117641Z"
    }
   },
   "outputs": [
    {
     "data": {
      "text/plain": "1"
     },
     "execution_count": 40,
     "metadata": {},
     "output_type": "execute_result"
    }
   ],
   "source": [
    "frame['puntos'].idxmin()"
   ]
  },
  {
   "cell_type": "code",
   "execution_count": 41,
   "metadata": {
    "ExecuteTime": {
     "end_time": "2024-03-08T11:16:44.692307Z",
     "start_time": "2024-03-08T11:16:44.682747Z"
    }
   },
   "outputs": [
    {
     "name": "stdout",
     "output_type": "stream",
     "text": [
      "98\n"
     ]
    },
    {
     "data": {
      "text/plain": "   nombre  edad  puntos genero\n0  Marisa    34      98      F\n2  Manuel    11      98      M",
      "text/html": "<div>\n<style scoped>\n    .dataframe tbody tr th:only-of-type {\n        vertical-align: middle;\n    }\n\n    .dataframe tbody tr th {\n        vertical-align: top;\n    }\n\n    .dataframe thead th {\n        text-align: right;\n    }\n</style>\n<table border=\"1\" class=\"dataframe\">\n  <thead>\n    <tr style=\"text-align: right;\">\n      <th></th>\n      <th>nombre</th>\n      <th>edad</th>\n      <th>puntos</th>\n      <th>genero</th>\n    </tr>\n  </thead>\n  <tbody>\n    <tr>\n      <th>0</th>\n      <td>Marisa</td>\n      <td>34</td>\n      <td>98</td>\n      <td>F</td>\n    </tr>\n    <tr>\n      <th>2</th>\n      <td>Manuel</td>\n      <td>11</td>\n      <td>98</td>\n      <td>M</td>\n    </tr>\n  </tbody>\n</table>\n</div>"
     },
     "metadata": {},
     "output_type": "display_data"
    }
   ],
   "source": [
    "# frame con las filas con los valores maximos de una columna\n",
    "print(frame['puntos'].max())\n",
    "display(frame[frame['puntos'] == frame['puntos'].max()])"
   ]
  },
  {
   "cell_type": "markdown",
   "metadata": {
    "slideshow": {
     "slide_type": "subslide"
    }
   },
   "source": [
    "pandas incluye métodos para analizar correlaciones\n",
    "- Relación matemática entre dos variables (-1 negativamente relacionadas, 1 positivamente relacionadas, 0 sin relación)\n",
    "- obj.corr(obj2) --> medida de correlación entre los datos de ambos objetos\n",
    "- https://www.datascience.com/blog/introduction-to-correlation-learn-data-science-tutorials"
   ]
  },
  {
   "cell_type": "markdown",
   "source": [
    "Correlación"
   ],
   "metadata": {
    "collapsed": false
   }
  },
  {
   "cell_type": "code",
   "outputs": [
    {
     "name": "stdout",
     "output_type": "stream",
     "text": [
      "Correlación de x sobre y:  0.7586402890911867\n",
      "Correlación de y sobre x:  0.7586402890911869\n"
     ]
    }
   ],
   "source": [
    "x = pd.Series(range(10,20))\n",
    "y = pd.Series([2,1,4,5,8,12,18,25,96,48])\n",
    "print(\"Correlación de x sobre y: \", x.corr(y)) # por defecto, se usa el coeficiente de correlación de Pearson\n",
    "print(\"Correlación de y sobre x: \", y.corr(x))"
   ],
   "metadata": {
    "collapsed": false,
    "ExecuteTime": {
     "end_time": "2024-03-08T11:30:48.237810Z",
     "start_time": "2024-03-08T11:30:48.095376Z"
    }
   },
   "execution_count": 43
  },
  {
   "cell_type": "code",
   "outputs": [
    {
     "name": "stdout",
     "output_type": "stream",
     "text": [
      "Correlación de x sobre y (Rho Spearman):  0.9757575757575757\n",
      "Correlación de x sobre y (Tau Kendall):  0.911111111111111\n"
     ]
    }
   ],
   "source": [
    "print(\"Correlación de x sobre y (Rho Spearman): \", x.corr(y, method='spearman'))\n",
    "print(\"Correlación de x sobre y (Tau Kendall): \", x.corr(y, method='kendall'))"
   ],
   "metadata": {
    "collapsed": false,
    "ExecuteTime": {
     "end_time": "2024-03-08T11:32:23.519531Z",
     "start_time": "2024-03-08T11:32:20.970472Z"
    }
   },
   "execution_count": 44
  },
  {
   "cell_type": "markdown",
   "metadata": {
    "slideshow": {
     "slide_type": "slide"
    }
   },
   "source": [
    "## Agregaciones"
   ]
  },
  {
   "cell_type": "code",
   "execution_count": 45,
   "metadata": {
    "scrolled": true,
    "slideshow": {
     "slide_type": "fragment"
    },
    "ExecuteTime": {
     "end_time": "2024-03-08T11:32:56.224047Z",
     "start_time": "2024-03-08T11:32:56.156464Z"
    }
   },
   "outputs": [
    {
     "data": {
      "text/plain": "   nombre  edad  puntos genero\n0  Marisa    34      98      F\n1   Laura    34      12      F\n2  Manuel    11      98      M\n3  Carlos    30      40      M",
      "text/html": "<div>\n<style scoped>\n    .dataframe tbody tr th:only-of-type {\n        vertical-align: middle;\n    }\n\n    .dataframe tbody tr th {\n        vertical-align: top;\n    }\n\n    .dataframe thead th {\n        text-align: right;\n    }\n</style>\n<table border=\"1\" class=\"dataframe\">\n  <thead>\n    <tr style=\"text-align: right;\">\n      <th></th>\n      <th>nombre</th>\n      <th>edad</th>\n      <th>puntos</th>\n      <th>genero</th>\n    </tr>\n  </thead>\n  <tbody>\n    <tr>\n      <th>0</th>\n      <td>Marisa</td>\n      <td>34</td>\n      <td>98</td>\n      <td>F</td>\n    </tr>\n    <tr>\n      <th>1</th>\n      <td>Laura</td>\n      <td>34</td>\n      <td>12</td>\n      <td>F</td>\n    </tr>\n    <tr>\n      <th>2</th>\n      <td>Manuel</td>\n      <td>11</td>\n      <td>98</td>\n      <td>M</td>\n    </tr>\n    <tr>\n      <th>3</th>\n      <td>Carlos</td>\n      <td>30</td>\n      <td>40</td>\n      <td>M</td>\n    </tr>\n  </tbody>\n</table>\n</div>"
     },
     "metadata": {},
     "output_type": "display_data"
    },
    {
     "data": {
      "text/plain": "        nombre  edad  puntos\ngenero                      \nF            2     2       2\nM            2     2       2",
      "text/html": "<div>\n<style scoped>\n    .dataframe tbody tr th:only-of-type {\n        vertical-align: middle;\n    }\n\n    .dataframe tbody tr th {\n        vertical-align: top;\n    }\n\n    .dataframe thead th {\n        text-align: right;\n    }\n</style>\n<table border=\"1\" class=\"dataframe\">\n  <thead>\n    <tr style=\"text-align: right;\">\n      <th></th>\n      <th>nombre</th>\n      <th>edad</th>\n      <th>puntos</th>\n    </tr>\n    <tr>\n      <th>genero</th>\n      <th></th>\n      <th></th>\n      <th></th>\n    </tr>\n  </thead>\n  <tbody>\n    <tr>\n      <th>F</th>\n      <td>2</td>\n      <td>2</td>\n      <td>2</td>\n    </tr>\n    <tr>\n      <th>M</th>\n      <td>2</td>\n      <td>2</td>\n      <td>2</td>\n    </tr>\n  </tbody>\n</table>\n</div>"
     },
     "metadata": {},
     "output_type": "display_data"
    }
   ],
   "source": [
    "display(frame)\n",
    "display(frame.groupby('genero').count())  # agrupar primero y aplicar operación después."
   ]
  },
  {
   "cell_type": "code",
   "execution_count": 48,
   "metadata": {
    "slideshow": {
     "slide_type": "fragment"
    },
    "ExecuteTime": {
     "end_time": "2024-03-08T11:34:48.274658Z",
     "start_time": "2024-03-08T11:34:48.263827Z"
    }
   },
   "outputs": [
    {
     "data": {
      "text/plain": "        edad  puntos\ngenero              \nF       34.0    55.0\nM       20.5    69.0",
      "text/html": "<div>\n<style scoped>\n    .dataframe tbody tr th:only-of-type {\n        vertical-align: middle;\n    }\n\n    .dataframe tbody tr th {\n        vertical-align: top;\n    }\n\n    .dataframe thead th {\n        text-align: right;\n    }\n</style>\n<table border=\"1\" class=\"dataframe\">\n  <thead>\n    <tr style=\"text-align: right;\">\n      <th></th>\n      <th>edad</th>\n      <th>puntos</th>\n    </tr>\n    <tr>\n      <th>genero</th>\n      <th></th>\n      <th></th>\n    </tr>\n  </thead>\n  <tbody>\n    <tr>\n      <th>F</th>\n      <td>34.0</td>\n      <td>55.0</td>\n    </tr>\n    <tr>\n      <th>M</th>\n      <td>20.5</td>\n      <td>69.0</td>\n    </tr>\n  </tbody>\n</table>\n</div>"
     },
     "metadata": {},
     "output_type": "display_data"
    }
   ],
   "source": [
    "display(frame.drop('nombre',axis=1).groupby('genero').mean())  # eliminamos primero la columna de datos que no podemos operar"
   ]
  },
  {
   "cell_type": "code",
   "execution_count": 49,
   "metadata": {
    "slideshow": {
     "slide_type": "fragment"
    },
    "ExecuteTime": {
     "end_time": "2024-03-08T11:35:23.531609Z",
     "start_time": "2024-03-08T11:35:23.521726Z"
    }
   },
   "outputs": [
    {
     "data": {
      "text/plain": "        nombre  edad  puntos\ngenero                      \nF       Marisa    34      98\nM       Manuel    30      98",
      "text/html": "<div>\n<style scoped>\n    .dataframe tbody tr th:only-of-type {\n        vertical-align: middle;\n    }\n\n    .dataframe tbody tr th {\n        vertical-align: top;\n    }\n\n    .dataframe thead th {\n        text-align: right;\n    }\n</style>\n<table border=\"1\" class=\"dataframe\">\n  <thead>\n    <tr style=\"text-align: right;\">\n      <th></th>\n      <th>nombre</th>\n      <th>edad</th>\n      <th>puntos</th>\n    </tr>\n    <tr>\n      <th>genero</th>\n      <th></th>\n      <th></th>\n      <th></th>\n    </tr>\n  </thead>\n  <tbody>\n    <tr>\n      <th>F</th>\n      <td>Marisa</td>\n      <td>34</td>\n      <td>98</td>\n    </tr>\n    <tr>\n      <th>M</th>\n      <td>Manuel</td>\n      <td>30</td>\n      <td>98</td>\n    </tr>\n  </tbody>\n</table>\n</div>"
     },
     "metadata": {},
     "output_type": "display_data"
    }
   ],
   "source": [
    "display(frame.groupby('genero').max())"
   ]
  },
  {
   "cell_type": "code",
   "execution_count": 52,
   "metadata": {
    "slideshow": {
     "slide_type": "subslide"
    },
    "ExecuteTime": {
     "end_time": "2024-03-08T11:36:45.530814Z",
     "start_time": "2024-03-08T11:36:45.517059Z"
    }
   },
   "outputs": [
    {
     "data": {
      "text/plain": "       edad            puntos           \n        min median max    min median max\ngenero                                  \nF        34   34.0  34     12   55.0  98\nM        11   20.5  30     40   69.0  98",
      "text/html": "<div>\n<style scoped>\n    .dataframe tbody tr th:only-of-type {\n        vertical-align: middle;\n    }\n\n    .dataframe tbody tr th {\n        vertical-align: top;\n    }\n\n    .dataframe thead tr th {\n        text-align: left;\n    }\n\n    .dataframe thead tr:last-of-type th {\n        text-align: right;\n    }\n</style>\n<table border=\"1\" class=\"dataframe\">\n  <thead>\n    <tr>\n      <th></th>\n      <th colspan=\"3\" halign=\"left\">edad</th>\n      <th colspan=\"3\" halign=\"left\">puntos</th>\n    </tr>\n    <tr>\n      <th></th>\n      <th>min</th>\n      <th>median</th>\n      <th>max</th>\n      <th>min</th>\n      <th>median</th>\n      <th>max</th>\n    </tr>\n    <tr>\n      <th>genero</th>\n      <th></th>\n      <th></th>\n      <th></th>\n      <th></th>\n      <th></th>\n      <th></th>\n    </tr>\n  </thead>\n  <tbody>\n    <tr>\n      <th>F</th>\n      <td>34</td>\n      <td>34.0</td>\n      <td>34</td>\n      <td>12</td>\n      <td>55.0</td>\n      <td>98</td>\n    </tr>\n    <tr>\n      <th>M</th>\n      <td>11</td>\n      <td>20.5</td>\n      <td>30</td>\n      <td>40</td>\n      <td>69.0</td>\n      <td>98</td>\n    </tr>\n  </tbody>\n</table>\n</div>"
     },
     "metadata": {},
     "output_type": "display_data"
    }
   ],
   "source": [
    "# funciones de agregación de varias columnas para obtener distintos estadísticos\n",
    "display(frame.groupby('genero')[['edad', 'puntos']].aggregate(['min', np.median, max]))"
   ]
  },
  {
   "cell_type": "code",
   "execution_count": 53,
   "metadata": {
    "slideshow": {
     "slide_type": "subslide"
    },
    "ExecuteTime": {
     "end_time": "2024-03-08T11:36:52.224024Z",
     "start_time": "2024-03-08T11:36:52.209620Z"
    }
   },
   "outputs": [
    {
     "data": {
      "text/plain": "   nombre  edad  puntos genero\n0  Marisa    34      98      F\n1   Laura    34      12      F",
      "text/html": "<div>\n<style scoped>\n    .dataframe tbody tr th:only-of-type {\n        vertical-align: middle;\n    }\n\n    .dataframe tbody tr th {\n        vertical-align: top;\n    }\n\n    .dataframe thead th {\n        text-align: right;\n    }\n</style>\n<table border=\"1\" class=\"dataframe\">\n  <thead>\n    <tr style=\"text-align: right;\">\n      <th></th>\n      <th>nombre</th>\n      <th>edad</th>\n      <th>puntos</th>\n      <th>genero</th>\n    </tr>\n  </thead>\n  <tbody>\n    <tr>\n      <th>0</th>\n      <td>Marisa</td>\n      <td>34</td>\n      <td>98</td>\n      <td>F</td>\n    </tr>\n    <tr>\n      <th>1</th>\n      <td>Laura</td>\n      <td>34</td>\n      <td>12</td>\n      <td>F</td>\n    </tr>\n  </tbody>\n</table>\n</div>"
     },
     "execution_count": 53,
     "metadata": {},
     "output_type": "execute_result"
    }
   ],
   "source": [
    "# Filtrado de los datos en el que el conjunto no supera una media determinada \n",
    "def media(x):\n",
    "    return x[\"edad\"].mean() > 30\n",
    "\n",
    "frame.groupby('genero').filter(media)"
   ]
  },
  {
   "cell_type": "markdown",
   "metadata": {},
   "source": [
    "## Pivot Table\n",
    "- https://pandas.pydata.org/pandas-docs/stable/reference/api/pandas.pivot_table.html\n",
    "- https://pandas.pydata.org/pandas-docs/stable/user_guide/reshaping.html"
   ]
  },
  {
   "cell_type": "code",
   "outputs": [],
   "source": [
    "# Ejemplo de uso de pivot-table en Pandas\n",
    "import pandas as pd\n",
    "import numpy as np"
   ],
   "metadata": {
    "collapsed": false,
    "ExecuteTime": {
     "end_time": "2024-03-08T11:55:48.732608Z",
     "start_time": "2024-03-08T11:55:48.279408Z"
    }
   },
   "execution_count": 1
  },
  {
   "cell_type": "code",
   "outputs": [
    {
     "data": {
      "text/plain": "   Account                          Name            Rep       Manager  \\\n0   714466               Trantow-Barrows   Craig Booker  Debra Henley   \n1   714466               Trantow-Barrows   Craig Booker  Debra Henley   \n2   714466               Trantow-Barrows   Craig Booker  Debra Henley   \n3   737550  Fritsch, Russel and Anderson   Craig Booker  Debra Henley   \n4   146832                  Kiehn-Spinka  Daniel Hilton  Debra Henley   \n\n       Product  Quantity  Price     Status  \n0          CPU         1  30000  presented  \n1     Software         1  10000  presented  \n2  Maintenance         2   5000    pending  \n3          CPU         1  35000   declined  \n4          CPU         2  65000        won  ",
      "text/html": "<div>\n<style scoped>\n    .dataframe tbody tr th:only-of-type {\n        vertical-align: middle;\n    }\n\n    .dataframe tbody tr th {\n        vertical-align: top;\n    }\n\n    .dataframe thead th {\n        text-align: right;\n    }\n</style>\n<table border=\"1\" class=\"dataframe\">\n  <thead>\n    <tr style=\"text-align: right;\">\n      <th></th>\n      <th>Account</th>\n      <th>Name</th>\n      <th>Rep</th>\n      <th>Manager</th>\n      <th>Product</th>\n      <th>Quantity</th>\n      <th>Price</th>\n      <th>Status</th>\n    </tr>\n  </thead>\n  <tbody>\n    <tr>\n      <th>0</th>\n      <td>714466</td>\n      <td>Trantow-Barrows</td>\n      <td>Craig Booker</td>\n      <td>Debra Henley</td>\n      <td>CPU</td>\n      <td>1</td>\n      <td>30000</td>\n      <td>presented</td>\n    </tr>\n    <tr>\n      <th>1</th>\n      <td>714466</td>\n      <td>Trantow-Barrows</td>\n      <td>Craig Booker</td>\n      <td>Debra Henley</td>\n      <td>Software</td>\n      <td>1</td>\n      <td>10000</td>\n      <td>presented</td>\n    </tr>\n    <tr>\n      <th>2</th>\n      <td>714466</td>\n      <td>Trantow-Barrows</td>\n      <td>Craig Booker</td>\n      <td>Debra Henley</td>\n      <td>Maintenance</td>\n      <td>2</td>\n      <td>5000</td>\n      <td>pending</td>\n    </tr>\n    <tr>\n      <th>3</th>\n      <td>737550</td>\n      <td>Fritsch, Russel and Anderson</td>\n      <td>Craig Booker</td>\n      <td>Debra Henley</td>\n      <td>CPU</td>\n      <td>1</td>\n      <td>35000</td>\n      <td>declined</td>\n    </tr>\n    <tr>\n      <th>4</th>\n      <td>146832</td>\n      <td>Kiehn-Spinka</td>\n      <td>Daniel Hilton</td>\n      <td>Debra Henley</td>\n      <td>CPU</td>\n      <td>2</td>\n      <td>65000</td>\n      <td>won</td>\n    </tr>\n  </tbody>\n</table>\n</div>"
     },
     "execution_count": 2,
     "metadata": {},
     "output_type": "execute_result"
    }
   ],
   "source": [
    "df = pd.read_excel(\"./datasets/sales-funnel.xlsx\") # debemos instalar 'openpyxl' para poder acceder al fichero xlsx\n",
    "df.head()"
   ],
   "metadata": {
    "collapsed": false,
    "ExecuteTime": {
     "end_time": "2024-03-08T11:55:53.059246Z",
     "start_time": "2024-03-08T11:55:52.775117Z"
    }
   },
   "execution_count": 2
  },
  {
   "cell_type": "code",
   "outputs": [],
   "source": [
    "df[\"Status\"] = df[\"Status\"].astype(\"category\")\n",
    "df[\"Status\"]=df[\"Status\"].cat.set_categories([\"won\",\"pending\",\"presented\",\"declined\"])"
   ],
   "metadata": {
    "collapsed": false,
    "ExecuteTime": {
     "end_time": "2024-03-08T11:55:55.009333Z",
     "start_time": "2024-03-08T11:55:55.003016Z"
    }
   },
   "execution_count": 3
  },
  {
   "cell_type": "markdown",
   "source": [],
   "metadata": {
    "collapsed": false
   }
  },
  {
   "cell_type": "code",
   "outputs": [
    {
     "data": {
      "text/plain": "                               Account     Price  Quantity\nName                                                      \nBarton LLC                    740150.0   35000.0  1.000000\nFritsch, Russel and Anderson  737550.0   35000.0  1.000000\nHerman LLC                    141962.0   65000.0  2.000000\nJerde-Hilpert                 412290.0    5000.0  2.000000\nKassulke, Ondricka and Metz   307599.0    7000.0  3.000000\nKeeling LLC                   688981.0  100000.0  5.000000\nKiehn-Spinka                  146832.0   65000.0  2.000000\nKoepp Ltd                     729833.0   35000.0  2.000000\nKulas Inc                     218895.0   25000.0  1.500000\nPurdy-Kunde                   163416.0   30000.0  1.000000\nStokes LLC                    239344.0    7500.0  1.000000\nTrantow-Barrows               714466.0   15000.0  1.333333",
      "text/html": "<div>\n<style scoped>\n    .dataframe tbody tr th:only-of-type {\n        vertical-align: middle;\n    }\n\n    .dataframe tbody tr th {\n        vertical-align: top;\n    }\n\n    .dataframe thead th {\n        text-align: right;\n    }\n</style>\n<table border=\"1\" class=\"dataframe\">\n  <thead>\n    <tr style=\"text-align: right;\">\n      <th></th>\n      <th>Account</th>\n      <th>Price</th>\n      <th>Quantity</th>\n    </tr>\n    <tr>\n      <th>Name</th>\n      <th></th>\n      <th></th>\n      <th></th>\n    </tr>\n  </thead>\n  <tbody>\n    <tr>\n      <th>Barton LLC</th>\n      <td>740150.0</td>\n      <td>35000.0</td>\n      <td>1.000000</td>\n    </tr>\n    <tr>\n      <th>Fritsch, Russel and Anderson</th>\n      <td>737550.0</td>\n      <td>35000.0</td>\n      <td>1.000000</td>\n    </tr>\n    <tr>\n      <th>Herman LLC</th>\n      <td>141962.0</td>\n      <td>65000.0</td>\n      <td>2.000000</td>\n    </tr>\n    <tr>\n      <th>Jerde-Hilpert</th>\n      <td>412290.0</td>\n      <td>5000.0</td>\n      <td>2.000000</td>\n    </tr>\n    <tr>\n      <th>Kassulke, Ondricka and Metz</th>\n      <td>307599.0</td>\n      <td>7000.0</td>\n      <td>3.000000</td>\n    </tr>\n    <tr>\n      <th>Keeling LLC</th>\n      <td>688981.0</td>\n      <td>100000.0</td>\n      <td>5.000000</td>\n    </tr>\n    <tr>\n      <th>Kiehn-Spinka</th>\n      <td>146832.0</td>\n      <td>65000.0</td>\n      <td>2.000000</td>\n    </tr>\n    <tr>\n      <th>Koepp Ltd</th>\n      <td>729833.0</td>\n      <td>35000.0</td>\n      <td>2.000000</td>\n    </tr>\n    <tr>\n      <th>Kulas Inc</th>\n      <td>218895.0</td>\n      <td>25000.0</td>\n      <td>1.500000</td>\n    </tr>\n    <tr>\n      <th>Purdy-Kunde</th>\n      <td>163416.0</td>\n      <td>30000.0</td>\n      <td>1.000000</td>\n    </tr>\n    <tr>\n      <th>Stokes LLC</th>\n      <td>239344.0</td>\n      <td>7500.0</td>\n      <td>1.000000</td>\n    </tr>\n    <tr>\n      <th>Trantow-Barrows</th>\n      <td>714466.0</td>\n      <td>15000.0</td>\n      <td>1.333333</td>\n    </tr>\n  </tbody>\n</table>\n</div>"
     },
     "execution_count": 16,
     "metadata": {},
     "output_type": "execute_result"
    }
   ],
   "source": [
    "pd.pivot_table(df,index=[\"Name\"],values=[\"Account\",\"Price\",\"Quantity\"], aggfunc=\"mean\") # el parámetro \"aggfunc\" nos indica la función de agregación usada (sumatorio, media,...)"
   ],
   "metadata": {
    "collapsed": false,
    "ExecuteTime": {
     "end_time": "2024-03-08T12:19:59.758284Z",
     "start_time": "2024-03-08T12:19:59.746453Z"
    }
   },
   "execution_count": 16
  },
  {
   "cell_type": "code",
   "outputs": [
    {
     "data": {
      "text/plain": "                                                           Account     Price  \\\nName                         Rep           Manager                             \nBarton LLC                   John Smith    Debra Henley   740150.0   35000.0   \nFritsch, Russel and Anderson Craig Booker  Debra Henley   737550.0   35000.0   \nHerman LLC                   Cedric Moss   Fred Anderson  141962.0   65000.0   \nJerde-Hilpert                John Smith    Debra Henley   412290.0    5000.0   \nKassulke, Ondricka and Metz  Wendy Yule    Fred Anderson  307599.0    7000.0   \nKeeling LLC                  Wendy Yule    Fred Anderson  688981.0  100000.0   \nKiehn-Spinka                 Daniel Hilton Debra Henley   146832.0   65000.0   \nKoepp Ltd                    Wendy Yule    Fred Anderson  729833.0   35000.0   \nKulas Inc                    Daniel Hilton Debra Henley   218895.0   25000.0   \nPurdy-Kunde                  Cedric Moss   Fred Anderson  163416.0   30000.0   \nStokes LLC                   Cedric Moss   Fred Anderson  239344.0    7500.0   \nTrantow-Barrows              Craig Booker  Debra Henley   714466.0   15000.0   \n\n                                                          Quantity  \nName                         Rep           Manager                  \nBarton LLC                   John Smith    Debra Henley   1.000000  \nFritsch, Russel and Anderson Craig Booker  Debra Henley   1.000000  \nHerman LLC                   Cedric Moss   Fred Anderson  2.000000  \nJerde-Hilpert                John Smith    Debra Henley   2.000000  \nKassulke, Ondricka and Metz  Wendy Yule    Fred Anderson  3.000000  \nKeeling LLC                  Wendy Yule    Fred Anderson  5.000000  \nKiehn-Spinka                 Daniel Hilton Debra Henley   2.000000  \nKoepp Ltd                    Wendy Yule    Fred Anderson  2.000000  \nKulas Inc                    Daniel Hilton Debra Henley   1.500000  \nPurdy-Kunde                  Cedric Moss   Fred Anderson  1.000000  \nStokes LLC                   Cedric Moss   Fred Anderson  1.000000  \nTrantow-Barrows              Craig Booker  Debra Henley   1.333333  ",
      "text/html": "<div>\n<style scoped>\n    .dataframe tbody tr th:only-of-type {\n        vertical-align: middle;\n    }\n\n    .dataframe tbody tr th {\n        vertical-align: top;\n    }\n\n    .dataframe thead th {\n        text-align: right;\n    }\n</style>\n<table border=\"1\" class=\"dataframe\">\n  <thead>\n    <tr style=\"text-align: right;\">\n      <th></th>\n      <th></th>\n      <th></th>\n      <th>Account</th>\n      <th>Price</th>\n      <th>Quantity</th>\n    </tr>\n    <tr>\n      <th>Name</th>\n      <th>Rep</th>\n      <th>Manager</th>\n      <th></th>\n      <th></th>\n      <th></th>\n    </tr>\n  </thead>\n  <tbody>\n    <tr>\n      <th>Barton LLC</th>\n      <th>John Smith</th>\n      <th>Debra Henley</th>\n      <td>740150.0</td>\n      <td>35000.0</td>\n      <td>1.000000</td>\n    </tr>\n    <tr>\n      <th>Fritsch, Russel and Anderson</th>\n      <th>Craig Booker</th>\n      <th>Debra Henley</th>\n      <td>737550.0</td>\n      <td>35000.0</td>\n      <td>1.000000</td>\n    </tr>\n    <tr>\n      <th>Herman LLC</th>\n      <th>Cedric Moss</th>\n      <th>Fred Anderson</th>\n      <td>141962.0</td>\n      <td>65000.0</td>\n      <td>2.000000</td>\n    </tr>\n    <tr>\n      <th>Jerde-Hilpert</th>\n      <th>John Smith</th>\n      <th>Debra Henley</th>\n      <td>412290.0</td>\n      <td>5000.0</td>\n      <td>2.000000</td>\n    </tr>\n    <tr>\n      <th>Kassulke, Ondricka and Metz</th>\n      <th>Wendy Yule</th>\n      <th>Fred Anderson</th>\n      <td>307599.0</td>\n      <td>7000.0</td>\n      <td>3.000000</td>\n    </tr>\n    <tr>\n      <th>Keeling LLC</th>\n      <th>Wendy Yule</th>\n      <th>Fred Anderson</th>\n      <td>688981.0</td>\n      <td>100000.0</td>\n      <td>5.000000</td>\n    </tr>\n    <tr>\n      <th>Kiehn-Spinka</th>\n      <th>Daniel Hilton</th>\n      <th>Debra Henley</th>\n      <td>146832.0</td>\n      <td>65000.0</td>\n      <td>2.000000</td>\n    </tr>\n    <tr>\n      <th>Koepp Ltd</th>\n      <th>Wendy Yule</th>\n      <th>Fred Anderson</th>\n      <td>729833.0</td>\n      <td>35000.0</td>\n      <td>2.000000</td>\n    </tr>\n    <tr>\n      <th>Kulas Inc</th>\n      <th>Daniel Hilton</th>\n      <th>Debra Henley</th>\n      <td>218895.0</td>\n      <td>25000.0</td>\n      <td>1.500000</td>\n    </tr>\n    <tr>\n      <th>Purdy-Kunde</th>\n      <th>Cedric Moss</th>\n      <th>Fred Anderson</th>\n      <td>163416.0</td>\n      <td>30000.0</td>\n      <td>1.000000</td>\n    </tr>\n    <tr>\n      <th>Stokes LLC</th>\n      <th>Cedric Moss</th>\n      <th>Fred Anderson</th>\n      <td>239344.0</td>\n      <td>7500.0</td>\n      <td>1.000000</td>\n    </tr>\n    <tr>\n      <th>Trantow-Barrows</th>\n      <th>Craig Booker</th>\n      <th>Debra Henley</th>\n      <td>714466.0</td>\n      <td>15000.0</td>\n      <td>1.333333</td>\n    </tr>\n  </tbody>\n</table>\n</div>"
     },
     "execution_count": 13,
     "metadata": {},
     "output_type": "execute_result"
    }
   ],
   "source": [
    "pd.pivot_table(df,index=[\"Name\",\"Rep\",\"Manager\"], values=[\"Account\",\"Price\",\"Quantity\"], aggfunc=\"mean\")"
   ],
   "metadata": {
    "collapsed": false,
    "ExecuteTime": {
     "end_time": "2024-03-08T12:18:34.384938Z",
     "start_time": "2024-03-08T12:18:34.368064Z"
    }
   },
   "execution_count": 13
  },
  {
   "cell_type": "code",
   "outputs": [
    {
     "data": {
      "text/plain": "                              Account         Price  Quantity\nManager       Rep                                            \nDebra Henley  Craig Booker   720237.0  20000.000000  1.250000\n              Daniel Hilton  194874.0  38333.333333  1.666667\n              John Smith     576220.0  20000.000000  1.500000\nFred Anderson Cedric Moss    196016.5  27500.000000  1.250000\n              Wendy Yule     614061.5  44250.000000  3.000000",
      "text/html": "<div>\n<style scoped>\n    .dataframe tbody tr th:only-of-type {\n        vertical-align: middle;\n    }\n\n    .dataframe tbody tr th {\n        vertical-align: top;\n    }\n\n    .dataframe thead th {\n        text-align: right;\n    }\n</style>\n<table border=\"1\" class=\"dataframe\">\n  <thead>\n    <tr style=\"text-align: right;\">\n      <th></th>\n      <th></th>\n      <th>Account</th>\n      <th>Price</th>\n      <th>Quantity</th>\n    </tr>\n    <tr>\n      <th>Manager</th>\n      <th>Rep</th>\n      <th></th>\n      <th></th>\n      <th></th>\n    </tr>\n  </thead>\n  <tbody>\n    <tr>\n      <th rowspan=\"3\" valign=\"top\">Debra Henley</th>\n      <th>Craig Booker</th>\n      <td>720237.0</td>\n      <td>20000.000000</td>\n      <td>1.250000</td>\n    </tr>\n    <tr>\n      <th>Daniel Hilton</th>\n      <td>194874.0</td>\n      <td>38333.333333</td>\n      <td>1.666667</td>\n    </tr>\n    <tr>\n      <th>John Smith</th>\n      <td>576220.0</td>\n      <td>20000.000000</td>\n      <td>1.500000</td>\n    </tr>\n    <tr>\n      <th rowspan=\"2\" valign=\"top\">Fred Anderson</th>\n      <th>Cedric Moss</th>\n      <td>196016.5</td>\n      <td>27500.000000</td>\n      <td>1.250000</td>\n    </tr>\n    <tr>\n      <th>Wendy Yule</th>\n      <td>614061.5</td>\n      <td>44250.000000</td>\n      <td>3.000000</td>\n    </tr>\n  </tbody>\n</table>\n</div>"
     },
     "execution_count": 17,
     "metadata": {},
     "output_type": "execute_result"
    }
   ],
   "source": [
    "pd.pivot_table(df,index=[\"Manager\",\"Rep\"],values=[\"Account\",\"Price\",\"Quantity\"], aggfunc=\"mean\")"
   ],
   "metadata": {
    "collapsed": false,
    "ExecuteTime": {
     "end_time": "2024-03-08T12:20:35.338665Z",
     "start_time": "2024-03-08T12:20:35.325937Z"
    }
   },
   "execution_count": 17
  },
  {
   "cell_type": "markdown",
   "metadata": {
    "slideshow": {
     "slide_type": "slide"
    }
   },
   "source": [
    "# Ejemplo Fuel efficiency\n",
    "- https://archive.ics.uci.edu/ml/datasets/Auto+MPG\n",
    "\n",
    "Consumo de combustible (*Miles Per Gallon*)"
   ]
  },
  {
   "cell_type": "code",
   "execution_count": 18,
   "metadata": {
    "slideshow": {
     "slide_type": "subslide"
    },
    "ExecuteTime": {
     "end_time": "2024-03-08T12:24:49.354938Z",
     "start_time": "2024-03-08T12:24:48.445538Z"
    }
   },
   "outputs": [],
   "source": [
    "import pandas as pd\n",
    "path = 'http://archive.ics.uci.edu/ml/machine-learning-databases/auto-mpg/auto-mpg.data'\n",
    "\n",
    "mpg_data = pd.read_csv(path, delim_whitespace=True, header=None,\n",
    "            names = ['mpg', 'cilindros', 'desplazamiento','potencia',\n",
    "            'peso', 'aceleracion', 'año', 'origen', 'nombre'],\n",
    "            na_values='?')"
   ]
  },
  {
   "cell_type": "code",
   "execution_count": 19,
   "metadata": {
    "slideshow": {
     "slide_type": "fragment"
    },
    "ExecuteTime": {
     "end_time": "2024-03-08T12:24:51.369223Z",
     "start_time": "2024-03-08T12:24:51.357409Z"
    }
   },
   "outputs": [
    {
     "data": {
      "text/plain": "      mpg  cilindros  desplazamiento  potencia    peso  aceleracion  año  \\\n20   25.0          4           110.0      87.0  2672.0         17.5   70   \n169  20.0          6           232.0     100.0  2914.0         16.0   75   \n395  32.0          4           135.0      84.0  2295.0         11.6   82   \n199  20.0          6           225.0     100.0  3651.0         17.7   76   \n226  20.5          6           231.0     105.0  3425.0         16.9   77   \n\n     origen          nombre  \n20        2     peugeot 504  \n169       1     amc gremlin  \n395       1   dodge rampage  \n199       1  dodge aspen se  \n226       1   buick skylark  ",
      "text/html": "<div>\n<style scoped>\n    .dataframe tbody tr th:only-of-type {\n        vertical-align: middle;\n    }\n\n    .dataframe tbody tr th {\n        vertical-align: top;\n    }\n\n    .dataframe thead th {\n        text-align: right;\n    }\n</style>\n<table border=\"1\" class=\"dataframe\">\n  <thead>\n    <tr style=\"text-align: right;\">\n      <th></th>\n      <th>mpg</th>\n      <th>cilindros</th>\n      <th>desplazamiento</th>\n      <th>potencia</th>\n      <th>peso</th>\n      <th>aceleracion</th>\n      <th>año</th>\n      <th>origen</th>\n      <th>nombre</th>\n    </tr>\n  </thead>\n  <tbody>\n    <tr>\n      <th>20</th>\n      <td>25.0</td>\n      <td>4</td>\n      <td>110.0</td>\n      <td>87.0</td>\n      <td>2672.0</td>\n      <td>17.5</td>\n      <td>70</td>\n      <td>2</td>\n      <td>peugeot 504</td>\n    </tr>\n    <tr>\n      <th>169</th>\n      <td>20.0</td>\n      <td>6</td>\n      <td>232.0</td>\n      <td>100.0</td>\n      <td>2914.0</td>\n      <td>16.0</td>\n      <td>75</td>\n      <td>1</td>\n      <td>amc gremlin</td>\n    </tr>\n    <tr>\n      <th>395</th>\n      <td>32.0</td>\n      <td>4</td>\n      <td>135.0</td>\n      <td>84.0</td>\n      <td>2295.0</td>\n      <td>11.6</td>\n      <td>82</td>\n      <td>1</td>\n      <td>dodge rampage</td>\n    </tr>\n    <tr>\n      <th>199</th>\n      <td>20.0</td>\n      <td>6</td>\n      <td>225.0</td>\n      <td>100.0</td>\n      <td>3651.0</td>\n      <td>17.7</td>\n      <td>76</td>\n      <td>1</td>\n      <td>dodge aspen se</td>\n    </tr>\n    <tr>\n      <th>226</th>\n      <td>20.5</td>\n      <td>6</td>\n      <td>231.0</td>\n      <td>105.0</td>\n      <td>3425.0</td>\n      <td>16.9</td>\n      <td>77</td>\n      <td>1</td>\n      <td>buick skylark</td>\n    </tr>\n  </tbody>\n</table>\n</div>"
     },
     "metadata": {},
     "output_type": "display_data"
    }
   ],
   "source": [
    "display(mpg_data.sample(5))"
   ]
  },
  {
   "cell_type": "code",
   "execution_count": 20,
   "metadata": {
    "slideshow": {
     "slide_type": "subslide"
    },
    "ExecuteTime": {
     "end_time": "2024-03-08T12:24:53.610638Z",
     "start_time": "2024-03-08T12:24:53.585281Z"
    }
   },
   "outputs": [
    {
     "data": {
      "text/plain": "               mpg   cilindros  desplazamiento    potencia         peso  \\\ncount   398.000000  398.000000      398.000000  392.000000   398.000000   \nunique         NaN         NaN             NaN         NaN          NaN   \ntop            NaN         NaN             NaN         NaN          NaN   \nfreq           NaN         NaN             NaN         NaN          NaN   \nmean     23.514573    5.454774      193.425879  104.469388  2970.424623   \nstd       7.815984    1.701004      104.269838   38.491160   846.841774   \nmin       9.000000    3.000000       68.000000   46.000000  1613.000000   \n25%      17.500000    4.000000      104.250000   75.000000  2223.750000   \n50%      23.000000    4.000000      148.500000   93.500000  2803.500000   \n75%      29.000000    8.000000      262.000000  126.000000  3608.000000   \nmax      46.600000    8.000000      455.000000  230.000000  5140.000000   \n\n        aceleracion         año      origen      nombre  \ncount    398.000000  398.000000  398.000000         398  \nunique          NaN         NaN         NaN         305  \ntop             NaN         NaN         NaN  ford pinto  \nfreq            NaN         NaN         NaN           6  \nmean      15.568090   76.010050    1.572864         NaN  \nstd        2.757689    3.697627    0.802055         NaN  \nmin        8.000000   70.000000    1.000000         NaN  \n25%       13.825000   73.000000    1.000000         NaN  \n50%       15.500000   76.000000    1.000000         NaN  \n75%       17.175000   79.000000    2.000000         NaN  \nmax       24.800000   82.000000    3.000000         NaN  ",
      "text/html": "<div>\n<style scoped>\n    .dataframe tbody tr th:only-of-type {\n        vertical-align: middle;\n    }\n\n    .dataframe tbody tr th {\n        vertical-align: top;\n    }\n\n    .dataframe thead th {\n        text-align: right;\n    }\n</style>\n<table border=\"1\" class=\"dataframe\">\n  <thead>\n    <tr style=\"text-align: right;\">\n      <th></th>\n      <th>mpg</th>\n      <th>cilindros</th>\n      <th>desplazamiento</th>\n      <th>potencia</th>\n      <th>peso</th>\n      <th>aceleracion</th>\n      <th>año</th>\n      <th>origen</th>\n      <th>nombre</th>\n    </tr>\n  </thead>\n  <tbody>\n    <tr>\n      <th>count</th>\n      <td>398.000000</td>\n      <td>398.000000</td>\n      <td>398.000000</td>\n      <td>392.000000</td>\n      <td>398.000000</td>\n      <td>398.000000</td>\n      <td>398.000000</td>\n      <td>398.000000</td>\n      <td>398</td>\n    </tr>\n    <tr>\n      <th>unique</th>\n      <td>NaN</td>\n      <td>NaN</td>\n      <td>NaN</td>\n      <td>NaN</td>\n      <td>NaN</td>\n      <td>NaN</td>\n      <td>NaN</td>\n      <td>NaN</td>\n      <td>305</td>\n    </tr>\n    <tr>\n      <th>top</th>\n      <td>NaN</td>\n      <td>NaN</td>\n      <td>NaN</td>\n      <td>NaN</td>\n      <td>NaN</td>\n      <td>NaN</td>\n      <td>NaN</td>\n      <td>NaN</td>\n      <td>ford pinto</td>\n    </tr>\n    <tr>\n      <th>freq</th>\n      <td>NaN</td>\n      <td>NaN</td>\n      <td>NaN</td>\n      <td>NaN</td>\n      <td>NaN</td>\n      <td>NaN</td>\n      <td>NaN</td>\n      <td>NaN</td>\n      <td>6</td>\n    </tr>\n    <tr>\n      <th>mean</th>\n      <td>23.514573</td>\n      <td>5.454774</td>\n      <td>193.425879</td>\n      <td>104.469388</td>\n      <td>2970.424623</td>\n      <td>15.568090</td>\n      <td>76.010050</td>\n      <td>1.572864</td>\n      <td>NaN</td>\n    </tr>\n    <tr>\n      <th>std</th>\n      <td>7.815984</td>\n      <td>1.701004</td>\n      <td>104.269838</td>\n      <td>38.491160</td>\n      <td>846.841774</td>\n      <td>2.757689</td>\n      <td>3.697627</td>\n      <td>0.802055</td>\n      <td>NaN</td>\n    </tr>\n    <tr>\n      <th>min</th>\n      <td>9.000000</td>\n      <td>3.000000</td>\n      <td>68.000000</td>\n      <td>46.000000</td>\n      <td>1613.000000</td>\n      <td>8.000000</td>\n      <td>70.000000</td>\n      <td>1.000000</td>\n      <td>NaN</td>\n    </tr>\n    <tr>\n      <th>25%</th>\n      <td>17.500000</td>\n      <td>4.000000</td>\n      <td>104.250000</td>\n      <td>75.000000</td>\n      <td>2223.750000</td>\n      <td>13.825000</td>\n      <td>73.000000</td>\n      <td>1.000000</td>\n      <td>NaN</td>\n    </tr>\n    <tr>\n      <th>50%</th>\n      <td>23.000000</td>\n      <td>4.000000</td>\n      <td>148.500000</td>\n      <td>93.500000</td>\n      <td>2803.500000</td>\n      <td>15.500000</td>\n      <td>76.000000</td>\n      <td>1.000000</td>\n      <td>NaN</td>\n    </tr>\n    <tr>\n      <th>75%</th>\n      <td>29.000000</td>\n      <td>8.000000</td>\n      <td>262.000000</td>\n      <td>126.000000</td>\n      <td>3608.000000</td>\n      <td>17.175000</td>\n      <td>79.000000</td>\n      <td>2.000000</td>\n      <td>NaN</td>\n    </tr>\n    <tr>\n      <th>max</th>\n      <td>46.600000</td>\n      <td>8.000000</td>\n      <td>455.000000</td>\n      <td>230.000000</td>\n      <td>5140.000000</td>\n      <td>24.800000</td>\n      <td>82.000000</td>\n      <td>3.000000</td>\n      <td>NaN</td>\n    </tr>\n  </tbody>\n</table>\n</div>"
     },
     "metadata": {},
     "output_type": "display_data"
    }
   ],
   "source": [
    "display(mpg_data.describe(include='all'))"
   ]
  },
  {
   "cell_type": "code",
   "execution_count": 21,
   "metadata": {
    "slideshow": {
     "slide_type": "subslide"
    },
    "ExecuteTime": {
     "end_time": "2024-03-08T12:24:56.777368Z",
     "start_time": "2024-03-08T12:24:56.770292Z"
    }
   },
   "outputs": [
    {
     "name": "stdout",
     "output_type": "stream",
     "text": [
      "<class 'pandas.core.frame.DataFrame'>\n",
      "RangeIndex: 398 entries, 0 to 397\n",
      "Data columns (total 9 columns):\n",
      " #   Column          Non-Null Count  Dtype  \n",
      "---  ------          --------------  -----  \n",
      " 0   mpg             398 non-null    float64\n",
      " 1   cilindros       398 non-null    int64  \n",
      " 2   desplazamiento  398 non-null    float64\n",
      " 3   potencia        392 non-null    float64\n",
      " 4   peso            398 non-null    float64\n",
      " 5   aceleracion     398 non-null    float64\n",
      " 6   año             398 non-null    int64  \n",
      " 7   origen          398 non-null    int64  \n",
      " 8   nombre          398 non-null    object \n",
      "dtypes: float64(5), int64(3), object(1)\n",
      "memory usage: 28.1+ KB\n"
     ]
    }
   ],
   "source": [
    "mpg_data.info()"
   ]
  },
  {
   "cell_type": "markdown",
   "metadata": {
    "slideshow": {
     "slide_type": "subslide"
    }
   },
   "source": [
    "### Correlaciones entre valores"
   ]
  },
  {
   "cell_type": "code",
   "execution_count": 22,
   "metadata": {
    "slideshow": {
     "slide_type": "fragment"
    },
    "ExecuteTime": {
     "end_time": "2024-03-08T12:25:02.305541Z",
     "start_time": "2024-03-08T12:25:02.288063Z"
    }
   },
   "outputs": [
    {
     "data": {
      "text/plain": "-0.8317409332443351"
     },
     "execution_count": 22,
     "metadata": {},
     "output_type": "execute_result"
    }
   ],
   "source": [
    "mpg_data['mpg'].corr(mpg_data['peso']) # + mpg = - peso"
   ]
  },
  {
   "cell_type": "code",
   "execution_count": 23,
   "metadata": {
    "slideshow": {
     "slide_type": "fragment"
    },
    "ExecuteTime": {
     "end_time": "2024-03-08T12:25:03.581690Z",
     "start_time": "2024-03-08T12:25:03.575281Z"
    }
   },
   "outputs": [
    {
     "data": {
      "text/plain": "-0.4174573199403932"
     },
     "execution_count": 23,
     "metadata": {},
     "output_type": "execute_result"
    }
   ],
   "source": [
    "mpg_data['peso'].corr(mpg_data['aceleracion']) # + peso = - aceleracion"
   ]
  },
  {
   "cell_type": "markdown",
   "metadata": {
    "slideshow": {
     "slide_type": "subslide"
    }
   },
   "source": [
    "### Correlaciones entre todos los valores"
   ]
  },
  {
   "cell_type": "code",
   "execution_count": 26,
   "metadata": {
    "slideshow": {
     "slide_type": "fragment"
    },
    "ExecuteTime": {
     "end_time": "2024-03-08T12:26:05.476666Z",
     "start_time": "2024-03-08T12:26:05.463721Z"
    }
   },
   "outputs": [
    {
     "data": {
      "text/plain": "                     mpg  cilindros  desplazamiento  potencia      peso  \\\nmpg             1.000000  -0.775396       -0.804203 -0.778427 -0.831741   \ncilindros      -0.775396   1.000000        0.950721  0.842983  0.896017   \ndesplazamiento -0.804203   0.950721        1.000000  0.897257  0.932824   \npotencia       -0.778427   0.842983        0.897257  1.000000  0.864538   \npeso           -0.831741   0.896017        0.932824  0.864538  1.000000   \naceleracion     0.420289  -0.505419       -0.543684 -0.689196 -0.417457   \naño             0.579267  -0.348746       -0.370164 -0.416361 -0.306564   \norigen          0.563450  -0.562543       -0.609409 -0.455171 -0.581024   \n\n                aceleracion       año    origen  \nmpg                0.420289  0.579267  0.563450  \ncilindros         -0.505419 -0.348746 -0.562543  \ndesplazamiento    -0.543684 -0.370164 -0.609409  \npotencia          -0.689196 -0.416361 -0.455171  \npeso              -0.417457 -0.306564 -0.581024  \naceleracion        1.000000  0.288137  0.205873  \naño                0.288137  1.000000  0.180662  \norigen             0.205873  0.180662  1.000000  ",
      "text/html": "<div>\n<style scoped>\n    .dataframe tbody tr th:only-of-type {\n        vertical-align: middle;\n    }\n\n    .dataframe tbody tr th {\n        vertical-align: top;\n    }\n\n    .dataframe thead th {\n        text-align: right;\n    }\n</style>\n<table border=\"1\" class=\"dataframe\">\n  <thead>\n    <tr style=\"text-align: right;\">\n      <th></th>\n      <th>mpg</th>\n      <th>cilindros</th>\n      <th>desplazamiento</th>\n      <th>potencia</th>\n      <th>peso</th>\n      <th>aceleracion</th>\n      <th>año</th>\n      <th>origen</th>\n    </tr>\n  </thead>\n  <tbody>\n    <tr>\n      <th>mpg</th>\n      <td>1.000000</td>\n      <td>-0.775396</td>\n      <td>-0.804203</td>\n      <td>-0.778427</td>\n      <td>-0.831741</td>\n      <td>0.420289</td>\n      <td>0.579267</td>\n      <td>0.563450</td>\n    </tr>\n    <tr>\n      <th>cilindros</th>\n      <td>-0.775396</td>\n      <td>1.000000</td>\n      <td>0.950721</td>\n      <td>0.842983</td>\n      <td>0.896017</td>\n      <td>-0.505419</td>\n      <td>-0.348746</td>\n      <td>-0.562543</td>\n    </tr>\n    <tr>\n      <th>desplazamiento</th>\n      <td>-0.804203</td>\n      <td>0.950721</td>\n      <td>1.000000</td>\n      <td>0.897257</td>\n      <td>0.932824</td>\n      <td>-0.543684</td>\n      <td>-0.370164</td>\n      <td>-0.609409</td>\n    </tr>\n    <tr>\n      <th>potencia</th>\n      <td>-0.778427</td>\n      <td>0.842983</td>\n      <td>0.897257</td>\n      <td>1.000000</td>\n      <td>0.864538</td>\n      <td>-0.689196</td>\n      <td>-0.416361</td>\n      <td>-0.455171</td>\n    </tr>\n    <tr>\n      <th>peso</th>\n      <td>-0.831741</td>\n      <td>0.896017</td>\n      <td>0.932824</td>\n      <td>0.864538</td>\n      <td>1.000000</td>\n      <td>-0.417457</td>\n      <td>-0.306564</td>\n      <td>-0.581024</td>\n    </tr>\n    <tr>\n      <th>aceleracion</th>\n      <td>0.420289</td>\n      <td>-0.505419</td>\n      <td>-0.543684</td>\n      <td>-0.689196</td>\n      <td>-0.417457</td>\n      <td>1.000000</td>\n      <td>0.288137</td>\n      <td>0.205873</td>\n    </tr>\n    <tr>\n      <th>año</th>\n      <td>0.579267</td>\n      <td>-0.348746</td>\n      <td>-0.370164</td>\n      <td>-0.416361</td>\n      <td>-0.306564</td>\n      <td>0.288137</td>\n      <td>1.000000</td>\n      <td>0.180662</td>\n    </tr>\n    <tr>\n      <th>origen</th>\n      <td>0.563450</td>\n      <td>-0.562543</td>\n      <td>-0.609409</td>\n      <td>-0.455171</td>\n      <td>-0.581024</td>\n      <td>0.205873</td>\n      <td>0.180662</td>\n      <td>1.000000</td>\n    </tr>\n  </tbody>\n</table>\n</div>"
     },
     "execution_count": 26,
     "metadata": {},
     "output_type": "execute_result"
    }
   ],
   "source": [
    "mpg_data.drop(['nombre'],axis=1).corr()"
   ]
  },
  {
   "cell_type": "code",
   "execution_count": 29,
   "metadata": {
    "slideshow": {
     "slide_type": "subslide"
    },
    "ExecuteTime": {
     "end_time": "2024-03-08T12:27:22.721605Z",
     "start_time": "2024-03-08T12:27:22.710499Z"
    }
   },
   "outputs": [
    {
     "data": {
      "text/plain": "                     mpg  cilindros  desplazamiento  potencia      peso  \\\nmpg             1.000000  -0.775396       -0.804203 -0.778427 -0.831741   \ncilindros      -0.775396   1.000000        0.950721  0.842983  0.896017   \ndesplazamiento -0.804203   0.950721        1.000000  0.897257  0.932824   \npotencia       -0.778427   0.842983        0.897257  1.000000  0.864538   \npeso           -0.831741   0.896017        0.932824  0.864538  1.000000   \naceleracion     0.420289  -0.505419       -0.543684 -0.689196 -0.417457   \n\n                aceleracion  \nmpg                0.420289  \ncilindros         -0.505419  \ndesplazamiento    -0.543684  \npotencia          -0.689196  \npeso              -0.417457  \naceleracion        1.000000  ",
      "text/html": "<div>\n<style scoped>\n    .dataframe tbody tr th:only-of-type {\n        vertical-align: middle;\n    }\n\n    .dataframe tbody tr th {\n        vertical-align: top;\n    }\n\n    .dataframe thead th {\n        text-align: right;\n    }\n</style>\n<table border=\"1\" class=\"dataframe\">\n  <thead>\n    <tr style=\"text-align: right;\">\n      <th></th>\n      <th>mpg</th>\n      <th>cilindros</th>\n      <th>desplazamiento</th>\n      <th>potencia</th>\n      <th>peso</th>\n      <th>aceleracion</th>\n    </tr>\n  </thead>\n  <tbody>\n    <tr>\n      <th>mpg</th>\n      <td>1.000000</td>\n      <td>-0.775396</td>\n      <td>-0.804203</td>\n      <td>-0.778427</td>\n      <td>-0.831741</td>\n      <td>0.420289</td>\n    </tr>\n    <tr>\n      <th>cilindros</th>\n      <td>-0.775396</td>\n      <td>1.000000</td>\n      <td>0.950721</td>\n      <td>0.842983</td>\n      <td>0.896017</td>\n      <td>-0.505419</td>\n    </tr>\n    <tr>\n      <th>desplazamiento</th>\n      <td>-0.804203</td>\n      <td>0.950721</td>\n      <td>1.000000</td>\n      <td>0.897257</td>\n      <td>0.932824</td>\n      <td>-0.543684</td>\n    </tr>\n    <tr>\n      <th>potencia</th>\n      <td>-0.778427</td>\n      <td>0.842983</td>\n      <td>0.897257</td>\n      <td>1.000000</td>\n      <td>0.864538</td>\n      <td>-0.689196</td>\n    </tr>\n    <tr>\n      <th>peso</th>\n      <td>-0.831741</td>\n      <td>0.896017</td>\n      <td>0.932824</td>\n      <td>0.864538</td>\n      <td>1.000000</td>\n      <td>-0.417457</td>\n    </tr>\n    <tr>\n      <th>aceleracion</th>\n      <td>0.420289</td>\n      <td>-0.505419</td>\n      <td>-0.543684</td>\n      <td>-0.689196</td>\n      <td>-0.417457</td>\n      <td>1.000000</td>\n    </tr>\n  </tbody>\n</table>\n</div>"
     },
     "metadata": {},
     "output_type": "display_data"
    }
   ],
   "source": [
    "#año y origen no parecen correlacionables. Evidentemente, el nombre tampoco es correlacionales y, como en el apartado anterior, también lo eliminamos\n",
    "#eliminar columnas de la correlacion\n",
    "corr_data = mpg_data.drop(['año','origen','nombre'],axis=1).corr()\n",
    "display(corr_data)"
   ]
  },
  {
   "cell_type": "code",
   "execution_count": 30,
   "metadata": {
    "ExecuteTime": {
     "end_time": "2024-03-08T12:27:28.285857Z",
     "start_time": "2024-03-08T12:27:27.329176Z"
    }
   },
   "outputs": [],
   "source": [
    "# representación gráfica matplotlib\n",
    "import matplotlib.pyplot as plt"
   ]
  },
  {
   "cell_type": "code",
   "execution_count": 31,
   "metadata": {
    "ExecuteTime": {
     "end_time": "2024-03-08T12:27:30.169739Z",
     "start_time": "2024-03-08T12:27:30.043462Z"
    }
   },
   "outputs": [
    {
     "data": {
      "text/plain": "<pandas.io.formats.style.Styler at 0x22fd5162050>",
      "text/html": "<style type=\"text/css\">\n#T_3a52c_row0_col0, #T_3a52c_row1_col1, #T_3a52c_row2_col2, #T_3a52c_row3_col3, #T_3a52c_row4_col4, #T_3a52c_row5_col5 {\n  background-color: #006837;\n  color: #f1f1f1;\n}\n#T_3a52c_row0_col1, #T_3a52c_row0_col3 {\n  background-color: #b30d26;\n  color: #f1f1f1;\n}\n#T_3a52c_row0_col2 {\n  background-color: #ab0626;\n  color: #f1f1f1;\n}\n#T_3a52c_row0_col4, #T_3a52c_row1_col0, #T_3a52c_row2_col0, #T_3a52c_row3_col0, #T_3a52c_row4_col0, #T_3a52c_row5_col3 {\n  background-color: #a50026;\n  color: #f1f1f1;\n}\n#T_3a52c_row0_col5 {\n  background-color: #afdd70;\n  color: #000000;\n}\n#T_3a52c_row1_col2 {\n  background-color: #07753e;\n  color: #f1f1f1;\n}\n#T_3a52c_row1_col3, #T_3a52c_row3_col1 {\n  background-color: #16914d;\n  color: #f1f1f1;\n}\n#T_3a52c_row1_col4, #T_3a52c_row2_col3, #T_3a52c_row3_col2, #T_3a52c_row4_col1 {\n  background-color: #0e8245;\n  color: #f1f1f1;\n}\n#T_3a52c_row1_col5 {\n  background-color: #e54e35;\n  color: #f1f1f1;\n}\n#T_3a52c_row2_col1 {\n  background-color: #06733d;\n  color: #f1f1f1;\n}\n#T_3a52c_row2_col4, #T_3a52c_row4_col2 {\n  background-color: #097940;\n  color: #f1f1f1;\n}\n#T_3a52c_row2_col5 {\n  background-color: #e34933;\n  color: #f1f1f1;\n}\n#T_3a52c_row3_col4 {\n  background-color: #138c4a;\n  color: #f1f1f1;\n}\n#T_3a52c_row3_col5 {\n  background-color: #bd1726;\n  color: #f1f1f1;\n}\n#T_3a52c_row4_col3 {\n  background-color: #128a49;\n  color: #f1f1f1;\n}\n#T_3a52c_row4_col5 {\n  background-color: #f67c4a;\n  color: #f1f1f1;\n}\n#T_3a52c_row5_col0 {\n  background-color: #bbe278;\n  color: #000000;\n}\n#T_3a52c_row5_col1 {\n  background-color: #d93429;\n  color: #f1f1f1;\n}\n#T_3a52c_row5_col2 {\n  background-color: #d02927;\n  color: #f1f1f1;\n}\n#T_3a52c_row5_col4 {\n  background-color: #e95538;\n  color: #f1f1f1;\n}\n</style>\n<table id=\"T_3a52c\">\n  <thead>\n    <tr>\n      <th class=\"blank level0\" >&nbsp;</th>\n      <th id=\"T_3a52c_level0_col0\" class=\"col_heading level0 col0\" >mpg</th>\n      <th id=\"T_3a52c_level0_col1\" class=\"col_heading level0 col1\" >cilindros</th>\n      <th id=\"T_3a52c_level0_col2\" class=\"col_heading level0 col2\" >desplazamiento</th>\n      <th id=\"T_3a52c_level0_col3\" class=\"col_heading level0 col3\" >potencia</th>\n      <th id=\"T_3a52c_level0_col4\" class=\"col_heading level0 col4\" >peso</th>\n      <th id=\"T_3a52c_level0_col5\" class=\"col_heading level0 col5\" >aceleracion</th>\n    </tr>\n  </thead>\n  <tbody>\n    <tr>\n      <th id=\"T_3a52c_level0_row0\" class=\"row_heading level0 row0\" >mpg</th>\n      <td id=\"T_3a52c_row0_col0\" class=\"data row0 col0\" >1.000000</td>\n      <td id=\"T_3a52c_row0_col1\" class=\"data row0 col1\" >-0.775396</td>\n      <td id=\"T_3a52c_row0_col2\" class=\"data row0 col2\" >-0.804203</td>\n      <td id=\"T_3a52c_row0_col3\" class=\"data row0 col3\" >-0.778427</td>\n      <td id=\"T_3a52c_row0_col4\" class=\"data row0 col4\" >-0.831741</td>\n      <td id=\"T_3a52c_row0_col5\" class=\"data row0 col5\" >0.420289</td>\n    </tr>\n    <tr>\n      <th id=\"T_3a52c_level0_row1\" class=\"row_heading level0 row1\" >cilindros</th>\n      <td id=\"T_3a52c_row1_col0\" class=\"data row1 col0\" >-0.775396</td>\n      <td id=\"T_3a52c_row1_col1\" class=\"data row1 col1\" >1.000000</td>\n      <td id=\"T_3a52c_row1_col2\" class=\"data row1 col2\" >0.950721</td>\n      <td id=\"T_3a52c_row1_col3\" class=\"data row1 col3\" >0.842983</td>\n      <td id=\"T_3a52c_row1_col4\" class=\"data row1 col4\" >0.896017</td>\n      <td id=\"T_3a52c_row1_col5\" class=\"data row1 col5\" >-0.505419</td>\n    </tr>\n    <tr>\n      <th id=\"T_3a52c_level0_row2\" class=\"row_heading level0 row2\" >desplazamiento</th>\n      <td id=\"T_3a52c_row2_col0\" class=\"data row2 col0\" >-0.804203</td>\n      <td id=\"T_3a52c_row2_col1\" class=\"data row2 col1\" >0.950721</td>\n      <td id=\"T_3a52c_row2_col2\" class=\"data row2 col2\" >1.000000</td>\n      <td id=\"T_3a52c_row2_col3\" class=\"data row2 col3\" >0.897257</td>\n      <td id=\"T_3a52c_row2_col4\" class=\"data row2 col4\" >0.932824</td>\n      <td id=\"T_3a52c_row2_col5\" class=\"data row2 col5\" >-0.543684</td>\n    </tr>\n    <tr>\n      <th id=\"T_3a52c_level0_row3\" class=\"row_heading level0 row3\" >potencia</th>\n      <td id=\"T_3a52c_row3_col0\" class=\"data row3 col0\" >-0.778427</td>\n      <td id=\"T_3a52c_row3_col1\" class=\"data row3 col1\" >0.842983</td>\n      <td id=\"T_3a52c_row3_col2\" class=\"data row3 col2\" >0.897257</td>\n      <td id=\"T_3a52c_row3_col3\" class=\"data row3 col3\" >1.000000</td>\n      <td id=\"T_3a52c_row3_col4\" class=\"data row3 col4\" >0.864538</td>\n      <td id=\"T_3a52c_row3_col5\" class=\"data row3 col5\" >-0.689196</td>\n    </tr>\n    <tr>\n      <th id=\"T_3a52c_level0_row4\" class=\"row_heading level0 row4\" >peso</th>\n      <td id=\"T_3a52c_row4_col0\" class=\"data row4 col0\" >-0.831741</td>\n      <td id=\"T_3a52c_row4_col1\" class=\"data row4 col1\" >0.896017</td>\n      <td id=\"T_3a52c_row4_col2\" class=\"data row4 col2\" >0.932824</td>\n      <td id=\"T_3a52c_row4_col3\" class=\"data row4 col3\" >0.864538</td>\n      <td id=\"T_3a52c_row4_col4\" class=\"data row4 col4\" >1.000000</td>\n      <td id=\"T_3a52c_row4_col5\" class=\"data row4 col5\" >-0.417457</td>\n    </tr>\n    <tr>\n      <th id=\"T_3a52c_level0_row5\" class=\"row_heading level0 row5\" >aceleracion</th>\n      <td id=\"T_3a52c_row5_col0\" class=\"data row5 col0\" >0.420289</td>\n      <td id=\"T_3a52c_row5_col1\" class=\"data row5 col1\" >-0.505419</td>\n      <td id=\"T_3a52c_row5_col2\" class=\"data row5 col2\" >-0.543684</td>\n      <td id=\"T_3a52c_row5_col3\" class=\"data row5 col3\" >-0.689196</td>\n      <td id=\"T_3a52c_row5_col4\" class=\"data row5 col4\" >-0.417457</td>\n      <td id=\"T_3a52c_row5_col5\" class=\"data row5 col5\" >1.000000</td>\n    </tr>\n  </tbody>\n</table>\n"
     },
     "execution_count": 31,
     "metadata": {},
     "output_type": "execute_result"
    }
   ],
   "source": [
    "# representación gráfica\n",
    "corr_data.style.background_gradient(cmap=plt.get_cmap('RdYlGn'), axis=1)"
   ]
  },
  {
   "cell_type": "code",
   "execution_count": 33,
   "metadata": {
    "slideshow": {
     "slide_type": "fragment"
    },
    "ExecuteTime": {
     "end_time": "2024-03-08T12:27:53.433387Z",
     "start_time": "2024-03-08T12:27:53.425630Z"
    }
   },
   "outputs": [
    {
     "data": {
      "text/plain": "mpg                   peso\ncilindros              mpg\ndesplazamiento         mpg\npotencia               mpg\npeso                   mpg\naceleracion       potencia\ndtype: object"
     },
     "execution_count": 33,
     "metadata": {},
     "output_type": "execute_result"
    }
   ],
   "source": [
    "# correlación más negativa\n",
    "mpg_data.drop(['año','origen','nombre'],axis=1).corr().idxmin()"
   ]
  },
  {
   "cell_type": "code",
   "execution_count": 34,
   "metadata": {
    "ExecuteTime": {
     "end_time": "2024-03-08T12:28:07.533090Z",
     "start_time": "2024-03-08T12:28:07.525573Z"
    }
   },
   "outputs": [
    {
     "data": {
      "text/plain": "mpg                          mpg\ncilindros              cilindros\ndesplazamiento    desplazamiento\npotencia                potencia\npeso                        peso\naceleracion          aceleracion\ndtype: object"
     },
     "execution_count": 34,
     "metadata": {},
     "output_type": "execute_result"
    }
   ],
   "source": [
    "# correlación más positiva\n",
    "mpg_data.drop(['año','origen','nombre'],axis=1).corr().idxmax()  #consigo misma...."
   ]
  },
  {
   "cell_type": "code",
   "execution_count": 35,
   "metadata": {
    "slideshow": {
     "slide_type": "fragment"
    },
    "ExecuteTime": {
     "end_time": "2024-03-08T12:28:17.209879Z",
     "start_time": "2024-03-08T12:28:17.202229Z"
    }
   },
   "outputs": [
    {
     "data": {
      "text/plain": "mpg                  aceleracion\ncilindros         desplazamiento\ndesplazamiento         cilindros\npotencia          desplazamiento\npeso              desplazamiento\naceleracion                  mpg\ndtype: object"
     },
     "execution_count": 35,
     "metadata": {},
     "output_type": "execute_result"
    }
   ],
   "source": [
    "# tabla similar con las correlaciones más positivas (evitar parejas del mismo valor)\n",
    "positive_corr = mpg_data.drop(['año','origen','nombre'],axis=1).corr()\n",
    "np.fill_diagonal(positive_corr.values, 0)\n",
    "# display(positive_corr)\n",
    "positive_corr.idxmax()"
   ]
  },
  {
   "cell_type": "code",
   "execution_count": 36,
   "metadata": {
    "ExecuteTime": {
     "end_time": "2024-03-08T12:29:01.974580Z",
     "start_time": "2024-03-08T12:29:01.963908Z"
    }
   },
   "outputs": [
    {
     "data": {
      "text/plain": "<pandas.io.formats.style.Styler at 0x22fd5352050>",
      "text/html": "<style type=\"text/css\">\n#T_94344_row0_col0 {\n  background-color: #b7e075;\n  color: #000000;\n}\n#T_94344_row0_col1 {\n  background-color: #bb1526;\n  color: #f1f1f1;\n}\n#T_94344_row0_col2 {\n  background-color: #af0926;\n  color: #f1f1f1;\n}\n#T_94344_row0_col3 {\n  background-color: #b91326;\n  color: #f1f1f1;\n}\n#T_94344_row0_col4, #T_94344_row1_col0, #T_94344_row2_col0, #T_94344_row3_col0, #T_94344_row4_col0, #T_94344_row5_col3 {\n  background-color: #a50026;\n  color: #f1f1f1;\n}\n#T_94344_row0_col5, #T_94344_row1_col2, #T_94344_row2_col1, #T_94344_row3_col2, #T_94344_row4_col2, #T_94344_row5_col0 {\n  background-color: #006837;\n  color: #f1f1f1;\n}\n#T_94344_row1_col1 {\n  background-color: #feefa3;\n  color: #000000;\n}\n#T_94344_row1_col3 {\n  background-color: #0f8446;\n  color: #f1f1f1;\n}\n#T_94344_row1_col4, #T_94344_row3_col1 {\n  background-color: #08773f;\n  color: #f1f1f1;\n}\n#T_94344_row1_col5 {\n  background-color: #e75337;\n  color: #f1f1f1;\n}\n#T_94344_row2_col2 {\n  background-color: #fff2aa;\n  color: #000000;\n}\n#T_94344_row2_col3 {\n  background-color: #07753e;\n  color: #f1f1f1;\n}\n#T_94344_row2_col4 {\n  background-color: #026c39;\n  color: #f1f1f1;\n}\n#T_94344_row2_col5 {\n  background-color: #e54e35;\n  color: #f1f1f1;\n}\n#T_94344_row3_col3 {\n  background-color: #fff3ac;\n  color: #000000;\n}\n#T_94344_row3_col4 {\n  background-color: #04703b;\n  color: #f1f1f1;\n}\n#T_94344_row3_col5 {\n  background-color: #be1827;\n  color: #f1f1f1;\n}\n#T_94344_row4_col1 {\n  background-color: #05713c;\n  color: #f1f1f1;\n}\n#T_94344_row4_col3 {\n  background-color: #097940;\n  color: #f1f1f1;\n}\n#T_94344_row4_col4 {\n  background-color: #fff6b0;\n  color: #000000;\n}\n#T_94344_row4_col5 {\n  background-color: #f7844e;\n  color: #f1f1f1;\n}\n#T_94344_row5_col1 {\n  background-color: #ea5739;\n  color: #f1f1f1;\n}\n#T_94344_row5_col2 {\n  background-color: #e0422f;\n  color: #f1f1f1;\n}\n#T_94344_row5_col4 {\n  background-color: #f88950;\n  color: #f1f1f1;\n}\n#T_94344_row5_col5 {\n  background-color: #cdea83;\n  color: #000000;\n}\n</style>\n<table id=\"T_94344\">\n  <thead>\n    <tr>\n      <th class=\"blank level0\" >&nbsp;</th>\n      <th id=\"T_94344_level0_col0\" class=\"col_heading level0 col0\" >mpg</th>\n      <th id=\"T_94344_level0_col1\" class=\"col_heading level0 col1\" >cilindros</th>\n      <th id=\"T_94344_level0_col2\" class=\"col_heading level0 col2\" >desplazamiento</th>\n      <th id=\"T_94344_level0_col3\" class=\"col_heading level0 col3\" >potencia</th>\n      <th id=\"T_94344_level0_col4\" class=\"col_heading level0 col4\" >peso</th>\n      <th id=\"T_94344_level0_col5\" class=\"col_heading level0 col5\" >aceleracion</th>\n    </tr>\n  </thead>\n  <tbody>\n    <tr>\n      <th id=\"T_94344_level0_row0\" class=\"row_heading level0 row0\" >mpg</th>\n      <td id=\"T_94344_row0_col0\" class=\"data row0 col0\" >0.000000</td>\n      <td id=\"T_94344_row0_col1\" class=\"data row0 col1\" >-0.775396</td>\n      <td id=\"T_94344_row0_col2\" class=\"data row0 col2\" >-0.804203</td>\n      <td id=\"T_94344_row0_col3\" class=\"data row0 col3\" >-0.778427</td>\n      <td id=\"T_94344_row0_col4\" class=\"data row0 col4\" >-0.831741</td>\n      <td id=\"T_94344_row0_col5\" class=\"data row0 col5\" >0.420289</td>\n    </tr>\n    <tr>\n      <th id=\"T_94344_level0_row1\" class=\"row_heading level0 row1\" >cilindros</th>\n      <td id=\"T_94344_row1_col0\" class=\"data row1 col0\" >-0.775396</td>\n      <td id=\"T_94344_row1_col1\" class=\"data row1 col1\" >0.000000</td>\n      <td id=\"T_94344_row1_col2\" class=\"data row1 col2\" >0.950721</td>\n      <td id=\"T_94344_row1_col3\" class=\"data row1 col3\" >0.842983</td>\n      <td id=\"T_94344_row1_col4\" class=\"data row1 col4\" >0.896017</td>\n      <td id=\"T_94344_row1_col5\" class=\"data row1 col5\" >-0.505419</td>\n    </tr>\n    <tr>\n      <th id=\"T_94344_level0_row2\" class=\"row_heading level0 row2\" >desplazamiento</th>\n      <td id=\"T_94344_row2_col0\" class=\"data row2 col0\" >-0.804203</td>\n      <td id=\"T_94344_row2_col1\" class=\"data row2 col1\" >0.950721</td>\n      <td id=\"T_94344_row2_col2\" class=\"data row2 col2\" >0.000000</td>\n      <td id=\"T_94344_row2_col3\" class=\"data row2 col3\" >0.897257</td>\n      <td id=\"T_94344_row2_col4\" class=\"data row2 col4\" >0.932824</td>\n      <td id=\"T_94344_row2_col5\" class=\"data row2 col5\" >-0.543684</td>\n    </tr>\n    <tr>\n      <th id=\"T_94344_level0_row3\" class=\"row_heading level0 row3\" >potencia</th>\n      <td id=\"T_94344_row3_col0\" class=\"data row3 col0\" >-0.778427</td>\n      <td id=\"T_94344_row3_col1\" class=\"data row3 col1\" >0.842983</td>\n      <td id=\"T_94344_row3_col2\" class=\"data row3 col2\" >0.897257</td>\n      <td id=\"T_94344_row3_col3\" class=\"data row3 col3\" >0.000000</td>\n      <td id=\"T_94344_row3_col4\" class=\"data row3 col4\" >0.864538</td>\n      <td id=\"T_94344_row3_col5\" class=\"data row3 col5\" >-0.689196</td>\n    </tr>\n    <tr>\n      <th id=\"T_94344_level0_row4\" class=\"row_heading level0 row4\" >peso</th>\n      <td id=\"T_94344_row4_col0\" class=\"data row4 col0\" >-0.831741</td>\n      <td id=\"T_94344_row4_col1\" class=\"data row4 col1\" >0.896017</td>\n      <td id=\"T_94344_row4_col2\" class=\"data row4 col2\" >0.932824</td>\n      <td id=\"T_94344_row4_col3\" class=\"data row4 col3\" >0.864538</td>\n      <td id=\"T_94344_row4_col4\" class=\"data row4 col4\" >0.000000</td>\n      <td id=\"T_94344_row4_col5\" class=\"data row4 col5\" >-0.417457</td>\n    </tr>\n    <tr>\n      <th id=\"T_94344_level0_row5\" class=\"row_heading level0 row5\" >aceleracion</th>\n      <td id=\"T_94344_row5_col0\" class=\"data row5 col0\" >0.420289</td>\n      <td id=\"T_94344_row5_col1\" class=\"data row5 col1\" >-0.505419</td>\n      <td id=\"T_94344_row5_col2\" class=\"data row5 col2\" >-0.543684</td>\n      <td id=\"T_94344_row5_col3\" class=\"data row5 col3\" >-0.689196</td>\n      <td id=\"T_94344_row5_col4\" class=\"data row5 col4\" >-0.417457</td>\n      <td id=\"T_94344_row5_col5\" class=\"data row5 col5\" >0.000000</td>\n    </tr>\n  </tbody>\n</table>\n"
     },
     "execution_count": 36,
     "metadata": {},
     "output_type": "execute_result"
    }
   ],
   "source": [
    "positive_corr.style.background_gradient(cmap=plt.get_cmap('RdYlGn'), axis=1)"
   ]
  },
  {
   "cell_type": "markdown",
   "source": [
    "## <img src=\"img/by-nc.png\" width=\"200\">"
   ],
   "metadata": {
    "collapsed": false
   }
  },
  {
   "cell_type": "code",
   "outputs": [],
   "source": [],
   "metadata": {
    "collapsed": false
   }
  }
 ],
 "metadata": {
  "celltoolbar": "Slideshow",
  "kernelspec": {
   "display_name": "Python 3",
   "language": "python",
   "name": "python3"
  },
  "language_info": {
   "codemirror_mode": {
    "name": "ipython",
    "version": 3
   },
   "file_extension": ".py",
   "mimetype": "text/x-python",
   "name": "python",
   "nbconvert_exporter": "python",
   "pygments_lexer": "ipython3",
   "version": "3.8.8"
  }
 },
 "nbformat": 4,
 "nbformat_minor": 4
}
