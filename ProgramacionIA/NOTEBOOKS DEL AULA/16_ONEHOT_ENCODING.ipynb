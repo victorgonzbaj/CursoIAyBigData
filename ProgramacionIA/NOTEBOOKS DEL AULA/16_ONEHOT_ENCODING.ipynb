{
 "cells": [
  {
   "cell_type": "markdown",
   "metadata": {},
   "source": [
    "# ONE-HOT ENCODING"
   ]
  },
  {
   "cell_type": "code",
   "execution_count": 1,
   "metadata": {},
   "outputs": [],
   "source": [
    "import pandas as pd\n",
    "import numpy as np"
   ]
  },
  {
   "cell_type": "markdown",
   "metadata": {},
   "source": [
    "**pd.get_dummies()** es útil para un desarrollo simple, si por ejemplo se está llevando a cabo un análisis exploratorio de datos. Este método transforma el DataFrame directamente.\n",
    "También responde muy bien ante variables nulas (deja todos los valores como 0), funcionalidad que *OneHotEncoder* de *sci-kit learn* no hace."
   ]
  },
  {
   "cell_type": "code",
   "execution_count": 2,
   "metadata": {},
   "outputs": [
    {
     "name": "stdout",
     "output_type": "stream",
     "text": [
      "    A_a1   A_a2   A_a3   B_b1   B_b2   B_b3\n",
      "0   True  False  False   True  False  False\n",
      "1  False   True  False  False   True  False\n",
      "2  False  False   True  False  False   True\n",
      "3  False  False  False  False  False   True\n"
     ]
    }
   ],
   "source": [
    "\n",
    "df = pd.DataFrame({'A':['a1','a2','a3',np.nan],\n",
    "                                'B':['b1','b2','b3','b3']})\n",
    "print(pd.get_dummies(df))"
   ]
  },
  {
   "cell_type": "markdown",
   "metadata": {},
   "source": [
    "En el caso de *OneHotEncoder* es posible sustituir las clases nulas pero se debe tener cuidado con la *multicolinealidad* (La **multicolinealidad** ocurre cuando las variables independientes (predictores) en un modelo de regresión están correlacionadas. Si el grado de correlación entre las variables independientes es elevado, no será posible aislar la relación entre cada variable independiente y la variable dependiente (respuesta)).   \n",
    "\n",
    "\n",
    "Si se va a realizar un modelo es muy recomendable usar *OneHotEncoder*, ya que este crea una clase que permite hacer *fit* de nuevos datos conservando las caracterisitcas previas definidas para el modelo, de forma que se vuelve escalable para nuevos datos en ese modelo. No es tan simple como *pd.get_dummies* pero funciona mejor en un pipeline de producción.   \n",
    "\n",
    "NOTA:   \n",
    "Es necesario siempre borrar una columna extra en los *dummies* para evitar multicolinealidad: **pd.get_dummies(drop_first=True)** o **(OneHotEncoder(drop=‘first’))**.   \n",
    "De igual manera, los datos nulos es mejor que sean definidos como otra categoria también para evitar el mismo problema de multicolinealidad.\n"
   ]
  },
  {
   "cell_type": "code",
   "execution_count": 3,
   "metadata": {},
   "outputs": [
    {
     "name": "stderr",
     "output_type": "stream",
     "text": [
      "/Users/jordi/anaconda3/envs/env_ceia/lib/python3.11/site-packages/sklearn/preprocessing/_encoders.py:975: FutureWarning: `sparse` was renamed to `sparse_output` in version 1.2 and will be removed in 1.4. `sparse_output` is ignored unless you leave `sparse` to its default value.\n",
      "  warnings.warn(\n"
     ]
    },
    {
     "data": {
      "text/plain": [
       "array([[1., 0., 0., 0., 1., 0., 0.],\n",
       "       [0., 1., 0., 0., 0., 1., 0.],\n",
       "       [0., 0., 1., 0., 0., 0., 1.],\n",
       "       [0., 0., 0., 1., 0., 0., 1.]])"
      ]
     },
     "execution_count": 3,
     "metadata": {},
     "output_type": "execute_result"
    }
   ],
   "source": [
    "from sklearn.preprocessing import OneHotEncoder\n",
    "ohe_class = OneHotEncoder(handle_unknown='ignore',\n",
    "              sparse=False)\n",
    "ohe_class.fit(df.fillna('nan'))\n",
    "ohe_class.transform(df.fillna('nan'))"
   ]
  },
  {
   "cell_type": "markdown",
   "metadata": {},
   "source": [
    "EJEMPLO CON VARIOS MÉTODOS DE ONE-HOT ENCODING (OHE)"
   ]
  },
  {
   "cell_type": "code",
   "execution_count": 24,
   "metadata": {},
   "outputs": [],
   "source": [
    "# Importamos librerías necesarias\n",
    "import pandas as pd\n",
    "import joblib\n",
    "from sklearn import preprocessing\n",
    "from category_encoders import one_hot\n",
    "# Creating a small DataFrame with fake animal data\n",
    "animales_df = pd.DataFrame({'animal': ['gato', 'perro', 'pajaro', 'mono', 'elefante', 'gato', 'pajaro']})"
   ]
  },
  {
   "cell_type": "code",
   "execution_count": 25,
   "metadata": {},
   "outputs": [
    {
     "data": {
      "text/html": [
       "<div>\n",
       "<style scoped>\n",
       "    .dataframe tbody tr th:only-of-type {\n",
       "        vertical-align: middle;\n",
       "    }\n",
       "\n",
       "    .dataframe tbody tr th {\n",
       "        vertical-align: top;\n",
       "    }\n",
       "\n",
       "    .dataframe thead th {\n",
       "        text-align: right;\n",
       "    }\n",
       "</style>\n",
       "<table border=\"1\" class=\"dataframe\">\n",
       "  <thead>\n",
       "    <tr style=\"text-align: right;\">\n",
       "      <th></th>\n",
       "      <th>animal</th>\n",
       "    </tr>\n",
       "  </thead>\n",
       "  <tbody>\n",
       "    <tr>\n",
       "      <th>0</th>\n",
       "      <td>gato</td>\n",
       "    </tr>\n",
       "    <tr>\n",
       "      <th>1</th>\n",
       "      <td>perro</td>\n",
       "    </tr>\n",
       "    <tr>\n",
       "      <th>2</th>\n",
       "      <td>pajaro</td>\n",
       "    </tr>\n",
       "    <tr>\n",
       "      <th>3</th>\n",
       "      <td>mono</td>\n",
       "    </tr>\n",
       "    <tr>\n",
       "      <th>4</th>\n",
       "      <td>elefante</td>\n",
       "    </tr>\n",
       "    <tr>\n",
       "      <th>5</th>\n",
       "      <td>gato</td>\n",
       "    </tr>\n",
       "    <tr>\n",
       "      <th>6</th>\n",
       "      <td>pajaro</td>\n",
       "    </tr>\n",
       "  </tbody>\n",
       "</table>\n",
       "</div>"
      ],
      "text/plain": [
       "     animal\n",
       "0      gato\n",
       "1     perro\n",
       "2    pajaro\n",
       "3      mono\n",
       "4  elefante\n",
       "5      gato\n",
       "6    pajaro"
      ]
     },
     "execution_count": 25,
     "metadata": {},
     "output_type": "execute_result"
    }
   ],
   "source": [
    "animales_df"
   ]
  },
  {
   "cell_type": "markdown",
   "metadata": {},
   "source": [
    "Cómo se observa, de forma intencionada se ha repetido varios tipos de animales para, al pasar el codificador, ver que realmente funciona"
   ]
  },
  {
   "cell_type": "code",
   "execution_count": 26,
   "metadata": {},
   "outputs": [],
   "source": [
    "# Realizando 'One-Hot encoding' utilizando la función de Pandas \"get_dummies\"\n",
    "pandas_dummies = pd.get_dummies(animales_df['animal'])"
   ]
  },
  {
   "cell_type": "code",
   "execution_count": 27,
   "metadata": {},
   "outputs": [
    {
     "data": {
      "text/html": [
       "<div>\n",
       "<style scoped>\n",
       "    .dataframe tbody tr th:only-of-type {\n",
       "        vertical-align: middle;\n",
       "    }\n",
       "\n",
       "    .dataframe tbody tr th {\n",
       "        vertical-align: top;\n",
       "    }\n",
       "\n",
       "    .dataframe thead th {\n",
       "        text-align: right;\n",
       "    }\n",
       "</style>\n",
       "<table border=\"1\" class=\"dataframe\">\n",
       "  <thead>\n",
       "    <tr style=\"text-align: right;\">\n",
       "      <th></th>\n",
       "      <th>elefante</th>\n",
       "      <th>gato</th>\n",
       "      <th>mono</th>\n",
       "      <th>pajaro</th>\n",
       "      <th>perro</th>\n",
       "    </tr>\n",
       "  </thead>\n",
       "  <tbody>\n",
       "    <tr>\n",
       "      <th>0</th>\n",
       "      <td>False</td>\n",
       "      <td>True</td>\n",
       "      <td>False</td>\n",
       "      <td>False</td>\n",
       "      <td>False</td>\n",
       "    </tr>\n",
       "    <tr>\n",
       "      <th>1</th>\n",
       "      <td>False</td>\n",
       "      <td>False</td>\n",
       "      <td>False</td>\n",
       "      <td>False</td>\n",
       "      <td>True</td>\n",
       "    </tr>\n",
       "    <tr>\n",
       "      <th>2</th>\n",
       "      <td>False</td>\n",
       "      <td>False</td>\n",
       "      <td>False</td>\n",
       "      <td>True</td>\n",
       "      <td>False</td>\n",
       "    </tr>\n",
       "    <tr>\n",
       "      <th>3</th>\n",
       "      <td>False</td>\n",
       "      <td>False</td>\n",
       "      <td>True</td>\n",
       "      <td>False</td>\n",
       "      <td>False</td>\n",
       "    </tr>\n",
       "    <tr>\n",
       "      <th>4</th>\n",
       "      <td>True</td>\n",
       "      <td>False</td>\n",
       "      <td>False</td>\n",
       "      <td>False</td>\n",
       "      <td>False</td>\n",
       "    </tr>\n",
       "    <tr>\n",
       "      <th>5</th>\n",
       "      <td>False</td>\n",
       "      <td>True</td>\n",
       "      <td>False</td>\n",
       "      <td>False</td>\n",
       "      <td>False</td>\n",
       "    </tr>\n",
       "    <tr>\n",
       "      <th>6</th>\n",
       "      <td>False</td>\n",
       "      <td>False</td>\n",
       "      <td>False</td>\n",
       "      <td>True</td>\n",
       "      <td>False</td>\n",
       "    </tr>\n",
       "  </tbody>\n",
       "</table>\n",
       "</div>"
      ],
      "text/plain": [
       "   elefante   gato   mono  pajaro  perro\n",
       "0     False   True  False   False  False\n",
       "1     False  False  False   False   True\n",
       "2     False  False  False    True  False\n",
       "3     False  False   True   False  False\n",
       "4      True  False  False   False  False\n",
       "5     False   True  False   False  False\n",
       "6     False  False  False    True  False"
      ]
     },
     "execution_count": 27,
     "metadata": {},
     "output_type": "execute_result"
    }
   ],
   "source": [
    "pandas_dummies"
   ]
  },
  {
   "cell_type": "markdown",
   "metadata": {},
   "source": [
    "Usando la libreria OneHotEncoder de Scikit-Learn"
   ]
  },
  {
   "cell_type": "code",
   "execution_count": 28,
   "metadata": {},
   "outputs": [],
   "source": [
    "# Instanciando el objeto OHE de Scikit-Learn\n",
    "sklearn_ohe = preprocessing.OneHotEncoder()"
   ]
  },
  {
   "cell_type": "code",
   "execution_count": 29,
   "metadata": {},
   "outputs": [],
   "source": [
    "# \"Convirtiendo\" el DataFrame de animales para transformarlo con el OHE \n",
    "# de Scikit-Learn a través de la función sklearn_ohe.fit_transform()\n",
    "sklearn_dummies = sklearn_ohe.fit_transform(animales_df)\n"
   ]
  },
  {
   "cell_type": "code",
   "execution_count": 30,
   "metadata": {},
   "outputs": [],
   "source": [
    "# Usamos el output de \"dummies\" y las categorías ya transformadas para \n",
    "# obtener un aspecto más claro de nuestro dataframe\n",
    "sklearn_dummies_df = pd.DataFrame(data = sklearn_dummies.toarray(), \n",
    "                                  columns = sklearn_ohe.categories_)"
   ]
  },
  {
   "cell_type": "code",
   "execution_count": 31,
   "metadata": {},
   "outputs": [
    {
     "data": {
      "text/plain": [
       "['sklearn_ohe.pkl']"
      ]
     },
     "execution_count": 31,
     "metadata": {},
     "output_type": "execute_result"
    }
   ],
   "source": [
    "# Se realiza el volcado del objeto \"transformador\" a un fichero externo \n",
    "# usando el formato *.pickle\n",
    "joblib.dump(sklearn_ohe, 'sklearn_ohe.pkl')"
   ]
  },
  {
   "cell_type": "markdown",
   "metadata": {},
   "source": [
    "Otra posibilidad, como ya se ha visto, es usando la librería de Python denominada **Category_Encoders**.    \n",
    "\n",
    "Para su instalación:   \n",
    "```python\n",
    "pip install category_encoders # desde el terminal de sistema\n",
    "\n",
    "conda install -c conda-forge category_encoders # desde el terminal de anaconda\n",
    "```\n"
   ]
  },
  {
   "cell_type": "code",
   "execution_count": 32,
   "metadata": {},
   "outputs": [],
   "source": [
    "# Instanciamos el objeto OHE de la librería \"Category Encoders\"\n",
    "ce_ohe = one_hot.OneHotEncoder(use_cat_names = True)"
   ]
  },
  {
   "cell_type": "code",
   "execution_count": 33,
   "metadata": {},
   "outputs": [],
   "source": [
    "# \"Convirtiendo\" el DataFrame de animales para transformarlo con el OHE \n",
    "# de \"Category Encoders\"\n",
    "ce_dummies = ce_ohe.fit_transform(animales_df)"
   ]
  },
  {
   "cell_type": "code",
   "execution_count": 34,
   "metadata": {},
   "outputs": [
    {
     "data": {
      "text/plain": [
       "['ce_ohe.pkl']"
      ]
     },
     "execution_count": 34,
     "metadata": {},
     "output_type": "execute_result"
    }
   ],
   "source": [
    "# Se realiza el volcado del objeto \"transformador\" a un fichero externo \n",
    "# usando el formato *.pickle\n",
    "joblib.dump(ce_ohe, 'ce_ohe.pkl')"
   ]
  },
  {
   "cell_type": "markdown",
   "metadata": {},
   "source": [
    "Para probar que estos transformadores están haciendo lo que se espera que hagan, se reimportan desde sus archivos .pickle exportados y se realiza la codificación en una nueva versión del DataFrame de animales. Es bastante similar al original, pero con los valores reordenados."
   ]
  },
  {
   "cell_type": "code",
   "execution_count": 35,
   "metadata": {},
   "outputs": [],
   "source": [
    "# Creacion de un nuevo DataFrame de animales\n",
    "new_animales_df = pd.DataFrame({'animal': ['gato', 'gato', 'perro', 'mono', 'elefante', 'gato', 'pajaro', 'perro']})\n"
   ]
  },
  {
   "cell_type": "code",
   "execution_count": 36,
   "metadata": {},
   "outputs": [],
   "source": [
    "# Importamos los ficheros pickle que se han exportado previamente\n",
    "imported_sklearn_ohe = joblib.load('sklearn_ohe.pkl')\n",
    "imported_ce_ohe = joblib.load('ce_ohe.pkl')\n"
   ]
  },
  {
   "cell_type": "code",
   "execution_count": 37,
   "metadata": {},
   "outputs": [],
   "source": [
    "# Ejecución de los datos transformados sobre el nuevo dataframe de animales\n",
    "# 1º - Usando OHE de Scikit-Learn\n",
    "loaded_sklearn_dummies = imported_sklearn_ohe.transform(new_animales_df)\n",
    "loaded_sklearn_dummies_df = pd.DataFrame(data = loaded_sklearn_dummies.toarray(), \n",
    "                                         columns = imported_sklearn_ohe.categories_)\n"
   ]
  },
  {
   "cell_type": "code",
   "execution_count": 38,
   "metadata": {},
   "outputs": [],
   "source": [
    "# 2º - Usando OHE de Category Encoders\n",
    "loaded_ce_dummies = imported_ce_ohe.transform(new_animales_df)"
   ]
  },
  {
   "cell_type": "code",
   "execution_count": 39,
   "metadata": {},
   "outputs": [
    {
     "data": {
      "text/html": [
       "<div>\n",
       "<style scoped>\n",
       "    .dataframe tbody tr th:only-of-type {\n",
       "        vertical-align: middle;\n",
       "    }\n",
       "\n",
       "    .dataframe tbody tr th {\n",
       "        vertical-align: top;\n",
       "    }\n",
       "\n",
       "    .dataframe thead th {\n",
       "        text-align: right;\n",
       "    }\n",
       "</style>\n",
       "<table border=\"1\" class=\"dataframe\">\n",
       "  <thead>\n",
       "    <tr style=\"text-align: right;\">\n",
       "      <th></th>\n",
       "      <th>animal_gato</th>\n",
       "      <th>animal_perro</th>\n",
       "      <th>animal_pajaro</th>\n",
       "      <th>animal_mono</th>\n",
       "      <th>animal_elefante</th>\n",
       "    </tr>\n",
       "  </thead>\n",
       "  <tbody>\n",
       "    <tr>\n",
       "      <th>0</th>\n",
       "      <td>1</td>\n",
       "      <td>0</td>\n",
       "      <td>0</td>\n",
       "      <td>0</td>\n",
       "      <td>0</td>\n",
       "    </tr>\n",
       "    <tr>\n",
       "      <th>1</th>\n",
       "      <td>1</td>\n",
       "      <td>0</td>\n",
       "      <td>0</td>\n",
       "      <td>0</td>\n",
       "      <td>0</td>\n",
       "    </tr>\n",
       "    <tr>\n",
       "      <th>2</th>\n",
       "      <td>0</td>\n",
       "      <td>1</td>\n",
       "      <td>0</td>\n",
       "      <td>0</td>\n",
       "      <td>0</td>\n",
       "    </tr>\n",
       "    <tr>\n",
       "      <th>3</th>\n",
       "      <td>0</td>\n",
       "      <td>0</td>\n",
       "      <td>0</td>\n",
       "      <td>1</td>\n",
       "      <td>0</td>\n",
       "    </tr>\n",
       "    <tr>\n",
       "      <th>4</th>\n",
       "      <td>0</td>\n",
       "      <td>0</td>\n",
       "      <td>0</td>\n",
       "      <td>0</td>\n",
       "      <td>1</td>\n",
       "    </tr>\n",
       "    <tr>\n",
       "      <th>5</th>\n",
       "      <td>1</td>\n",
       "      <td>0</td>\n",
       "      <td>0</td>\n",
       "      <td>0</td>\n",
       "      <td>0</td>\n",
       "    </tr>\n",
       "    <tr>\n",
       "      <th>6</th>\n",
       "      <td>0</td>\n",
       "      <td>0</td>\n",
       "      <td>1</td>\n",
       "      <td>0</td>\n",
       "      <td>0</td>\n",
       "    </tr>\n",
       "    <tr>\n",
       "      <th>7</th>\n",
       "      <td>0</td>\n",
       "      <td>1</td>\n",
       "      <td>0</td>\n",
       "      <td>0</td>\n",
       "      <td>0</td>\n",
       "    </tr>\n",
       "  </tbody>\n",
       "</table>\n",
       "</div>"
      ],
      "text/plain": [
       "   animal_gato  animal_perro  animal_pajaro  animal_mono  animal_elefante\n",
       "0            1             0              0            0                0\n",
       "1            1             0              0            0                0\n",
       "2            0             1              0            0                0\n",
       "3            0             0              0            1                0\n",
       "4            0             0              0            0                1\n",
       "5            1             0              0            0                0\n",
       "6            0             0              1            0                0\n",
       "7            0             1              0            0                0"
      ]
     },
     "execution_count": 39,
     "metadata": {},
     "output_type": "execute_result"
    }
   ],
   "source": [
    "loaded_ce_dummies"
   ]
  },
  {
   "cell_type": "markdown",
   "metadata": {},
   "source": [
    "Cada una de las transformaciones de salida comparten las mismas características que se vieron por primera vez al realizar la transformación en el conjunto de datos original."
   ]
  },
  {
   "cell_type": "markdown",
   "metadata": {},
   "source": []
  }
 ],
 "metadata": {
  "kernelspec": {
   "display_name": "Python 3",
   "language": "python",
   "name": "python3"
  },
  "language_info": {
   "codemirror_mode": {
    "name": "ipython",
    "version": 3
   },
   "file_extension": ".py",
   "mimetype": "text/x-python",
   "name": "python",
   "nbconvert_exporter": "python",
   "pygments_lexer": "ipython3",
   "version": "3.11.6"
  }
 },
 "nbformat": 4,
 "nbformat_minor": 2
}
