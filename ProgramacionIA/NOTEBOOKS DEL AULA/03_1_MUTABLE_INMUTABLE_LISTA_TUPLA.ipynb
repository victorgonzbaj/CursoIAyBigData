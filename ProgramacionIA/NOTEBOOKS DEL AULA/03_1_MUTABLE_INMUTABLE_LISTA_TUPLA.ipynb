{
 "cells": [
  {
   "cell_type": "markdown",
   "metadata": {},
   "source": [
    "# Mutable e Inmutable en Python\n",
    "## Listas y Tuplas\n",
    "\n",
    "### Conceptos Básicos\n",
    " En Python, los objetos pueden ser **mutables** o **inmutables**.\n",
    " \n",
    " - **Mutable**: Los objetos mutables pueden cambiar después de ser creados. Por ejemplo: listas, diccionarios y conjuntos.\n",
    " - **Inmutable**: Los objetos inmutables no pueden cambiar después de ser creados. Por ejemplo: cadenas, tuplas y números.\n",
    "\n",
    " Ejemplo: Tipos mutables e inmutables"
   ]
  },
  {
   "cell_type": "code",
   "execution_count": 1,
   "metadata": {},
   "outputs": [
    {
     "name": "stdout",
     "output_type": "stream",
     "text": [
      "Lista original: [1, 2, 3]\n",
      "Lista modificada: [1, 2, 3, 4]\n",
      "Cadena original: Hola\n",
      "Cadena modificada: Hola Mundo\n",
      "Cadena original después del intento: Hola\n"
     ]
    }
   ],
   "source": [
    "# ### Mutable: Lista\n",
    "mi_lista = [1, 2, 3]\n",
    "print(\"Lista original:\", mi_lista)\n",
    "\n",
    "# Modificar la lista\n",
    "mi_lista.append(4)  # Agregar un elemento\n",
    "print(\"Lista modificada:\", mi_lista)\n",
    "\n",
    "# ### Inmutable: Cadena\n",
    "mi_cadena = \"Hola\"\n",
    "print(\"Cadena original:\", mi_cadena)\n",
    "\n",
    "# Intentar modificar la cadena\n",
    "mi_cadena_modificada = mi_cadena + \" Mundo\"  # Concatenar crea una nueva cadena\n",
    "print(\"Cadena modificada:\", mi_cadena_modificada)\n",
    "print(\"Cadena original después del intento:\", mi_cadena)"
   ]
  },
  {
   "cell_type": "markdown",
   "metadata": {},
   "source": [
    "### Consecuencias importantes\n",
    "\n",
    "1. Los objetos inmutables son más seguros porque no se pueden modificar accidentalmente.\n",
    "2. Los objetos mutables pueden cambiar y afectar otras partes del código que los utilicen.\n",
    "\n",
    "Ejemplo: Comportamiento mutable e inmutable en funciones"
   ]
  },
  {
   "cell_type": "code",
   "execution_count": 2,
   "metadata": {},
   "outputs": [
    {
     "name": "stdout",
     "output_type": "stream",
     "text": [
      "Lista después de la función: [1, 2, 3, 99]\n",
      "Cadena después de la función: Hola\n"
     ]
    }
   ],
   "source": [
    "# #### Mutable: Lista\n",
    "\n",
    "def modificar_lista(lista):\n",
    "    lista.append(99)\n",
    "\n",
    "mi_lista = [1, 2, 3]\n",
    "modificar_lista(mi_lista)\n",
    "print(\"Lista después de la función:\", mi_lista)\n",
    "\n",
    "# #### Inmutable: Cadena\n",
    "\n",
    "def modificar_cadena(cadena):\n",
    "    cadena += \" Mundo\"\n",
    "\n",
    "mi_cadena = \"Hola\"\n",
    "modificar_cadena(mi_cadena)\n",
    "print(\"Cadena después de la función:\", mi_cadena)"
   ]
  },
  {
   "cell_type": "markdown",
   "metadata": {},
   "source": [
    "### Resumen\n",
    " \n",
    "- **Mutable**: Se puede modificar directamente (por ejemplo, listas, diccionarios).\n",
    "- **Inmutable**: No se puede modificar; cualquier cambio crea un nuevo objeto (por ejemplo, cadenas, tuplas).\n",
    "- Es importante comprender estos conceptos para evitar errores y escribir código eficiente en inteligencia artificial y ciencia de datos.\n"
   ]
  },
  {
   "cell_type": "markdown",
   "metadata": {},
   "source": [
    "## Diferencias entre Listas y Tuplas\n",
    "\n",
    "### 1. Mutabilidad\n",
    " - **Listas**: Son mutables; puedes modificar sus elementos después de haberlas creado.\n",
    " - **Tuplas**: Son inmutables; una vez creadas, no se pueden modificar."
   ]
  },
  {
   "cell_type": "code",
   "execution_count": 1,
   "metadata": {},
   "outputs": [
    {
     "name": "stdout",
     "output_type": "stream",
     "text": [
      "Lista modificada: [10, 2, 3]\n"
     ]
    }
   ],
   "source": [
    "# Ejemplo: Lista mutable\n",
    "mi_lista = [1, 2, 3]\n",
    "mi_lista[0] = 10  # Modificar el primer elemento\n",
    "print(\"Lista modificada:\", mi_lista)"
   ]
  },
  {
   "cell_type": "code",
   "execution_count": 4,
   "metadata": {},
   "outputs": [
    {
     "name": "stdout",
     "output_type": "stream",
     "text": [
      "Tupla original: (1, 2, 3)\n"
     ]
    }
   ],
   "source": [
    "# Ejemplo: Tupla inmutable\n",
    "mi_tupla = (1, 2, 3)\n",
    "# mi_tupla[0] = 10  # Esto generará un error\n",
    "print(\"Tupla original:\", mi_tupla)"
   ]
  },
  {
   "cell_type": "markdown",
   "metadata": {},
   "source": [
    "### 2. Rendimiento\n",
    "- Las **tuplas** son más rápidas que las listas debido a su inmutabilidad. \n",
    "- Se recomienda usar tuplas cuando los datos no necesitan cambiar.\n",
    "\n",
    "### 3. Uso\n",
    "- **Listas**: Usadas cuando los datos necesitan ser modificados o se requiere flexibilidad.\n",
    "- **Tuplas**: Usadas para datos constantes o como claves en diccionarios."
   ]
  },
  {
   "cell_type": "code",
   "execution_count": 7,
   "metadata": {},
   "outputs": [
    {
     "name": "stdout",
     "output_type": "stream",
     "text": [
      "Ciudad en las coordenadas (40.7128, -74.006) : Nueva York\n"
     ]
    }
   ],
   "source": [
    "# Ejemplo: Tupla como clave en un diccionario\n",
    "# Crear un diccionario para almacenar las coordenadas de ciudades\n",
    "ciudades = {\n",
    "    (40.7128, -74.0060): \"Nueva York\",\n",
    "    (34.0522, -118.2437): \"Los Ángeles\",\n",
    "    (41.8781, -87.6298): \"Chicago\"\n",
    "}\n",
    "\n",
    "# Acceder a un valor usando la tupla como clave\n",
    "coordenadas = (40.7128, -74.0060)\n",
    "print(\"Ciudad en las coordenadas\", coordenadas, \":\", ciudades[coordenadas])"
   ]
  },
  {
   "cell_type": "markdown",
   "metadata": {},
   "source": [
    "### 4. Creación\n",
    "- **Lista**: Se crea con corchetes `[]`.\n",
    "- **Tupla**: Se crea con paréntesis `()` o sin ellos (en casos simples)."
   ]
  },
  {
   "cell_type": "code",
   "execution_count": 6,
   "metadata": {},
   "outputs": [
    {
     "name": "stdout",
     "output_type": "stream",
     "text": [
      "Lista: [1, 2, 3]\n",
      "Tupla: (1, 2, 3)\n"
     ]
    }
   ],
   "source": [
    "# Ejemplo: Crear lista y tupla\n",
    "mi_lista = [1, 2, 3]\n",
    "mi_tupla = (1, 2, 3)\n",
    "print(\"Lista:\", mi_lista)\n",
    "print(\"Tupla:\", mi_tupla)"
   ]
  },
  {
   "cell_type": "markdown",
   "metadata": {},
   "source": [
    "### Empaquetado y Desempaquetado de Tuplas\n",
    "\n",
    "#### Empaquetado\n",
    "El empaquetado de tuplas consiste en asignar múltiples valores a una tupla en una sola línea de código.\n",
    " \n",
    "#### Ejemplo de empaquetado"
   ]
  },
  {
   "cell_type": "code",
   "execution_count": 9,
   "metadata": {},
   "outputs": [
    {
     "name": "stdout",
     "output_type": "stream",
     "text": [
      "Tupla empaquetada: (1, 'Python', 3.14)\n"
     ]
    }
   ],
   "source": [
    "empaquetada = (1, \"Python\", 3.14)\n",
    "print(\"Tupla empaquetada:\", empaquetada)"
   ]
  },
  {
   "cell_type": "markdown",
   "metadata": {},
   "source": [
    "#### Desempaquetado\n",
    "El desempaquetado permite extraer los valores de una tupla y asignarlos a variables individuales.\n",
    " \n",
    "#### Ejemplo de desempaquetado"
   ]
  },
  {
   "cell_type": "code",
   "execution_count": 10,
   "metadata": {},
   "outputs": [
    {
     "name": "stdout",
     "output_type": "stream",
     "text": [
      "Número: 1\n",
      "Lenguaje: Python\n",
      "Valor de Pi: 3.14\n"
     ]
    }
   ],
   "source": [
    "numero, lenguaje, pi = empaquetada\n",
    "print(\"Número:\", numero)\n",
    "print(\"Lenguaje:\", lenguaje)\n",
    "print(\"Valor de Pi:\", pi)"
   ]
  },
  {
   "cell_type": "code",
   "execution_count": 4,
   "metadata": {},
   "outputs": [
    {
     "name": "stdout",
     "output_type": "stream",
     "text": [
      "Número: 1\n",
      "Valor de Pi: 3.14\n"
     ]
    }
   ],
   "source": [
    "# Desempaquetado parcial\n",
    "numero, _, pi = empaquetada\n",
    "print(\"Número:\", numero)\n",
    "print(\"Valor de Pi:\", pi)"
   ]
  },
  {
   "cell_type": "code",
   "execution_count": 5,
   "metadata": {},
   "outputs": [
    {
     "name": "stdout",
     "output_type": "stream",
     "text": [
      "1\n",
      "['Python', 3.14]\n"
     ]
    }
   ],
   "source": [
    "# Desempaquetado parcial\n",
    "a, *resto = empaquetada\n",
    "print(a) # primer elemento\n",
    "print(resto) # lista con el resto"
   ]
  },
  {
   "cell_type": "code",
   "execution_count": 7,
   "metadata": {},
   "outputs": [
    {
     "name": "stdout",
     "output_type": "stream",
     "text": [
      "1\n",
      "['Python', 3.14]\n",
      "<class 'list'>\n"
     ]
    },
    {
     "ename": "NameError",
     "evalue": "name '_' is not defined",
     "output_type": "error",
     "traceback": [
      "\u001b[0;31m---------------------------------------------------------------------------\u001b[0m",
      "\u001b[0;31mNameError\u001b[0m                                 Traceback (most recent call last)",
      "Cell \u001b[0;32mIn[7], line 7\u001b[0m\n\u001b[1;32m      5\u001b[0m \u001b[38;5;28mprint\u001b[39m(\u001b[38;5;28mtype\u001b[39m(_))\n\u001b[1;32m      6\u001b[0m \u001b[38;5;28;01mdel\u001b[39;00m _\n\u001b[0;32m----> 7\u001b[0m \u001b[38;5;28mprint\u001b[39m(\u001b[43m_\u001b[49m)\n",
      "\u001b[0;31mNameError\u001b[0m: name '_' is not defined"
     ]
    }
   ],
   "source": [
    "# Desempaquetado parcial\n",
    "a, *_ = empaquetada    # ignora el resto (Realmente se crea una lista 'identificada' por un '_', que luego podemos eliminar\n",
    "print(a) # primer elemento\n",
    "print(_)\n",
    "print(type(_))\n",
    "del _\n",
    "print(_)"
   ]
  },
  {
   "cell_type": "markdown",
   "metadata": {},
   "source": [
    "#### Uso práctico\n",
    "El empaquetado y desempaquetado es útil para funciones que devuelven múltiples valores.\n",
    "\n",
    "##### Ejemplo práctico"
   ]
  },
  {
   "cell_type": "code",
   "execution_count": 3,
   "metadata": {},
   "outputs": [
    {
     "name": "stdout",
     "output_type": "stream",
     "text": [
      "Suma: 15\n",
      "Resta: 5\n",
      "Producto: 50\n"
     ]
    }
   ],
   "source": [
    "def operaciones_basicas(a, b):\n",
    "    suma = a + b\n",
    "    resta = a - b\n",
    "    producto = a * b\n",
    "    return suma, resta, producto  # Devuelve una tupla\n",
    "\n",
    "# Llamar a la función y desempaquetar\n",
    "# A cada variable resultado_x se le asigna el valor correspondiente de la tupla.\n",
    "resultado_suma, resultado_resta, resultado_producto = operaciones_basicas(10, 5)\n",
    "print(\"Suma:\", resultado_suma)\n",
    "print(\"Resta:\", resultado_resta)\n",
    "print(\"Producto:\", resultado_producto)"
   ]
  }
 ],
 "metadata": {
  "kernelspec": {
   "display_name": "Python 3",
   "language": "python",
   "name": "python3"
  },
  "language_info": {
   "codemirror_mode": {
    "name": "ipython",
    "version": 3
   },
   "file_extension": ".py",
   "mimetype": "text/x-python",
   "name": "python",
   "nbconvert_exporter": "python",
   "pygments_lexer": "ipython3",
   "version": "3.11.11"
  }
 },
 "nbformat": 4,
 "nbformat_minor": 2
}
