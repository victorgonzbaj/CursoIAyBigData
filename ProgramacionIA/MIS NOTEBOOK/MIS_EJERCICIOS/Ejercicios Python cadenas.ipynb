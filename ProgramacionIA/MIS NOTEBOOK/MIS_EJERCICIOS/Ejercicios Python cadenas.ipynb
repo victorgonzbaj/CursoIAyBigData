{
 "cells": [
  {
   "cell_type": "markdown",
   "metadata": {
    "id": "5o5Qb7yOY8-6"
   },
   "source": [
    "# Ejercicio 1:\n",
    "Escribir un programa que pregunte el nombre del usuario en la consola y un número entero e imprima por pantalla en líneas distintas el nombre del usuario tantas veces como el número introducido."
   ]
  },
  {
   "cell_type": "code",
   "execution_count": null,
   "metadata": {
    "id": "wh4xEs3RY0xc"
   },
   "outputs": [],
   "source": [
    "#respuesta:\n",
    "\n",
    "\n",
    "\n"
   ]
  },
  {
   "cell_type": "markdown",
   "metadata": {
    "id": "rfxSja77ZAgj"
   },
   "source": [
    "# Ejercicio 2:\n",
    "Escribir un programa que pregunte el nombre completo del usuario en la consola y después muestre por pantalla el nombre completo del usuario tres veces, una con todas las letras minúsculas, otra con todas las letras mayúsculas y otra solo con la primera letra del nombre y de los apellidos en mayúscula. El usuario puede introducir su nombre combinando mayúsculas y minúsculas como quiera."
   ]
  },
  {
   "cell_type": "code",
   "execution_count": 1,
   "metadata": {
    "id": "2rzqritTZ0v5"
   },
   "outputs": [],
   "source": [
    "#respuesta\n",
    "\n",
    "\n",
    "\n"
   ]
  },
  {
   "cell_type": "markdown",
   "metadata": {
    "id": "cY6jW25ZZDvc"
   },
   "source": [
    "# Ejercicio 3:\n",
    "Escribir un programa que pregunte el nombre del usuario en la consola y después de que el usuario lo introduzca muestre por pantalla \"\\<NOMBRE> tiene \\<n> letras\", donde \\<NOMBRE> es el nombre de usuario en mayúsculas y \\<n> es el número de letras que tienen el nombre."
   ]
  },
  {
   "cell_type": "code",
   "execution_count": null,
   "metadata": {
    "id": "6HIBX6ngZ3zF"
   },
   "outputs": [],
   "source": [
    "#respuesta\n",
    "\n",
    "\n",
    "\n"
   ]
  },
  {
   "cell_type": "markdown",
   "metadata": {
    "id": "PF1wvJGwZNHL"
   },
   "source": [
    "# Ejercicio 4:\n",
    "Los teléfonos de una empresa tienen el siguiente formato prefijo-número-extension donde el prefijo es el código del país +34, y la extensión tiene dos dígitos (por ejemplo +34-913724710-56). Escribir un programa que pregunte por un número de teléfono con este formato y muestre por pantalla el número de teléfono sin el prefijo y la extensión."
   ]
  },
  {
   "cell_type": "code",
   "execution_count": null,
   "metadata": {
    "id": "dnyAHEZ2Z5Co"
   },
   "outputs": [],
   "source": [
    "#respuesta\n",
    "\n",
    "\n",
    "\n"
   ]
  },
  {
   "cell_type": "markdown",
   "metadata": {
    "id": "TOqWFLCMZUX8"
   },
   "source": [
    "# Ejercicio 5:\n",
    "Escribir un programa que pida al usuario que introduzca una frase en la consola y muestre por pantalla la frase invertida."
   ]
  },
  {
   "cell_type": "code",
   "execution_count": null,
   "metadata": {
    "id": "eoVgjxP3Z551"
   },
   "outputs": [],
   "source": [
    "#respuesta\n",
    "\n",
    "\n",
    "\n"
   ]
  },
  {
   "cell_type": "markdown",
   "metadata": {
    "id": "WE-9bIMyZYcW"
   },
   "source": [
    "# Ejercicio 6:\n",
    "Escribir un programa que pida al usuario que introduzca una frase en la consola y una vocal, y después muestre por pantalla la misma frase pero con la vocal introducida en mayúscula."
   ]
  },
  {
   "cell_type": "code",
   "execution_count": null,
   "metadata": {
    "id": "4ms8-6mUZ66E"
   },
   "outputs": [],
   "source": [
    "#respuesta\n",
    "\n",
    "\n",
    "\n"
   ]
  },
  {
   "cell_type": "markdown",
   "metadata": {
    "id": "ULLQI3xLZbo6"
   },
   "source": [
    "# Ejercicio 7:\n",
    "Escribir un programa que pregunte el correo electrónico del usuario en la consola y muestre por pantalla otro correo electrónico con el mismo nombre (la parte delante de la arroba @) pero con dominio ieschulo.es."
   ]
  },
  {
   "cell_type": "code",
   "execution_count": null,
   "metadata": {
    "id": "AWJQBpiGZ7pL"
   },
   "outputs": [],
   "source": [
    "#respuesta\n",
    "\n",
    "\n",
    "\n"
   ]
  },
  {
   "cell_type": "markdown",
   "metadata": {
    "id": "Bc0hVPdSZkis"
   },
   "source": [
    "# Ejercicio 8:\n",
    "Escribir un programa que pregunte por consola el precio de un producto en euros con dos decimales y muestre por pantalla el número de euros y el número de céntimos del precio introducido."
   ]
  },
  {
   "cell_type": "code",
   "execution_count": null,
   "metadata": {
    "id": "I-ecv5qNZ8cQ"
   },
   "outputs": [],
   "source": [
    "#respuesta\n",
    "\n",
    "\n",
    "\n"
   ]
  },
  {
   "cell_type": "markdown",
   "metadata": {
    "id": "K4lOyToSZpL-"
   },
   "source": [
    "# Ejercicio 9:\n",
    "Escribir un programa que pregunte al usuario la fecha de su nacimiento en formato dd/mm/aaaa y muestra por pantalla, el día, el mes y el año. Adaptar el programa anterior para que también funcione cuando el día o el mes se introduzcan con un solo carácter."
   ]
  },
  {
   "cell_type": "code",
   "execution_count": null,
   "metadata": {
    "id": "WtCAm9k7Z9W1"
   },
   "outputs": [],
   "source": [
    "#respuesta\n",
    "\n",
    "\n",
    "\n"
   ]
  },
  {
   "cell_type": "markdown",
   "metadata": {
    "id": "KsBUQIJcZr_K"
   },
   "source": [
    "# Ejercicio 10:\n",
    "Escribir un programa que pregunte por consola por los productos de una cesta de la compra, separados por comas, y muestre por pantalla cada uno de los productos en una línea distinta."
   ]
  },
  {
   "cell_type": "code",
   "execution_count": null,
   "metadata": {
    "id": "H5R2DNshZ-3L"
   },
   "outputs": [],
   "source": [
    "#respuesta\n",
    "\n",
    "\n",
    "\n"
   ]
  },
  {
   "cell_type": "markdown",
   "metadata": {
    "id": "bvCJoLYpZvOY"
   },
   "source": [
    "# Ejercicio 11:\n",
    "Escribir un programa que pregunte el nombre el un producto, su precio y un número de unidades y muestre por pantalla una cadena con el nombre del producto seguido de su precio unitario con 6 dígitos enteros y 2 decimales, el número de unidades con tres dígitos y el coste total con 8 dígitos enteros y 2 decimales."
   ]
  },
  {
   "cell_type": "code",
   "execution_count": null,
   "metadata": {
    "id": "S-GVc6QJZ_0x"
   },
   "outputs": [],
   "source": [
    "#respuesta\n",
    "\n",
    "\n",
    "\n"
   ]
  }
 ],
 "metadata": {
  "colab": {
   "authorship_tag": "ABX9TyN3fa436r6iLN/kapZyPcM2",
   "collapsed_sections": [],
   "name": "Ejercicios Python: cadenas.ipynb",
   "provenance": []
  },
  "kernelspec": {
   "display_name": "Python 3",
   "name": "python3"
  },
  "language_info": {
   "codemirror_mode": {
    "name": "ipython",
    "version": 3
   },
   "file_extension": ".py",
   "mimetype": "text/x-python",
   "name": "python",
   "nbconvert_exporter": "python",
   "pygments_lexer": "ipython3",
   "version": "3.11.11"
  }
 },
 "nbformat": 4,
 "nbformat_minor": 0
}
