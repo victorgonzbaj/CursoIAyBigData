{
  "cells": [
    {
      "cell_type": "markdown",
      "metadata": {
        "id": "AX5ZLpgQ28tA"
      },
      "source": [
        "# PRÁCTICA CON LIBRERÍA PANDAS"
      ]
    },
    {
      "cell_type": "markdown",
      "metadata": {
        "id": "9-Ih37RM28tE"
      },
      "source": [
        "**Ejercicio SF Salaries**   \n",
        "\n",
        "Utilizaremos el `SF Salaries Dataset` de Kaggle. Simplemente siga y complete las tareas que se detallan a continuación en negrita. Las tareas serán cada vez más difíciles a medida que avance.\n",
        "\n",
        "La idea principal es aplicar pandas para organizar informacion, manipularla, buscar información en el dataset\n"
      ]
    },
    {
      "cell_type": "markdown",
      "metadata": {
        "id": "HUbgs32728tF"
      },
      "source": [
        "**Importe la librería pandas usando el alias habitual (pd) e imprima la versión que esta usando**"
      ]
    },
    {
      "cell_type": "code",
      "execution_count": null,
      "metadata": {
        "id": "3mcbPLks28tF"
      },
      "outputs": [],
      "source": [
        "# Copie el código aca"
      ]
    },
    {
      "cell_type": "code",
      "execution_count": null,
      "metadata": {
        "collapsed": true,
        "id": "f465mYTp28tG",
        "outputId": "220da005-5b07-44fb-e592-899f34c2aed9"
      },
      "outputs": [
        {
          "name": "stdout",
          "output_type": "stream",
          "text": [
            "version de pandas = 1.5.3\n"
          ]
        }
      ],
      "source": []
    },
    {
      "cell_type": "markdown",
      "metadata": {
        "id": "rVodvIWc28tH"
      },
      "source": [
        "**Leer el archivo Salaries.csv en un dataframe llamado salarios**\n"
      ]
    },
    {
      "cell_type": "code",
      "execution_count": null,
      "metadata": {
        "id": "RGqX_Weq28tI"
      },
      "outputs": [],
      "source": [
        "# Copie el código aca\n"
      ]
    },
    {
      "cell_type": "markdown",
      "metadata": {
        "id": "As-C73Fh28tI"
      },
      "source": [
        "**Use el método `.info()` para encontrar cuantas Columnas de atributos hay y que tipo de datos tiene cada una.**"
      ]
    },
    {
      "cell_type": "code",
      "execution_count": null,
      "metadata": {
        "id": "2mV-MJj328tI"
      },
      "outputs": [],
      "source": [
        "# Copie el código aca"
      ]
    },
    {
      "cell_type": "code",
      "execution_count": null,
      "metadata": {
        "id": "w0qhkJLY28tJ",
        "outputId": "824c47a6-dfd8-4aa5-ddd4-735964fc9e44"
      },
      "outputs": [
        {
          "name": "stdout",
          "output_type": "stream",
          "text": [
            "<class 'pandas.core.frame.DataFrame'>\n",
            "RangeIndex: 148654 entries, 0 to 148653\n",
            "Data columns (total 13 columns):\n",
            " #   Column            Non-Null Count   Dtype  \n",
            "---  ------            --------------   -----  \n",
            " 0   Id                148654 non-null  int64  \n",
            " 1   EmployeeName      148654 non-null  object \n",
            " 2   JobTitle          148654 non-null  object \n",
            " 3   BasePay           148045 non-null  float64\n",
            " 4   OvertimePay       148650 non-null  float64\n",
            " 5   OtherPay          148650 non-null  float64\n",
            " 6   Benefits          112491 non-null  float64\n",
            " 7   TotalPay          148654 non-null  float64\n",
            " 8   TotalPayBenefits  148654 non-null  float64\n",
            " 9   Year              148654 non-null  int64  \n",
            " 10  Notes             0 non-null       float64\n",
            " 11  Agency            148654 non-null  object \n",
            " 12  Status            0 non-null       float64\n",
            "dtypes: float64(8), int64(2), object(3)\n",
            "memory usage: 14.7+ MB\n"
          ]
        }
      ],
      "source": []
    },
    {
      "cell_type": "markdown",
      "metadata": {
        "id": "LhCfS2Va28tJ"
      },
      "source": [
        "- Segun la información del dataframe su tamaño es de *memory usage: 14.7+ MB*\n",
        "\n",
        "- las columnas **Notes** y **Status** solamente tienen valores *NaN*, verifique que dice **0 non-null** osea 0 valores son diferentes a *NaN*\n",
        "entonces todos los valores son *NaN* en esas columnas\n",
        "\n",
        "**Elimine las columnas *Notes* y *Status* Recuerde usar el método de forma permanente (inplace), y luego visualice cuantas filas y columnas tiene luego de eliminar las columnas**"
      ]
    },
    {
      "cell_type": "code",
      "execution_count": null,
      "metadata": {
        "id": "BzN9We4_28tJ"
      },
      "outputs": [],
      "source": [
        "# Copie el código aca"
      ]
    },
    {
      "cell_type": "code",
      "execution_count": null,
      "metadata": {
        "id": "a7am3twd28tJ",
        "outputId": "8bba8ec3-42fb-4233-96ba-ed2e338fb56f"
      },
      "outputs": [
        {
          "data": {
            "text/plain": [
              "(148654, 11)"
            ]
          },
          "execution_count": 7,
          "metadata": {},
          "output_type": "execute_result"
        }
      ],
      "source": []
    },
    {
      "cell_type": "markdown",
      "metadata": {
        "id": "-nj5uLmG28tJ"
      },
      "source": [
        "**¿Cual es la nueva información del dataframe?**"
      ]
    },
    {
      "cell_type": "code",
      "execution_count": null,
      "metadata": {
        "id": "GatkGd8x28tK"
      },
      "outputs": [],
      "source": [
        "# Copie el código aca"
      ]
    },
    {
      "cell_type": "code",
      "execution_count": null,
      "metadata": {
        "id": "PWTjGUHf28tK",
        "outputId": "d8c0c64b-1dae-4b68-a466-cbefd8fd2c92"
      },
      "outputs": [
        {
          "name": "stdout",
          "output_type": "stream",
          "text": [
            "<class 'pandas.core.frame.DataFrame'>\n",
            "RangeIndex: 148654 entries, 0 to 148653\n",
            "Data columns (total 11 columns):\n",
            " #   Column            Non-Null Count   Dtype  \n",
            "---  ------            --------------   -----  \n",
            " 0   Id                148654 non-null  int64  \n",
            " 1   EmployeeName      148654 non-null  object \n",
            " 2   JobTitle          148654 non-null  object \n",
            " 3   BasePay           148045 non-null  float64\n",
            " 4   OvertimePay       148650 non-null  float64\n",
            " 5   OtherPay          148650 non-null  float64\n",
            " 6   Benefits          112491 non-null  float64\n",
            " 7   TotalPay          148654 non-null  float64\n",
            " 8   TotalPayBenefits  148654 non-null  float64\n",
            " 9   Year              148654 non-null  int64  \n",
            " 10  Agency            148654 non-null  object \n",
            "dtypes: float64(6), int64(2), object(3)\n",
            "memory usage: 12.5+ MB\n"
          ]
        }
      ],
      "source": []
    },
    {
      "cell_type": "markdown",
      "metadata": {
        "id": "Ch011dGh28tK"
      },
      "source": [
        "- Se puede verificar que al borrar las columnas que no tenian solo *NaN* se disminuye el tamaño del dataframe a: *memory usage: 12.5+ MB*"
      ]
    },
    {
      "cell_type": "markdown",
      "metadata": {
        "id": "l-H13-f328tK"
      },
      "source": [
        "**Observe los primeros 5 registros del DataFrame.**"
      ]
    },
    {
      "cell_type": "code",
      "execution_count": null,
      "metadata": {
        "id": "-wsfTGX628tK"
      },
      "outputs": [],
      "source": [
        "# Copie el código aca"
      ]
    },
    {
      "cell_type": "code",
      "execution_count": null,
      "metadata": {
        "id": "Dh8BjTDA28tK",
        "outputId": "a2e01d38-3d12-455e-9f4f-3b5720ec728f"
      },
      "outputs": [
        {
          "data": {
            "text/html": [
              "<div>\n",
              "<style scoped>\n",
              "    .dataframe tbody tr th:only-of-type {\n",
              "        vertical-align: middle;\n",
              "    }\n",
              "\n",
              "    .dataframe tbody tr th {\n",
              "        vertical-align: top;\n",
              "    }\n",
              "\n",
              "    .dataframe thead th {\n",
              "        text-align: right;\n",
              "    }\n",
              "</style>\n",
              "<table border=\"1\" class=\"dataframe\">\n",
              "  <thead>\n",
              "    <tr style=\"text-align: right;\">\n",
              "      <th></th>\n",
              "      <th>Id</th>\n",
              "      <th>EmployeeName</th>\n",
              "      <th>JobTitle</th>\n",
              "      <th>BasePay</th>\n",
              "      <th>OvertimePay</th>\n",
              "      <th>OtherPay</th>\n",
              "      <th>Benefits</th>\n",
              "      <th>TotalPay</th>\n",
              "      <th>TotalPayBenefits</th>\n",
              "      <th>Year</th>\n",
              "      <th>Agency</th>\n",
              "    </tr>\n",
              "  </thead>\n",
              "  <tbody>\n",
              "    <tr>\n",
              "      <th>0</th>\n",
              "      <td>1</td>\n",
              "      <td>NATHANIEL FORD</td>\n",
              "      <td>GENERAL MANAGER-METROPOLITAN TRANSIT AUTHORITY</td>\n",
              "      <td>167411.18</td>\n",
              "      <td>0.00</td>\n",
              "      <td>400184.25</td>\n",
              "      <td>NaN</td>\n",
              "      <td>567595.43</td>\n",
              "      <td>567595.43</td>\n",
              "      <td>2011</td>\n",
              "      <td>San Francisco</td>\n",
              "    </tr>\n",
              "    <tr>\n",
              "      <th>1</th>\n",
              "      <td>2</td>\n",
              "      <td>GARY JIMENEZ</td>\n",
              "      <td>CAPTAIN III (POLICE DEPARTMENT)</td>\n",
              "      <td>155966.02</td>\n",
              "      <td>245131.88</td>\n",
              "      <td>137811.38</td>\n",
              "      <td>NaN</td>\n",
              "      <td>538909.28</td>\n",
              "      <td>538909.28</td>\n",
              "      <td>2011</td>\n",
              "      <td>San Francisco</td>\n",
              "    </tr>\n",
              "    <tr>\n",
              "      <th>2</th>\n",
              "      <td>3</td>\n",
              "      <td>ALBERT PARDINI</td>\n",
              "      <td>CAPTAIN III (POLICE DEPARTMENT)</td>\n",
              "      <td>212739.13</td>\n",
              "      <td>106088.18</td>\n",
              "      <td>16452.60</td>\n",
              "      <td>NaN</td>\n",
              "      <td>335279.91</td>\n",
              "      <td>335279.91</td>\n",
              "      <td>2011</td>\n",
              "      <td>San Francisco</td>\n",
              "    </tr>\n",
              "    <tr>\n",
              "      <th>3</th>\n",
              "      <td>4</td>\n",
              "      <td>CHRISTOPHER CHONG</td>\n",
              "      <td>WIRE ROPE CABLE MAINTENANCE MECHANIC</td>\n",
              "      <td>77916.00</td>\n",
              "      <td>56120.71</td>\n",
              "      <td>198306.90</td>\n",
              "      <td>NaN</td>\n",
              "      <td>332343.61</td>\n",
              "      <td>332343.61</td>\n",
              "      <td>2011</td>\n",
              "      <td>San Francisco</td>\n",
              "    </tr>\n",
              "    <tr>\n",
              "      <th>4</th>\n",
              "      <td>5</td>\n",
              "      <td>PATRICK GARDNER</td>\n",
              "      <td>DEPUTY CHIEF OF DEPARTMENT,(FIRE DEPARTMENT)</td>\n",
              "      <td>134401.60</td>\n",
              "      <td>9737.00</td>\n",
              "      <td>182234.59</td>\n",
              "      <td>NaN</td>\n",
              "      <td>326373.19</td>\n",
              "      <td>326373.19</td>\n",
              "      <td>2011</td>\n",
              "      <td>San Francisco</td>\n",
              "    </tr>\n",
              "  </tbody>\n",
              "</table>\n",
              "</div>"
            ],
            "text/plain": [
              "   Id       EmployeeName                                        JobTitle  \\\n",
              "0   1     NATHANIEL FORD  GENERAL MANAGER-METROPOLITAN TRANSIT AUTHORITY   \n",
              "1   2       GARY JIMENEZ                 CAPTAIN III (POLICE DEPARTMENT)   \n",
              "2   3     ALBERT PARDINI                 CAPTAIN III (POLICE DEPARTMENT)   \n",
              "3   4  CHRISTOPHER CHONG            WIRE ROPE CABLE MAINTENANCE MECHANIC   \n",
              "4   5    PATRICK GARDNER    DEPUTY CHIEF OF DEPARTMENT,(FIRE DEPARTMENT)   \n",
              "\n",
              "     BasePay  OvertimePay   OtherPay  Benefits   TotalPay  TotalPayBenefits  \\\n",
              "0  167411.18         0.00  400184.25       NaN  567595.43         567595.43   \n",
              "1  155966.02    245131.88  137811.38       NaN  538909.28         538909.28   \n",
              "2  212739.13    106088.18   16452.60       NaN  335279.91         335279.91   \n",
              "3   77916.00     56120.71  198306.90       NaN  332343.61         332343.61   \n",
              "4  134401.60      9737.00  182234.59       NaN  326373.19         326373.19   \n",
              "\n",
              "   Year         Agency  \n",
              "0  2011  San Francisco  \n",
              "1  2011  San Francisco  \n",
              "2  2011  San Francisco  \n",
              "3  2011  San Francisco  \n",
              "4  2011  San Francisco  "
            ]
          },
          "execution_count": 11,
          "metadata": {},
          "output_type": "execute_result"
        }
      ],
      "source": []
    },
    {
      "cell_type": "markdown",
      "metadata": {
        "id": "M8iliG-M28tK"
      },
      "source": [
        "**Observe los ultimos 5 registros del DataFrame.**"
      ]
    },
    {
      "cell_type": "code",
      "execution_count": null,
      "metadata": {
        "id": "pBJFSJpP28tL"
      },
      "outputs": [],
      "source": [
        "# Copie el código aca"
      ]
    },
    {
      "cell_type": "code",
      "execution_count": null,
      "metadata": {
        "id": "GvYaArtU28tL",
        "outputId": "f05a52fc-7144-4006-b5ab-ecc58bd6d563"
      },
      "outputs": [
        {
          "data": {
            "text/html": [
              "<div>\n",
              "<style scoped>\n",
              "    .dataframe tbody tr th:only-of-type {\n",
              "        vertical-align: middle;\n",
              "    }\n",
              "\n",
              "    .dataframe tbody tr th {\n",
              "        vertical-align: top;\n",
              "    }\n",
              "\n",
              "    .dataframe thead th {\n",
              "        text-align: right;\n",
              "    }\n",
              "</style>\n",
              "<table border=\"1\" class=\"dataframe\">\n",
              "  <thead>\n",
              "    <tr style=\"text-align: right;\">\n",
              "      <th></th>\n",
              "      <th>Id</th>\n",
              "      <th>EmployeeName</th>\n",
              "      <th>JobTitle</th>\n",
              "      <th>BasePay</th>\n",
              "      <th>OvertimePay</th>\n",
              "      <th>OtherPay</th>\n",
              "      <th>Benefits</th>\n",
              "      <th>TotalPay</th>\n",
              "      <th>TotalPayBenefits</th>\n",
              "      <th>Year</th>\n",
              "      <th>Agency</th>\n",
              "    </tr>\n",
              "  </thead>\n",
              "  <tbody>\n",
              "    <tr>\n",
              "      <th>148649</th>\n",
              "      <td>148650</td>\n",
              "      <td>Roy I Tillery</td>\n",
              "      <td>Custodian</td>\n",
              "      <td>0.0</td>\n",
              "      <td>0.0</td>\n",
              "      <td>0.00</td>\n",
              "      <td>0.0</td>\n",
              "      <td>0.00</td>\n",
              "      <td>0.00</td>\n",
              "      <td>2014</td>\n",
              "      <td>San Francisco</td>\n",
              "    </tr>\n",
              "    <tr>\n",
              "      <th>148650</th>\n",
              "      <td>148651</td>\n",
              "      <td>Not provided</td>\n",
              "      <td>Not provided</td>\n",
              "      <td>NaN</td>\n",
              "      <td>NaN</td>\n",
              "      <td>NaN</td>\n",
              "      <td>NaN</td>\n",
              "      <td>0.00</td>\n",
              "      <td>0.00</td>\n",
              "      <td>2014</td>\n",
              "      <td>San Francisco</td>\n",
              "    </tr>\n",
              "    <tr>\n",
              "      <th>148651</th>\n",
              "      <td>148652</td>\n",
              "      <td>Not provided</td>\n",
              "      <td>Not provided</td>\n",
              "      <td>NaN</td>\n",
              "      <td>NaN</td>\n",
              "      <td>NaN</td>\n",
              "      <td>NaN</td>\n",
              "      <td>0.00</td>\n",
              "      <td>0.00</td>\n",
              "      <td>2014</td>\n",
              "      <td>San Francisco</td>\n",
              "    </tr>\n",
              "    <tr>\n",
              "      <th>148652</th>\n",
              "      <td>148653</td>\n",
              "      <td>Not provided</td>\n",
              "      <td>Not provided</td>\n",
              "      <td>NaN</td>\n",
              "      <td>NaN</td>\n",
              "      <td>NaN</td>\n",
              "      <td>NaN</td>\n",
              "      <td>0.00</td>\n",
              "      <td>0.00</td>\n",
              "      <td>2014</td>\n",
              "      <td>San Francisco</td>\n",
              "    </tr>\n",
              "    <tr>\n",
              "      <th>148653</th>\n",
              "      <td>148654</td>\n",
              "      <td>Joe Lopez</td>\n",
              "      <td>Counselor, Log Cabin Ranch</td>\n",
              "      <td>0.0</td>\n",
              "      <td>0.0</td>\n",
              "      <td>-618.13</td>\n",
              "      <td>0.0</td>\n",
              "      <td>-618.13</td>\n",
              "      <td>-618.13</td>\n",
              "      <td>2014</td>\n",
              "      <td>San Francisco</td>\n",
              "    </tr>\n",
              "  </tbody>\n",
              "</table>\n",
              "</div>"
            ],
            "text/plain": [
              "            Id   EmployeeName                    JobTitle  BasePay  \\\n",
              "148649  148650  Roy I Tillery                   Custodian      0.0   \n",
              "148650  148651   Not provided                Not provided      NaN   \n",
              "148651  148652   Not provided                Not provided      NaN   \n",
              "148652  148653   Not provided                Not provided      NaN   \n",
              "148653  148654      Joe Lopez  Counselor, Log Cabin Ranch      0.0   \n",
              "\n",
              "        OvertimePay  OtherPay  Benefits  TotalPay  TotalPayBenefits  Year  \\\n",
              "148649          0.0      0.00       0.0      0.00              0.00  2014   \n",
              "148650          NaN       NaN       NaN      0.00              0.00  2014   \n",
              "148651          NaN       NaN       NaN      0.00              0.00  2014   \n",
              "148652          NaN       NaN       NaN      0.00              0.00  2014   \n",
              "148653          0.0   -618.13       0.0   -618.13           -618.13  2014   \n",
              "\n",
              "               Agency  \n",
              "148649  San Francisco  \n",
              "148650  San Francisco  \n",
              "148651  San Francisco  \n",
              "148652  San Francisco  \n",
              "148653  San Francisco  "
            ]
          },
          "execution_count": 13,
          "metadata": {},
          "output_type": "execute_result"
        }
      ],
      "source": []
    },
    {
      "cell_type": "markdown",
      "metadata": {
        "id": "raMTyq8u28tL"
      },
      "source": [
        "**¿Cuantas filas y columnas tiene el dataframe?**"
      ]
    },
    {
      "cell_type": "code",
      "execution_count": null,
      "metadata": {
        "id": "npIKteH028tL"
      },
      "outputs": [],
      "source": [
        "# Copie el código aca"
      ]
    },
    {
      "cell_type": "code",
      "execution_count": null,
      "metadata": {
        "id": "wSp6V87S28tL",
        "outputId": "feeebce6-fe0a-4b9c-e932-8e8e76229ec2"
      },
      "outputs": [
        {
          "data": {
            "text/plain": [
              "(148654, 11)"
            ]
          },
          "execution_count": 15,
          "metadata": {},
          "output_type": "execute_result"
        }
      ],
      "source": []
    },
    {
      "cell_type": "markdown",
      "metadata": {
        "id": "FQ-iX8-528tL"
      },
      "source": [
        "**Observe los 10 registros que estan desde el indice 3000**"
      ]
    },
    {
      "cell_type": "code",
      "execution_count": null,
      "metadata": {
        "id": "J_wEPQYo28tL"
      },
      "outputs": [],
      "source": [
        "# Copie el código aca"
      ]
    },
    {
      "cell_type": "code",
      "execution_count": null,
      "metadata": {
        "id": "Ag-HguQ528tM",
        "outputId": "12358301-4281-4287-e84c-525ae548d9af"
      },
      "outputs": [
        {
          "data": {
            "text/html": [
              "<div>\n",
              "<style scoped>\n",
              "    .dataframe tbody tr th:only-of-type {\n",
              "        vertical-align: middle;\n",
              "    }\n",
              "\n",
              "    .dataframe tbody tr th {\n",
              "        vertical-align: top;\n",
              "    }\n",
              "\n",
              "    .dataframe thead th {\n",
              "        text-align: right;\n",
              "    }\n",
              "</style>\n",
              "<table border=\"1\" class=\"dataframe\">\n",
              "  <thead>\n",
              "    <tr style=\"text-align: right;\">\n",
              "      <th></th>\n",
              "      <th>Id</th>\n",
              "      <th>EmployeeName</th>\n",
              "      <th>JobTitle</th>\n",
              "      <th>BasePay</th>\n",
              "      <th>OvertimePay</th>\n",
              "      <th>OtherPay</th>\n",
              "      <th>Benefits</th>\n",
              "      <th>TotalPay</th>\n",
              "      <th>TotalPayBenefits</th>\n",
              "      <th>Year</th>\n",
              "      <th>Agency</th>\n",
              "    </tr>\n",
              "  </thead>\n",
              "  <tbody>\n",
              "    <tr>\n",
              "      <th>3000</th>\n",
              "      <td>3001</td>\n",
              "      <td>WILLIAM BOYLE</td>\n",
              "      <td>FIREFIGHTER</td>\n",
              "      <td>105934.65</td>\n",
              "      <td>18530.98</td>\n",
              "      <td>16389.60</td>\n",
              "      <td>NaN</td>\n",
              "      <td>140855.23</td>\n",
              "      <td>140855.23</td>\n",
              "      <td>2011</td>\n",
              "      <td>San Francisco</td>\n",
              "    </tr>\n",
              "    <tr>\n",
              "      <th>3001</th>\n",
              "      <td>3002</td>\n",
              "      <td>ALAN LIN</td>\n",
              "      <td>ELECTRONIC MAINTENANCE TECHNICIAN</td>\n",
              "      <td>98965.80</td>\n",
              "      <td>41504.40</td>\n",
              "      <td>380.00</td>\n",
              "      <td>NaN</td>\n",
              "      <td>140850.20</td>\n",
              "      <td>140850.20</td>\n",
              "      <td>2011</td>\n",
              "      <td>San Francisco</td>\n",
              "    </tr>\n",
              "    <tr>\n",
              "      <th>3002</th>\n",
              "      <td>3003</td>\n",
              "      <td>WILLIAM CONLEY</td>\n",
              "      <td>SERGEANT III (POLICE DEPARTMENT)</td>\n",
              "      <td>130457.78</td>\n",
              "      <td>3131.42</td>\n",
              "      <td>7256.39</td>\n",
              "      <td>NaN</td>\n",
              "      <td>140845.59</td>\n",
              "      <td>140845.59</td>\n",
              "      <td>2011</td>\n",
              "      <td>San Francisco</td>\n",
              "    </tr>\n",
              "    <tr>\n",
              "      <th>3003</th>\n",
              "      <td>3004</td>\n",
              "      <td>ROBERT MCDONALD</td>\n",
              "      <td>LIEUTENANT, FIRE DEPARTMENT</td>\n",
              "      <td>123104.99</td>\n",
              "      <td>1833.56</td>\n",
              "      <td>15897.68</td>\n",
              "      <td>NaN</td>\n",
              "      <td>140836.23</td>\n",
              "      <td>140836.23</td>\n",
              "      <td>2011</td>\n",
              "      <td>San Francisco</td>\n",
              "    </tr>\n",
              "    <tr>\n",
              "      <th>3004</th>\n",
              "      <td>3005</td>\n",
              "      <td>MICHAEL COSTELLO</td>\n",
              "      <td>POLICE OFFICER III</td>\n",
              "      <td>112401.08</td>\n",
              "      <td>7957.74</td>\n",
              "      <td>20466.93</td>\n",
              "      <td>NaN</td>\n",
              "      <td>140825.75</td>\n",
              "      <td>140825.75</td>\n",
              "      <td>2011</td>\n",
              "      <td>San Francisco</td>\n",
              "    </tr>\n",
              "    <tr>\n",
              "      <th>3005</th>\n",
              "      <td>3006</td>\n",
              "      <td>EDNA HO</td>\n",
              "      <td>MANAGER V</td>\n",
              "      <td>140821.37</td>\n",
              "      <td>0.00</td>\n",
              "      <td>0.00</td>\n",
              "      <td>NaN</td>\n",
              "      <td>140821.37</td>\n",
              "      <td>140821.37</td>\n",
              "      <td>2011</td>\n",
              "      <td>San Francisco</td>\n",
              "    </tr>\n",
              "    <tr>\n",
              "      <th>3006</th>\n",
              "      <td>3007</td>\n",
              "      <td>RODRIGO CONEL</td>\n",
              "      <td>REGISTERED NURSE</td>\n",
              "      <td>126120.00</td>\n",
              "      <td>3981.78</td>\n",
              "      <td>10714.21</td>\n",
              "      <td>NaN</td>\n",
              "      <td>140815.99</td>\n",
              "      <td>140815.99</td>\n",
              "      <td>2011</td>\n",
              "      <td>San Francisco</td>\n",
              "    </tr>\n",
              "    <tr>\n",
              "      <th>3007</th>\n",
              "      <td>3008</td>\n",
              "      <td>VICTOR HURTADO</td>\n",
              "      <td>FIREFIGHTER</td>\n",
              "      <td>105934.67</td>\n",
              "      <td>13112.76</td>\n",
              "      <td>21763.50</td>\n",
              "      <td>NaN</td>\n",
              "      <td>140810.93</td>\n",
              "      <td>140810.93</td>\n",
              "      <td>2011</td>\n",
              "      <td>San Francisco</td>\n",
              "    </tr>\n",
              "    <tr>\n",
              "      <th>3008</th>\n",
              "      <td>3009</td>\n",
              "      <td>DONALD LANDRY</td>\n",
              "      <td>TRANSIT POWER LINE WORKER</td>\n",
              "      <td>92861.50</td>\n",
              "      <td>39789.32</td>\n",
              "      <td>8135.86</td>\n",
              "      <td>NaN</td>\n",
              "      <td>140786.68</td>\n",
              "      <td>140786.68</td>\n",
              "      <td>2011</td>\n",
              "      <td>San Francisco</td>\n",
              "    </tr>\n",
              "    <tr>\n",
              "      <th>3009</th>\n",
              "      <td>3010</td>\n",
              "      <td>FRANK LEE</td>\n",
              "      <td>INSPECTOR III, (POLICE DEPARTMENT)</td>\n",
              "      <td>130481.56</td>\n",
              "      <td>725.40</td>\n",
              "      <td>9579.58</td>\n",
              "      <td>NaN</td>\n",
              "      <td>140786.54</td>\n",
              "      <td>140786.54</td>\n",
              "      <td>2011</td>\n",
              "      <td>San Francisco</td>\n",
              "    </tr>\n",
              "  </tbody>\n",
              "</table>\n",
              "</div>"
            ],
            "text/plain": [
              "        Id      EmployeeName                            JobTitle    BasePay  \\\n",
              "3000  3001     WILLIAM BOYLE                         FIREFIGHTER  105934.65   \n",
              "3001  3002          ALAN LIN   ELECTRONIC MAINTENANCE TECHNICIAN   98965.80   \n",
              "3002  3003    WILLIAM CONLEY    SERGEANT III (POLICE DEPARTMENT)  130457.78   \n",
              "3003  3004   ROBERT MCDONALD         LIEUTENANT, FIRE DEPARTMENT  123104.99   \n",
              "3004  3005  MICHAEL COSTELLO                  POLICE OFFICER III  112401.08   \n",
              "3005  3006           EDNA HO                           MANAGER V  140821.37   \n",
              "3006  3007     RODRIGO CONEL                    REGISTERED NURSE  126120.00   \n",
              "3007  3008    VICTOR HURTADO                         FIREFIGHTER  105934.67   \n",
              "3008  3009     DONALD LANDRY           TRANSIT POWER LINE WORKER   92861.50   \n",
              "3009  3010         FRANK LEE  INSPECTOR III, (POLICE DEPARTMENT)  130481.56   \n",
              "\n",
              "      OvertimePay  OtherPay  Benefits   TotalPay  TotalPayBenefits  Year  \\\n",
              "3000     18530.98  16389.60       NaN  140855.23         140855.23  2011   \n",
              "3001     41504.40    380.00       NaN  140850.20         140850.20  2011   \n",
              "3002      3131.42   7256.39       NaN  140845.59         140845.59  2011   \n",
              "3003      1833.56  15897.68       NaN  140836.23         140836.23  2011   \n",
              "3004      7957.74  20466.93       NaN  140825.75         140825.75  2011   \n",
              "3005         0.00      0.00       NaN  140821.37         140821.37  2011   \n",
              "3006      3981.78  10714.21       NaN  140815.99         140815.99  2011   \n",
              "3007     13112.76  21763.50       NaN  140810.93         140810.93  2011   \n",
              "3008     39789.32   8135.86       NaN  140786.68         140786.68  2011   \n",
              "3009       725.40   9579.58       NaN  140786.54         140786.54  2011   \n",
              "\n",
              "             Agency  \n",
              "3000  San Francisco  \n",
              "3001  San Francisco  \n",
              "3002  San Francisco  \n",
              "3003  San Francisco  \n",
              "3004  San Francisco  \n",
              "3005  San Francisco  \n",
              "3006  San Francisco  \n",
              "3007  San Francisco  \n",
              "3008  San Francisco  \n",
              "3009  San Francisco  "
            ]
          },
          "execution_count": 17,
          "metadata": {},
          "output_type": "execute_result"
        }
      ],
      "source": []
    },
    {
      "cell_type": "markdown",
      "metadata": {
        "id": "Vk_w3GGc28tM"
      },
      "source": [
        "\n",
        "La columna *Benefits* tiene valores `NaN`, ¿Cuantos NaN tiene la columna *Benefits*? (TIP: Seleccione la Columna y vefique cuantos Na tiene `.isna()` luego sumelos `.sum()` )"
      ]
    },
    {
      "cell_type": "code",
      "execution_count": null,
      "metadata": {
        "id": "wxd9oPRP28tM"
      },
      "outputs": [],
      "source": [
        "# Copie el código aca"
      ]
    },
    {
      "cell_type": "code",
      "execution_count": null,
      "metadata": {
        "id": "R8zZyu4828tM",
        "outputId": "b3395b7a-1641-457f-91a6-7ca7a02893cc"
      },
      "outputs": [
        {
          "data": {
            "text/plain": [
              "36163"
            ]
          },
          "execution_count": 19,
          "metadata": {},
          "output_type": "execute_result"
        }
      ],
      "source": []
    },
    {
      "cell_type": "markdown",
      "metadata": {
        "id": "rzxghpzO28tM"
      },
      "source": [
        "Al parecer los valores faltantes en la columna Benefits es por que no se le pagan beneficios entonces:\n",
        "\n",
        "**Reemplace los valores *NaN* de la Columna *Benefits* por el valor de cero (Recuerde usar el método de forma inplace) y mostrar los primeros 10 elementos de la lista**"
      ]
    },
    {
      "cell_type": "code",
      "execution_count": null,
      "metadata": {
        "id": "JB-QFKKi28tM"
      },
      "outputs": [],
      "source": [
        "# Copie el código aca"
      ]
    },
    {
      "cell_type": "code",
      "execution_count": null,
      "metadata": {
        "id": "-8Z6VGpt28tN",
        "outputId": "ff653bfb-734b-448d-f35b-6cca6d1818c4"
      },
      "outputs": [
        {
          "data": {
            "text/html": [
              "<div>\n",
              "<style scoped>\n",
              "    .dataframe tbody tr th:only-of-type {\n",
              "        vertical-align: middle;\n",
              "    }\n",
              "\n",
              "    .dataframe tbody tr th {\n",
              "        vertical-align: top;\n",
              "    }\n",
              "\n",
              "    .dataframe thead th {\n",
              "        text-align: right;\n",
              "    }\n",
              "</style>\n",
              "<table border=\"1\" class=\"dataframe\">\n",
              "  <thead>\n",
              "    <tr style=\"text-align: right;\">\n",
              "      <th></th>\n",
              "      <th>Id</th>\n",
              "      <th>EmployeeName</th>\n",
              "      <th>JobTitle</th>\n",
              "      <th>BasePay</th>\n",
              "      <th>OvertimePay</th>\n",
              "      <th>OtherPay</th>\n",
              "      <th>Benefits</th>\n",
              "      <th>TotalPay</th>\n",
              "      <th>TotalPayBenefits</th>\n",
              "      <th>Year</th>\n",
              "      <th>Agency</th>\n",
              "    </tr>\n",
              "  </thead>\n",
              "  <tbody>\n",
              "    <tr>\n",
              "      <th>0</th>\n",
              "      <td>1</td>\n",
              "      <td>NATHANIEL FORD</td>\n",
              "      <td>GENERAL MANAGER-METROPOLITAN TRANSIT AUTHORITY</td>\n",
              "      <td>167411.18</td>\n",
              "      <td>0.00</td>\n",
              "      <td>400184.25</td>\n",
              "      <td>0.0</td>\n",
              "      <td>567595.43</td>\n",
              "      <td>567595.43</td>\n",
              "      <td>2011</td>\n",
              "      <td>San Francisco</td>\n",
              "    </tr>\n",
              "    <tr>\n",
              "      <th>1</th>\n",
              "      <td>2</td>\n",
              "      <td>GARY JIMENEZ</td>\n",
              "      <td>CAPTAIN III (POLICE DEPARTMENT)</td>\n",
              "      <td>155966.02</td>\n",
              "      <td>245131.88</td>\n",
              "      <td>137811.38</td>\n",
              "      <td>0.0</td>\n",
              "      <td>538909.28</td>\n",
              "      <td>538909.28</td>\n",
              "      <td>2011</td>\n",
              "      <td>San Francisco</td>\n",
              "    </tr>\n",
              "    <tr>\n",
              "      <th>2</th>\n",
              "      <td>3</td>\n",
              "      <td>ALBERT PARDINI</td>\n",
              "      <td>CAPTAIN III (POLICE DEPARTMENT)</td>\n",
              "      <td>212739.13</td>\n",
              "      <td>106088.18</td>\n",
              "      <td>16452.60</td>\n",
              "      <td>0.0</td>\n",
              "      <td>335279.91</td>\n",
              "      <td>335279.91</td>\n",
              "      <td>2011</td>\n",
              "      <td>San Francisco</td>\n",
              "    </tr>\n",
              "    <tr>\n",
              "      <th>3</th>\n",
              "      <td>4</td>\n",
              "      <td>CHRISTOPHER CHONG</td>\n",
              "      <td>WIRE ROPE CABLE MAINTENANCE MECHANIC</td>\n",
              "      <td>77916.00</td>\n",
              "      <td>56120.71</td>\n",
              "      <td>198306.90</td>\n",
              "      <td>0.0</td>\n",
              "      <td>332343.61</td>\n",
              "      <td>332343.61</td>\n",
              "      <td>2011</td>\n",
              "      <td>San Francisco</td>\n",
              "    </tr>\n",
              "    <tr>\n",
              "      <th>4</th>\n",
              "      <td>5</td>\n",
              "      <td>PATRICK GARDNER</td>\n",
              "      <td>DEPUTY CHIEF OF DEPARTMENT,(FIRE DEPARTMENT)</td>\n",
              "      <td>134401.60</td>\n",
              "      <td>9737.00</td>\n",
              "      <td>182234.59</td>\n",
              "      <td>0.0</td>\n",
              "      <td>326373.19</td>\n",
              "      <td>326373.19</td>\n",
              "      <td>2011</td>\n",
              "      <td>San Francisco</td>\n",
              "    </tr>\n",
              "    <tr>\n",
              "      <th>5</th>\n",
              "      <td>6</td>\n",
              "      <td>DAVID SULLIVAN</td>\n",
              "      <td>ASSISTANT DEPUTY CHIEF II</td>\n",
              "      <td>118602.00</td>\n",
              "      <td>8601.00</td>\n",
              "      <td>189082.74</td>\n",
              "      <td>0.0</td>\n",
              "      <td>316285.74</td>\n",
              "      <td>316285.74</td>\n",
              "      <td>2011</td>\n",
              "      <td>San Francisco</td>\n",
              "    </tr>\n",
              "    <tr>\n",
              "      <th>6</th>\n",
              "      <td>7</td>\n",
              "      <td>ALSON LEE</td>\n",
              "      <td>BATTALION CHIEF, (FIRE DEPARTMENT)</td>\n",
              "      <td>92492.01</td>\n",
              "      <td>89062.90</td>\n",
              "      <td>134426.14</td>\n",
              "      <td>0.0</td>\n",
              "      <td>315981.05</td>\n",
              "      <td>315981.05</td>\n",
              "      <td>2011</td>\n",
              "      <td>San Francisco</td>\n",
              "    </tr>\n",
              "    <tr>\n",
              "      <th>7</th>\n",
              "      <td>8</td>\n",
              "      <td>DAVID KUSHNER</td>\n",
              "      <td>DEPUTY DIRECTOR OF INVESTMENTS</td>\n",
              "      <td>256576.96</td>\n",
              "      <td>0.00</td>\n",
              "      <td>51322.50</td>\n",
              "      <td>0.0</td>\n",
              "      <td>307899.46</td>\n",
              "      <td>307899.46</td>\n",
              "      <td>2011</td>\n",
              "      <td>San Francisco</td>\n",
              "    </tr>\n",
              "    <tr>\n",
              "      <th>8</th>\n",
              "      <td>9</td>\n",
              "      <td>MICHAEL MORRIS</td>\n",
              "      <td>BATTALION CHIEF, (FIRE DEPARTMENT)</td>\n",
              "      <td>176932.64</td>\n",
              "      <td>86362.68</td>\n",
              "      <td>40132.23</td>\n",
              "      <td>0.0</td>\n",
              "      <td>303427.55</td>\n",
              "      <td>303427.55</td>\n",
              "      <td>2011</td>\n",
              "      <td>San Francisco</td>\n",
              "    </tr>\n",
              "    <tr>\n",
              "      <th>9</th>\n",
              "      <td>10</td>\n",
              "      <td>JOANNE HAYES-WHITE</td>\n",
              "      <td>CHIEF OF DEPARTMENT, (FIRE DEPARTMENT)</td>\n",
              "      <td>285262.00</td>\n",
              "      <td>0.00</td>\n",
              "      <td>17115.73</td>\n",
              "      <td>0.0</td>\n",
              "      <td>302377.73</td>\n",
              "      <td>302377.73</td>\n",
              "      <td>2011</td>\n",
              "      <td>San Francisco</td>\n",
              "    </tr>\n",
              "  </tbody>\n",
              "</table>\n",
              "</div>"
            ],
            "text/plain": [
              "   Id        EmployeeName                                        JobTitle  \\\n",
              "0   1      NATHANIEL FORD  GENERAL MANAGER-METROPOLITAN TRANSIT AUTHORITY   \n",
              "1   2        GARY JIMENEZ                 CAPTAIN III (POLICE DEPARTMENT)   \n",
              "2   3      ALBERT PARDINI                 CAPTAIN III (POLICE DEPARTMENT)   \n",
              "3   4   CHRISTOPHER CHONG            WIRE ROPE CABLE MAINTENANCE MECHANIC   \n",
              "4   5     PATRICK GARDNER    DEPUTY CHIEF OF DEPARTMENT,(FIRE DEPARTMENT)   \n",
              "5   6      DAVID SULLIVAN                       ASSISTANT DEPUTY CHIEF II   \n",
              "6   7           ALSON LEE              BATTALION CHIEF, (FIRE DEPARTMENT)   \n",
              "7   8       DAVID KUSHNER                  DEPUTY DIRECTOR OF INVESTMENTS   \n",
              "8   9      MICHAEL MORRIS              BATTALION CHIEF, (FIRE DEPARTMENT)   \n",
              "9  10  JOANNE HAYES-WHITE          CHIEF OF DEPARTMENT, (FIRE DEPARTMENT)   \n",
              "\n",
              "     BasePay  OvertimePay   OtherPay  Benefits   TotalPay  TotalPayBenefits  \\\n",
              "0  167411.18         0.00  400184.25       0.0  567595.43         567595.43   \n",
              "1  155966.02    245131.88  137811.38       0.0  538909.28         538909.28   \n",
              "2  212739.13    106088.18   16452.60       0.0  335279.91         335279.91   \n",
              "3   77916.00     56120.71  198306.90       0.0  332343.61         332343.61   \n",
              "4  134401.60      9737.00  182234.59       0.0  326373.19         326373.19   \n",
              "5  118602.00      8601.00  189082.74       0.0  316285.74         316285.74   \n",
              "6   92492.01     89062.90  134426.14       0.0  315981.05         315981.05   \n",
              "7  256576.96         0.00   51322.50       0.0  307899.46         307899.46   \n",
              "8  176932.64     86362.68   40132.23       0.0  303427.55         303427.55   \n",
              "9  285262.00         0.00   17115.73       0.0  302377.73         302377.73   \n",
              "\n",
              "   Year         Agency  \n",
              "0  2011  San Francisco  \n",
              "1  2011  San Francisco  \n",
              "2  2011  San Francisco  \n",
              "3  2011  San Francisco  \n",
              "4  2011  San Francisco  \n",
              "5  2011  San Francisco  \n",
              "6  2011  San Francisco  \n",
              "7  2011  San Francisco  \n",
              "8  2011  San Francisco  \n",
              "9  2011  San Francisco  "
            ]
          },
          "execution_count": 21,
          "metadata": {},
          "output_type": "execute_result"
        }
      ],
      "source": []
    },
    {
      "cell_type": "markdown",
      "metadata": {
        "id": "BgrjuKzZ28tN"
      },
      "source": [
        "**¿Cual es la nueva información del dataframe?**"
      ]
    },
    {
      "cell_type": "code",
      "execution_count": null,
      "metadata": {
        "id": "dnhD_Qrn28tN"
      },
      "outputs": [],
      "source": [
        "# Copie el código aca"
      ]
    },
    {
      "cell_type": "code",
      "execution_count": null,
      "metadata": {
        "id": "glQEU6y828tN",
        "outputId": "9bc7359e-1843-4e6e-d9c5-6d84df32c261"
      },
      "outputs": [
        {
          "name": "stdout",
          "output_type": "stream",
          "text": [
            "<class 'pandas.core.frame.DataFrame'>\n",
            "RangeIndex: 148654 entries, 0 to 148653\n",
            "Data columns (total 11 columns):\n",
            " #   Column            Non-Null Count   Dtype  \n",
            "---  ------            --------------   -----  \n",
            " 0   Id                148654 non-null  int64  \n",
            " 1   EmployeeName      148654 non-null  object \n",
            " 2   JobTitle          148654 non-null  object \n",
            " 3   BasePay           148045 non-null  float64\n",
            " 4   OvertimePay       148650 non-null  float64\n",
            " 5   OtherPay          148650 non-null  float64\n",
            " 6   Benefits          148654 non-null  float64\n",
            " 7   TotalPay          148654 non-null  float64\n",
            " 8   TotalPayBenefits  148654 non-null  float64\n",
            " 9   Year              148654 non-null  int64  \n",
            " 10  Agency            148654 non-null  object \n",
            "dtypes: float64(6), int64(2), object(3)\n",
            "memory usage: 12.5+ MB\n"
          ]
        }
      ],
      "source": []
    },
    {
      "cell_type": "markdown",
      "metadata": {
        "id": "cq2oPZbl28tS"
      },
      "source": [
        "**Cuantos valores unicos hay en las columnas categoricas?**"
      ]
    },
    {
      "cell_type": "code",
      "execution_count": null,
      "metadata": {
        "id": "SlfAUDZX28tS"
      },
      "outputs": [],
      "source": [
        "# Copie el código aca"
      ]
    },
    {
      "cell_type": "code",
      "execution_count": null,
      "metadata": {
        "id": "zIRUurPG28tT",
        "outputId": "da5f4ce5-fad6-4ab7-89b0-27a69bc9aa56"
      },
      "outputs": [
        {
          "data": {
            "text/plain": [
              "EmployeeName    110811\n",
              "JobTitle          2159\n",
              "Agency               1\n",
              "dtype: int64"
            ]
          },
          "execution_count": 25,
          "metadata": {},
          "output_type": "execute_result"
        }
      ],
      "source": []
    },
    {
      "cell_type": "markdown",
      "metadata": {
        "id": "xZKCMYp528tT"
      },
      "source": [
        "- la columna **Agency** solamente tiene un valor unico, entonces no aporta informacion, por lo tanto se puede eliminar\n",
        "\n",
        "**Elimine la columna *Agency* del dataframe**"
      ]
    },
    {
      "cell_type": "code",
      "execution_count": null,
      "metadata": {
        "id": "4eJcynLW28tT"
      },
      "outputs": [],
      "source": [
        "# Copie el código aca"
      ]
    },
    {
      "cell_type": "code",
      "execution_count": null,
      "metadata": {
        "id": "FByHCv4228tT"
      },
      "outputs": [],
      "source": []
    },
    {
      "cell_type": "markdown",
      "metadata": {
        "id": "UrV5r6FC28tT"
      },
      "source": [
        "**Cual es el promedio de BasePay ?**"
      ]
    },
    {
      "cell_type": "code",
      "execution_count": null,
      "metadata": {
        "id": "FP8RtNIA28tT"
      },
      "outputs": [],
      "source": [
        "# Copie el código aca"
      ]
    },
    {
      "cell_type": "code",
      "execution_count": null,
      "metadata": {
        "id": "oRrG_U0428tT",
        "outputId": "5d823a84-b9ab-459c-c6d2-2ce1043aaf6d"
      },
      "outputs": [
        {
          "data": {
            "text/plain": [
              "66325.4488404877"
            ]
          },
          "execution_count": 29,
          "metadata": {},
          "output_type": "execute_result"
        }
      ],
      "source": []
    },
    {
      "cell_type": "markdown",
      "metadata": {
        "id": "PVfreTJf28tU"
      },
      "source": [
        "**Cual es la cantidad mas alta de OvertimePay en el dataset ?**"
      ]
    },
    {
      "cell_type": "code",
      "execution_count": null,
      "metadata": {
        "id": "uyWQQ2uQ28tU"
      },
      "outputs": [],
      "source": [
        "# Copie el código aca"
      ]
    },
    {
      "cell_type": "code",
      "execution_count": null,
      "metadata": {
        "id": "baIodoKK28tU",
        "outputId": "5900ec44-632f-4c5c-83db-bbaa6e1ced15"
      },
      "outputs": [
        {
          "data": {
            "text/plain": [
              "245131.88"
            ]
          },
          "execution_count": 31,
          "metadata": {},
          "output_type": "execute_result"
        }
      ],
      "source": []
    },
    {
      "cell_type": "markdown",
      "metadata": {
        "id": "0vQg620Q28tU"
      },
      "source": [
        "**Realice una descripcion estadistica de las columnas numericas?**"
      ]
    },
    {
      "cell_type": "code",
      "execution_count": null,
      "metadata": {
        "id": "fUnSThBO28tU"
      },
      "outputs": [],
      "source": [
        "# Copie el código aca"
      ]
    },
    {
      "cell_type": "code",
      "execution_count": null,
      "metadata": {
        "id": "tlvP3Cps28tU",
        "outputId": "1c8542c3-f8d5-4fad-91b4-655d698c7b84"
      },
      "outputs": [
        {
          "data": {
            "text/html": [
              "<div>\n",
              "<style scoped>\n",
              "    .dataframe tbody tr th:only-of-type {\n",
              "        vertical-align: middle;\n",
              "    }\n",
              "\n",
              "    .dataframe tbody tr th {\n",
              "        vertical-align: top;\n",
              "    }\n",
              "\n",
              "    .dataframe thead th {\n",
              "        text-align: right;\n",
              "    }\n",
              "</style>\n",
              "<table border=\"1\" class=\"dataframe\">\n",
              "  <thead>\n",
              "    <tr style=\"text-align: right;\">\n",
              "      <th></th>\n",
              "      <th>Id</th>\n",
              "      <th>BasePay</th>\n",
              "      <th>OvertimePay</th>\n",
              "      <th>OtherPay</th>\n",
              "      <th>Benefits</th>\n",
              "      <th>TotalPay</th>\n",
              "      <th>TotalPayBenefits</th>\n",
              "      <th>Year</th>\n",
              "    </tr>\n",
              "  </thead>\n",
              "  <tbody>\n",
              "    <tr>\n",
              "      <th>count</th>\n",
              "      <td>148654.000000</td>\n",
              "      <td>148045.000000</td>\n",
              "      <td>148650.000000</td>\n",
              "      <td>148650.000000</td>\n",
              "      <td>148654.000000</td>\n",
              "      <td>148654.000000</td>\n",
              "      <td>148654.000000</td>\n",
              "      <td>148654.000000</td>\n",
              "    </tr>\n",
              "    <tr>\n",
              "      <th>mean</th>\n",
              "      <td>74327.500000</td>\n",
              "      <td>66325.448840</td>\n",
              "      <td>5066.059886</td>\n",
              "      <td>3648.767297</td>\n",
              "      <td>18924.232839</td>\n",
              "      <td>74768.321972</td>\n",
              "      <td>93692.554811</td>\n",
              "      <td>2012.522643</td>\n",
              "    </tr>\n",
              "    <tr>\n",
              "      <th>std</th>\n",
              "      <td>42912.857795</td>\n",
              "      <td>42764.635495</td>\n",
              "      <td>11454.380559</td>\n",
              "      <td>8056.601866</td>\n",
              "      <td>17165.279495</td>\n",
              "      <td>50517.005274</td>\n",
              "      <td>62793.533483</td>\n",
              "      <td>1.117538</td>\n",
              "    </tr>\n",
              "    <tr>\n",
              "      <th>min</th>\n",
              "      <td>1.000000</td>\n",
              "      <td>-166.010000</td>\n",
              "      <td>-0.010000</td>\n",
              "      <td>-7058.590000</td>\n",
              "      <td>-33.890000</td>\n",
              "      <td>-618.130000</td>\n",
              "      <td>-618.130000</td>\n",
              "      <td>2011.000000</td>\n",
              "    </tr>\n",
              "    <tr>\n",
              "      <th>25%</th>\n",
              "      <td>37164.250000</td>\n",
              "      <td>33588.200000</td>\n",
              "      <td>0.000000</td>\n",
              "      <td>0.000000</td>\n",
              "      <td>0.000000</td>\n",
              "      <td>36168.995000</td>\n",
              "      <td>44065.650000</td>\n",
              "      <td>2012.000000</td>\n",
              "    </tr>\n",
              "    <tr>\n",
              "      <th>50%</th>\n",
              "      <td>74327.500000</td>\n",
              "      <td>65007.450000</td>\n",
              "      <td>0.000000</td>\n",
              "      <td>811.270000</td>\n",
              "      <td>23214.020000</td>\n",
              "      <td>71426.610000</td>\n",
              "      <td>92404.090000</td>\n",
              "      <td>2013.000000</td>\n",
              "    </tr>\n",
              "    <tr>\n",
              "      <th>75%</th>\n",
              "      <td>111490.750000</td>\n",
              "      <td>94691.050000</td>\n",
              "      <td>4658.175000</td>\n",
              "      <td>4236.065000</td>\n",
              "      <td>33468.980000</td>\n",
              "      <td>105839.135000</td>\n",
              "      <td>132876.450000</td>\n",
              "      <td>2014.000000</td>\n",
              "    </tr>\n",
              "    <tr>\n",
              "      <th>max</th>\n",
              "      <td>148654.000000</td>\n",
              "      <td>319275.010000</td>\n",
              "      <td>245131.880000</td>\n",
              "      <td>400184.250000</td>\n",
              "      <td>96570.660000</td>\n",
              "      <td>567595.430000</td>\n",
              "      <td>567595.430000</td>\n",
              "      <td>2014.000000</td>\n",
              "    </tr>\n",
              "  </tbody>\n",
              "</table>\n",
              "</div>"
            ],
            "text/plain": [
              "                  Id        BasePay    OvertimePay       OtherPay  \\\n",
              "count  148654.000000  148045.000000  148650.000000  148650.000000   \n",
              "mean    74327.500000   66325.448840    5066.059886    3648.767297   \n",
              "std     42912.857795   42764.635495   11454.380559    8056.601866   \n",
              "min         1.000000    -166.010000      -0.010000   -7058.590000   \n",
              "25%     37164.250000   33588.200000       0.000000       0.000000   \n",
              "50%     74327.500000   65007.450000       0.000000     811.270000   \n",
              "75%    111490.750000   94691.050000    4658.175000    4236.065000   \n",
              "max    148654.000000  319275.010000  245131.880000  400184.250000   \n",
              "\n",
              "            Benefits       TotalPay  TotalPayBenefits           Year  \n",
              "count  148654.000000  148654.000000     148654.000000  148654.000000  \n",
              "mean    18924.232839   74768.321972      93692.554811    2012.522643  \n",
              "std     17165.279495   50517.005274      62793.533483       1.117538  \n",
              "min       -33.890000    -618.130000       -618.130000    2011.000000  \n",
              "25%         0.000000   36168.995000      44065.650000    2012.000000  \n",
              "50%     23214.020000   71426.610000      92404.090000    2013.000000  \n",
              "75%     33468.980000  105839.135000     132876.450000    2014.000000  \n",
              "max     96570.660000  567595.430000     567595.430000    2014.000000  "
            ]
          },
          "execution_count": 33,
          "metadata": {},
          "output_type": "execute_result"
        }
      ],
      "source": []
    },
    {
      "cell_type": "markdown",
      "metadata": {
        "id": "X_BxO3Y228tU"
      },
      "source": [
        "**En este dataset las variables `Id` y `Year` representan variables categorica, convertir estas columnas a su formato correcto**"
      ]
    },
    {
      "cell_type": "code",
      "execution_count": null,
      "metadata": {
        "id": "pZAHmxWi28tV"
      },
      "outputs": [],
      "source": [
        "# Copie el código aca"
      ]
    },
    {
      "cell_type": "code",
      "execution_count": null,
      "metadata": {
        "id": "RIQmrrMJ28tV"
      },
      "outputs": [],
      "source": []
    },
    {
      "cell_type": "markdown",
      "metadata": {
        "id": "6m-gqcVl28tV"
      },
      "source": [
        "**la variable `Year` es categorica ordinal, primero detecte cuales son los valores unicos que tiene la columna**"
      ]
    },
    {
      "cell_type": "code",
      "execution_count": null,
      "metadata": {
        "id": "sDFWacMx28tV"
      },
      "outputs": [],
      "source": [
        "# Copie el código aca"
      ]
    },
    {
      "cell_type": "code",
      "execution_count": null,
      "metadata": {
        "id": "J_JqYfO728tV",
        "outputId": "55d37c7a-ad7a-4f08-d04c-d7eaabd600b0"
      },
      "outputs": [
        {
          "data": {
            "text/plain": [
              "[2011, 2012, 2013, 2014]\n",
              "Categories (4, int64): [2011, 2012, 2013, 2014]"
            ]
          },
          "execution_count": 37,
          "metadata": {},
          "output_type": "execute_result"
        }
      ],
      "source": []
    },
    {
      "cell_type": "markdown",
      "metadata": {
        "id": "3yxuVy9I28tV"
      },
      "source": [
        "**Apartir de la información anterior convierta la columna `Year` en variable categorica ordinal y visualice la columna**"
      ]
    },
    {
      "cell_type": "code",
      "execution_count": null,
      "metadata": {
        "id": "6_nivMWD28tV"
      },
      "outputs": [],
      "source": [
        "# Copie el código aca"
      ]
    },
    {
      "cell_type": "code",
      "execution_count": null,
      "metadata": {
        "id": "sVD6UfcM28tW",
        "outputId": "36574d64-7166-4b89-f98f-d97577678e33"
      },
      "outputs": [
        {
          "data": {
            "text/plain": [
              "0         2011\n",
              "1         2011\n",
              "2         2011\n",
              "3         2011\n",
              "4         2011\n",
              "          ... \n",
              "148649    2014\n",
              "148650    2014\n",
              "148651    2014\n",
              "148652    2014\n",
              "148653    2014\n",
              "Name: Year, Length: 148654, dtype: category\n",
              "Categories (4, int64): [2011 < 2012 < 2013 < 2014]"
            ]
          },
          "execution_count": 39,
          "metadata": {},
          "output_type": "execute_result"
        }
      ],
      "source": []
    },
    {
      "cell_type": "markdown",
      "metadata": {
        "id": "Wqg3O8U228tW"
      },
      "source": [
        "**Realice nuevamente una descripcion estadistica de las columnas numericas?**"
      ]
    },
    {
      "cell_type": "code",
      "execution_count": null,
      "metadata": {
        "id": "Iz58bX5P28tW"
      },
      "outputs": [],
      "source": [
        "# Copie el código aca"
      ]
    },
    {
      "cell_type": "code",
      "execution_count": null,
      "metadata": {
        "id": "pMZ3iMBL28tW",
        "outputId": "d62d2a03-9549-461d-e869-8603cd9f31fa"
      },
      "outputs": [
        {
          "data": {
            "text/html": [
              "<div>\n",
              "<style scoped>\n",
              "    .dataframe tbody tr th:only-of-type {\n",
              "        vertical-align: middle;\n",
              "    }\n",
              "\n",
              "    .dataframe tbody tr th {\n",
              "        vertical-align: top;\n",
              "    }\n",
              "\n",
              "    .dataframe thead th {\n",
              "        text-align: right;\n",
              "    }\n",
              "</style>\n",
              "<table border=\"1\" class=\"dataframe\">\n",
              "  <thead>\n",
              "    <tr style=\"text-align: right;\">\n",
              "      <th></th>\n",
              "      <th>BasePay</th>\n",
              "      <th>OvertimePay</th>\n",
              "      <th>OtherPay</th>\n",
              "      <th>Benefits</th>\n",
              "      <th>TotalPay</th>\n",
              "      <th>TotalPayBenefits</th>\n",
              "    </tr>\n",
              "  </thead>\n",
              "  <tbody>\n",
              "    <tr>\n",
              "      <th>count</th>\n",
              "      <td>148045.000000</td>\n",
              "      <td>148650.000000</td>\n",
              "      <td>148650.000000</td>\n",
              "      <td>148654.000000</td>\n",
              "      <td>148654.000000</td>\n",
              "      <td>148654.000000</td>\n",
              "    </tr>\n",
              "    <tr>\n",
              "      <th>mean</th>\n",
              "      <td>66325.448840</td>\n",
              "      <td>5066.059886</td>\n",
              "      <td>3648.767297</td>\n",
              "      <td>18924.232839</td>\n",
              "      <td>74768.321972</td>\n",
              "      <td>93692.554811</td>\n",
              "    </tr>\n",
              "    <tr>\n",
              "      <th>std</th>\n",
              "      <td>42764.635495</td>\n",
              "      <td>11454.380559</td>\n",
              "      <td>8056.601866</td>\n",
              "      <td>17165.279495</td>\n",
              "      <td>50517.005274</td>\n",
              "      <td>62793.533483</td>\n",
              "    </tr>\n",
              "    <tr>\n",
              "      <th>min</th>\n",
              "      <td>-166.010000</td>\n",
              "      <td>-0.010000</td>\n",
              "      <td>-7058.590000</td>\n",
              "      <td>-33.890000</td>\n",
              "      <td>-618.130000</td>\n",
              "      <td>-618.130000</td>\n",
              "    </tr>\n",
              "    <tr>\n",
              "      <th>25%</th>\n",
              "      <td>33588.200000</td>\n",
              "      <td>0.000000</td>\n",
              "      <td>0.000000</td>\n",
              "      <td>0.000000</td>\n",
              "      <td>36168.995000</td>\n",
              "      <td>44065.650000</td>\n",
              "    </tr>\n",
              "    <tr>\n",
              "      <th>50%</th>\n",
              "      <td>65007.450000</td>\n",
              "      <td>0.000000</td>\n",
              "      <td>811.270000</td>\n",
              "      <td>23214.020000</td>\n",
              "      <td>71426.610000</td>\n",
              "      <td>92404.090000</td>\n",
              "    </tr>\n",
              "    <tr>\n",
              "      <th>75%</th>\n",
              "      <td>94691.050000</td>\n",
              "      <td>4658.175000</td>\n",
              "      <td>4236.065000</td>\n",
              "      <td>33468.980000</td>\n",
              "      <td>105839.135000</td>\n",
              "      <td>132876.450000</td>\n",
              "    </tr>\n",
              "    <tr>\n",
              "      <th>max</th>\n",
              "      <td>319275.010000</td>\n",
              "      <td>245131.880000</td>\n",
              "      <td>400184.250000</td>\n",
              "      <td>96570.660000</td>\n",
              "      <td>567595.430000</td>\n",
              "      <td>567595.430000</td>\n",
              "    </tr>\n",
              "  </tbody>\n",
              "</table>\n",
              "</div>"
            ],
            "text/plain": [
              "             BasePay    OvertimePay       OtherPay       Benefits  \\\n",
              "count  148045.000000  148650.000000  148650.000000  148654.000000   \n",
              "mean    66325.448840    5066.059886    3648.767297   18924.232839   \n",
              "std     42764.635495   11454.380559    8056.601866   17165.279495   \n",
              "min      -166.010000      -0.010000   -7058.590000     -33.890000   \n",
              "25%     33588.200000       0.000000       0.000000       0.000000   \n",
              "50%     65007.450000       0.000000     811.270000   23214.020000   \n",
              "75%     94691.050000    4658.175000    4236.065000   33468.980000   \n",
              "max    319275.010000  245131.880000  400184.250000   96570.660000   \n",
              "\n",
              "            TotalPay  TotalPayBenefits  \n",
              "count  148654.000000     148654.000000  \n",
              "mean    74768.321972      93692.554811  \n",
              "std     50517.005274      62793.533483  \n",
              "min      -618.130000       -618.130000  \n",
              "25%     36168.995000      44065.650000  \n",
              "50%     71426.610000      92404.090000  \n",
              "75%    105839.135000     132876.450000  \n",
              "max    567595.430000     567595.430000  "
            ]
          },
          "execution_count": 41,
          "metadata": {},
          "output_type": "execute_result"
        }
      ],
      "source": []
    },
    {
      "cell_type": "markdown",
      "metadata": {
        "id": "mIlIXzPn28tW"
      },
      "source": [
        "**¿Cuál es el título de trabajo de JOSEPH DRISCOLL? Nota: Utilice mayúsculas, de lo contrario, puede obtener una respuesta que no coincida.**"
      ]
    },
    {
      "cell_type": "code",
      "execution_count": null,
      "metadata": {
        "id": "P6RRQv4s28tW"
      },
      "outputs": [],
      "source": [
        "# Copie el código aca"
      ]
    },
    {
      "cell_type": "code",
      "execution_count": null,
      "metadata": {
        "id": "P7LU0bV428tW",
        "outputId": "0f5fb2e8-b458-48c1-fb4a-d7db2e47d25d"
      },
      "outputs": [
        {
          "data": {
            "text/plain": [
              "24    CAPTAIN, FIRE SUPPRESSION\n",
              "Name: JobTitle, dtype: object"
            ]
          },
          "execution_count": 43,
          "metadata": {},
          "output_type": "execute_result"
        }
      ],
      "source": []
    },
    {
      "cell_type": "markdown",
      "metadata": {
        "id": "3bfhFwHY28tW"
      },
      "source": [
        "**¿Cuanto gana JOSEPH DRISCOLL (incluyendo beneficios)?**"
      ]
    },
    {
      "cell_type": "code",
      "execution_count": null,
      "metadata": {
        "id": "e3eDNlxw28tX"
      },
      "outputs": [],
      "source": [
        "# Copie el código aca"
      ]
    },
    {
      "cell_type": "code",
      "execution_count": null,
      "metadata": {
        "id": "gpn4WHij28tX",
        "outputId": "02c5a2ec-cb51-4f51-ed00-503177d10f6e"
      },
      "outputs": [
        {
          "data": {
            "text/plain": [
              "24    270324.91\n",
              "Name: TotalPayBenefits, dtype: float64"
            ]
          },
          "execution_count": 45,
          "metadata": {},
          "output_type": "execute_result"
        }
      ],
      "source": []
    },
    {
      "cell_type": "markdown",
      "metadata": {
        "id": "94vSugI128tX"
      },
      "source": [
        "**¿Cual es el nombre de la persona con mejor pago (incluyendo beneficios)?**"
      ]
    },
    {
      "cell_type": "code",
      "execution_count": null,
      "metadata": {
        "id": "T8Ryd1Ir28tX"
      },
      "outputs": [],
      "source": [
        "# Copie el código aca"
      ]
    },
    {
      "cell_type": "code",
      "execution_count": null,
      "metadata": {
        "id": "6Lkor0ko28tX",
        "outputId": "21602877-c933-4cba-a297-88df203cbb0d"
      },
      "outputs": [
        {
          "data": {
            "text/html": [
              "<div>\n",
              "<style scoped>\n",
              "    .dataframe tbody tr th:only-of-type {\n",
              "        vertical-align: middle;\n",
              "    }\n",
              "\n",
              "    .dataframe tbody tr th {\n",
              "        vertical-align: top;\n",
              "    }\n",
              "\n",
              "    .dataframe thead th {\n",
              "        text-align: right;\n",
              "    }\n",
              "</style>\n",
              "<table border=\"1\" class=\"dataframe\">\n",
              "  <thead>\n",
              "    <tr style=\"text-align: right;\">\n",
              "      <th></th>\n",
              "      <th>Id</th>\n",
              "      <th>EmployeeName</th>\n",
              "      <th>JobTitle</th>\n",
              "      <th>BasePay</th>\n",
              "      <th>OvertimePay</th>\n",
              "      <th>OtherPay</th>\n",
              "      <th>Benefits</th>\n",
              "      <th>TotalPay</th>\n",
              "      <th>TotalPayBenefits</th>\n",
              "      <th>Year</th>\n",
              "    </tr>\n",
              "  </thead>\n",
              "  <tbody>\n",
              "    <tr>\n",
              "      <th>0</th>\n",
              "      <td>1</td>\n",
              "      <td>NATHANIEL FORD</td>\n",
              "      <td>GENERAL MANAGER-METROPOLITAN TRANSIT AUTHORITY</td>\n",
              "      <td>167411.18</td>\n",
              "      <td>0.0</td>\n",
              "      <td>400184.25</td>\n",
              "      <td>0.0</td>\n",
              "      <td>567595.43</td>\n",
              "      <td>567595.43</td>\n",
              "      <td>2011</td>\n",
              "    </tr>\n",
              "  </tbody>\n",
              "</table>\n",
              "</div>"
            ],
            "text/plain": [
              "  Id    EmployeeName                                        JobTitle  \\\n",
              "0  1  NATHANIEL FORD  GENERAL MANAGER-METROPOLITAN TRANSIT AUTHORITY   \n",
              "\n",
              "     BasePay  OvertimePay   OtherPay  Benefits   TotalPay  TotalPayBenefits  \\\n",
              "0  167411.18          0.0  400184.25       0.0  567595.43         567595.43   \n",
              "\n",
              "   Year  \n",
              "0  2011  "
            ]
          },
          "execution_count": 47,
          "metadata": {},
          "output_type": "execute_result"
        }
      ],
      "source": []
    },
    {
      "cell_type": "markdown",
      "metadata": {
        "id": "olkrpLl328tX"
      },
      "source": [
        "**¿Cual es el nombre de la persona peor paga (incluyendo beneficios)? ¿Notan algo extraño sobre cuánto le pagan?**"
      ]
    },
    {
      "cell_type": "code",
      "execution_count": null,
      "metadata": {
        "id": "DT0rqOki28tX"
      },
      "outputs": [],
      "source": [
        "# Copie el código aca"
      ]
    },
    {
      "cell_type": "code",
      "execution_count": null,
      "metadata": {
        "id": "gNMbjBz128tY",
        "outputId": "aafb1849-6636-48dd-dc42-e179ab94bc33"
      },
      "outputs": [
        {
          "data": {
            "text/html": [
              "<div>\n",
              "<style scoped>\n",
              "    .dataframe tbody tr th:only-of-type {\n",
              "        vertical-align: middle;\n",
              "    }\n",
              "\n",
              "    .dataframe tbody tr th {\n",
              "        vertical-align: top;\n",
              "    }\n",
              "\n",
              "    .dataframe thead th {\n",
              "        text-align: right;\n",
              "    }\n",
              "</style>\n",
              "<table border=\"1\" class=\"dataframe\">\n",
              "  <thead>\n",
              "    <tr style=\"text-align: right;\">\n",
              "      <th></th>\n",
              "      <th>Id</th>\n",
              "      <th>EmployeeName</th>\n",
              "      <th>JobTitle</th>\n",
              "      <th>BasePay</th>\n",
              "      <th>OvertimePay</th>\n",
              "      <th>OtherPay</th>\n",
              "      <th>Benefits</th>\n",
              "      <th>TotalPay</th>\n",
              "      <th>TotalPayBenefits</th>\n",
              "      <th>Year</th>\n",
              "    </tr>\n",
              "  </thead>\n",
              "  <tbody>\n",
              "    <tr>\n",
              "      <th>148653</th>\n",
              "      <td>148654</td>\n",
              "      <td>Joe Lopez</td>\n",
              "      <td>Counselor, Log Cabin Ranch</td>\n",
              "      <td>0.0</td>\n",
              "      <td>0.0</td>\n",
              "      <td>-618.13</td>\n",
              "      <td>0.0</td>\n",
              "      <td>-618.13</td>\n",
              "      <td>-618.13</td>\n",
              "      <td>2014</td>\n",
              "    </tr>\n",
              "  </tbody>\n",
              "</table>\n",
              "</div>"
            ],
            "text/plain": [
              "            Id EmployeeName                    JobTitle  BasePay  OvertimePay  \\\n",
              "148653  148654    Joe Lopez  Counselor, Log Cabin Ranch      0.0          0.0   \n",
              "\n",
              "        OtherPay  Benefits  TotalPay  TotalPayBenefits  Year  \n",
              "148653   -618.13       0.0   -618.13           -618.13  2014  "
            ]
          },
          "execution_count": 49,
          "metadata": {},
          "output_type": "execute_result"
        }
      ],
      "source": []
    },
    {
      "cell_type": "markdown",
      "metadata": {
        "id": "mXHoyesh28tY"
      },
      "source": [
        "**Cuantos registros tienen un valor de TotalPayBeneficts menor que cero**"
      ]
    },
    {
      "cell_type": "code",
      "execution_count": null,
      "metadata": {
        "id": "DYBVmhDC28tY"
      },
      "outputs": [],
      "source": [
        "# Copie el código aca"
      ]
    },
    {
      "cell_type": "code",
      "execution_count": null,
      "metadata": {
        "id": "XdYurOd-28tY",
        "outputId": "aa50ee2a-e511-46f9-f949-24f03602a102"
      },
      "outputs": [
        {
          "data": {
            "text/plain": [
              "4"
            ]
          },
          "execution_count": 51,
          "metadata": {},
          "output_type": "execute_result"
        }
      ],
      "source": []
    },
    {
      "cell_type": "markdown",
      "metadata": {
        "id": "-7O51o0C28tY"
      },
      "source": [
        "**¿Cual es el promedio (mean) BasePay de todos los empleados por año? los años van entre (2011-2014)?** (Tip: Usar groupby)"
      ]
    },
    {
      "cell_type": "code",
      "execution_count": null,
      "metadata": {
        "id": "NUvFhluA28tY"
      },
      "outputs": [],
      "source": [
        "# Copie el código aca"
      ]
    },
    {
      "cell_type": "code",
      "execution_count": null,
      "metadata": {
        "id": "h9StLWRd28tY",
        "outputId": "260125a3-3154-43f7-d7c5-57ef8b2d17f7"
      },
      "outputs": [
        {
          "data": {
            "text/plain": [
              "Year\n",
              "2011    63595.956517\n",
              "2012    65436.406857\n",
              "2013    69630.030216\n",
              "2014    66564.421924\n",
              "Name: BasePay, dtype: float64"
            ]
          },
          "execution_count": 53,
          "metadata": {},
          "output_type": "execute_result"
        }
      ],
      "source": []
    },
    {
      "cell_type": "markdown",
      "metadata": {
        "id": "HtKqoLvt28tZ"
      },
      "source": [
        "**¿Cuantos titulos de trabajos (JobTitle) unicos existen?**"
      ]
    },
    {
      "cell_type": "code",
      "execution_count": null,
      "metadata": {
        "id": "Gt4Pdd1O28tZ"
      },
      "outputs": [],
      "source": [
        "# Copie el código aca"
      ]
    },
    {
      "cell_type": "code",
      "execution_count": null,
      "metadata": {
        "id": "ljJczZPw28tZ",
        "outputId": "b1413e48-2842-4290-b016-d0ce45d27a5d"
      },
      "outputs": [
        {
          "data": {
            "text/plain": [
              "2159"
            ]
          },
          "execution_count": 55,
          "metadata": {},
          "output_type": "execute_result"
        }
      ],
      "source": []
    },
    {
      "cell_type": "markdown",
      "metadata": {
        "id": "ek3aobxp28tZ"
      },
      "source": [
        "**¿Cuales son los 5 trabajos mas comunes?**"
      ]
    },
    {
      "cell_type": "code",
      "execution_count": null,
      "metadata": {
        "id": "5VZ2qyVs28tZ"
      },
      "outputs": [],
      "source": [
        "# Copie el código aca"
      ]
    },
    {
      "cell_type": "code",
      "execution_count": null,
      "metadata": {
        "id": "A5q7K10j28tZ",
        "outputId": "91c16003-5df5-4ce0-8d76-ebd3a3b147e9"
      },
      "outputs": [
        {
          "data": {
            "text/plain": [
              "Transit Operator                7036\n",
              "Special Nurse                   4389\n",
              "Registered Nurse                3736\n",
              "Public Svc Aide-Public Works    2518\n",
              "Police Officer 3                2421\n",
              "Name: JobTitle, dtype: int64"
            ]
          },
          "execution_count": 57,
          "metadata": {},
          "output_type": "execute_result"
        }
      ],
      "source": []
    },
    {
      "cell_type": "markdown",
      "metadata": {
        "id": "KPrPSzVC28tZ"
      },
      "source": [
        "**¿Cuántos puestos de trabajo Unicos existieron en 2013? (Ejemplo, los títulos de trabajo con solo una ocurrencia en 2013?)**"
      ]
    },
    {
      "cell_type": "code",
      "execution_count": null,
      "metadata": {
        "id": "gcoOHzZd28tZ"
      },
      "outputs": [],
      "source": [
        "# Copie el código aca"
      ]
    },
    {
      "cell_type": "code",
      "execution_count": null,
      "metadata": {
        "id": "3EM4f_8E28ta",
        "outputId": "ab21178c-9428-4cc2-e333-b9fd5394315e"
      },
      "outputs": [
        {
          "data": {
            "text/plain": [
              "202"
            ]
          },
          "execution_count": 59,
          "metadata": {},
          "output_type": "execute_result"
        }
      ],
      "source": []
    },
    {
      "cell_type": "markdown",
      "metadata": {
        "id": "0z3aSZBN28ta"
      },
      "source": [
        "**¿Cuántas personas tienen la palabra Chief en el título de su trabajo?** Apoyese en los métodos para manipular strings y en el método `.apply()`"
      ]
    },
    {
      "cell_type": "code",
      "execution_count": null,
      "metadata": {
        "id": "3cSPVugB28ta"
      },
      "outputs": [],
      "source": [
        "# Copie el código aca"
      ]
    },
    {
      "cell_type": "code",
      "execution_count": null,
      "metadata": {
        "id": "3GM-wr2O28ta",
        "outputId": "6c61c8ab-abcc-42bd-cda9-600e28822648"
      },
      "outputs": [
        {
          "data": {
            "text/plain": [
              "627"
            ]
          },
          "execution_count": 61,
          "metadata": {},
          "output_type": "execute_result"
        }
      ],
      "source": []
    },
    {
      "cell_type": "markdown",
      "metadata": {
        "id": "K1Dn-t0p28ta"
      },
      "source": [
        "**Bono: ¿Existe una correlación entre la longitud del nombre del Título del trabajo y el Salario?**\n",
        "\n",
        "crea una nueva columna donde se guarde la longitud del titulo del trabajo. tip: usar el método `.apply()`"
      ]
    },
    {
      "cell_type": "code",
      "execution_count": null,
      "metadata": {
        "id": "CjxEHLgc28ta"
      },
      "outputs": [],
      "source": [
        "# Copie el código aca"
      ]
    },
    {
      "cell_type": "code",
      "execution_count": null,
      "metadata": {
        "id": "I_Bm7M1y28tb",
        "outputId": "b60528d6-9817-4b64-d9f4-c18c212e0eea"
      },
      "outputs": [
        {
          "data": {
            "text/plain": [
              "0         46\n",
              "1         31\n",
              "2         31\n",
              "3         36\n",
              "4         44\n",
              "          ..\n",
              "148649     9\n",
              "148650    12\n",
              "148651    12\n",
              "148652    12\n",
              "148653    26\n",
              "Name: title_len, Length: 148654, dtype: int64"
            ]
          },
          "execution_count": 62,
          "metadata": {},
          "output_type": "execute_result"
        }
      ],
      "source": []
    },
    {
      "cell_type": "markdown",
      "metadata": {
        "id": "roHdnD_R28tb"
      },
      "source": [
        "Utilice el método `.corr()` de Pandas para calcular la correlacion"
      ]
    },
    {
      "cell_type": "code",
      "execution_count": null,
      "metadata": {
        "id": "UVKAc33Y28tb"
      },
      "outputs": [],
      "source": [
        "# Copie el código aca"
      ]
    },
    {
      "cell_type": "code",
      "execution_count": null,
      "metadata": {
        "id": "Y4su1-iW28tb",
        "outputId": "8688c57e-32c4-49fe-bba0-4c5ca0e002b5"
      },
      "outputs": [
        {
          "data": {
            "text/html": [
              "<div>\n",
              "<style scoped>\n",
              "    .dataframe tbody tr th:only-of-type {\n",
              "        vertical-align: middle;\n",
              "    }\n",
              "\n",
              "    .dataframe tbody tr th {\n",
              "        vertical-align: top;\n",
              "    }\n",
              "\n",
              "    .dataframe thead th {\n",
              "        text-align: right;\n",
              "    }\n",
              "</style>\n",
              "<table border=\"1\" class=\"dataframe\">\n",
              "  <thead>\n",
              "    <tr style=\"text-align: right;\">\n",
              "      <th></th>\n",
              "      <th>title_len</th>\n",
              "      <th>TotalPayBenefits</th>\n",
              "    </tr>\n",
              "  </thead>\n",
              "  <tbody>\n",
              "    <tr>\n",
              "      <th>title_len</th>\n",
              "      <td>1.000000</td>\n",
              "      <td>-0.036878</td>\n",
              "    </tr>\n",
              "    <tr>\n",
              "      <th>TotalPayBenefits</th>\n",
              "      <td>-0.036878</td>\n",
              "      <td>1.000000</td>\n",
              "    </tr>\n",
              "  </tbody>\n",
              "</table>\n",
              "</div>"
            ],
            "text/plain": [
              "                  title_len  TotalPayBenefits\n",
              "title_len          1.000000         -0.036878\n",
              "TotalPayBenefits  -0.036878          1.000000"
            ]
          },
          "execution_count": 63,
          "metadata": {},
          "output_type": "execute_result"
        }
      ],
      "source": []
    }
  ],
  "metadata": {
    "colab": {
      "provenance": []
    },
    "hide_input": false,
    "kernelspec": {
      "display_name": "Python 3",
      "language": "python",
      "name": "python3"
    },
    "language_info": {
      "codemirror_mode": {
        "name": "ipython",
        "version": 3
      },
      "file_extension": ".py",
      "mimetype": "text/x-python",
      "name": "python",
      "nbconvert_exporter": "python",
      "pygments_lexer": "ipython3",
      "version": "3.10.13"
    },
    "toc": {
      "base_numbering": 1,
      "nav_menu": {},
      "number_sections": true,
      "sideBar": true,
      "skip_h1_title": false,
      "title_cell": "Contenido",
      "title_sidebar": "Contenido",
      "toc_cell": false,
      "toc_position": {},
      "toc_section_display": true,
      "toc_window_display": false
    },
    "varInspector": {
      "cols": {
        "lenName": 16,
        "lenType": 16,
        "lenVar": 40
      },
      "kernels_config": {
        "python": {
          "delete_cmd_postfix": "",
          "delete_cmd_prefix": "del ",
          "library": "var_list.py",
          "varRefreshCmd": "print(var_dic_list())"
        },
        "r": {
          "delete_cmd_postfix": ") ",
          "delete_cmd_prefix": "rm(",
          "library": "var_list.r",
          "varRefreshCmd": "cat(var_dic_list()) "
        }
      },
      "types_to_exclude": [
        "module",
        "function",
        "builtin_function_or_method",
        "instance",
        "_Feature"
      ],
      "window_display": false
    }
  },
  "nbformat": 4,
  "nbformat_minor": 0
}
