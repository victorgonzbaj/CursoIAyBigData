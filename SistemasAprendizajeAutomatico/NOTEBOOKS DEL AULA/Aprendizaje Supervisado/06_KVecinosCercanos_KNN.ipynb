{
 "cells": [
  {
   "cell_type": "markdown",
   "source": [
    "# Algoritmo k-NN (Clasificador)"
   ],
   "metadata": {
    "collapsed": false
   },
   "id": "fcb41ff8a147a6f"
  },
  {
   "cell_type": "markdown",
   "source": [
    "## Acciones iniciales"
   ],
   "metadata": {
    "collapsed": false
   },
   "id": "a26dcf75c38344f6"
  },
  {
   "cell_type": "markdown",
   "source": [
    "Importamos librerías necesarias"
   ],
   "metadata": {
    "collapsed": false
   },
   "id": "8566a286ac13586c"
  },
  {
   "cell_type": "code",
   "execution_count": 21,
   "id": "initial_id",
   "metadata": {
    "collapsed": true,
    "ExecuteTime": {
     "end_time": "2024-02-07T17:05:31.387428400Z",
     "start_time": "2024-02-07T17:05:31.375945300Z"
    }
   },
   "outputs": [],
   "source": [
    "import numpy as np\n",
    "import matplotlib.pyplot as plt\n",
    "import pandas as pd"
   ]
  },
  {
   "cell_type": "markdown",
   "source": [
    "Descargamos el dataset \"IRIS\" desde la web del UC Irvine ML Repository\n",
    "![logoUCI](./img/UCILOGO.JPG)\n"
   ],
   "metadata": {
    "collapsed": false
   },
   "id": "68c68544b4546973"
  },
  {
   "cell_type": "code",
   "outputs": [],
   "source": [
    "path = \"https://archive.ics.uci.edu/ml/machine-learning-databases/iris/iris.data\""
   ],
   "metadata": {
    "collapsed": false,
    "ExecuteTime": {
     "end_time": "2024-02-07T17:05:33.394514700Z",
     "start_time": "2024-02-07T17:05:33.385029900Z"
    }
   },
   "id": "d2874458d371dba2",
   "execution_count": 22
  },
  {
   "cell_type": "markdown",
   "source": [
    "Asignamos los nombres de columna al dataset"
   ],
   "metadata": {
    "collapsed": false
   },
   "id": "1dbf75b64291e599"
  },
  {
   "cell_type": "code",
   "outputs": [],
   "source": [
    "headernames = ['sepal length', 'sepal width', 'petal length', 'petal width', 'class']"
   ],
   "metadata": {
    "collapsed": false,
    "ExecuteTime": {
     "end_time": "2024-02-07T17:05:34.882716400Z",
     "start_time": "2024-02-07T17:05:34.871988600Z"
    }
   },
   "id": "dd89b8883237ea7b",
   "execution_count": 23
  },
  {
   "cell_type": "markdown",
   "source": [
    "Cargamos el dataset en un dataframe"
   ],
   "metadata": {
    "collapsed": false
   },
   "id": "23793ffbe38d2609"
  },
  {
   "cell_type": "code",
   "outputs": [
    {
     "data": {
      "text/plain": "   sepal length  sepal width  petal length  petal width        class\n0           5.1          3.5           1.4          0.2  Iris-setosa\n1           4.9          3.0           1.4          0.2  Iris-setosa\n2           4.7          3.2           1.3          0.2  Iris-setosa\n3           4.6          3.1           1.5          0.2  Iris-setosa\n4           5.0          3.6           1.4          0.2  Iris-setosa",
      "text/html": "<div>\n<style scoped>\n    .dataframe tbody tr th:only-of-type {\n        vertical-align: middle;\n    }\n\n    .dataframe tbody tr th {\n        vertical-align: top;\n    }\n\n    .dataframe thead th {\n        text-align: right;\n    }\n</style>\n<table border=\"1\" class=\"dataframe\">\n  <thead>\n    <tr style=\"text-align: right;\">\n      <th></th>\n      <th>sepal length</th>\n      <th>sepal width</th>\n      <th>petal length</th>\n      <th>petal width</th>\n      <th>class</th>\n    </tr>\n  </thead>\n  <tbody>\n    <tr>\n      <th>0</th>\n      <td>5.1</td>\n      <td>3.5</td>\n      <td>1.4</td>\n      <td>0.2</td>\n      <td>Iris-setosa</td>\n    </tr>\n    <tr>\n      <th>1</th>\n      <td>4.9</td>\n      <td>3.0</td>\n      <td>1.4</td>\n      <td>0.2</td>\n      <td>Iris-setosa</td>\n    </tr>\n    <tr>\n      <th>2</th>\n      <td>4.7</td>\n      <td>3.2</td>\n      <td>1.3</td>\n      <td>0.2</td>\n      <td>Iris-setosa</td>\n    </tr>\n    <tr>\n      <th>3</th>\n      <td>4.6</td>\n      <td>3.1</td>\n      <td>1.5</td>\n      <td>0.2</td>\n      <td>Iris-setosa</td>\n    </tr>\n    <tr>\n      <th>4</th>\n      <td>5.0</td>\n      <td>3.6</td>\n      <td>1.4</td>\n      <td>0.2</td>\n      <td>Iris-setosa</td>\n    </tr>\n  </tbody>\n</table>\n</div>"
     },
     "execution_count": 24,
     "metadata": {},
     "output_type": "execute_result"
    }
   ],
   "source": [
    "dataset = pd.read_csv(path, names=headernames)\n",
    "dataset.head()"
   ],
   "metadata": {
    "collapsed": false,
    "ExecuteTime": {
     "end_time": "2024-02-07T17:05:37.080281600Z",
     "start_time": "2024-02-07T17:05:36.463816600Z"
    }
   },
   "id": "152830366bf228",
   "execution_count": 24
  },
  {
   "cell_type": "markdown",
   "source": [
    "### Separación de características y clase"
   ],
   "metadata": {
    "collapsed": false
   },
   "id": "61b22b9a350b17aa"
  },
  {
   "cell_type": "code",
   "outputs": [],
   "source": [
    "X = dataset.iloc[:, :-1].values\n",
    "y = dataset.iloc[:, 4].values"
   ],
   "metadata": {
    "collapsed": false,
    "ExecuteTime": {
     "end_time": "2024-02-07T17:05:39.291129700Z",
     "start_time": "2024-02-07T17:05:39.280111500Z"
    }
   },
   "id": "d13e90f836712e42",
   "execution_count": 25
  },
  {
   "cell_type": "markdown",
   "source": [
    "### Partición conjunto TRAIN y conjunto TEST"
   ],
   "metadata": {
    "collapsed": false
   },
   "id": "4b09bbe52d5651f3"
  },
  {
   "cell_type": "code",
   "outputs": [],
   "source": [
    "from sklearn.model_selection import train_test_split\n",
    "X_train, X_test, y_train, y_test = train_test_split(X, y, test_size=0.4)"
   ],
   "metadata": {
    "collapsed": false,
    "ExecuteTime": {
     "end_time": "2024-02-07T17:05:41.107575400Z",
     "start_time": "2024-02-07T17:05:41.097642Z"
    }
   },
   "id": "5521985f11dad933",
   "execution_count": 26
  },
  {
   "cell_type": "markdown",
   "source": [
    "#### Proceso de estandarización\n",
    "\n",
    "La estandarización consiste en transformar la distribución de los valores de los atributos para que estos adopten una media y una desviación típica determinadas. Esta transformación se realiza para cada atributo de manera independiente y se calcula restando a cada valor del atributo la media aritmética de los valores originales del atributo y, a continuación, se divide por la desviación típica de estos.  \n",
    "\n",
    "En esta ocasión, se aplica un escalado en estandarización (mediante la función StandarScaler de la librería SciKit Learn) que para este tipo de algoritmo concreto, va a darse mayor importancia a una característica o a otra según la escala de sus valores. Dicho de otra forma, para este algoritmo, los atributos cuyos valores son más elevados contribuyen más al cálculo de los vecinos que los atributos con valores más bajos. Por tanto, se hace necesario \"igualar\" las escalas de los atributos previamente a utilizar el algoritmo.\n",
    "\n",
    "[Ejemplo de escalado de datos](https://interactivechaos.com/es/manual/tutorial-de-machine-learning/escalado-de-datos)"
   ],
   "metadata": {
    "collapsed": false
   },
   "id": "b9ce77f7792e7b0a"
  },
  {
   "cell_type": "code",
   "outputs": [],
   "source": [
    "from sklearn.preprocessing import StandardScaler\n",
    "scaler = StandardScaler()\n",
    "scaler.fit(X_train)\n",
    "X_train = scaler.transform(X_train)\n",
    "X_test = scaler.transform(X_test)"
   ],
   "metadata": {
    "collapsed": false,
    "ExecuteTime": {
     "end_time": "2024-02-07T17:05:43.234476900Z",
     "start_time": "2024-02-07T17:05:43.230716200Z"
    }
   },
   "id": "5d6694d9419c2ba1",
   "execution_count": 27
  },
  {
   "cell_type": "markdown",
   "source": [
    "## Construcción y entrenamiento del modelo"
   ],
   "metadata": {
    "collapsed": false
   },
   "id": "8a3108068e1933cf"
  },
  {
   "cell_type": "code",
   "outputs": [
    {
     "data": {
      "text/plain": "KNeighborsClassifier(n_neighbors=8)",
      "text/html": "<style>#sk-container-id-3 {color: black;}#sk-container-id-3 pre{padding: 0;}#sk-container-id-3 div.sk-toggleable {background-color: white;}#sk-container-id-3 label.sk-toggleable__label {cursor: pointer;display: block;width: 100%;margin-bottom: 0;padding: 0.3em;box-sizing: border-box;text-align: center;}#sk-container-id-3 label.sk-toggleable__label-arrow:before {content: \"▸\";float: left;margin-right: 0.25em;color: #696969;}#sk-container-id-3 label.sk-toggleable__label-arrow:hover:before {color: black;}#sk-container-id-3 div.sk-estimator:hover label.sk-toggleable__label-arrow:before {color: black;}#sk-container-id-3 div.sk-toggleable__content {max-height: 0;max-width: 0;overflow: hidden;text-align: left;background-color: #f0f8ff;}#sk-container-id-3 div.sk-toggleable__content pre {margin: 0.2em;color: black;border-radius: 0.25em;background-color: #f0f8ff;}#sk-container-id-3 input.sk-toggleable__control:checked~div.sk-toggleable__content {max-height: 200px;max-width: 100%;overflow: auto;}#sk-container-id-3 input.sk-toggleable__control:checked~label.sk-toggleable__label-arrow:before {content: \"▾\";}#sk-container-id-3 div.sk-estimator input.sk-toggleable__control:checked~label.sk-toggleable__label {background-color: #d4ebff;}#sk-container-id-3 div.sk-label input.sk-toggleable__control:checked~label.sk-toggleable__label {background-color: #d4ebff;}#sk-container-id-3 input.sk-hidden--visually {border: 0;clip: rect(1px 1px 1px 1px);clip: rect(1px, 1px, 1px, 1px);height: 1px;margin: -1px;overflow: hidden;padding: 0;position: absolute;width: 1px;}#sk-container-id-3 div.sk-estimator {font-family: monospace;background-color: #f0f8ff;border: 1px dotted black;border-radius: 0.25em;box-sizing: border-box;margin-bottom: 0.5em;}#sk-container-id-3 div.sk-estimator:hover {background-color: #d4ebff;}#sk-container-id-3 div.sk-parallel-item::after {content: \"\";width: 100%;border-bottom: 1px solid gray;flex-grow: 1;}#sk-container-id-3 div.sk-label:hover label.sk-toggleable__label {background-color: #d4ebff;}#sk-container-id-3 div.sk-serial::before {content: \"\";position: absolute;border-left: 1px solid gray;box-sizing: border-box;top: 0;bottom: 0;left: 50%;z-index: 0;}#sk-container-id-3 div.sk-serial {display: flex;flex-direction: column;align-items: center;background-color: white;padding-right: 0.2em;padding-left: 0.2em;position: relative;}#sk-container-id-3 div.sk-item {position: relative;z-index: 1;}#sk-container-id-3 div.sk-parallel {display: flex;align-items: stretch;justify-content: center;background-color: white;position: relative;}#sk-container-id-3 div.sk-item::before, #sk-container-id-3 div.sk-parallel-item::before {content: \"\";position: absolute;border-left: 1px solid gray;box-sizing: border-box;top: 0;bottom: 0;left: 50%;z-index: -1;}#sk-container-id-3 div.sk-parallel-item {display: flex;flex-direction: column;z-index: 1;position: relative;background-color: white;}#sk-container-id-3 div.sk-parallel-item:first-child::after {align-self: flex-end;width: 50%;}#sk-container-id-3 div.sk-parallel-item:last-child::after {align-self: flex-start;width: 50%;}#sk-container-id-3 div.sk-parallel-item:only-child::after {width: 0;}#sk-container-id-3 div.sk-dashed-wrapped {border: 1px dashed gray;margin: 0 0.4em 0.5em 0.4em;box-sizing: border-box;padding-bottom: 0.4em;background-color: white;}#sk-container-id-3 div.sk-label label {font-family: monospace;font-weight: bold;display: inline-block;line-height: 1.2em;}#sk-container-id-3 div.sk-label-container {text-align: center;}#sk-container-id-3 div.sk-container {/* jupyter's `normalize.less` sets `[hidden] { display: none; }` but bootstrap.min.css set `[hidden] { display: none !important; }` so we also need the `!important` here to be able to override the default hidden behavior on the sphinx rendered scikit-learn.org. See: https://github.com/scikit-learn/scikit-learn/issues/21755 */display: inline-block !important;position: relative;}#sk-container-id-3 div.sk-text-repr-fallback {display: none;}</style><div id=\"sk-container-id-3\" class=\"sk-top-container\"><div class=\"sk-text-repr-fallback\"><pre>KNeighborsClassifier(n_neighbors=8)</pre><b>In a Jupyter environment, please rerun this cell to show the HTML representation or trust the notebook. <br />On GitHub, the HTML representation is unable to render, please try loading this page with nbviewer.org.</b></div><div class=\"sk-container\" hidden><div class=\"sk-item\"><div class=\"sk-estimator sk-toggleable\"><input class=\"sk-toggleable__control sk-hidden--visually\" id=\"sk-estimator-id-3\" type=\"checkbox\" checked><label for=\"sk-estimator-id-3\" class=\"sk-toggleable__label sk-toggleable__label-arrow\">KNeighborsClassifier</label><div class=\"sk-toggleable__content\"><pre>KNeighborsClassifier(n_neighbors=8)</pre></div></div></div></div></div>"
     },
     "execution_count": 28,
     "metadata": {},
     "output_type": "execute_result"
    }
   ],
   "source": [
    "from sklearn.neighbors import KNeighborsClassifier\n",
    "classifier = KNeighborsClassifier(n_neighbors=8) # Establecemos 8 como el número de vecinos a tomar\n",
    "classifier.fit(X_train, y_train)"
   ],
   "metadata": {
    "collapsed": false,
    "ExecuteTime": {
     "end_time": "2024-02-07T17:05:45.297144600Z",
     "start_time": "2024-02-07T17:05:45.286632700Z"
    }
   },
   "id": "b44c8bc37729fab9",
   "execution_count": 28
  },
  {
   "cell_type": "markdown",
   "source": [
    "## Predicción"
   ],
   "metadata": {
    "collapsed": false
   },
   "id": "ca25c0b243bde2a"
  },
  {
   "cell_type": "code",
   "outputs": [],
   "source": [
    "y_pred = classifier.predict(X_test)"
   ],
   "metadata": {
    "collapsed": false,
    "ExecuteTime": {
     "end_time": "2024-02-07T17:05:47.209406Z",
     "start_time": "2024-02-07T17:05:47.198970100Z"
    }
   },
   "id": "17d498d0e6760868",
   "execution_count": 29
  },
  {
   "cell_type": "markdown",
   "source": [
    "## Evaluación del modelo"
   ],
   "metadata": {
    "collapsed": false
   },
   "id": "466eb65a624295bf"
  },
  {
   "cell_type": "code",
   "outputs": [
    {
     "name": "stdout",
     "output_type": "stream",
     "text": [
      "MATRIZ DE CONFUSIÓN\n",
      "[[21  0  0]\n",
      " [ 0 13  1]\n",
      " [ 0  5 20]]\n"
     ]
    }
   ],
   "source": [
    "from sklearn.metrics import classification_report, confusion_matrix, accuracy_score\n",
    "print(\"MATRIZ DE CONFUSIÓN\")\n",
    "print(confusion_matrix(y_test, y_pred))\n"
   ],
   "metadata": {
    "collapsed": false,
    "ExecuteTime": {
     "end_time": "2024-02-07T17:05:48.953957Z",
     "start_time": "2024-02-07T17:05:48.946731900Z"
    }
   },
   "id": "1c095924708be5cc",
   "execution_count": 30
  },
  {
   "cell_type": "code",
   "outputs": [
    {
     "name": "stdout",
     "output_type": "stream",
     "text": [
      "Accuracy:\n",
      "0.9\n"
     ]
    }
   ],
   "source": [
    "print(\"Accuracy:\")\n",
    "print(accuracy_score(y_test, y_pred))"
   ],
   "metadata": {
    "collapsed": false,
    "ExecuteTime": {
     "end_time": "2024-02-07T17:05:51.461418700Z",
     "start_time": "2024-02-07T17:05:51.457560900Z"
    }
   },
   "id": "667a8d41cdc4df03",
   "execution_count": 31
  },
  {
   "cell_type": "code",
   "outputs": [
    {
     "name": "stdout",
     "output_type": "stream",
     "text": [
      "Informe de métricas\n",
      "                 precision    recall  f1-score   support\n",
      "\n",
      "    Iris-setosa       1.00      1.00      1.00        21\n",
      "Iris-versicolor       0.72      0.93      0.81        14\n",
      " Iris-virginica       0.95      0.80      0.87        25\n",
      "\n",
      "       accuracy                           0.90        60\n",
      "      macro avg       0.89      0.91      0.89        60\n",
      "   weighted avg       0.92      0.90      0.90        60\n"
     ]
    }
   ],
   "source": [
    "print(\"Informe de métricas\")\n",
    "print(classification_report(y_test, y_pred))"
   ],
   "metadata": {
    "collapsed": false,
    "ExecuteTime": {
     "end_time": "2024-02-07T17:05:52.969427500Z",
     "start_time": "2024-02-07T17:05:52.952418900Z"
    }
   },
   "id": "ba4d86c22f857b8c",
   "execution_count": 32
  },
  {
   "cell_type": "code",
   "outputs": [],
   "source": [],
   "metadata": {
    "collapsed": false
   },
   "id": "9499b89a53dd1cbf"
  }
 ],
 "metadata": {
  "kernelspec": {
   "display_name": "Python 3",
   "language": "python",
   "name": "python3"
  },
  "language_info": {
   "codemirror_mode": {
    "name": "ipython",
    "version": 2
   },
   "file_extension": ".py",
   "mimetype": "text/x-python",
   "name": "python",
   "nbconvert_exporter": "python",
   "pygments_lexer": "ipython2",
   "version": "2.7.6"
  }
 },
 "nbformat": 4,
 "nbformat_minor": 5
}
