{
 "cells": [
  {
   "cell_type": "markdown",
   "metadata": {},
   "source": [
    "## <a id='toc1_1_'></a>[Regresión Logística - Predicción de Supervivencia en el Titanic](#toc0_)"
   ]
  },
  {
   "cell_type": "markdown",
   "metadata": {},
   "source": [
    "A continuación, se va a predecir la diabetes con un clasificador de regresión logística.\n",
    "\n",
    "En primer lugar, cargamos el conjunto de datos necesario sobre la diabetes de los indios Pima (pima-indians-diabetes.csv) utilizando la función de lectura CSV de pandas.    \n",
    "\n",
    "El conjunto de datos está accesible desde **datasets/pima-indians-diabetes.csv**.   "
   ]
  },
  {
   "cell_type": "markdown",
   "metadata": {},
   "source": [
    "**Tabla de contenidos**<a id='toc0_'></a>    \n",
    "- [Regresión Logística - Predicción de diabetes](#toc1_1_)    \n",
    "  - [Carga de datos](#toc1_2_)    \n",
    "  - [Seleccionar característica](#toc1_3_)    \n",
    "  - [Dividir los datos](#toc1_4_)    \n",
    "  - [Construcción, entrenamiento y predicción de modelos](#toc1_5_)    \n",
    "  - [Evaluación del modelo mediante la matriz de confusión](#toc1_6_)    \n",
    "  - [Visualización de la matriz de confusión mediante un mapa de calor (HEATMAP)](#toc1_7_)    \n",
    "  - [Métricas de evaluación de la matriz de confusión](#toc1_8_)    \n",
    "  - [Curva ROC](#toc1_9_)    \n",
    "  - [Notas finales sobre el algoritmo de Regresión Logística.](#toc1_10_)    \n",
    "\n",
    "<!-- vscode-jupyter-toc-config\n",
    "\tnumbering=false\n",
    "\tanchor=true\n",
    "\tflat=false\n",
    "\tminLevel=1\n",
    "\tmaxLevel=6\n",
    "\t/vscode-jupyter-toc-config -->\n",
    "<!-- THIS CELL WILL BE REPLACED ON TOC UPDATE. DO NOT WRITE YOUR TEXT IN THIS CELL -->"
   ]
  },
  {
   "cell_type": "markdown",
   "metadata": {},
   "source": [
    "## <a id='toc1_2_'></a>[Carga de datos](#toc0_)"
   ]
  },
  {
   "cell_type": "code",
   "execution_count": null,
   "metadata": {},
   "outputs": [
    {
     "name": "stdout",
     "output_type": "stream",
     "text": [
      "  Embarked  Embarked_C  Embarked_Q  Embarked_S\n",
      "0        S       False       False        True\n",
      "1        C        True       False       False\n",
      "2        S       False       False        True\n",
      "3        S       False       False        True\n",
      "4        S       False       False        True\n"
     ]
    }
   ],
   "source": [
    "#importamos pandas\n",
    "import pandas as pd\n",
    "import warnings\n",
    "warnings.filterwarnings(\"ignore\") #ignoramos los warnings\n",
    "\n",
    "\n",
    "#cargamos  dataset\n",
    "col_names_titanic_train = ['PassengerId','Survived','Pclass','Name','Sex','Age','SibSp','Parch','Ticket','Fare','Cabin','Embarked']\n",
    "titanic_train = pd.read_csv(\"datasets/titanic_train.csv\", header=0, names=col_names_titanic_train)\n",
    "\n",
    "\n",
    "#cargamos  dataset\n",
    "col_names_titanic_test = ['PassengerId','Pclass','Name','Sex','Age','SibSp','Parch','Ticket','Fare','Cabin','Embarked']\n",
    "titanic_test = pd.read_csv(\"datasets/titanic_test.csv\", header=0, names=col_names_titanic_test)\n",
    "#cargamos  dataset\n",
    "col_names_titanic_survived = ['PassengerId','Survived']\n",
    "titanic_survived = pd.read_csv(\"datasets/gender_submission.csv\", header=0, names=col_names_titanic_survived)\n",
    "\n",
    "\n",
    "\n",
    "\n",
    "\n",
    "\n",
    "titanic_test_with_surived = pd.merge(titanic_survived, titanic_test, on='PassengerId', how='inner')\n",
    "\n",
    "\n",
    "titanic_train_with_test_with_survived = pd.concat([titanic_train,titanic_test_with_surived])\n",
    "titanic_ds=titanic_train_with_test_with_survived.dropna(subset=['Pclass', 'Sex', 'Age', 'SibSp','Parch','Fare','Embarked'])\n",
    "titanic_ds.to_csv('titanic_cleaned.csv', index=False)\n",
    "\n",
    "#sustituimos male a 0 y female a 1 \n",
    "titanic_ds['Sex'] = titanic_ds['Sex'].replace({'male': 0, 'female': 1})\n",
    "\n",
    "titanic_ds['Age'] = titanic_ds['Age'].replace({'NaN': titanic_ds['Age'].median()})\n",
    "\n",
    "\n",
    "titanic_ds['FamilySize'] = titanic_ds['SibSp'] + titanic_ds['Parch']\n",
    "titanic_ds['NameComplexity'] = titanic_ds['Name'].count\n",
    "\n",
    "embarked_encoded = pd.get_dummies(titanic_ds['Embarked'], prefix='Embarked')\n",
    "titanic_ds = pd.concat([titanic_ds, embarked_encoded], axis=1)\n",
    "print(titanic_ds[['Embarked', 'Embarked_C', 'Embarked_Q', 'Embarked_S','NameComplexity']].head())\n",
    "pri\n",
    "\n",
    "\n",
    "\n",
    "\n"
   ]
  },
  {
   "cell_type": "code",
   "execution_count": 390,
   "metadata": {},
   "outputs": [
    {
     "name": "stdout",
     "output_type": "stream",
     "text": [
      "<class 'pandas.core.frame.DataFrame'>\n",
      "Index: 1043 entries, 0 to 415\n",
      "Data columns (total 16 columns):\n",
      " #   Column       Non-Null Count  Dtype  \n",
      "---  ------       --------------  -----  \n",
      " 0   PassengerId  1043 non-null   int64  \n",
      " 1   Survived     1043 non-null   int64  \n",
      " 2   Pclass       1043 non-null   int64  \n",
      " 3   Name         1043 non-null   object \n",
      " 4   Sex          1043 non-null   int64  \n",
      " 5   Age          1043 non-null   float64\n",
      " 6   SibSp        1043 non-null   int64  \n",
      " 7   Parch        1043 non-null   int64  \n",
      " 8   Ticket       1043 non-null   object \n",
      " 9   Fare         1043 non-null   float64\n",
      " 10  Cabin        270 non-null    object \n",
      " 11  Embarked     1043 non-null   object \n",
      " 12  FamilySize   1043 non-null   int64  \n",
      " 13  Embarked_C   1043 non-null   bool   \n",
      " 14  Embarked_Q   1043 non-null   bool   \n",
      " 15  Embarked_S   1043 non-null   bool   \n",
      "dtypes: bool(3), float64(2), int64(7), object(4)\n",
      "memory usage: 117.1+ KB\n"
     ]
    }
   ],
   "source": [
    "titanic_ds.info()"
   ]
  },
  {
   "cell_type": "code",
   "execution_count": 391,
   "metadata": {},
   "outputs": [
    {
     "data": {
      "text/plain": [
       "PassengerId      int64\n",
       "Survived         int64\n",
       "Pclass           int64\n",
       "Name            object\n",
       "Sex              int64\n",
       "Age            float64\n",
       "SibSp            int64\n",
       "Parch            int64\n",
       "Ticket          object\n",
       "Fare           float64\n",
       "Cabin           object\n",
       "Embarked        object\n",
       "FamilySize       int64\n",
       "Embarked_C        bool\n",
       "Embarked_Q        bool\n",
       "Embarked_S        bool\n",
       "dtype: object"
      ]
     },
     "execution_count": 391,
     "metadata": {},
     "output_type": "execute_result"
    }
   ],
   "source": [
    "titanic_ds.dtypes"
   ]
  },
  {
   "cell_type": "code",
   "execution_count": 392,
   "metadata": {},
   "outputs": [
    {
     "data": {
      "text/html": [
       "<div>\n",
       "<style scoped>\n",
       "    .dataframe tbody tr th:only-of-type {\n",
       "        vertical-align: middle;\n",
       "    }\n",
       "\n",
       "    .dataframe tbody tr th {\n",
       "        vertical-align: top;\n",
       "    }\n",
       "\n",
       "    .dataframe thead th {\n",
       "        text-align: right;\n",
       "    }\n",
       "</style>\n",
       "<table border=\"1\" class=\"dataframe\">\n",
       "  <thead>\n",
       "    <tr style=\"text-align: right;\">\n",
       "      <th></th>\n",
       "      <th>PassengerId</th>\n",
       "      <th>Survived</th>\n",
       "      <th>Pclass</th>\n",
       "      <th>Name</th>\n",
       "      <th>Sex</th>\n",
       "      <th>Age</th>\n",
       "      <th>SibSp</th>\n",
       "      <th>Parch</th>\n",
       "      <th>Ticket</th>\n",
       "      <th>Fare</th>\n",
       "      <th>Cabin</th>\n",
       "      <th>Embarked</th>\n",
       "      <th>FamilySize</th>\n",
       "      <th>Embarked_C</th>\n",
       "      <th>Embarked_Q</th>\n",
       "      <th>Embarked_S</th>\n",
       "    </tr>\n",
       "  </thead>\n",
       "  <tbody>\n",
       "    <tr>\n",
       "      <th>0</th>\n",
       "      <td>1</td>\n",
       "      <td>0</td>\n",
       "      <td>3</td>\n",
       "      <td>Braund, Mr. Owen Harris</td>\n",
       "      <td>0</td>\n",
       "      <td>22.0</td>\n",
       "      <td>1</td>\n",
       "      <td>0</td>\n",
       "      <td>A/5 21171</td>\n",
       "      <td>7.2500</td>\n",
       "      <td>NaN</td>\n",
       "      <td>S</td>\n",
       "      <td>1</td>\n",
       "      <td>False</td>\n",
       "      <td>False</td>\n",
       "      <td>True</td>\n",
       "    </tr>\n",
       "    <tr>\n",
       "      <th>1</th>\n",
       "      <td>2</td>\n",
       "      <td>1</td>\n",
       "      <td>1</td>\n",
       "      <td>Cumings, Mrs. John Bradley (Florence Briggs Th...</td>\n",
       "      <td>1</td>\n",
       "      <td>38.0</td>\n",
       "      <td>1</td>\n",
       "      <td>0</td>\n",
       "      <td>PC 17599</td>\n",
       "      <td>71.2833</td>\n",
       "      <td>C85</td>\n",
       "      <td>C</td>\n",
       "      <td>1</td>\n",
       "      <td>True</td>\n",
       "      <td>False</td>\n",
       "      <td>False</td>\n",
       "    </tr>\n",
       "    <tr>\n",
       "      <th>2</th>\n",
       "      <td>3</td>\n",
       "      <td>1</td>\n",
       "      <td>3</td>\n",
       "      <td>Heikkinen, Miss. Laina</td>\n",
       "      <td>1</td>\n",
       "      <td>26.0</td>\n",
       "      <td>0</td>\n",
       "      <td>0</td>\n",
       "      <td>STON/O2. 3101282</td>\n",
       "      <td>7.9250</td>\n",
       "      <td>NaN</td>\n",
       "      <td>S</td>\n",
       "      <td>0</td>\n",
       "      <td>False</td>\n",
       "      <td>False</td>\n",
       "      <td>True</td>\n",
       "    </tr>\n",
       "    <tr>\n",
       "      <th>3</th>\n",
       "      <td>4</td>\n",
       "      <td>1</td>\n",
       "      <td>1</td>\n",
       "      <td>Futrelle, Mrs. Jacques Heath (Lily May Peel)</td>\n",
       "      <td>1</td>\n",
       "      <td>35.0</td>\n",
       "      <td>1</td>\n",
       "      <td>0</td>\n",
       "      <td>113803</td>\n",
       "      <td>53.1000</td>\n",
       "      <td>C123</td>\n",
       "      <td>S</td>\n",
       "      <td>1</td>\n",
       "      <td>False</td>\n",
       "      <td>False</td>\n",
       "      <td>True</td>\n",
       "    </tr>\n",
       "    <tr>\n",
       "      <th>4</th>\n",
       "      <td>5</td>\n",
       "      <td>0</td>\n",
       "      <td>3</td>\n",
       "      <td>Allen, Mr. William Henry</td>\n",
       "      <td>0</td>\n",
       "      <td>35.0</td>\n",
       "      <td>0</td>\n",
       "      <td>0</td>\n",
       "      <td>373450</td>\n",
       "      <td>8.0500</td>\n",
       "      <td>NaN</td>\n",
       "      <td>S</td>\n",
       "      <td>0</td>\n",
       "      <td>False</td>\n",
       "      <td>False</td>\n",
       "      <td>True</td>\n",
       "    </tr>\n",
       "  </tbody>\n",
       "</table>\n",
       "</div>"
      ],
      "text/plain": [
       "   PassengerId  Survived  Pclass  \\\n",
       "0            1         0       3   \n",
       "1            2         1       1   \n",
       "2            3         1       3   \n",
       "3            4         1       1   \n",
       "4            5         0       3   \n",
       "\n",
       "                                                Name  Sex   Age  SibSp  Parch  \\\n",
       "0                            Braund, Mr. Owen Harris    0  22.0      1      0   \n",
       "1  Cumings, Mrs. John Bradley (Florence Briggs Th...    1  38.0      1      0   \n",
       "2                             Heikkinen, Miss. Laina    1  26.0      0      0   \n",
       "3       Futrelle, Mrs. Jacques Heath (Lily May Peel)    1  35.0      1      0   \n",
       "4                           Allen, Mr. William Henry    0  35.0      0      0   \n",
       "\n",
       "             Ticket     Fare Cabin Embarked  FamilySize  Embarked_C  \\\n",
       "0         A/5 21171   7.2500   NaN        S           1       False   \n",
       "1          PC 17599  71.2833   C85        C           1        True   \n",
       "2  STON/O2. 3101282   7.9250   NaN        S           0       False   \n",
       "3            113803  53.1000  C123        S           1       False   \n",
       "4            373450   8.0500   NaN        S           0       False   \n",
       "\n",
       "   Embarked_Q  Embarked_S  \n",
       "0       False        True  \n",
       "1       False       False  \n",
       "2       False        True  \n",
       "3       False        True  \n",
       "4       False        True  "
      ]
     },
     "execution_count": 392,
     "metadata": {},
     "output_type": "execute_result"
    }
   ],
   "source": [
    "titanic_ds.head()"
   ]
  },
  {
   "cell_type": "markdown",
   "metadata": {},
   "source": [
    "## <a id='toc1_3_'></a>[Seleccionar característica](#toc0_)\n",
    "\n",
    "Dividimos las columnas dadas en dos tipos de variables: dependiente (o variable objetivo) e independiente (o variables características)."
   ]
  },
  {
   "cell_type": "code",
   "execution_count": 393,
   "metadata": {},
   "outputs": [],
   "source": [
    "#split dataset (características y variable objetivo)\n",
    "feature_cols = ['Pclass', 'Sex','Age', 'FamilySize','Fare','Embarked_C','Embarked_Q','Embarked_S']\n",
    "X = titanic_ds[feature_cols] # características\n",
    "y = titanic_ds.Survived # objetivo\n",
    "\n"
   ]
  },
  {
   "cell_type": "markdown",
   "metadata": {},
   "source": [
    "## <a id='toc1_4_'></a>[Dividir los datos](#toc0_)\n",
    "\n",
    "Dividimos el dataset en un conjunto de entrenamiento y un conjunto de prueba."
   ]
  },
  {
   "cell_type": "code",
   "execution_count": 394,
   "metadata": {},
   "outputs": [],
   "source": [
    "# split en train y test 75% - 25%\n",
    "from sklearn.model_selection import train_test_split\n",
    "\n",
    "X_train, X_test, y_train, y_test = train_test_split(X, y, test_size=0.25, random_state=16)"
   ]
  },
  {
   "cell_type": "markdown",
   "metadata": {},
   "source": [
    "## <a id='toc1_5_'></a>[Construcción, entrenamiento y predicción de modelos](#toc0_)\n",
    "\n",
    "1. Importamos el módulo Regresión logística.\n",
    "2. Se crea un objeto clasificador de Regresión logística utilizando la función LogisticRegression() (con random_state fijado para repetir experimentos sin variación ).   \n",
    "3. A continuación, entrenamos el modelo con fit() y finalmente, se lleva a cabo la predicción en el conjunto de prueba mediante predict(). "
   ]
  },
  {
   "cell_type": "code",
   "execution_count": 395,
   "metadata": {},
   "outputs": [],
   "source": [
    "# importamos el modelo\n",
    "from sklearn.linear_model import LogisticRegression\n",
    "\n",
    "# instanciamos el modelo (usando los parámetros por defecto)\n",
    "logreg = LogisticRegression(random_state=16)\n",
    "\n",
    "# entrenamos el modelo\n",
    "logreg.fit(X_train, y_train)\n",
    "\n",
    "# hacemos predicciones sobre el conjunto de test\n",
    "y_pred = logreg.predict(X_test)"
   ]
  },
  {
   "cell_type": "markdown",
   "metadata": {},
   "source": [
    "## <a id='toc1_6_'></a>[Evaluación del modelo mediante la matriz de confusión](#toc0_)\n",
    "\n",
    "Una matriz de confusión es una tabla que se utiliza para evaluar el rendimiento de un modelo de clasificación.       \n",
    "La información de una matriz de confusión es el número de predicciones correctas e incorrectas sumadas por clases."
   ]
  },
  {
   "cell_type": "code",
   "execution_count": 396,
   "metadata": {},
   "outputs": [
    {
     "data": {
      "text/plain": [
       "array([[141,  17],\n",
       "       [ 22,  81]])"
      ]
     },
     "execution_count": 396,
     "metadata": {},
     "output_type": "execute_result"
    }
   ],
   "source": [
    "# importamos la clase de métricas\n",
    "from sklearn import metrics\n",
    "\n",
    "cnf_matrix = metrics.confusion_matrix(y_test, y_pred)\n",
    "cnf_matrix"
   ]
  },
  {
   "cell_type": "markdown",
   "metadata": {},
   "source": [
    "Aquí puedes ver la matriz de confusión en forma de array.   \n",
    "La dimensión de esta matriz es 2*2 porque este modelo es de clasificación binaria.   \n",
    "Tienes dos clases 0 y 1.   \n",
    "Los valores diagonales representan predicciones exactas, mientras que los elementos no diagonales son predicciones inexactas.   \n",
    "En la salida, 115 y 42 son predicciones reales, y 25 y 10 son predicciones incorrectas. (Ojo, puede variar en función de la versión de la librería por temas de precisión)"
   ]
  },
  {
   "cell_type": "markdown",
   "metadata": {},
   "source": [
    "## <a id='toc1_7_'></a>[Visualización de la matriz de confusión mediante un mapa de calor (HEATMAP)](#toc0_)\n",
    "\n",
    "Vamos a visualizar los resultados del modelo en forma de matriz de confusión utilizando matplotlib y seaborn.\n",
    "\n",
    "A continuación se visualiza la matriz de confusión utilizando Heatmap."
   ]
  },
  {
   "cell_type": "code",
   "execution_count": 397,
   "metadata": {},
   "outputs": [
    {
     "data": {
      "text/plain": [
       "Text(0.5, 427.9555555555555, 'Predicted label')"
      ]
     },
     "execution_count": 397,
     "metadata": {},
     "output_type": "execute_result"
    },
    {
     "data": {
      "image/png": "[encoded data removed]",
      "text/plain": [
       "<Figure size 640x480 with 2 Axes>"
      ]
     },
     "metadata": {},
     "output_type": "display_data"
    }
   ],
   "source": [
    "\n",
    "# importamos los módulos necesarios\n",
    "import numpy as np\n",
    "import matplotlib.pyplot as plt\n",
    "import seaborn as sns\n",
    "\n",
    "class_names=[0,1] # nombre de las clases\n",
    "fig, ax = plt.subplots()\n",
    "tick_marks = np.arange(len(class_names))\n",
    "plt.xticks(tick_marks, class_names)\n",
    "plt.yticks(tick_marks, class_names)\n",
    "\n",
    "# creamos el heatmap\n",
    "sns.heatmap(pd.DataFrame(cnf_matrix), annot=True, cmap=\"YlGnBu\" ,fmt='g')\n",
    "ax.xaxis.set_label_position(\"top\")\n",
    "plt.tight_layout()\n",
    "plt.title('Confusion matrix', y=1.1)\n",
    "plt.ylabel('Actual label')\n",
    "plt.xlabel('Predicted label')\n"
   ]
  },
  {
   "cell_type": "markdown",
   "metadata": {},
   "source": [
    "## <a id='toc1_8_'></a>[Métricas de evaluación de la matriz de confusión](#toc0_)\n",
    "\n",
    "Vamos a evaluar el modelo utilizando *classification_report* para ver la exactitud, la precisión y la recuperación/sensibilidad/recall."
   ]
  },
  {
   "cell_type": "code",
   "execution_count": 398,
   "metadata": {},
   "outputs": [
    {
     "name": "stdout",
     "output_type": "stream",
     "text": [
      "              precision    recall  f1-score   support\n",
      "\n",
      "      Muerto       0.87      0.89      0.88       158\n",
      "        Vivo       0.83      0.79      0.81       103\n",
      "\n",
      "    accuracy                           0.85       261\n",
      "   macro avg       0.85      0.84      0.84       261\n",
      "weighted avg       0.85      0.85      0.85       261\n",
      "\n"
     ]
    }
   ],
   "source": [
    "from sklearn.metrics import classification_report\n",
    "target_names = ['Muerto', 'Vivo']\n",
    "print(classification_report(y_test, y_pred, target_names=target_names))"
   ]
  },
  {
   "cell_type": "markdown",
   "metadata": {},
   "source": [
    "Se ha obtenido un índice de clasificación del 82 %, lo que se considera una buena precisión.\n",
    "\n",
    "- Precisión: La precisión consiste en ser preciso, es decir, lo exacto que es el modelo. En otras palabras, se puede decir, cuando un modelo hace una predicción, con qué frecuencia acierta. En este caso de predicción, cuando el modelo de Regresión Logística predijo que los pacientes iban a padecer diabetes, ese 81 % de las veces, mientras que para el caso de aquellos que no la padecerán acierta el 82 % de las ocasiones.\n",
    "\n",
    "- Sensibilidad/Recall: Si hay pacientes que tienen diabetes en el conjunto de pruebas y tu modelo de regresión logística puede identificarla el 63 % de las veces.\n",
    "- Exactitud/Accuracy: 82 %. Recordamos que es la proporción de todas las clasificaciones correctas, ya sean positivas o negativas."
   ]
  },
  {
   "cell_type": "markdown",
   "metadata": {},
   "source": [
    "## <a id='toc1_9_'></a>[Curva ROC](#toc0_)\n",
    "\n",
    "Introducimos una nueva métrica, denominada curva ROC (característica operativa del receptor), que es un gráfico que muestra la tasa de verdaderos positivos frente a la tasa de falsos positivos.    \n",
    "Nos ofrece el compromiso entre sensibilidad y especificidad.\n",
    "\n",
    "***La especificidad («Specificity»)***   \n",
    "También conocida como la Tasa de Verdaderos Negativos, (“true negative rate”) o TN. Se trata de los casos negativos que el algoritmo ha clasificado correctamente.  Expresa cuan bien puede el modelo detectar esa clase.\n",
    "Se calcula:  **VN/(VN+FP)**"
   ]
  },
  {
   "cell_type": "code",
   "execution_count": 399,
   "metadata": {},
   "outputs": [
    {
     "name": "stdout",
     "output_type": "stream",
     "text": [
      "Especificidad:  89.24050632911393 %\n"
     ]
    }
   ],
   "source": [
    "from sklearn.metrics import recall_score\n",
    "# specificity\n",
    "# specificity = TN / (TN + FP) \n",
    "# La especificidad se calcula como el recall de la clase 0\n",
    "\n",
    "especificidad = recall_score(y_test, y_pred, pos_label=0) * 100\n",
    "print(\"Especificidad: \", especificidad, \"%\")"
   ]
  },
  {
   "cell_type": "code",
   "execution_count": 400,
   "metadata": {},
   "outputs": [
    {
     "data": {
      "image/png": "[encoded data removed]",
      "text/plain": [
       "<Figure size 640x480 with 1 Axes>"
      ]
     },
     "metadata": {},
     "output_type": "display_data"
    }
   ],
   "source": [
    "# Curva ROC\n",
    "y_pred_proba = logreg.predict_proba(X_test)[::,1]\n",
    "fpr, tpr, _ = metrics.roc_curve(y_test,  y_pred_proba)\n",
    "auc = metrics.roc_auc_score(y_test, y_pred_proba)\n",
    "plt.plot(fpr,tpr,label=\"data 1, auc=\"+str(auc))\n",
    "plt.legend(loc=4)\n",
    "plt.show()"
   ]
  },
  {
   "cell_type": "markdown",
   "metadata": {},
   "source": [
    "La puntuación AUC del modelo es de 0,88.   \n",
    "La puntuación AUC 1 representa un clasificador perfecto, y desde 0,5 hacia 0 representa un clasificador que no funciona adecuadamente."
   ]
  },
  {
   "cell_type": "markdown",
   "metadata": {},
   "source": [
    "## <a id='toc1_10_'></a>[Notas finales sobre el algoritmo de Regresión Logística.](#toc0_)\n",
    "\n",
    "- Ventajas\n",
    "  - No requiere una gran potencia de cálculo-\n",
    "  - Es fácil de aplicar\n",
    "  - Es fácilmente interpretable \n",
    "  - No requiere escalado de funciones. \n",
    "\n",
    "- Desventajas\n",
    " - La regresión logística no es capaz de manejar un gran número de características/variables categóricas. \n",
    " - Es vulnerable al sobreajuste. \n",
    " - No se puede resolver un problema no lineal con la regresión logística. \n",
    " - La regresión logística no funcionará bien con variables independientes que no estén correlacionadas con la variable objetivo y sean muy similares o estén correlacionadas entre sí."
   ]
  }
 ],
 "metadata": {
  "kernelspec": {
   "display_name": ".venv",
   "language": "python",
   "name": "python3"
  },
  "language_info": {
   "codemirror_mode": {
    "name": "ipython",
    "version": 3
   },
   "file_extension": ".py",
   "mimetype": "text/x-python",
   "name": "python",
   "nbconvert_exporter": "python",
   "pygments_lexer": "ipython3",
   "version": "3.13.1"
  }
 },
 "nbformat": 4,
 "nbformat_minor": 2
}
