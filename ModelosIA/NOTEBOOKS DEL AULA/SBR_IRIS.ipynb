{
 "cells": [
  {
   "cell_type": "markdown",
   "metadata": {},
   "source": [
    "# SISTEMA BASADO EN REGLAS  \n",
    "## Clasificación dataset IRIS"
   ]
  },
  {
   "cell_type": "markdown",
   "metadata": {},
   "source": [
    "Importamos librerías"
   ]
  },
  {
   "cell_type": "code",
   "execution_count": 1,
   "metadata": {},
   "outputs": [],
   "source": [
    "import pandas as pd\n",
    "import matplotlib.pyplot as plt\n",
    "from sklearn.datasets import load_iris\n",
    "\n",
    "# Ocultamos los warnings de las librerías\n",
    "import warnings\n",
    "warnings.filterwarnings(\"ignore\")\n",
    "# ------------------------------------------------\n"
   ]
  },
  {
   "cell_type": "markdown",
   "metadata": {},
   "source": [
    "Carga del dataset Iris  \n",
    "- Se utiliza el dataset Iris de sklearn, convirtiéndolo a un DataFrame para facilitar su manipulación.\n",
    "- Se añaden columnas con los nombres de las especies para facilitar la interpretación."
   ]
  },
  {
   "cell_type": "code",
   "execution_count": 2,
   "metadata": {},
   "outputs": [],
   "source": [
    "iris = load_iris()\n",
    "data = pd.DataFrame(iris.data, columns=iris.feature_names)\n",
    "data['species'] = iris.target"
   ]
  },
  {
   "cell_type": "code",
   "execution_count": 3,
   "metadata": {},
   "outputs": [],
   "source": [
    "# Función para asignar la especie\n",
    "def asignar_especie(row):\n",
    "    return iris.target_names[int(row['species'])]\n",
    "\n",
    "# Aplicar la función de asignar especie\n",
    "data['species_name'] = data.apply(asignar_especie, axis=1)"
   ]
  },
  {
   "cell_type": "markdown",
   "metadata": {},
   "source": [
    "Forma y cantidad de elementos por clase (especie)"
   ]
  },
  {
   "cell_type": "code",
   "execution_count": 4,
   "metadata": {},
   "outputs": [
    {
     "data": {
      "text/html": [
       "<div>\n",
       "<style scoped>\n",
       "    .dataframe tbody tr th:only-of-type {\n",
       "        vertical-align: middle;\n",
       "    }\n",
       "\n",
       "    .dataframe tbody tr th {\n",
       "        vertical-align: top;\n",
       "    }\n",
       "\n",
       "    .dataframe thead th {\n",
       "        text-align: right;\n",
       "    }\n",
       "</style>\n",
       "<table border=\"1\" class=\"dataframe\">\n",
       "  <thead>\n",
       "    <tr style=\"text-align: right;\">\n",
       "      <th></th>\n",
       "      <th>sepal length (cm)</th>\n",
       "      <th>sepal width (cm)</th>\n",
       "      <th>petal length (cm)</th>\n",
       "      <th>petal width (cm)</th>\n",
       "      <th>species</th>\n",
       "      <th>species_name</th>\n",
       "    </tr>\n",
       "  </thead>\n",
       "  <tbody>\n",
       "    <tr>\n",
       "      <th>0</th>\n",
       "      <td>5.1</td>\n",
       "      <td>3.5</td>\n",
       "      <td>1.4</td>\n",
       "      <td>0.2</td>\n",
       "      <td>0</td>\n",
       "      <td>setosa</td>\n",
       "    </tr>\n",
       "    <tr>\n",
       "      <th>1</th>\n",
       "      <td>4.9</td>\n",
       "      <td>3.0</td>\n",
       "      <td>1.4</td>\n",
       "      <td>0.2</td>\n",
       "      <td>0</td>\n",
       "      <td>setosa</td>\n",
       "    </tr>\n",
       "    <tr>\n",
       "      <th>2</th>\n",
       "      <td>4.7</td>\n",
       "      <td>3.2</td>\n",
       "      <td>1.3</td>\n",
       "      <td>0.2</td>\n",
       "      <td>0</td>\n",
       "      <td>setosa</td>\n",
       "    </tr>\n",
       "    <tr>\n",
       "      <th>3</th>\n",
       "      <td>4.6</td>\n",
       "      <td>3.1</td>\n",
       "      <td>1.5</td>\n",
       "      <td>0.2</td>\n",
       "      <td>0</td>\n",
       "      <td>setosa</td>\n",
       "    </tr>\n",
       "    <tr>\n",
       "      <th>4</th>\n",
       "      <td>5.0</td>\n",
       "      <td>3.6</td>\n",
       "      <td>1.4</td>\n",
       "      <td>0.2</td>\n",
       "      <td>0</td>\n",
       "      <td>setosa</td>\n",
       "    </tr>\n",
       "  </tbody>\n",
       "</table>\n",
       "</div>"
      ],
      "text/plain": [
       "   sepal length (cm)  sepal width (cm)  petal length (cm)  petal width (cm)  \\\n",
       "0                5.1               3.5                1.4               0.2   \n",
       "1                4.9               3.0                1.4               0.2   \n",
       "2                4.7               3.2                1.3               0.2   \n",
       "3                4.6               3.1                1.5               0.2   \n",
       "4                5.0               3.6                1.4               0.2   \n",
       "\n",
       "   species species_name  \n",
       "0        0       setosa  \n",
       "1        0       setosa  \n",
       "2        0       setosa  \n",
       "3        0       setosa  \n",
       "4        0       setosa  "
      ]
     },
     "execution_count": 4,
     "metadata": {},
     "output_type": "execute_result"
    }
   ],
   "source": [
    "data.head()"
   ]
  },
  {
   "cell_type": "code",
   "execution_count": 5,
   "metadata": {},
   "outputs": [
    {
     "name": "stdout",
     "output_type": "stream",
     "text": [
      "Numero de registros (filas): 150\n"
     ]
    }
   ],
   "source": [
    "print(\"Numero de registros (filas):\", data.shape[0])\n"
   ]
  },
  {
   "cell_type": "code",
   "execution_count": 6,
   "metadata": {},
   "outputs": [
    {
     "name": "stdout",
     "output_type": "stream",
     "text": [
      "Número de individuos de cada especie\n",
      "species_name\n",
      "setosa        50\n",
      "versicolor    50\n",
      "virginica     50\n",
      "Name: count, dtype: int64\n"
     ]
    }
   ],
   "source": [
    "print(\"Número de individuos de cada especie\")\n",
    "print(data['species_name'].value_counts())"
   ]
  },
  {
   "cell_type": "markdown",
   "metadata": {},
   "source": [
    "**Definición de las reglas de clasificación**  \n",
    "\n",
    "Las reglas dividen el dataset primero por la longitud del pétalo y luego por el ancho.\n",
    "Cada nodo final se asocia a un conjunto específico de muestras que cumplen las condiciones de las reglas."
   ]
  },
  {
   "cell_type": "code",
   "execution_count": 7,
   "metadata": {},
   "outputs": [],
   "source": [
    "def clasificar_basado_en_reglas(longitud_petalo, ancho_petalo):\n",
    "    if longitud_petalo > 1.9:\n",
    "        if ancho_petalo > 1.7:\n",
    "            return \"Nodo 4 (Virginica)\"\n",
    "        else:\n",
    "            if longitud_petalo > 4.8:\n",
    "                return \"Nodo 3 (Virginica)\"\n",
    "            else:\n",
    "                return \"Nodo 2 (Versicolor)\"\n",
    "    \n",
    "    else:\n",
    "        return \"Nodo 1 (Setosa)\"        "
   ]
  },
  {
   "cell_type": "markdown",
   "metadata": {},
   "source": [
    "**Aplicación de las reglas**  \n",
    "\n",
    "Se evalúan las reglas para cada muestra del dataset, y el nodo correspondiente se asigna en una nueva columna (nodo).   \n",
    "\n",
    "- Función *asignar_nodo*:\n",
    "\n",
    "    Esta función toma una fila como entrada (es decir, un objeto Series) y aplica la función **clasificar_basado_en_reglas** utilizando las columnas relevantes de esa fila.\n",
    "\n",
    "- Uso de apply:\n",
    "\n",
    "    El comando **apply** utiliza la función *asignar_nodo* sobre cada nodo (mapeo)."
   ]
  },
  {
   "cell_type": "code",
   "execution_count": 8,
   "metadata": {},
   "outputs": [],
   "source": [
    "# Función para mapear las reglas\n",
    "def asignar_nodo(row):\n",
    "    return clasificar_basado_en_reglas(row['petal length (cm)'], row['petal width (cm)'])\n",
    "\n",
    "# Aplicar la función de mapeo\n",
    "data['nodo'] = data.apply(asignar_nodo, axis=1)"
   ]
  },
  {
   "cell_type": "markdown",
   "metadata": {},
   "source": [
    "**Visualización gráfica de los nodos finales**  \n",
    "\n",
    "- Se crea un gráfico de barras para cada nodo final.\n",
    "- En cada gráfico se muestra un histograma con las cantidades de las especies clasificadas en dicho nodo."
   ]
  },
  {
   "cell_type": "code",
   "execution_count": 9,
   "metadata": {},
   "outputs": [],
   "source": [
    "nodos_finales = data['nodo'].unique()"
   ]
  },
  {
   "cell_type": "code",
   "execution_count": 10,
   "metadata": {},
   "outputs": [
    {
     "data": {
      "image/png": "[encoded data removed]",
      "text/plain": [
       "<Figure size 1600x500 with 4 Axes>"
      ]
     },
     "metadata": {},
     "output_type": "display_data"
    }
   ],
   "source": [
    "fig, axes = plt.subplots(1, len(nodos_finales), figsize=(16, 5), constrained_layout=True)\n",
    "\n",
    "for ax, nodo in zip(axes, nodos_finales):\n",
    "    nodo_data = data[data['nodo'] == nodo]\n",
    "    species_counts = nodo_data['species_name'].value_counts()\n",
    "    # Crear las barras\n",
    "    bars = ax.bar(species_counts.index, species_counts.values)\n",
    "    \n",
    "    # Añadir las cantidades encima de las barras\n",
    "    for bar in bars:\n",
    "        height = bar.get_height()\n",
    "        ax.text(\n",
    "            bar.get_x() + bar.get_width() / 2,  # Posición horizontal (centro de la barra)\n",
    "            height,  # Posición vertical (altura de la barra)\n",
    "            str(height),  # Texto a mostrar (la cantidad)\n",
    "            ha='center', va='bottom', fontsize=10  # Alineación y tamaño de fuente\n",
    "        )\n",
    "    \n",
    "    # Configurar títulos y etiquetas\n",
    "    ax.bar(species_counts.index, species_counts.values)\n",
    "    ax.set_title(f\"{nodo}\\n({len(nodo_data)} muestras)\")\n",
    "    ax.set_xlabel(\"Especie\")\n",
    "    ax.set_ylabel(\"Cantidad\")\n",
    "    ax.set_xticklabels(species_counts.index, rotation=45)\n",
    "\n",
    "plt.suptitle(\"Sistema Basado en Reglas - Clasificación del Dataset Iris\", fontsize=16)\n",
    "plt.show()"
   ]
  }
 ],
 "metadata": {
  "kernelspec": {
   "display_name": ".venv",
   "language": "python",
   "name": "python3"
  },
  "language_info": {
   "codemirror_mode": {
    "name": "ipython",
    "version": 3
   },
   "file_extension": ".py",
   "mimetype": "text/x-python",
   "name": "python",
   "nbconvert_exporter": "python",
   "pygments_lexer": "ipython3",
   "version": "3.13.1"
  }
 },
 "nbformat": 4,
 "nbformat_minor": 2
}
