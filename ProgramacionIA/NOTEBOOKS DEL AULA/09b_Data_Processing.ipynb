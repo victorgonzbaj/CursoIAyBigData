{
 "cells": [
  {
   "cell_type": "markdown",
   "metadata": {
    "slideshow": {
     "slide_type": "slide"
    }
   },
   "source": [
    "## Procesamiento de Datos\n",
    "\n",
    "![logo](img/logo.jpeg)\n"
   ]
  },
  {
   "cell_type": "markdown",
   "metadata": {
    "slideshow": {
     "slide_type": "slide"
    }
   },
   "source": [
    "# Sumario\n",
    "- Trabajo con strings\n",
    "- Combinando datasets\n",
    "- Limpieza de datos\n",
    " - map, filter, reduce\n",
    " - filling missing values\n",
    " - valores duplicados\n",
    " - categorizacion de datos"
   ]
  },
  {
   "cell_type": "code",
   "execution_count": 1,
   "metadata": {
    "ExecuteTime": {
     "end_time": "2024-03-12T15:44:50.496319Z",
     "start_time": "2024-03-12T15:44:50.492519Z"
    }
   },
   "outputs": [],
   "source": [
    "import numpy as np\n",
    "import pandas as pd"
   ]
  },
  {
   "cell_type": "markdown",
   "metadata": {},
   "source": [
    "### Descargar y descomprimir   "
   ]
  },
  {
   "cell_type": "code",
   "execution_count": 2,
   "metadata": {
    "ExecuteTime": {
     "end_time": "2024-03-12T15:45:04.138075Z",
     "start_time": "2024-03-12T15:45:01.259448Z"
    },
    "slideshow": {
     "slide_type": "subslide"
    }
   },
   "outputs": [
    {
     "name": "stdout",
     "output_type": "stream",
     "text": [
      "Descomprimiendo ficheros...\n",
      "Hecho!\n"
     ]
    }
   ],
   "source": [
    "import zipfile as zp # para descomprimir archivos zip\n",
    "import urllib.request # para descargar de URL\n",
    "import os\n",
    "\n",
    "# descargar MovieLens dataset\n",
    "url = 'http://files.grouplens.org/datasets/movielens/ml-1m.zip'  \n",
    "local_zip = os.path.join(\"res\", \"ml-1m.zip\")\n",
    "urllib.request.urlretrieve(url, local_zip)\n",
    "# descomprimiendo archivo zip\n",
    "with zp.ZipFile(local_zip, 'r') as zipp: \n",
    "    print('Descomprimiendo ficheros...') \n",
    "    zipp.extractall(os.path.join(\"res\")) # destino\n",
    "    print('Hecho!') "
   ]
  },
  {
   "cell_type": "markdown",
   "metadata": {
    "slideshow": {
     "slide_type": "slide"
    }
   },
   "source": [
    "### Combinar varios datasets \n",
    "- En base a un elemento en común (índice)\n",
    "- MovieLens 'UserId'"
   ]
  },
  {
   "cell_type": "code",
   "execution_count": 3,
   "metadata": {
    "ExecuteTime": {
     "end_time": "2024-03-12T15:46:57.397616Z",
     "start_time": "2024-03-12T15:46:52.235722Z"
    },
    "slideshow": {
     "slide_type": "fragment"
    }
   },
   "outputs": [],
   "source": [
    "root_path = os.path.join(\"res\", \"ml-1m\" )\n",
    "\n",
    "ratings_dataset = pd.read_csv(os.path.join(root_path, \"ratings.dat\"), sep='::',\n",
    "                                index_col=0, engine='python',\n",
    "                                names=['UserID','MovieID','Rating','Timestamp'])\n",
    "\n",
    "users_dataset = pd.read_csv(os.path.join(root_path, \"users.dat\"),sep='::',\n",
    "                              index_col=0, engine='python',\n",
    "                              names=['UserID','Gender','Age','Occupation','Zip-code'])"
   ]
  },
  {
   "cell_type": "code",
   "execution_count": 4,
   "metadata": {
    "ExecuteTime": {
     "end_time": "2024-03-12T15:47:00.846840Z",
     "start_time": "2024-03-12T15:47:00.836449Z"
    },
    "slideshow": {
     "slide_type": "subslide"
    }
   },
   "outputs": [
    {
     "data": {
      "application/vnd.microsoft.datawrangler.viewer.v0+json": {
       "columns": [
        {
         "name": "UserID",
         "rawType": "int64",
         "type": "integer"
        },
        {
         "name": "Gender",
         "rawType": "object",
         "type": "string"
        },
        {
         "name": "Age",
         "rawType": "int64",
         "type": "integer"
        },
        {
         "name": "Occupation",
         "rawType": "int64",
         "type": "integer"
        },
        {
         "name": "Zip-code",
         "rawType": "object",
         "type": "string"
        }
       ],
       "conversionMethod": "pd.DataFrame",
       "ref": "7e6afa5b-2c92-4cf3-877a-92a06a518295",
       "rows": [
        [
         "1374",
         "M",
         "50",
         "1",
         "91403"
        ],
        [
         "5113",
         "M",
         "25",
         "0",
         "55408"
        ],
        [
         "580",
         "M",
         "1",
         "10",
         "08534"
        ],
        [
         "2349",
         "M",
         "25",
         "8",
         "50309"
        ],
        [
         "2914",
         "M",
         "25",
         "4",
         "92614"
        ]
       ],
       "shape": {
        "columns": 4,
        "rows": 5
       }
      },
      "text/html": [
       "<div>\n",
       "<style scoped>\n",
       "    .dataframe tbody tr th:only-of-type {\n",
       "        vertical-align: middle;\n",
       "    }\n",
       "\n",
       "    .dataframe tbody tr th {\n",
       "        vertical-align: top;\n",
       "    }\n",
       "\n",
       "    .dataframe thead th {\n",
       "        text-align: right;\n",
       "    }\n",
       "</style>\n",
       "<table border=\"1\" class=\"dataframe\">\n",
       "  <thead>\n",
       "    <tr style=\"text-align: right;\">\n",
       "      <th></th>\n",
       "      <th>Gender</th>\n",
       "      <th>Age</th>\n",
       "      <th>Occupation</th>\n",
       "      <th>Zip-code</th>\n",
       "    </tr>\n",
       "    <tr>\n",
       "      <th>UserID</th>\n",
       "      <th></th>\n",
       "      <th></th>\n",
       "      <th></th>\n",
       "      <th></th>\n",
       "    </tr>\n",
       "  </thead>\n",
       "  <tbody>\n",
       "    <tr>\n",
       "      <th>1374</th>\n",
       "      <td>M</td>\n",
       "      <td>50</td>\n",
       "      <td>1</td>\n",
       "      <td>91403</td>\n",
       "    </tr>\n",
       "    <tr>\n",
       "      <th>5113</th>\n",
       "      <td>M</td>\n",
       "      <td>25</td>\n",
       "      <td>0</td>\n",
       "      <td>55408</td>\n",
       "    </tr>\n",
       "    <tr>\n",
       "      <th>580</th>\n",
       "      <td>M</td>\n",
       "      <td>1</td>\n",
       "      <td>10</td>\n",
       "      <td>08534</td>\n",
       "    </tr>\n",
       "    <tr>\n",
       "      <th>2349</th>\n",
       "      <td>M</td>\n",
       "      <td>25</td>\n",
       "      <td>8</td>\n",
       "      <td>50309</td>\n",
       "    </tr>\n",
       "    <tr>\n",
       "      <th>2914</th>\n",
       "      <td>M</td>\n",
       "      <td>25</td>\n",
       "      <td>4</td>\n",
       "      <td>92614</td>\n",
       "    </tr>\n",
       "  </tbody>\n",
       "</table>\n",
       "</div>"
      ],
      "text/plain": [
       "       Gender  Age  Occupation Zip-code\n",
       "UserID                                 \n",
       "1374        M   50           1    91403\n",
       "5113        M   25           0    55408\n",
       "580         M    1          10    08534\n",
       "2349        M   25           8    50309\n",
       "2914        M   25           4    92614"
      ]
     },
     "execution_count": 4,
     "metadata": {},
     "output_type": "execute_result"
    }
   ],
   "source": [
    "users_dataset.sample(5)"
   ]
  },
  {
   "cell_type": "code",
   "execution_count": 5,
   "metadata": {
    "ExecuteTime": {
     "end_time": "2024-03-12T15:47:03.957370Z",
     "start_time": "2024-03-12T15:47:03.925530Z"
    },
    "slideshow": {
     "slide_type": "fragment"
    }
   },
   "outputs": [
    {
     "data": {
      "application/vnd.microsoft.datawrangler.viewer.v0+json": {
       "columns": [
        {
         "name": "UserID",
         "rawType": "int64",
         "type": "integer"
        },
        {
         "name": "MovieID",
         "rawType": "int64",
         "type": "integer"
        },
        {
         "name": "Rating",
         "rawType": "int64",
         "type": "integer"
        },
        {
         "name": "Timestamp",
         "rawType": "int64",
         "type": "integer"
        }
       ],
       "conversionMethod": "pd.DataFrame",
       "ref": "4abb3dcb-174a-4dc2-9d24-19a4f2c44ffe",
       "rows": [
        [
         "5074",
         "1089",
         "5",
         "962429070"
        ],
        [
         "5952",
         "3516",
         "5",
         "957144632"
        ],
        [
         "2010",
         "2807",
         "1",
         "974677657"
        ],
        [
         "5684",
         "1527",
         "2",
         "958606497"
        ],
        [
         "566",
         "1370",
         "2",
         "976210630"
        ]
       ],
       "shape": {
        "columns": 3,
        "rows": 5
       }
      },
      "text/html": [
       "<div>\n",
       "<style scoped>\n",
       "    .dataframe tbody tr th:only-of-type {\n",
       "        vertical-align: middle;\n",
       "    }\n",
       "\n",
       "    .dataframe tbody tr th {\n",
       "        vertical-align: top;\n",
       "    }\n",
       "\n",
       "    .dataframe thead th {\n",
       "        text-align: right;\n",
       "    }\n",
       "</style>\n",
       "<table border=\"1\" class=\"dataframe\">\n",
       "  <thead>\n",
       "    <tr style=\"text-align: right;\">\n",
       "      <th></th>\n",
       "      <th>MovieID</th>\n",
       "      <th>Rating</th>\n",
       "      <th>Timestamp</th>\n",
       "    </tr>\n",
       "    <tr>\n",
       "      <th>UserID</th>\n",
       "      <th></th>\n",
       "      <th></th>\n",
       "      <th></th>\n",
       "    </tr>\n",
       "  </thead>\n",
       "  <tbody>\n",
       "    <tr>\n",
       "      <th>5074</th>\n",
       "      <td>1089</td>\n",
       "      <td>5</td>\n",
       "      <td>962429070</td>\n",
       "    </tr>\n",
       "    <tr>\n",
       "      <th>5952</th>\n",
       "      <td>3516</td>\n",
       "      <td>5</td>\n",
       "      <td>957144632</td>\n",
       "    </tr>\n",
       "    <tr>\n",
       "      <th>2010</th>\n",
       "      <td>2807</td>\n",
       "      <td>1</td>\n",
       "      <td>974677657</td>\n",
       "    </tr>\n",
       "    <tr>\n",
       "      <th>5684</th>\n",
       "      <td>1527</td>\n",
       "      <td>2</td>\n",
       "      <td>958606497</td>\n",
       "    </tr>\n",
       "    <tr>\n",
       "      <th>566</th>\n",
       "      <td>1370</td>\n",
       "      <td>2</td>\n",
       "      <td>976210630</td>\n",
       "    </tr>\n",
       "  </tbody>\n",
       "</table>\n",
       "</div>"
      ],
      "text/plain": [
       "        MovieID  Rating  Timestamp\n",
       "UserID                            \n",
       "5074       1089       5  962429070\n",
       "5952       3516       5  957144632\n",
       "2010       2807       1  974677657\n",
       "5684       1527       2  958606497\n",
       "566        1370       2  976210630"
      ]
     },
     "execution_count": 5,
     "metadata": {},
     "output_type": "execute_result"
    }
   ],
   "source": [
    "ratings_dataset.sample(5)"
   ]
  },
  {
   "cell_type": "markdown",
   "metadata": {
    "slideshow": {
     "slide_type": "subslide"
    }
   },
   "source": [
    "### Uniendo datasets con 'join' y 'merge'\n",
    "- merge() == join()\n",
    " - 'join' utiliza por defecto los índices para unir\n",
    "- Utilizando el parámetro 'on'\n",
    " - Si las columnas difieren, 'left_on' y 'right_on'\n",
    " \n",
    " https://i.stack.imgur.com/hMKKt.jpg"
   ]
  },
  {
   "cell_type": "markdown",
   "metadata": {},
   "source": [
    "Para combinar datasets podemos usar ```merge()```, estableciendo que columna se usará como 'enlace' con el parámetro **on** y especificando el tipo de 'join' con el parámetro **how**.   \n",
    "\n",
    "Ejemplo:"
   ]
  },
  {
   "cell_type": "code",
   "execution_count": null,
   "metadata": {
    "ExecuteTime": {
     "end_time": "2024-03-12T15:48:02.747309Z",
     "start_time": "2024-03-12T15:48:02.600228Z"
    },
    "slideshow": {
     "slide_type": "fragment"
    }
   },
   "outputs": [
    {
     "data": {
      "application/vnd.microsoft.datawrangler.viewer.v0+json": {
       "columns": [
        {
         "name": "UserID",
         "rawType": "int64",
         "type": "integer"
        },
        {
         "name": "Gender",
         "rawType": "object",
         "type": "string"
        },
        {
         "name": "Age",
         "rawType": "int64",
         "type": "integer"
        },
        {
         "name": "Occupation",
         "rawType": "int64",
         "type": "integer"
        },
        {
         "name": "Zip-code",
         "rawType": "object",
         "type": "string"
        },
        {
         "name": "MovieID",
         "rawType": "int64",
         "type": "integer"
        },
        {
         "name": "Rating",
         "rawType": "int64",
         "type": "integer"
        },
        {
         "name": "Timestamp",
         "rawType": "int64",
         "type": "integer"
        }
       ],
       "conversionMethod": "pd.DataFrame",
       "ref": "3d9c94f8-b78b-406f-914c-e57fee084b3b",
       "rows": [
        [
         "3450",
         "M",
         "25",
         "5",
         "78251",
         "6",
         "4",
         "967243982"
        ],
        [
         "4375",
         "F",
         "25",
         "5",
         "40241",
         "1888",
         "5",
         "965240490"
        ],
        [
         "2077",
         "M",
         "18",
         "0",
         "55112",
         "2881",
         "3",
         "974656743"
        ],
        [
         "3178",
         "F",
         "35",
         "5",
         "44313",
         "2533",
         "3",
         "968781963"
        ],
        [
         "1632",
         "M",
         "25",
         "16",
         "94120",
         "2716",
         "3",
         "974718087"
        ]
       ],
       "shape": {
        "columns": 7,
        "rows": 5
       }
      },
      "text/html": [
       "<div>\n",
       "<style scoped>\n",
       "    .dataframe tbody tr th:only-of-type {\n",
       "        vertical-align: middle;\n",
       "    }\n",
       "\n",
       "    .dataframe tbody tr th {\n",
       "        vertical-align: top;\n",
       "    }\n",
       "\n",
       "    .dataframe thead th {\n",
       "        text-align: right;\n",
       "    }\n",
       "</style>\n",
       "<table border=\"1\" class=\"dataframe\">\n",
       "  <thead>\n",
       "    <tr style=\"text-align: right;\">\n",
       "      <th></th>\n",
       "      <th>Gender</th>\n",
       "      <th>Age</th>\n",
       "      <th>Occupation</th>\n",
       "      <th>Zip-code</th>\n",
       "      <th>MovieID</th>\n",
       "      <th>Rating</th>\n",
       "      <th>Timestamp</th>\n",
       "    </tr>\n",
       "    <tr>\n",
       "      <th>UserID</th>\n",
       "      <th></th>\n",
       "      <th></th>\n",
       "      <th></th>\n",
       "      <th></th>\n",
       "      <th></th>\n",
       "      <th></th>\n",
       "      <th></th>\n",
       "    </tr>\n",
       "  </thead>\n",
       "  <tbody>\n",
       "    <tr>\n",
       "      <th>3450</th>\n",
       "      <td>M</td>\n",
       "      <td>25</td>\n",
       "      <td>5</td>\n",
       "      <td>78251</td>\n",
       "      <td>6</td>\n",
       "      <td>4</td>\n",
       "      <td>967243982</td>\n",
       "    </tr>\n",
       "    <tr>\n",
       "      <th>4375</th>\n",
       "      <td>F</td>\n",
       "      <td>25</td>\n",
       "      <td>5</td>\n",
       "      <td>40241</td>\n",
       "      <td>1888</td>\n",
       "      <td>5</td>\n",
       "      <td>965240490</td>\n",
       "    </tr>\n",
       "    <tr>\n",
       "      <th>2077</th>\n",
       "      <td>M</td>\n",
       "      <td>18</td>\n",
       "      <td>0</td>\n",
       "      <td>55112</td>\n",
       "      <td>2881</td>\n",
       "      <td>3</td>\n",
       "      <td>974656743</td>\n",
       "    </tr>\n",
       "    <tr>\n",
       "      <th>3178</th>\n",
       "      <td>F</td>\n",
       "      <td>35</td>\n",
       "      <td>5</td>\n",
       "      <td>44313</td>\n",
       "      <td>2533</td>\n",
       "      <td>3</td>\n",
       "      <td>968781963</td>\n",
       "    </tr>\n",
       "    <tr>\n",
       "      <th>1632</th>\n",
       "      <td>M</td>\n",
       "      <td>25</td>\n",
       "      <td>16</td>\n",
       "      <td>94120</td>\n",
       "      <td>2716</td>\n",
       "      <td>3</td>\n",
       "      <td>974718087</td>\n",
       "    </tr>\n",
       "  </tbody>\n",
       "</table>\n",
       "</div>"
      ],
      "text/plain": [
       "       Gender  Age  Occupation Zip-code  MovieID  Rating  Timestamp\n",
       "UserID                                                             \n",
       "3450        M   25           5    78251        6       4  967243982\n",
       "4375        F   25           5    40241     1888       5  965240490\n",
       "2077        M   18           0    55112     2881       3  974656743\n",
       "3178        F   35           5    44313     2533       3  968781963\n",
       "1632        M   25          16    94120     2716       3  974718087"
      ]
     },
     "metadata": {},
     "output_type": "display_data"
    },
    {
     "data": {
      "text/plain": [
       "1000209"
      ]
     },
     "execution_count": 6,
     "metadata": {},
     "output_type": "execute_result"
    }
   ],
   "source": [
    "# Combinando users y ratings, ¿Cómo?\n",
    "# Con merge(), especificamos el dataset con el que queremos combinar, y la columna que se usará como pivote, en este caso 'UserID'\n",
    "# También especificamos el tipo de combinación, en este caso 'inner', que solo incluirá los registros que tengan un valor en ambas tablas\n",
    "combined_dataset = users_dataset.merge(ratings_dataset, on='UserID', how='inner') \n",
    "display(combined_dataset.sample(5))\n",
    "len(combined_dataset)"
   ]
  },
  {
   "cell_type": "code",
   "execution_count": null,
   "metadata": {
    "ExecuteTime": {
     "end_time": "2024-03-12T15:50:31.893459Z",
     "start_time": "2024-03-12T15:50:31.860562Z"
    },
    "slideshow": {
     "slide_type": "subslide"
    }
   },
   "outputs": [
    {
     "data": {
      "application/vnd.microsoft.datawrangler.viewer.v0+json": {
       "columns": [
        {
         "name": "index",
         "rawType": "int64",
         "type": "integer"
        },
        {
         "name": "MovieID",
         "rawType": "int64",
         "type": "integer"
        },
        {
         "name": "Title",
         "rawType": "object",
         "type": "string"
        },
        {
         "name": "Genre",
         "rawType": "object",
         "type": "string"
        }
       ],
       "conversionMethod": "pd.DataFrame",
       "ref": "21b33789-2057-4cf1-ae70-9cf526480b25",
       "rows": [
        [
         "2887",
         "2956",
         "Someone to Watch Over Me (1987)",
         "Action|Crime|Thriller"
        ],
        [
         "2677",
         "2746",
         "Little Shop of Horrors (1986)",
         "Comedy|Horror|Musical"
        ],
        [
         "3844",
         "3914",
         "Broken Hearts Club, The (2000)",
         "Drama"
        ],
        [
         "3371",
         "3440",
         "Teenage Mutant Ninja Turtles III (1993)",
         "Action|Children's|Fantasy"
        ],
        [
         "240",
         "243",
         "Gordy (1995)",
         "Comedy"
        ]
       ],
       "shape": {
        "columns": 3,
        "rows": 5
       }
      },
      "text/html": [
       "<div>\n",
       "<style scoped>\n",
       "    .dataframe tbody tr th:only-of-type {\n",
       "        vertical-align: middle;\n",
       "    }\n",
       "\n",
       "    .dataframe tbody tr th {\n",
       "        vertical-align: top;\n",
       "    }\n",
       "\n",
       "    .dataframe thead th {\n",
       "        text-align: right;\n",
       "    }\n",
       "</style>\n",
       "<table border=\"1\" class=\"dataframe\">\n",
       "  <thead>\n",
       "    <tr style=\"text-align: right;\">\n",
       "      <th></th>\n",
       "      <th>MovieID</th>\n",
       "      <th>Title</th>\n",
       "      <th>Genre</th>\n",
       "    </tr>\n",
       "  </thead>\n",
       "  <tbody>\n",
       "    <tr>\n",
       "      <th>2887</th>\n",
       "      <td>2956</td>\n",
       "      <td>Someone to Watch Over Me (1987)</td>\n",
       "      <td>Action|Crime|Thriller</td>\n",
       "    </tr>\n",
       "    <tr>\n",
       "      <th>2677</th>\n",
       "      <td>2746</td>\n",
       "      <td>Little Shop of Horrors (1986)</td>\n",
       "      <td>Comedy|Horror|Musical</td>\n",
       "    </tr>\n",
       "    <tr>\n",
       "      <th>3844</th>\n",
       "      <td>3914</td>\n",
       "      <td>Broken Hearts Club, The (2000)</td>\n",
       "      <td>Drama</td>\n",
       "    </tr>\n",
       "    <tr>\n",
       "      <th>3371</th>\n",
       "      <td>3440</td>\n",
       "      <td>Teenage Mutant Ninja Turtles III (1993)</td>\n",
       "      <td>Action|Children's|Fantasy</td>\n",
       "    </tr>\n",
       "    <tr>\n",
       "      <th>240</th>\n",
       "      <td>243</td>\n",
       "      <td>Gordy (1995)</td>\n",
       "      <td>Comedy</td>\n",
       "    </tr>\n",
       "  </tbody>\n",
       "</table>\n",
       "</div>"
      ],
      "text/plain": [
       "      MovieID                                    Title  \\\n",
       "2887     2956          Someone to Watch Over Me (1987)   \n",
       "2677     2746            Little Shop of Horrors (1986)   \n",
       "3844     3914           Broken Hearts Club, The (2000)   \n",
       "3371     3440  Teenage Mutant Ninja Turtles III (1993)   \n",
       "240       243                             Gordy (1995)   \n",
       "\n",
       "                          Genre  \n",
       "2887      Action|Crime|Thriller  \n",
       "2677      Comedy|Horror|Musical  \n",
       "3844                      Drama  \n",
       "3371  Action|Children's|Fantasy  \n",
       "240                      Comedy  "
      ]
     },
     "execution_count": 7,
     "metadata": {},
     "output_type": "execute_result"
    }
   ],
   "source": [
    "# Visualizando el dataset de películas (movies)\n",
    "movies_dataset = pd.read_csv(os.path.join(root_path, \"movies.dat\"),sep='::',encoding='latin-1', engine='python',names=['MovieID','Title','Genre'])\n",
    "movies_dataset.sample(5)"
   ]
  },
  {
   "cell_type": "code",
   "execution_count": null,
   "metadata": {
    "ExecuteTime": {
     "end_time": "2024-03-12T15:50:38.885402Z",
     "start_time": "2024-03-12T15:50:38.572090Z"
    },
    "slideshow": {
     "slide_type": "fragment"
    }
   },
   "outputs": [
    {
     "data": {
      "application/vnd.microsoft.datawrangler.viewer.v0+json": {
       "columns": [
        {
         "name": "index",
         "rawType": "int64",
         "type": "integer"
        },
        {
         "name": "Gender",
         "rawType": "object",
         "type": "string"
        },
        {
         "name": "Age",
         "rawType": "int64",
         "type": "integer"
        },
        {
         "name": "Occupation",
         "rawType": "int64",
         "type": "integer"
        },
        {
         "name": "Zip-code",
         "rawType": "object",
         "type": "string"
        },
        {
         "name": "MovieID",
         "rawType": "int64",
         "type": "integer"
        },
        {
         "name": "Rating",
         "rawType": "int64",
         "type": "integer"
        },
        {
         "name": "Timestamp",
         "rawType": "int64",
         "type": "integer"
        },
        {
         "name": "Title",
         "rawType": "object",
         "type": "string"
        },
        {
         "name": "Genre",
         "rawType": "object",
         "type": "string"
        }
       ],
       "conversionMethod": "pd.DataFrame",
       "ref": "585f7bd8-2d4d-47d8-a754-cb90dece4743",
       "rows": [
        [
         "33529",
         "M",
         "25",
         "7",
         "11215",
         "3608",
         "4",
         "976832744",
         "Pee-wee's Big Adventure (1985)",
         "Comedy"
        ],
        [
         "898426",
         "F",
         "35",
         "17",
         "45014",
         "585",
         "4",
         "960050011",
         "Brady Bunch Movie, The (1995)",
         "Comedy"
        ],
        [
         "941916",
         "F",
         "18",
         "9",
         "94538",
         "2558",
         "3",
         "959399561",
         "Forces of Nature (1999)",
         "Comedy|Romance"
        ],
        [
         "227904",
         "F",
         "25",
         "7",
         "19806",
         "1268",
         "3",
         "976931032",
         "Pump Up the Volume (1990)",
         "Drama"
        ],
        [
         "293374",
         "M",
         "25",
         "0",
         "90638",
         "3206",
         "2",
         "974703071",
         "Against All Odds (1984)",
         "Romance"
        ]
       ],
       "shape": {
        "columns": 9,
        "rows": 5
       }
      },
      "text/html": [
       "<div>\n",
       "<style scoped>\n",
       "    .dataframe tbody tr th:only-of-type {\n",
       "        vertical-align: middle;\n",
       "    }\n",
       "\n",
       "    .dataframe tbody tr th {\n",
       "        vertical-align: top;\n",
       "    }\n",
       "\n",
       "    .dataframe thead th {\n",
       "        text-align: right;\n",
       "    }\n",
       "</style>\n",
       "<table border=\"1\" class=\"dataframe\">\n",
       "  <thead>\n",
       "    <tr style=\"text-align: right;\">\n",
       "      <th></th>\n",
       "      <th>Gender</th>\n",
       "      <th>Age</th>\n",
       "      <th>Occupation</th>\n",
       "      <th>Zip-code</th>\n",
       "      <th>MovieID</th>\n",
       "      <th>Rating</th>\n",
       "      <th>Timestamp</th>\n",
       "      <th>Title</th>\n",
       "      <th>Genre</th>\n",
       "    </tr>\n",
       "  </thead>\n",
       "  <tbody>\n",
       "    <tr>\n",
       "      <th>33529</th>\n",
       "      <td>M</td>\n",
       "      <td>25</td>\n",
       "      <td>7</td>\n",
       "      <td>11215</td>\n",
       "      <td>3608</td>\n",
       "      <td>4</td>\n",
       "      <td>976832744</td>\n",
       "      <td>Pee-wee's Big Adventure (1985)</td>\n",
       "      <td>Comedy</td>\n",
       "    </tr>\n",
       "    <tr>\n",
       "      <th>898426</th>\n",
       "      <td>F</td>\n",
       "      <td>35</td>\n",
       "      <td>17</td>\n",
       "      <td>45014</td>\n",
       "      <td>585</td>\n",
       "      <td>4</td>\n",
       "      <td>960050011</td>\n",
       "      <td>Brady Bunch Movie, The (1995)</td>\n",
       "      <td>Comedy</td>\n",
       "    </tr>\n",
       "    <tr>\n",
       "      <th>941916</th>\n",
       "      <td>F</td>\n",
       "      <td>18</td>\n",
       "      <td>9</td>\n",
       "      <td>94538</td>\n",
       "      <td>2558</td>\n",
       "      <td>3</td>\n",
       "      <td>959399561</td>\n",
       "      <td>Forces of Nature (1999)</td>\n",
       "      <td>Comedy|Romance</td>\n",
       "    </tr>\n",
       "    <tr>\n",
       "      <th>227904</th>\n",
       "      <td>F</td>\n",
       "      <td>25</td>\n",
       "      <td>7</td>\n",
       "      <td>19806</td>\n",
       "      <td>1268</td>\n",
       "      <td>3</td>\n",
       "      <td>976931032</td>\n",
       "      <td>Pump Up the Volume (1990)</td>\n",
       "      <td>Drama</td>\n",
       "    </tr>\n",
       "    <tr>\n",
       "      <th>293374</th>\n",
       "      <td>M</td>\n",
       "      <td>25</td>\n",
       "      <td>0</td>\n",
       "      <td>90638</td>\n",
       "      <td>3206</td>\n",
       "      <td>2</td>\n",
       "      <td>974703071</td>\n",
       "      <td>Against All Odds (1984)</td>\n",
       "      <td>Romance</td>\n",
       "    </tr>\n",
       "  </tbody>\n",
       "</table>\n",
       "</div>"
      ],
      "text/plain": [
       "       Gender  Age  Occupation Zip-code  MovieID  Rating  Timestamp  \\\n",
       "33529       M   25           7    11215     3608       4  976832744   \n",
       "898426      F   35          17    45014      585       4  960050011   \n",
       "941916      F   18           9    94538     2558       3  959399561   \n",
       "227904      F   25           7    19806     1268       3  976931032   \n",
       "293374      M   25           0    90638     3206       2  974703071   \n",
       "\n",
       "                                 Title           Genre  \n",
       "33529   Pee-wee's Big Adventure (1985)          Comedy  \n",
       "898426   Brady Bunch Movie, The (1995)          Comedy  \n",
       "941916         Forces of Nature (1999)  Comedy|Romance  \n",
       "227904       Pump Up the Volume (1990)           Drama  \n",
       "293374         Against All Odds (1984)         Romance  "
      ]
     },
     "execution_count": 8,
     "metadata": {},
     "output_type": "execute_result"
    }
   ],
   "source": [
    "# Combinando movies y el resto\n",
    "# Tomamos el combined_dataset y lo unimos con movies_dataset, usando 'MovieID' como pivote\n",
    "# También este caso, usamos 'inner' para que solo se incluyan los registros que tengan un valor en ambas tablas\n",
    "all_dataset = combined_dataset.merge(movies_dataset,on='MovieID', how='inner')\n",
    "all_dataset.sample(5)"
   ]
  },
  {
   "cell_type": "markdown",
   "metadata": {},
   "source": [
    "## Concatenación con PANDAS (```concat()```)\n",
    "https://pandas.pydata.org/pandas-docs/stable/reference/api/pandas.concat.html"
   ]
  },
  {
   "cell_type": "markdown",
   "metadata": {},
   "source": [
    "El método ```concat()``` de Pandas, es un método que nos permite concatenar objetos de Pandas (Series o DataFrames) a lo largo de un eje en particular.   \n",
    " \n",
    "A continuación veremos un pequeño ejemplo sobre como funciona este método y cómo podemos utilizarlo para concatenar información:"
   ]
  },
  {
   "cell_type": "code",
   "execution_count": 47,
   "metadata": {},
   "outputs": [
    {
     "name": "stdout",
     "output_type": "stream",
     "text": [
      "   Identificador     Nombre  Edad                Email    Telefono\n",
      "0              1      James    25      james@email.com  1234567890\n",
      "1              2       Emma    30       emma@email.com  0987654321\n",
      "2              3       Liam    22       liam@email.com  1230984567\n",
      "3              4     Olivia    24     olibia@email.com  1234567893\n",
      "4              5    William    32    william@email.com  1237897654\n",
      "5              6       Jane    28      janet@gmail.com         NaN\n",
      "6              7      Henry    35      henry@email.com         NaN\n",
      "7              8  Alexander    26  alexander@email.com         NaN\n",
      "8              9        Mia    27        mia@gmail.com         NaN\n",
      "9             10        Ava    40        ava@email.com         NaN\n"
     ]
    }
   ],
   "source": [
    "import pandas as pd\n",
    "\n",
    "cliente_uno = pd.DataFrame({\n",
    "    'Identificador': [1, 2, 3, 4, 5],\n",
    "    'Nombre': ['James', 'Emma', 'Liam', 'Olivia', 'William'],\n",
    "    'Edad': [25, 30, 22, 24, 32],\n",
    "    'Email': ['james@email.com', 'emma@email.com', 'liam@email.com', 'olibia@email.com', 'william@email.com'],\n",
    "    'Telefono': ['1234567890', '0987654321', '1230984567', '1234567893', '1237897654'],\n",
    "})\n",
    "\n",
    "clientes_dos = pd.DataFrame({\n",
    "    'Identificador': [6, 7, 8, 9, 10],\n",
    "    'Nombre': ['Jane', 'Henry', 'Alexander', 'Mia', 'Ava'],\n",
    "    'Edad': [28, 35, 26, 27, 40],\n",
    "    'Email': ['janet@gmail.com', 'henry@email.com', 'alexander@email.com', 'mia@gmail.com', 'ava@email.com'],\n",
    "})\n",
    "\n",
    "clientes_totales = pd.concat([cliente_uno, clientes_dos], ignore_index=True)\n",
    "print(clientes_totales)"
   ]
  },
  {
   "cell_type": "markdown",
   "metadata": {},
   "source": [
    "Este método permite concatenar dos objetos de Pandas a lo largo de cualquier eje, verticalmente u horizontalmente. En el anterior ejemplo se concatenan los dos Dataframes verticalmente y además se puede ver que al segundo Dataframe, en la columna Telefono, le coloca el valor de NaN. Esto sucede porque el primer DataFrame tiene valores en esta columna pero el segundo no."
   ]
  },
  {
   "cell_type": "markdown",
   "metadata": {},
   "source": [
    "### 1. Concatenando por FILAS (Verticalmente)"
   ]
  },
  {
   "cell_type": "markdown",
   "metadata": {},
   "source": [
    "En el siguiente ejemplo, concatenamos los dos Dataframes de usuarios utilizando el método ```concat()``` y le pasamos los dos Dataframes en una lista.    \n",
    "\n",
    "Esto creará un nuevo Dataframe con la información de todos los usuarios."
   ]
  },
  {
   "cell_type": "code",
   "execution_count": null,
   "metadata": {},
   "outputs": [
    {
     "name": "stdout",
     "output_type": "stream",
     "text": [
      "   User_id Username  Age\n",
      "0        1    Alice   25\n",
      "1        2      Bob   30\n",
      "2        3  Charlie   22\n",
      "3        4     Jane   24\n",
      "4        5   Thomas   34\n",
      "5        6     Axel   28\n",
      "6        7   Camilo   35\n",
      "7        8   Ariana   26\n"
     ]
    }
   ],
   "source": [
    "import pandas as pd\n",
    "\n",
    "users_us = pd.DataFrame({\n",
    "    'User_id': [1, 2, 3, 4, 5],\n",
    "    'Username': ['Alice', 'Bob', 'Charlie', 'Jane', 'Thomas'],\n",
    "    'Age': [25, 30, 22, 24, 34]\n",
    "})\n",
    "\n",
    "users_mx = pd.DataFrame({\n",
    "    'User_id': [6, 7, 8],\n",
    "    'Username': ['Axel', 'Camilo', 'Ariana'],\n",
    "    'Age': [28, 35, 26]\n",
    "})\n",
    "\n",
    "all_users = pd.concat([users_us, users_mx], ignore_index=True) # el parametro ignore_index=True, es para que los indices se reasignen de forma secuencial.  \n",
    "print(all_users)"
   ]
  },
  {
   "cell_type": "markdown",
   "metadata": {},
   "source": [
    "### 2. Concatenando por COLUMNAS (Horizontalmente)"
   ]
  },
  {
   "cell_type": "markdown",
   "metadata": {},
   "source": [
    "En el siguiente ejemplo tenemos tres diferentes Dataframes:   \n",
    "\n",
    "- el primero contiene varios países de América, \n",
    "- el segundo países de Europa y \n",
    "- el tercero países de Asia.    \n",
    "\n",
    "Para concatenar estos tres Dataframes horizontalmente, simplemente necesitamos usar el método ```concat()``` con dos parámetros:   \n",
    "\n",
    "- el primero son los tres Dataframes dentro de una lista y \n",
    "- el segundo parámetro es ```axis=1``` que le indica al método que tiene que hacer la concatenación horizontalmente."
   ]
  },
  {
   "cell_type": "code",
   "execution_count": null,
   "metadata": {},
   "outputs": [
    {
     "name": "stdout",
     "output_type": "stream",
     "text": [
      "  Country_code  Population Country_code  Population Country_code  Population\n",
      "0          USA         330          GER        83.0           CN        57.0\n",
      "1          CAN          29          FRA        67.0           IN        77.0\n",
      "2           MX          38          ITA        60.0           JP        63.0\n",
      "3          COL          67          NaN         NaN          NaN         NaN\n"
     ]
    }
   ],
   "source": [
    "import pandas as pd\n",
    "\n",
    "countries_america = pd.DataFrame({\n",
    "    'Country_code': ['USA', 'CAN', 'MX', \"COL\"],\n",
    "    'Population': [330, 29, 38, 67]\n",
    "})\n",
    "\n",
    "countries_europe = pd.DataFrame({\n",
    "    'Country_code': ['GER', 'FRA', 'ITA'],\n",
    "    'Population': [83, 67, 60]\n",
    "})\n",
    "\n",
    "countries_asia = pd.DataFrame({\n",
    "    'Country_code': ['CN', 'IN', 'JP'],\n",
    "    'Population': [57, 77, 63]\n",
    "})\n",
    "# concatenamos horizontalmente los dataframes\n",
    "all_countries = pd.concat([countries_america, countries_europe, countries_asia], axis=1)\n",
    "print(all_countries)"
   ]
  },
  {
   "cell_type": "markdown",
   "metadata": {},
   "source": [
    "### 3. Concatenar Dataframes con claves de nivel superior (MultiIndex)   \n",
    "\n",
    "En el ejemplo siguiente tenemos un conjunto de Dataframes similar al ejemplo anterior, pero en este caso queremos concatenarlos verticalmente y colocarle una clave a cada uno de ellos.    \n",
    "\n",
    "Para esto, simplemente debemos pasarle al método ```concat()``` la lista de Dataframes y además el parámetro ```keys``` con una lista que contine las claves para cada uno de los Dataframes."
   ]
  },
  {
   "cell_type": "code",
   "execution_count": 50,
   "metadata": {},
   "outputs": [
    {
     "name": "stdout",
     "output_type": "stream",
     "text": [
      "          Country_code  Population\n",
      "America 0          USA         330\n",
      "        1          CAN          29\n",
      "        2           MX          38\n",
      "        3          COL          67\n",
      "Europa  0          GER          83\n",
      "        1          FRA          67\n",
      "        2          ITA          60\n",
      "Asia    0           CN          57\n",
      "        1           IN          77\n",
      "        2           JP          63\n"
     ]
    }
   ],
   "source": [
    "import pandas as pd\n",
    "\n",
    "countries_america = pd.DataFrame({\n",
    "    'Country_code': ['USA', 'CAN', 'MX', \"COL\"],\n",
    "    'Population': [330, 29, 38, 67]\n",
    "})\n",
    "\n",
    "countries_europe = pd.DataFrame({\n",
    "    'Country_code': ['GER', 'FRA', 'ITA'],\n",
    "    'Population': [83, 67, 60]\n",
    "})\n",
    "\n",
    "countries_asia = pd.DataFrame({\n",
    "    'Country_code': ['CN', 'IN', 'JP'],\n",
    "    'Population': [57, 77, 63]\n",
    "})\n",
    "\n",
    "all_countries = pd.concat([countries_america, countries_europe, countries_asia], keys=['America', 'Europa', 'Asia'])\n",
    "print(all_countries)"
   ]
  },
  {
   "cell_type": "markdown",
   "metadata": {},
   "source": [
    "### 4. Concatenar Series a lo largo de las filas.   \n",
    "\n",
    "El método ```concat()``` también nos permite concatenar Series.    \n",
    "\n",
    "En el siguiente ejemplo disponemos de dos Series con el id de varios usuarios. Para concatenarlos simplemente necesitamos utilizar el método ```concat()``` y pasarle la lista de Series que queremos concatenar. También se puede hacer uso de los demás parámetros para modificar la concatenación según sea necesario."
   ]
  },
  {
   "cell_type": "code",
   "execution_count": 51,
   "metadata": {},
   "outputs": [
    {
     "name": "stdout",
     "output_type": "stream",
     "text": [
      "0     1\n",
      "1     2\n",
      "2     3\n",
      "3     4\n",
      "4     5\n",
      "5     6\n",
      "6     7\n",
      "7     8\n",
      "8     9\n",
      "9    10\n",
      "Name: User_id, dtype: int64\n"
     ]
    }
   ],
   "source": [
    "import pandas as pd\n",
    "\n",
    "user_ids_uno = pd.Series([1, 2, 3, 4, 5], name='User_id')\n",
    "user_ids_two = pd.Series([6, 7, 8, 9, 10], name='User_id')\n",
    "\n",
    "all_users = pd.concat([user_ids_uno, user_ids_two], ignore_index=True)\n",
    "\n",
    "print(all_users)"
   ]
  },
  {
   "cell_type": "markdown",
   "metadata": {
    "slideshow": {
     "slide_type": "subslide"
    }
   },
   "source": [
    "## Método ```pivot()``` de PANDAS   \n",
    "\n",
    "El método ```pivot()``` de la librería de Pandas nos permite reorganizar y transformar los datos de un DataFrame creando una nueva tabla con un formato diferente.     \n",
    "\n",
    "El método ```pivot()``` es un método de la librería de Pandas que nos permite transformar los datos de un DataFrame al reorganizar sus datos en función de las columnas existentes.    \n",
    "Permite reconfigurar los datos de manera que los valores en una columna se conviertan en nuevas columnas y se crucen con los valores de otra columna.    \n",
    "Esto es especialmente útil para crear tablas dinámicas y resúmenes de datos.\n",
    "\n",
    "El método ```pivot()``` se utiliza principalmente en situaciones en las que se desea cambiar la estructura de los datos para un análisis más conveniente.    \n",
    "Permite que los datos sean más legibles y accesibles al proporcionar una vista diferente de los mismos.    \n",
    "Este método retorna un nuevo DataFrame con los datos pivotados y no modifica el DataFrame original."
   ]
  },
  {
   "cell_type": "code",
   "execution_count": 59,
   "metadata": {},
   "outputs": [
    {
     "name": "stdout",
     "output_type": "stream",
     "text": [
      "Información original:\n",
      "        Fecha Producto  Venta\n",
      "0  2023-01-01  Samsung    100\n",
      "1  2023-01-01    Apple    150\n",
      "2  2023-01-02  Samsung    200\n",
      "3  2023-01-02    Apple    120\n",
      "\n",
      "Información pivoteada:\n",
      "Producto    Apple  Samsung\n",
      "Fecha                     \n",
      "2023-01-01    150      100\n",
      "2023-01-02    120      200\n"
     ]
    }
   ],
   "source": [
    "import pandas as pd\n",
    "\n",
    "products_df = pd.DataFrame({\n",
    "    'Fecha': ['2023-01-01', '2023-01-01', '2023-01-02', '2023-01-02'],\n",
    "    'Producto': ['Samsung', 'Apple', 'Samsung', 'Apple'],\n",
    "    'Venta': [100, 150, 200, 120]\n",
    "})\n",
    "\n",
    "print(\"Información original:\")\n",
    "print(products_df)\n",
    "\n",
    "pivot_df = products_df.pivot(index='Fecha', columns='Producto', values='Venta')\n",
    "print(\"\\nInformación pivoteada:\")\n",
    "print(pivot_df)"
   ]
  },
  {
   "cell_type": "markdown",
   "metadata": {},
   "source": [
    "### Parámetros del método ```pivot()```  \n",
    "\n",
    "El método ```pivot()``` recibe tres parámetros, siguiendo la estructura que se muestra a continuación:\n",
    "\n",
    "```data_frame.pivot(index, columns, values)```  \n",
    "\n",
    "- **index**: Este parámetro recibe como valor una columna o lista de columnas que se usan como índices en el nuevo DataFrame. Puede ser una cadena o una lista de cadenas. Si se omite, se usa el índice de DataFrame original.\n",
    "- **columns**: (required) Este parámetro recibe como valor la columna o lista de columnas que se usan como los nombre para las columnas en el nuevo DataFrame.\n",
    "- **values**: Este parámetro recibe como valor la columna o lista de columnas que se usan como los valores para el nuevo DataFrame. Si no se especifica, se utilizarán todas las columnas restantes y el resultado tendrá columnas indexadas jerárquicamente."
   ]
  },
  {
   "cell_type": "markdown",
   "metadata": {},
   "source": [
    "#### 1. Utilizar una sola columna para crear el dataframe.   \n",
    "\n",
    "En el siguiente ejemplo, se le pasa una sola columna como valor al parámetro ```index``` y al parámetro ```columns```:"
   ]
  },
  {
   "cell_type": "code",
   "execution_count": 60,
   "metadata": {},
   "outputs": [
    {
     "name": "stdout",
     "output_type": "stream",
     "text": [
      "  producto      pais   año  ventas\n",
      "0    Apple  Colombia  2016    1000\n",
      "1    Apple      Perú  2017     800\n",
      "2    Apple   Ecuador  2018     600\n",
      "3  Samsung  Colombia  2019    1200\n",
      "4  Samsung      Perú  2020     900\n",
      "5  Samsung   Ecuador  2021     700\n",
      "6    Linux  Colombia  2022    1100\n",
      "7    Linux      Perú  2023     850\n",
      "8    Linux   Ecuador  2024     650\n"
     ]
    }
   ],
   "source": [
    "import pandas as pd\n",
    "\n",
    "df = pd.DataFrame({\n",
    "    \"producto\": [\"Apple\", \"Apple\", \"Apple\", \"Samsung\", \"Samsung\", \"Samsung\", \"Linux\", \"Linux\", \"Linux\"],\n",
    "    \"pais\": [\"Colombia\", \"Perú\", \"Ecuador\", \"Colombia\", \"Perú\", \"Ecuador\", \"Colombia\", \"Perú\", \"Ecuador\"],\n",
    "    \"año\": [2016, 2017, 2018, 2019, 2020, 2021, 2022, 2023, 2024],\n",
    "    \"ventas\": [1000, 800, 600, 1200, 900, 700, 1100, 850, 650]\n",
    "})\n",
    "print(df)\n"
   ]
  },
  {
   "cell_type": "code",
   "execution_count": 61,
   "metadata": {},
   "outputs": [
    {
     "name": "stdout",
     "output_type": "stream",
     "text": [
      "producto   Apple   Linux Samsung\n",
      "año                             \n",
      "2016      1000.0     N/A     N/A\n",
      "2017       800.0     N/A     N/A\n",
      "2018       600.0     N/A     N/A\n",
      "2019         N/A     N/A  1200.0\n",
      "2020         N/A     N/A   900.0\n",
      "2021         N/A     N/A   700.0\n",
      "2022         N/A  1100.0     N/A\n",
      "2023         N/A   850.0     N/A\n",
      "2024         N/A   650.0     N/A\n"
     ]
    }
   ],
   "source": [
    "df_pivot = df.pivot(index=\"año\", columns=\"producto\", values=\"ventas\").fillna(\"N/A\")\n",
    "\n",
    "print(df_pivot)"
   ]
  },
  {
   "cell_type": "markdown",
   "metadata": {},
   "source": [
    "En el anterior ejemplo se hace uso del método ```pivot()``` para transformar un DataFrame de productos y se utilizan los valores de la columna año como índice, los valores de la columna producto para representar las columnas y los valor de la columna ventas para llenar los valores en el nuevo DataFrame.    \n",
    "Además se usa el método ```fillna()``` para reemplazar todos los valores NaN con el texto **N/A(No aplica)**.    \n",
    "\n",
    "En definitiva, se ha transformado el DataFrame para ver cuántas ventas ha tenido cada producto en cada año."
   ]
  },
  {
   "cell_type": "markdown",
   "metadata": {},
   "source": [
    "#### 2. Utilizar una lista de columnas para crear el dataframe   \n",
    "\n",
    "El método ```drop()``` también puede recibir una lista de columnas como valores para los parámetros.    \n",
    "\n",
    "El siguiente es un ejemplo sobre cómo puede ser útil en algunas ocasiones:"
   ]
  },
  {
   "cell_type": "code",
   "execution_count": 62,
   "metadata": {},
   "outputs": [
    {
     "name": "stdout",
     "output_type": "stream",
     "text": [
      "producto    Apple                 Samsung                   Linux         \\\n",
      "pais     Colombia   Perú Ecuador Colombia   Perú Ecuador Colombia   Perú   \n",
      "año                                                                        \n",
      "2016       1000.0    N/A     N/A      N/A    N/A     N/A      N/A    N/A   \n",
      "2017          N/A  800.0     N/A      N/A    N/A     N/A      N/A    N/A   \n",
      "2018          N/A    N/A   600.0      N/A    N/A     N/A      N/A    N/A   \n",
      "2019          N/A    N/A     N/A   1200.0    N/A     N/A      N/A    N/A   \n",
      "2020          N/A    N/A     N/A      N/A  900.0     N/A      N/A    N/A   \n",
      "2021          N/A    N/A     N/A      N/A    N/A   700.0      N/A    N/A   \n",
      "2022          N/A    N/A     N/A      N/A    N/A     N/A   1100.0    N/A   \n",
      "2023          N/A    N/A     N/A      N/A    N/A     N/A      N/A  850.0   \n",
      "2024          N/A    N/A     N/A      N/A    N/A     N/A      N/A    N/A   \n",
      "\n",
      "producto          \n",
      "pais     Ecuador  \n",
      "año               \n",
      "2016         N/A  \n",
      "2017         N/A  \n",
      "2018         N/A  \n",
      "2019         N/A  \n",
      "2020         N/A  \n",
      "2021         N/A  \n",
      "2022         N/A  \n",
      "2023         N/A  \n",
      "2024       650.0  \n"
     ]
    }
   ],
   "source": [
    "import pandas as pd\n",
    "\n",
    "df = pd.DataFrame({\n",
    "    \"producto\": [\"Apple\", \"Apple\", \"Apple\", \"Samsung\", \"Samsung\", \"Samsung\", \"Linux\", \"Linux\", \"Linux\"],\n",
    "    \"pais\": [\"Colombia\", \"Perú\", \"Ecuador\", \"Colombia\", \"Perú\", \"Ecuador\", \"Colombia\", \"Perú\", \"Ecuador\"],\n",
    "    \"año\": [2016, 2017, 2018, 2019, 2020, 2021, 2022, 2023, 2024],\n",
    "    \"ventas\": [1000, 800, 600, 1200, 900, 700, 1100, 850, 650]\n",
    "})\n",
    "\n",
    "df_pivot = df.pivot(index=\"año\", columns=[\"producto\", \"pais\"], values=\"ventas\").fillna(\"N/A\")\n",
    "\n",
    "print(df_pivot)"
   ]
  },
  {
   "cell_type": "markdown",
   "metadata": {},
   "source": [
    "Como se puede observar, se hace uso del método ```pivot()``` y se le pasa una lista como valor al parámetro ```columns```.    \n",
    "Esta lista contiene dos columnas (producto y pais) lo que significa que el método ```pivot()``` utilizará la columna producto y creará una columna con cada uno de sus valores.    \n",
    "Luego creará una subcolumna con los valores de la columna pais y agrega esta subcolumna a cada una de las columnas de Producto.    \n",
    "Por último hacemos uso del método ```fillna()``` para reemplazar todos los valores NaN por el texto N/A(No aplica).    \n",
    "\n",
    "\n",
    "Este ejemplo puede ser un poco confuso, pero utilizar una lista de columnas como valores para los parámetros puede ser muy útil en determinadas ocasiones."
   ]
  },
  {
   "cell_type": "markdown",
   "metadata": {},
   "source": [
    "## Método ```pivot_table()```   \n",
    "\n",
    "La principal función de ```pivot_table()``` son las agrupaciones de datos, a las que se les suelen aplicar funciones matemáticas como sumatorios, promedios, etc.    \n",
    "Si no indicamos en el parámetro ```aggfunc``` que opereción queremos hacer, por defecto, nos calculará la ***media*** de todas aquellas columnas que sean de tipo numérico."
   ]
  },
  {
   "cell_type": "markdown",
   "metadata": {},
   "source": [
    "Estructura del método:   \n",
    "\n",
    "```python\n",
    "pivot_table(<lista de valores>, index=<agregador primario>, columns=<agregador secundario>)\n",
    "```\n",
    "https://pandas.pydata.org/pandas-docs/stable/reference/api/pandas.pivot_table.html"
   ]
  },
  {
   "cell_type": "code",
   "execution_count": 58,
   "metadata": {
    "ExecuteTime": {
     "end_time": "2024-03-12T15:50:55.082211Z",
     "start_time": "2024-03-12T15:50:54.835819Z"
    },
    "slideshow": {
     "slide_type": "fragment"
    }
   },
   "outputs": [
    {
     "data": {
      "application/vnd.microsoft.datawrangler.viewer.v0+json": {
       "columns": [
        {
         "name": "Gender",
         "rawType": "object",
         "type": "string"
        },
        {
         "name": "('count', 1)",
         "rawType": "int64",
         "type": "integer"
        },
        {
         "name": "('count', 18)",
         "rawType": "int64",
         "type": "integer"
        },
        {
         "name": "('count', 25)",
         "rawType": "int64",
         "type": "integer"
        },
        {
         "name": "('count', 35)",
         "rawType": "int64",
         "type": "integer"
        },
        {
         "name": "('count', 45)",
         "rawType": "int64",
         "type": "integer"
        },
        {
         "name": "('count', 50)",
         "rawType": "int64",
         "type": "integer"
        },
        {
         "name": "('count', 56)",
         "rawType": "int64",
         "type": "integer"
        },
        {
         "name": "('mean', 1)",
         "rawType": "float64",
         "type": "float"
        },
        {
         "name": "('mean', 18)",
         "rawType": "float64",
         "type": "float"
        },
        {
         "name": "('mean', 25)",
         "rawType": "float64",
         "type": "float"
        },
        {
         "name": "('mean', 35)",
         "rawType": "float64",
         "type": "float"
        },
        {
         "name": "('mean', 45)",
         "rawType": "float64",
         "type": "float"
        },
        {
         "name": "('mean', 50)",
         "rawType": "float64",
         "type": "float"
        },
        {
         "name": "('mean', 56)",
         "rawType": "float64",
         "type": "float"
        }
       ],
       "conversionMethod": "pd.DataFrame",
       "ref": "140eb9f0-c4aa-480d-94b3-f67735d80176",
       "rows": [
        [
         "F",
         "8827",
         "45427",
         "91340",
         "49473",
         "24110",
         "18064",
         "9199",
         "3.616290925569276",
         "3.4531446056310124",
         "3.6067002408583315",
         "3.6596527398783176",
         "3.663044379925342",
         "3.7971102745792735",
         "3.915534297206218"
        ],
        [
         "M",
         "18384",
         "138109",
         "304216",
         "149530",
         "59523",
         "54426",
         "29581",
         "3.5174608355091386",
         "3.525476254262937",
         "3.52678031398743",
         "3.604433892864308",
         "3.627942140013104",
         "3.687098078124426",
         "3.720327237077854"
        ]
       ],
       "shape": {
        "columns": 14,
        "rows": 2
       }
      },
      "text/html": [
       "<div>\n",
       "<style scoped>\n",
       "    .dataframe tbody tr th:only-of-type {\n",
       "        vertical-align: middle;\n",
       "    }\n",
       "\n",
       "    .dataframe tbody tr th {\n",
       "        vertical-align: top;\n",
       "    }\n",
       "\n",
       "    .dataframe thead tr th {\n",
       "        text-align: left;\n",
       "    }\n",
       "\n",
       "    .dataframe thead tr:last-of-type th {\n",
       "        text-align: right;\n",
       "    }\n",
       "</style>\n",
       "<table border=\"1\" class=\"dataframe\">\n",
       "  <thead>\n",
       "    <tr>\n",
       "      <th></th>\n",
       "      <th colspan=\"7\" halign=\"left\">count</th>\n",
       "      <th colspan=\"7\" halign=\"left\">mean</th>\n",
       "    </tr>\n",
       "    <tr>\n",
       "      <th>Age</th>\n",
       "      <th>1</th>\n",
       "      <th>18</th>\n",
       "      <th>25</th>\n",
       "      <th>35</th>\n",
       "      <th>45</th>\n",
       "      <th>50</th>\n",
       "      <th>56</th>\n",
       "      <th>1</th>\n",
       "      <th>18</th>\n",
       "      <th>25</th>\n",
       "      <th>35</th>\n",
       "      <th>45</th>\n",
       "      <th>50</th>\n",
       "      <th>56</th>\n",
       "    </tr>\n",
       "    <tr>\n",
       "      <th>Gender</th>\n",
       "      <th></th>\n",
       "      <th></th>\n",
       "      <th></th>\n",
       "      <th></th>\n",
       "      <th></th>\n",
       "      <th></th>\n",
       "      <th></th>\n",
       "      <th></th>\n",
       "      <th></th>\n",
       "      <th></th>\n",
       "      <th></th>\n",
       "      <th></th>\n",
       "      <th></th>\n",
       "      <th></th>\n",
       "    </tr>\n",
       "  </thead>\n",
       "  <tbody>\n",
       "    <tr>\n",
       "      <th>F</th>\n",
       "      <td>8827</td>\n",
       "      <td>45427</td>\n",
       "      <td>91340</td>\n",
       "      <td>49473</td>\n",
       "      <td>24110</td>\n",
       "      <td>18064</td>\n",
       "      <td>9199</td>\n",
       "      <td>3.616291</td>\n",
       "      <td>3.453145</td>\n",
       "      <td>3.60670</td>\n",
       "      <td>3.659653</td>\n",
       "      <td>3.663044</td>\n",
       "      <td>3.797110</td>\n",
       "      <td>3.915534</td>\n",
       "    </tr>\n",
       "    <tr>\n",
       "      <th>M</th>\n",
       "      <td>18384</td>\n",
       "      <td>138109</td>\n",
       "      <td>304216</td>\n",
       "      <td>149530</td>\n",
       "      <td>59523</td>\n",
       "      <td>54426</td>\n",
       "      <td>29581</td>\n",
       "      <td>3.517461</td>\n",
       "      <td>3.525476</td>\n",
       "      <td>3.52678</td>\n",
       "      <td>3.604434</td>\n",
       "      <td>3.627942</td>\n",
       "      <td>3.687098</td>\n",
       "      <td>3.720327</td>\n",
       "    </tr>\n",
       "  </tbody>\n",
       "</table>\n",
       "</div>"
      ],
      "text/plain": [
       "        count                                                   mean  \\\n",
       "Age        1       18      25      35     45     50     56        1    \n",
       "Gender                                                                 \n",
       "F        8827   45427   91340   49473  24110  18064   9199  3.616291   \n",
       "M       18384  138109  304216  149530  59523  54426  29581  3.517461   \n",
       "\n",
       "                                                                   \n",
       "Age           18       25        35        45        50        56  \n",
       "Gender                                                             \n",
       "F       3.453145  3.60670  3.659653  3.663044  3.797110  3.915534  \n",
       "M       3.525476  3.52678  3.604434  3.627942  3.687098  3.720327  "
      ]
     },
     "execution_count": 58,
     "metadata": {},
     "output_type": "execute_result"
    }
   ],
   "source": [
    "# all_dataset.pivot_table('Rating', index='Gender', columns='Age')\n",
    "# all_dataset.pivot_table('Rating', index='Gender', columns='Age', aggfunc='count')\n",
    "all_dataset.pivot_table('Rating', index='Gender', columns='Age', aggfunc=['count', 'mean']) # cuenta por sexo y edad"
   ]
  },
  {
   "cell_type": "markdown",
   "metadata": {},
   "source": [
    "## Agrupaciones\n",
    "- agg -> funciones estadísticas de agregación\n",
    "- Series.unique() -> valores únicos\n",
    "- pd.value_counts -> ocurrencias"
   ]
  },
  {
   "cell_type": "markdown",
   "metadata": {
    "slideshow": {
     "slide_type": "slide"
    }
   },
   "source": [
    "## Manipulación de strings\n",
    "```python\n",
    "split(): separar en bloques en función de un carácter\n",
    "replace(): reemplazar un carácter por otro\n",
    "index(): encontrar la posición de un carácter\n",
    "```"
   ]
  },
  {
   "cell_type": "code",
   "execution_count": 10,
   "metadata": {
    "ExecuteTime": {
     "end_time": "2024-03-12T15:52:00.379883Z",
     "start_time": "2024-03-12T15:52:00.372645Z"
    },
    "slideshow": {
     "slide_type": "fragment"
    }
   },
   "outputs": [
    {
     "data": {
      "application/vnd.microsoft.datawrangler.viewer.v0+json": {
       "columns": [
        {
         "name": "index",
         "rawType": "int64",
         "type": "integer"
        },
        {
         "name": "MovieID",
         "rawType": "int64",
         "type": "integer"
        },
        {
         "name": "Title",
         "rawType": "object",
         "type": "string"
        },
        {
         "name": "Genre",
         "rawType": "object",
         "type": "string"
        }
       ],
       "conversionMethod": "pd.DataFrame",
       "ref": "df29cca9-9f3d-4792-9f2c-45a8a6c46618",
       "rows": [
        [
         "0",
         "1",
         "Toy Story (1995)",
         "Animation|Children's|Comedy"
        ],
        [
         "1",
         "2",
         "Jumanji (1995)",
         "Adventure|Children's|Fantasy"
        ],
        [
         "2",
         "3",
         "Grumpier Old Men (1995)",
         "Comedy|Romance"
        ]
       ],
       "shape": {
        "columns": 3,
        "rows": 3
       }
      },
      "text/html": [
       "<div>\n",
       "<style scoped>\n",
       "    .dataframe tbody tr th:only-of-type {\n",
       "        vertical-align: middle;\n",
       "    }\n",
       "\n",
       "    .dataframe tbody tr th {\n",
       "        vertical-align: top;\n",
       "    }\n",
       "\n",
       "    .dataframe thead th {\n",
       "        text-align: right;\n",
       "    }\n",
       "</style>\n",
       "<table border=\"1\" class=\"dataframe\">\n",
       "  <thead>\n",
       "    <tr style=\"text-align: right;\">\n",
       "      <th></th>\n",
       "      <th>MovieID</th>\n",
       "      <th>Title</th>\n",
       "      <th>Genre</th>\n",
       "    </tr>\n",
       "  </thead>\n",
       "  <tbody>\n",
       "    <tr>\n",
       "      <th>0</th>\n",
       "      <td>1</td>\n",
       "      <td>Toy Story (1995)</td>\n",
       "      <td>Animation|Children's|Comedy</td>\n",
       "    </tr>\n",
       "    <tr>\n",
       "      <th>1</th>\n",
       "      <td>2</td>\n",
       "      <td>Jumanji (1995)</td>\n",
       "      <td>Adventure|Children's|Fantasy</td>\n",
       "    </tr>\n",
       "    <tr>\n",
       "      <th>2</th>\n",
       "      <td>3</td>\n",
       "      <td>Grumpier Old Men (1995)</td>\n",
       "      <td>Comedy|Romance</td>\n",
       "    </tr>\n",
       "  </tbody>\n",
       "</table>\n",
       "</div>"
      ],
      "text/plain": [
       "   MovieID                    Title                         Genre\n",
       "0        1         Toy Story (1995)   Animation|Children's|Comedy\n",
       "1        2           Jumanji (1995)  Adventure|Children's|Fantasy\n",
       "2        3  Grumpier Old Men (1995)                Comedy|Romance"
      ]
     },
     "execution_count": 10,
     "metadata": {},
     "output_type": "execute_result"
    }
   ],
   "source": [
    "# Ejemplo con MovieLens: Genre\n",
    "## 1: obtener todos los géneros por separado\n",
    "## 2: crear un dataset de géneros\n",
    "## 3: por película, marcar género por separado\n",
    "## 4: unir con dataset original\n",
    "movies_dataset.head(3)"
   ]
  },
  {
   "cell_type": "markdown",
   "metadata": {},
   "source": [
    "#### 1. Obtener todos los géneros de forma separada"
   ]
  },
  {
   "cell_type": "code",
   "execution_count": 63,
   "metadata": {
    "ExecuteTime": {
     "end_time": "2024-03-12T15:52:42.725572Z",
     "start_time": "2024-03-12T15:52:42.714810Z"
    },
    "slideshow": {
     "slide_type": "subslide"
    }
   },
   "outputs": [
    {
     "name": "stdout",
     "output_type": "stream",
     "text": [
      "0        [Animation, Children's, Comedy]\n",
      "1       [Adventure, Children's, Fantasy]\n",
      "2                      [Comedy, Romance]\n",
      "3                        [Comedy, Drama]\n",
      "4                               [Comedy]\n",
      "                      ...               \n",
      "3878                            [Comedy]\n",
      "3879                             [Drama]\n",
      "3880                             [Drama]\n",
      "3881                             [Drama]\n",
      "3882                   [Drama, Thriller]\n",
      "Name: Genre, Length: 3883, dtype: object\n"
     ]
    },
    {
     "name": "stderr",
     "output_type": "stream",
     "text": [
      "/tmp/ipykernel_7461/3114367841.py:10: FutureWarning: unique with argument that is not not a Series, Index, ExtensionArray, or np.ndarray is deprecated and will raise in a future version.\n",
      "  genres = pd.unique([genre for x in all_genres # bucle para cada género (genre) en la lista de géneros (all_genres)\n"
     ]
    },
    {
     "data": {
      "text/plain": [
       "array(['Animation', \"Children's\", 'Comedy', 'Adventure', 'Fantasy',\n",
       "       'Romance', 'Drama', 'Action', 'Crime', 'Thriller', 'Horror',\n",
       "       'Sci-Fi', 'Documentary', 'War', 'Musical', 'Mystery', 'Film-Noir',\n",
       "       'Western'], dtype=object)"
      ]
     },
     "metadata": {},
     "output_type": "display_data"
    }
   ],
   "source": [
    "# Realizamos un split de la columna 'Genre' para obtener los géneros por separado, usando una función lambda\n",
    "# El carácter que usamos para separar es '|'.\n",
    "all_genres = movies_dataset['Genre'].apply(lambda x : x.split('|'))\n",
    "print(all_genres)\n",
    "\n",
    "# print([genre for x in all_genres for genre in x])\n",
    "\n",
    "# Con pd.unique() obtenemos los valores únicos de una lista y, en este caso, \n",
    "# los géneros únicos, a través del bucle que generamos dentro de unique()\n",
    "genres = pd.unique([genre for x in all_genres # bucle para cada género (genre) en la lista de géneros (all_genres)\n",
    "                    for genre in x]) # bucle para cada género (genre) dentro de la lista de géneros (x)\n",
    "display(genres)"
   ]
  },
  {
   "cell_type": "code",
   "execution_count": 12,
   "metadata": {
    "ExecuteTime": {
     "end_time": "2024-03-12T15:53:20.316034Z",
     "start_time": "2024-03-12T15:53:20.297895Z"
    },
    "slideshow": {
     "slide_type": "fragment"
    }
   },
   "outputs": [
    {
     "data": {
      "application/vnd.microsoft.datawrangler.viewer.v0+json": {
       "columns": [
        {
         "name": "index",
         "rawType": "int64",
         "type": "integer"
        },
        {
         "name": "Animation",
         "rawType": "float64",
         "type": "float"
        },
        {
         "name": "Children's",
         "rawType": "float64",
         "type": "float"
        },
        {
         "name": "Comedy",
         "rawType": "float64",
         "type": "float"
        },
        {
         "name": "Adventure",
         "rawType": "float64",
         "type": "float"
        },
        {
         "name": "Fantasy",
         "rawType": "float64",
         "type": "float"
        },
        {
         "name": "Romance",
         "rawType": "float64",
         "type": "float"
        },
        {
         "name": "Drama",
         "rawType": "float64",
         "type": "float"
        },
        {
         "name": "Action",
         "rawType": "float64",
         "type": "float"
        },
        {
         "name": "Crime",
         "rawType": "float64",
         "type": "float"
        },
        {
         "name": "Thriller",
         "rawType": "float64",
         "type": "float"
        },
        {
         "name": "Horror",
         "rawType": "float64",
         "type": "float"
        },
        {
         "name": "Sci-Fi",
         "rawType": "float64",
         "type": "float"
        },
        {
         "name": "Documentary",
         "rawType": "float64",
         "type": "float"
        },
        {
         "name": "War",
         "rawType": "float64",
         "type": "float"
        },
        {
         "name": "Musical",
         "rawType": "float64",
         "type": "float"
        },
        {
         "name": "Mystery",
         "rawType": "float64",
         "type": "float"
        },
        {
         "name": "Film-Noir",
         "rawType": "float64",
         "type": "float"
        },
        {
         "name": "Western",
         "rawType": "float64",
         "type": "float"
        }
       ],
       "conversionMethod": "pd.DataFrame",
       "ref": "020427c8-fafa-41c4-af77-85e01025ef6a",
       "rows": [
        [
         "0",
         "0.0",
         "0.0",
         "0.0",
         "0.0",
         "0.0",
         "0.0",
         "0.0",
         "0.0",
         "0.0",
         "0.0",
         "0.0",
         "0.0",
         "0.0",
         "0.0",
         "0.0",
         "0.0",
         "0.0",
         "0.0"
        ],
        [
         "1",
         "0.0",
         "0.0",
         "0.0",
         "0.0",
         "0.0",
         "0.0",
         "0.0",
         "0.0",
         "0.0",
         "0.0",
         "0.0",
         "0.0",
         "0.0",
         "0.0",
         "0.0",
         "0.0",
         "0.0",
         "0.0"
        ],
        [
         "2",
         "0.0",
         "0.0",
         "0.0",
         "0.0",
         "0.0",
         "0.0",
         "0.0",
         "0.0",
         "0.0",
         "0.0",
         "0.0",
         "0.0",
         "0.0",
         "0.0",
         "0.0",
         "0.0",
         "0.0",
         "0.0"
        ]
       ],
       "shape": {
        "columns": 18,
        "rows": 3
       }
      },
      "text/html": [
       "<div>\n",
       "<style scoped>\n",
       "    .dataframe tbody tr th:only-of-type {\n",
       "        vertical-align: middle;\n",
       "    }\n",
       "\n",
       "    .dataframe tbody tr th {\n",
       "        vertical-align: top;\n",
       "    }\n",
       "\n",
       "    .dataframe thead th {\n",
       "        text-align: right;\n",
       "    }\n",
       "</style>\n",
       "<table border=\"1\" class=\"dataframe\">\n",
       "  <thead>\n",
       "    <tr style=\"text-align: right;\">\n",
       "      <th></th>\n",
       "      <th>Animation</th>\n",
       "      <th>Children's</th>\n",
       "      <th>Comedy</th>\n",
       "      <th>Adventure</th>\n",
       "      <th>Fantasy</th>\n",
       "      <th>Romance</th>\n",
       "      <th>Drama</th>\n",
       "      <th>Action</th>\n",
       "      <th>Crime</th>\n",
       "      <th>Thriller</th>\n",
       "      <th>Horror</th>\n",
       "      <th>Sci-Fi</th>\n",
       "      <th>Documentary</th>\n",
       "      <th>War</th>\n",
       "      <th>Musical</th>\n",
       "      <th>Mystery</th>\n",
       "      <th>Film-Noir</th>\n",
       "      <th>Western</th>\n",
       "    </tr>\n",
       "  </thead>\n",
       "  <tbody>\n",
       "    <tr>\n",
       "      <th>0</th>\n",
       "      <td>0.0</td>\n",
       "      <td>0.0</td>\n",
       "      <td>0.0</td>\n",
       "      <td>0.0</td>\n",
       "      <td>0.0</td>\n",
       "      <td>0.0</td>\n",
       "      <td>0.0</td>\n",
       "      <td>0.0</td>\n",
       "      <td>0.0</td>\n",
       "      <td>0.0</td>\n",
       "      <td>0.0</td>\n",
       "      <td>0.0</td>\n",
       "      <td>0.0</td>\n",
       "      <td>0.0</td>\n",
       "      <td>0.0</td>\n",
       "      <td>0.0</td>\n",
       "      <td>0.0</td>\n",
       "      <td>0.0</td>\n",
       "    </tr>\n",
       "    <tr>\n",
       "      <th>1</th>\n",
       "      <td>0.0</td>\n",
       "      <td>0.0</td>\n",
       "      <td>0.0</td>\n",
       "      <td>0.0</td>\n",
       "      <td>0.0</td>\n",
       "      <td>0.0</td>\n",
       "      <td>0.0</td>\n",
       "      <td>0.0</td>\n",
       "      <td>0.0</td>\n",
       "      <td>0.0</td>\n",
       "      <td>0.0</td>\n",
       "      <td>0.0</td>\n",
       "      <td>0.0</td>\n",
       "      <td>0.0</td>\n",
       "      <td>0.0</td>\n",
       "      <td>0.0</td>\n",
       "      <td>0.0</td>\n",
       "      <td>0.0</td>\n",
       "    </tr>\n",
       "    <tr>\n",
       "      <th>2</th>\n",
       "      <td>0.0</td>\n",
       "      <td>0.0</td>\n",
       "      <td>0.0</td>\n",
       "      <td>0.0</td>\n",
       "      <td>0.0</td>\n",
       "      <td>0.0</td>\n",
       "      <td>0.0</td>\n",
       "      <td>0.0</td>\n",
       "      <td>0.0</td>\n",
       "      <td>0.0</td>\n",
       "      <td>0.0</td>\n",
       "      <td>0.0</td>\n",
       "      <td>0.0</td>\n",
       "      <td>0.0</td>\n",
       "      <td>0.0</td>\n",
       "      <td>0.0</td>\n",
       "      <td>0.0</td>\n",
       "      <td>0.0</td>\n",
       "    </tr>\n",
       "  </tbody>\n",
       "</table>\n",
       "</div>"
      ],
      "text/plain": [
       "   Animation  Children's  Comedy  Adventure  Fantasy  Romance  Drama  Action  \\\n",
       "0        0.0         0.0     0.0        0.0      0.0      0.0    0.0     0.0   \n",
       "1        0.0         0.0     0.0        0.0      0.0      0.0    0.0     0.0   \n",
       "2        0.0         0.0     0.0        0.0      0.0      0.0    0.0     0.0   \n",
       "\n",
       "   Crime  Thriller  Horror  Sci-Fi  Documentary  War  Musical  Mystery  \\\n",
       "0    0.0       0.0     0.0     0.0          0.0  0.0      0.0      0.0   \n",
       "1    0.0       0.0     0.0     0.0          0.0  0.0      0.0      0.0   \n",
       "2    0.0       0.0     0.0     0.0          0.0  0.0      0.0      0.0   \n",
       "\n",
       "   Film-Noir  Western  \n",
       "0        0.0      0.0  \n",
       "1        0.0      0.0  \n",
       "2        0.0      0.0  "
      ]
     },
     "execution_count": 12,
     "metadata": {},
     "output_type": "execute_result"
    }
   ],
   "source": [
    "# crear tabla con columnas por género\n",
    "zeros = np.zeros( (len(movies_dataset), len(genres)) )\n",
    "genres_frame = pd.DataFrame(zeros, columns=genres)\n",
    "genres_frame.head(3)"
   ]
  },
  {
   "cell_type": "markdown",
   "metadata": {},
   "source": [
    "#### 2. Crear dataset de genéros"
   ]
  },
  {
   "cell_type": "code",
   "execution_count": 64,
   "metadata": {
    "ExecuteTime": {
     "end_time": "2024-03-12T15:53:55.170495Z",
     "start_time": "2024-03-12T15:53:54.674041Z"
    },
    "slideshow": {
     "slide_type": "subslide"
    }
   },
   "outputs": [
    {
     "name": "stdout",
     "output_type": "stream",
     "text": [
      "Index(['Animation', 'Children's', 'Comedy', 'Adventure', 'Fantasy', 'Romance',\n",
      "       'Drama', 'Action', 'Crime', 'Thriller', 'Horror', 'Sci-Fi',\n",
      "       'Documentary', 'War', 'Musical', 'Mystery', 'Film-Noir', 'Western'],\n",
      "      dtype='object')\n"
     ]
    }
   ],
   "source": [
    "columns_genres = genres_frame.columns # lista de generos (columnas)\n",
    "print(columns_genres)\n"
   ]
  },
  {
   "cell_type": "markdown",
   "metadata": {},
   "source": [
    "#### 3. Separar los distintos géneros para cada película.   \n",
    "\n",
    "A continuación, el código se encarga de convertir una lista de géneros en formato de cadena con \"|\" en una matriz one-hot encoding, donde cada película tiene un 1 en las columnas que corresponden a sus géneros y 0 en las demás."
   ]
  },
  {
   "cell_type": "code",
   "execution_count": null,
   "metadata": {},
   "outputs": [],
   "source": [
    "\n",
    "\n",
    "# enumerate(movies_dataset['Genre']) permite iterar sobre cada fila de la columna 'Genre', \n",
    "# proporcionando tanto el índice i (posición de la película en el dataset) como el contenido genre (cadena de texto con los géneros de esa película).\n",
    "for i, genre in enumerate(movies_dataset['Genre']): # Iteración sobre cada fila de la columna 'Genre'\n",
    "    # Obtener los índices de los géneros en la matriz OHE (one-hot-encoding) de géneros\n",
    "    inds = columns_genres.get_indexer(genre.split('|')) # get_indexer() retorna los indices de los generos en la lista de generos 'genre.split('|')', que convierte la cadena \"Action|Comedy\" en la lista ['Action', 'Comedy'].\n",
    "    # actualiza la fila i (película en cuestión), estableciendo 1 en las posiciones inds (las columnas correspondientes a los géneros de esa película).\n",
    "    # Es decir, convierte la información de la columna 'Genre' en un formato de codificación one-hot.\n",
    "    genres_frame.iloc[i,inds] = 1 # localiza las columnas del genero correspondiente, marca con 1"
   ]
  },
  {
   "cell_type": "code",
   "execution_count": 14,
   "metadata": {
    "ExecuteTime": {
     "end_time": "2024-03-12T15:54:07.100467Z",
     "start_time": "2024-03-12T15:54:07.082495Z"
    },
    "slideshow": {
     "slide_type": "fragment"
    }
   },
   "outputs": [
    {
     "data": {
      "application/vnd.microsoft.datawrangler.viewer.v0+json": {
       "columns": [
        {
         "name": "index",
         "rawType": "int64",
         "type": "integer"
        },
        {
         "name": "Animation",
         "rawType": "float64",
         "type": "float"
        },
        {
         "name": "Children's",
         "rawType": "float64",
         "type": "float"
        },
        {
         "name": "Comedy",
         "rawType": "float64",
         "type": "float"
        },
        {
         "name": "Adventure",
         "rawType": "float64",
         "type": "float"
        },
        {
         "name": "Fantasy",
         "rawType": "float64",
         "type": "float"
        },
        {
         "name": "Romance",
         "rawType": "float64",
         "type": "float"
        },
        {
         "name": "Drama",
         "rawType": "float64",
         "type": "float"
        },
        {
         "name": "Action",
         "rawType": "float64",
         "type": "float"
        },
        {
         "name": "Crime",
         "rawType": "float64",
         "type": "float"
        },
        {
         "name": "Thriller",
         "rawType": "float64",
         "type": "float"
        },
        {
         "name": "Horror",
         "rawType": "float64",
         "type": "float"
        },
        {
         "name": "Sci-Fi",
         "rawType": "float64",
         "type": "float"
        },
        {
         "name": "Documentary",
         "rawType": "float64",
         "type": "float"
        },
        {
         "name": "War",
         "rawType": "float64",
         "type": "float"
        },
        {
         "name": "Musical",
         "rawType": "float64",
         "type": "float"
        },
        {
         "name": "Mystery",
         "rawType": "float64",
         "type": "float"
        },
        {
         "name": "Film-Noir",
         "rawType": "float64",
         "type": "float"
        },
        {
         "name": "Western",
         "rawType": "float64",
         "type": "float"
        }
       ],
       "conversionMethod": "pd.DataFrame",
       "ref": "8bb79c05-8836-4e33-9d24-6ac013bdf474",
       "rows": [
        [
         "0",
         "1.0",
         "1.0",
         "1.0",
         "0.0",
         "0.0",
         "0.0",
         "0.0",
         "0.0",
         "0.0",
         "0.0",
         "0.0",
         "0.0",
         "0.0",
         "0.0",
         "0.0",
         "0.0",
         "0.0",
         "0.0"
        ],
        [
         "1",
         "0.0",
         "1.0",
         "0.0",
         "1.0",
         "1.0",
         "0.0",
         "0.0",
         "0.0",
         "0.0",
         "0.0",
         "0.0",
         "0.0",
         "0.0",
         "0.0",
         "0.0",
         "0.0",
         "0.0",
         "0.0"
        ],
        [
         "2",
         "0.0",
         "0.0",
         "1.0",
         "0.0",
         "0.0",
         "1.0",
         "0.0",
         "0.0",
         "0.0",
         "0.0",
         "0.0",
         "0.0",
         "0.0",
         "0.0",
         "0.0",
         "0.0",
         "0.0",
         "0.0"
        ],
        [
         "3",
         "0.0",
         "0.0",
         "1.0",
         "0.0",
         "0.0",
         "0.0",
         "1.0",
         "0.0",
         "0.0",
         "0.0",
         "0.0",
         "0.0",
         "0.0",
         "0.0",
         "0.0",
         "0.0",
         "0.0",
         "0.0"
        ],
        [
         "4",
         "0.0",
         "0.0",
         "1.0",
         "0.0",
         "0.0",
         "0.0",
         "0.0",
         "0.0",
         "0.0",
         "0.0",
         "0.0",
         "0.0",
         "0.0",
         "0.0",
         "0.0",
         "0.0",
         "0.0",
         "0.0"
        ]
       ],
       "shape": {
        "columns": 18,
        "rows": 5
       }
      },
      "text/html": [
       "<div>\n",
       "<style scoped>\n",
       "    .dataframe tbody tr th:only-of-type {\n",
       "        vertical-align: middle;\n",
       "    }\n",
       "\n",
       "    .dataframe tbody tr th {\n",
       "        vertical-align: top;\n",
       "    }\n",
       "\n",
       "    .dataframe thead th {\n",
       "        text-align: right;\n",
       "    }\n",
       "</style>\n",
       "<table border=\"1\" class=\"dataframe\">\n",
       "  <thead>\n",
       "    <tr style=\"text-align: right;\">\n",
       "      <th></th>\n",
       "      <th>Animation</th>\n",
       "      <th>Children's</th>\n",
       "      <th>Comedy</th>\n",
       "      <th>Adventure</th>\n",
       "      <th>Fantasy</th>\n",
       "      <th>Romance</th>\n",
       "      <th>Drama</th>\n",
       "      <th>Action</th>\n",
       "      <th>Crime</th>\n",
       "      <th>Thriller</th>\n",
       "      <th>Horror</th>\n",
       "      <th>Sci-Fi</th>\n",
       "      <th>Documentary</th>\n",
       "      <th>War</th>\n",
       "      <th>Musical</th>\n",
       "      <th>Mystery</th>\n",
       "      <th>Film-Noir</th>\n",
       "      <th>Western</th>\n",
       "    </tr>\n",
       "  </thead>\n",
       "  <tbody>\n",
       "    <tr>\n",
       "      <th>0</th>\n",
       "      <td>1.0</td>\n",
       "      <td>1.0</td>\n",
       "      <td>1.0</td>\n",
       "      <td>0.0</td>\n",
       "      <td>0.0</td>\n",
       "      <td>0.0</td>\n",
       "      <td>0.0</td>\n",
       "      <td>0.0</td>\n",
       "      <td>0.0</td>\n",
       "      <td>0.0</td>\n",
       "      <td>0.0</td>\n",
       "      <td>0.0</td>\n",
       "      <td>0.0</td>\n",
       "      <td>0.0</td>\n",
       "      <td>0.0</td>\n",
       "      <td>0.0</td>\n",
       "      <td>0.0</td>\n",
       "      <td>0.0</td>\n",
       "    </tr>\n",
       "    <tr>\n",
       "      <th>1</th>\n",
       "      <td>0.0</td>\n",
       "      <td>1.0</td>\n",
       "      <td>0.0</td>\n",
       "      <td>1.0</td>\n",
       "      <td>1.0</td>\n",
       "      <td>0.0</td>\n",
       "      <td>0.0</td>\n",
       "      <td>0.0</td>\n",
       "      <td>0.0</td>\n",
       "      <td>0.0</td>\n",
       "      <td>0.0</td>\n",
       "      <td>0.0</td>\n",
       "      <td>0.0</td>\n",
       "      <td>0.0</td>\n",
       "      <td>0.0</td>\n",
       "      <td>0.0</td>\n",
       "      <td>0.0</td>\n",
       "      <td>0.0</td>\n",
       "    </tr>\n",
       "    <tr>\n",
       "      <th>2</th>\n",
       "      <td>0.0</td>\n",
       "      <td>0.0</td>\n",
       "      <td>1.0</td>\n",
       "      <td>0.0</td>\n",
       "      <td>0.0</td>\n",
       "      <td>1.0</td>\n",
       "      <td>0.0</td>\n",
       "      <td>0.0</td>\n",
       "      <td>0.0</td>\n",
       "      <td>0.0</td>\n",
       "      <td>0.0</td>\n",
       "      <td>0.0</td>\n",
       "      <td>0.0</td>\n",
       "      <td>0.0</td>\n",
       "      <td>0.0</td>\n",
       "      <td>0.0</td>\n",
       "      <td>0.0</td>\n",
       "      <td>0.0</td>\n",
       "    </tr>\n",
       "    <tr>\n",
       "      <th>3</th>\n",
       "      <td>0.0</td>\n",
       "      <td>0.0</td>\n",
       "      <td>1.0</td>\n",
       "      <td>0.0</td>\n",
       "      <td>0.0</td>\n",
       "      <td>0.0</td>\n",
       "      <td>1.0</td>\n",
       "      <td>0.0</td>\n",
       "      <td>0.0</td>\n",
       "      <td>0.0</td>\n",
       "      <td>0.0</td>\n",
       "      <td>0.0</td>\n",
       "      <td>0.0</td>\n",
       "      <td>0.0</td>\n",
       "      <td>0.0</td>\n",
       "      <td>0.0</td>\n",
       "      <td>0.0</td>\n",
       "      <td>0.0</td>\n",
       "    </tr>\n",
       "    <tr>\n",
       "      <th>4</th>\n",
       "      <td>0.0</td>\n",
       "      <td>0.0</td>\n",
       "      <td>1.0</td>\n",
       "      <td>0.0</td>\n",
       "      <td>0.0</td>\n",
       "      <td>0.0</td>\n",
       "      <td>0.0</td>\n",
       "      <td>0.0</td>\n",
       "      <td>0.0</td>\n",
       "      <td>0.0</td>\n",
       "      <td>0.0</td>\n",
       "      <td>0.0</td>\n",
       "      <td>0.0</td>\n",
       "      <td>0.0</td>\n",
       "      <td>0.0</td>\n",
       "      <td>0.0</td>\n",
       "      <td>0.0</td>\n",
       "      <td>0.0</td>\n",
       "    </tr>\n",
       "  </tbody>\n",
       "</table>\n",
       "</div>"
      ],
      "text/plain": [
       "   Animation  Children's  Comedy  Adventure  Fantasy  Romance  Drama  Action  \\\n",
       "0        1.0         1.0     1.0        0.0      0.0      0.0    0.0     0.0   \n",
       "1        0.0         1.0     0.0        1.0      1.0      0.0    0.0     0.0   \n",
       "2        0.0         0.0     1.0        0.0      0.0      1.0    0.0     0.0   \n",
       "3        0.0         0.0     1.0        0.0      0.0      0.0    1.0     0.0   \n",
       "4        0.0         0.0     1.0        0.0      0.0      0.0    0.0     0.0   \n",
       "\n",
       "   Crime  Thriller  Horror  Sci-Fi  Documentary  War  Musical  Mystery  \\\n",
       "0    0.0       0.0     0.0     0.0          0.0  0.0      0.0      0.0   \n",
       "1    0.0       0.0     0.0     0.0          0.0  0.0      0.0      0.0   \n",
       "2    0.0       0.0     0.0     0.0          0.0  0.0      0.0      0.0   \n",
       "3    0.0       0.0     0.0     0.0          0.0  0.0      0.0      0.0   \n",
       "4    0.0       0.0     0.0     0.0          0.0  0.0      0.0      0.0   \n",
       "\n",
       "   Film-Noir  Western  \n",
       "0        0.0      0.0  \n",
       "1        0.0      0.0  \n",
       "2        0.0      0.0  \n",
       "3        0.0      0.0  \n",
       "4        0.0      0.0  "
      ]
     },
     "execution_count": 14,
     "metadata": {},
     "output_type": "execute_result"
    }
   ],
   "source": [
    "genres_frame.head(5)"
   ]
  },
  {
   "cell_type": "markdown",
   "metadata": {},
   "source": [
    "#### 4. Unir con dataset original.   \n",
    "\n",
    "En el siguiente paso, se une el nuevo dataset con el dataset original de películas mediante ```join()```para obtener el dataset completo con los géneros segregados"
   ]
  },
  {
   "cell_type": "code",
   "execution_count": 15,
   "metadata": {
    "ExecuteTime": {
     "end_time": "2024-03-12T15:54:50.096284Z",
     "start_time": "2024-03-12T15:54:50.090756Z"
    },
    "slideshow": {
     "slide_type": "subslide"
    }
   },
   "outputs": [],
   "source": [
    "# unir con dataset original\n",
    "movies_split_genre = movies_dataset.join(genres_frame)"
   ]
  },
  {
   "cell_type": "code",
   "execution_count": 16,
   "metadata": {
    "ExecuteTime": {
     "end_time": "2024-03-12T15:54:51.517731Z",
     "start_time": "2024-03-12T15:54:51.498563Z"
    },
    "slideshow": {
     "slide_type": "fragment"
    }
   },
   "outputs": [
    {
     "data": {
      "application/vnd.microsoft.datawrangler.viewer.v0+json": {
       "columns": [
        {
         "name": "index",
         "rawType": "int64",
         "type": "integer"
        },
        {
         "name": "MovieID",
         "rawType": "int64",
         "type": "integer"
        },
        {
         "name": "Title",
         "rawType": "object",
         "type": "string"
        },
        {
         "name": "Genre",
         "rawType": "object",
         "type": "string"
        },
        {
         "name": "Animation",
         "rawType": "float64",
         "type": "float"
        },
        {
         "name": "Children's",
         "rawType": "float64",
         "type": "float"
        },
        {
         "name": "Comedy",
         "rawType": "float64",
         "type": "float"
        },
        {
         "name": "Adventure",
         "rawType": "float64",
         "type": "float"
        },
        {
         "name": "Fantasy",
         "rawType": "float64",
         "type": "float"
        },
        {
         "name": "Romance",
         "rawType": "float64",
         "type": "float"
        },
        {
         "name": "Drama",
         "rawType": "float64",
         "type": "float"
        },
        {
         "name": "Action",
         "rawType": "float64",
         "type": "float"
        },
        {
         "name": "Crime",
         "rawType": "float64",
         "type": "float"
        },
        {
         "name": "Thriller",
         "rawType": "float64",
         "type": "float"
        },
        {
         "name": "Horror",
         "rawType": "float64",
         "type": "float"
        },
        {
         "name": "Sci-Fi",
         "rawType": "float64",
         "type": "float"
        },
        {
         "name": "Documentary",
         "rawType": "float64",
         "type": "float"
        },
        {
         "name": "War",
         "rawType": "float64",
         "type": "float"
        },
        {
         "name": "Musical",
         "rawType": "float64",
         "type": "float"
        },
        {
         "name": "Mystery",
         "rawType": "float64",
         "type": "float"
        },
        {
         "name": "Film-Noir",
         "rawType": "float64",
         "type": "float"
        },
        {
         "name": "Western",
         "rawType": "float64",
         "type": "float"
        }
       ],
       "conversionMethod": "pd.DataFrame",
       "ref": "785980ed-b18b-42d1-a61d-be9db4e46f99",
       "rows": [
        [
         "0",
         "1",
         "Toy Story (1995)",
         "Animation|Children's|Comedy",
         "1.0",
         "1.0",
         "1.0",
         "0.0",
         "0.0",
         "0.0",
         "0.0",
         "0.0",
         "0.0",
         "0.0",
         "0.0",
         "0.0",
         "0.0",
         "0.0",
         "0.0",
         "0.0",
         "0.0",
         "0.0"
        ],
        [
         "1",
         "2",
         "Jumanji (1995)",
         "Adventure|Children's|Fantasy",
         "0.0",
         "1.0",
         "0.0",
         "1.0",
         "1.0",
         "0.0",
         "0.0",
         "0.0",
         "0.0",
         "0.0",
         "0.0",
         "0.0",
         "0.0",
         "0.0",
         "0.0",
         "0.0",
         "0.0",
         "0.0"
        ],
        [
         "2",
         "3",
         "Grumpier Old Men (1995)",
         "Comedy|Romance",
         "0.0",
         "0.0",
         "1.0",
         "0.0",
         "0.0",
         "1.0",
         "0.0",
         "0.0",
         "0.0",
         "0.0",
         "0.0",
         "0.0",
         "0.0",
         "0.0",
         "0.0",
         "0.0",
         "0.0",
         "0.0"
        ],
        [
         "3",
         "4",
         "Waiting to Exhale (1995)",
         "Comedy|Drama",
         "0.0",
         "0.0",
         "1.0",
         "0.0",
         "0.0",
         "0.0",
         "1.0",
         "0.0",
         "0.0",
         "0.0",
         "0.0",
         "0.0",
         "0.0",
         "0.0",
         "0.0",
         "0.0",
         "0.0",
         "0.0"
        ],
        [
         "4",
         "5",
         "Father of the Bride Part II (1995)",
         "Comedy",
         "0.0",
         "0.0",
         "1.0",
         "0.0",
         "0.0",
         "0.0",
         "0.0",
         "0.0",
         "0.0",
         "0.0",
         "0.0",
         "0.0",
         "0.0",
         "0.0",
         "0.0",
         "0.0",
         "0.0",
         "0.0"
        ]
       ],
       "shape": {
        "columns": 21,
        "rows": 5
       }
      },
      "text/html": [
       "<div>\n",
       "<style scoped>\n",
       "    .dataframe tbody tr th:only-of-type {\n",
       "        vertical-align: middle;\n",
       "    }\n",
       "\n",
       "    .dataframe tbody tr th {\n",
       "        vertical-align: top;\n",
       "    }\n",
       "\n",
       "    .dataframe thead th {\n",
       "        text-align: right;\n",
       "    }\n",
       "</style>\n",
       "<table border=\"1\" class=\"dataframe\">\n",
       "  <thead>\n",
       "    <tr style=\"text-align: right;\">\n",
       "      <th></th>\n",
       "      <th>MovieID</th>\n",
       "      <th>Title</th>\n",
       "      <th>Genre</th>\n",
       "      <th>Animation</th>\n",
       "      <th>Children's</th>\n",
       "      <th>Comedy</th>\n",
       "      <th>Adventure</th>\n",
       "      <th>Fantasy</th>\n",
       "      <th>Romance</th>\n",
       "      <th>Drama</th>\n",
       "      <th>...</th>\n",
       "      <th>Crime</th>\n",
       "      <th>Thriller</th>\n",
       "      <th>Horror</th>\n",
       "      <th>Sci-Fi</th>\n",
       "      <th>Documentary</th>\n",
       "      <th>War</th>\n",
       "      <th>Musical</th>\n",
       "      <th>Mystery</th>\n",
       "      <th>Film-Noir</th>\n",
       "      <th>Western</th>\n",
       "    </tr>\n",
       "  </thead>\n",
       "  <tbody>\n",
       "    <tr>\n",
       "      <th>0</th>\n",
       "      <td>1</td>\n",
       "      <td>Toy Story (1995)</td>\n",
       "      <td>Animation|Children's|Comedy</td>\n",
       "      <td>1.0</td>\n",
       "      <td>1.0</td>\n",
       "      <td>1.0</td>\n",
       "      <td>0.0</td>\n",
       "      <td>0.0</td>\n",
       "      <td>0.0</td>\n",
       "      <td>0.0</td>\n",
       "      <td>...</td>\n",
       "      <td>0.0</td>\n",
       "      <td>0.0</td>\n",
       "      <td>0.0</td>\n",
       "      <td>0.0</td>\n",
       "      <td>0.0</td>\n",
       "      <td>0.0</td>\n",
       "      <td>0.0</td>\n",
       "      <td>0.0</td>\n",
       "      <td>0.0</td>\n",
       "      <td>0.0</td>\n",
       "    </tr>\n",
       "    <tr>\n",
       "      <th>1</th>\n",
       "      <td>2</td>\n",
       "      <td>Jumanji (1995)</td>\n",
       "      <td>Adventure|Children's|Fantasy</td>\n",
       "      <td>0.0</td>\n",
       "      <td>1.0</td>\n",
       "      <td>0.0</td>\n",
       "      <td>1.0</td>\n",
       "      <td>1.0</td>\n",
       "      <td>0.0</td>\n",
       "      <td>0.0</td>\n",
       "      <td>...</td>\n",
       "      <td>0.0</td>\n",
       "      <td>0.0</td>\n",
       "      <td>0.0</td>\n",
       "      <td>0.0</td>\n",
       "      <td>0.0</td>\n",
       "      <td>0.0</td>\n",
       "      <td>0.0</td>\n",
       "      <td>0.0</td>\n",
       "      <td>0.0</td>\n",
       "      <td>0.0</td>\n",
       "    </tr>\n",
       "    <tr>\n",
       "      <th>2</th>\n",
       "      <td>3</td>\n",
       "      <td>Grumpier Old Men (1995)</td>\n",
       "      <td>Comedy|Romance</td>\n",
       "      <td>0.0</td>\n",
       "      <td>0.0</td>\n",
       "      <td>1.0</td>\n",
       "      <td>0.0</td>\n",
       "      <td>0.0</td>\n",
       "      <td>1.0</td>\n",
       "      <td>0.0</td>\n",
       "      <td>...</td>\n",
       "      <td>0.0</td>\n",
       "      <td>0.0</td>\n",
       "      <td>0.0</td>\n",
       "      <td>0.0</td>\n",
       "      <td>0.0</td>\n",
       "      <td>0.0</td>\n",
       "      <td>0.0</td>\n",
       "      <td>0.0</td>\n",
       "      <td>0.0</td>\n",
       "      <td>0.0</td>\n",
       "    </tr>\n",
       "    <tr>\n",
       "      <th>3</th>\n",
       "      <td>4</td>\n",
       "      <td>Waiting to Exhale (1995)</td>\n",
       "      <td>Comedy|Drama</td>\n",
       "      <td>0.0</td>\n",
       "      <td>0.0</td>\n",
       "      <td>1.0</td>\n",
       "      <td>0.0</td>\n",
       "      <td>0.0</td>\n",
       "      <td>0.0</td>\n",
       "      <td>1.0</td>\n",
       "      <td>...</td>\n",
       "      <td>0.0</td>\n",
       "      <td>0.0</td>\n",
       "      <td>0.0</td>\n",
       "      <td>0.0</td>\n",
       "      <td>0.0</td>\n",
       "      <td>0.0</td>\n",
       "      <td>0.0</td>\n",
       "      <td>0.0</td>\n",
       "      <td>0.0</td>\n",
       "      <td>0.0</td>\n",
       "    </tr>\n",
       "    <tr>\n",
       "      <th>4</th>\n",
       "      <td>5</td>\n",
       "      <td>Father of the Bride Part II (1995)</td>\n",
       "      <td>Comedy</td>\n",
       "      <td>0.0</td>\n",
       "      <td>0.0</td>\n",
       "      <td>1.0</td>\n",
       "      <td>0.0</td>\n",
       "      <td>0.0</td>\n",
       "      <td>0.0</td>\n",
       "      <td>0.0</td>\n",
       "      <td>...</td>\n",
       "      <td>0.0</td>\n",
       "      <td>0.0</td>\n",
       "      <td>0.0</td>\n",
       "      <td>0.0</td>\n",
       "      <td>0.0</td>\n",
       "      <td>0.0</td>\n",
       "      <td>0.0</td>\n",
       "      <td>0.0</td>\n",
       "      <td>0.0</td>\n",
       "      <td>0.0</td>\n",
       "    </tr>\n",
       "  </tbody>\n",
       "</table>\n",
       "<p>5 rows × 21 columns</p>\n",
       "</div>"
      ],
      "text/plain": [
       "   MovieID                               Title                         Genre  \\\n",
       "0        1                    Toy Story (1995)   Animation|Children's|Comedy   \n",
       "1        2                      Jumanji (1995)  Adventure|Children's|Fantasy   \n",
       "2        3             Grumpier Old Men (1995)                Comedy|Romance   \n",
       "3        4            Waiting to Exhale (1995)                  Comedy|Drama   \n",
       "4        5  Father of the Bride Part II (1995)                        Comedy   \n",
       "\n",
       "   Animation  Children's  Comedy  Adventure  Fantasy  Romance  Drama  ...  \\\n",
       "0        1.0         1.0     1.0        0.0      0.0      0.0    0.0  ...   \n",
       "1        0.0         1.0     0.0        1.0      1.0      0.0    0.0  ...   \n",
       "2        0.0         0.0     1.0        0.0      0.0      1.0    0.0  ...   \n",
       "3        0.0         0.0     1.0        0.0      0.0      0.0    1.0  ...   \n",
       "4        0.0         0.0     1.0        0.0      0.0      0.0    0.0  ...   \n",
       "\n",
       "   Crime  Thriller  Horror  Sci-Fi  Documentary  War  Musical  Mystery  \\\n",
       "0    0.0       0.0     0.0     0.0          0.0  0.0      0.0      0.0   \n",
       "1    0.0       0.0     0.0     0.0          0.0  0.0      0.0      0.0   \n",
       "2    0.0       0.0     0.0     0.0          0.0  0.0      0.0      0.0   \n",
       "3    0.0       0.0     0.0     0.0          0.0  0.0      0.0      0.0   \n",
       "4    0.0       0.0     0.0     0.0          0.0  0.0      0.0      0.0   \n",
       "\n",
       "   Film-Noir  Western  \n",
       "0        0.0      0.0  \n",
       "1        0.0      0.0  \n",
       "2        0.0      0.0  \n",
       "3        0.0      0.0  \n",
       "4        0.0      0.0  \n",
       "\n",
       "[5 rows x 21 columns]"
      ]
     },
     "metadata": {},
     "output_type": "display_data"
    }
   ],
   "source": [
    "display(movies_split_genre.head(5))"
   ]
  },
  {
   "cell_type": "markdown",
   "metadata": {
    "slideshow": {
     "slide_type": "subslide"
    }
   },
   "source": [
    "### Extracción del año de la película usando ```replace()``` e ```index()```"
   ]
  },
  {
   "cell_type": "code",
   "execution_count": 17,
   "metadata": {
    "ExecuteTime": {
     "end_time": "2024-03-12T15:55:00.087013Z",
     "start_time": "2024-03-12T15:55:00.079476Z"
    },
    "slideshow": {
     "slide_type": "fragment"
    }
   },
   "outputs": [
    {
     "data": {
      "application/vnd.microsoft.datawrangler.viewer.v0+json": {
       "columns": [
        {
         "name": "index",
         "rawType": "int64",
         "type": "integer"
        },
        {
         "name": "MovieID",
         "rawType": "int64",
         "type": "integer"
        },
        {
         "name": "Title",
         "rawType": "object",
         "type": "string"
        },
        {
         "name": "Genre",
         "rawType": "object",
         "type": "string"
        }
       ],
       "conversionMethod": "pd.DataFrame",
       "ref": "9ffd027c-8163-445e-b586-db31fe1bc268",
       "rows": [
        [
         "0",
         "1",
         "Toy Story (1995)",
         "Animation|Children's|Comedy"
        ],
        [
         "1",
         "2",
         "Jumanji (1995)",
         "Adventure|Children's|Fantasy"
        ]
       ],
       "shape": {
        "columns": 3,
        "rows": 2
       }
      },
      "text/html": [
       "<div>\n",
       "<style scoped>\n",
       "    .dataframe tbody tr th:only-of-type {\n",
       "        vertical-align: middle;\n",
       "    }\n",
       "\n",
       "    .dataframe tbody tr th {\n",
       "        vertical-align: top;\n",
       "    }\n",
       "\n",
       "    .dataframe thead th {\n",
       "        text-align: right;\n",
       "    }\n",
       "</style>\n",
       "<table border=\"1\" class=\"dataframe\">\n",
       "  <thead>\n",
       "    <tr style=\"text-align: right;\">\n",
       "      <th></th>\n",
       "      <th>MovieID</th>\n",
       "      <th>Title</th>\n",
       "      <th>Genre</th>\n",
       "    </tr>\n",
       "  </thead>\n",
       "  <tbody>\n",
       "    <tr>\n",
       "      <th>0</th>\n",
       "      <td>1</td>\n",
       "      <td>Toy Story (1995)</td>\n",
       "      <td>Animation|Children's|Comedy</td>\n",
       "    </tr>\n",
       "    <tr>\n",
       "      <th>1</th>\n",
       "      <td>2</td>\n",
       "      <td>Jumanji (1995)</td>\n",
       "      <td>Adventure|Children's|Fantasy</td>\n",
       "    </tr>\n",
       "  </tbody>\n",
       "</table>\n",
       "</div>"
      ],
      "text/plain": [
       "   MovieID             Title                         Genre\n",
       "0        1  Toy Story (1995)   Animation|Children's|Comedy\n",
       "1        2    Jumanji (1995)  Adventure|Children's|Fantasy"
      ]
     },
     "execution_count": 17,
     "metadata": {},
     "output_type": "execute_result"
    }
   ],
   "source": [
    "movies_dataset.head(2)"
   ]
  },
  {
   "cell_type": "code",
   "execution_count": null,
   "metadata": {
    "ExecuteTime": {
     "end_time": "2024-03-12T15:58:47.757375Z",
     "start_time": "2024-03-12T15:58:47.745026Z"
    },
    "slideshow": {
     "slide_type": "fragment"
    }
   },
   "outputs": [
    {
     "data": {
      "application/vnd.microsoft.datawrangler.viewer.v0+json": {
       "columns": [
        {
         "name": "index",
         "rawType": "int64",
         "type": "integer"
        },
        {
         "name": "MovieID",
         "rawType": "int64",
         "type": "integer"
        },
        {
         "name": "Title",
         "rawType": "object",
         "type": "string"
        },
        {
         "name": "Genre",
         "rawType": "object",
         "type": "string"
        },
        {
         "name": "Year",
         "rawType": "object",
         "type": "string"
        }
       ],
       "conversionMethod": "pd.DataFrame",
       "ref": "8587052e-1ba2-49bf-bb92-c6af0b0aeb39",
       "rows": [
        [
         "2122",
         "2191",
         "Merry War, A (1997)",
         "Comedy",
         "1997"
        ],
        [
         "3479",
         "3548",
         "Auntie Mame (1958)",
         "Comedy|Drama",
         "1958"
        ]
       ],
       "shape": {
        "columns": 4,
        "rows": 2
       }
      },
      "text/html": [
       "<div>\n",
       "<style scoped>\n",
       "    .dataframe tbody tr th:only-of-type {\n",
       "        vertical-align: middle;\n",
       "    }\n",
       "\n",
       "    .dataframe tbody tr th {\n",
       "        vertical-align: top;\n",
       "    }\n",
       "\n",
       "    .dataframe thead th {\n",
       "        text-align: right;\n",
       "    }\n",
       "</style>\n",
       "<table border=\"1\" class=\"dataframe\">\n",
       "  <thead>\n",
       "    <tr style=\"text-align: right;\">\n",
       "      <th></th>\n",
       "      <th>MovieID</th>\n",
       "      <th>Title</th>\n",
       "      <th>Genre</th>\n",
       "      <th>Year</th>\n",
       "    </tr>\n",
       "  </thead>\n",
       "  <tbody>\n",
       "    <tr>\n",
       "      <th>2122</th>\n",
       "      <td>2191</td>\n",
       "      <td>Merry War, A (1997)</td>\n",
       "      <td>Comedy</td>\n",
       "      <td>1997</td>\n",
       "    </tr>\n",
       "    <tr>\n",
       "      <th>3479</th>\n",
       "      <td>3548</td>\n",
       "      <td>Auntie Mame (1958)</td>\n",
       "      <td>Comedy|Drama</td>\n",
       "      <td>1958</td>\n",
       "    </tr>\n",
       "  </tbody>\n",
       "</table>\n",
       "</div>"
      ],
      "text/plain": [
       "      MovieID                Title         Genre  Year\n",
       "2122     2191  Merry War, A (1997)        Comedy  1997\n",
       "3479     3548   Auntie Mame (1958)  Comedy|Drama  1958"
      ]
     },
     "metadata": {},
     "output_type": "display_data"
    }
   ],
   "source": [
    "# extraer el año de la columna Title\n",
    "def split_year(title):\n",
    "    index = title.index('(')  # establecemos el 'punto de partida' para sacar el año, usando el método index() para encontrar el primer paréntesis\n",
    "    return title[index:].replace('(','').replace(')','') #sustituimos los paréntesis por 'nada' con replace()\n",
    "    \n",
    "# crear nueva columna Year\n",
    "movies_dataset['Year'] = movies_dataset['Title'].apply(split_year) # aplicamos la función split_year() (acabada de crear) sobre la columna 'Title' y guardamos el resultado en la nueva columna 'Year'\n",
    "display(movies_dataset.sample(2))"
   ]
  },
  {
   "cell_type": "code",
   "execution_count": null,
   "metadata": {
    "ExecuteTime": {
     "end_time": "2024-03-12T15:58:56.521671Z",
     "start_time": "2024-03-12T15:58:56.509899Z"
    },
    "slideshow": {
     "slide_type": "fragment"
    }
   },
   "outputs": [
    {
     "data": {
      "application/vnd.microsoft.datawrangler.viewer.v0+json": {
       "columns": [
        {
         "name": "index",
         "rawType": "int64",
         "type": "integer"
        },
        {
         "name": "MovieID",
         "rawType": "int64",
         "type": "integer"
        },
        {
         "name": "Title",
         "rawType": "object",
         "type": "string"
        },
        {
         "name": "Genre",
         "rawType": "object",
         "type": "string"
        },
        {
         "name": "Year",
         "rawType": "object",
         "type": "string"
        }
       ],
       "conversionMethod": "pd.DataFrame",
       "ref": "cbb7beeb-3303-47c7-8f23-02b814a206c6",
       "rows": [
        [
         "0",
         "1",
         "Toy Story",
         "Animation|Children's|Comedy",
         "1995"
        ],
        [
         "1",
         "2",
         "Jumanji",
         "Adventure|Children's|Fantasy",
         "1995"
        ]
       ],
       "shape": {
        "columns": 4,
        "rows": 2
       }
      },
      "text/html": [
       "<div>\n",
       "<style scoped>\n",
       "    .dataframe tbody tr th:only-of-type {\n",
       "        vertical-align: middle;\n",
       "    }\n",
       "\n",
       "    .dataframe tbody tr th {\n",
       "        vertical-align: top;\n",
       "    }\n",
       "\n",
       "    .dataframe thead th {\n",
       "        text-align: right;\n",
       "    }\n",
       "</style>\n",
       "<table border=\"1\" class=\"dataframe\">\n",
       "  <thead>\n",
       "    <tr style=\"text-align: right;\">\n",
       "      <th></th>\n",
       "      <th>MovieID</th>\n",
       "      <th>Title</th>\n",
       "      <th>Genre</th>\n",
       "      <th>Year</th>\n",
       "    </tr>\n",
       "  </thead>\n",
       "  <tbody>\n",
       "    <tr>\n",
       "      <th>0</th>\n",
       "      <td>1</td>\n",
       "      <td>Toy Story</td>\n",
       "      <td>Animation|Children's|Comedy</td>\n",
       "      <td>1995</td>\n",
       "    </tr>\n",
       "    <tr>\n",
       "      <th>1</th>\n",
       "      <td>2</td>\n",
       "      <td>Jumanji</td>\n",
       "      <td>Adventure|Children's|Fantasy</td>\n",
       "      <td>1995</td>\n",
       "    </tr>\n",
       "  </tbody>\n",
       "</table>\n",
       "</div>"
      ],
      "text/plain": [
       "   MovieID      Title                         Genre  Year\n",
       "0        1  Toy Story   Animation|Children's|Comedy  1995\n",
       "1        2    Jumanji  Adventure|Children's|Fantasy  1995"
      ]
     },
     "execution_count": 19,
     "metadata": {},
     "output_type": "execute_result"
    }
   ],
   "source": [
    "# eliminar el año de la columna Title\n",
    "def remove_year(title):\n",
    "    index = title.index('(') # establecemos el 'punto de partida' para sacar el título, usando el método index() para encontrar el primer paréntesis\n",
    "    return title[:index-1].strip() # eliminamos el año y los espacios en blanco al principio y al final con strip()\n",
    "\n",
    "movies_dataset['Title'] = movies_dataset['Title'].apply(remove_year) # aplicamos la función remove_year() (acabada de crear) sobre la columna 'Title' para eliminar el año de los títulos\n",
    "movies_dataset.head(2)"
   ]
  },
  {
   "cell_type": "markdown",
   "metadata": {},
   "source": [
    "## Expresiones regulares\n",
    "https://docs.python.org/3/library/re.html\n",
    "\n",
    "- import re"
   ]
  },
  {
   "cell_type": "markdown",
   "metadata": {},
   "source": [
    "### ¿Cómo localizar que 'Zip-code' tiene un formato erróneo?"
   ]
  },
  {
   "cell_type": "code",
   "execution_count": null,
   "metadata": {
    "ExecuteTime": {
     "end_time": "2024-03-12T15:59:06.925538Z",
     "start_time": "2024-03-12T15:59:06.912094Z"
    },
    "slideshow": {
     "slide_type": "fragment"
    }
   },
   "outputs": [
    {
     "data": {
      "application/vnd.microsoft.datawrangler.viewer.v0+json": {
       "columns": [
        {
         "name": "UserID",
         "rawType": "int64",
         "type": "integer"
        },
        {
         "name": "Gender",
         "rawType": "object",
         "type": "string"
        },
        {
         "name": "Age",
         "rawType": "int64",
         "type": "integer"
        },
        {
         "name": "Occupation",
         "rawType": "int64",
         "type": "integer"
        },
        {
         "name": "Zip-code",
         "rawType": "object",
         "type": "string"
        }
       ],
       "conversionMethod": "pd.DataFrame",
       "ref": "64f0314d-1574-47a7-93bd-6b6926fd884e",
       "rows": [
        [
         "1105",
         "M",
         "35",
         "6",
         "48105"
        ],
        [
         "456",
         "M",
         "35",
         "0",
         "55105"
        ],
        [
         "4856",
         "M",
         "25",
         "7",
         "94110"
        ],
        [
         "1756",
         "F",
         "25",
         "1",
         "75149"
        ],
        [
         "1585",
         "M",
         "56",
         "20",
         "92315"
        ]
       ],
       "shape": {
        "columns": 4,
        "rows": 5
       }
      },
      "text/html": [
       "<div>\n",
       "<style scoped>\n",
       "    .dataframe tbody tr th:only-of-type {\n",
       "        vertical-align: middle;\n",
       "    }\n",
       "\n",
       "    .dataframe tbody tr th {\n",
       "        vertical-align: top;\n",
       "    }\n",
       "\n",
       "    .dataframe thead th {\n",
       "        text-align: right;\n",
       "    }\n",
       "</style>\n",
       "<table border=\"1\" class=\"dataframe\">\n",
       "  <thead>\n",
       "    <tr style=\"text-align: right;\">\n",
       "      <th></th>\n",
       "      <th>Gender</th>\n",
       "      <th>Age</th>\n",
       "      <th>Occupation</th>\n",
       "      <th>Zip-code</th>\n",
       "    </tr>\n",
       "    <tr>\n",
       "      <th>UserID</th>\n",
       "      <th></th>\n",
       "      <th></th>\n",
       "      <th></th>\n",
       "      <th></th>\n",
       "    </tr>\n",
       "  </thead>\n",
       "  <tbody>\n",
       "    <tr>\n",
       "      <th>1105</th>\n",
       "      <td>M</td>\n",
       "      <td>35</td>\n",
       "      <td>6</td>\n",
       "      <td>48105</td>\n",
       "    </tr>\n",
       "    <tr>\n",
       "      <th>456</th>\n",
       "      <td>M</td>\n",
       "      <td>35</td>\n",
       "      <td>0</td>\n",
       "      <td>55105</td>\n",
       "    </tr>\n",
       "    <tr>\n",
       "      <th>4856</th>\n",
       "      <td>M</td>\n",
       "      <td>25</td>\n",
       "      <td>7</td>\n",
       "      <td>94110</td>\n",
       "    </tr>\n",
       "    <tr>\n",
       "      <th>1756</th>\n",
       "      <td>F</td>\n",
       "      <td>25</td>\n",
       "      <td>1</td>\n",
       "      <td>75149</td>\n",
       "    </tr>\n",
       "    <tr>\n",
       "      <th>1585</th>\n",
       "      <td>M</td>\n",
       "      <td>56</td>\n",
       "      <td>20</td>\n",
       "      <td>92315</td>\n",
       "    </tr>\n",
       "  </tbody>\n",
       "</table>\n",
       "</div>"
      ],
      "text/plain": [
       "       Gender  Age  Occupation Zip-code\n",
       "UserID                                 \n",
       "1105        M   35           6    48105\n",
       "456         M   35           0    55105\n",
       "4856        M   25           7    94110\n",
       "1756        F   25           1    75149\n",
       "1585        M   56          20    92315"
      ]
     },
     "execution_count": 65,
     "metadata": {},
     "output_type": "execute_result"
    }
   ],
   "source": [
    "users_dataset.sample(5)\n",
    "\n",
    "# Formato válido:\n",
    "# ^\\d{5}$\n",
    "# Donde:\n",
    "# ^ = start of the string\n",
    "# \\d = decimal string\n",
    "# {5} = 5 repeticiones de decimales\n",
    "# $ = end of string"
   ]
  },
  {
   "cell_type": "code",
   "execution_count": 66,
   "metadata": {},
   "outputs": [
    {
     "data": {
      "application/vnd.microsoft.datawrangler.viewer.v0+json": {
       "columns": [
        {
         "name": "UserID",
         "rawType": "int64",
         "type": "integer"
        },
        {
         "name": "Gender",
         "rawType": "object",
         "type": "string"
        },
        {
         "name": "Age",
         "rawType": "int64",
         "type": "integer"
        },
        {
         "name": "Occupation",
         "rawType": "int64",
         "type": "integer"
        },
        {
         "name": "Zip-code",
         "rawType": "object",
         "type": "string"
        }
       ],
       "conversionMethod": "pd.DataFrame",
       "ref": "22108f1c-2f96-4b22-a367-853b5f3349db",
       "rows": [
        [
         "1",
         "F",
         "1",
         "10",
         "48067"
        ],
        [
         "2",
         "M",
         "56",
         "16",
         "70072"
        ],
        [
         "3",
         "M",
         "25",
         "15",
         "55117"
        ],
        [
         "4",
         "M",
         "45",
         "7",
         "02460"
        ],
        [
         "5",
         "M",
         "25",
         "20",
         "55455"
        ],
        [
         "6",
         "F",
         "50",
         "9",
         "55117"
        ],
        [
         "7",
         "M",
         "35",
         "1",
         "06810"
        ],
        [
         "8",
         "M",
         "25",
         "12",
         "11413"
        ],
        [
         "9",
         "M",
         "25",
         "17",
         "61614"
        ],
        [
         "10",
         "F",
         "35",
         "1",
         "95370"
        ],
        [
         "11",
         "F",
         "25",
         "1",
         "04093"
        ],
        [
         "12",
         "M",
         "25",
         "12",
         "32793"
        ],
        [
         "13",
         "M",
         "45",
         "1",
         "93304"
        ],
        [
         "14",
         "M",
         "35",
         "0",
         "60126"
        ],
        [
         "15",
         "M",
         "25",
         "7",
         "22903"
        ],
        [
         "16",
         "F",
         "35",
         "0",
         "20670"
        ],
        [
         "17",
         "M",
         "50",
         "1",
         "95350"
        ],
        [
         "18",
         "F",
         "18",
         "3",
         "95825"
        ],
        [
         "19",
         "M",
         "1",
         "10",
         "48073"
        ],
        [
         "20",
         "M",
         "25",
         "14",
         "55113"
        ],
        [
         "21",
         "M",
         "18",
         "16",
         "99353"
        ],
        [
         "22",
         "M",
         "18",
         "15",
         "53706"
        ],
        [
         "23",
         "M",
         "35",
         "0",
         "90049"
        ],
        [
         "24",
         "F",
         "25",
         "7",
         "10023"
        ],
        [
         "25",
         "M",
         "18",
         "4",
         "01609"
        ],
        [
         "26",
         "M",
         "25",
         "7",
         "23112"
        ],
        [
         "27",
         "M",
         "25",
         "11",
         "19130"
        ],
        [
         "28",
         "F",
         "25",
         "1",
         "14607"
        ],
        [
         "29",
         "M",
         "35",
         "7",
         "33407"
        ],
        [
         "30",
         "F",
         "35",
         "7",
         "19143"
        ],
        [
         "31",
         "M",
         "56",
         "7",
         "06840"
        ],
        [
         "32",
         "F",
         "25",
         "0",
         "19355"
        ],
        [
         "33",
         "M",
         "45",
         "3",
         "55421"
        ],
        [
         "34",
         "F",
         "18",
         "0",
         "02135"
        ],
        [
         "35",
         "M",
         "45",
         "1",
         "02482"
        ],
        [
         "36",
         "M",
         "25",
         "3",
         "94123"
        ],
        [
         "37",
         "F",
         "25",
         "9",
         "66212"
        ],
        [
         "38",
         "F",
         "18",
         "4",
         "02215"
        ],
        [
         "39",
         "M",
         "18",
         "4",
         "61820"
        ],
        [
         "40",
         "M",
         "45",
         "0",
         "10543"
        ],
        [
         "41",
         "F",
         "18",
         "4",
         "15116"
        ],
        [
         "42",
         "M",
         "25",
         "8",
         "24502"
        ],
        [
         "43",
         "M",
         "25",
         "12",
         "60614"
        ],
        [
         "44",
         "M",
         "45",
         "17",
         "98052"
        ],
        [
         "45",
         "F",
         "45",
         "16",
         "94110"
        ],
        [
         "46",
         "M",
         "18",
         "19",
         "75602"
        ],
        [
         "47",
         "M",
         "18",
         "4",
         "94305"
        ],
        [
         "48",
         "M",
         "25",
         "4",
         "92107"
        ],
        [
         "49",
         "M",
         "18",
         "12",
         "77084"
        ],
        [
         "50",
         "F",
         "25",
         "2",
         "98133"
        ]
       ],
       "shape": {
        "columns": 4,
        "rows": 5959
       }
      },
      "text/html": [
       "<div>\n",
       "<style scoped>\n",
       "    .dataframe tbody tr th:only-of-type {\n",
       "        vertical-align: middle;\n",
       "    }\n",
       "\n",
       "    .dataframe tbody tr th {\n",
       "        vertical-align: top;\n",
       "    }\n",
       "\n",
       "    .dataframe thead th {\n",
       "        text-align: right;\n",
       "    }\n",
       "</style>\n",
       "<table border=\"1\" class=\"dataframe\">\n",
       "  <thead>\n",
       "    <tr style=\"text-align: right;\">\n",
       "      <th></th>\n",
       "      <th>Gender</th>\n",
       "      <th>Age</th>\n",
       "      <th>Occupation</th>\n",
       "      <th>Zip-code</th>\n",
       "    </tr>\n",
       "    <tr>\n",
       "      <th>UserID</th>\n",
       "      <th></th>\n",
       "      <th></th>\n",
       "      <th></th>\n",
       "      <th></th>\n",
       "    </tr>\n",
       "  </thead>\n",
       "  <tbody>\n",
       "    <tr>\n",
       "      <th>1</th>\n",
       "      <td>F</td>\n",
       "      <td>1</td>\n",
       "      <td>10</td>\n",
       "      <td>48067</td>\n",
       "    </tr>\n",
       "    <tr>\n",
       "      <th>2</th>\n",
       "      <td>M</td>\n",
       "      <td>56</td>\n",
       "      <td>16</td>\n",
       "      <td>70072</td>\n",
       "    </tr>\n",
       "    <tr>\n",
       "      <th>3</th>\n",
       "      <td>M</td>\n",
       "      <td>25</td>\n",
       "      <td>15</td>\n",
       "      <td>55117</td>\n",
       "    </tr>\n",
       "    <tr>\n",
       "      <th>4</th>\n",
       "      <td>M</td>\n",
       "      <td>45</td>\n",
       "      <td>7</td>\n",
       "      <td>02460</td>\n",
       "    </tr>\n",
       "    <tr>\n",
       "      <th>5</th>\n",
       "      <td>M</td>\n",
       "      <td>25</td>\n",
       "      <td>20</td>\n",
       "      <td>55455</td>\n",
       "    </tr>\n",
       "    <tr>\n",
       "      <th>...</th>\n",
       "      <td>...</td>\n",
       "      <td>...</td>\n",
       "      <td>...</td>\n",
       "      <td>...</td>\n",
       "    </tr>\n",
       "    <tr>\n",
       "      <th>6036</th>\n",
       "      <td>F</td>\n",
       "      <td>25</td>\n",
       "      <td>15</td>\n",
       "      <td>32603</td>\n",
       "    </tr>\n",
       "    <tr>\n",
       "      <th>6037</th>\n",
       "      <td>F</td>\n",
       "      <td>45</td>\n",
       "      <td>1</td>\n",
       "      <td>76006</td>\n",
       "    </tr>\n",
       "    <tr>\n",
       "      <th>6038</th>\n",
       "      <td>F</td>\n",
       "      <td>56</td>\n",
       "      <td>1</td>\n",
       "      <td>14706</td>\n",
       "    </tr>\n",
       "    <tr>\n",
       "      <th>6039</th>\n",
       "      <td>F</td>\n",
       "      <td>45</td>\n",
       "      <td>0</td>\n",
       "      <td>01060</td>\n",
       "    </tr>\n",
       "    <tr>\n",
       "      <th>6040</th>\n",
       "      <td>M</td>\n",
       "      <td>25</td>\n",
       "      <td>6</td>\n",
       "      <td>11106</td>\n",
       "    </tr>\n",
       "  </tbody>\n",
       "</table>\n",
       "<p>5959 rows × 4 columns</p>\n",
       "</div>"
      ],
      "text/plain": [
       "       Gender  Age  Occupation Zip-code\n",
       "UserID                                 \n",
       "1           F    1          10    48067\n",
       "2           M   56          16    70072\n",
       "3           M   25          15    55117\n",
       "4           M   45           7    02460\n",
       "5           M   25          20    55455\n",
       "...       ...  ...         ...      ...\n",
       "6036        F   25          15    32603\n",
       "6037        F   45           1    76006\n",
       "6038        F   56           1    14706\n",
       "6039        F   45           0    01060\n",
       "6040        M   25           6    11106\n",
       "\n",
       "[5959 rows x 4 columns]"
      ]
     },
     "execution_count": 66,
     "metadata": {},
     "output_type": "execute_result"
    }
   ],
   "source": [
    "users_dataset[users_dataset['Zip-code'].str.match('^\\d{5}$') == True] # localizamos los códigos postales que cumplen con el formato correcto"
   ]
  },
  {
   "cell_type": "code",
   "execution_count": 67,
   "metadata": {},
   "outputs": [
    {
     "data": {
      "application/vnd.microsoft.datawrangler.viewer.v0+json": {
       "columns": [
        {
         "name": "UserID",
         "rawType": "int64",
         "type": "integer"
        },
        {
         "name": "Gender",
         "rawType": "object",
         "type": "string"
        },
        {
         "name": "Age",
         "rawType": "int64",
         "type": "integer"
        },
        {
         "name": "Occupation",
         "rawType": "int64",
         "type": "integer"
        },
        {
         "name": "Zip-code",
         "rawType": "object",
         "type": "string"
        }
       ],
       "conversionMethod": "pd.DataFrame",
       "ref": "4d4d75ef-4782-46e5-9a28-a9450d3a0c75",
       "rows": [
        [
         "161",
         "M",
         "45",
         "16",
         "98107-2117"
        ],
        [
         "233",
         "F",
         "45",
         "20",
         "37919-4204"
        ],
        [
         "293",
         "M",
         "56",
         "1",
         "55337-4056"
        ],
        [
         "458",
         "M",
         "50",
         "16",
         "55405-2546"
        ],
        [
         "506",
         "M",
         "25",
         "16",
         "55103-1006"
        ],
        [
         "541",
         "F",
         "18",
         "4",
         "5849574"
        ],
        [
         "567",
         "M",
         "35",
         "20",
         "52570-9634"
        ],
        [
         "868",
         "M",
         "50",
         "17",
         "01702-7224"
        ],
        [
         "913",
         "M",
         "25",
         "0",
         "20744-6223"
        ],
        [
         "939",
         "F",
         "25",
         "20",
         "20110-5616"
        ],
        [
         "946",
         "M",
         "35",
         "7",
         "48103-8929"
        ],
        [
         "1046",
         "M",
         "56",
         "18",
         "53404-1230"
        ],
        [
         "1081",
         "M",
         "18",
         "4",
         "68144-2410"
        ],
        [
         "1091",
         "M",
         "18",
         "5",
         "345567"
        ],
        [
         "1139",
         "M",
         "25",
         "1",
         "93420-2852"
        ],
        [
         "1201",
         "M",
         "18",
         "4",
         "84112-2004"
        ],
        [
         "1259",
         "M",
         "35",
         "7",
         "2020010"
        ],
        [
         "1434",
         "F",
         "1",
         "10",
         "495321"
        ],
        [
         "1463",
         "M",
         "50",
         "16",
         "92612-3417"
        ],
        [
         "1541",
         "M",
         "56",
         "17",
         "23464-3016"
        ],
        [
         "1577",
         "M",
         "56",
         "0",
         "72227-5733"
        ],
        [
         "1595",
         "M",
         "35",
         "1",
         "92683-1892"
        ],
        [
         "1673",
         "M",
         "1",
         "10",
         "98043-3621"
        ],
        [
         "1728",
         "M",
         "18",
         "4",
         "11710-1641"
        ],
        [
         "1758",
         "F",
         "25",
         "0",
         "33067-1400"
        ],
        [
         "2002",
         "F",
         "56",
         "13",
         "02136-1522"
        ],
        [
         "2087",
         "M",
         "25",
         "0",
         "37923-3112"
        ],
        [
         "2106",
         "F",
         "18",
         "20",
         "495321"
        ],
        [
         "2180",
         "M",
         "25",
         "12",
         "27713-9225"
        ],
        [
         "2210",
         "M",
         "45",
         "17",
         "88005-4313"
        ],
        [
         "2220",
         "F",
         "50",
         "3",
         "95451-9554"
        ],
        [
         "2313",
         "F",
         "50",
         "6",
         "48103-4711"
        ],
        [
         "2585",
         "M",
         "45",
         "15",
         "64081-8102"
        ],
        [
         "2592",
         "M",
         "50",
         "7",
         "80004-4448"
        ],
        [
         "2746",
         "M",
         "50",
         "14",
         "50265-2850"
        ],
        [
         "2853",
         "M",
         "1",
         "1",
         "444555"
        ],
        [
         "3162",
         "M",
         "25",
         "1",
         "08854-3115"
        ],
        [
         "3287",
         "M",
         "56",
         "13",
         "27514-3540"
        ],
        [
         "3308",
         "F",
         "18",
         "20",
         "15701-1348"
        ],
        [
         "3328",
         "M",
         "56",
         "19",
         "91790-1161"
        ],
        [
         "3333",
         "M",
         "18",
         "16",
         "29404-2205"
        ],
        [
         "3355",
         "M",
         "25",
         "1",
         "400060"
        ],
        [
         "3526",
         "M",
         "35",
         "2",
         "62263-3004"
        ],
        [
         "3738",
         "M",
         "45",
         "7",
         "01904-1355"
        ],
        [
         "3848",
         "M",
         "25",
         "15",
         "70809-2612"
        ],
        [
         "3905",
         "M",
         "25",
         "17",
         "361069"
        ],
        [
         "3938",
         "M",
         "25",
         "2",
         "92711-0571"
        ],
        [
         "3956",
         "M",
         "25",
         "0",
         "94930-2010"
        ],
        [
         "4012",
         "M",
         "18",
         "4",
         "49503-1313"
        ],
        [
         "4014",
         "M",
         "25",
         "0",
         "48316-5601"
        ]
       ],
       "shape": {
        "columns": 4,
        "rows": 81
       }
      },
      "text/html": [
       "<div>\n",
       "<style scoped>\n",
       "    .dataframe tbody tr th:only-of-type {\n",
       "        vertical-align: middle;\n",
       "    }\n",
       "\n",
       "    .dataframe tbody tr th {\n",
       "        vertical-align: top;\n",
       "    }\n",
       "\n",
       "    .dataframe thead th {\n",
       "        text-align: right;\n",
       "    }\n",
       "</style>\n",
       "<table border=\"1\" class=\"dataframe\">\n",
       "  <thead>\n",
       "    <tr style=\"text-align: right;\">\n",
       "      <th></th>\n",
       "      <th>Gender</th>\n",
       "      <th>Age</th>\n",
       "      <th>Occupation</th>\n",
       "      <th>Zip-code</th>\n",
       "    </tr>\n",
       "    <tr>\n",
       "      <th>UserID</th>\n",
       "      <th></th>\n",
       "      <th></th>\n",
       "      <th></th>\n",
       "      <th></th>\n",
       "    </tr>\n",
       "  </thead>\n",
       "  <tbody>\n",
       "    <tr>\n",
       "      <th>161</th>\n",
       "      <td>M</td>\n",
       "      <td>45</td>\n",
       "      <td>16</td>\n",
       "      <td>98107-2117</td>\n",
       "    </tr>\n",
       "    <tr>\n",
       "      <th>233</th>\n",
       "      <td>F</td>\n",
       "      <td>45</td>\n",
       "      <td>20</td>\n",
       "      <td>37919-4204</td>\n",
       "    </tr>\n",
       "    <tr>\n",
       "      <th>293</th>\n",
       "      <td>M</td>\n",
       "      <td>56</td>\n",
       "      <td>1</td>\n",
       "      <td>55337-4056</td>\n",
       "    </tr>\n",
       "    <tr>\n",
       "      <th>458</th>\n",
       "      <td>M</td>\n",
       "      <td>50</td>\n",
       "      <td>16</td>\n",
       "      <td>55405-2546</td>\n",
       "    </tr>\n",
       "    <tr>\n",
       "      <th>506</th>\n",
       "      <td>M</td>\n",
       "      <td>25</td>\n",
       "      <td>16</td>\n",
       "      <td>55103-1006</td>\n",
       "    </tr>\n",
       "    <tr>\n",
       "      <th>...</th>\n",
       "      <td>...</td>\n",
       "      <td>...</td>\n",
       "      <td>...</td>\n",
       "      <td>...</td>\n",
       "    </tr>\n",
       "    <tr>\n",
       "      <th>5682</th>\n",
       "      <td>M</td>\n",
       "      <td>18</td>\n",
       "      <td>0</td>\n",
       "      <td>23455-4959</td>\n",
       "    </tr>\n",
       "    <tr>\n",
       "      <th>5904</th>\n",
       "      <td>F</td>\n",
       "      <td>45</td>\n",
       "      <td>12</td>\n",
       "      <td>954025</td>\n",
       "    </tr>\n",
       "    <tr>\n",
       "      <th>5925</th>\n",
       "      <td>F</td>\n",
       "      <td>25</td>\n",
       "      <td>0</td>\n",
       "      <td>90035-4444</td>\n",
       "    </tr>\n",
       "    <tr>\n",
       "      <th>5967</th>\n",
       "      <td>M</td>\n",
       "      <td>50</td>\n",
       "      <td>16</td>\n",
       "      <td>73069-5429</td>\n",
       "    </tr>\n",
       "    <tr>\n",
       "      <th>5985</th>\n",
       "      <td>F</td>\n",
       "      <td>18</td>\n",
       "      <td>4</td>\n",
       "      <td>78705-5221</td>\n",
       "    </tr>\n",
       "  </tbody>\n",
       "</table>\n",
       "<p>81 rows × 4 columns</p>\n",
       "</div>"
      ],
      "text/plain": [
       "       Gender  Age  Occupation    Zip-code\n",
       "UserID                                    \n",
       "161         M   45          16  98107-2117\n",
       "233         F   45          20  37919-4204\n",
       "293         M   56           1  55337-4056\n",
       "458         M   50          16  55405-2546\n",
       "506         M   25          16  55103-1006\n",
       "...       ...  ...         ...         ...\n",
       "5682        M   18           0  23455-4959\n",
       "5904        F   45          12      954025\n",
       "5925        F   25           0  90035-4444\n",
       "5967        M   50          16  73069-5429\n",
       "5985        F   18           4  78705-5221\n",
       "\n",
       "[81 rows x 4 columns]"
      ]
     },
     "execution_count": 67,
     "metadata": {},
     "output_type": "execute_result"
    }
   ],
   "source": [
    "\n",
    "users_dataset[users_dataset['Zip-code'].str.match('^\\d{5}$') == False] # muestra los registros que no cumplen con el formato de 5 dígitos"
   ]
  },
  {
   "cell_type": "markdown",
   "metadata": {},
   "source": [
    "### ¿Cómo extraer el año con expresiones regulares usando el formato adecuado?"
   ]
  },
  {
   "cell_type": "code",
   "execution_count": null,
   "metadata": {
    "ExecuteTime": {
     "end_time": "2024-03-12T16:01:29.197004Z",
     "start_time": "2024-03-12T16:01:29.168947Z"
    }
   },
   "outputs": [
    {
     "data": {
      "application/vnd.microsoft.datawrangler.viewer.v0+json": {
       "columns": [
        {
         "name": "index",
         "rawType": "int64",
         "type": "integer"
        },
        {
         "name": "MovieID",
         "rawType": "int64",
         "type": "integer"
        },
        {
         "name": "Title",
         "rawType": "object",
         "type": "string"
        },
        {
         "name": "Genre",
         "rawType": "object",
         "type": "string"
        }
       ],
       "conversionMethod": "pd.DataFrame",
       "ref": "f513253d-e2c1-404e-b094-550de46c954f",
       "rows": [
        [
         "0",
         "1",
         "Toy Story (1995)",
         "Animation|Children's|Comedy"
        ],
        [
         "1",
         "2",
         "Jumanji (1995)",
         "Adventure|Children's|Fantasy"
        ]
       ],
       "shape": {
        "columns": 3,
        "rows": 2
       }
      },
      "text/html": [
       "<div>\n",
       "<style scoped>\n",
       "    .dataframe tbody tr th:only-of-type {\n",
       "        vertical-align: middle;\n",
       "    }\n",
       "\n",
       "    .dataframe tbody tr th {\n",
       "        vertical-align: top;\n",
       "    }\n",
       "\n",
       "    .dataframe thead th {\n",
       "        text-align: right;\n",
       "    }\n",
       "</style>\n",
       "<table border=\"1\" class=\"dataframe\">\n",
       "  <thead>\n",
       "    <tr style=\"text-align: right;\">\n",
       "      <th></th>\n",
       "      <th>MovieID</th>\n",
       "      <th>Title</th>\n",
       "      <th>Genre</th>\n",
       "    </tr>\n",
       "  </thead>\n",
       "  <tbody>\n",
       "    <tr>\n",
       "      <th>0</th>\n",
       "      <td>1</td>\n",
       "      <td>Toy Story (1995)</td>\n",
       "      <td>Animation|Children's|Comedy</td>\n",
       "    </tr>\n",
       "    <tr>\n",
       "      <th>1</th>\n",
       "      <td>2</td>\n",
       "      <td>Jumanji (1995)</td>\n",
       "      <td>Adventure|Children's|Fantasy</td>\n",
       "    </tr>\n",
       "  </tbody>\n",
       "</table>\n",
       "</div>"
      ],
      "text/plain": [
       "   MovieID             Title                         Genre\n",
       "0        1  Toy Story (1995)   Animation|Children's|Comedy\n",
       "1        2    Jumanji (1995)  Adventure|Children's|Fantasy"
      ]
     },
     "metadata": {},
     "output_type": "display_data"
    }
   ],
   "source": [
    "movies_dataset = pd.read_csv(os.path.join(root_path, \"movies.dat\"),sep='::', engine='python',encoding='latin-1',names=['MovieID','Title','Genre'])\n",
    "display(movies_dataset.head(2))\n",
    "\n",
    "# (\\d{4}) -> expresión regular para encontrar el año en el título\n",
    "# Donde:\n",
    "# (= busca apertura parentesis\n",
    "# \\d = decimal string\n",
    "# {4} = 4 repeticiones de decimales\n",
    "# ) = cierre de parentesis"
   ]
  },
  {
   "cell_type": "code",
   "execution_count": 69,
   "metadata": {},
   "outputs": [
    {
     "data": {
      "application/vnd.microsoft.datawrangler.viewer.v0+json": {
       "columns": [
        {
         "name": "index",
         "rawType": "int64",
         "type": "integer"
        },
        {
         "name": "0",
         "rawType": "object",
         "type": "string"
        }
       ],
       "conversionMethod": "pd.DataFrame",
       "ref": "c2be49fb-752e-42d9-b0d8-8c5bcf9e27f6",
       "rows": [
        [
         "0",
         "1995"
        ],
        [
         "1",
         "1995"
        ],
        [
         "2",
         "1995"
        ],
        [
         "3",
         "1995"
        ],
        [
         "4",
         "1995"
        ],
        [
         "5",
         "1995"
        ],
        [
         "6",
         "1995"
        ],
        [
         "7",
         "1995"
        ],
        [
         "8",
         "1995"
        ],
        [
         "9",
         "1995"
        ],
        [
         "10",
         "1995"
        ],
        [
         "11",
         "1995"
        ],
        [
         "12",
         "1995"
        ],
        [
         "13",
         "1995"
        ],
        [
         "14",
         "1995"
        ],
        [
         "15",
         "1995"
        ],
        [
         "16",
         "1995"
        ],
        [
         "17",
         "1995"
        ],
        [
         "18",
         "1995"
        ],
        [
         "19",
         "1995"
        ],
        [
         "20",
         "1995"
        ],
        [
         "21",
         "1995"
        ],
        [
         "22",
         "1995"
        ],
        [
         "23",
         "1995"
        ],
        [
         "24",
         "1995"
        ],
        [
         "25",
         "1995"
        ],
        [
         "26",
         "1995"
        ],
        [
         "27",
         "1995"
        ],
        [
         "28",
         "1995"
        ],
        [
         "29",
         "1995"
        ],
        [
         "30",
         "1995"
        ],
        [
         "31",
         "1995"
        ],
        [
         "32",
         "1995"
        ],
        [
         "33",
         "1995"
        ],
        [
         "34",
         "1995"
        ],
        [
         "35",
         "1995"
        ],
        [
         "36",
         "1995"
        ],
        [
         "37",
         "1995"
        ],
        [
         "38",
         "1995"
        ],
        [
         "39",
         "1995"
        ],
        [
         "40",
         "1995"
        ],
        [
         "41",
         "1995"
        ],
        [
         "42",
         "1995"
        ],
        [
         "43",
         "1995"
        ],
        [
         "44",
         "1995"
        ],
        [
         "45",
         "1995"
        ],
        [
         "46",
         "1995"
        ],
        [
         "47",
         "1995"
        ],
        [
         "48",
         "1995"
        ],
        [
         "49",
         "1995"
        ]
       ],
       "shape": {
        "columns": 1,
        "rows": 3883
       }
      },
      "text/html": [
       "<div>\n",
       "<style scoped>\n",
       "    .dataframe tbody tr th:only-of-type {\n",
       "        vertical-align: middle;\n",
       "    }\n",
       "\n",
       "    .dataframe tbody tr th {\n",
       "        vertical-align: top;\n",
       "    }\n",
       "\n",
       "    .dataframe thead th {\n",
       "        text-align: right;\n",
       "    }\n",
       "</style>\n",
       "<table border=\"1\" class=\"dataframe\">\n",
       "  <thead>\n",
       "    <tr style=\"text-align: right;\">\n",
       "      <th></th>\n",
       "      <th>0</th>\n",
       "    </tr>\n",
       "  </thead>\n",
       "  <tbody>\n",
       "    <tr>\n",
       "      <th>0</th>\n",
       "      <td>1995</td>\n",
       "    </tr>\n",
       "    <tr>\n",
       "      <th>1</th>\n",
       "      <td>1995</td>\n",
       "    </tr>\n",
       "    <tr>\n",
       "      <th>2</th>\n",
       "      <td>1995</td>\n",
       "    </tr>\n",
       "    <tr>\n",
       "      <th>3</th>\n",
       "      <td>1995</td>\n",
       "    </tr>\n",
       "    <tr>\n",
       "      <th>4</th>\n",
       "      <td>1995</td>\n",
       "    </tr>\n",
       "    <tr>\n",
       "      <th>...</th>\n",
       "      <td>...</td>\n",
       "    </tr>\n",
       "    <tr>\n",
       "      <th>3878</th>\n",
       "      <td>2000</td>\n",
       "    </tr>\n",
       "    <tr>\n",
       "      <th>3879</th>\n",
       "      <td>2000</td>\n",
       "    </tr>\n",
       "    <tr>\n",
       "      <th>3880</th>\n",
       "      <td>2000</td>\n",
       "    </tr>\n",
       "    <tr>\n",
       "      <th>3881</th>\n",
       "      <td>2000</td>\n",
       "    </tr>\n",
       "    <tr>\n",
       "      <th>3882</th>\n",
       "      <td>2000</td>\n",
       "    </tr>\n",
       "  </tbody>\n",
       "</table>\n",
       "<p>3883 rows × 1 columns</p>\n",
       "</div>"
      ],
      "text/plain": [
       "         0\n",
       "0     1995\n",
       "1     1995\n",
       "2     1995\n",
       "3     1995\n",
       "4     1995\n",
       "...    ...\n",
       "3878  2000\n",
       "3879  2000\n",
       "3880  2000\n",
       "3881  2000\n",
       "3882  2000\n",
       "\n",
       "[3883 rows x 1 columns]"
      ]
     },
     "execution_count": 69,
     "metadata": {},
     "output_type": "execute_result"
    }
   ],
   "source": [
    "movies_dataset['Title'].str.extract('(\\d{4})') # extraemos los años de la columna 'Title' "
   ]
  },
  {
   "cell_type": "markdown",
   "metadata": {},
   "source": [
    "### Usando la librería ```re```"
   ]
  },
  {
   "cell_type": "markdown",
   "metadata": {},
   "source": [
    "La expresión regular del código siguiente se debe interpretar cómo:   \n",
    "- r\"^ = inicio de la cadena, \n",
    "- ( = agrupación, \n",
    "- (?! = negación de la siguiente expresión, \n",
    "- English = la palabra 'English', \n",
    "- . = cualquier carácter, \n",
    "- )* = cualquier cantidad de veces, \n",
    "- $ = fin de la cadena"
   ]
  },
  {
   "cell_type": "code",
   "execution_count": null,
   "metadata": {},
   "outputs": [
    {
     "name": "stdout",
     "output_type": "stream",
     "text": [
      "<re.Match object; span=(40, 59), match='Spanish 101 Class D'>\n",
      "<re.Match object; span=(60, 79), match='Italian 201 Class E'>\n",
      "<re.Match object; span=(80, 98), match='French 101 Class F'>\n",
      "<re.Match object; span=(99, 99), match=''>\n",
      "<re.Match object; span=(99, 99), match=''>\n"
     ]
    }
   ],
   "source": [
    "import re  # importamos el módulo 're' para trabajar con expresiones regulares\n",
    "\n",
    "test_str = (\"English 101 Class A\\n\"\n",
    "\t\"English 201 Class B\\n\"\n",
    "\t\"Spanish 101 Class D\\n\"\n",
    "\t\"Italian 201 Class E\\n\"\n",
    "\t\"French 101 Class F\\n\")\n",
    "\n",
    "def searchAllButEnglish(text):\n",
    "  regex = r\"^((?!English).)*$\"                      # expresión regular para encontrar todas las clases excepto las de inglés. \n",
    "  matches = re.finditer(regex, text, re.MULTILINE)  # buscamos todas las coincidencias en el texto\n",
    "  for match in matches:                             # iteramos sobre las coincidencias\n",
    "    print(match)                                    # imprimimos la coincidencia\n",
    "  return match\n",
    "print(searchAllButEnglish(test_str))"
   ]
  },
  {
   "cell_type": "markdown",
   "metadata": {},
   "source": [
    "#### Ejemplo sencillo del uso de ```re```para expresiones regulares"
   ]
  },
  {
   "cell_type": "code",
   "execution_count": 86,
   "metadata": {},
   "outputs": [
    {
     "name": "stdout",
     "output_type": "stream",
     "text": [
      "['Perro', 'perro']\n"
     ]
    }
   ],
   "source": [
    "texto= \"Este es mi texto de prueba en el que voy a querer cambiar unas palabras por Perro. Simplemente buscado coincidencias para perro\";\n",
    "\n",
    "regex= r\"[Pp]erro\" # expresión regular para encontrar la palabra 'perro' o 'Perro'\n",
    "\n",
    "matches = re.findall(regex,texto) # buscamos todas las coincidencias en el texto\n",
    "print(matches)"
   ]
  },
  {
   "cell_type": "markdown",
   "metadata": {
    "slideshow": {
     "slide_type": "slide"
    }
   },
   "source": [
    "## Operaciones con colecciones\n",
    "\n",
    "- ```reduce```: aplicar una operación y retornar un valor\n",
    "- ```filter```: retorna una secuencia con elementos que cumplen una condición\n",
    "- ```map```: aplicar  una operación y retornar una secuencia"
   ]
  },
  {
   "cell_type": "markdown",
   "metadata": {
    "slideshow": {
     "slide_type": "subslide"
    }
   },
   "source": [
    "\n",
    "### Reduce\n",
    "- Aplicar una operación matemática a cada uno de los elementos de una colección\n",
    "- Diferente de 'apply()' porque retorna un valor numérico\n",
    "- Ejemplo: Detección de géneros en años específicos\n",
    "\n",
    "https://docs.python.org/3/library/functools.html"
   ]
  },
  {
   "cell_type": "markdown",
   "metadata": {},
   "source": [
    "```reduce``` es muy útil cuando queremos realizar ciertas operaciones sobre una lista y devolver su resultado.    \n",
    "Por ejemplo, si queremos calcular la suma de todos los elementos de una lista, y devolver un único valor, podríamos hacerlo de la siguiente forma usando ```reduce```:"
   ]
  },
  {
   "cell_type": "code",
   "execution_count": null,
   "metadata": {
    "ExecuteTime": {
     "end_time": "2024-03-12T16:01:59.388658Z",
     "start_time": "2024-03-12T16:01:59.384758Z"
    }
   },
   "outputs": [
    {
     "name": "stdout",
     "output_type": "stream",
     "text": [
      "25\n"
     ]
    }
   ],
   "source": [
    "from functools import reduce # necesario para reduce\n",
    "\n",
    "lista = [1, 3, 5, 7, 9]\n",
    "print(reduce(lambda x,y: x + y, lista)) # suma de todos los elementos de la lista"
   ]
  },
  {
   "cell_type": "markdown",
   "metadata": {},
   "source": [
    "Preparamos un nuevo ejemplo en el que, primero localizamos y creamos un dataset con las películas del año 1975"
   ]
  },
  {
   "cell_type": "code",
   "execution_count": 101,
   "metadata": {
    "ExecuteTime": {
     "end_time": "2024-03-12T16:02:38.643757Z",
     "start_time": "2024-03-12T16:02:38.621690Z"
    },
    "scrolled": true,
    "slideshow": {
     "slide_type": "fragment"
    }
   },
   "outputs": [
    {
     "data": {
      "application/vnd.microsoft.datawrangler.viewer.v0+json": {
       "columns": [
        {
         "name": "index",
         "rawType": "int64",
         "type": "integer"
        },
        {
         "name": "MovieID",
         "rawType": "int64",
         "type": "integer"
        },
        {
         "name": "Title",
         "rawType": "object",
         "type": "string"
        },
        {
         "name": "Genre",
         "rawType": "object",
         "type": "string"
        },
        {
         "name": "Animation",
         "rawType": "float64",
         "type": "float"
        },
        {
         "name": "Children's",
         "rawType": "float64",
         "type": "float"
        },
        {
         "name": "Comedy",
         "rawType": "float64",
         "type": "float"
        },
        {
         "name": "Adventure",
         "rawType": "float64",
         "type": "float"
        },
        {
         "name": "Fantasy",
         "rawType": "float64",
         "type": "float"
        },
        {
         "name": "Romance",
         "rawType": "float64",
         "type": "float"
        },
        {
         "name": "Drama",
         "rawType": "float64",
         "type": "float"
        },
        {
         "name": "Action",
         "rawType": "float64",
         "type": "float"
        },
        {
         "name": "Crime",
         "rawType": "float64",
         "type": "float"
        },
        {
         "name": "Thriller",
         "rawType": "float64",
         "type": "float"
        },
        {
         "name": "Horror",
         "rawType": "float64",
         "type": "float"
        },
        {
         "name": "Sci-Fi",
         "rawType": "float64",
         "type": "float"
        },
        {
         "name": "Documentary",
         "rawType": "float64",
         "type": "float"
        },
        {
         "name": "War",
         "rawType": "float64",
         "type": "float"
        },
        {
         "name": "Musical",
         "rawType": "float64",
         "type": "float"
        },
        {
         "name": "Mystery",
         "rawType": "float64",
         "type": "float"
        },
        {
         "name": "Film-Noir",
         "rawType": "float64",
         "type": "float"
        },
        {
         "name": "Western",
         "rawType": "float64",
         "type": "float"
        }
       ],
       "conversionMethod": "pd.DataFrame",
       "ref": "0b0432a3-03bb-44a1-a57e-f25f5c26ffb9",
       "rows": [
        [
         "707",
         "716",
         "Switchblade Sisters (1975)",
         "Crime",
         "0.0",
         "0.0",
         "0.0",
         "0.0",
         "0.0",
         "0.0",
         "0.0",
         "0.0",
         "1.0",
         "0.0",
         "0.0",
         "0.0",
         "0.0",
         "0.0",
         "0.0",
         "0.0",
         "0.0",
         "0.0"
        ],
        [
         "994",
         "1007",
         "Apple Dumpling Gang, The (1975)",
         "Children's|Comedy|Western",
         "0.0",
         "1.0",
         "1.0",
         "0.0",
         "0.0",
         "0.0",
         "0.0",
         "0.0",
         "0.0",
         "0.0",
         "0.0",
         "0.0",
         "0.0",
         "0.0",
         "0.0",
         "0.0",
         "0.0",
         "1.0"
        ],
        [
         "996",
         "1009",
         "Escape to Witch Mountain (1975)",
         "Adventure|Children's|Fantasy",
         "0.0",
         "1.0",
         "0.0",
         "1.0",
         "1.0",
         "0.0",
         "0.0",
         "0.0",
         "0.0",
         "0.0",
         "0.0",
         "0.0",
         "0.0",
         "0.0",
         "0.0",
         "0.0",
         "0.0",
         "0.0"
        ]
       ],
       "shape": {
        "columns": 21,
        "rows": 3
       }
      },
      "text/html": [
       "<div>\n",
       "<style scoped>\n",
       "    .dataframe tbody tr th:only-of-type {\n",
       "        vertical-align: middle;\n",
       "    }\n",
       "\n",
       "    .dataframe tbody tr th {\n",
       "        vertical-align: top;\n",
       "    }\n",
       "\n",
       "    .dataframe thead th {\n",
       "        text-align: right;\n",
       "    }\n",
       "</style>\n",
       "<table border=\"1\" class=\"dataframe\">\n",
       "  <thead>\n",
       "    <tr style=\"text-align: right;\">\n",
       "      <th></th>\n",
       "      <th>MovieID</th>\n",
       "      <th>Title</th>\n",
       "      <th>Genre</th>\n",
       "      <th>Animation</th>\n",
       "      <th>Children's</th>\n",
       "      <th>Comedy</th>\n",
       "      <th>Adventure</th>\n",
       "      <th>Fantasy</th>\n",
       "      <th>Romance</th>\n",
       "      <th>Drama</th>\n",
       "      <th>...</th>\n",
       "      <th>Crime</th>\n",
       "      <th>Thriller</th>\n",
       "      <th>Horror</th>\n",
       "      <th>Sci-Fi</th>\n",
       "      <th>Documentary</th>\n",
       "      <th>War</th>\n",
       "      <th>Musical</th>\n",
       "      <th>Mystery</th>\n",
       "      <th>Film-Noir</th>\n",
       "      <th>Western</th>\n",
       "    </tr>\n",
       "  </thead>\n",
       "  <tbody>\n",
       "    <tr>\n",
       "      <th>707</th>\n",
       "      <td>716</td>\n",
       "      <td>Switchblade Sisters (1975)</td>\n",
       "      <td>Crime</td>\n",
       "      <td>0.0</td>\n",
       "      <td>0.0</td>\n",
       "      <td>0.0</td>\n",
       "      <td>0.0</td>\n",
       "      <td>0.0</td>\n",
       "      <td>0.0</td>\n",
       "      <td>0.0</td>\n",
       "      <td>...</td>\n",
       "      <td>1.0</td>\n",
       "      <td>0.0</td>\n",
       "      <td>0.0</td>\n",
       "      <td>0.0</td>\n",
       "      <td>0.0</td>\n",
       "      <td>0.0</td>\n",
       "      <td>0.0</td>\n",
       "      <td>0.0</td>\n",
       "      <td>0.0</td>\n",
       "      <td>0.0</td>\n",
       "    </tr>\n",
       "    <tr>\n",
       "      <th>994</th>\n",
       "      <td>1007</td>\n",
       "      <td>Apple Dumpling Gang, The (1975)</td>\n",
       "      <td>Children's|Comedy|Western</td>\n",
       "      <td>0.0</td>\n",
       "      <td>1.0</td>\n",
       "      <td>1.0</td>\n",
       "      <td>0.0</td>\n",
       "      <td>0.0</td>\n",
       "      <td>0.0</td>\n",
       "      <td>0.0</td>\n",
       "      <td>...</td>\n",
       "      <td>0.0</td>\n",
       "      <td>0.0</td>\n",
       "      <td>0.0</td>\n",
       "      <td>0.0</td>\n",
       "      <td>0.0</td>\n",
       "      <td>0.0</td>\n",
       "      <td>0.0</td>\n",
       "      <td>0.0</td>\n",
       "      <td>0.0</td>\n",
       "      <td>1.0</td>\n",
       "    </tr>\n",
       "    <tr>\n",
       "      <th>996</th>\n",
       "      <td>1009</td>\n",
       "      <td>Escape to Witch Mountain (1975)</td>\n",
       "      <td>Adventure|Children's|Fantasy</td>\n",
       "      <td>0.0</td>\n",
       "      <td>1.0</td>\n",
       "      <td>0.0</td>\n",
       "      <td>1.0</td>\n",
       "      <td>1.0</td>\n",
       "      <td>0.0</td>\n",
       "      <td>0.0</td>\n",
       "      <td>...</td>\n",
       "      <td>0.0</td>\n",
       "      <td>0.0</td>\n",
       "      <td>0.0</td>\n",
       "      <td>0.0</td>\n",
       "      <td>0.0</td>\n",
       "      <td>0.0</td>\n",
       "      <td>0.0</td>\n",
       "      <td>0.0</td>\n",
       "      <td>0.0</td>\n",
       "      <td>0.0</td>\n",
       "    </tr>\n",
       "  </tbody>\n",
       "</table>\n",
       "<p>3 rows × 21 columns</p>\n",
       "</div>"
      ],
      "text/plain": [
       "     MovieID                            Title                         Genre  \\\n",
       "707      716       Switchblade Sisters (1975)                         Crime   \n",
       "994     1007  Apple Dumpling Gang, The (1975)     Children's|Comedy|Western   \n",
       "996     1009  Escape to Witch Mountain (1975)  Adventure|Children's|Fantasy   \n",
       "\n",
       "     Animation  Children's  Comedy  Adventure  Fantasy  Romance  Drama  ...  \\\n",
       "707        0.0         0.0     0.0        0.0      0.0      0.0    0.0  ...   \n",
       "994        0.0         1.0     1.0        0.0      0.0      0.0    0.0  ...   \n",
       "996        0.0         1.0     0.0        1.0      1.0      0.0    0.0  ...   \n",
       "\n",
       "     Crime  Thriller  Horror  Sci-Fi  Documentary  War  Musical  Mystery  \\\n",
       "707    1.0       0.0     0.0     0.0          0.0  0.0      0.0      0.0   \n",
       "994    0.0       0.0     0.0     0.0          0.0  0.0      0.0      0.0   \n",
       "996    0.0       0.0     0.0     0.0          0.0  0.0      0.0      0.0   \n",
       "\n",
       "     Film-Noir  Western  \n",
       "707        0.0      0.0  \n",
       "994        0.0      1.0  \n",
       "996        0.0      0.0  \n",
       "\n",
       "[3 rows x 21 columns]"
      ]
     },
     "execution_count": 101,
     "metadata": {},
     "output_type": "execute_result"
    }
   ],
   "source": [
    "movies_1975 = movies_split_genre[ movies_split_genre['Title'].str.contains('1975') ]\n",
    "movies_1975.head(3)"
   ]
  },
  {
   "cell_type": "markdown",
   "metadata": {},
   "source": [
    "Ahora vamos a averiguar si existe alguna película que pertenezca al género \"Drama\" dentro de ese dataset"
   ]
  },
  {
   "cell_type": "code",
   "execution_count": 102,
   "metadata": {
    "ExecuteTime": {
     "end_time": "2024-03-12T16:02:51.125914Z",
     "start_time": "2024-03-12T16:02:51.120788Z"
    },
    "slideshow": {
     "slide_type": "subslide"
    }
   },
   "outputs": [
    {
     "name": "stdout",
     "output_type": "stream",
     "text": [
      "True\n"
     ]
    }
   ],
   "source": [
    "any_drama = reduce(lambda x,y : bool(x) | bool(y),movies_1975['Drama']) # hay algún drama en 1975\n",
    "print(any_drama)\n",
    "\n"
   ]
  },
  {
   "cell_type": "markdown",
   "metadata": {},
   "source": [
    "En el siguiente bloque de código se comprueba si todas las películas del año 1975 son del género \"Comedy\""
   ]
  },
  {
   "cell_type": "code",
   "execution_count": 103,
   "metadata": {},
   "outputs": [
    {
     "name": "stdout",
     "output_type": "stream",
     "text": [
      "False\n"
     ]
    }
   ],
   "source": [
    "all_comedy = reduce(lambda x,y : bool(x) & bool(y),movies_1975['Comedy']) # son todas las películas de 1975 comedias?\n",
    "print(all_comedy)"
   ]
  },
  {
   "cell_type": "markdown",
   "metadata": {},
   "source": [
    "La siguiente línea nos permite saber ***si existe algún valor*** que cumpla la condición de ser del género seleccionado"
   ]
  },
  {
   "cell_type": "code",
   "execution_count": 104,
   "metadata": {
    "ExecuteTime": {
     "end_time": "2024-03-12T16:03:44.789849Z",
     "start_time": "2024-03-12T16:03:44.785344Z"
    }
   },
   "outputs": [
    {
     "name": "stdout",
     "output_type": "stream",
     "text": [
      "True\n"
     ]
    }
   ],
   "source": [
    "print(movies_1975['Drama'].any()) # Comprueba si hay algún valor que puede cumplir  "
   ]
  },
  {
   "cell_type": "markdown",
   "metadata": {},
   "source": [
    "En el siguiente caso, la comprobación es ***si todos los valores*** del dataset cumplen la condición de ser del género \"Comedy\""
   ]
  },
  {
   "cell_type": "code",
   "execution_count": 105,
   "metadata": {},
   "outputs": [
    {
     "name": "stdout",
     "output_type": "stream",
     "text": [
      "False\n"
     ]
    }
   ],
   "source": [
    "print(movies_1975['Comedy'].all()) # Comprueba si todos los valores son True"
   ]
  },
  {
   "cell_type": "markdown",
   "metadata": {},
   "source": [
    "Ahora comprobaremos el número de entradas que existe en el dataset que cumplan la condición de tener el género \"Comedy\""
   ]
  },
  {
   "cell_type": "code",
   "execution_count": 106,
   "metadata": {
    "ExecuteTime": {
     "end_time": "2024-03-12T16:03:48.524791Z",
     "start_time": "2024-03-12T16:03:48.518573Z"
    },
    "slideshow": {
     "slide_type": "subslide"
    }
   },
   "outputs": [
    {
     "name": "stdout",
     "output_type": "stream",
     "text": [
      "MovieID          int64\n",
      "Title           object\n",
      "Genre           object\n",
      "Animation      float64\n",
      "Children's     float64\n",
      "Comedy         float64\n",
      "Adventure      float64\n",
      "Fantasy        float64\n",
      "Romance        float64\n",
      "Drama          float64\n",
      "Action         float64\n",
      "Crime          float64\n",
      "Thriller       float64\n",
      "Horror         float64\n",
      "Sci-Fi         float64\n",
      "Documentary    float64\n",
      "War            float64\n",
      "Musical        float64\n",
      "Mystery        float64\n",
      "Film-Noir      float64\n",
      "Western        float64\n",
      "dtype: object\n"
     ]
    }
   ],
   "source": [
    "# Observar el tipo de dato antes para ver si es posible aplicar las funciones\n",
    "print(movies_1975.dtypes)"
   ]
  },
  {
   "cell_type": "code",
   "execution_count": 108,
   "metadata": {},
   "outputs": [
    {
     "name": "stdout",
     "output_type": "stream",
     "text": [
      "707     0.0\n",
      "994     1.0\n",
      "996     0.0\n",
      "1176    0.0\n",
      "1283    0.0\n",
      "1366    0.0\n",
      "1844    0.0\n",
      "2170    1.0\n",
      "2234    0.0\n",
      "2277    0.0\n",
      "2452    0.0\n",
      "2588    1.0\n",
      "2661    0.0\n",
      "2750    0.0\n",
      "2808    0.0\n",
      "2912    0.0\n",
      "3030    1.0\n",
      "3243    0.0\n",
      "3293    1.0\n",
      "3346    0.0\n",
      "3416    0.0\n",
      "3745    1.0\n",
      "Name: Comedy, dtype: float64\n"
     ]
    }
   ],
   "source": [
    "print(movies_1975['Comedy']) # esto muestra por pantalla la columna 'Comedy'"
   ]
  },
  {
   "cell_type": "code",
   "execution_count": null,
   "metadata": {},
   "outputs": [
    {
     "name": "stdout",
     "output_type": "stream",
     "text": [
      "Comedy\n",
      "0.0    16\n",
      "1.0     6\n",
      "Name: count, dtype: int64\n"
     ]
    }
   ],
   "source": [
    "print(movies_1975['Comedy'].value_counts()) # esto muestra por pantalla la cantidad de entradas únicas en la columna 'Comedy' (con valor 1.0) = 6 entradas."
   ]
  },
  {
   "cell_type": "markdown",
   "metadata": {
    "slideshow": {
     "slide_type": "subslide"
    }
   },
   "source": [
    "### Filter   \n",
    "\n",
    "La función ```filter``` crea una lista de elementos si usados en la llamada a una función devuelven ```True``` Es decir, filtra los elementos de una lista usando un determinado criterio.\n",
    "\n",
    "- retorna una secuencia con elementos que cumplen una condición.    \n",
    "\n",
    "La función ```filter``` es similar a un bucle ( se podría conseguir lo mismo con un bucle y un ```if```) pero su uso es más rápido.\n"
   ]
  },
  {
   "cell_type": "code",
   "execution_count": 112,
   "metadata": {},
   "outputs": [
    {
     "name": "stdout",
     "output_type": "stream",
     "text": [
      "[-5, -4, -3, -2, -1]\n"
     ]
    }
   ],
   "source": [
    "lista = range(-5, 5)\n",
    "menor_cero = list(filter(lambda x: x < 0, lista))\n",
    "print(menor_cero)"
   ]
  },
  {
   "cell_type": "markdown",
   "metadata": {},
   "source": [
    "Para nuestro dataset de películas: obtener las películas de 1975 que contienen 'The' en el título"
   ]
  },
  {
   "cell_type": "code",
   "execution_count": 113,
   "metadata": {
    "ExecuteTime": {
     "end_time": "2024-03-12T16:04:07.377840Z",
     "start_time": "2024-03-12T16:04:07.373087Z"
    },
    "slideshow": {
     "slide_type": "fragment"
    }
   },
   "outputs": [
    {
     "data": {
      "text/plain": [
       "['Apple Dumpling Gang, The (1975)',\n",
       " 'Man Who Would Be King, The (1975)',\n",
       " 'Stepford Wives, The (1975)',\n",
       " 'Rocky Horror Picture Show, The (1975)',\n",
       " 'McCullochs, The (1975)',\n",
       " 'Mirror, The (Zerkalo) (1975)']"
      ]
     },
     "execution_count": 113,
     "metadata": {},
     "output_type": "execute_result"
    }
   ],
   "source": [
    "filtro = filter(lambda x : 'The' in x, movies_1975['Title']) # filtramos las películas de 1975 que contienen 'The' en el título.\n",
    "list(filtro)"
   ]
  },
  {
   "cell_type": "markdown",
   "metadata": {
    "slideshow": {
     "slide_type": "subslide"
    }
   },
   "source": [
    "### Map   \n",
    "\n",
    "El uso de ```map``` aplica una determinada función/operación a todos los elementos de una entrada o lista, retornando una secuencia. Esta es su forma:   \n",
    "\n",
    "```map(funcion_a_aplicar, lista_de_entradas)```\n",
    "\n",
    "Un sencillo ejemplo:"
   ]
  },
  {
   "cell_type": "code",
   "execution_count": 114,
   "metadata": {},
   "outputs": [
    {
     "name": "stdout",
     "output_type": "stream",
     "text": [
      "[1, 4, 9, 16, 25]\n"
     ]
    }
   ],
   "source": [
    "lista = [1, 2, 3, 4, 5]\n",
    "al_cuadrado = list(map(lambda x: x**2, lista))\n",
    "print(al_cuadrado)"
   ]
  },
  {
   "cell_type": "markdown",
   "metadata": {},
   "source": [
    "De nuevo, sobre el dataset películas, se desea cambiar el valor integral de la columna 'Comedy' por bool:"
   ]
  },
  {
   "cell_type": "code",
   "execution_count": null,
   "metadata": {
    "ExecuteTime": {
     "end_time": "2024-03-12T16:04:24.786395Z",
     "start_time": "2024-03-12T16:04:24.764920Z"
    },
    "scrolled": true,
    "slideshow": {
     "slide_type": "fragment"
    }
   },
   "outputs": [
    {
     "name": "stdout",
     "output_type": "stream",
     "text": [
      "[False, True, False, False, False, False, False, True, False, False, False, True, False, False, False, False, True, False, True, False, False, True]\n"
     ]
    }
   ],
   "source": [
    "mapa = map(lambda x : bool(x), movies_1975['Comedy'])   # mapeamos la columna 'Comedy' de movies_1975 a booleanos, generando una lista de valores booleanos.\n",
    "mapa1 =map(lambda x : bool(x), movies_1975['Comedy'])   # duplicamos la línea anterior para mostrar el resultado, ya que al aplicar map() no se ejecuta la función hasta que se solicita.\n",
    "\n",
    "print(list(mapa1))"
   ]
  },
  {
   "cell_type": "code",
   "execution_count": 127,
   "metadata": {},
   "outputs": [
    {
     "data": {
      "application/vnd.microsoft.datawrangler.viewer.v0+json": {
       "columns": [
        {
         "name": "index",
         "rawType": "int64",
         "type": "integer"
        },
        {
         "name": "MovieID",
         "rawType": "int64",
         "type": "integer"
        },
        {
         "name": "Title",
         "rawType": "object",
         "type": "string"
        },
        {
         "name": "Genre",
         "rawType": "object",
         "type": "string"
        },
        {
         "name": "Animation",
         "rawType": "float64",
         "type": "float"
        },
        {
         "name": "Children's",
         "rawType": "float64",
         "type": "float"
        },
        {
         "name": "Comedy",
         "rawType": "bool",
         "type": "boolean"
        },
        {
         "name": "Adventure",
         "rawType": "float64",
         "type": "float"
        },
        {
         "name": "Fantasy",
         "rawType": "float64",
         "type": "float"
        },
        {
         "name": "Romance",
         "rawType": "float64",
         "type": "float"
        },
        {
         "name": "Drama",
         "rawType": "float64",
         "type": "float"
        },
        {
         "name": "Action",
         "rawType": "float64",
         "type": "float"
        },
        {
         "name": "Crime",
         "rawType": "float64",
         "type": "float"
        },
        {
         "name": "Thriller",
         "rawType": "float64",
         "type": "float"
        },
        {
         "name": "Horror",
         "rawType": "float64",
         "type": "float"
        },
        {
         "name": "Sci-Fi",
         "rawType": "float64",
         "type": "float"
        },
        {
         "name": "Documentary",
         "rawType": "float64",
         "type": "float"
        },
        {
         "name": "War",
         "rawType": "float64",
         "type": "float"
        },
        {
         "name": "Musical",
         "rawType": "float64",
         "type": "float"
        },
        {
         "name": "Mystery",
         "rawType": "float64",
         "type": "float"
        },
        {
         "name": "Film-Noir",
         "rawType": "float64",
         "type": "float"
        },
        {
         "name": "Western",
         "rawType": "float64",
         "type": "float"
        }
       ],
       "conversionMethod": "pd.DataFrame",
       "ref": "624ed002-42f9-4bff-81c7-0acca356b384",
       "rows": [
        [
         "707",
         "716",
         "Switchblade Sisters (1975)",
         "Crime",
         "0.0",
         "0.0",
         "False",
         "0.0",
         "0.0",
         "0.0",
         "0.0",
         "0.0",
         "1.0",
         "0.0",
         "0.0",
         "0.0",
         "0.0",
         "0.0",
         "0.0",
         "0.0",
         "0.0",
         "0.0"
        ],
        [
         "994",
         "1007",
         "Apple Dumpling Gang, The (1975)",
         "Children's|Comedy|Western",
         "0.0",
         "1.0",
         "True",
         "0.0",
         "0.0",
         "0.0",
         "0.0",
         "0.0",
         "0.0",
         "0.0",
         "0.0",
         "0.0",
         "0.0",
         "0.0",
         "0.0",
         "0.0",
         "0.0",
         "1.0"
        ],
        [
         "996",
         "1009",
         "Escape to Witch Mountain (1975)",
         "Adventure|Children's|Fantasy",
         "0.0",
         "1.0",
         "False",
         "1.0",
         "1.0",
         "0.0",
         "0.0",
         "0.0",
         "0.0",
         "0.0",
         "0.0",
         "0.0",
         "0.0",
         "0.0",
         "0.0",
         "0.0",
         "0.0",
         "0.0"
        ],
        [
         "1176",
         "1193",
         "One Flew Over the Cuckoo's Nest (1975)",
         "Drama",
         "0.0",
         "0.0",
         "False",
         "0.0",
         "0.0",
         "0.0",
         "1.0",
         "0.0",
         "0.0",
         "0.0",
         "0.0",
         "0.0",
         "0.0",
         "0.0",
         "0.0",
         "0.0",
         "0.0",
         "0.0"
        ]
       ],
       "shape": {
        "columns": 21,
        "rows": 4
       }
      },
      "text/html": [
       "<div>\n",
       "<style scoped>\n",
       "    .dataframe tbody tr th:only-of-type {\n",
       "        vertical-align: middle;\n",
       "    }\n",
       "\n",
       "    .dataframe tbody tr th {\n",
       "        vertical-align: top;\n",
       "    }\n",
       "\n",
       "    .dataframe thead th {\n",
       "        text-align: right;\n",
       "    }\n",
       "</style>\n",
       "<table border=\"1\" class=\"dataframe\">\n",
       "  <thead>\n",
       "    <tr style=\"text-align: right;\">\n",
       "      <th></th>\n",
       "      <th>MovieID</th>\n",
       "      <th>Title</th>\n",
       "      <th>Genre</th>\n",
       "      <th>Animation</th>\n",
       "      <th>Children's</th>\n",
       "      <th>Comedy</th>\n",
       "      <th>Adventure</th>\n",
       "      <th>Fantasy</th>\n",
       "      <th>Romance</th>\n",
       "      <th>Drama</th>\n",
       "      <th>...</th>\n",
       "      <th>Crime</th>\n",
       "      <th>Thriller</th>\n",
       "      <th>Horror</th>\n",
       "      <th>Sci-Fi</th>\n",
       "      <th>Documentary</th>\n",
       "      <th>War</th>\n",
       "      <th>Musical</th>\n",
       "      <th>Mystery</th>\n",
       "      <th>Film-Noir</th>\n",
       "      <th>Western</th>\n",
       "    </tr>\n",
       "  </thead>\n",
       "  <tbody>\n",
       "    <tr>\n",
       "      <th>707</th>\n",
       "      <td>716</td>\n",
       "      <td>Switchblade Sisters (1975)</td>\n",
       "      <td>Crime</td>\n",
       "      <td>0.0</td>\n",
       "      <td>0.0</td>\n",
       "      <td>False</td>\n",
       "      <td>0.0</td>\n",
       "      <td>0.0</td>\n",
       "      <td>0.0</td>\n",
       "      <td>0.0</td>\n",
       "      <td>...</td>\n",
       "      <td>1.0</td>\n",
       "      <td>0.0</td>\n",
       "      <td>0.0</td>\n",
       "      <td>0.0</td>\n",
       "      <td>0.0</td>\n",
       "      <td>0.0</td>\n",
       "      <td>0.0</td>\n",
       "      <td>0.0</td>\n",
       "      <td>0.0</td>\n",
       "      <td>0.0</td>\n",
       "    </tr>\n",
       "    <tr>\n",
       "      <th>994</th>\n",
       "      <td>1007</td>\n",
       "      <td>Apple Dumpling Gang, The (1975)</td>\n",
       "      <td>Children's|Comedy|Western</td>\n",
       "      <td>0.0</td>\n",
       "      <td>1.0</td>\n",
       "      <td>True</td>\n",
       "      <td>0.0</td>\n",
       "      <td>0.0</td>\n",
       "      <td>0.0</td>\n",
       "      <td>0.0</td>\n",
       "      <td>...</td>\n",
       "      <td>0.0</td>\n",
       "      <td>0.0</td>\n",
       "      <td>0.0</td>\n",
       "      <td>0.0</td>\n",
       "      <td>0.0</td>\n",
       "      <td>0.0</td>\n",
       "      <td>0.0</td>\n",
       "      <td>0.0</td>\n",
       "      <td>0.0</td>\n",
       "      <td>1.0</td>\n",
       "    </tr>\n",
       "    <tr>\n",
       "      <th>996</th>\n",
       "      <td>1009</td>\n",
       "      <td>Escape to Witch Mountain (1975)</td>\n",
       "      <td>Adventure|Children's|Fantasy</td>\n",
       "      <td>0.0</td>\n",
       "      <td>1.0</td>\n",
       "      <td>False</td>\n",
       "      <td>1.0</td>\n",
       "      <td>1.0</td>\n",
       "      <td>0.0</td>\n",
       "      <td>0.0</td>\n",
       "      <td>...</td>\n",
       "      <td>0.0</td>\n",
       "      <td>0.0</td>\n",
       "      <td>0.0</td>\n",
       "      <td>0.0</td>\n",
       "      <td>0.0</td>\n",
       "      <td>0.0</td>\n",
       "      <td>0.0</td>\n",
       "      <td>0.0</td>\n",
       "      <td>0.0</td>\n",
       "      <td>0.0</td>\n",
       "    </tr>\n",
       "    <tr>\n",
       "      <th>1176</th>\n",
       "      <td>1193</td>\n",
       "      <td>One Flew Over the Cuckoo's Nest (1975)</td>\n",
       "      <td>Drama</td>\n",
       "      <td>0.0</td>\n",
       "      <td>0.0</td>\n",
       "      <td>False</td>\n",
       "      <td>0.0</td>\n",
       "      <td>0.0</td>\n",
       "      <td>0.0</td>\n",
       "      <td>1.0</td>\n",
       "      <td>...</td>\n",
       "      <td>0.0</td>\n",
       "      <td>0.0</td>\n",
       "      <td>0.0</td>\n",
       "      <td>0.0</td>\n",
       "      <td>0.0</td>\n",
       "      <td>0.0</td>\n",
       "      <td>0.0</td>\n",
       "      <td>0.0</td>\n",
       "      <td>0.0</td>\n",
       "      <td>0.0</td>\n",
       "    </tr>\n",
       "  </tbody>\n",
       "</table>\n",
       "<p>4 rows × 21 columns</p>\n",
       "</div>"
      ],
      "text/plain": [
       "      MovieID                                   Title  \\\n",
       "707       716              Switchblade Sisters (1975)   \n",
       "994      1007         Apple Dumpling Gang, The (1975)   \n",
       "996      1009         Escape to Witch Mountain (1975)   \n",
       "1176     1193  One Flew Over the Cuckoo's Nest (1975)   \n",
       "\n",
       "                             Genre  Animation  Children's  Comedy  Adventure  \\\n",
       "707                          Crime        0.0         0.0   False        0.0   \n",
       "994      Children's|Comedy|Western        0.0         1.0    True        0.0   \n",
       "996   Adventure|Children's|Fantasy        0.0         1.0   False        1.0   \n",
       "1176                         Drama        0.0         0.0   False        0.0   \n",
       "\n",
       "      Fantasy  Romance  Drama  ...  Crime  Thriller  Horror  Sci-Fi  \\\n",
       "707       0.0      0.0    0.0  ...    1.0       0.0     0.0     0.0   \n",
       "994       0.0      0.0    0.0  ...    0.0       0.0     0.0     0.0   \n",
       "996       1.0      0.0    0.0  ...    0.0       0.0     0.0     0.0   \n",
       "1176      0.0      0.0    1.0  ...    0.0       0.0     0.0     0.0   \n",
       "\n",
       "      Documentary  War  Musical  Mystery  Film-Noir  Western  \n",
       "707           0.0  0.0      0.0      0.0        0.0      0.0  \n",
       "994           0.0  0.0      0.0      0.0        0.0      1.0  \n",
       "996           0.0  0.0      0.0      0.0        0.0      0.0  \n",
       "1176          0.0  0.0      0.0      0.0        0.0      0.0  \n",
       "\n",
       "[4 rows x 21 columns]"
      ]
     },
     "execution_count": 127,
     "metadata": {},
     "output_type": "execute_result"
    }
   ],
   "source": [
    "movies_1975.loc[:,'Comedy'] = list(mapa)                # actualizamos la columna 'Comedy' con los valores booleanos\n",
    "movies_1975.head(4) "
   ]
  },
  {
   "cell_type": "markdown",
   "metadata": {},
   "source": [
    "Otra forma de usar ```map``` es combinando una lista de funciones en lugar de una sola. Veamos un ejemplo:"
   ]
  },
  {
   "cell_type": "code",
   "execution_count": null,
   "metadata": {},
   "outputs": [
    {
     "name": "stdout",
     "output_type": "stream",
     "text": [
      "[0, 0]\n",
      "[1, 2]\n",
      "[4, 4]\n",
      "[9, 6]\n",
      "[16, 8]\n"
     ]
    }
   ],
   "source": [
    "def multiplicar(x):\n",
    "    return (x*x)\n",
    "def sumar(x):\n",
    "    return (x+x)\n",
    "\n",
    "funcs = [multiplicar, sumar]\n",
    "for i in range(5):\n",
    "    valor = list(map(lambda x: x(i), funcs)) # nos devuelve la multiplicación y la suma de cada valor de i (0, 1, 2, 3, 4)\n",
    "    print(valor)"
   ]
  },
  {
   "cell_type": "markdown",
   "metadata": {
    "slideshow": {
     "slide_type": "slide"
    }
   },
   "source": [
    "## Transformación de variables (calidad de datos)\n",
    "- Tratamiento de valores no definidos\n",
    "- Tratamiento de valores duplicados\n",
    "- Discretización (valores categóricos)"
   ]
  },
  {
   "cell_type": "markdown",
   "metadata": {},
   "source": [
    "### Tratamiento de valores no definidos (NaN, null,...)"
   ]
  },
  {
   "cell_type": "code",
   "execution_count": null,
   "metadata": {
    "ExecuteTime": {
     "end_time": "2024-03-12T16:04:53.297930Z",
     "start_time": "2024-03-12T16:04:53.285648Z"
    },
    "slideshow": {
     "slide_type": "subslide"
    }
   },
   "outputs": [
    {
     "data": {
      "application/vnd.microsoft.datawrangler.viewer.v0+json": {
       "columns": [
        {
         "name": "index",
         "rawType": "int64",
         "type": "integer"
        },
        {
         "name": "0",
         "rawType": "float64",
         "type": "float"
        },
        {
         "name": "1",
         "rawType": "int64",
         "type": "integer"
        },
        {
         "name": "2",
         "rawType": "float64",
         "type": "float"
        },
        {
         "name": "3",
         "rawType": "float64",
         "type": "float"
        },
        {
         "name": "4",
         "rawType": "int64",
         "type": "integer"
        },
        {
         "name": "5",
         "rawType": "int64",
         "type": "integer"
        },
        {
         "name": "6",
         "rawType": "float64",
         "type": "float"
        },
        {
         "name": "7",
         "rawType": "int64",
         "type": "integer"
        },
        {
         "name": "8",
         "rawType": "float64",
         "type": "float"
        },
        {
         "name": "9",
         "rawType": "int64",
         "type": "integer"
        }
       ],
       "conversionMethod": "pd.DataFrame",
       "ref": "8766ab32-82c9-40ae-8a1e-9ea64ea12993",
       "rows": [
        [
         "0",
         null,
         "9",
         "9.0",
         "5.0",
         "7",
         "3",
         "6.0",
         "6",
         "4.0",
         "5"
        ],
        [
         "1",
         "2.0",
         "7",
         null,
         null,
         "2",
         "7",
         null,
         "4",
         null,
         "4"
        ],
        [
         "2",
         "3.0",
         "4",
         "8.0",
         "3.0",
         "5",
         "3",
         "8.0",
         "5",
         null,
         "2"
        ],
        [
         "3",
         "5.0",
         "6",
         "6.0",
         "6.0",
         "4",
         "7",
         "4.0",
         "6",
         "5.0",
         "7"
        ],
        [
         "4",
         "7.0",
         "3",
         "8.0",
         "6.0",
         "8",
         "6",
         null,
         "8",
         null,
         "9"
        ]
       ],
       "shape": {
        "columns": 10,
        "rows": 5
       }
      },
      "text/html": [
       "<div>\n",
       "<style scoped>\n",
       "    .dataframe tbody tr th:only-of-type {\n",
       "        vertical-align: middle;\n",
       "    }\n",
       "\n",
       "    .dataframe tbody tr th {\n",
       "        vertical-align: top;\n",
       "    }\n",
       "\n",
       "    .dataframe thead th {\n",
       "        text-align: right;\n",
       "    }\n",
       "</style>\n",
       "<table border=\"1\" class=\"dataframe\">\n",
       "  <thead>\n",
       "    <tr style=\"text-align: right;\">\n",
       "      <th></th>\n",
       "      <th>0</th>\n",
       "      <th>1</th>\n",
       "      <th>2</th>\n",
       "      <th>3</th>\n",
       "      <th>4</th>\n",
       "      <th>5</th>\n",
       "      <th>6</th>\n",
       "      <th>7</th>\n",
       "      <th>8</th>\n",
       "      <th>9</th>\n",
       "    </tr>\n",
       "  </thead>\n",
       "  <tbody>\n",
       "    <tr>\n",
       "      <th>0</th>\n",
       "      <td>NaN</td>\n",
       "      <td>9</td>\n",
       "      <td>9.0</td>\n",
       "      <td>5.0</td>\n",
       "      <td>7</td>\n",
       "      <td>3</td>\n",
       "      <td>6.0</td>\n",
       "      <td>6</td>\n",
       "      <td>4.0</td>\n",
       "      <td>5</td>\n",
       "    </tr>\n",
       "    <tr>\n",
       "      <th>1</th>\n",
       "      <td>2.0</td>\n",
       "      <td>7</td>\n",
       "      <td>NaN</td>\n",
       "      <td>NaN</td>\n",
       "      <td>2</td>\n",
       "      <td>7</td>\n",
       "      <td>NaN</td>\n",
       "      <td>4</td>\n",
       "      <td>NaN</td>\n",
       "      <td>4</td>\n",
       "    </tr>\n",
       "    <tr>\n",
       "      <th>2</th>\n",
       "      <td>3.0</td>\n",
       "      <td>4</td>\n",
       "      <td>8.0</td>\n",
       "      <td>3.0</td>\n",
       "      <td>5</td>\n",
       "      <td>3</td>\n",
       "      <td>8.0</td>\n",
       "      <td>5</td>\n",
       "      <td>NaN</td>\n",
       "      <td>2</td>\n",
       "    </tr>\n",
       "    <tr>\n",
       "      <th>3</th>\n",
       "      <td>5.0</td>\n",
       "      <td>6</td>\n",
       "      <td>6.0</td>\n",
       "      <td>6.0</td>\n",
       "      <td>4</td>\n",
       "      <td>7</td>\n",
       "      <td>4.0</td>\n",
       "      <td>6</td>\n",
       "      <td>5.0</td>\n",
       "      <td>7</td>\n",
       "    </tr>\n",
       "    <tr>\n",
       "      <th>4</th>\n",
       "      <td>7.0</td>\n",
       "      <td>3</td>\n",
       "      <td>8.0</td>\n",
       "      <td>6.0</td>\n",
       "      <td>8</td>\n",
       "      <td>6</td>\n",
       "      <td>NaN</td>\n",
       "      <td>8</td>\n",
       "      <td>NaN</td>\n",
       "      <td>9</td>\n",
       "    </tr>\n",
       "  </tbody>\n",
       "</table>\n",
       "</div>"
      ],
      "text/plain": [
       "     0  1    2    3  4  5    6  7    8  9\n",
       "0  NaN  9  9.0  5.0  7  3  6.0  6  4.0  5\n",
       "1  2.0  7  NaN  NaN  2  7  NaN  4  NaN  4\n",
       "2  3.0  4  8.0  3.0  5  3  8.0  5  NaN  2\n",
       "3  5.0  6  6.0  6.0  4  7  4.0  6  5.0  7\n",
       "4  7.0  3  8.0  6.0  8  6  NaN  8  NaN  9"
      ]
     },
     "execution_count": 29,
     "metadata": {},
     "output_type": "execute_result"
    }
   ],
   "source": [
    "# Preparación del dataframe de ejemplo\n",
    "matrix = pd.DataFrame(np.random.randint(10,size=(5,10)))    # creamos un DataFrame de 5x10 con valores aleatorios entre 0 y 9\n",
    "matrix[matrix < 2] = np.nan                                 # reemplazamos los valores menores a 2 por NaN\n",
    "matrix"
   ]
  },
  {
   "cell_type": "markdown",
   "metadata": {},
   "source": [
    "#### Mostrar cantidad de valores nulos por columnas"
   ]
  },
  {
   "cell_type": "code",
   "execution_count": null,
   "metadata": {
    "ExecuteTime": {
     "end_time": "2024-03-12T16:04:58.945477Z",
     "start_time": "2024-03-12T16:04:58.939760Z"
    },
    "scrolled": true,
    "slideshow": {
     "slide_type": "subslide"
    },
    "tags": []
   },
   "outputs": [
    {
     "data": {
      "text/plain": [
       "0    1\n",
       "1    0\n",
       "2    1\n",
       "3    1\n",
       "4    0\n",
       "5    0\n",
       "6    2\n",
       "7    0\n",
       "8    3\n",
       "9    0\n",
       "dtype: int64"
      ]
     },
     "execution_count": 129,
     "metadata": {},
     "output_type": "execute_result"
    }
   ],
   "source": [
    "# nulos por columna\n",
    "matrix.isnull().sum() \n"
   ]
  },
  {
   "cell_type": "code",
   "execution_count": null,
   "metadata": {},
   "outputs": [
    {
     "data": {
      "text/plain": [
       "0    1\n",
       "1    0\n",
       "2    1\n",
       "3    1\n",
       "4    0\n",
       "5    0\n",
       "6    2\n",
       "7    0\n",
       "8    3\n",
       "9    0\n",
       "dtype: int64"
      ]
     },
     "execution_count": 130,
     "metadata": {},
     "output_type": "execute_result"
    }
   ],
   "source": [
    "# Si usamos la función isna() en lugar de isnull(), obtendremos el mismo resultado\n",
    "matrix.isna().sum()"
   ]
  },
  {
   "cell_type": "markdown",
   "metadata": {},
   "source": [
    "#### Cantidad total de valores nulos en el dataframe matrix"
   ]
  },
  {
   "cell_type": "code",
   "execution_count": 131,
   "metadata": {
    "ExecuteTime": {
     "end_time": "2024-03-12T16:05:01.744781Z",
     "start_time": "2024-03-12T16:05:01.739241Z"
    }
   },
   "outputs": [
    {
     "data": {
      "text/plain": [
       "np.int64(8)"
      ]
     },
     "execution_count": 131,
     "metadata": {},
     "output_type": "execute_result"
    }
   ],
   "source": [
    "# Cantidad valores nulos\n",
    "matrix.isnull().sum().sum() "
   ]
  },
  {
   "cell_type": "markdown",
   "metadata": {},
   "source": [
    "#### Recuento de valores no nulos por fila"
   ]
  },
  {
   "cell_type": "code",
   "execution_count": 132,
   "metadata": {
    "ExecuteTime": {
     "end_time": "2024-03-12T16:05:03.260518Z",
     "start_time": "2024-03-12T16:05:03.252891Z"
    }
   },
   "outputs": [
    {
     "data": {
      "text/plain": [
       "0     9\n",
       "1     6\n",
       "2     9\n",
       "3    10\n",
       "4     8\n",
       "dtype: int64"
      ]
     },
     "execution_count": 132,
     "metadata": {},
     "output_type": "execute_result"
    }
   ],
   "source": [
    "# numero de no nulos por fila\n",
    "matrix.count(axis=1)"
   ]
  },
  {
   "cell_type": "markdown",
   "metadata": {},
   "source": [
    "#### Recuento de valores nulos por fila"
   ]
  },
  {
   "cell_type": "code",
   "execution_count": 133,
   "metadata": {
    "ExecuteTime": {
     "end_time": "2024-03-12T16:05:04.222829Z",
     "start_time": "2024-03-12T16:05:04.216853Z"
    },
    "slideshow": {
     "slide_type": "fragment"
    }
   },
   "outputs": [
    {
     "data": {
      "text/plain": [
       "0    1\n",
       "1    4\n",
       "2    1\n",
       "3    0\n",
       "4    2\n",
       "dtype: int64"
      ]
     },
     "execution_count": 133,
     "metadata": {},
     "output_type": "execute_result"
    }
   ],
   "source": [
    "# Número de nulos por fila\n",
    "matrix.shape[1] - matrix.count(axis=1) # tomamos el número de columnas y restamos el número de valores no nulos por fila"
   ]
  },
  {
   "cell_type": "markdown",
   "metadata": {},
   "source": [
    "#### Mostrar filas que tienen alguna columna (la indicada) con valores determinados."
   ]
  },
  {
   "cell_type": "code",
   "execution_count": null,
   "metadata": {
    "ExecuteTime": {
     "end_time": "2024-03-12T16:05:04.952899Z",
     "start_time": "2024-03-12T16:05:04.937759Z"
    },
    "slideshow": {
     "slide_type": "subslide"
    }
   },
   "outputs": [
    {
     "data": {
      "application/vnd.microsoft.datawrangler.viewer.v0+json": {
       "columns": [
        {
         "name": "index",
         "rawType": "int64",
         "type": "integer"
        },
        {
         "name": "0",
         "rawType": "float64",
         "type": "float"
        },
        {
         "name": "1",
         "rawType": "int64",
         "type": "integer"
        },
        {
         "name": "2",
         "rawType": "float64",
         "type": "float"
        },
        {
         "name": "3",
         "rawType": "float64",
         "type": "float"
        },
        {
         "name": "4",
         "rawType": "int64",
         "type": "integer"
        },
        {
         "name": "5",
         "rawType": "int64",
         "type": "integer"
        },
        {
         "name": "6",
         "rawType": "float64",
         "type": "float"
        },
        {
         "name": "7",
         "rawType": "int64",
         "type": "integer"
        },
        {
         "name": "8",
         "rawType": "float64",
         "type": "float"
        },
        {
         "name": "9",
         "rawType": "int64",
         "type": "integer"
        }
       ],
       "conversionMethod": "pd.DataFrame",
       "ref": "0e447519-f196-4ccd-abba-e742ccdcb494",
       "rows": [
        [
         "1",
         "2.0",
         "7",
         null,
         null,
         "2",
         "7",
         null,
         "4",
         null,
         "4"
        ],
        [
         "4",
         "7.0",
         "3",
         "8.0",
         "6.0",
         "8",
         "6",
         null,
         "8",
         null,
         "9"
        ]
       ],
       "shape": {
        "columns": 10,
        "rows": 2
       }
      },
      "text/html": [
       "<div>\n",
       "<style scoped>\n",
       "    .dataframe tbody tr th:only-of-type {\n",
       "        vertical-align: middle;\n",
       "    }\n",
       "\n",
       "    .dataframe tbody tr th {\n",
       "        vertical-align: top;\n",
       "    }\n",
       "\n",
       "    .dataframe thead th {\n",
       "        text-align: right;\n",
       "    }\n",
       "</style>\n",
       "<table border=\"1\" class=\"dataframe\">\n",
       "  <thead>\n",
       "    <tr style=\"text-align: right;\">\n",
       "      <th></th>\n",
       "      <th>0</th>\n",
       "      <th>1</th>\n",
       "      <th>2</th>\n",
       "      <th>3</th>\n",
       "      <th>4</th>\n",
       "      <th>5</th>\n",
       "      <th>6</th>\n",
       "      <th>7</th>\n",
       "      <th>8</th>\n",
       "      <th>9</th>\n",
       "    </tr>\n",
       "  </thead>\n",
       "  <tbody>\n",
       "    <tr>\n",
       "      <th>1</th>\n",
       "      <td>2.0</td>\n",
       "      <td>7</td>\n",
       "      <td>NaN</td>\n",
       "      <td>NaN</td>\n",
       "      <td>2</td>\n",
       "      <td>7</td>\n",
       "      <td>NaN</td>\n",
       "      <td>4</td>\n",
       "      <td>NaN</td>\n",
       "      <td>4</td>\n",
       "    </tr>\n",
       "    <tr>\n",
       "      <th>4</th>\n",
       "      <td>7.0</td>\n",
       "      <td>3</td>\n",
       "      <td>8.0</td>\n",
       "      <td>6.0</td>\n",
       "      <td>8</td>\n",
       "      <td>6</td>\n",
       "      <td>NaN</td>\n",
       "      <td>8</td>\n",
       "      <td>NaN</td>\n",
       "      <td>9</td>\n",
       "    </tr>\n",
       "  </tbody>\n",
       "</table>\n",
       "</div>"
      ],
      "text/plain": [
       "     0  1    2    3  4  5   6  7   8  9\n",
       "1  2.0  7  NaN  NaN  2  7 NaN  4 NaN  4\n",
       "4  7.0  3  8.0  6.0  8  6 NaN  8 NaN  9"
      ]
     },
     "execution_count": 138,
     "metadata": {},
     "output_type": "execute_result"
    }
   ],
   "source": [
    "# Representación de las filas en las que una determinada columna tiene nulos\n",
    "matrix[matrix[6].isnull()] # muestra las filas en las que la columna 6 tiene valores nulos"
   ]
  },
  {
   "cell_type": "markdown",
   "metadata": {},
   "source": [
    "#### Mostrar filas en las que una determinada columna contiene un conjunto concreto de valores."
   ]
  },
  {
   "cell_type": "code",
   "execution_count": null,
   "metadata": {
    "ExecuteTime": {
     "end_time": "2024-03-12T16:05:06.331866Z",
     "start_time": "2024-03-12T16:05:06.314429Z"
    },
    "slideshow": {
     "slide_type": "fragment"
    }
   },
   "outputs": [
    {
     "data": {
      "application/vnd.microsoft.datawrangler.viewer.v0+json": {
       "columns": [
        {
         "name": "index",
         "rawType": "int64",
         "type": "integer"
        },
        {
         "name": "0",
         "rawType": "float64",
         "type": "float"
        },
        {
         "name": "1",
         "rawType": "int64",
         "type": "integer"
        },
        {
         "name": "2",
         "rawType": "float64",
         "type": "float"
        },
        {
         "name": "3",
         "rawType": "float64",
         "type": "float"
        },
        {
         "name": "4",
         "rawType": "int64",
         "type": "integer"
        },
        {
         "name": "5",
         "rawType": "int64",
         "type": "integer"
        },
        {
         "name": "6",
         "rawType": "float64",
         "type": "float"
        },
        {
         "name": "7",
         "rawType": "int64",
         "type": "integer"
        },
        {
         "name": "8",
         "rawType": "float64",
         "type": "float"
        },
        {
         "name": "9",
         "rawType": "int64",
         "type": "integer"
        }
       ],
       "conversionMethod": "pd.DataFrame",
       "ref": "1a569878-32c1-478f-aa24-539fe6e6b34e",
       "rows": [
        [
         "2",
         "3.0",
         "4",
         "8.0",
         "3.0",
         "5",
         "3",
         "8.0",
         "5",
         null,
         "2"
        ],
        [
         "3",
         "5.0",
         "6",
         "6.0",
         "6.0",
         "4",
         "7",
         "4.0",
         "6",
         "5.0",
         "7"
        ]
       ],
       "shape": {
        "columns": 10,
        "rows": 2
       }
      },
      "text/html": [
       "<div>\n",
       "<style scoped>\n",
       "    .dataframe tbody tr th:only-of-type {\n",
       "        vertical-align: middle;\n",
       "    }\n",
       "\n",
       "    .dataframe tbody tr th {\n",
       "        vertical-align: top;\n",
       "    }\n",
       "\n",
       "    .dataframe thead th {\n",
       "        text-align: right;\n",
       "    }\n",
       "</style>\n",
       "<table border=\"1\" class=\"dataframe\">\n",
       "  <thead>\n",
       "    <tr style=\"text-align: right;\">\n",
       "      <th></th>\n",
       "      <th>0</th>\n",
       "      <th>1</th>\n",
       "      <th>2</th>\n",
       "      <th>3</th>\n",
       "      <th>4</th>\n",
       "      <th>5</th>\n",
       "      <th>6</th>\n",
       "      <th>7</th>\n",
       "      <th>8</th>\n",
       "      <th>9</th>\n",
       "    </tr>\n",
       "  </thead>\n",
       "  <tbody>\n",
       "    <tr>\n",
       "      <th>2</th>\n",
       "      <td>3.0</td>\n",
       "      <td>4</td>\n",
       "      <td>8.0</td>\n",
       "      <td>3.0</td>\n",
       "      <td>5</td>\n",
       "      <td>3</td>\n",
       "      <td>8.0</td>\n",
       "      <td>5</td>\n",
       "      <td>NaN</td>\n",
       "      <td>2</td>\n",
       "    </tr>\n",
       "    <tr>\n",
       "      <th>3</th>\n",
       "      <td>5.0</td>\n",
       "      <td>6</td>\n",
       "      <td>6.0</td>\n",
       "      <td>6.0</td>\n",
       "      <td>4</td>\n",
       "      <td>7</td>\n",
       "      <td>4.0</td>\n",
       "      <td>6</td>\n",
       "      <td>5.0</td>\n",
       "      <td>7</td>\n",
       "    </tr>\n",
       "  </tbody>\n",
       "</table>\n",
       "</div>"
      ],
      "text/plain": [
       "     0  1    2    3  4  5    6  7    8  9\n",
       "2  3.0  4  8.0  3.0  5  3  8.0  5  NaN  2\n",
       "3  5.0  6  6.0  6.0  4  7  4.0  6  5.0  7"
      ]
     },
     "execution_count": 139,
     "metadata": {},
     "output_type": "execute_result"
    }
   ],
   "source": [
    "valores = [8, 4] # valores a buscar\n",
    "matrix[matrix[6].isin(valores)] # muestra las filas en las que la columna 6 tiene valores 8 o 4"
   ]
  },
  {
   "cell_type": "markdown",
   "metadata": {},
   "source": [
    "#### Eliminar valores nulos"
   ]
  },
  {
   "cell_type": "code",
   "execution_count": 36,
   "metadata": {
    "ExecuteTime": {
     "end_time": "2024-03-12T16:05:07.510295Z",
     "start_time": "2024-03-12T16:05:07.501724Z"
    },
    "slideshow": {
     "slide_type": "subslide"
    }
   },
   "outputs": [
    {
     "data": {
      "application/vnd.microsoft.datawrangler.viewer.v0+json": {
       "columns": [
        {
         "name": "index",
         "rawType": "int64",
         "type": "integer"
        },
        {
         "name": "0",
         "rawType": "float64",
         "type": "float"
        },
        {
         "name": "1",
         "rawType": "int64",
         "type": "integer"
        },
        {
         "name": "2",
         "rawType": "float64",
         "type": "float"
        },
        {
         "name": "3",
         "rawType": "float64",
         "type": "float"
        },
        {
         "name": "4",
         "rawType": "int64",
         "type": "integer"
        },
        {
         "name": "5",
         "rawType": "int64",
         "type": "integer"
        },
        {
         "name": "6",
         "rawType": "float64",
         "type": "float"
        },
        {
         "name": "7",
         "rawType": "int64",
         "type": "integer"
        },
        {
         "name": "8",
         "rawType": "float64",
         "type": "float"
        },
        {
         "name": "9",
         "rawType": "int64",
         "type": "integer"
        }
       ],
       "conversionMethod": "pd.DataFrame",
       "ref": "3ddd6b11-8620-464e-9930-07a62087f383",
       "rows": [
        [
         "3",
         "5.0",
         "6",
         "6.0",
         "6.0",
         "4",
         "7",
         "4.0",
         "6",
         "5.0",
         "7"
        ]
       ],
       "shape": {
        "columns": 10,
        "rows": 1
       }
      },
      "text/html": [
       "<div>\n",
       "<style scoped>\n",
       "    .dataframe tbody tr th:only-of-type {\n",
       "        vertical-align: middle;\n",
       "    }\n",
       "\n",
       "    .dataframe tbody tr th {\n",
       "        vertical-align: top;\n",
       "    }\n",
       "\n",
       "    .dataframe thead th {\n",
       "        text-align: right;\n",
       "    }\n",
       "</style>\n",
       "<table border=\"1\" class=\"dataframe\">\n",
       "  <thead>\n",
       "    <tr style=\"text-align: right;\">\n",
       "      <th></th>\n",
       "      <th>0</th>\n",
       "      <th>1</th>\n",
       "      <th>2</th>\n",
       "      <th>3</th>\n",
       "      <th>4</th>\n",
       "      <th>5</th>\n",
       "      <th>6</th>\n",
       "      <th>7</th>\n",
       "      <th>8</th>\n",
       "      <th>9</th>\n",
       "    </tr>\n",
       "  </thead>\n",
       "  <tbody>\n",
       "    <tr>\n",
       "      <th>3</th>\n",
       "      <td>5.0</td>\n",
       "      <td>6</td>\n",
       "      <td>6.0</td>\n",
       "      <td>6.0</td>\n",
       "      <td>4</td>\n",
       "      <td>7</td>\n",
       "      <td>4.0</td>\n",
       "      <td>6</td>\n",
       "      <td>5.0</td>\n",
       "      <td>7</td>\n",
       "    </tr>\n",
       "  </tbody>\n",
       "</table>\n",
       "</div>"
      ],
      "text/plain": [
       "     0  1    2    3  4  5    6  7    8  9\n",
       "3  5.0  6  6.0  6.0  4  7  4.0  6  5.0  7"
      ]
     },
     "execution_count": 36,
     "metadata": {},
     "output_type": "execute_result"
    }
   ],
   "source": [
    "## Tratamiento de valores nulos\n",
    "# eliminar\n",
    "matrix.dropna()"
   ]
  },
  {
   "cell_type": "markdown",
   "metadata": {},
   "source": [
    "Usando el parámetro ```thresh```(Umbral)"
   ]
  },
  {
   "cell_type": "code",
   "execution_count": null,
   "metadata": {
    "ExecuteTime": {
     "end_time": "2024-03-12T16:05:08.684031Z",
     "start_time": "2024-03-12T16:05:08.671079Z"
    },
    "slideshow": {
     "slide_type": "fragment"
    }
   },
   "outputs": [
    {
     "data": {
      "application/vnd.microsoft.datawrangler.viewer.v0+json": {
       "columns": [
        {
         "name": "index",
         "rawType": "int64",
         "type": "integer"
        },
        {
         "name": "0",
         "rawType": "float64",
         "type": "float"
        },
        {
         "name": "1",
         "rawType": "int64",
         "type": "integer"
        },
        {
         "name": "2",
         "rawType": "float64",
         "type": "float"
        },
        {
         "name": "3",
         "rawType": "float64",
         "type": "float"
        },
        {
         "name": "4",
         "rawType": "int64",
         "type": "integer"
        },
        {
         "name": "5",
         "rawType": "int64",
         "type": "integer"
        },
        {
         "name": "6",
         "rawType": "float64",
         "type": "float"
        },
        {
         "name": "7",
         "rawType": "int64",
         "type": "integer"
        },
        {
         "name": "8",
         "rawType": "float64",
         "type": "float"
        },
        {
         "name": "9",
         "rawType": "int64",
         "type": "integer"
        }
       ],
       "conversionMethod": "pd.DataFrame",
       "ref": "7ebc3667-7aea-44d8-99fe-497b4cd65f8e",
       "rows": [
        [
         "0",
         null,
         "9",
         "9.0",
         "5.0",
         "7",
         "3",
         "6.0",
         "6",
         "4.0",
         "5"
        ],
        [
         "2",
         "3.0",
         "4",
         "8.0",
         "3.0",
         "5",
         "3",
         "8.0",
         "5",
         null,
         "2"
        ],
        [
         "3",
         "5.0",
         "6",
         "6.0",
         "6.0",
         "4",
         "7",
         "4.0",
         "6",
         "5.0",
         "7"
        ],
        [
         "4",
         "7.0",
         "3",
         "8.0",
         "6.0",
         "8",
         "6",
         null,
         "8",
         null,
         "9"
        ]
       ],
       "shape": {
        "columns": 10,
        "rows": 4
       }
      },
      "text/html": [
       "<div>\n",
       "<style scoped>\n",
       "    .dataframe tbody tr th:only-of-type {\n",
       "        vertical-align: middle;\n",
       "    }\n",
       "\n",
       "    .dataframe tbody tr th {\n",
       "        vertical-align: top;\n",
       "    }\n",
       "\n",
       "    .dataframe thead th {\n",
       "        text-align: right;\n",
       "    }\n",
       "</style>\n",
       "<table border=\"1\" class=\"dataframe\">\n",
       "  <thead>\n",
       "    <tr style=\"text-align: right;\">\n",
       "      <th></th>\n",
       "      <th>0</th>\n",
       "      <th>1</th>\n",
       "      <th>2</th>\n",
       "      <th>3</th>\n",
       "      <th>4</th>\n",
       "      <th>5</th>\n",
       "      <th>6</th>\n",
       "      <th>7</th>\n",
       "      <th>8</th>\n",
       "      <th>9</th>\n",
       "    </tr>\n",
       "  </thead>\n",
       "  <tbody>\n",
       "    <tr>\n",
       "      <th>0</th>\n",
       "      <td>NaN</td>\n",
       "      <td>9</td>\n",
       "      <td>9.0</td>\n",
       "      <td>5.0</td>\n",
       "      <td>7</td>\n",
       "      <td>3</td>\n",
       "      <td>6.0</td>\n",
       "      <td>6</td>\n",
       "      <td>4.0</td>\n",
       "      <td>5</td>\n",
       "    </tr>\n",
       "    <tr>\n",
       "      <th>2</th>\n",
       "      <td>3.0</td>\n",
       "      <td>4</td>\n",
       "      <td>8.0</td>\n",
       "      <td>3.0</td>\n",
       "      <td>5</td>\n",
       "      <td>3</td>\n",
       "      <td>8.0</td>\n",
       "      <td>5</td>\n",
       "      <td>NaN</td>\n",
       "      <td>2</td>\n",
       "    </tr>\n",
       "    <tr>\n",
       "      <th>3</th>\n",
       "      <td>5.0</td>\n",
       "      <td>6</td>\n",
       "      <td>6.0</td>\n",
       "      <td>6.0</td>\n",
       "      <td>4</td>\n",
       "      <td>7</td>\n",
       "      <td>4.0</td>\n",
       "      <td>6</td>\n",
       "      <td>5.0</td>\n",
       "      <td>7</td>\n",
       "    </tr>\n",
       "    <tr>\n",
       "      <th>4</th>\n",
       "      <td>7.0</td>\n",
       "      <td>3</td>\n",
       "      <td>8.0</td>\n",
       "      <td>6.0</td>\n",
       "      <td>8</td>\n",
       "      <td>6</td>\n",
       "      <td>NaN</td>\n",
       "      <td>8</td>\n",
       "      <td>NaN</td>\n",
       "      <td>9</td>\n",
       "    </tr>\n",
       "  </tbody>\n",
       "</table>\n",
       "</div>"
      ],
      "text/plain": [
       "     0  1    2    3  4  5    6  7    8  9\n",
       "0  NaN  9  9.0  5.0  7  3  6.0  6  4.0  5\n",
       "2  3.0  4  8.0  3.0  5  3  8.0  5  NaN  2\n",
       "3  5.0  6  6.0  6.0  4  7  4.0  6  5.0  7\n",
       "4  7.0  3  8.0  6.0  8  6  NaN  8  NaN  9"
      ]
     },
     "execution_count": 37,
     "metadata": {},
     "output_type": "execute_result"
    }
   ],
   "source": [
    "# eliminar si no hay un número de valores no NaN\n",
    "matrix.dropna(thresh=7) # elimina las filas que tienen menos de 7 valores no NaN"
   ]
  },
  {
   "cell_type": "markdown",
   "metadata": {},
   "source": [
    "#### Sustituir/Rellenar nulos por un determinado valor"
   ]
  },
  {
   "cell_type": "code",
   "execution_count": 38,
   "metadata": {
    "ExecuteTime": {
     "end_time": "2024-03-12T16:05:09.973046Z",
     "start_time": "2024-03-12T16:05:09.959801Z"
    },
    "slideshow": {
     "slide_type": "subslide"
    }
   },
   "outputs": [
    {
     "data": {
      "application/vnd.microsoft.datawrangler.viewer.v0+json": {
       "columns": [
        {
         "name": "index",
         "rawType": "int64",
         "type": "integer"
        },
        {
         "name": "0",
         "rawType": "float64",
         "type": "float"
        },
        {
         "name": "1",
         "rawType": "int64",
         "type": "integer"
        },
        {
         "name": "2",
         "rawType": "float64",
         "type": "float"
        },
        {
         "name": "3",
         "rawType": "float64",
         "type": "float"
        },
        {
         "name": "4",
         "rawType": "int64",
         "type": "integer"
        },
        {
         "name": "5",
         "rawType": "int64",
         "type": "integer"
        },
        {
         "name": "6",
         "rawType": "float64",
         "type": "float"
        },
        {
         "name": "7",
         "rawType": "int64",
         "type": "integer"
        },
        {
         "name": "8",
         "rawType": "float64",
         "type": "float"
        },
        {
         "name": "9",
         "rawType": "int64",
         "type": "integer"
        }
       ],
       "conversionMethod": "pd.DataFrame",
       "ref": "cfcb362a-9de9-463b-8cc8-4f0e02d7b672",
       "rows": [
        [
         "0",
         "-1.0",
         "9",
         "9.0",
         "5.0",
         "7",
         "3",
         "6.0",
         "6",
         "4.0",
         "5"
        ],
        [
         "1",
         "2.0",
         "7",
         "-1.0",
         "-1.0",
         "2",
         "7",
         "-1.0",
         "4",
         "-1.0",
         "4"
        ],
        [
         "2",
         "3.0",
         "4",
         "8.0",
         "3.0",
         "5",
         "3",
         "8.0",
         "5",
         "-1.0",
         "2"
        ],
        [
         "3",
         "5.0",
         "6",
         "6.0",
         "6.0",
         "4",
         "7",
         "4.0",
         "6",
         "5.0",
         "7"
        ],
        [
         "4",
         "7.0",
         "3",
         "8.0",
         "6.0",
         "8",
         "6",
         "-1.0",
         "8",
         "-1.0",
         "9"
        ]
       ],
       "shape": {
        "columns": 10,
        "rows": 5
       }
      },
      "text/html": [
       "<div>\n",
       "<style scoped>\n",
       "    .dataframe tbody tr th:only-of-type {\n",
       "        vertical-align: middle;\n",
       "    }\n",
       "\n",
       "    .dataframe tbody tr th {\n",
       "        vertical-align: top;\n",
       "    }\n",
       "\n",
       "    .dataframe thead th {\n",
       "        text-align: right;\n",
       "    }\n",
       "</style>\n",
       "<table border=\"1\" class=\"dataframe\">\n",
       "  <thead>\n",
       "    <tr style=\"text-align: right;\">\n",
       "      <th></th>\n",
       "      <th>0</th>\n",
       "      <th>1</th>\n",
       "      <th>2</th>\n",
       "      <th>3</th>\n",
       "      <th>4</th>\n",
       "      <th>5</th>\n",
       "      <th>6</th>\n",
       "      <th>7</th>\n",
       "      <th>8</th>\n",
       "      <th>9</th>\n",
       "    </tr>\n",
       "  </thead>\n",
       "  <tbody>\n",
       "    <tr>\n",
       "      <th>0</th>\n",
       "      <td>-1.0</td>\n",
       "      <td>9</td>\n",
       "      <td>9.0</td>\n",
       "      <td>5.0</td>\n",
       "      <td>7</td>\n",
       "      <td>3</td>\n",
       "      <td>6.0</td>\n",
       "      <td>6</td>\n",
       "      <td>4.0</td>\n",
       "      <td>5</td>\n",
       "    </tr>\n",
       "    <tr>\n",
       "      <th>1</th>\n",
       "      <td>2.0</td>\n",
       "      <td>7</td>\n",
       "      <td>-1.0</td>\n",
       "      <td>-1.0</td>\n",
       "      <td>2</td>\n",
       "      <td>7</td>\n",
       "      <td>-1.0</td>\n",
       "      <td>4</td>\n",
       "      <td>-1.0</td>\n",
       "      <td>4</td>\n",
       "    </tr>\n",
       "    <tr>\n",
       "      <th>2</th>\n",
       "      <td>3.0</td>\n",
       "      <td>4</td>\n",
       "      <td>8.0</td>\n",
       "      <td>3.0</td>\n",
       "      <td>5</td>\n",
       "      <td>3</td>\n",
       "      <td>8.0</td>\n",
       "      <td>5</td>\n",
       "      <td>-1.0</td>\n",
       "      <td>2</td>\n",
       "    </tr>\n",
       "    <tr>\n",
       "      <th>3</th>\n",
       "      <td>5.0</td>\n",
       "      <td>6</td>\n",
       "      <td>6.0</td>\n",
       "      <td>6.0</td>\n",
       "      <td>4</td>\n",
       "      <td>7</td>\n",
       "      <td>4.0</td>\n",
       "      <td>6</td>\n",
       "      <td>5.0</td>\n",
       "      <td>7</td>\n",
       "    </tr>\n",
       "    <tr>\n",
       "      <th>4</th>\n",
       "      <td>7.0</td>\n",
       "      <td>3</td>\n",
       "      <td>8.0</td>\n",
       "      <td>6.0</td>\n",
       "      <td>8</td>\n",
       "      <td>6</td>\n",
       "      <td>-1.0</td>\n",
       "      <td>8</td>\n",
       "      <td>-1.0</td>\n",
       "      <td>9</td>\n",
       "    </tr>\n",
       "  </tbody>\n",
       "</table>\n",
       "</div>"
      ],
      "text/plain": [
       "     0  1    2    3  4  5    6  7    8  9\n",
       "0 -1.0  9  9.0  5.0  7  3  6.0  6  4.0  5\n",
       "1  2.0  7 -1.0 -1.0  2  7 -1.0  4 -1.0  4\n",
       "2  3.0  4  8.0  3.0  5  3  8.0  5 -1.0  2\n",
       "3  5.0  6  6.0  6.0  4  7  4.0  6  5.0  7\n",
       "4  7.0  3  8.0  6.0  8  6 -1.0  8 -1.0  9"
      ]
     },
     "execution_count": 38,
     "metadata": {},
     "output_type": "execute_result"
    }
   ],
   "source": [
    "# sustituir por un valor fijo\n",
    "matrix.fillna(-1)"
   ]
  },
  {
   "cell_type": "markdown",
   "metadata": {},
   "source": [
    "#### Sustitución/Relleno dinámico.   \n",
    "\n",
    "sustituir por valor dinámico...\n",
    "- bfill -> backward fill (relleno hacia atrás)\n",
    "- ffill -> forward fill (relleno hacia adelante)"
   ]
  },
  {
   "cell_type": "code",
   "execution_count": 140,
   "metadata": {
    "ExecuteTime": {
     "end_time": "2024-03-12T16:05:10.951882Z",
     "start_time": "2024-03-12T16:05:10.900206Z"
    },
    "slideshow": {
     "slide_type": "fragment"
    }
   },
   "outputs": [
    {
     "name": "stdout",
     "output_type": "stream",
     "text": [
      "     0  1    2    3  4  5    6  7    8  9\n",
      "0  NaN  9  9.0  5.0  7  3  6.0  6  4.0  5\n",
      "1  2.0  7  NaN  NaN  2  7  NaN  4  NaN  4\n",
      "2  3.0  4  8.0  3.0  5  3  8.0  5  NaN  2\n",
      "3  5.0  6  6.0  6.0  4  7  4.0  6  5.0  7\n",
      "4  7.0  3  8.0  6.0  8  6  NaN  8  NaN  9\n"
     ]
    },
    {
     "name": "stderr",
     "output_type": "stream",
     "text": [
      "/tmp/ipykernel_7461/197665136.py:2: FutureWarning: DataFrame.fillna with 'method' is deprecated and will raise in a future version. Use obj.ffill() or obj.bfill() instead.\n",
      "  matrix.fillna(method='bfill') # bfill y ffill\n"
     ]
    },
    {
     "data": {
      "application/vnd.microsoft.datawrangler.viewer.v0+json": {
       "columns": [
        {
         "name": "index",
         "rawType": "int64",
         "type": "integer"
        },
        {
         "name": "0",
         "rawType": "float64",
         "type": "float"
        },
        {
         "name": "1",
         "rawType": "int64",
         "type": "integer"
        },
        {
         "name": "2",
         "rawType": "float64",
         "type": "float"
        },
        {
         "name": "3",
         "rawType": "float64",
         "type": "float"
        },
        {
         "name": "4",
         "rawType": "int64",
         "type": "integer"
        },
        {
         "name": "5",
         "rawType": "int64",
         "type": "integer"
        },
        {
         "name": "6",
         "rawType": "float64",
         "type": "float"
        },
        {
         "name": "7",
         "rawType": "int64",
         "type": "integer"
        },
        {
         "name": "8",
         "rawType": "float64",
         "type": "float"
        },
        {
         "name": "9",
         "rawType": "int64",
         "type": "integer"
        }
       ],
       "conversionMethod": "pd.DataFrame",
       "ref": "f63867cd-3b69-4573-885d-6369b22c72d1",
       "rows": [
        [
         "0",
         "2.0",
         "9",
         "9.0",
         "5.0",
         "7",
         "3",
         "6.0",
         "6",
         "4.0",
         "5"
        ],
        [
         "1",
         "2.0",
         "7",
         "8.0",
         "3.0",
         "2",
         "7",
         "8.0",
         "4",
         "5.0",
         "4"
        ],
        [
         "2",
         "3.0",
         "4",
         "8.0",
         "3.0",
         "5",
         "3",
         "8.0",
         "5",
         "5.0",
         "2"
        ],
        [
         "3",
         "5.0",
         "6",
         "6.0",
         "6.0",
         "4",
         "7",
         "4.0",
         "6",
         "5.0",
         "7"
        ],
        [
         "4",
         "7.0",
         "3",
         "8.0",
         "6.0",
         "8",
         "6",
         null,
         "8",
         null,
         "9"
        ]
       ],
       "shape": {
        "columns": 10,
        "rows": 5
       }
      },
      "text/html": [
       "<div>\n",
       "<style scoped>\n",
       "    .dataframe tbody tr th:only-of-type {\n",
       "        vertical-align: middle;\n",
       "    }\n",
       "\n",
       "    .dataframe tbody tr th {\n",
       "        vertical-align: top;\n",
       "    }\n",
       "\n",
       "    .dataframe thead th {\n",
       "        text-align: right;\n",
       "    }\n",
       "</style>\n",
       "<table border=\"1\" class=\"dataframe\">\n",
       "  <thead>\n",
       "    <tr style=\"text-align: right;\">\n",
       "      <th></th>\n",
       "      <th>0</th>\n",
       "      <th>1</th>\n",
       "      <th>2</th>\n",
       "      <th>3</th>\n",
       "      <th>4</th>\n",
       "      <th>5</th>\n",
       "      <th>6</th>\n",
       "      <th>7</th>\n",
       "      <th>8</th>\n",
       "      <th>9</th>\n",
       "    </tr>\n",
       "  </thead>\n",
       "  <tbody>\n",
       "    <tr>\n",
       "      <th>0</th>\n",
       "      <td>2.0</td>\n",
       "      <td>9</td>\n",
       "      <td>9.0</td>\n",
       "      <td>5.0</td>\n",
       "      <td>7</td>\n",
       "      <td>3</td>\n",
       "      <td>6.0</td>\n",
       "      <td>6</td>\n",
       "      <td>4.0</td>\n",
       "      <td>5</td>\n",
       "    </tr>\n",
       "    <tr>\n",
       "      <th>1</th>\n",
       "      <td>2.0</td>\n",
       "      <td>7</td>\n",
       "      <td>8.0</td>\n",
       "      <td>3.0</td>\n",
       "      <td>2</td>\n",
       "      <td>7</td>\n",
       "      <td>8.0</td>\n",
       "      <td>4</td>\n",
       "      <td>5.0</td>\n",
       "      <td>4</td>\n",
       "    </tr>\n",
       "    <tr>\n",
       "      <th>2</th>\n",
       "      <td>3.0</td>\n",
       "      <td>4</td>\n",
       "      <td>8.0</td>\n",
       "      <td>3.0</td>\n",
       "      <td>5</td>\n",
       "      <td>3</td>\n",
       "      <td>8.0</td>\n",
       "      <td>5</td>\n",
       "      <td>5.0</td>\n",
       "      <td>2</td>\n",
       "    </tr>\n",
       "    <tr>\n",
       "      <th>3</th>\n",
       "      <td>5.0</td>\n",
       "      <td>6</td>\n",
       "      <td>6.0</td>\n",
       "      <td>6.0</td>\n",
       "      <td>4</td>\n",
       "      <td>7</td>\n",
       "      <td>4.0</td>\n",
       "      <td>6</td>\n",
       "      <td>5.0</td>\n",
       "      <td>7</td>\n",
       "    </tr>\n",
       "    <tr>\n",
       "      <th>4</th>\n",
       "      <td>7.0</td>\n",
       "      <td>3</td>\n",
       "      <td>8.0</td>\n",
       "      <td>6.0</td>\n",
       "      <td>8</td>\n",
       "      <td>6</td>\n",
       "      <td>NaN</td>\n",
       "      <td>8</td>\n",
       "      <td>NaN</td>\n",
       "      <td>9</td>\n",
       "    </tr>\n",
       "  </tbody>\n",
       "</table>\n",
       "</div>"
      ],
      "text/plain": [
       "     0  1    2    3  4  5    6  7    8  9\n",
       "0  2.0  9  9.0  5.0  7  3  6.0  6  4.0  5\n",
       "1  2.0  7  8.0  3.0  2  7  8.0  4  5.0  4\n",
       "2  3.0  4  8.0  3.0  5  3  8.0  5  5.0  2\n",
       "3  5.0  6  6.0  6.0  4  7  4.0  6  5.0  7\n",
       "4  7.0  3  8.0  6.0  8  6  NaN  8  NaN  9"
      ]
     },
     "execution_count": 140,
     "metadata": {},
     "output_type": "execute_result"
    }
   ],
   "source": [
    "\n",
    "print(matrix)\n",
    "matrix.fillna(method='bfill') # bfill y ffill"
   ]
  },
  {
   "cell_type": "markdown",
   "metadata": {},
   "source": [
    "#### Sustitución por interpolación"
   ]
  },
  {
   "cell_type": "code",
   "execution_count": 142,
   "metadata": {
    "ExecuteTime": {
     "end_time": "2024-03-12T16:05:12.636227Z",
     "start_time": "2024-03-12T16:05:12.620439Z"
    },
    "slideshow": {
     "slide_type": "subslide"
    }
   },
   "outputs": [
    {
     "name": "stdout",
     "output_type": "stream",
     "text": [
      "     0  1    2    3  4  5    6  7    8  9\n",
      "0  NaN  9  9.0  5.0  7  3  6.0  6  4.0  5\n",
      "1  2.0  7  NaN  NaN  2  7  NaN  4  NaN  4\n",
      "2  3.0  4  8.0  3.0  5  3  8.0  5  NaN  2\n",
      "3  5.0  6  6.0  6.0  4  7  4.0  6  5.0  7\n",
      "4  7.0  3  8.0  6.0  8  6  NaN  8  NaN  9\n",
      "     0  1    2    3  4  5    6  7         8  9\n",
      "0  NaN  9  9.0  5.0  7  3  6.0  6  4.000000  5\n",
      "1  2.0  7  8.5  4.0  2  7  7.0  4  4.333333  4\n",
      "2  3.0  4  8.0  3.0  5  3  8.0  5  4.666667  2\n",
      "3  5.0  6  6.0  6.0  4  7  4.0  6  5.000000  7\n",
      "4  7.0  3  8.0  6.0  8  6  4.0  8  5.000000  9\n"
     ]
    }
   ],
   "source": [
    "# sustituir por valor dinámico (interpolación)\n",
    "print(matrix)\n",
    "matrix.interpolate() # interpolación lineal. Establece los valores NaN en función de los valores adyacentes, asignando un valor intermedio, en este caso, la media entre los valores adyacentes.\n",
    "print(matrix.interpolate())"
   ]
  },
  {
   "cell_type": "markdown",
   "metadata": {
    "slideshow": {
     "slide_type": "subslide"
    }
   },
   "source": [
    "#### Tratar valores duplicados"
   ]
  },
  {
   "cell_type": "code",
   "execution_count": null,
   "metadata": {
    "ExecuteTime": {
     "end_time": "2024-03-12T16:05:15.550835Z",
     "start_time": "2024-03-12T16:05:15.539278Z"
    },
    "slideshow": {
     "slide_type": "fragment"
    }
   },
   "outputs": [
    {
     "data": {
      "text/plain": [
       "0    False\n",
       "1    False\n",
       "2    False\n",
       "3     True\n",
       "4     True\n",
       "5     True\n",
       "6    False\n",
       "dtype: bool"
      ]
     },
     "execution_count": 143,
     "metadata": {},
     "output_type": "execute_result"
    }
   ],
   "source": [
    "serie = pd.Series(['a','b','c','a','c','a','g'])\n",
    "serie.duplicated() # muestra los valores duplicados"
   ]
  },
  {
   "cell_type": "code",
   "execution_count": 144,
   "metadata": {
    "ExecuteTime": {
     "end_time": "2024-03-12T16:05:16.857824Z",
     "start_time": "2024-03-12T16:05:16.833659Z"
    },
    "slideshow": {
     "slide_type": "fragment"
    }
   },
   "outputs": [
    {
     "data": {
      "application/vnd.microsoft.datawrangler.viewer.v0+json": {
       "columns": [
        {
         "name": "index",
         "rawType": "int64",
         "type": "integer"
        },
        {
         "name": "Gender",
         "rawType": "object",
         "type": "string"
        },
        {
         "name": "Age",
         "rawType": "int64",
         "type": "integer"
        },
        {
         "name": "Occupation",
         "rawType": "int64",
         "type": "integer"
        },
        {
         "name": "Zip-code",
         "rawType": "object",
         "type": "string"
        },
        {
         "name": "MovieID",
         "rawType": "int64",
         "type": "integer"
        },
        {
         "name": "Rating",
         "rawType": "int64",
         "type": "integer"
        },
        {
         "name": "Timestamp",
         "rawType": "int64",
         "type": "integer"
        },
        {
         "name": "Title",
         "rawType": "object",
         "type": "string"
        },
        {
         "name": "Genre",
         "rawType": "object",
         "type": "string"
        }
       ],
       "conversionMethod": "pd.DataFrame",
       "ref": "8311df29-1fc6-4ac6-97ea-d78b28702cd5",
       "rows": [
        [
         "999867",
         "F",
         "45",
         "0",
         "01060",
         "1097",
         "4",
         "956705811",
         "E.T. the Extra-Terrestrial (1982)",
         "Children's|Drama|Fantasy|Sci-Fi"
        ],
        [
         "1000208",
         "M",
         "25",
         "6",
         "11106",
         "1097",
         "4",
         "956715569",
         "E.T. the Extra-Terrestrial (1982)",
         "Children's|Drama|Fantasy|Sci-Fi"
        ]
       ],
       "shape": {
        "columns": 9,
        "rows": 2
       }
      },
      "text/html": [
       "<div>\n",
       "<style scoped>\n",
       "    .dataframe tbody tr th:only-of-type {\n",
       "        vertical-align: middle;\n",
       "    }\n",
       "\n",
       "    .dataframe tbody tr th {\n",
       "        vertical-align: top;\n",
       "    }\n",
       "\n",
       "    .dataframe thead th {\n",
       "        text-align: right;\n",
       "    }\n",
       "</style>\n",
       "<table border=\"1\" class=\"dataframe\">\n",
       "  <thead>\n",
       "    <tr style=\"text-align: right;\">\n",
       "      <th></th>\n",
       "      <th>Gender</th>\n",
       "      <th>Age</th>\n",
       "      <th>Occupation</th>\n",
       "      <th>Zip-code</th>\n",
       "      <th>MovieID</th>\n",
       "      <th>Rating</th>\n",
       "      <th>Timestamp</th>\n",
       "      <th>Title</th>\n",
       "      <th>Genre</th>\n",
       "    </tr>\n",
       "  </thead>\n",
       "  <tbody>\n",
       "    <tr>\n",
       "      <th>999867</th>\n",
       "      <td>F</td>\n",
       "      <td>45</td>\n",
       "      <td>0</td>\n",
       "      <td>01060</td>\n",
       "      <td>1097</td>\n",
       "      <td>4</td>\n",
       "      <td>956705811</td>\n",
       "      <td>E.T. the Extra-Terrestrial (1982)</td>\n",
       "      <td>Children's|Drama|Fantasy|Sci-Fi</td>\n",
       "    </tr>\n",
       "    <tr>\n",
       "      <th>1000208</th>\n",
       "      <td>M</td>\n",
       "      <td>25</td>\n",
       "      <td>6</td>\n",
       "      <td>11106</td>\n",
       "      <td>1097</td>\n",
       "      <td>4</td>\n",
       "      <td>956715569</td>\n",
       "      <td>E.T. the Extra-Terrestrial (1982)</td>\n",
       "      <td>Children's|Drama|Fantasy|Sci-Fi</td>\n",
       "    </tr>\n",
       "  </tbody>\n",
       "</table>\n",
       "</div>"
      ],
      "text/plain": [
       "        Gender  Age  Occupation Zip-code  MovieID  Rating  Timestamp  \\\n",
       "999867       F   45           0    01060     1097       4  956705811   \n",
       "1000208      M   25           6    11106     1097       4  956715569   \n",
       "\n",
       "                                     Title                            Genre  \n",
       "999867   E.T. the Extra-Terrestrial (1982)  Children's|Drama|Fantasy|Sci-Fi  \n",
       "1000208  E.T. the Extra-Terrestrial (1982)  Children's|Drama|Fantasy|Sci-Fi  "
      ]
     },
     "metadata": {},
     "output_type": "display_data"
    }
   ],
   "source": [
    "df = all_dataset\n",
    "df\n",
    "# eliminar\n",
    "# Eliminación de los duplicados en una columna definida\n",
    "df2 = df.drop_duplicates(subset=\"Gender\", keep='last', inplace=False)\n",
    "display(df2)"
   ]
  },
  {
   "cell_type": "markdown",
   "metadata": {
    "slideshow": {
     "slide_type": "subslide"
    }
   },
   "source": [
    "#### Discretización (valores categóricos)\n",
    "- Tras Series y DataFrame, objeto para categorías: Categorical\n",
    "```python\n",
    "categorias = pd.cut(<valores>, <bins>) \n",
    "```"
   ]
  },
  {
   "cell_type": "code",
   "execution_count": 145,
   "metadata": {
    "ExecuteTime": {
     "end_time": "2024-03-12T16:05:19.200566Z",
     "start_time": "2024-03-12T16:05:19.165154Z"
    },
    "slideshow": {
     "slide_type": "fragment"
    }
   },
   "outputs": [
    {
     "name": "stdout",
     "output_type": "stream",
     "text": [
      "[(0.0, 18.0], (18.0, 35.0], (0.0, 18.0], (65.0, 99.0], (35.0, 65.0], NaN, (0.0, 18.0]]\n",
      "Categories (4, interval[int64, right]): [(0, 18] < (18, 35] < (35, 65] < (65, 99]]\n"
     ]
    }
   ],
   "source": [
    "# especificar los bloques\n",
    "bins = [0,18,35,65,99]\n",
    "edades = [16,25,18,71,44,100,12]\n",
    "categorias = pd.cut(edades,bins) # cut divide los valores en los bloques especificados\n",
    "print(categorias)"
   ]
  },
  {
   "cell_type": "code",
   "execution_count": 146,
   "metadata": {
    "ExecuteTime": {
     "end_time": "2024-03-12T16:05:20.214098Z",
     "start_time": "2024-03-12T16:05:20.205134Z"
    },
    "slideshow": {
     "slide_type": "fragment"
    }
   },
   "outputs": [
    {
     "data": {
      "text/plain": [
       "(0, 18]     3\n",
       "(18, 35]    1\n",
       "(35, 65]    1\n",
       "(65, 99]    1\n",
       "Name: count, dtype: int64"
      ]
     },
     "execution_count": 146,
     "metadata": {},
     "output_type": "execute_result"
    }
   ],
   "source": [
    "categorias.value_counts() # muestra la cantidad de valores en cada bloque"
   ]
  },
  {
   "cell_type": "code",
   "execution_count": null,
   "metadata": {
    "ExecuteTime": {
     "end_time": "2024-03-12T16:05:21.490494Z",
     "start_time": "2024-03-12T16:05:21.481222Z"
    },
    "slideshow": {
     "slide_type": "subslide"
    }
   },
   "outputs": [
    {
     "name": "stdout",
     "output_type": "stream",
     "text": [
      "[(-0.1, 20.0], (-0.1, 20.0], (-0.1, 20.0], (-0.1, 20.0], (20.0, 40.0], (-0.1, 20.0], (60.0, 80.0], (40.0, 60.0], (80.0, 100.0]]\n",
      "Categories (5, interval[float64, right]): [(-0.1, 20.0] < (20.0, 40.0] < (40.0, 60.0] < (60.0, 80.0] < (80.0, 100.0]]\n",
      "(-0.1, 20.0]     5\n",
      "(20.0, 40.0]     1\n",
      "(40.0, 60.0]     1\n",
      "(60.0, 80.0]     1\n",
      "(80.0, 100.0]    1\n",
      "Name: count, dtype: int64\n"
     ]
    }
   ],
   "source": [
    "# especificar el número de bloques\n",
    "bins = 5                         # número de bloques. En este caso, 5 bloques que no se especifican, sino que se generan automáticamente, de forma que tengan una distancia similar entre ellos.\n",
    "edades = [0,6,8,16,25,18,71,44,100]\n",
    "categorias = pd.cut(edades,bins) # rangos idénticos (similar distancia de rangos)\n",
    "print(categorias)                # muestra los bloques en los que se dividen los valores\n",
    "print(categorias.value_counts()) # muestra la cantidad de valores en cada bloque"
   ]
  },
  {
   "cell_type": "code",
   "execution_count": null,
   "metadata": {
    "ExecuteTime": {
     "end_time": "2024-03-12T16:05:22.941835Z",
     "start_time": "2024-03-12T16:05:22.934575Z"
    },
    "slideshow": {
     "slide_type": "subslide"
    }
   },
   "outputs": [
    {
     "name": "stdout",
     "output_type": "stream",
     "text": [
      "[(0.999, 7.2], (0.999, 7.2], (7.2, 16.4], (7.2, 16.4], (23.6, 54.8], (16.4, 23.6], (54.8, 100.0], (23.6, 54.8], (54.8, 100.0]]\n",
      "Categories (5, interval[float64, right]): [(0.999, 7.2] < (7.2, 16.4] < (16.4, 23.6] < (23.6, 54.8] < (54.8, 100.0]]\n",
      "(0.999, 7.2]     2\n",
      "(7.2, 16.4]      2\n",
      "(16.4, 23.6]     1\n",
      "(23.6, 54.8]     2\n",
      "(54.8, 100.0]    2\n",
      "Name: count, dtype: int64\n"
     ]
    }
   ],
   "source": [
    "bins = 5\n",
    "edades = [1,6,8,16,25,18,71,44,100]\n",
    "categorias = pd.qcut(edades,bins) # rangos homogéneos (similar número de valores). qcut divide los valores en bloques de igual tamaño.\n",
    "print(categorias)\n",
    "print(categorias.value_counts())"
   ]
  },
  {
   "cell_type": "markdown",
   "metadata": {
    "collapsed": false
   },
   "source": [
    "## <img src=\"img/by-nc.png\" width=\"200\">"
   ]
  },
  {
   "cell_type": "code",
   "execution_count": null,
   "metadata": {
    "collapsed": false
   },
   "outputs": [],
   "source": []
  }
 ],
 "metadata": {
  "celltoolbar": "Slideshow",
  "kernelspec": {
   "display_name": "Python 3",
   "language": "python",
   "name": "python3"
  },
  "language_info": {
   "codemirror_mode": {
    "name": "ipython",
    "version": 3
   },
   "file_extension": ".py",
   "mimetype": "text/x-python",
   "name": "python",
   "nbconvert_exporter": "python",
   "pygments_lexer": "ipython3",
   "version": "3.11.11"
  }
 },
 "nbformat": 4,
 "nbformat_minor": 4
}
