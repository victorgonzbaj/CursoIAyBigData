{
 "cells": [
  {
   "cell_type": "markdown",
   "metadata": {
    "id": "jalEMP88D-FU"
   },
   "source": [
    "# Ejercicio 1\n",
    "Escribir un programa que muestre por pantalla la cadena ¡Hola Mundo!."
   ]
  },
  {
   "cell_type": "code",
   "execution_count": null,
   "metadata": {
    "id": "iOqZ3JB4D5aN"
   },
   "outputs": [],
   "source": [
    "#respuesta:\n",
    "\n",
    "\n",
    "\n"
   ]
  },
  {
   "cell_type": "markdown",
   "metadata": {
    "id": "2G-ndAplEH47"
   },
   "source": [
    "# Ejercicio 2\n",
    "Escribir un programa que almacene la cadena ¡Hola Mundo! en una variable y luego muestre por pantalla el contenido de la variable."
   ]
  },
  {
   "cell_type": "code",
   "execution_count": null,
   "metadata": {
    "id": "IU6XKJGjEOzD"
   },
   "outputs": [],
   "source": [
    "#respuesta:\n",
    "\n",
    "\n",
    "\n"
   ]
  },
  {
   "cell_type": "markdown",
   "metadata": {
    "id": "AiGFpz4qESDp"
   },
   "source": [
    "# Ejercicio 3\n",
    "Escribir un programa que pregunte el nombre del usuario en la consola y después de que el usuario lo introduzca muestre por pantalla la cadena ¡Hola \\<nombre>!, donde \\<nombre> es el nombre que el usuario haya introducido."
   ]
  },
  {
   "cell_type": "code",
   "execution_count": null,
   "metadata": {
    "id": "HjfpAl0nEb-_"
   },
   "outputs": [],
   "source": [
    "#respuestas:\n",
    "\n",
    "\n",
    "\n"
   ]
  },
  {
   "cell_type": "markdown",
   "metadata": {
    "id": "YgRUX2BTEhiS"
   },
   "source": [
    "# Ejercicio 4:\n",
    "Escribir un programa que muestre por pantalla el resultado de la siguiente operación aritmética: $\\left(\\frac{3+2}{2\\cdot 5}\\right)^2$\n",
    "\n"
   ]
  },
  {
   "cell_type": "code",
   "execution_count": null,
   "metadata": {
    "id": "3Uki5kGqH_eC"
   },
   "outputs": [],
   "source": [
    "#respuesta:\n",
    "\n",
    "\n",
    "\n"
   ]
  },
  {
   "cell_type": "markdown",
   "metadata": {
    "id": "3GUDAMF9JPw_"
   },
   "source": [
    "# Ejercicio 5:\n",
    "Escribir un programa que pregunte al usuario por el número de horas trabajadas y el coste por hora. Después debe mostrar por pantalla la paga que le corresponde."
   ]
  },
  {
   "cell_type": "code",
   "execution_count": null,
   "metadata": {},
   "outputs": [],
   "source": []
  },
  {
   "cell_type": "markdown",
   "metadata": {
    "id": "xO5D-LJ6JVXG"
   },
   "source": [
    "# Ejercicio 6:\n",
    "Escribir un programa que lea un entero positivo, n, introducido por el usuario y después muestre en pantalla la suma de todos los enteros desde 1 hasta n. La suma de los primeros enteros positivos puede ser calculada de la siguiente forma: $\\text{suma} = \\frac{n(n+1)}{2}$\n"
   ]
  },
  {
   "cell_type": "code",
   "execution_count": null,
   "metadata": {
    "id": "f2nHYPd8JhdB"
   },
   "outputs": [],
   "source": [
    "#respuesta:\n",
    "\n",
    "\n",
    "\n"
   ]
  },
  {
   "cell_type": "markdown",
   "metadata": {
    "id": "dxFtV22UKB3v"
   },
   "source": [
    "# Ejercicio 7:\n",
    "Escribir un programa que pida al usuario su peso (en kg) y estatura (en metros), calcule el índice de masa corporal y lo almacene en una variable, y muestre por pantalla la frase \"Tu índice de masa corporal es \\<imc>\" donde \\<imc> es el índice de masa corporal calculado redondeado con dos decimales."
   ]
  },
  {
   "cell_type": "code",
   "execution_count": null,
   "metadata": {
    "id": "fBW2Uje9KS45"
   },
   "outputs": [],
   "source": [
    "#respuesta:\n",
    "\n",
    "\n",
    "\n"
   ]
  },
  {
   "cell_type": "markdown",
   "metadata": {
    "id": "BgbyMPg9LXvY"
   },
   "source": [
    "# Ejercicio 8:\n",
    "Escribir un programa que pida al usuario dos números enteros y muestre por pantalla \"La \\<n> entre \\<m> da un cociente \\<c> y un resto \\<r>\" donde \\<n> y \\<m> son los números introducidos por el usuario, y \\<c> y \\<r> son el cociente y el resto de la división entera respectivamente."
   ]
  },
  {
   "cell_type": "code",
   "execution_count": null,
   "metadata": {
    "id": "ZKHJUlbqLnyI"
   },
   "outputs": [],
   "source": [
    "#respuesta:\n",
    "\n",
    "\n",
    "\n"
   ]
  },
  {
   "cell_type": "markdown",
   "metadata": {
    "id": "io-kGnCaLwP5"
   },
   "source": [
    "# Ejercicio 9:\n",
    "Escribir un programa que pregunte al usuario una cantidad a invertir, el interés anual y el número de años, y muestre por pantalla el capital obtenido en la inversión."
   ]
  },
  {
   "cell_type": "code",
   "execution_count": null,
   "metadata": {
    "id": "avcOBTNqL1A-"
   },
   "outputs": [],
   "source": [
    "#respuesta:\n",
    "\n",
    "\n",
    "\n"
   ]
  },
  {
   "cell_type": "markdown",
   "metadata": {
    "id": "LGyXLn-HL3eU"
   },
   "source": [
    "# Ejercicio 10:\n",
    "Una juguetería tiene mucho éxito en dos de sus productos: payasos y muñecas. Suele hacer venta por correo y la empresa de logística les cobra por peso de cada paquete así que deben calcular el peso de los payasos y muñecas que saldrán en cada paquete a demanda. Cada payaso pesa 112 g y cada muñeca 75 g. Escribir un programa que lea el número de payasos y muñecas vendidos en el último pedido y calcule el peso total del paquete que será enviado."
   ]
  },
  {
   "cell_type": "code",
   "execution_count": null,
   "metadata": {
    "id": "IV3U_R7kMBW9"
   },
   "outputs": [],
   "source": [
    "#respuesta:\n",
    "\n",
    "\n",
    "\n"
   ]
  },
  {
   "cell_type": "markdown",
   "metadata": {
    "id": "5v3Q4CC1MDa2"
   },
   "source": [
    "# Ejercicio 11:\n",
    "Imagina que acabas de abrir una nueva cuenta de ahorros que te ofrece el 4% de interés al año. Estos ahorros debido a intereses, que no se cobran hasta finales de año, se te añaden al balance final de tu cuenta de ahorros. Escribir un programa que comience leyendo la cantidad de dinero depositada en la cuenta de ahorros, introducida por el usuario. Después el programa debe calcular y mostrar por pantalla la cantidad de ahorros tras el primer, segundo y tercer años. Redondear cada cantidad a dos decimales."
   ]
  },
  {
   "cell_type": "code",
   "execution_count": null,
   "metadata": {
    "id": "RirCLxFXMMJw"
   },
   "outputs": [],
   "source": [
    "#respuesta:\n",
    "\n",
    "\n",
    "\n"
   ]
  },
  {
   "cell_type": "markdown",
   "metadata": {
    "id": "joIwZuXoMTLP"
   },
   "source": [
    "# Ejercicio 12:\n",
    "Una panadería vende barras de pan a 3.49€ cada una. El pan que no es el día tiene un descuento del 60%. Escribir un programa que comience leyendo el número de barras vendidas que no son del día. Después el programa debe mostrar el precio habitual de una barra de pan, el descuento que se le hace por no ser fresca y el coste final total."
   ]
  },
  {
   "cell_type": "code",
   "execution_count": null,
   "metadata": {
    "id": "4QHr1OlRMWGw"
   },
   "outputs": [],
   "source": [
    "#respuesta:\n",
    "\n",
    "\n",
    "\n"
   ]
  }
 ],
 "metadata": {
  "colab": {
   "name": "Ejercicios Python tipos de datos simples.ipynb",
   "provenance": []
  },
  "kernelspec": {
   "display_name": "Python 3",
   "name": "python3"
  },
  "language_info": {
   "name": "python"
  }
 },
 "nbformat": 4,
 "nbformat_minor": 0
}
