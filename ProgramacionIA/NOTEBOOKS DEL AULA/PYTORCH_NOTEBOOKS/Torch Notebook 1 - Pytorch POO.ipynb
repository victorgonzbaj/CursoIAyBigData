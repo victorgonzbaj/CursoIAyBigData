{
 "cells": [
  {
   "cell_type": "markdown",
   "id": "efaa3a727343467c",
   "metadata": {
    "collapsed": false
   },
   "source": [
    "# Conceptos básicos de POO en PYTORCH - Pytorch Notebook 1"
   ]
  },
  {
   "cell_type": "markdown",
   "id": "5aca1e26",
   "metadata": {},
   "source": [
    "<img src=\"./img/PyTorchLogo.jpg\">"
   ]
  },
  {
   "cell_type": "markdown",
   "id": "b8e62c0c",
   "metadata": {},
   "source": [
    "PyTorch se está convirtiendo en un framework de referencia para la investigación y desarrollo de modelos de inteligencia artificial y deep learning. Ofrece una serie de beneficios que lo convierten en un framework muy ágil, flexible y potente:\n",
    "\n",
    "- Fácil de implementar, programar y depurar.\n",
    "- Permite controlar al detalle las computaciones realizadas y es eficiente en ejecución.\n",
    "- Es imperativo, realizando las computaciones de manera flexible mientras se ejecuta.\n",
    "- Integración con CUDA para facilitar su ejecución en GPUs."
   ]
  },
  {
   "cell_type": "markdown",
   "id": "daea956fde5d4497",
   "metadata": {
    "collapsed": false
   },
   "source": [
    "Nota: para instalar Pytorch con 'pip' se debe ejecutar el siguiente código desde el terminal:"
   ]
  },
  {
   "cell_type": "code",
   "execution_count": null,
   "id": "da99a57d74fbc296",
   "metadata": {
    "collapsed": false
   },
   "outputs": [],
   "source": [
    "# pip3 install torch torchvision torchaudio"
   ]
  },
  {
   "cell_type": "markdown",
   "id": "62ff9720f20486f3",
   "metadata": {
    "collapsed": false
   },
   "source": [
    "La programación orientada a objetos es un paradigma de programación que permite estructurar los programas para que las propiedades y los comportamientos se agrupen en objetos individuales.\n",
    "\n",
    "Por ejemplo, en PyTorch una de las clases más importantes de torch.nn es torch.nn.Module ya que nos permite extenderla y usar multitud de métodos y atributos interesantes.\n",
    "\n",
    "A continuación presentamos de manera resumida algunos conceptos de programación orientada a objetos:\n",
    "\n",
    "- Clase: Es un modelo que define los elementos necesarios para crear un objeto que pertenezca a esta clase.\n",
    "- Objeto: Es una instancia de una clase con atributos concretos.\n",
    "- Atributos: Tanto las clases como los objetos pueden tener atributos, que son características de estos. Los atributos pueden ser del objeto, que son específicos de la instancia, o de la clase, que son los mismos para todas las instancias de una clase.\n",
    "init(): Todas las clases tienen este método, que se ejecuta cuando la clase está siendo instanciada y se crea un objeto. Se utiliza para asignar valores a los atributos de un objeto.\n",
    "- Parámetro self: Es una referencia a la instancia actual de la clase. Usándolo podemos acceder a los atributos y métodos de la clase en Python.\n",
    "- Métodos del objeto: Los objetos también contienen métodos, que son funciones que especifican un comportamiento determinado.   \n",
    "\n",
    "A continuación mostramos como ejemplo una clase con dos atributos, el método init() y un método definido. Creamos una instancia u objeto de la clase y llamamos al método del objeto."
   ]
  },
  {
   "cell_type": "code",
   "execution_count": 1,
   "id": "initial_id",
   "metadata": {
    "ExecuteTime": {
     "end_time": "2024-11-03T17:24:50.910007Z",
     "start_time": "2024-11-03T17:24:50.905261Z"
    },
    "collapsed": true
   },
   "outputs": [],
   "source": [
    "#Definimos la clase\n",
    "class Person:\n",
    "  def __init__(self, name, age):\n",
    "    self.name = name\n",
    "    self.age = age\n",
    "\n",
    "  #Definimos el método myfunc dentro de la clase\n",
    "  def myfunc(self):\n",
    "    print(\"Hola mi nombre es \" + self.name)\n",
    "\n",
    "#Creamos una instancia de la clase con los atributos Jordi y 55\n",
    "p1 = Person(\"Jordi\", 55)"
   ]
  },
  {
   "cell_type": "code",
   "execution_count": 2,
   "id": "bb7fcdbc72ad75ea",
   "metadata": {
    "ExecuteTime": {
     "end_time": "2024-11-03T17:24:52.207528Z",
     "start_time": "2024-11-03T17:24:52.203886Z"
    },
    "collapsed": false
   },
   "outputs": [
    {
     "name": "stdout",
     "output_type": "stream",
     "text": [
      "Hola mi nombre es Jordi\n"
     ]
    }
   ],
   "source": [
    "#Llamamos al método myfunc de la instancia creada\n",
    "p1.myfunc()"
   ]
  },
  {
   "cell_type": "markdown",
   "id": "38985758584273a1",
   "metadata": {
    "collapsed": false
   },
   "source": [
    "En el ejemplo anterior, hemos visto como una clase se puede llamar directamente para crear una instancia u objeto. En cambio, para que un objeto sea “llamable”, la clase correspondiente tiene que tener definido el método call().\n",
    "\n",
    "A continuación vamos a definir el método call() en la definición de la clase para que el objeto sea “llamable” directamente."
   ]
  },
  {
   "cell_type": "code",
   "execution_count": 3,
   "id": "c8451ddaaff3025f",
   "metadata": {
    "ExecuteTime": {
     "end_time": "2024-11-03T17:26:07.214379Z",
     "start_time": "2024-11-03T17:26:07.210519Z"
    },
    "collapsed": false
   },
   "outputs": [],
   "source": [
    "#Definimos la clase\n",
    "class Person:\n",
    "  def __init__(self, name, age):\n",
    "    self.name = name\n",
    "    self.age = age\n",
    "\n",
    "  #Definimos el método __call__() dentro de la clase\n",
    "  def __call__(self):\n",
    "    return self.age  \n",
    "  \n",
    "  #Definimos el método myfunc dentro de la clase\n",
    "  def myfunc(self):\n",
    "    print(\"Hola mi nombre es \" + self.name)\n",
    "\n",
    "#Creamos una instancia de la clase con los atributos Jordi y 55\n",
    "p1 = Person(\"Jordi\", 55)"
   ]
  },
  {
   "cell_type": "code",
   "execution_count": 4,
   "id": "b13d485240589d6a",
   "metadata": {
    "ExecuteTime": {
     "end_time": "2024-11-03T17:26:10.153274Z",
     "start_time": "2024-11-03T17:26:10.145738Z"
    },
    "collapsed": false
   },
   "outputs": [
    {
     "data": {
      "text/plain": [
       "55"
      ]
     },
     "execution_count": 4,
     "metadata": {},
     "output_type": "execute_result"
    }
   ],
   "source": [
    "#Llamamos directamente a la instancia creada\n",
    "p1()"
   ]
  },
  {
   "cell_type": "markdown",
   "id": "54139182557ada5",
   "metadata": {
    "collapsed": false
   },
   "source": [
    "Otro concepto muy importante en la programación orientada a objetos es el de la herencia, que permite que una clase use los atributos y métodos de otra. La clase hijo se deriva de la clase padre.\n",
    "\n",
    "La clase hijo sobreescribe o extiende la funcionalidad (métodos y atributos) de la clase padre, es decir, hereda todos los métodos y atributos de la clase padre pero también puede modificarlos o definir los suyos propios.\n",
    "\n",
    "En PyTorch, cuando definimos un modelo de deep learning, normalmente definimos una clase que extiende la clase torch.nn.Module, para aprovechar los atributos y métodos que está clase tiene definidos.\n",
    "\n",
    "Para ello, es necesario:\n",
    "\n",
    "En el constructor del modelo init() inicializamos la superclase con super.init(), de esta forma podemos usar los atributos de la clase padre torch.nn.Module.\n",
    "En init() también definimos los componentes que queremos que tenga el modelo, como por ejemplo cada una de las capas.\n",
    "Sobreescribimos el método forward que realiza el forward pass con las operaciones para calcular la/s salida/s.\n",
    "El método call() llama al método forward por lo que el objeto creado cuando instanciamos la clase definida será directamente “llamable”.   \n",
    "\n",
    "\n",
    "A continuación vamos a definir la clase Net, que extiende la clase nn.Module definiendo una red neuronal con una capa intermedia."
   ]
  },
  {
   "cell_type": "code",
   "execution_count": 1,
   "id": "eeaad702da6df400",
   "metadata": {
    "ExecuteTime": {
     "end_time": "2024-11-03T17:33:37.522180Z",
     "start_time": "2024-11-03T17:33:35.398214Z"
    },
    "collapsed": false
   },
   "outputs": [],
   "source": [
    "import torch\n",
    "import torch.nn as nn\n",
    "\n",
    "class Net(nn.Module):\n",
    "    def __init__(self, input_size, hidden_size, num_classes):\n",
    "        super(Net, self).__init__()                    \n",
    "        self.fc1 = nn.Linear(input_size, hidden_size)  \n",
    "        self.relu = nn.ReLU()                          \n",
    "        self.fc2 = nn.Linear(hidden_size, num_classes) \n",
    "    \n",
    "    def forward(self, x):                              \n",
    "        out = self.fc1(x)\n",
    "        out = self.relu(out)\n",
    "        out = self.fc2(out)\n",
    "        return out"
   ]
  },
  {
   "cell_type": "markdown",
   "id": "e6082e104ed9d64c",
   "metadata": {
    "collapsed": false
   },
   "source": [
    "Como se puede ver, en el constructor *init()* inicializamos la superclase nn.Module y definimos la capa lineal, la función de activación ReLU y una última capa lineal. Sobreescribimos el método forward con el flujo de operaciones a realizar a partir de la entrada x.\n",
    "\n",
    "Ahora creamos una instancia u objeto del modelo con los parámetros especificados en init() y llamamos directamente a la instancia creada “modelo1” pasándole el tensor de entrada x. In [5]:"
   ]
  },
  {
   "cell_type": "code",
   "execution_count": 2,
   "id": "54c95886a9e0952f",
   "metadata": {
    "ExecuteTime": {
     "end_time": "2024-11-03T17:34:03.610198Z",
     "start_time": "2024-11-03T17:34:03.525259Z"
    },
    "collapsed": false
   },
   "outputs": [
    {
     "name": "stdout",
     "output_type": "stream",
     "text": [
      "tensor([-0.1474,  0.0213,  0.0752, -0.1529,  0.2231, -0.0070, -0.0921, -0.0425,\n",
      "        -0.1201, -0.1651], grad_fn=<ViewBackward0>)\n",
      "Net(\n",
      "  (fc1): Linear(in_features=150, out_features=200, bias=True)\n",
      "  (relu): ReLU()\n",
      "  (fc2): Linear(in_features=200, out_features=10, bias=True)\n",
      ")\n"
     ]
    }
   ],
   "source": [
    "#Creamos una instancia del modelo\n",
    "modelo1=Net(150,200,10)\n",
    "#Llamamos a la instancia creada para calcular la salida\n",
    "x=torch.rand(150)\n",
    "output=modelo1(x)\n",
    "print(output)\n",
    "\n",
    "#Vemos la estructura del modelo\n",
    "print(modelo1)"
   ]
  },
  {
   "cell_type": "code",
   "execution_count": null,
   "id": "719e3b26230d6004",
   "metadata": {
    "collapsed": false
   },
   "outputs": [],
   "source": []
  }
 ],
 "metadata": {
  "kernelspec": {
   "display_name": "env_ceia",
   "language": "python",
   "name": "python3"
  },
  "language_info": {
   "codemirror_mode": {
    "name": "ipython",
    "version": 3
   },
   "file_extension": ".py",
   "mimetype": "text/x-python",
   "name": "python",
   "nbconvert_exporter": "python",
   "pygments_lexer": "ipython3",
   "version": "3.11.6"
  }
 },
 "nbformat": 4,
 "nbformat_minor": 5
}
