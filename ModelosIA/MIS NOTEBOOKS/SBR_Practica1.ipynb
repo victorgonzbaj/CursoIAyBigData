{
 "cells": [
  {
   "cell_type": "markdown",
   "metadata": {},
   "source": [
    "# Módulo: MODELOS DE INTELIGENCIA ARTIFICIAL\n",
    "## Ejercicio práctico 1.\n",
    "## Sistema Basado en Reglas   \n",
    "### Análisis de la calidad del aire\n",
    "\n",
    "De forma similar a lo realizado en el notebook SBR_IRIS, construye un sistema de clasificación de la calidad del aire (AirQuality - AQI) en función de la cantidad de Ozono detectado en el mismo.   \n",
    "Los valores del nivel de AQI se muestran en la siguiente tabla:  \n",
    "\n",
    "\n",
    "| NIVEL AQI | RANGO-DESCRIPCIÓN|\n",
    "|:---------:|:----------------:|\n",
    "|   BUENO   |     0 - 50       |\n",
    "| MODERADO  |    51 - 100      |\n",
    "|CONTAMINADO|   101 - 150      |\n",
    "|  INSANO   |   151 - 200      |\n",
    "| PELIGROSO |       > 200      |\n",
    "\n",
    "Se pide intentar establecer la clasificación según la tabla anterior en base a alguna de las características que conforman el dataset (Valor de O2, Valor de CO, Valor de NO2, Valor de PM2.5, Longitud y Latitud).   \n",
    "Como los datos son numéricos y no faltan valores, no se requiere ningún procesamiento previo.   \n",
    "\n",
    "Nuestro objetivo es predecir el AQI, por lo que esta tarea sería de clasificación o de regresión, pero en este caso vamos a tratar de establecer un SBR basado en una de las variables independientes citadas."
   ]
  },
  {
   "cell_type": "markdown",
   "metadata": {},
   "source": [
    "<u>Nota sobre la característica ***PM2.5***</u> :   \n",
    "Este valor se corresponde con la concentración del material particulado (*PM - Particulate Matter*) de la fracción de tamaño PM2,5 (2.5 micrometros), el cúal se encuentra íntimamente asociado a problemas de salud dado que entre sus efectos aparecen impactos claros sobre las enfermedades cardiacas y pulmonares.   "
   ]
  },
  {
   "cell_type": "markdown",
   "metadata": {},
   "source": [
    "### Importamos librerías necesarias"
   ]
  },
  {
   "cell_type": "code",
   "execution_count": 69,
   "metadata": {},
   "outputs": [],
   "source": [
    "import pandas as pd\n",
    "import matplotlib.pyplot as plt\n",
    "from sklearn.model_selection import train_test_split\n",
    "import seaborn as sns\n",
    "\n",
    "# Ocultamos los warnings de las librerías\n",
    "import warnings\n",
    "warnings.filterwarnings(\"ignore\")\n",
    "# ------------------------------------------------"
   ]
  },
  {
   "cell_type": "markdown",
   "metadata": {},
   "source": [
    "### Cargamos dataset *airquality.csv*"
   ]
  },
  {
   "cell_type": "code",
   "execution_count": 70,
   "metadata": {},
   "outputs": [],
   "source": [
    "# Cargamos el dataset\n",
    "data = pd.read_csv('datasets/airquality.csv')"
   ]
  },
  {
   "cell_type": "markdown",
   "metadata": {},
   "source": [
    "### Análisis breve del dataset (EDA)"
   ]
  },
  {
   "cell_type": "code",
   "execution_count": 71,
   "metadata": {},
   "outputs": [
    {
     "data": {
      "text/html": [
       "<div>\n",
       "<style scoped>\n",
       "    .dataframe tbody tr th:only-of-type {\n",
       "        vertical-align: middle;\n",
       "    }\n",
       "\n",
       "    .dataframe tbody tr th {\n",
       "        vertical-align: top;\n",
       "    }\n",
       "\n",
       "    .dataframe thead th {\n",
       "        text-align: right;\n",
       "    }\n",
       "</style>\n",
       "<table border=\"1\" class=\"dataframe\">\n",
       "  <thead>\n",
       "    <tr style=\"text-align: right;\">\n",
       "      <th></th>\n",
       "      <th>AQI Value</th>\n",
       "      <th>CO AQI Value</th>\n",
       "      <th>Ozone AQI Value</th>\n",
       "      <th>NO2 AQI Value</th>\n",
       "      <th>PM2.5 AQI Value</th>\n",
       "      <th>lat</th>\n",
       "      <th>lng</th>\n",
       "    </tr>\n",
       "  </thead>\n",
       "  <tbody>\n",
       "    <tr>\n",
       "      <th>0</th>\n",
       "      <td>51</td>\n",
       "      <td>1</td>\n",
       "      <td>36</td>\n",
       "      <td>0</td>\n",
       "      <td>51</td>\n",
       "      <td>44.7444</td>\n",
       "      <td>44.2031</td>\n",
       "    </tr>\n",
       "    <tr>\n",
       "      <th>1</th>\n",
       "      <td>41</td>\n",
       "      <td>1</td>\n",
       "      <td>5</td>\n",
       "      <td>1</td>\n",
       "      <td>41</td>\n",
       "      <td>-5.2900</td>\n",
       "      <td>-44.4900</td>\n",
       "    </tr>\n",
       "    <tr>\n",
       "      <th>2</th>\n",
       "      <td>41</td>\n",
       "      <td>1</td>\n",
       "      <td>5</td>\n",
       "      <td>1</td>\n",
       "      <td>41</td>\n",
       "      <td>-11.2958</td>\n",
       "      <td>-41.9869</td>\n",
       "    </tr>\n",
       "    <tr>\n",
       "      <th>3</th>\n",
       "      <td>66</td>\n",
       "      <td>1</td>\n",
       "      <td>39</td>\n",
       "      <td>2</td>\n",
       "      <td>66</td>\n",
       "      <td>37.1667</td>\n",
       "      <td>15.1833</td>\n",
       "    </tr>\n",
       "    <tr>\n",
       "      <th>4</th>\n",
       "      <td>34</td>\n",
       "      <td>1</td>\n",
       "      <td>34</td>\n",
       "      <td>0</td>\n",
       "      <td>20</td>\n",
       "      <td>53.0167</td>\n",
       "      <td>20.8833</td>\n",
       "    </tr>\n",
       "  </tbody>\n",
       "</table>\n",
       "</div>"
      ],
      "text/plain": [
       "   AQI Value  CO AQI Value  Ozone AQI Value  NO2 AQI Value  PM2.5 AQI Value  \\\n",
       "0         51             1               36              0               51   \n",
       "1         41             1                5              1               41   \n",
       "2         41             1                5              1               41   \n",
       "3         66             1               39              2               66   \n",
       "4         34             1               34              0               20   \n",
       "\n",
       "       lat      lng  \n",
       "0  44.7444  44.2031  \n",
       "1  -5.2900 -44.4900  \n",
       "2 -11.2958 -41.9869  \n",
       "3  37.1667  15.1833  \n",
       "4  53.0167  20.8833  "
      ]
     },
     "execution_count": 71,
     "metadata": {},
     "output_type": "execute_result"
    }
   ],
   "source": [
    "data.head()"
   ]
  },
  {
   "cell_type": "code",
   "execution_count": 72,
   "metadata": {},
   "outputs": [
    {
     "name": "stdout",
     "output_type": "stream",
     "text": [
      "Numero de registros (filas): 16695\n",
      "Tipos de los datos\n"
     ]
    },
    {
     "data": {
      "text/plain": [
       "AQI Value            int64\n",
       "CO AQI Value         int64\n",
       "Ozone AQI Value      int64\n",
       "NO2 AQI Value        int64\n",
       "PM2.5 AQI Value      int64\n",
       "lat                float64\n",
       "lng                float64\n",
       "dtype: object"
      ]
     },
     "execution_count": 72,
     "metadata": {},
     "output_type": "execute_result"
    }
   ],
   "source": [
    "print(\"Numero de registros (filas):\", data.shape[0])\n",
    "print(\"Tipos de los datos\")\n",
    "data.dtypes"
   ]
  },
  {
   "cell_type": "code",
   "execution_count": 73,
   "metadata": {},
   "outputs": [
    {
     "name": "stdout",
     "output_type": "stream",
     "text": [
      "<class 'pandas.core.frame.DataFrame'>\n",
      "RangeIndex: 16695 entries, 0 to 16694\n",
      "Data columns (total 7 columns):\n",
      " #   Column           Non-Null Count  Dtype  \n",
      "---  ------           --------------  -----  \n",
      " 0   AQI Value        16695 non-null  int64  \n",
      " 1   CO AQI Value     16695 non-null  int64  \n",
      " 2   Ozone AQI Value  16695 non-null  int64  \n",
      " 3   NO2 AQI Value    16695 non-null  int64  \n",
      " 4   PM2.5 AQI Value  16695 non-null  int64  \n",
      " 5   lat              16695 non-null  float64\n",
      " 6   lng              16695 non-null  float64\n",
      "dtypes: float64(2), int64(5)\n",
      "memory usage: 913.1 KB\n"
     ]
    }
   ],
   "source": [
    "data.info()"
   ]
  },
  {
   "cell_type": "code",
   "execution_count": 74,
   "metadata": {},
   "outputs": [
    {
     "data": {
      "text/html": [
       "<div>\n",
       "<style scoped>\n",
       "    .dataframe tbody tr th:only-of-type {\n",
       "        vertical-align: middle;\n",
       "    }\n",
       "\n",
       "    .dataframe tbody tr th {\n",
       "        vertical-align: top;\n",
       "    }\n",
       "\n",
       "    .dataframe thead th {\n",
       "        text-align: right;\n",
       "    }\n",
       "</style>\n",
       "<table border=\"1\" class=\"dataframe\">\n",
       "  <thead>\n",
       "    <tr style=\"text-align: right;\">\n",
       "      <th></th>\n",
       "      <th>AQI Value</th>\n",
       "      <th>CO AQI Value</th>\n",
       "      <th>Ozone AQI Value</th>\n",
       "      <th>NO2 AQI Value</th>\n",
       "      <th>PM2.5 AQI Value</th>\n",
       "      <th>lat</th>\n",
       "      <th>lng</th>\n",
       "    </tr>\n",
       "  </thead>\n",
       "  <tbody>\n",
       "    <tr>\n",
       "      <th>count</th>\n",
       "      <td>16695.000000</td>\n",
       "      <td>16695.000000</td>\n",
       "      <td>16695.000000</td>\n",
       "      <td>16695.000000</td>\n",
       "      <td>16695.000000</td>\n",
       "      <td>16695.000000</td>\n",
       "      <td>16695.000000</td>\n",
       "    </tr>\n",
       "    <tr>\n",
       "      <th>mean</th>\n",
       "      <td>62.998682</td>\n",
       "      <td>1.342138</td>\n",
       "      <td>31.767355</td>\n",
       "      <td>3.819647</td>\n",
       "      <td>59.821324</td>\n",
       "      <td>30.267148</td>\n",
       "      <td>-3.944485</td>\n",
       "    </tr>\n",
       "    <tr>\n",
       "      <th>std</th>\n",
       "      <td>43.091971</td>\n",
       "      <td>2.371379</td>\n",
       "      <td>22.839343</td>\n",
       "      <td>5.880677</td>\n",
       "      <td>43.208298</td>\n",
       "      <td>22.947398</td>\n",
       "      <td>73.037148</td>\n",
       "    </tr>\n",
       "    <tr>\n",
       "      <th>min</th>\n",
       "      <td>7.000000</td>\n",
       "      <td>0.000000</td>\n",
       "      <td>0.000000</td>\n",
       "      <td>0.000000</td>\n",
       "      <td>0.000000</td>\n",
       "      <td>-54.801900</td>\n",
       "      <td>-171.750000</td>\n",
       "    </tr>\n",
       "    <tr>\n",
       "      <th>25%</th>\n",
       "      <td>38.500000</td>\n",
       "      <td>1.000000</td>\n",
       "      <td>20.000000</td>\n",
       "      <td>0.000000</td>\n",
       "      <td>34.000000</td>\n",
       "      <td>16.515450</td>\n",
       "      <td>-75.180000</td>\n",
       "    </tr>\n",
       "    <tr>\n",
       "      <th>50%</th>\n",
       "      <td>52.000000</td>\n",
       "      <td>1.000000</td>\n",
       "      <td>29.000000</td>\n",
       "      <td>2.000000</td>\n",
       "      <td>52.000000</td>\n",
       "      <td>38.815800</td>\n",
       "      <td>5.643100</td>\n",
       "    </tr>\n",
       "    <tr>\n",
       "      <th>75%</th>\n",
       "      <td>69.000000</td>\n",
       "      <td>1.000000</td>\n",
       "      <td>38.000000</td>\n",
       "      <td>5.000000</td>\n",
       "      <td>69.000000</td>\n",
       "      <td>46.683300</td>\n",
       "      <td>36.275000</td>\n",
       "    </tr>\n",
       "    <tr>\n",
       "      <th>max</th>\n",
       "      <td>500.000000</td>\n",
       "      <td>133.000000</td>\n",
       "      <td>222.000000</td>\n",
       "      <td>91.000000</td>\n",
       "      <td>500.000000</td>\n",
       "      <td>70.767000</td>\n",
       "      <td>178.017800</td>\n",
       "    </tr>\n",
       "  </tbody>\n",
       "</table>\n",
       "</div>"
      ],
      "text/plain": [
       "          AQI Value  CO AQI Value  Ozone AQI Value  NO2 AQI Value  \\\n",
       "count  16695.000000  16695.000000     16695.000000   16695.000000   \n",
       "mean      62.998682      1.342138        31.767355       3.819647   \n",
       "std       43.091971      2.371379        22.839343       5.880677   \n",
       "min        7.000000      0.000000         0.000000       0.000000   \n",
       "25%       38.500000      1.000000        20.000000       0.000000   \n",
       "50%       52.000000      1.000000        29.000000       2.000000   \n",
       "75%       69.000000      1.000000        38.000000       5.000000   \n",
       "max      500.000000    133.000000       222.000000      91.000000   \n",
       "\n",
       "       PM2.5 AQI Value           lat           lng  \n",
       "count     16695.000000  16695.000000  16695.000000  \n",
       "mean         59.821324     30.267148     -3.944485  \n",
       "std          43.208298     22.947398     73.037148  \n",
       "min           0.000000    -54.801900   -171.750000  \n",
       "25%          34.000000     16.515450    -75.180000  \n",
       "50%          52.000000     38.815800      5.643100  \n",
       "75%          69.000000     46.683300     36.275000  \n",
       "max         500.000000     70.767000    178.017800  "
      ]
     },
     "execution_count": 74,
     "metadata": {},
     "output_type": "execute_result"
    }
   ],
   "source": [
    "data.describe()"
   ]
  },
  {
   "cell_type": "markdown",
   "metadata": {},
   "source": [
    "### Definicion y construccion del SBR\n",
    "**Atributos**\n",
    "    - self.rules: Es una lista que almacena las reglas del sistema. Cada regla es una tupla que contiene:\n",
    "        - Una función de condición (condition): Evalúa si una regla es aplicable dado el valor de calidad del aire.\n",
    "        - Una cadena con la categoria o etiqueta (label): Define la categoria del aire si la condición es verdadera.\n",
    "    - self.data: Es un diccionario que actúa como la base de conocimiento del sistema.\n",
    "Métodos:\n",
    "- **load_data(file_path):** Carga los datos desde un archivo CSV.\n",
    "- **add_rule(condition, label):** Agrega una nueva regla de clasificación con la correspondiente categoria o etiqueta.\n",
    "- **classify(value):** Aplica las reglas a un valor individual y devuelve su categoría.\n",
    "- **apply_rules(column, new_column):** Clasifica los valores de una columna del dataset cargado y escribe en una columna la categoria correspondiente.\n",
    "\n",
    "Posteriormente se contruye el sbr y se cargan los datos de \"airquality.csv\"\n"
   ]
  },
  {
   "cell_type": "code",
   "execution_count": 75,
   "metadata": {},
   "outputs": [],
   "source": [
    "class AirQualityRuleSystem:\n",
    "    def __init__(self):\n",
    "        self.rules = []\n",
    "        self.data = None\n",
    "\n",
    "    def load_data(self, file_path):\n",
    "        #Carga el dataset de calidad del aire.\n",
    "        self.data = pd.read_csv(file_path)\n",
    "    \n",
    "    def add_rule(self, condition, label):\n",
    "        #Agrega una regla de clasificación.\n",
    "        self.rules.append((condition, label))\n",
    "    \n",
    "    def classify(self, value):\n",
    "        #Clasifica un valor de calidad del aire según las reglas definidas.\n",
    "        for condition, label in self.rules:\n",
    "            if condition(value):\n",
    "                return label\n",
    "        return \"Desconocido\"\n",
    "    \n",
    "    def apply_rules(self, column, new_column):\n",
    "        \"\"\"Aplica las reglas a una columna del dataset y almacena el resultado en una nueva columna.\"\"\"\n",
    "        if self.data is not None and column in self.data.columns:\n",
    "            self.data[new_column] = self.data[column].apply(self.classify)\n",
    "        else:\n",
    "            print(\"Error: Datos no cargados o columna inválida\")\n",
    "\n",
    "sbr_AQI = AirQualityRuleSystem()\n",
    "sbr_AQI.load_data('datasets/airquality.csv')"
   ]
  },
  {
   "cell_type": "markdown",
   "metadata": {},
   "source": [
    "### Definición de reglas\n",
    "Las reglas son funciones que reciben como parámetro el diccionario de calidad del aire  y devuelven una etiqueta.  \n",
    "Cada regla representa una condición que debe cumplirse para que se categorice la calidad del aire. "
   ]
  },
  {
   "cell_type": "code",
   "execution_count": 76,
   "metadata": {},
   "outputs": [],
   "source": [
    "sbr_AQI.add_rule(lambda x: x > 200, \"Peligroso\")\n",
    "sbr_AQI.add_rule(lambda x: x > 151, \"Insano\")\n",
    "sbr_AQI.add_rule(lambda x: x > 101, \"Contaminado\")\n",
    "sbr_AQI.add_rule(lambda x: x > 51, \"Moderado\")\n",
    "sbr_AQI.add_rule(lambda x: x <= 51, \"Bueno\")"
   ]
  },
  {
   "cell_type": "markdown",
   "metadata": {},
   "source": [
    "### Aplicación de reglas"
   ]
  },
  {
   "cell_type": "code",
   "execution_count": 77,
   "metadata": {},
   "outputs": [],
   "source": [
    "sbr_AQI.apply_rules(\"AQI Value\", \"AirQualityLabel\")"
   ]
  },
  {
   "cell_type": "markdown",
   "metadata": {},
   "source": [
    "### Visualización gráfica"
   ]
  },
  {
   "cell_type": "code",
   "execution_count": 78,
   "metadata": {},
   "outputs": [
    {
     "name": "stdout",
     "output_type": "stream",
     "text": [
      "   AQI Value  CO AQI Value  Ozone AQI Value  NO2 AQI Value  PM2.5 AQI Value  \\\n",
      "0         51             1               36              0               51   \n",
      "1         41             1                5              1               41   \n",
      "2         41             1                5              1               41   \n",
      "3         66             1               39              2               66   \n",
      "4         34             1               34              0               20   \n",
      "\n",
      "       lat      lng AirQualityLabel  \n",
      "0  44.7444  44.2031           Bueno  \n",
      "1  -5.2900 -44.4900           Bueno  \n",
      "2 -11.2958 -41.9869           Bueno  \n",
      "3  37.1667  15.1833        Moderado  \n",
      "4  53.0167  20.8833           Bueno  \n"
     ]
    }
   ],
   "source": [
    "print(sbr_AQI.data.head())"
   ]
  },
  {
   "cell_type": "code",
   "execution_count": null,
   "metadata": {},
   "outputs": [
    {
     "data": {
      "image/png": "[encoded data removed]",
      "text/plain": [
       "<Figure size 640x480 with 1 Axes>"
      ]
     },
     "metadata": {},
     "output_type": "display_data"
    }
   ],
   "source": [
    "def plot_distribution(data, column):\n",
    "    \"\"\"Grafica la distribución de etiquetas de calidad del aire.\"\"\"\n",
    "    if column in data.columns:\n",
    "        data[column].value_counts().plot(kind='bar')\n",
    "        plt.xlabel(\"Categoría de Calidad del Aire\")\n",
    "        plt.ylabel(\"Frecuencia\")\n",
    "        plt.title(\"Distribución de Calidad del Aire\")\n",
    "        plt.xticks(rotation=45)\n",
    "        plt.show()\n",
    "    else:\n",
    "        print(\"Error: Columna inválida\")\n",
    "\n",
    "plot_distribution(sbr_AQI.data, \"AirQualityLabel\")\n",
    "\n"
   ]
  }
 ],
 "metadata": {
  "kernelspec": {
   "display_name": "Python 3",
   "language": "python",
   "name": "python3"
  },
  "language_info": {
   "codemirror_mode": {
    "name": "ipython",
    "version": 3
   },
   "file_extension": ".py",
   "mimetype": "text/x-python",
   "name": "python",
   "nbconvert_exporter": "python",
   "pygments_lexer": "ipython3",
   "version": "3.12.7"
  }
 },
 "nbformat": 4,
 "nbformat_minor": 2
}
